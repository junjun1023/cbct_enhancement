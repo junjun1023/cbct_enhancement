{
 "cells": [
  {
   "cell_type": "code",
   "execution_count": 1,
   "metadata": {},
   "outputs": [],
   "source": [
    "import os\n",
    "\n",
    "import torch\n",
    "import torch.nn as nn\n",
    "import torch.nn.functional as F\n",
    "import torch.optim as optim\n",
    "from torch.utils.data import DataLoader, Subset, ConcatDataset\n",
    "\n",
    "import cv2\n",
    "import numpy as np\n",
    "import pandas as pd\n",
    "from tqdm import tqdm\n",
    "import random\n",
    "import json"
   ]
  },
  {
   "cell_type": "code",
   "execution_count": 2,
   "metadata": {},
   "outputs": [],
   "source": [
    "import segmentation_models_pytorch as smp\n",
    "from segmentation_models_pytorch.losses import DiceLoss\n",
    "from segmentation_models_pytorch.utils.metrics import IoU, Fscore, Accuracy"
   ]
  },
  {
   "cell_type": "code",
   "execution_count": 3,
   "metadata": {},
   "outputs": [],
   "source": [
    "import matplotlib.pyplot as plt\n",
    "\n",
    "# helper function for data visualization\n",
    "def visualize(**images):\n",
    "    \"\"\"PLot images in one row.\"\"\"\n",
    "    n = len(images)\n",
    "    plt.figure(figsize=(16, 5))\n",
    "    for i, (name, image) in enumerate(images.items()):\n",
    "        plt.subplot(1, n, i + 1)\n",
    "        plt.xticks([])\n",
    "        plt.yticks([])\n",
    "        plt.title(' '.join(name.split('_')).title())\n",
    "        plt.imshow(image, 'gray')\n",
    "    plt.show()"
   ]
  },
  {
   "cell_type": "code",
   "execution_count": 4,
   "metadata": {},
   "outputs": [
    {
     "name": "stdout",
     "output_type": "stream",
     "text": [
      "[0.5488135  0.71518937 0.60276338 0.54488318 0.4236548 ] tensor([ 1.5410, -0.2934, -2.1788,  0.5684, -1.0845])\n"
     ]
    }
   ],
   "source": [
    "import random\n",
    "\n",
    "SEED = 0\n",
    "random.seed(SEED)\n",
    "np.random.seed(SEED)\n",
    "torch.manual_seed(SEED)\n",
    "\n",
    "print(np.random.rand(5), torch.randn(5))"
   ]
  },
  {
   "cell_type": "markdown",
   "metadata": {},
   "source": [
    "# Settings"
   ]
  },
  {
   "cell_type": "code",
   "execution_count": 5,
   "metadata": {},
   "outputs": [],
   "source": [
    "root = os.getcwd()\n",
    "device = torch.device(\"cuda:0\" if torch.cuda.is_available() else \"cpu\")\n",
    "\n",
    "BATCH = 4\n",
    "\n",
    "GEN_IN_CHANNELS = 1\n",
    "GEN_N_CLASSES = 1\n",
    "\n",
    "DIS_IN_CHANNELS = 1\n",
    "DIS_N_CLASSES = 2\n",
    "\n",
    "E_IN_CHANNELS = 1\n",
    "E_N_CLASSES = 2\n",
    "\n",
    "EPOCH = 200"
   ]
  },
  {
   "cell_type": "markdown",
   "metadata": {},
   "source": [
    "### Model Settings"
   ]
  },
  {
   "cell_type": "markdown",
   "metadata": {},
   "source": [
    "#### encoder"
   ]
  },
  {
   "cell_type": "code",
   "execution_count": 6,
   "metadata": {},
   "outputs": [],
   "source": [
    "ENCODER = \"resnet152\"\n",
    "ENCODER_WEIGHT = None"
   ]
  },
  {
   "cell_type": "markdown",
   "metadata": {},
   "source": [
    "#### decoder"
   ]
  },
  {
   "cell_type": "code",
   "execution_count": 7,
   "metadata": {},
   "outputs": [],
   "source": [
    "DECODER_ATT = \"scse\""
   ]
  },
  {
   "cell_type": "markdown",
   "metadata": {},
   "source": [
    "#### head"
   ]
  },
  {
   "cell_type": "code",
   "execution_count": 8,
   "metadata": {},
   "outputs": [],
   "source": [
    "GEN_ACT = \"sigmoid\"\n",
    "DIS_ACT = \"softmax\"\n",
    "E_ACT = \"softmax\""
   ]
  },
  {
   "cell_type": "markdown",
   "metadata": {},
   "source": [
    "### Optimizer Settings"
   ]
  },
  {
   "cell_type": "code",
   "execution_count": 9,
   "metadata": {},
   "outputs": [],
   "source": [
    "GEN_OPTIM_NAME = \"adam\"\n",
    "GEN_init_lr = 1e-4\n",
    "GEN_momentum = 0.9"
   ]
  },
  {
   "cell_type": "code",
   "execution_count": 10,
   "metadata": {},
   "outputs": [],
   "source": [
    "DIS_OPTIM_NAME = \"adam\"\n",
    "DIS_init_lr = 1e-3\n",
    "DIS_momentum = 0.9\n",
    "DIS_scheduler = \"cosineAnnWarm\""
   ]
  },
  {
   "cell_type": "code",
   "execution_count": 11,
   "metadata": {},
   "outputs": [],
   "source": [
    "E_OPTIM_NAME = \"adam\"\n",
    "E_init_lr = 1e-3\n",
    "E_momentum = 0.9\n",
    "E_scheduler = \"cosineAnnWarm\""
   ]
  },
  {
   "cell_type": "markdown",
   "metadata": {},
   "source": [
    "# Epochs"
   ]
  },
  {
   "cell_type": "code",
   "execution_count": 12,
   "metadata": {},
   "outputs": [],
   "source": [
    "from codes.losses import SSIMLoss\n",
    "from codes.losses import MAELoss\n",
    "from pytorch_msssim import ssim\n",
    "from codes.metrics import PSNR, SNR, ContourEval\n",
    "from codes.activation import Activation\n",
    "from codes.utils import hu_clip_tensor\n",
    "from codes.losses import PerceptualLoss\n",
    "from kornia.filters.sobel import Sobel"
   ]
  },
  {
   "cell_type": "code",
   "execution_count": 13,
   "metadata": {},
   "outputs": [],
   "source": [
    "def set_requires_grad(nets, requires_grad=False):\n",
    "    \"\"\"Set requies_grad=Fasle for all the networks to avoid unnecessary computations\n",
    "    Parameters:\n",
    "    nets (network list)   -- a list of networks\n",
    "    requires_grad (bool)  -- whether the networks require gradients or not\n",
    "    \"\"\"\n",
    "    if not isinstance(nets, list):\n",
    "        nets = [nets]\n",
    "        for net in nets:\n",
    "            if net is not None:\n",
    "                for param in net.parameters():\n",
    "                    param.requires_grad = requires_grad"
   ]
  },
  {
   "cell_type": "code",
   "execution_count": 14,
   "metadata": {},
   "outputs": [],
   "source": [
    "def replace_relu_to_leakyReLU(model):\n",
    "    for child_name, child in model.named_children():\n",
    "        if isinstance(child, nn.ReLU):\n",
    "            setattr(model, child_name, nn.LeakyReLU())\n",
    "        else:\n",
    "            replace_relu_to_leakyReLU(child)"
   ]
  },
  {
   "cell_type": "code",
   "execution_count": 15,
   "metadata": {},
   "outputs": [],
   "source": [
    "def replace_bn_to_instanceNorm(model):\n",
    "    for child_name, child in model.named_children():\n",
    "        if isinstance(child, nn.BatchNorm2d):\n",
    "            bn = getattr(model, child_name)\n",
    "            setattr(model, child_name, nn.InstanceNorm2d(bn.num_features))\n",
    "        else:\n",
    "            replace_bn_to_instanceNorm(child)"
   ]
  },
  {
   "cell_type": "code",
   "execution_count": 16,
   "metadata": {},
   "outputs": [],
   "source": [
    "perceptual_ext = PerceptualLoss()"
   ]
  },
  {
   "cell_type": "code",
   "execution_count": 17,
   "metadata": {},
   "outputs": [],
   "source": [
    "sobel_filter = Sobel().to(device)"
   ]
  },
  {
   "cell_type": "code",
   "execution_count": 18,
   "metadata": {},
   "outputs": [],
   "source": [
    "@torch.no_grad()\n",
    "def eval_epoch(generator, tf_discriminator, edge_discriminator, dataloader, device):\n",
    "  \n",
    "    # change mode to train and move to current device\n",
    "    generator = generator.eval().to(device)\n",
    "    tf_discriminator = tf_discriminator.eval().to(device)\n",
    "    edge_discriminator = edge_discriminator.eval().to(device)\n",
    "    \n",
    "    ssim_ = []\n",
    "    psnr_ = []\n",
    "    mae_ = []\n",
    "    snr_ = []\n",
    "    \n",
    "    air_ = []\n",
    "    bone_ = []\n",
    "    cont_ = []\n",
    " \n",
    "    tf_acc = []\n",
    "    edge_acc = []\n",
    "    \n",
    "    for index, data in tqdm(enumerate(dataloader)):\n",
    "\n",
    "        x, y, air_x, bone_x, *_ = data\n",
    "\n",
    "        x = x.to(device)\n",
    "        y = y.to(device)\n",
    "        air_x = air_x.to(device)\n",
    "        bone_x = bone_x.to(device)\n",
    "\n",
    "        y_pr = generator(x)\n",
    "        y_pr = Activation(name=GEN_ACT)(y_pr) # zipped value to [0, 1]\n",
    "        \n",
    "        edge_x = sobel_filter(x)\n",
    "        edge_y_pr = sobel_filter(y_pr)\n",
    "        edge_y = sobel_filter(y)\n",
    "        \n",
    "        total = x.size()[0]\n",
    "       ############################\n",
    "        # (1) Eval True/Fake D network: maximize log(D(x)) + log(1 - D(G(z)))\n",
    "        ###########################        \n",
    "        y_cls = tf_discriminator(y)\n",
    "        for _y_cls in y_cls:\n",
    "            _y_cls = Activation(name=DIS_ACT)(_y_cls)\n",
    "            _, _y_cls = torch.max(_y_cls.data, 1)\n",
    "            correct = (_y_cls == torch.zeros(total, dtype=torch.long, device=device)).sum().item()\n",
    "            tf_acc += [correct / total]        \n",
    "        \n",
    "        y_pr_cls = tf_discriminator(y_pr)\n",
    "        for _y_pr_cls in y_pr_cls:\n",
    "            _y_pr_cls = Activation(name=DIS_ACT)(_y_pr_cls)\n",
    "            _, _y_pr_cls = torch.max(_y_pr_cls.data, 1)\n",
    "            correct = (_y_pr_cls == torch.ones(total, dtype=torch.long, device=device)).sum().item()\n",
    "            tf_acc += [correct / total]\n",
    "        \n",
    "       ############################\n",
    "        # (1.1) Eval Edge D network: maximize log(D(x)) + log(1 - D(G(z)))\n",
    "        ###########################  \n",
    "        edge_y_cls = edge_discriminator(edge_y)\n",
    "        for _edge_y_cls in edge_y_cls:\n",
    "            _edge_y_cls = Activation(name=DIS_ACT)(_edge_y_cls)\n",
    "            _, _edge_y_cls = torch.max(_edge_y_cls.data, 1)\n",
    "            correct = (_edge_y_cls == torch.zeros(total, dtype=torch.long, device=device)).sum().item()\n",
    "            edge_acc += [correct / total]          \n",
    "        \n",
    "        edge_pr_cls = edge_discriminator(edge_y_pr)\n",
    "        for _edge_pr_cls in edge_pr_cls:\n",
    "            _edge_pr_cls = Activation(name=DIS_ACT)(_edge_pr_cls)\n",
    "            _, _edge_pr_cls = torch.max(_edge_pr_cls.data, 1)\n",
    "            correct = (_edge_pr_cls == torch.ones(total, dtype=torch.long, device=device)).sum().item()\n",
    "            edge_acc += [correct / total]        \n",
    "        \n",
    "        ############################\n",
    "        # (2) Eval G network: maximize log(D(G(z)))\n",
    "        ###########################\n",
    "        \n",
    "        # main\n",
    "        _ssim = ssim(y, y_pr, data_range=1.0, size_average=True) # return (N,)\n",
    "        _psnr = PSNR()(y_pr, y, 1.0)\n",
    "        _snr = SNR()(y_pr, y)\n",
    "        _mae = MAELoss()(y_pr.float(), y.float())\n",
    "\n",
    "        ssim_ += [_ssim.item()]\n",
    "        psnr_ += [_psnr.item()]\n",
    "        mae_ += [_mae.item()]\n",
    "        snr_ += [_snr.item()]\n",
    "        \n",
    "        # auxilary\n",
    "        _min = -500\n",
    "        _max = 500\n",
    "        air_window = (-500, -499)\n",
    "        upper = ((air_window[1]) - (_min))/(_max-(_min))\n",
    "        lower = ((air_window[0]) - (_min))/(_max-(_min))\n",
    "        air_pr = hu_clip_tensor(y_pr.double(), (lower, upper), None, True)\n",
    "        dice = Fscore()(air_pr, air_x)\n",
    "        air_ += [dice.item()]\n",
    "        \n",
    "        bone_window = (255, 256)\n",
    "        upper = ((bone_window[1]) - (_min))/(_max-(_min))\n",
    "        lower = ((bone_window[0]) - (_min))/(_max-(_min))\n",
    "        bone_pr = hu_clip_tensor(y_pr.double(), (lower, upper), None, True)\n",
    "        dice = Fscore()(bone_pr, bone_x)\n",
    "        bone_ += [dice.item()]\n",
    "\n",
    "        for b in range(x.size()[0]):\n",
    "            cont = ContourEval()(y_pr[b, :, :, :], x[b, :, :, :])\n",
    "            cont_ += [cont.item()]\n",
    "\n",
    "    return  sum(ssim_)/len(ssim_), sum(psnr_)/len(psnr_), sum(snr_)/len(snr_), sum(mae_)/len(mae_), \\\n",
    "                    sum(air_)/len(air_), sum(bone_)/len(bone_), sum(cont_)/len(cont_), sum(tf_acc)/len(tf_acc), sum(edge_acc)/len(edge_acc)"
   ]
  },
  {
   "cell_type": "code",
   "execution_count": 19,
   "metadata": {},
   "outputs": [],
   "source": [
    "@torch.no_grad()\n",
    "def test_epoch(iid, model, dataloader, device, save=False, path=None):\n",
    "  \n",
    "    # change mode to train and move to current device\n",
    "    model = model.eval().to(device)\n",
    "    \n",
    "    for index, data in tqdm(enumerate(dataloader)):\n",
    "\n",
    "        x, y, air_x, bone_x, *_ = data\n",
    "\n",
    "        x = x.to(device)\n",
    "        y = y.to(device)\n",
    "        air_x = air_x.to(device)\n",
    "        bone_x = bone_x.to(device)\n",
    "\n",
    "        y_pr = model(x)\n",
    "        y_pr = Activation(name=GEN_ACT)(y_pr) # zipped value to [0, 1]\n",
    "        \n",
    "        edge_x = sobel_filter(x)\n",
    "        edge_y_pr = sobel_filter(y_pr)\n",
    "        edge_y = sobel_filter(y)\n",
    "        \n",
    "        _min = -500\n",
    "        _max = 500\n",
    "        air_window = (-500, -499)\n",
    "        upper = ((air_window[1]) - (_min))/(_max-(_min))\n",
    "        lower = ((air_window[0]) - (_min))/(_max-(_min))\n",
    "        air_pr = hu_clip_tensor(y_pr.double(), (lower, upper), None, True)\n",
    "        \n",
    "        bone_window = (255, 256)\n",
    "        upper = ((bone_window[1]) - (_min))/(_max-(_min))\n",
    "        lower = ((bone_window[0]) - (_min))/(_max-(_min))\n",
    "        bone_pr = hu_clip_tensor(y_pr.double(), (lower, upper), None, True)\n",
    "\n",
    "        for b in range(x.shape[0]):           \n",
    "            tmp_y = y[b, :, :, :].unsqueeze(0)\n",
    "            tmp_y_pr = y_pr[b, :, :, :].unsqueeze(0)\n",
    "            tmp_air = air_x[b, :, :, :].unsqueeze(0)\n",
    "            tmp_air_pr = air_pr[b, :, :, :].unsqueeze(0)\n",
    "            tmp_bone = bone_x[b, :, :, :].unsqueeze(0)\n",
    "            tmp_bone_pr = bone_pr[b, :, :, :].unsqueeze(0)\n",
    "            \n",
    "            _ssim = ssim(tmp_y, tmp_y_pr, data_range=1.0, size_average=True) # return (N,)\n",
    "            _psnr = PSNR()(tmp_y_pr, tmp_y, 1.0)\n",
    "            _snr = SNR()(tmp_y_pr, tmp_y)\n",
    "            _mae = MAELoss()(tmp_y_pr.float(), tmp_y.float())\n",
    "            _air = Fscore()(tmp_air_pr, tmp_air)\n",
    "            _bone = Fscore()(tmp_bone_pr, tmp_bone)\n",
    "            _cont = ContourEval()(tmp_y_pr, x[b, :, :, :])\n",
    "            \n",
    "            scores = {\n",
    "                \"ssim score\": _ssim.item(),\n",
    "                \"psnr score\": _psnr.item(),\n",
    "                \"snr score\": _snr.item(),\n",
    "                \"mae error\": _mae.item(),\n",
    "                \"air dice score\": _air.item(),\n",
    "                \"bone dice score\": _bone.item(),\n",
    "                \"contour dice score\": _cont.item()\n",
    "            }\n",
    "            \n",
    "            __cbct = (x.squeeze().cpu().numpy() * 255).astype(np.uint8)\n",
    "            __ct = (tmp_y.squeeze().cpu().numpy() * 255).astype(np.uint8)\n",
    "            __ct_pred = (tmp_y_pr.squeeze().cpu().numpy() * 255).astype(np.uint8)\n",
    "            __ct_masked = __ct_pred * tmp_air.squeeze().cpu().numpy()\n",
    "            __air = (tmp_air.squeeze().cpu().numpy() * 255).astype(np.uint8)\n",
    "            __air_pr = (tmp_air_pr.squeeze().cpu().numpy() * 255).astype(np.uint8)\n",
    "            __bone = (tmp_bone.squeeze().cpu().numpy() * 255).astype(np.uint8)\n",
    "            __bone_pr = (tmp_bone_pr.squeeze().cpu().numpy() * 255).astype(np.uint8)\n",
    "            __edge_pr = (edge_y_pr[b, :].squeeze().cpu().numpy() * 255).astype(np.uint8)\n",
    "            __edge_x = (edge_x.squeeze().cpu().numpy() * 255).astype(np.uint8)\n",
    "            __edge_y = (edge_y.squeeze().cpu().numpy() * 255).astype(np.uint8)\n",
    "            \n",
    "#             visualize(\n",
    "#                 cbct = __cbct,\n",
    "#                 ct_y = __ct,\n",
    "#                 ct_pred = __ct_pred,\n",
    "#                 edge_pred = __edge_pr,\n",
    "#                 edge_x = __edge_x,\n",
    "#                 edge_y = __edge_y,\n",
    "#                 air = __air,\n",
    "#                 air_pr = __air_pr,\n",
    "#                 bone = __bone,\n",
    "#                 bone_pr = __bone_pr\n",
    "#             )\n",
    "            \n",
    "            if save:\n",
    "                path_dir = os.path.join(path, \"file_{}\".format(iid))\n",
    "                try:\n",
    "                    os.mkdir(path_dir)\n",
    "                except FileExistsError:\n",
    "                    pass\n",
    "                \n",
    "                cv2.imwrite(os.path.join(path_dir, \"cbct.jpg\"), __cbct)\n",
    "                cv2.imwrite(os.path.join(path_dir, \"ct.jpg\"), __ct)\n",
    "                cv2.imwrite(os.path.join(path_dir, \"ct_pred.jpg\"), __ct_pred)\n",
    "                cv2.imwrite(os.path.join(path_dir, \"air.jpg\"), __air)\n",
    "                cv2.imwrite(os.path.join(path_dir, \"air_pred.jpg\"), __air_pr)\n",
    "                cv2.imwrite(os.path.join(path_dir, \"bone.jpg\"), __bone)\n",
    "                cv2.imwrite(os.path.join(path_dir, \"bone_pred.jpg\"), __bone_pr)\n",
    "                cv2.imwrite(os.path.join(path_dir, \"edge_pred.jpg\"), __edge_pr)\n",
    "                cv2.imwrite(os.path.join(path_dir, \"edge_cbct.jpg\"), __edge_x)\n",
    "                cv2.imwrite(os.path.join(path_dir, \"edge_ct.jpg\"), __edge_y)\n",
    "                with open(os.path.join(path_dir, \"scores.txt\"), \"w\") as file:\n",
    "                    file.write(json.dumps(scores))                \n",
    "            iid += 1"
   ]
  },
  {
   "cell_type": "markdown",
   "metadata": {},
   "source": [
    "# Discriminator"
   ]
  },
  {
   "cell_type": "code",
   "execution_count": 20,
   "metadata": {},
   "outputs": [],
   "source": [
    "from codes.activation import Activation\n",
    "import torchvision.models as models\n",
    "from codes.losses import MultiScaleHeads"
   ]
  },
  {
   "cell_type": "code",
   "execution_count": 21,
   "metadata": {},
   "outputs": [],
   "source": [
    "class Discriminator(nn.Module):\n",
    "    def __init__(self, in_channel=1, n_classes=2, activation=None):\n",
    "        \n",
    "        super(Discriminator, self).__init__()\n",
    "        \n",
    "        encoder = smp.Unet(encoder_name=\"resnet18\", in_channels=in_channel, classes=n_classes).encoder\n",
    "        self.encoder = encoder\n",
    "        self.fc = MultiScaleHeads(n_classes=n_classes, channels=(512, ), activation=None)\n",
    "        \n",
    "    def forward(self, x):\n",
    "        x = self.encoder(x)\n",
    "        x = self.fc([x[-1]])\n",
    "        return x"
   ]
  },
  {
   "cell_type": "markdown",
   "metadata": {},
   "source": [
    "# Generator"
   ]
  },
  {
   "cell_type": "code",
   "execution_count": 22,
   "metadata": {},
   "outputs": [],
   "source": [
    "import segmentation_models_pytorch as smp\n",
    "from codes.decoder import UnetDecoder\n",
    "from segmentation_models_pytorch.base.heads import SegmentationHead"
   ]
  },
  {
   "cell_type": "code",
   "execution_count": 23,
   "metadata": {},
   "outputs": [],
   "source": [
    "class Generator(nn.Module):\n",
    "    def __init__(self, encoder_name, encoder_weights, in_channels, classes, attention_type):\n",
    "        \n",
    "        super(Generator, self).__init__()\n",
    "        \n",
    "        self.encoder = smp.Unet(encoder_name=encoder_name, encoder_weights=encoder_weights, in_channels=in_channels, classes=classes).encoder\n",
    "        self.decoder = UnetDecoder(\n",
    "                            encoder_channels=[in_channels, 0, 0, 0, 0, 2048],\n",
    "                            decoder_channels=[512, 256, 128, 64, 16],\n",
    "                            n_blocks=5,\n",
    "                            use_batchnorm=True,\n",
    "                            attention_type=attention_type)\n",
    "        self.head =  SegmentationHead(\n",
    "                        in_channels=16,\n",
    "                        out_channels=classes,\n",
    "                        activation=None)\n",
    "        \n",
    "        \n",
    "    def forward(self, x):\n",
    "        x = self.encoder(x)[-1]\n",
    "        x = self.decoder(*(None, None, None, None, x))\n",
    "        x = self.head(x)\n",
    "        \n",
    "        return x"
   ]
  },
  {
   "cell_type": "markdown",
   "metadata": {},
   "source": [
    "# Read Data"
   ]
  },
  {
   "cell_type": "code",
   "execution_count": 24,
   "metadata": {},
   "outputs": [],
   "source": [
    "import glob\n",
    "from codes.dataset import Dataset, DicomDataset, DicomsDataset\n",
    "import codes.augmentation as aug"
   ]
  },
  {
   "cell_type": "code",
   "execution_count": 149,
   "metadata": {},
   "outputs": [],
   "source": [
    "# run_name = wandb.run.name\n",
    "run_name = \"exalted-dream-236\"\n",
    "ELECTRON = False"
   ]
  },
  {
   "cell_type": "code",
   "execution_count": 150,
   "metadata": {},
   "outputs": [],
   "source": [
    "checkpoint = torch.load(os.path.join(\"weight-gan\", \"{}.pth\".format(run_name)))"
   ]
  },
  {
   "cell_type": "code",
   "execution_count": 151,
   "metadata": {},
   "outputs": [
    {
     "data": {
      "text/plain": [
       "<All keys matched successfully>"
      ]
     },
     "execution_count": 151,
     "metadata": {},
     "output_type": "execute_result"
    }
   ],
   "source": [
    "model = smp.Unet(encoder_name=ENCODER, \n",
    "                  encoder_weights=ENCODER_WEIGHT, \n",
    "                  in_channels=GEN_IN_CHANNELS, \n",
    "                  classes=GEN_N_CLASSES,\n",
    "                 decoder_attention_type=DECODER_ATT)\n",
    "replace_relu_to_leakyReLU(model)\n",
    "replace_bn_to_instanceNorm(model)\n",
    "model.load_state_dict(checkpoint[\"model\"])"
   ]
  },
  {
   "cell_type": "code",
   "execution_count": 152,
   "metadata": {},
   "outputs": [
    {
     "data": {
      "text/plain": [
       "<All keys matched successfully>"
      ]
     },
     "execution_count": 152,
     "metadata": {},
     "output_type": "execute_result"
    }
   ],
   "source": [
    "tf_discriminator = Discriminator(in_channel=DIS_IN_CHANNELS, n_classes=DIS_N_CLASSES, activation=DIS_ACT)\n",
    "replace_relu_to_leakyReLU(tf_discriminator)\n",
    "replace_bn_to_instanceNorm(tf_discriminator)\n",
    "tf_discriminator.load_state_dict(checkpoint[\"tf_discriminator\"])"
   ]
  },
  {
   "cell_type": "code",
   "execution_count": 153,
   "metadata": {},
   "outputs": [
    {
     "data": {
      "text/plain": [
       "<All keys matched successfully>"
      ]
     },
     "execution_count": 153,
     "metadata": {},
     "output_type": "execute_result"
    }
   ],
   "source": [
    "edge_discriminator = Discriminator(in_channel=E_IN_CHANNELS, n_classes=E_N_CLASSES, activation=E_ACT)\n",
    "replace_relu_to_leakyReLU(edge_discriminator)\n",
    "replace_bn_to_instanceNorm(edge_discriminator)\n",
    "edge_discriminator.load_state_dict(checkpoint[\"edge_discriminator\"])"
   ]
  },
  {
   "cell_type": "markdown",
   "metadata": {},
   "source": [
    "# Pelvic"
   ]
  },
  {
   "cell_type": "markdown",
   "metadata": {},
   "source": [
    "## Pelvic Test CBCT"
   ]
  },
  {
   "cell_type": "code",
   "execution_count": 154,
   "metadata": {},
   "outputs": [],
   "source": [
    "test_case_path = 'raw/test/*_*'\n",
    "paths = sorted(glob.glob(test_case_path))"
   ]
  },
  {
   "cell_type": "code",
   "execution_count": 155,
   "metadata": {},
   "outputs": [],
   "source": [
    "try:\n",
    "    os.mkdir(os.path.join(\"eval-gan\", run_name))\n",
    "except FileExistsError:\n",
    "    pass"
   ]
  },
  {
   "cell_type": "code",
   "execution_count": 156,
   "metadata": {},
   "outputs": [],
   "source": [
    "try:\n",
    "    os.mkdir(os.path.join(\"eval-gan\", run_name, \"test_pelvic_cbct\"))\n",
    "except FileExistsError:\n",
    "    pass"
   ]
  },
  {
   "cell_type": "code",
   "execution_count": 157,
   "metadata": {},
   "outputs": [
    {
     "name": "stderr",
     "output_type": "stream",
     "text": [
      "28it [00:05,  5.30it/s]\n",
      "27it [00:04,  5.46it/s]\n",
      "26it [00:04,  5.22it/s]\n",
      "28it [00:04,  5.61it/s]\n",
      "27it [00:04,  5.46it/s]\n",
      "28it [00:05,  5.52it/s]\n",
      "27it [00:04,  5.62it/s]\n"
     ]
    }
   ],
   "source": [
    "# read cbct and ct\n",
    "iid = 0\n",
    "for i in range(0, len(paths), 2):\n",
    "    scans = DicomDataset(cbct_path=paths[i+1], ct_path=paths[i],\n",
    "                         geometry_aug=aug.get_validation_augmentation(), intensity_aug=None, \n",
    "                         identity=False, electron=ELECTRON, position=\"pelvic\")\n",
    "    patient_id = scans.patientID()\n",
    "    testloader = torch.utils.data.DataLoader(scans, batch_size=1, shuffle=False, num_workers=4)\n",
    "    try:\n",
    "        os.mkdir(os.path.join(\"eval-gan\", run_name, \"test_pelvic_cbct\", patient_id))\n",
    "    except FileExistsError:\n",
    "        pass\n",
    "    \n",
    "    test_epoch(iid, model, testloader, device, True, os.path.join(\"eval-gan\", run_name, \"test_pelvic_cbct\", patient_id)) \n",
    "    iid += len(scans)"
   ]
  },
  {
   "cell_type": "code",
   "execution_count": 158,
   "metadata": {},
   "outputs": [
    {
     "name": "stderr",
     "output_type": "stream",
     "text": [
      "191it [00:36,  5.19it/s]\n"
     ]
    },
    {
     "data": {
      "text/plain": [
       "(0.8358015358760095,\n",
       " 23.324590503233267,\n",
       " 14.32886245987178,\n",
       " 0.02825151296108181,\n",
       " 0.9960922170135182,\n",
       " 0.9053976769089186,\n",
       " 0.46576435965393226,\n",
       " 0.5,\n",
       " 0.5)"
      ]
     },
     "execution_count": 158,
     "metadata": {},
     "output_type": "execute_result"
    }
   ],
   "source": [
    "testset = DicomsDataset(test_case_path, geometry_aug=aug.get_validation_augmentation(), intensity_aug=None, \n",
    "                        identity=False, electron=ELECTRON, position=\"pelvic\")\n",
    "testloader = torch.utils.data.DataLoader(testset, batch_size=1, shuffle=False, num_workers=4)\n",
    "# score_ssim_test, score_psnr_test, score_snr_test, score_mae_test, \\\n",
    "#             score_air_test, score_bone_test, score_cont_test, score_tf_acc_test, score_edge_acc_test\n",
    "eval_epoch(model, tf_discriminator, edge_discriminator, testloader, device)"
   ]
  },
  {
   "cell_type": "markdown",
   "metadata": {},
   "source": [
    "## Pelvic Test CT"
   ]
  },
  {
   "cell_type": "code",
   "execution_count": 159,
   "metadata": {},
   "outputs": [],
   "source": [
    "test_case_path = 'raw/test/*_*'\n",
    "paths = sorted(glob.glob(test_case_path))"
   ]
  },
  {
   "cell_type": "code",
   "execution_count": 160,
   "metadata": {},
   "outputs": [],
   "source": [
    "try:\n",
    "    os.mkdir(os.path.join(\"eval-gan\", run_name))\n",
    "except FileExistsError:\n",
    "    pass"
   ]
  },
  {
   "cell_type": "code",
   "execution_count": 161,
   "metadata": {},
   "outputs": [],
   "source": [
    "try:\n",
    "    os.mkdir(os.path.join(\"eval-gan\", run_name, \"test_pelvic_ct\"))\n",
    "except FileExistsError:\n",
    "    pass"
   ]
  },
  {
   "cell_type": "code",
   "execution_count": 162,
   "metadata": {},
   "outputs": [
    {
     "name": "stderr",
     "output_type": "stream",
     "text": [
      "28it [00:05,  5.26it/s]\n",
      "27it [00:04,  5.56it/s]\n",
      "26it [00:04,  5.75it/s]\n",
      "28it [00:04,  5.79it/s]\n",
      "27it [00:04,  5.42it/s]\n",
      "28it [00:05,  5.46it/s]\n",
      "27it [00:05,  5.39it/s]\n"
     ]
    }
   ],
   "source": [
    "# read cbct and ct\n",
    "iid = 0\n",
    "for i in range(0, len(paths), 2):\n",
    "    scans = DicomDataset(cbct_path=paths[i+1], ct_path=paths[i], \n",
    "                         geometry_aug=aug.get_validation_augmentation(), intensity_aug=None, \n",
    "                         identity=True, electron=ELECTRON, position=\"pelvic\")\n",
    "    patient_id = scans.patientID()\n",
    "    testloader = torch.utils.data.DataLoader(scans, batch_size=1, shuffle=False, num_workers=4)\n",
    "    try:\n",
    "        os.mkdir(os.path.join(\"eval-gan\", run_name, \"test_pelvic_ct\", patient_id))\n",
    "    except FileExistsError:\n",
    "        pass\n",
    "    \n",
    "    test_epoch(iid, model, testloader, device, True, os.path.join(\"eval-gan\", run_name, \"test_pelvic_ct\", patient_id)) \n",
    "    iid += len(scans)"
   ]
  },
  {
   "cell_type": "code",
   "execution_count": 163,
   "metadata": {},
   "outputs": [
    {
     "name": "stderr",
     "output_type": "stream",
     "text": [
      "191it [00:35,  5.34it/s]\n"
     ]
    },
    {
     "data": {
      "text/plain": [
       "(0.9369791665002314,\n",
       " 28.285079286984747,\n",
       " 19.289351248616324,\n",
       " 0.015559918766460961,\n",
       " 0.9965174203321528,\n",
       " 0.894460730404398,\n",
       " 0.389444372572824,\n",
       " 0.5,\n",
       " 0.5)"
      ]
     },
     "execution_count": 163,
     "metadata": {},
     "output_type": "execute_result"
    }
   ],
   "source": [
    "testset = DicomsDataset(test_case_path, geometry_aug=aug.get_validation_augmentation(), intensity_aug=None, \n",
    "                        identity=True, electron=ELECTRON, position=\"pelvic\")\n",
    "testloader = torch.utils.data.DataLoader(testset, batch_size=1, shuffle=False, num_workers=4)\n",
    "# score_ssim_test, score_psnr_test, score_snr_test, score_mae_test, \\\n",
    "#             score_air_test, score_bone_test, score_cont_test, score_tf_acc_test, score_edge_acc_test\n",
    "eval_epoch(model, tf_discriminator, edge_discriminator, testloader, device)"
   ]
  },
  {
   "cell_type": "markdown",
   "metadata": {},
   "source": [
    "## Pelvic L1 CBCT"
   ]
  },
  {
   "cell_type": "code",
   "execution_count": 164,
   "metadata": {},
   "outputs": [],
   "source": [
    "test_case_path = 'L1_pelvic_processed/reg_pelvic_l1/*_*'\n",
    "paths = sorted(glob.glob(test_case_path))"
   ]
  },
  {
   "cell_type": "code",
   "execution_count": 165,
   "metadata": {},
   "outputs": [],
   "source": [
    "try:\n",
    "    os.mkdir(os.path.join(\"eval-gan\", run_name))\n",
    "except FileExistsError:\n",
    "    pass"
   ]
  },
  {
   "cell_type": "code",
   "execution_count": 166,
   "metadata": {},
   "outputs": [],
   "source": [
    "try:\n",
    "    os.mkdir(os.path.join(\"eval-gan\", run_name, \"L1_pelvic_cbct\"))\n",
    "except FileExistsError:\n",
    "    pass"
   ]
  },
  {
   "cell_type": "code",
   "execution_count": 167,
   "metadata": {
    "scrolled": true
   },
   "outputs": [
    {
     "name": "stderr",
     "output_type": "stream",
     "text": [
      "29it [00:04,  6.14it/s]\n",
      "26it [00:04,  5.90it/s]\n",
      "28it [00:04,  6.06it/s]\n",
      "28it [00:04,  5.93it/s]\n",
      "27it [00:04,  5.87it/s]\n",
      "26it [00:04,  5.75it/s]\n",
      "27it [00:04,  5.80it/s]\n",
      "30it [00:05,  5.88it/s]\n",
      "28it [00:04,  5.93it/s]\n",
      "29it [00:04,  5.98it/s]\n",
      "29it [00:04,  6.12it/s]\n",
      "27it [00:04,  6.51it/s]\n",
      "28it [00:05,  5.55it/s]\n",
      "26it [00:04,  5.63it/s]\n",
      "28it [00:04,  5.77it/s]\n",
      "28it [00:04,  5.63it/s]\n",
      "27it [00:04,  5.79it/s]\n",
      "26it [00:04,  5.51it/s]\n",
      "27it [00:04,  5.85it/s]\n",
      "29it [00:04,  5.90it/s]\n",
      "30it [00:05,  5.94it/s]\n",
      "32it [00:05,  5.79it/s]\n",
      "28it [00:04,  6.24it/s]\n",
      "28it [00:04,  5.83it/s]\n",
      "15it [00:02,  5.34it/s]\n",
      "28it [00:05,  5.35it/s]\n",
      "26it [00:04,  5.25it/s]\n",
      "28it [00:05,  5.40it/s]\n",
      "26it [00:04,  5.58it/s]\n",
      "27it [00:05,  5.16it/s]\n",
      "36it [00:06,  5.83it/s]\n",
      "28it [00:04,  5.87it/s]\n",
      "27it [00:04,  5.63it/s]\n",
      "28it [00:04,  5.80it/s]\n",
      "30it [00:04,  6.07it/s]\n",
      "27it [00:04,  5.72it/s]\n",
      "26it [00:04,  5.88it/s]\n",
      "29it [00:05,  5.70it/s]\n",
      "27it [00:04,  5.71it/s]\n",
      "27it [00:04,  5.73it/s]\n",
      "28it [00:04,  5.62it/s]\n",
      "26it [00:04,  5.89it/s]\n",
      "26it [00:04,  5.78it/s]\n",
      "29it [00:04,  5.98it/s]\n",
      "28it [00:04,  5.83it/s]\n",
      "27it [00:04,  5.95it/s]\n",
      "30it [00:05,  5.87it/s]\n",
      "27it [00:04,  5.75it/s]\n",
      "130it [00:21,  6.10it/s]\n"
     ]
    }
   ],
   "source": [
    "# read cbct and ct\n",
    "iid = 0\n",
    "for i in range(0, len(paths), 2):\n",
    "    scans = DicomDataset(cbct_path=paths[i+1], ct_path=paths[i], \n",
    "                         geometry_aug=aug.get_validation_augmentation(), intensity_aug=None, \n",
    "                         identity=False, electron=ELECTRON, position=\"pelvic\")\n",
    "    patient_id = scans.patientID()\n",
    "    testloader = torch.utils.data.DataLoader(scans, batch_size=1, shuffle=False, num_workers=4)\n",
    "    try:\n",
    "        os.mkdir(os.path.join(\"eval-gan\", run_name, \"L1_pelvic_cbct\", patient_id))\n",
    "    except FileExistsError:\n",
    "        pass\n",
    "    \n",
    "    test_epoch(iid, model, testloader, device, True, os.path.join(\"eval-gan\", run_name, \"L1_pelvic_cbct\", patient_id)) \n",
    "    iid += len(scans)"
   ]
  },
  {
   "cell_type": "code",
   "execution_count": 168,
   "metadata": {},
   "outputs": [
    {
     "name": "stderr",
     "output_type": "stream",
     "text": [
      "1457it [04:30,  5.39it/s]\n"
     ]
    },
    {
     "data": {
      "text/plain": [
       "(0.8227577859110102,\n",
       " 22.756960314434526,\n",
       " 13.555942660255145,\n",
       " 0.03041113889983912,\n",
       " 0.9954772157512913,\n",
       " 0.8762429980774967,\n",
       " 0.4573121305271651,\n",
       " 0.5099519560741249,\n",
       " 0.47151681537405626)"
      ]
     },
     "execution_count": 168,
     "metadata": {},
     "output_type": "execute_result"
    }
   ],
   "source": [
    "testset = DicomsDataset(test_case_path, geometry_aug=aug.get_validation_augmentation(), intensity_aug=None, \n",
    "                        identity=False, electron=ELECTRON, position=\"pelvic\")\n",
    "testloader = torch.utils.data.DataLoader(testset, batch_size=1, shuffle=False, num_workers=4)\n",
    "# score_ssim_test, score_psnr_test, score_snr_test, score_mae_test, \\\n",
    "#             score_air_test, score_bone_test, score_cont_test, score_tf_acc_test, score_edge_acc_test\n",
    "eval_epoch(model, tf_discriminator, edge_discriminator, testloader, device)"
   ]
  },
  {
   "cell_type": "markdown",
   "metadata": {},
   "source": [
    "## Pelvic L1 CT"
   ]
  },
  {
   "cell_type": "code",
   "execution_count": 169,
   "metadata": {},
   "outputs": [],
   "source": [
    "test_case_path = 'L1_pelvic_processed/reg_pelvic_l1/*_*'\n",
    "paths = sorted(glob.glob(test_case_path))"
   ]
  },
  {
   "cell_type": "code",
   "execution_count": 170,
   "metadata": {},
   "outputs": [],
   "source": [
    "try:\n",
    "    os.mkdir(os.path.join(\"eval-gan\", run_name))\n",
    "except FileExistsError:\n",
    "    pass"
   ]
  },
  {
   "cell_type": "code",
   "execution_count": 171,
   "metadata": {},
   "outputs": [],
   "source": [
    "try:\n",
    "    os.mkdir(os.path.join(\"eval-gan\", run_name, \"L1_pelvic_ct\"))\n",
    "except FileExistsError:\n",
    "    pass"
   ]
  },
  {
   "cell_type": "code",
   "execution_count": 172,
   "metadata": {
    "scrolled": true
   },
   "outputs": [
    {
     "name": "stderr",
     "output_type": "stream",
     "text": [
      "29it [00:05,  5.26it/s]\n",
      "26it [00:04,  5.47it/s]\n",
      "28it [00:05,  5.46it/s]\n",
      "28it [00:04,  5.74it/s]\n",
      "27it [00:04,  5.54it/s]\n",
      "26it [00:04,  5.63it/s]\n",
      "27it [00:04,  5.91it/s]\n",
      "30it [00:05,  5.53it/s]\n",
      "28it [00:04,  5.71it/s]\n",
      "29it [00:05,  5.16it/s]\n",
      "29it [00:05,  5.70it/s]\n",
      "27it [00:04,  5.69it/s]\n",
      "28it [00:05,  5.35it/s]\n",
      "26it [00:04,  5.54it/s]\n",
      "28it [00:05,  5.38it/s]\n",
      "28it [00:05,  5.42it/s]\n",
      "27it [00:04,  5.41it/s]\n",
      "26it [00:04,  5.39it/s]\n",
      "27it [00:04,  5.95it/s]\n",
      "29it [00:05,  5.08it/s]\n",
      "30it [00:05,  5.62it/s]\n",
      "32it [00:05,  5.46it/s]\n",
      "28it [00:05,  5.52it/s]\n",
      "28it [00:04,  5.60it/s]\n",
      "15it [00:02,  5.41it/s]\n",
      "28it [00:04,  5.73it/s]\n",
      "26it [00:05,  5.17it/s]\n",
      "28it [00:05,  5.30it/s]\n",
      "26it [00:03,  6.88it/s]\n",
      "27it [00:05,  5.38it/s]\n",
      "36it [00:06,  5.26it/s]\n",
      "28it [00:04,  5.67it/s]\n",
      "27it [00:04,  5.69it/s]\n",
      "28it [00:05,  5.55it/s]\n",
      "30it [00:05,  5.84it/s]\n",
      "27it [00:04,  5.91it/s]\n",
      "26it [00:04,  5.68it/s]\n",
      "29it [00:05,  5.44it/s]\n",
      "27it [00:04,  5.59it/s]\n",
      "27it [00:04,  5.51it/s]\n",
      "28it [00:05,  5.59it/s]\n",
      "26it [00:04,  5.53it/s]\n",
      "26it [00:04,  5.42it/s]\n",
      "29it [00:04,  5.83it/s]\n",
      "28it [00:05,  5.57it/s]\n",
      "27it [00:04,  5.60it/s]\n",
      "30it [00:05,  5.69it/s]\n",
      "27it [00:04,  5.56it/s]\n",
      "130it [00:20,  6.24it/s]\n"
     ]
    }
   ],
   "source": [
    "# read cbct and ct\n",
    "iid = 0\n",
    "for i in range(0, len(paths), 2):\n",
    "    scans = DicomDataset(cbct_path=paths[i+1], ct_path=paths[i], \n",
    "                         geometry_aug=aug.get_validation_augmentation(), intensity_aug=None, \n",
    "                         identity=True, electron=ELECTRON, position=\"pelvic\")\n",
    "    patient_id = scans.patientID()\n",
    "    testloader = torch.utils.data.DataLoader(scans, batch_size=1, shuffle=False, num_workers=4)\n",
    "    try:\n",
    "        os.mkdir(os.path.join(\"eval-gan\", run_name, \"L1_pelvic_ct\", patient_id))\n",
    "    except FileExistsError:\n",
    "        pass\n",
    "    \n",
    "    test_epoch(iid, model, testloader, device, True, os.path.join(\"eval-gan\", run_name, \"L1_pelvic_ct\", patient_id)) \n",
    "    iid += len(scans)"
   ]
  },
  {
   "cell_type": "code",
   "execution_count": 173,
   "metadata": {},
   "outputs": [
    {
     "name": "stderr",
     "output_type": "stream",
     "text": [
      "1457it [04:31,  5.36it/s]\n"
     ]
    },
    {
     "data": {
      "text/plain": [
       "(0.9370146152411901,\n",
       " 28.359386287000625,\n",
       " 19.15836865458492,\n",
       " 0.015969035564042888,\n",
       " 0.9965555423420899,\n",
       " 0.8791287649891287,\n",
       " 0.43827183258271657,\n",
       " 0.49897048730267674,\n",
       " 0.455044612216884)"
      ]
     },
     "execution_count": 173,
     "metadata": {},
     "output_type": "execute_result"
    }
   ],
   "source": [
    "testset = DicomsDataset(test_case_path, geometry_aug=aug.get_validation_augmentation(), intensity_aug=None, \n",
    "                        identity=True, electron=ELECTRON, position=\"pelvic\")\n",
    "testloader = torch.utils.data.DataLoader(testset, batch_size=1, shuffle=False, num_workers=4)\n",
    "# score_ssim_test, score_psnr_test, score_snr_test, score_mae_test, \\\n",
    "#             score_air_test, score_bone_test, score_cont_test, score_tf_acc_test, score_edge_acc_test\n",
    "eval_epoch(model, tf_discriminator, edge_discriminator, testloader, device)"
   ]
  },
  {
   "cell_type": "markdown",
   "metadata": {},
   "source": [
    "## Pelvic L2 CBCT"
   ]
  },
  {
   "cell_type": "code",
   "execution_count": 174,
   "metadata": {},
   "outputs": [],
   "source": [
    "test_case_path = 'L2_pelvic_processed/reg_pelvic_l2/*_*'\n",
    "paths = sorted(glob.glob(test_case_path))"
   ]
  },
  {
   "cell_type": "code",
   "execution_count": 175,
   "metadata": {},
   "outputs": [],
   "source": [
    "try:\n",
    "    os.mkdir(os.path.join(\"eval-gan\", run_name))\n",
    "except FileExistsError:\n",
    "    pass"
   ]
  },
  {
   "cell_type": "code",
   "execution_count": 176,
   "metadata": {},
   "outputs": [],
   "source": [
    "try:\n",
    "    os.mkdir(os.path.join(\"eval-gan\", run_name, \"L2_pelvic_cbct\"))\n",
    "except FileExistsError:\n",
    "    pass"
   ]
  },
  {
   "cell_type": "code",
   "execution_count": 177,
   "metadata": {
    "scrolled": true
   },
   "outputs": [
    {
     "name": "stderr",
     "output_type": "stream",
     "text": [
      "26it [00:04,  5.48it/s]\n",
      "26it [00:05,  5.08it/s]\n",
      "26it [00:04,  5.66it/s]\n",
      "27it [00:05,  5.32it/s]\n",
      "31it [00:05,  5.65it/s]\n",
      "27it [00:04,  5.79it/s]\n",
      "27it [00:05,  5.32it/s]\n",
      "26it [00:04,  5.43it/s]\n",
      "28it [00:05,  5.58it/s]\n",
      "28it [00:04,  5.62it/s]\n",
      "27it [00:04,  5.44it/s]\n",
      "27it [00:04,  5.68it/s]\n",
      "26it [00:04,  5.51it/s]\n",
      "26it [00:04,  5.43it/s]\n",
      "26it [00:04,  5.56it/s]\n",
      "26it [00:04,  5.64it/s]\n",
      "26it [00:04,  5.65it/s]\n",
      "26it [00:04,  5.51it/s]\n",
      "27it [00:04,  5.63it/s]\n",
      "26it [00:04,  5.61it/s]\n",
      "26it [00:04,  5.55it/s]\n",
      "28it [00:05,  5.55it/s]\n",
      "28it [00:05,  5.47it/s]\n",
      "29it [00:05,  5.59it/s]\n",
      "28it [00:04,  5.75it/s]\n",
      "26it [00:04,  5.52it/s]\n",
      "27it [00:04,  5.51it/s]\n",
      "26it [00:04,  5.47it/s]\n",
      "28it [00:04,  5.60it/s]\n",
      "30it [00:05,  5.62it/s]\n",
      "27it [00:04,  5.69it/s]\n",
      "29it [00:05,  5.58it/s]\n",
      "27it [00:04,  5.75it/s]\n",
      "27it [00:04,  5.60it/s]\n",
      "26it [00:04,  5.33it/s]\n",
      "26it [00:04,  5.38it/s]\n",
      "26it [00:04,  5.86it/s]\n",
      "26it [00:04,  6.40it/s]\n",
      "27it [00:04,  5.46it/s]\n",
      "26it [00:04,  5.51it/s]\n",
      "26it [00:04,  5.44it/s]\n",
      "26it [00:04,  5.93it/s]\n",
      "27it [00:04,  6.23it/s]\n",
      "28it [00:04,  6.20it/s]\n",
      "27it [00:04,  5.93it/s]\n",
      "26it [00:04,  5.74it/s]\n",
      "29it [00:05,  5.75it/s]\n",
      "26it [00:04,  5.97it/s]\n",
      "27it [00:04,  5.82it/s]\n",
      "26it [00:04,  5.91it/s]\n",
      "26it [00:04,  5.88it/s]\n",
      "26it [00:04,  5.85it/s]\n",
      "27it [00:04,  5.94it/s]\n",
      "27it [00:04,  5.90it/s]\n",
      "26it [00:04,  6.02it/s]\n",
      "26it [00:04,  6.21it/s]\n",
      "26it [00:04,  5.96it/s]\n",
      "27it [00:04,  5.90it/s]\n",
      "24it [00:04,  5.80it/s]\n",
      "27it [00:04,  6.03it/s]\n",
      "30it [00:05,  5.26it/s]\n",
      "26it [00:04,  5.90it/s]\n",
      "27it [00:04,  5.79it/s]\n",
      "26it [00:04,  5.68it/s]\n",
      "29it [00:04,  5.87it/s]\n",
      "29it [00:04,  5.91it/s]\n",
      "27it [00:04,  5.77it/s]\n",
      "26it [00:04,  5.32it/s]\n",
      "26it [00:04,  5.70it/s]\n",
      "27it [00:04,  5.67it/s]\n",
      "26it [00:04,  5.40it/s]\n",
      "26it [00:04,  5.57it/s]\n",
      "26it [00:04,  5.80it/s]\n",
      "24it [00:04,  5.77it/s]\n",
      "26it [00:05,  4.91it/s]\n",
      "28it [00:05,  5.34it/s]\n",
      "26it [00:04,  5.51it/s]\n",
      "26it [00:04,  5.27it/s]\n",
      "26it [00:04,  5.66it/s]\n",
      "28it [00:05,  5.43it/s]\n",
      "27it [00:05,  5.27it/s]\n",
      "27it [00:04,  5.54it/s]\n",
      "28it [00:05,  5.58it/s]\n",
      "27it [00:04,  5.64it/s]\n",
      "27it [00:04,  5.69it/s]\n",
      "27it [00:04,  5.41it/s]\n",
      "28it [00:05,  5.39it/s]\n",
      "26it [00:04,  5.28it/s]\n",
      "28it [00:04,  5.72it/s]\n",
      "27it [00:04,  6.23it/s]\n",
      "26it [00:05,  5.07it/s]\n",
      "29it [00:04,  6.30it/s]\n",
      "26it [00:05,  4.82it/s]\n",
      "26it [00:04,  5.51it/s]\n",
      "27it [00:04,  5.48it/s]\n",
      "28it [00:05,  5.60it/s]\n",
      "27it [00:04,  5.57it/s]\n",
      "26it [00:04,  5.70it/s]\n",
      "29it [00:05,  5.35it/s]\n",
      "30it [00:05,  5.49it/s]\n",
      "27it [00:06,  4.35it/s]\n",
      "27it [00:05,  5.21it/s]\n",
      "26it [00:04,  5.34it/s]\n",
      "26it [00:05,  5.09it/s]\n",
      "26it [00:04,  5.28it/s]\n",
      "27it [00:05,  5.24it/s]\n",
      "27it [00:05,  5.26it/s]\n",
      "27it [00:05,  5.24it/s]\n",
      "26it [00:04,  5.39it/s]\n",
      "26it [00:04,  5.33it/s]\n",
      "26it [00:04,  5.26it/s]\n",
      "30it [00:05,  5.33it/s]\n",
      "27it [00:05,  5.12it/s]\n",
      "27it [00:05,  5.35it/s]\n"
     ]
    }
   ],
   "source": [
    "# read cbct and ct\n",
    "iid = 0\n",
    "for i in range(0, len(paths), 2):\n",
    "    scans = DicomDataset(cbct_path=paths[i+1], ct_path=paths[i], \n",
    "                         geometry_aug=aug.get_validation_augmentation(), intensity_aug=None, \n",
    "                         identity=False, electron=ELECTRON, position=\"pelvic\")\n",
    "    patient_id = scans.patientID()\n",
    "    testloader = torch.utils.data.DataLoader(scans, batch_size=1, shuffle=False, num_workers=4)\n",
    "    try:\n",
    "        os.mkdir(os.path.join(\"eval-gan\", run_name, \"L2_pelvic_cbct\", patient_id))\n",
    "    except FileExistsError:\n",
    "        pass\n",
    "    \n",
    "    test_epoch(iid, model, testloader, device, True, os.path.join(\"eval-gan\", run_name, \"L2_pelvic_cbct\", patient_id)) \n",
    "    iid += len(scans)"
   ]
  },
  {
   "cell_type": "code",
   "execution_count": 178,
   "metadata": {},
   "outputs": [
    {
     "name": "stderr",
     "output_type": "stream",
     "text": [
      "3064it [09:30,  5.37it/s]\n"
     ]
    },
    {
     "data": {
      "text/plain": [
       "(0.8074108277187335,\n",
       " 22.074450613935685,\n",
       " 12.489602482836334,\n",
       " 0.03263976473687095,\n",
       " 0.9953496138124774,\n",
       " 0.838104056579603,\n",
       " 0.4911174575066286,\n",
       " 0.5205613577023499,\n",
       " 0.5197454308093995)"
      ]
     },
     "execution_count": 178,
     "metadata": {},
     "output_type": "execute_result"
    }
   ],
   "source": [
    "testset = DicomsDataset(test_case_path, geometry_aug=aug.get_validation_augmentation(), intensity_aug=None, \n",
    "                        identity=False, electron=ELECTRON, position=\"pelvic\")\n",
    "testloader = torch.utils.data.DataLoader(testset, batch_size=1, shuffle=False, num_workers=4)\n",
    "# score_ssim_test, score_psnr_test, score_snr_test, score_mae_test, \\\n",
    "#             score_air_test, score_bone_test, score_cont_test, score_tf_acc_test, score_edge_acc_test\n",
    "eval_epoch(model, tf_discriminator, edge_discriminator, testloader, device)"
   ]
  },
  {
   "cell_type": "markdown",
   "metadata": {},
   "source": [
    "## Pelvic L2 CT"
   ]
  },
  {
   "cell_type": "code",
   "execution_count": 179,
   "metadata": {},
   "outputs": [],
   "source": [
    "test_case_path = 'L2_pelvic_processed/reg_pelvic_l2/*_*'\n",
    "paths = sorted(glob.glob(test_case_path))"
   ]
  },
  {
   "cell_type": "code",
   "execution_count": 180,
   "metadata": {},
   "outputs": [],
   "source": [
    "try:\n",
    "    os.mkdir(os.path.join(\"eval-gan\", run_name))\n",
    "except FileExistsError:\n",
    "    pass"
   ]
  },
  {
   "cell_type": "code",
   "execution_count": 181,
   "metadata": {},
   "outputs": [],
   "source": [
    "try:\n",
    "    os.mkdir(os.path.join(\"eval-gan\", run_name, \"L2_pelvic_ct\"))\n",
    "except FileExistsError:\n",
    "    pass"
   ]
  },
  {
   "cell_type": "code",
   "execution_count": 182,
   "metadata": {
    "scrolled": true
   },
   "outputs": [
    {
     "name": "stderr",
     "output_type": "stream",
     "text": [
      "26it [00:04,  6.23it/s]\n",
      "26it [00:04,  5.70it/s]\n",
      "26it [00:04,  5.63it/s]\n",
      "27it [00:04,  6.08it/s]\n",
      "31it [00:04,  6.24it/s]\n",
      "27it [00:04,  5.73it/s]\n",
      "27it [00:04,  5.97it/s]\n",
      "26it [00:04,  5.80it/s]\n",
      "28it [00:04,  6.10it/s]\n",
      "28it [00:04,  6.42it/s]\n",
      "27it [00:04,  5.93it/s]\n",
      "27it [00:04,  6.05it/s]\n",
      "26it [00:04,  6.07it/s]\n",
      "26it [00:04,  6.03it/s]\n",
      "26it [00:04,  5.96it/s]\n",
      "26it [00:04,  6.14it/s]\n",
      "26it [00:04,  5.44it/s]\n",
      "26it [00:04,  5.60it/s]\n",
      "27it [00:04,  5.70it/s]\n",
      "26it [00:04,  5.60it/s]\n",
      "26it [00:04,  5.49it/s]\n",
      "28it [00:04,  5.62it/s]\n",
      "28it [00:04,  5.85it/s]\n",
      "29it [00:05,  5.65it/s]\n",
      "28it [00:04,  5.68it/s]\n",
      "26it [00:04,  5.49it/s]\n",
      "27it [00:04,  5.47it/s]\n",
      "26it [00:04,  5.37it/s]\n",
      "28it [00:04,  5.61it/s]\n",
      "30it [00:05,  5.71it/s]\n",
      "27it [00:04,  5.51it/s]\n",
      "29it [00:04,  5.84it/s]\n",
      "27it [00:04,  5.69it/s]\n",
      "27it [00:04,  6.39it/s]\n",
      "26it [00:04,  5.59it/s]\n",
      "26it [00:05,  5.01it/s]\n",
      "26it [00:04,  5.65it/s]\n",
      "26it [00:05,  4.76it/s]\n",
      "27it [00:05,  5.29it/s]\n",
      "26it [00:04,  5.20it/s]\n",
      "26it [00:05,  4.83it/s]\n",
      "26it [00:05,  4.98it/s]\n",
      "27it [00:05,  5.29it/s]\n",
      "28it [00:05,  4.88it/s]\n",
      "27it [00:05,  5.17it/s]\n",
      "26it [00:05,  5.01it/s]\n",
      "29it [00:05,  5.37it/s]\n",
      "26it [00:04,  5.68it/s]\n",
      "27it [00:05,  5.27it/s]\n",
      "26it [00:04,  5.38it/s]\n",
      "26it [00:05,  5.15it/s]\n",
      "26it [00:04,  5.38it/s]\n",
      "27it [00:04,  5.78it/s]\n",
      "27it [00:04,  5.85it/s]\n",
      "26it [00:05,  4.79it/s]\n",
      "26it [00:04,  6.03it/s]\n",
      "26it [00:05,  5.07it/s]\n",
      "27it [00:04,  5.74it/s]\n",
      "24it [00:04,  5.62it/s]\n",
      "27it [00:04,  5.50it/s]\n",
      "30it [00:05,  5.73it/s]\n",
      "26it [00:05,  4.94it/s]\n",
      "27it [00:04,  5.41it/s]\n",
      "26it [00:04,  5.36it/s]\n",
      "29it [00:05,  5.53it/s]\n",
      "29it [00:05,  5.45it/s]\n",
      "27it [00:04,  5.41it/s]\n",
      "26it [00:04,  5.41it/s]\n",
      "26it [00:04,  5.44it/s]\n",
      "27it [00:04,  5.40it/s]\n",
      "26it [00:05,  5.01it/s]\n",
      "26it [00:04,  5.22it/s]\n",
      "26it [00:04,  5.47it/s]\n",
      "24it [00:04,  5.34it/s]\n",
      "26it [00:04,  5.44it/s]\n",
      "28it [00:05,  5.39it/s]\n",
      "26it [00:04,  5.35it/s]\n",
      "26it [00:04,  5.40it/s]\n",
      "26it [00:04,  5.37it/s]\n",
      "28it [00:05,  5.16it/s]\n",
      "27it [00:05,  5.33it/s]\n",
      "27it [00:05,  5.39it/s]\n",
      "28it [00:05,  5.44it/s]\n",
      "27it [00:04,  5.62it/s]\n",
      "27it [00:05,  4.63it/s]\n",
      "27it [00:04,  5.73it/s]\n",
      "28it [00:04,  5.79it/s]\n",
      "26it [00:04,  5.55it/s]\n",
      "28it [00:05,  5.35it/s]\n",
      "27it [00:04,  5.46it/s]\n",
      "26it [00:04,  5.62it/s]\n",
      "29it [00:05,  5.66it/s]\n",
      "26it [00:04,  5.62it/s]\n",
      "26it [00:04,  5.58it/s]\n",
      "27it [00:04,  5.42it/s]\n",
      "28it [00:05,  5.53it/s]\n",
      "27it [00:04,  5.62it/s]\n",
      "26it [00:04,  5.70it/s]\n",
      "29it [00:05,  5.57it/s]\n",
      "30it [00:04,  6.07it/s]\n",
      "27it [00:04,  5.95it/s]\n",
      "27it [00:04,  5.81it/s]\n",
      "26it [00:04,  5.89it/s]\n",
      "26it [00:04,  5.90it/s]\n",
      "26it [00:04,  6.04it/s]\n",
      "27it [00:04,  5.92it/s]\n",
      "27it [00:04,  5.85it/s]\n",
      "27it [00:04,  6.24it/s]\n",
      "26it [00:04,  5.94it/s]\n",
      "26it [00:04,  5.97it/s]\n",
      "26it [00:04,  6.01it/s]\n",
      "30it [00:05,  5.71it/s]\n",
      "27it [00:04,  6.20it/s]\n",
      "27it [00:04,  6.03it/s]\n"
     ]
    }
   ],
   "source": [
    "# read cbct and ct\n",
    "iid = 0\n",
    "for i in range(0, len(paths), 2):\n",
    "    scans = DicomDataset(cbct_path=paths[i+1], ct_path=paths[i],\n",
    "                         geometry_aug=aug.get_validation_augmentation(), intensity_aug=None, \n",
    "                         identity=True, electron=ELECTRON, position=\"pelvic\")\n",
    "    patient_id = scans.patientID()\n",
    "    testloader = torch.utils.data.DataLoader(scans, batch_size=1, shuffle=False, num_workers=4)\n",
    "    try:\n",
    "        os.mkdir(os.path.join(\"eval-gan\", run_name, \"L2_pelvic_ct\", patient_id))\n",
    "    except FileExistsError:\n",
    "        pass\n",
    "    \n",
    "    test_epoch(iid, model, testloader, device, True, os.path.join(\"eval-gan\", run_name, \"L2_pelvic_ct\", patient_id)) \n",
    "    iid += len(scans)"
   ]
  },
  {
   "cell_type": "code",
   "execution_count": 183,
   "metadata": {},
   "outputs": [
    {
     "name": "stderr",
     "output_type": "stream",
     "text": [
      "3064it [09:25,  5.42it/s]\n"
     ]
    },
    {
     "data": {
      "text/plain": [
       "(0.9411424490825003,\n",
       " 29.0512138321879,\n",
       " 19.46636570060222,\n",
       " 0.013232706519215813,\n",
       " 0.9958611560441731,\n",
       " 0.8823977912206861,\n",
       " 0.4348477119380516,\n",
       " 0.4993472584856397,\n",
       " 0.49510443864229764)"
      ]
     },
     "execution_count": 183,
     "metadata": {},
     "output_type": "execute_result"
    }
   ],
   "source": [
    "testset = DicomsDataset(test_case_path, geometry_aug=aug.get_validation_augmentation(), intensity_aug=None, \n",
    "                        identity=True, electron=ELECTRON, position=\"pelvic\")\n",
    "testloader = torch.utils.data.DataLoader(testset, batch_size=1, shuffle=False, num_workers=4)\n",
    "# score_ssim_test, score_psnr_test, score_snr_test, score_mae_test, \\\n",
    "#             score_air_test, score_bone_test, score_cont_test, score_tf_acc_test, score_edge_acc_test\n",
    "eval_epoch(model, tf_discriminator, edge_discriminator, testloader, device)"
   ]
  },
  {
   "cell_type": "markdown",
   "metadata": {},
   "source": [
    "# Abdomen"
   ]
  },
  {
   "cell_type": "code",
   "execution_count": 184,
   "metadata": {},
   "outputs": [],
   "source": [
    "test_case_path = 'abdomen/test/*_*'\n",
    "paths = sorted(glob.glob(test_case_path))"
   ]
  },
  {
   "cell_type": "markdown",
   "metadata": {},
   "source": [
    "## Abdomen on CBCT"
   ]
  },
  {
   "cell_type": "code",
   "execution_count": 185,
   "metadata": {},
   "outputs": [],
   "source": [
    "try:\n",
    "    os.mkdir(os.path.join(\"eval-gan\", run_name))\n",
    "except FileExistsError:\n",
    "    pass"
   ]
  },
  {
   "cell_type": "code",
   "execution_count": 186,
   "metadata": {},
   "outputs": [],
   "source": [
    "try:\n",
    "    os.mkdir(os.path.join(\"eval-gan\", run_name, \"abdomen_test_cbct\"))\n",
    "except FileExistsError:\n",
    "    pass"
   ]
  },
  {
   "cell_type": "code",
   "execution_count": 187,
   "metadata": {},
   "outputs": [
    {
     "name": "stderr",
     "output_type": "stream",
     "text": [
      "28it [00:05,  5.30it/s]\n",
      "78it [00:14,  5.57it/s]\n",
      "50it [00:08,  5.84it/s]\n",
      "29it [00:05,  5.51it/s]\n",
      "50it [00:08,  5.57it/s]\n",
      "71it [00:12,  5.87it/s]\n",
      "39it [00:06,  5.63it/s]\n"
     ]
    }
   ],
   "source": [
    "# read cbct and ct\n",
    "iid = 0\n",
    "for i in range(0, len(paths), 2):\n",
    "    scans = DicomDataset(cbct_path=paths[i+1], ct_path=paths[i], \n",
    "                         geometry_aug=aug.get_validation_augmentation(), intensity_aug=None, \n",
    "                         identity=False, electron=ELECTRON, position=\"abdomen\")\n",
    "    patient_id = scans.patientID()\n",
    "    testloader = torch.utils.data.DataLoader(scans, batch_size=1, shuffle=False, num_workers=4)\n",
    "    try:\n",
    "        os.mkdir(os.path.join(\"eval-gan\", run_name, \"abdomen_test_cbct\", patient_id))\n",
    "    except FileExistsError:\n",
    "        pass\n",
    "    \n",
    "    test_epoch(iid, model, testloader, device, True, os.path.join(\"eval-gan\", run_name, \"abdomen_test_cbct\", patient_id)) \n",
    "    iid += len(scans)"
   ]
  },
  {
   "cell_type": "code",
   "execution_count": 188,
   "metadata": {},
   "outputs": [
    {
     "name": "stderr",
     "output_type": "stream",
     "text": [
      "345it [01:03,  5.41it/s]\n"
     ]
    },
    {
     "data": {
      "text/plain": [
       "(0.7272959983867148,\n",
       " 20.32406278969585,\n",
       " 10.85470384929491,\n",
       " 0.044502573697895245,\n",
       " 0.989591722605515,\n",
       " 0.7860068054672539,\n",
       " 0.33695998710134756,\n",
       " 0.7159420289855073,\n",
       " 0.5463768115942029)"
      ]
     },
     "execution_count": 188,
     "metadata": {},
     "output_type": "execute_result"
    }
   ],
   "source": [
    "testset = DicomsDataset(test_case_path, geometry_aug=aug.get_validation_augmentation(), intensity_aug=None, \n",
    "                        identity=False, electron=ELECTRON, position=\"abdomen\")\n",
    "testloader = torch.utils.data.DataLoader(testset, batch_size=1, shuffle=False, num_workers=4)\n",
    "# score_ssim_test, score_psnr_test, score_snr_test, score_mae_test, \\\n",
    "#             score_air_test, score_bone_test, score_cont_test, score_tf_acc_test, score_edge_acc_test\n",
    "eval_epoch(model, tf_discriminator, edge_discriminator, testloader, device)"
   ]
  },
  {
   "cell_type": "markdown",
   "metadata": {},
   "source": [
    "## Abdomen on CT"
   ]
  },
  {
   "cell_type": "code",
   "execution_count": 189,
   "metadata": {
    "scrolled": true
   },
   "outputs": [],
   "source": [
    "try:\n",
    "    os.mkdir(os.path.join(\"eval-gan\", run_name))\n",
    "except FileExistsError:\n",
    "    pass"
   ]
  },
  {
   "cell_type": "code",
   "execution_count": 190,
   "metadata": {},
   "outputs": [],
   "source": [
    "try:\n",
    "    os.mkdir(os.path.join(\"eval-gan\", run_name, \"abdomen_test_ct\"))\n",
    "except FileExistsError:\n",
    "    pass"
   ]
  },
  {
   "cell_type": "code",
   "execution_count": 191,
   "metadata": {
    "scrolled": true
   },
   "outputs": [
    {
     "name": "stderr",
     "output_type": "stream",
     "text": [
      "28it [00:05,  5.19it/s]\n",
      "78it [00:13,  5.59it/s]\n",
      "50it [00:09,  5.49it/s]\n",
      "29it [00:05,  5.54it/s]\n",
      "50it [00:09,  5.45it/s]\n",
      "71it [00:13,  5.46it/s]\n",
      "39it [00:07,  5.24it/s]\n"
     ]
    }
   ],
   "source": [
    "# read cbct and ct\n",
    "iid = 0\n",
    "for i in range(0, len(paths), 2):\n",
    "    scans = DicomDataset(cbct_path=paths[i+1], ct_path=paths[i], \n",
    "                         geometry_aug=aug.get_validation_augmentation(), intensity_aug=None, \n",
    "                         identity=True, electron=ELECTRON, position=\"abdomen\")\n",
    "    patient_id = scans.patientID()\n",
    "    testloader = torch.utils.data.DataLoader(scans, batch_size=1, shuffle=False, num_workers=4)\n",
    "    try:\n",
    "        os.mkdir(os.path.join(\"eval-gan\", run_name, \"abdomen_test_ct\", patient_id))\n",
    "    except FileExistsError:\n",
    "        pass\n",
    "    \n",
    "    test_epoch(iid, model, testloader, device, True, os.path.join(\"eval-gan\", run_name, \"abdomen_test_ct\", patient_id)) \n",
    "    iid += len(scans)"
   ]
  },
  {
   "cell_type": "code",
   "execution_count": 192,
   "metadata": {},
   "outputs": [
    {
     "name": "stderr",
     "output_type": "stream",
     "text": [
      "345it [01:08,  5.07it/s]\n"
     ]
    },
    {
     "data": {
      "text/plain": [
       "(0.9088492580082106,\n",
       " 27.00215610006581,\n",
       " 17.53279716104701,\n",
       " 0.01863579584042663,\n",
       " 0.9898252428615271,\n",
       " 0.805966013861356,\n",
       " 0.3266208920141925,\n",
       " 0.591304347826087,\n",
       " 0.3739130434782609)"
      ]
     },
     "execution_count": 192,
     "metadata": {},
     "output_type": "execute_result"
    }
   ],
   "source": [
    "testset = DicomsDataset(test_case_path, geometry_aug=aug.get_validation_augmentation(), intensity_aug=None, \n",
    "                        identity=True, electron=ELECTRON, position=\"abdomen\")\n",
    "testloader = torch.utils.data.DataLoader(testset, batch_size=1, shuffle=False, num_workers=4)\n",
    "# score_ssim_test, score_psnr_test, score_snr_test, score_mae_test, \\\n",
    "#             score_air_test, score_bone_test, score_cont_test, score_tf_acc_test, score_edge_acc_test\n",
    "eval_epoch(model, tf_discriminator, edge_discriminator, testloader, device)"
   ]
  },
  {
   "cell_type": "markdown",
   "metadata": {},
   "source": [
    "# Chest"
   ]
  },
  {
   "cell_type": "code",
   "execution_count": 193,
   "metadata": {},
   "outputs": [],
   "source": [
    "test_case_path = 'chest/test/*_*'\n",
    "paths = sorted(glob.glob(test_case_path))"
   ]
  },
  {
   "cell_type": "markdown",
   "metadata": {},
   "source": [
    "## Chest on CBCT"
   ]
  },
  {
   "cell_type": "code",
   "execution_count": 194,
   "metadata": {},
   "outputs": [],
   "source": [
    "try:\n",
    "    os.mkdir(os.path.join(\"eval-gan\", run_name))\n",
    "except FileExistsError:\n",
    "    pass"
   ]
  },
  {
   "cell_type": "code",
   "execution_count": 195,
   "metadata": {},
   "outputs": [],
   "source": [
    "try:\n",
    "    os.mkdir(os.path.join(\"eval-gan\", run_name, \"chest_test_cbct\"))\n",
    "except FileExistsError:\n",
    "    pass"
   ]
  },
  {
   "cell_type": "code",
   "execution_count": 196,
   "metadata": {},
   "outputs": [
    {
     "name": "stderr",
     "output_type": "stream",
     "text": [
      "49it [00:08,  5.86it/s]\n",
      "39it [00:06,  5.65it/s]\n",
      "40it [00:06,  5.77it/s]\n",
      "29it [00:04,  6.29it/s]\n",
      "35it [00:06,  5.60it/s]\n",
      "37it [00:07,  5.06it/s]\n",
      "34it [00:06,  5.47it/s]\n"
     ]
    }
   ],
   "source": [
    "# read cbct and ct\n",
    "iid = 0\n",
    "for i in range(0, len(paths), 2):\n",
    "    scans = DicomDataset(cbct_path=paths[i+1], ct_path=paths[i], \n",
    "                         geometry_aug=aug.get_validation_augmentation(), intensity_aug=None, \n",
    "                         identity=False, electron=ELECTRON, position=\"chest\")\n",
    "    patient_id = scans.patientID()\n",
    "    testloader = torch.utils.data.DataLoader(scans, batch_size=1, shuffle=False, num_workers=4)\n",
    "    try:\n",
    "        os.mkdir(os.path.join(\"eval-gan\", run_name, \"chest_test_cbct\", patient_id))\n",
    "    except FileExistsError:\n",
    "        pass\n",
    "    \n",
    "    test_epoch(iid, model, testloader, device, True, os.path.join(\"eval-gan\", run_name, \"chest_test_cbct\", patient_id)) \n",
    "    iid += len(scans)"
   ]
  },
  {
   "cell_type": "code",
   "execution_count": 197,
   "metadata": {},
   "outputs": [
    {
     "name": "stderr",
     "output_type": "stream",
     "text": [
      "263it [00:48,  5.41it/s]\n"
     ]
    },
    {
     "data": {
      "text/plain": [
       "(0.7536358060492309,\n",
       " 20.44078098050542,\n",
       " 9.99291037606649,\n",
       " 0.03849360927542806,\n",
       " 0.9778123118956982,\n",
       " 0.8222791564446646,\n",
       " 0.5351129234290395,\n",
       " 0.6634980988593155,\n",
       " 0.5570342205323194)"
      ]
     },
     "execution_count": 197,
     "metadata": {},
     "output_type": "execute_result"
    }
   ],
   "source": [
    "testset = DicomsDataset(test_case_path, geometry_aug=aug.get_validation_augmentation(), intensity_aug=None, \n",
    "                        identity=False, electron=ELECTRON, position=\"chest\")\n",
    "testloader = torch.utils.data.DataLoader(testset, batch_size=1, shuffle=False, num_workers=4)\n",
    "# score_ssim_test, score_psnr_test, score_snr_test, score_mae_test, \\\n",
    "#             score_air_test, score_bone_test, score_cont_test, score_tf_acc_test, score_edge_acc_test\n",
    "eval_epoch(model, tf_discriminator, edge_discriminator, testloader, device)"
   ]
  },
  {
   "cell_type": "markdown",
   "metadata": {},
   "source": [
    "## Chest on CT"
   ]
  },
  {
   "cell_type": "code",
   "execution_count": 198,
   "metadata": {
    "scrolled": true
   },
   "outputs": [],
   "source": [
    "try:\n",
    "    os.mkdir(os.path.join(\"eval-gan\", run_name))\n",
    "except FileExistsError:\n",
    "    pass"
   ]
  },
  {
   "cell_type": "code",
   "execution_count": 199,
   "metadata": {},
   "outputs": [],
   "source": [
    "try:\n",
    "    os.mkdir(os.path.join(\"eval-gan\", run_name, \"chest_test_ct\"))\n",
    "except FileExistsError:\n",
    "    pass"
   ]
  },
  {
   "cell_type": "code",
   "execution_count": 200,
   "metadata": {
    "scrolled": true
   },
   "outputs": [
    {
     "name": "stderr",
     "output_type": "stream",
     "text": [
      "49it [00:08,  5.86it/s]\n",
      "39it [00:06,  6.20it/s]\n",
      "40it [00:06,  5.92it/s]\n",
      "29it [00:04,  6.08it/s]\n",
      "35it [00:05,  5.93it/s]\n",
      "37it [00:06,  5.59it/s]\n",
      "34it [00:05,  5.89it/s]\n"
     ]
    }
   ],
   "source": [
    "# read cbct and ct\n",
    "iid = 0\n",
    "for i in range(0, len(paths), 2):\n",
    "    scans = DicomDataset(cbct_path=paths[i+1], ct_path=paths[i], \n",
    "                         geometry_aug=aug.get_validation_augmentation(), intensity_aug=None, \n",
    "                         identity=True, electron=ELECTRON, position=\"chest\")\n",
    "    patient_id = scans.patientID()\n",
    "    testloader = torch.utils.data.DataLoader(scans, batch_size=1, shuffle=False, num_workers=4)\n",
    "    try:\n",
    "        os.mkdir(os.path.join(\"eval-gan\", run_name, \"chest_test_ct\", patient_id))\n",
    "    except FileExistsError:\n",
    "        pass\n",
    "    \n",
    "    test_epoch(iid, model, testloader, device, True, os.path.join(\"eval-gan\", run_name, \"chest_test_ct\", patient_id)) \n",
    "    iid += len(scans)"
   ]
  },
  {
   "cell_type": "code",
   "execution_count": 201,
   "metadata": {},
   "outputs": [
    {
     "name": "stderr",
     "output_type": "stream",
     "text": [
      "263it [00:49,  5.31it/s]\n"
     ]
    },
    {
     "data": {
      "text/plain": [
       "(0.9286883242229999,\n",
       " 28.176404148000273,\n",
       " 17.728533549000556,\n",
       " 0.013620279523979576,\n",
       " 0.978901931413855,\n",
       " 0.8215224955149306,\n",
       " 0.4728130947501034,\n",
       " 0.49619771863117873,\n",
       " 0.37072243346007605)"
      ]
     },
     "execution_count": 201,
     "metadata": {},
     "output_type": "execute_result"
    }
   ],
   "source": [
    "testset = DicomsDataset(test_case_path, geometry_aug=aug.get_validation_augmentation(), intensity_aug=None, \n",
    "                        identity=True, electron=ELECTRON, position=\"chest\")\n",
    "testloader = torch.utils.data.DataLoader(testset, batch_size=1, shuffle=False, num_workers=4)\n",
    "# score_ssim_test, score_psnr_test, score_snr_test, score_mae_test, \\\n",
    "#             score_air_test, score_bone_test, score_cont_test, score_tf_acc_test, score_edge_acc_test\n",
    "eval_epoch(model, tf_discriminator, edge_discriminator, testloader, device)"
   ]
  },
  {
   "cell_type": "markdown",
   "metadata": {},
   "source": [
    "# Headneck"
   ]
  },
  {
   "cell_type": "code",
   "execution_count": 202,
   "metadata": {},
   "outputs": [],
   "source": [
    "test_case_path = 'headneck/test/*_*'\n",
    "paths = sorted(glob.glob(test_case_path))"
   ]
  },
  {
   "cell_type": "markdown",
   "metadata": {},
   "source": [
    "## Headneck on CBCT"
   ]
  },
  {
   "cell_type": "code",
   "execution_count": 203,
   "metadata": {},
   "outputs": [],
   "source": [
    "try:\n",
    "    os.mkdir(os.path.join(\"eval-gan\", run_name))\n",
    "except FileExistsError:\n",
    "    pass"
   ]
  },
  {
   "cell_type": "code",
   "execution_count": 204,
   "metadata": {},
   "outputs": [],
   "source": [
    "try:\n",
    "    os.mkdir(os.path.join(\"eval-gan\", run_name, \"hn_test_cbct\"))\n",
    "except FileExistsError:\n",
    "    pass"
   ]
  },
  {
   "cell_type": "code",
   "execution_count": 205,
   "metadata": {},
   "outputs": [
    {
     "name": "stderr",
     "output_type": "stream",
     "text": [
      "58it [00:09,  6.06it/s]\n",
      "55it [00:09,  5.99it/s]\n",
      "55it [00:09,  5.99it/s]\n",
      "56it [00:08,  6.45it/s]\n",
      "56it [00:09,  6.02it/s]\n",
      "55it [00:09,  5.62it/s]\n",
      "56it [00:09,  5.78it/s]\n"
     ]
    }
   ],
   "source": [
    "# read cbct and ct\n",
    "iid = 0\n",
    "for i in range(0, len(paths), 2):\n",
    "    scans = DicomDataset(cbct_path=paths[i+1], ct_path=paths[i], \n",
    "                         geometry_aug=aug.get_validation_augmentation(), intensity_aug=None, \n",
    "                         identity=False, electron=ELECTRON, position=\"headneck\")\n",
    "    patient_id = scans.patientID()\n",
    "    testloader = torch.utils.data.DataLoader(scans, batch_size=1, shuffle=False, num_workers=4)\n",
    "    try:\n",
    "        os.mkdir(os.path.join(\"eval-gan\", run_name, \"hn_test_cbct\", patient_id))\n",
    "    except FileExistsError:\n",
    "        pass\n",
    "    \n",
    "    test_epoch(iid, model, testloader, device, True, os.path.join(\"eval-gan\", run_name, \"hn_test_cbct\", patient_id)) \n",
    "    iid += len(scans)"
   ]
  },
  {
   "cell_type": "code",
   "execution_count": 206,
   "metadata": {},
   "outputs": [
    {
     "name": "stderr",
     "output_type": "stream",
     "text": [
      "391it [01:12,  5.39it/s]\n"
     ]
    },
    {
     "data": {
      "text/plain": [
       "(0.83341894064413,\n",
       " 21.439775281550023,\n",
       " 7.487222511140282,\n",
       " 0.028992231377898275,\n",
       " 0.550826864751007,\n",
       " 0.746145474305741,\n",
       " 0.2833169284548677,\n",
       " 0.43861892583120204,\n",
       " 0.6560102301790282)"
      ]
     },
     "execution_count": 206,
     "metadata": {},
     "output_type": "execute_result"
    }
   ],
   "source": [
    "testset = DicomsDataset(test_case_path, geometry_aug=aug.get_validation_augmentation(), intensity_aug=None, \n",
    "                        identity=False, electron=ELECTRON, position=\"headneck\")\n",
    "testloader = torch.utils.data.DataLoader(testset, batch_size=1, shuffle=False, num_workers=4)\n",
    "# score_ssim_test, score_psnr_test, score_snr_test, score_mae_test, \\\n",
    "#             score_air_test, score_bone_test, score_cont_test, score_tf_acc_test, score_edge_acc_test\n",
    "eval_epoch(model, tf_discriminator, edge_discriminator, testloader, device)"
   ]
  },
  {
   "cell_type": "markdown",
   "metadata": {},
   "source": [
    "## Headneck on CT"
   ]
  },
  {
   "cell_type": "code",
   "execution_count": 207,
   "metadata": {
    "scrolled": true
   },
   "outputs": [],
   "source": [
    "try:\n",
    "    os.mkdir(os.path.join(\"eval-gan\", run_name))\n",
    "except FileExistsError:\n",
    "    pass"
   ]
  },
  {
   "cell_type": "code",
   "execution_count": 208,
   "metadata": {},
   "outputs": [],
   "source": [
    "try:\n",
    "    os.mkdir(os.path.join(\"eval-gan\", run_name, \"hn_test_ct\"))\n",
    "except FileExistsError:\n",
    "    pass"
   ]
  },
  {
   "cell_type": "code",
   "execution_count": 209,
   "metadata": {
    "scrolled": true
   },
   "outputs": [
    {
     "name": "stderr",
     "output_type": "stream",
     "text": [
      "58it [00:09,  6.03it/s]\n",
      "55it [00:09,  5.93it/s]\n",
      "55it [00:09,  5.58it/s]\n",
      "56it [00:09,  5.93it/s]\n",
      "56it [00:09,  5.65it/s]\n",
      "55it [00:09,  5.81it/s]\n",
      "56it [00:09,  5.81it/s]\n"
     ]
    }
   ],
   "source": [
    "# read cbct and ct\n",
    "iid = 0\n",
    "for i in range(0, len(paths), 2):\n",
    "    scans = DicomDataset(cbct_path=paths[i+1], ct_path=paths[i], \n",
    "                         geometry_aug=aug.get_validation_augmentation(), intensity_aug=None, \n",
    "                         identity=True, electron=ELECTRON, position=\"headneck\")\n",
    "    patient_id = scans.patientID()\n",
    "    testloader = torch.utils.data.DataLoader(scans, batch_size=1, shuffle=False, num_workers=4)\n",
    "    try:\n",
    "        os.mkdir(os.path.join(\"eval-gan\", run_name, \"hn_test_ct\", patient_id))\n",
    "    except FileExistsError:\n",
    "        pass\n",
    "    \n",
    "    test_epoch(iid, model, testloader, device, True, os.path.join(\"eval-gan\", run_name, \"hn_test_ct\", patient_id)) \n",
    "    iid += len(scans)"
   ]
  },
  {
   "cell_type": "code",
   "execution_count": 210,
   "metadata": {},
   "outputs": [
    {
     "name": "stderr",
     "output_type": "stream",
     "text": [
      "391it [01:13,  5.33it/s]\n"
     ]
    },
    {
     "data": {
      "text/plain": [
       "(0.8913066514465205,\n",
       " 26.673223134501814,\n",
       " 12.720670286651767,\n",
       " 0.022631603734963156,\n",
       " 0.5999451082038415,\n",
       " 0.7534508071876542,\n",
       " 0.2599781919572281,\n",
       " 0.4731457800511509,\n",
       " 0.42327365728900257)"
      ]
     },
     "execution_count": 210,
     "metadata": {},
     "output_type": "execute_result"
    }
   ],
   "source": [
    "testset = DicomsDataset(test_case_path, geometry_aug=aug.get_validation_augmentation(), intensity_aug=None, \n",
    "                        identity=True, electron=ELECTRON, position=\"headneck\")\n",
    "testloader = torch.utils.data.DataLoader(testset, batch_size=1, shuffle=False, num_workers=4)\n",
    "# score_ssim_test, score_psnr_test, score_snr_test, score_mae_test, \\\n",
    "#             score_air_test, score_bone_test, score_cont_test, score_tf_acc_test, score_edge_acc_test\n",
    "eval_epoch(model, tf_discriminator, edge_discriminator, testloader, device)"
   ]
  },
  {
   "cell_type": "code",
   "execution_count": null,
   "metadata": {},
   "outputs": [],
   "source": []
  },
  {
   "cell_type": "code",
   "execution_count": null,
   "metadata": {},
   "outputs": [],
   "source": []
  },
  {
   "cell_type": "code",
   "execution_count": null,
   "metadata": {},
   "outputs": [],
   "source": []
  },
  {
   "cell_type": "code",
   "execution_count": null,
   "metadata": {},
   "outputs": [],
   "source": []
  }
 ],
 "metadata": {
  "kernelspec": {
   "display_name": "Python 3",
   "language": "python",
   "name": "python3"
  },
  "language_info": {
   "codemirror_mode": {
    "name": "ipython",
    "version": 3
   },
   "file_extension": ".py",
   "mimetype": "text/x-python",
   "name": "python",
   "nbconvert_exporter": "python",
   "pygments_lexer": "ipython3",
   "version": "3.8.5"
  }
 },
 "nbformat": 4,
 "nbformat_minor": 5
}
