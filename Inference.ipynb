{
 "cells": [
  {
   "cell_type": "code",
   "execution_count": 1,
   "metadata": {},
   "outputs": [],
   "source": [
    "import os\n",
    "\n",
    "import torch\n",
    "import torch.nn as nn\n",
    "import torch.nn.functional as F\n",
    "import torch.optim as optim\n",
    "from torch.utils.data import DataLoader, Subset, ConcatDataset\n",
    "\n",
    "import cv2\n",
    "import numpy as np\n",
    "import pandas as pd\n",
    "from tqdm import tqdm\n",
    "import random\n",
    "import json"
   ]
  },
  {
   "cell_type": "code",
   "execution_count": 2,
   "metadata": {},
   "outputs": [],
   "source": [
    "import segmentation_models_pytorch as smp\n",
    "from segmentation_models_pytorch.losses import DiceLoss\n",
    "from segmentation_models_pytorch.utils.metrics import IoU, Fscore, Accuracy"
   ]
  },
  {
   "cell_type": "code",
   "execution_count": 3,
   "metadata": {},
   "outputs": [],
   "source": [
    "import matplotlib.pyplot as plt\n",
    "\n",
    "# helper function for data visualization\n",
    "def visualize(**images):\n",
    "    \"\"\"PLot images in one row.\"\"\"\n",
    "    n = len(images)\n",
    "    plt.figure(figsize=(16, 5))\n",
    "    for i, (name, image) in enumerate(images.items()):\n",
    "        plt.subplot(1, n, i + 1)\n",
    "        plt.xticks([])\n",
    "        plt.yticks([])\n",
    "        plt.title(' '.join(name.split('_')).title())\n",
    "        plt.imshow(image, 'gray')\n",
    "    plt.show()"
   ]
  },
  {
   "cell_type": "code",
   "execution_count": 4,
   "metadata": {},
   "outputs": [
    {
     "name": "stdout",
     "output_type": "stream",
     "text": [
      "[0.5488135  0.71518937 0.60276338 0.54488318 0.4236548 ] tensor([ 1.5410, -0.2934, -2.1788,  0.5684, -1.0845])\n"
     ]
    }
   ],
   "source": [
    "import random\n",
    "\n",
    "SEED = 0\n",
    "random.seed(SEED)\n",
    "np.random.seed(SEED)\n",
    "torch.manual_seed(SEED)\n",
    "\n",
    "print(np.random.rand(5), torch.randn(5))"
   ]
  },
  {
   "cell_type": "markdown",
   "metadata": {},
   "source": [
    "# Settings"
   ]
  },
  {
   "cell_type": "code",
   "execution_count": 5,
   "metadata": {},
   "outputs": [],
   "source": [
    "root = os.getcwd()\n",
    "device = torch.device(\"cuda:0\" if torch.cuda.is_available() else \"cpu\")\n",
    "\n",
    "BATCH = 4\n",
    "\n",
    "GEN_IN_CHANNELS = 1\n",
    "GEN_N_CLASSES = 1\n",
    "\n",
    "DIS_IN_CHANNELS = 1\n",
    "DIS_N_CLASSES = 2\n",
    "\n",
    "E_IN_CHANNELS = 1\n",
    "E_N_CLASSES = 2\n",
    "\n",
    "EPOCH = 200"
   ]
  },
  {
   "cell_type": "markdown",
   "metadata": {},
   "source": [
    "### Model Settings"
   ]
  },
  {
   "cell_type": "markdown",
   "metadata": {},
   "source": [
    "#### encoder"
   ]
  },
  {
   "cell_type": "code",
   "execution_count": 96,
   "metadata": {},
   "outputs": [],
   "source": [
    "ENCODER = \"resnet152\"\n",
    "ENCODER_WEIGHT = None"
   ]
  },
  {
   "cell_type": "markdown",
   "metadata": {},
   "source": [
    "#### decoder"
   ]
  },
  {
   "cell_type": "code",
   "execution_count": 97,
   "metadata": {},
   "outputs": [],
   "source": [
    "DECODER_ATT = \"scse\""
   ]
  },
  {
   "cell_type": "markdown",
   "metadata": {},
   "source": [
    "#### head"
   ]
  },
  {
   "cell_type": "code",
   "execution_count": 98,
   "metadata": {},
   "outputs": [],
   "source": [
    "GEN_ACT = \"sigmoid\"\n",
    "DIS_ACT = \"softmax\"\n",
    "E_ACT = \"softmax\""
   ]
  },
  {
   "cell_type": "markdown",
   "metadata": {},
   "source": [
    "### Optimizer Settings"
   ]
  },
  {
   "cell_type": "code",
   "execution_count": 99,
   "metadata": {},
   "outputs": [],
   "source": [
    "GEN_OPTIM_NAME = \"adam\"\n",
    "GEN_init_lr = 1e-4\n",
    "GEN_momentum = 0.9"
   ]
  },
  {
   "cell_type": "code",
   "execution_count": 100,
   "metadata": {},
   "outputs": [],
   "source": [
    "DIS_OPTIM_NAME = \"adam\"\n",
    "DIS_init_lr = 1e-3\n",
    "DIS_momentum = 0.9\n",
    "DIS_scheduler = \"cosineAnnWarm\""
   ]
  },
  {
   "cell_type": "code",
   "execution_count": 101,
   "metadata": {},
   "outputs": [],
   "source": [
    "E_OPTIM_NAME = \"adam\"\n",
    "E_init_lr = 1e-3\n",
    "E_momentum = 0.9\n",
    "E_scheduler = \"cosineAnnWarm\""
   ]
  },
  {
   "cell_type": "markdown",
   "metadata": {},
   "source": [
    "# Epochs"
   ]
  },
  {
   "cell_type": "code",
   "execution_count": 102,
   "metadata": {},
   "outputs": [],
   "source": [
    "from codes.losses import SSIMLoss\n",
    "from codes.losses import MAELoss\n",
    "from pytorch_msssim import ssim\n",
    "from codes.metrics import PSNR, SNR, ContourEval\n",
    "from codes.activation import Activation\n",
    "from codes.utils import hu_clip_tensor\n",
    "from codes.losses import PerceptualLoss\n",
    "from kornia.filters.sobel import Sobel"
   ]
  },
  {
   "cell_type": "code",
   "execution_count": 103,
   "metadata": {},
   "outputs": [],
   "source": [
    "def set_requires_grad(nets, requires_grad=False):\n",
    "    \"\"\"Set requies_grad=Fasle for all the networks to avoid unnecessary computations\n",
    "    Parameters:\n",
    "    nets (network list)   -- a list of networks\n",
    "    requires_grad (bool)  -- whether the networks require gradients or not\n",
    "    \"\"\"\n",
    "    if not isinstance(nets, list):\n",
    "        nets = [nets]\n",
    "        for net in nets:\n",
    "            if net is not None:\n",
    "                for param in net.parameters():\n",
    "                    param.requires_grad = requires_grad"
   ]
  },
  {
   "cell_type": "code",
   "execution_count": 104,
   "metadata": {},
   "outputs": [],
   "source": [
    "def replace_relu_to_leakyReLU(model):\n",
    "    for child_name, child in model.named_children():\n",
    "        if isinstance(child, nn.ReLU):\n",
    "            setattr(model, child_name, nn.LeakyReLU())\n",
    "        else:\n",
    "            replace_relu_to_leakyReLU(child)"
   ]
  },
  {
   "cell_type": "code",
   "execution_count": 105,
   "metadata": {},
   "outputs": [],
   "source": [
    "def replace_bn_to_instanceNorm(model):\n",
    "    for child_name, child in model.named_children():\n",
    "        if isinstance(child, nn.BatchNorm2d):\n",
    "            bn = getattr(model, child_name)\n",
    "            setattr(model, child_name, nn.InstanceNorm2d(bn.num_features))\n",
    "        else:\n",
    "            replace_bn_to_instanceNorm(child)"
   ]
  },
  {
   "cell_type": "code",
   "execution_count": 106,
   "metadata": {},
   "outputs": [],
   "source": [
    "perceptual_ext = PerceptualLoss()"
   ]
  },
  {
   "cell_type": "code",
   "execution_count": 107,
   "metadata": {},
   "outputs": [],
   "source": [
    "sobel_filter = Sobel().to(device)"
   ]
  },
  {
   "cell_type": "code",
   "execution_count": 108,
   "metadata": {},
   "outputs": [],
   "source": [
    "def train_a2b_epoch(epoch, generator, gen_optim, \n",
    "                    tf_discriminator, tf_d_optim, tf_scheduler, \n",
    "                    edge_discriminator, edge_d_optim, edge_scheduler, \n",
    "                    dataloader, device):\n",
    "\n",
    "    # change mode to train and move to current device\n",
    "    generator = generator.eval().to(device)\n",
    "    tf_discriminator = tf_discriminator.train().to(device)\n",
    "    edge_discriminator = edge_discriminator.train().to(device)\n",
    "    \n",
    "    tf_dis_l = 0\n",
    "    edge_dis_l = 0\n",
    "    tf_gen_l = 0\n",
    "    edge_gen_l = 0\n",
    "\n",
    "    set_requires_grad(tf_discriminator, True)\n",
    "    set_requires_grad(edge_discriminator, True)\n",
    "    set_requires_grad(generator, False)\n",
    "    \n",
    "    iteration = len(dataloader)\n",
    "    \n",
    "    for index, data in tqdm(enumerate(dataloader)):\n",
    "        torch.cuda.empty_cache()\n",
    "        \n",
    "        x, y, air_x, bone_x, *_ = data\n",
    "\n",
    "        x = x.to(device)\n",
    "        y = y.to(device)\n",
    "        air_x = air_x.to(device)\n",
    "        bone_x = bone_x.to(device)\n",
    "\n",
    "        y_pr = generator(x)\n",
    "        y_pr = Activation(name=GEN_ACT)(y_pr) # zipped value to [0, 1]\n",
    "        \n",
    "        edge_x = sobel_filter(x)\n",
    "        edge_y_pr = sobel_filter(y_pr)\n",
    "        edge_y = sobel_filter(y)\n",
    "        \n",
    "       ############################\n",
    "        # (1) Update True/Fake D network: maximize log(D(x)) + log(1 - D(G(z)))\n",
    "        ###########################\n",
    "        tf_d_optim.zero_grad()\n",
    "\n",
    "        y_cls = tf_discriminator(y)\n",
    "        y_pr_cls = tf_discriminator(y_pr.detach())\n",
    "        \n",
    "        tf_dis = 0\n",
    "        for _y_cls, _y_pr_cls in zip(y_cls, y_pr_cls):\n",
    "            B, C = _y_cls.size()\n",
    "            tf_dis = nn.CrossEntropyLoss()(_y_cls.float(), torch.zeros(B, dtype=torch.long, device=device)) + \\\n",
    "                            nn.CrossEntropyLoss()(_y_pr_cls.float(), torch.ones(B, dtype=torch.long, device=device)) + \\\n",
    "                            tf_dis\n",
    "\n",
    "        tf_dis = tf_dis / (len(y_cls))\n",
    "        tf_dis.backward()\n",
    "        tf_d_optim.step()\n",
    "        tf_scheduler.step(EPOCH + index / iteration)\n",
    "        \n",
    "        tf_dis_l += tf_dis.item()\n",
    "        \n",
    "       ############################\n",
    "        # (1.1) Update Edge D network: maximize log(D(x)) + log(1 - D(G(z)))\n",
    "        ###########################        \n",
    "        edge_d_optim.zero_grad()        \n",
    " \n",
    "        edge_y_cls = edge_discriminator(edge_y)\n",
    "        edge_pr_cls = edge_discriminator(edge_y_pr.detach())\n",
    "        \n",
    "        edge_dis = 0\n",
    "        for _edge_y_cls, _edge_pr_cls in zip(edge_y_cls, edge_pr_cls):\n",
    "            B, C = _edge_y_cls.size()\n",
    "            edge_dis = nn.CrossEntropyLoss()(_edge_y_cls.float(), torch.zeros(B, dtype=torch.long, device=device)) + \\\n",
    "                                    nn.CrossEntropyLoss()(_edge_pr_cls.float(), torch.ones(B, dtype=torch.long, device=device)) + \\\n",
    "                                    edge_dis\n",
    "\n",
    "        edge_dis = edge_dis / (len(edge_y_cls))\n",
    "        edge_dis.backward()\n",
    "        edge_d_optim.step()       \n",
    "        edge_scheduler.step(EPOCH + index / iteration)\n",
    "        \n",
    "        edge_dis_l += edge_dis.item()\n",
    "\n",
    "        \n",
    "    ############################\n",
    "    # (2) Update G network: maximize log(D(G(z)))\n",
    "    ###########################\n",
    "    \n",
    "    # change mode to train and move to current device\n",
    "    generator = generator.train().to(device)\n",
    "    tf_discriminator = tf_discriminator.eval().to(device)\n",
    "    edge_discriminator = edge_discriminator.eval().to(device)\n",
    "    \n",
    "    air_l = 0\n",
    "    bone_l = 0\n",
    "    mae_l = 0\n",
    "    \n",
    "    set_requires_grad(tf_discriminator, False)\n",
    "    set_requires_grad(edge_discriminator, False)\n",
    "    set_requires_grad(generator, True)\n",
    "        \n",
    "    for index, data in tqdm(enumerate(dataloader)):\n",
    "        torch.cuda.empty_cache()\n",
    "        \n",
    "        x, y, air_x, bone_x, *_ = data\n",
    "\n",
    "        x = x.to(device)\n",
    "        y = y.to(device)\n",
    "        air_x = air_x.to(device)\n",
    "        bone_x = bone_x.to(device)\n",
    "\n",
    "        y_pr = generator(x)\n",
    "        y_pr = Activation(name=GEN_ACT)(y_pr) # zipped value to [0, 1]\n",
    "        \n",
    "        edge_x = sobel_filter(x)\n",
    "        edge_y_pr = sobel_filter(y_pr)\n",
    "        edge_y = sobel_filter(y)\n",
    "\n",
    "        gen_optim.zero_grad()\n",
    "\n",
    "        # adversarial loss\n",
    "        assert y_pr.requires_grad, \"ct_pred without gradient\"\n",
    "        assert edge_y_pr.requires_grad, \"edge without gradient\"\n",
    "        \n",
    "        y_pr_cls = tf_discriminator(y_pr)\n",
    "        tf_gen = 0\n",
    "        for _y_pr_cls in y_pr_cls:\n",
    "            tf_gen = nn.CrossEntropyLoss()(_y_pr_cls.float(), torch.zeros(_y_pr_cls.size()[0], dtype=torch.long, device=device)) + tf_gen\n",
    "        tf_gen = tf_gen / (len(y_pr_cls))\n",
    "        \n",
    "        edge_pr_cls = edge_discriminator(edge_y_pr)  \n",
    "        edge_gen = 0\n",
    "        for _edge_pr_cls in edge_pr_cls:\n",
    "            edge_gen = nn.CrossEntropyLoss()(_edge_pr_cls.float(), torch.zeros(_edge_pr_cls.size()[0], dtype=torch.long, device=device)) + edge_gen\n",
    "        edge_gen = edge_gen / (len(edge_pr_cls))\n",
    "\n",
    "        \n",
    "        # auxilary loss\n",
    "        # https://discuss.pytorch.org/t/unclear-about-weighted-bce-loss/21486/2\n",
    "        _min = -500\n",
    "        _max = 500\n",
    "        air_window = (-500, -499)\n",
    "        upper = ((air_window[1]) - (_min))/(_max-(_min))\n",
    "        lower = ((air_window[0]) - (_min))/(_max-(_min))\n",
    "        air_pr = hu_clip_tensor(y_pr.double(), (lower, upper), None, True)\n",
    "        air_loss = nn.BCELoss()(air_pr.float(), air_x.float())\n",
    "        \n",
    "        bone_window = (255, 256)\n",
    "        upper = ((bone_window[1]) - (_min))/(_max-(_min))\n",
    "        lower = ((bone_window[0]) - (_min))/(_max-(_min))\n",
    "        bone_pr = hu_clip_tensor(y_pr.double(), (lower, upper), None, True)\n",
    "        bone_loss = nn.BCELoss()(bone_pr.float(), bone_x.float())\n",
    "\n",
    "        _loss = tf_gen + edge_gen + air_loss + bone_loss\n",
    "        _loss.backward()    \n",
    "        gen_optim.step()\n",
    "\n",
    "        edge_gen_l += edge_gen.item()\n",
    "        tf_gen_l += tf_gen.item()\n",
    "        air_l += air_loss.item()\n",
    "        bone_l += bone_loss.item()\n",
    "        \n",
    "    return  air_l/(index+1), bone_l/(index+1), \\\n",
    "                    edge_gen_l/(index+1), tf_gen_l/(index+1), \\\n",
    "                    edge_dis_l/(index+1), tf_dis_l/(index+1), \\\n",
    "                    tf_scheduler.get_last_lr()[0], edge_scheduler.get_last_lr()[0]"
   ]
  },
  {
   "cell_type": "code",
   "execution_count": 109,
   "metadata": {},
   "outputs": [],
   "source": [
    "@torch.no_grad()\n",
    "def eval_epoch(generator, tf_discriminator, edge_discriminator, dataloader, device):\n",
    "  \n",
    "    # change mode to train and move to current device\n",
    "    generator = generator.eval().to(device)\n",
    "    tf_discriminator = tf_discriminator.eval().to(device)\n",
    "    edge_discriminator = edge_discriminator.eval().to(device)\n",
    "    \n",
    "    ssim_ = []\n",
    "    psnr_ = []\n",
    "    mae_ = []\n",
    "    snr_ = []\n",
    "    \n",
    "    air_ = []\n",
    "    bone_ = []\n",
    "    cont_ = []\n",
    " \n",
    "    tf_acc = []\n",
    "    edge_acc = []\n",
    "    \n",
    "    for index, data in tqdm(enumerate(dataloader)):\n",
    "\n",
    "        x, y, air_x, bone_x, *_ = data\n",
    "\n",
    "        x = x.to(device)\n",
    "        y = y.to(device)\n",
    "        air_x = air_x.to(device)\n",
    "        bone_x = bone_x.to(device)\n",
    "\n",
    "        y_pr = generator(x)\n",
    "        y_pr = Activation(name=GEN_ACT)(y_pr) # zipped value to [0, 1]\n",
    "        \n",
    "        edge_x = sobel_filter(x)\n",
    "        edge_y_pr = sobel_filter(y_pr)\n",
    "        edge_y = sobel_filter(y)\n",
    "        \n",
    "        total = x.size()[0]\n",
    "       ############################\n",
    "        # (1) Eval True/Fake D network: maximize log(D(x)) + log(1 - D(G(z)))\n",
    "        ###########################        \n",
    "        y_cls = tf_discriminator(y)\n",
    "        for _y_cls in y_cls:\n",
    "            _y_cls = Activation(name=DIS_ACT)(_y_cls)\n",
    "            _, _y_cls = torch.max(_y_cls.data, 1)\n",
    "            correct = (_y_cls == torch.zeros(total, dtype=torch.long, device=device)).sum().item()\n",
    "            tf_acc += [correct / total]        \n",
    "        \n",
    "        y_pr_cls = tf_discriminator(y_pr)\n",
    "        for _y_pr_cls in y_pr_cls:\n",
    "            _y_pr_cls = Activation(name=DIS_ACT)(_y_pr_cls)\n",
    "            _, _y_pr_cls = torch.max(_y_pr_cls.data, 1)\n",
    "            correct = (_y_pr_cls == torch.ones(total, dtype=torch.long, device=device)).sum().item()\n",
    "            tf_acc += [correct / total]\n",
    "        \n",
    "       ############################\n",
    "        # (1.1) Eval Edge D network: maximize log(D(x)) + log(1 - D(G(z)))\n",
    "        ###########################  \n",
    "        edge_y_cls = edge_discriminator(edge_y)\n",
    "        for _edge_y_cls in edge_y_cls:\n",
    "            _edge_y_cls = Activation(name=DIS_ACT)(_edge_y_cls)\n",
    "            _, _edge_y_cls = torch.max(_edge_y_cls.data, 1)\n",
    "            correct = (_edge_y_cls == torch.zeros(total, dtype=torch.long, device=device)).sum().item()\n",
    "            edge_acc += [correct / total]          \n",
    "        \n",
    "        edge_pr_cls = edge_discriminator(edge_y_pr)\n",
    "        for _edge_pr_cls in edge_pr_cls:\n",
    "            _edge_pr_cls = Activation(name=DIS_ACT)(_edge_pr_cls)\n",
    "            _, _edge_pr_cls = torch.max(_edge_pr_cls.data, 1)\n",
    "            correct = (_edge_pr_cls == torch.ones(total, dtype=torch.long, device=device)).sum().item()\n",
    "            edge_acc += [correct / total]        \n",
    "        \n",
    "        ############################\n",
    "        # (2) Eval G network: maximize log(D(G(z)))\n",
    "        ###########################\n",
    "        \n",
    "        # main\n",
    "        _ssim = ssim(y, y_pr, data_range=1.0, size_average=True) # return (N,)\n",
    "        _psnr = PSNR()(y_pr, y, 1.0)\n",
    "        _snr = SNR()(y_pr, y)\n",
    "        _mae = MAELoss()(y_pr.float(), y.float())\n",
    "\n",
    "        ssim_ += [_ssim.item()]\n",
    "        psnr_ += [_psnr.item()]\n",
    "        mae_ += [_mae.item()]\n",
    "        snr_ += [_snr.item()]\n",
    "        \n",
    "        # auxilary\n",
    "        _min = -500\n",
    "        _max = 500\n",
    "        air_window = (-500, -499)\n",
    "        upper = ((air_window[1]) - (_min))/(_max-(_min))\n",
    "        lower = ((air_window[0]) - (_min))/(_max-(_min))\n",
    "        air_pr = hu_clip_tensor(y_pr.double(), (lower, upper), None, True)\n",
    "        dice = Fscore()(air_pr, air_x)\n",
    "        air_ += [dice.item()]\n",
    "        \n",
    "        bone_window = (255, 256)\n",
    "        upper = ((bone_window[1]) - (_min))/(_max-(_min))\n",
    "        lower = ((bone_window[0]) - (_min))/(_max-(_min))\n",
    "        bone_pr = hu_clip_tensor(y_pr.double(), (lower, upper), None, True)\n",
    "        dice = Fscore()(bone_pr, bone_x)\n",
    "        bone_ += [dice.item()]\n",
    "\n",
    "        for b in range(x.size()[0]):\n",
    "            cont = ContourEval()(y_pr[b, :, :, :], x[b, :, :, :])\n",
    "            cont_ += [cont.item()]\n",
    "\n",
    "    return  sum(ssim_)/len(ssim_), sum(psnr_)/len(psnr_), sum(snr_)/len(snr_), sum(mae_)/len(mae_), \\\n",
    "                    sum(air_)/len(air_), sum(bone_)/len(bone_), sum(cont_)/len(cont_), sum(tf_acc)/len(tf_acc), sum(edge_acc)/len(edge_acc)"
   ]
  },
  {
   "cell_type": "code",
   "execution_count": 110,
   "metadata": {},
   "outputs": [],
   "source": [
    "@torch.no_grad()\n",
    "def test_epoch(iid, model, dataloader, device, save=False, path=None):\n",
    "  \n",
    "    # change mode to train and move to current device\n",
    "    model = model.eval().to(device)\n",
    "    \n",
    "    for index, data in tqdm(enumerate(dataloader)):\n",
    "\n",
    "        x, y, air_x, bone_x, *_ = data\n",
    "\n",
    "        x = x.to(device)\n",
    "        y = y.to(device)\n",
    "        air_x = air_x.to(device)\n",
    "        bone_x = bone_x.to(device)\n",
    "\n",
    "        y_pr = model(x)\n",
    "        y_pr = Activation(name=GEN_ACT)(y_pr) # zipped value to [0, 1]\n",
    "        \n",
    "        edge_x = sobel_filter(x)\n",
    "        edge_y_pr = sobel_filter(y_pr)\n",
    "        edge_y = sobel_filter(y)\n",
    "        \n",
    "        _min = -500\n",
    "        _max = 500\n",
    "        air_window = (-500, -499)\n",
    "        upper = ((air_window[1]) - (_min))/(_max-(_min))\n",
    "        lower = ((air_window[0]) - (_min))/(_max-(_min))\n",
    "        air_pr = hu_clip_tensor(y_pr.double(), (lower, upper), None, True)\n",
    "        \n",
    "        bone_window = (255, 256)\n",
    "        upper = ((bone_window[1]) - (_min))/(_max-(_min))\n",
    "        lower = ((bone_window[0]) - (_min))/(_max-(_min))\n",
    "        bone_pr = hu_clip_tensor(y_pr.double(), (lower, upper), None, True)\n",
    "\n",
    "        for b in range(x.shape[0]):           \n",
    "            tmp_y = y[b, :, :, :].unsqueeze(0)\n",
    "            tmp_y_pr = y_pr[b, :, :, :].unsqueeze(0)\n",
    "            tmp_air = air_x[b, :, :, :].unsqueeze(0)\n",
    "            tmp_air_pr = air_pr[b, :, :, :].unsqueeze(0)\n",
    "            tmp_bone = bone_x[b, :, :, :].unsqueeze(0)\n",
    "            tmp_bone_pr = bone_pr[b, :, :, :].unsqueeze(0)\n",
    "            \n",
    "            _ssim = ssim(tmp_y, tmp_y_pr, data_range=1.0, size_average=True) # return (N,)\n",
    "            _psnr = PSNR()(tmp_y_pr, tmp_y, 1.0)\n",
    "            _snr = SNR()(tmp_y_pr, tmp_y)\n",
    "            _mae = MAELoss()(tmp_y_pr.float(), tmp_y.float())\n",
    "            _air = Fscore()(tmp_air_pr, tmp_air)\n",
    "            _bone = Fscore()(tmp_bone_pr, tmp_bone)\n",
    "            _cont = ContourEval()(tmp_y_pr, x[b, :, :, :])\n",
    "            \n",
    "            scores = {\n",
    "                \"ssim score\": _ssim.item(),\n",
    "                \"psnr score\": _psnr.item(),\n",
    "                \"snr score\": _snr.item(),\n",
    "                \"mae error\": _mae.item(),\n",
    "                \"air dice score\": _air.item(),\n",
    "                \"bone dice score\": _bone.item(),\n",
    "                \"contour dice score\": _cont.item()\n",
    "            }\n",
    "            \n",
    "            __cbct = (x.squeeze().cpu().numpy() * 255).astype(np.uint8)\n",
    "            __ct = (tmp_y.squeeze().cpu().numpy() * 255).astype(np.uint8)\n",
    "            __ct_pred = (tmp_y_pr.squeeze().cpu().numpy() * 255).astype(np.uint8)\n",
    "            __ct_masked = __ct_pred * tmp_air.squeeze().cpu().numpy()\n",
    "            __air = (tmp_air.squeeze().cpu().numpy() * 255).astype(np.uint8)\n",
    "            __air_pr = (tmp_air_pr.squeeze().cpu().numpy() * 255).astype(np.uint8)\n",
    "            __bone = (tmp_bone.squeeze().cpu().numpy() * 255).astype(np.uint8)\n",
    "            __bone_pr = (tmp_bone_pr.squeeze().cpu().numpy() * 255).astype(np.uint8)\n",
    "            __edge_pr = (edge_y_pr[b, :].squeeze().cpu().numpy() * 255).astype(np.uint8)\n",
    "            __edge_x = (edge_x.squeeze().cpu().numpy() * 255).astype(np.uint8)\n",
    "            __edge_y = (edge_y.squeeze().cpu().numpy() * 255).astype(np.uint8)\n",
    "            \n",
    "#             visualize(\n",
    "#                 cbct = __cbct,\n",
    "#                 ct_y = __ct,\n",
    "#                 ct_pred = __ct_pred,\n",
    "#                 edge_pred = __edge_pr,\n",
    "#                 edge_x = __edge_x,\n",
    "#                 edge_y = __edge_y,\n",
    "#                 air = __air,\n",
    "#                 air_pr = __air_pr,\n",
    "#                 bone = __bone,\n",
    "#                 bone_pr = __bone_pr\n",
    "#             )\n",
    "            \n",
    "            if save:\n",
    "                path_dir = os.path.join(path, \"file_{}\".format(iid))\n",
    "                try:\n",
    "                    os.mkdir(path_dir)\n",
    "                except FileExistsError:\n",
    "                    pass\n",
    "                \n",
    "                cv2.imwrite(os.path.join(path_dir, \"cbct.jpg\"), __cbct)\n",
    "                cv2.imwrite(os.path.join(path_dir, \"ct.jpg\"), __ct)\n",
    "                cv2.imwrite(os.path.join(path_dir, \"ct_pred.jpg\"), __ct_pred)\n",
    "                cv2.imwrite(os.path.join(path_dir, \"air.jpg\"), __air)\n",
    "                cv2.imwrite(os.path.join(path_dir, \"air_pred.jpg\"), __air_pr)\n",
    "                cv2.imwrite(os.path.join(path_dir, \"bone.jpg\"), __bone)\n",
    "                cv2.imwrite(os.path.join(path_dir, \"bone_pred.jpg\"), __bone_pr)\n",
    "                cv2.imwrite(os.path.join(path_dir, \"edge_pred.jpg\"), __edge_pr)\n",
    "                cv2.imwrite(os.path.join(path_dir, \"edge_cbct.jpg\"), __edge_x)\n",
    "                cv2.imwrite(os.path.join(path_dir, \"edge_ct.jpg\"), __edge_y)\n",
    "                with open(os.path.join(path_dir, \"scores.txt\"), \"w\") as file:\n",
    "                    file.write(json.dumps(scores))                \n",
    "            iid += 1"
   ]
  },
  {
   "cell_type": "markdown",
   "metadata": {},
   "source": [
    "# Discriminator"
   ]
  },
  {
   "cell_type": "code",
   "execution_count": 111,
   "metadata": {},
   "outputs": [],
   "source": [
    "from codes.activation import Activation\n",
    "import torchvision.models as models\n",
    "from codes.losses import MultiScaleHeads"
   ]
  },
  {
   "cell_type": "code",
   "execution_count": 254,
   "metadata": {},
   "outputs": [],
   "source": [
    "class Discriminator(nn.Module):\n",
    "    def __init__(self, in_channel=1, n_classes=2, activation=None):\n",
    "        \n",
    "        super(Discriminator, self).__init__()\n",
    "        \n",
    "        encoder = smp.Unet(encoder_name=\"resnet18\", in_channels=in_channel, classes=n_classes).encoder\n",
    "        self.encoder = encoder\n",
    "        self.fc = MultiScaleHeads(n_classes=n_classes, channels=(512, ), activation=None)\n",
    "        \n",
    "    def forward(self, x):\n",
    "        x = self.encoder(x)\n",
    "        x = self.fc([x[-1]])\n",
    "        return x"
   ]
  },
  {
   "cell_type": "markdown",
   "metadata": {},
   "source": [
    "# Generator"
   ]
  },
  {
   "cell_type": "code",
   "execution_count": 255,
   "metadata": {},
   "outputs": [],
   "source": [
    "import segmentation_models_pytorch as smp\n",
    "from codes.decoder import UnetDecoder\n",
    "from segmentation_models_pytorch.base.heads import SegmentationHead"
   ]
  },
  {
   "cell_type": "code",
   "execution_count": 256,
   "metadata": {},
   "outputs": [],
   "source": [
    "class Generator(nn.Module):\n",
    "    def __init__(self, encoder_name, encoder_weights, in_channels, classes, attention_type):\n",
    "        \n",
    "        super(Generator, self).__init__()\n",
    "        \n",
    "        self.encoder = smp.Unet(encoder_name=encoder_name, encoder_weights=encoder_weights, in_channels=in_channels, classes=classes).encoder\n",
    "        self.decoder = UnetDecoder(\n",
    "                            encoder_channels=[in_channels, 0, 0, 0, 0, 2048],\n",
    "                            decoder_channels=[512, 256, 128, 64, 16],\n",
    "                            n_blocks=5,\n",
    "                            use_batchnorm=True,\n",
    "                            attention_type=attention_type)\n",
    "        self.head =  SegmentationHead(\n",
    "                        in_channels=16,\n",
    "                        out_channels=classes,\n",
    "                        activation=None)\n",
    "        \n",
    "        \n",
    "    def forward(self, x):\n",
    "        x = self.encoder(x)[-1]\n",
    "        x = self.decoder(*(None, None, None, None, x))\n",
    "        x = self.head(x)\n",
    "        \n",
    "        return x"
   ]
  },
  {
   "cell_type": "markdown",
   "metadata": {},
   "source": [
    "# Read Data"
   ]
  },
  {
   "cell_type": "code",
   "execution_count": 257,
   "metadata": {},
   "outputs": [],
   "source": [
    "import glob\n",
    "from codes.dataset import Dataset, DicomDataset, DicomsDataset\n",
    "import codes.augmentation as aug"
   ]
  },
  {
   "cell_type": "code",
   "execution_count": 258,
   "metadata": {},
   "outputs": [],
   "source": [
    "# run_name = wandb.run.name\n",
    "run_name = \"azure-galaxy-213\""
   ]
  },
  {
   "cell_type": "code",
   "execution_count": 259,
   "metadata": {},
   "outputs": [],
   "source": [
    "checkpoint = torch.load(os.path.join(\"weight-gan\", \"{}.pth\".format(run_name)))"
   ]
  },
  {
   "cell_type": "code",
   "execution_count": 260,
   "metadata": {},
   "outputs": [
    {
     "data": {
      "text/plain": [
       "<All keys matched successfully>"
      ]
     },
     "execution_count": 260,
     "metadata": {},
     "output_type": "execute_result"
    }
   ],
   "source": [
    "model = smp.Unet(encoder_name=ENCODER, \n",
    "                  encoder_weights=ENCODER_WEIGHT, \n",
    "                  in_channels=GEN_IN_CHANNELS, \n",
    "                  classes=GEN_N_CLASSES,\n",
    "                 decoder_attention_type=DECODER_ATT)\n",
    "replace_relu_to_leakyReLU(model)\n",
    "replace_bn_to_instanceNorm(model)\n",
    "model.load_state_dict(checkpoint[\"model\"])"
   ]
  },
  {
   "cell_type": "code",
   "execution_count": 261,
   "metadata": {},
   "outputs": [
    {
     "data": {
      "text/plain": [
       "<All keys matched successfully>"
      ]
     },
     "execution_count": 261,
     "metadata": {},
     "output_type": "execute_result"
    }
   ],
   "source": [
    "tf_discriminator = Discriminator(in_channel=DIS_IN_CHANNELS, n_classes=DIS_N_CLASSES, activation=DIS_ACT)\n",
    "replace_relu_to_leakyReLU(tf_discriminator)\n",
    "replace_bn_to_instanceNorm(tf_discriminator)\n",
    "tf_discriminator.load_state_dict(checkpoint[\"tf_discriminator\"])"
   ]
  },
  {
   "cell_type": "code",
   "execution_count": 262,
   "metadata": {},
   "outputs": [
    {
     "data": {
      "text/plain": [
       "<All keys matched successfully>"
      ]
     },
     "execution_count": 262,
     "metadata": {},
     "output_type": "execute_result"
    }
   ],
   "source": [
    "edge_discriminator = Discriminator(in_channel=E_IN_CHANNELS, n_classes=E_N_CLASSES, activation=E_ACT)\n",
    "replace_relu_to_leakyReLU(edge_discriminator)\n",
    "replace_bn_to_instanceNorm(edge_discriminator)\n",
    "edge_discriminator.load_state_dict(checkpoint[\"edge_discriminator\"])"
   ]
  },
  {
   "cell_type": "markdown",
   "metadata": {},
   "source": [
    "# Pelvic"
   ]
  },
  {
   "cell_type": "markdown",
   "metadata": {},
   "source": [
    "## Pelvic Test CBCT"
   ]
  },
  {
   "cell_type": "code",
   "execution_count": 263,
   "metadata": {},
   "outputs": [],
   "source": [
    "test_case_path = 'raw/test/*_*'\n",
    "paths = sorted(glob.glob(test_case_path))"
   ]
  },
  {
   "cell_type": "code",
   "execution_count": 264,
   "metadata": {},
   "outputs": [],
   "source": [
    "try:\n",
    "    os.mkdir(os.path.join(\"eval-gan\", run_name))\n",
    "except FileExistsError:\n",
    "    pass"
   ]
  },
  {
   "cell_type": "code",
   "execution_count": 265,
   "metadata": {},
   "outputs": [],
   "source": [
    "try:\n",
    "    os.mkdir(os.path.join(\"eval-gan\", run_name, \"test_pelvic_cbct\"))\n",
    "except FileExistsError:\n",
    "    pass"
   ]
  },
  {
   "cell_type": "code",
   "execution_count": 266,
   "metadata": {},
   "outputs": [
    {
     "name": "stderr",
     "output_type": "stream",
     "text": [
      "28it [00:02, 10.90it/s]\n",
      "27it [00:02, 11.04it/s]\n",
      "26it [00:02, 10.80it/s]\n",
      "28it [00:02, 10.72it/s]\n",
      "27it [00:02, 10.89it/s]\n",
      "28it [00:02, 11.24it/s]\n",
      "27it [00:02, 10.74it/s]\n"
     ]
    }
   ],
   "source": [
    "# read cbct and ct\n",
    "iid = 0\n",
    "for i in range(0, len(paths), 2):\n",
    "    scans = DicomDataset(cbct_path=paths[i+1], ct_path=paths[i], ditch=3, geometry_aug=aug.get_validation_augmentation(), intensity_aug=None, identity=False)\n",
    "    patient_id = scans.patientID()\n",
    "    testloader = torch.utils.data.DataLoader(scans, batch_size=1, shuffle=False, num_workers=4)\n",
    "    try:\n",
    "        os.mkdir(os.path.join(\"eval-gan\", run_name, \"test_pelvic_cbct\", patient_id))\n",
    "    except FileExistsError:\n",
    "        pass\n",
    "    \n",
    "    test_epoch(iid, model, testloader, device, True, os.path.join(\"eval-gan\", run_name, \"test_pelvic_cbct\", patient_id)) \n",
    "    iid += len(scans)"
   ]
  },
  {
   "cell_type": "code",
   "execution_count": 267,
   "metadata": {},
   "outputs": [
    {
     "name": "stderr",
     "output_type": "stream",
     "text": [
      "191it [00:16, 11.92it/s]\n"
     ]
    },
    {
     "data": {
      "text/plain": [
       "(0.8355966622292683,\n",
       " 23.379705029632408,\n",
       " 14.38397701123622,\n",
       " 0.026860196031239958,\n",
       " 0.9956233046706662,\n",
       " 0.8854014627305318,\n",
       " 0.311320759941146,\n",
       " 0.5026178010471204,\n",
       " 0.5)"
      ]
     },
     "execution_count": 267,
     "metadata": {},
     "output_type": "execute_result"
    }
   ],
   "source": [
    "testset = DicomsDataset(test_case_path, geometry_aug=aug.get_validation_augmentation(), intensity_aug=None, identity=False)\n",
    "testloader = torch.utils.data.DataLoader(testset, batch_size=1, shuffle=False, num_workers=4)\n",
    "# score_ssim_test, score_psnr_test, score_snr_test, score_mae_test, \\\n",
    "#             score_air_test, score_bone_test, score_cont_test, score_tf_acc_test, score_edge_acc_test\n",
    "eval_epoch(model, tf_discriminator, edge_discriminator, testloader, device)"
   ]
  },
  {
   "cell_type": "markdown",
   "metadata": {},
   "source": [
    "## Pelvic Test CT"
   ]
  },
  {
   "cell_type": "code",
   "execution_count": 268,
   "metadata": {},
   "outputs": [],
   "source": [
    "test_case_path = 'raw/test/*_*'\n",
    "paths = sorted(glob.glob(test_case_path))"
   ]
  },
  {
   "cell_type": "code",
   "execution_count": 269,
   "metadata": {},
   "outputs": [],
   "source": [
    "try:\n",
    "    os.mkdir(os.path.join(\"eval-gan\", run_name))\n",
    "except FileExistsError:\n",
    "    pass"
   ]
  },
  {
   "cell_type": "code",
   "execution_count": 270,
   "metadata": {},
   "outputs": [],
   "source": [
    "try:\n",
    "    os.mkdir(os.path.join(\"eval-gan\", run_name, \"test_pelvic_ct\"))\n",
    "except FileExistsError:\n",
    "    pass"
   ]
  },
  {
   "cell_type": "code",
   "execution_count": 271,
   "metadata": {},
   "outputs": [
    {
     "name": "stderr",
     "output_type": "stream",
     "text": [
      "28it [00:02, 11.64it/s]\n",
      "27it [00:02, 11.63it/s]\n",
      "26it [00:02, 11.53it/s]\n",
      "28it [00:02, 11.90it/s]\n",
      "27it [00:02, 11.71it/s]\n",
      "28it [00:02, 11.63it/s]\n",
      "27it [00:02, 11.63it/s]\n"
     ]
    }
   ],
   "source": [
    "# read cbct and ct\n",
    "iid = 0\n",
    "for i in range(0, len(paths), 2):\n",
    "    scans = DicomDataset(cbct_path=paths[i+1], ct_path=paths[i], ditch=3, geometry_aug=aug.get_validation_augmentation(), intensity_aug=None, identity=True)\n",
    "    patient_id = scans.patientID()\n",
    "    testloader = torch.utils.data.DataLoader(scans, batch_size=1, shuffle=False, num_workers=4)\n",
    "    try:\n",
    "        os.mkdir(os.path.join(\"eval-gan\", run_name, \"test_pelvic_ct\", patient_id))\n",
    "    except FileExistsError:\n",
    "        pass\n",
    "    \n",
    "    test_epoch(iid, model, testloader, device, True, os.path.join(\"eval-gan\", run_name, \"test_pelvic_ct\", patient_id)) \n",
    "    iid += len(scans)"
   ]
  },
  {
   "cell_type": "code",
   "execution_count": 272,
   "metadata": {},
   "outputs": [
    {
     "name": "stderr",
     "output_type": "stream",
     "text": [
      "191it [00:15, 12.06it/s]\n"
     ]
    },
    {
     "data": {
      "text/plain": [
       "(0.8984532431158095,\n",
       " 27.289652899297746,\n",
       " 18.293924930832148,\n",
       " 0.016655229246585156,\n",
       " 0.9957318137841091,\n",
       " 0.8844147220504686,\n",
       " 0.3133116392955106,\n",
       " 0.5,\n",
       " 0.5)"
      ]
     },
     "execution_count": 272,
     "metadata": {},
     "output_type": "execute_result"
    }
   ],
   "source": [
    "testset = DicomsDataset(test_case_path, geometry_aug=aug.get_validation_augmentation(), intensity_aug=None, identity=True)\n",
    "testloader = torch.utils.data.DataLoader(testset, batch_size=1, shuffle=False, num_workers=4)\n",
    "# score_ssim_test, score_psnr_test, score_snr_test, score_mae_test, \\\n",
    "#             score_air_test, score_bone_test, score_cont_test, score_tf_acc_test, score_edge_acc_test\n",
    "eval_epoch(model, tf_discriminator, edge_discriminator, testloader, device)"
   ]
  },
  {
   "cell_type": "markdown",
   "metadata": {},
   "source": [
    "## Pelvic L1 CBCT"
   ]
  },
  {
   "cell_type": "code",
   "execution_count": 273,
   "metadata": {},
   "outputs": [],
   "source": [
    "test_case_path = 'L1_pelvic_processed/reg_pelvic_l1/*_*'\n",
    "paths = sorted(glob.glob(test_case_path))"
   ]
  },
  {
   "cell_type": "code",
   "execution_count": 274,
   "metadata": {},
   "outputs": [],
   "source": [
    "try:\n",
    "    os.mkdir(os.path.join(\"eval-gan\", run_name))\n",
    "except FileExistsError:\n",
    "    pass"
   ]
  },
  {
   "cell_type": "code",
   "execution_count": 275,
   "metadata": {},
   "outputs": [],
   "source": [
    "try:\n",
    "    os.mkdir(os.path.join(\"eval-gan\", run_name, \"L1_pelvic_cbct\"))\n",
    "except FileExistsError:\n",
    "    pass"
   ]
  },
  {
   "cell_type": "code",
   "execution_count": 276,
   "metadata": {
    "scrolled": true
   },
   "outputs": [
    {
     "name": "stderr",
     "output_type": "stream",
     "text": [
      "29it [00:02, 11.59it/s]\n",
      "26it [00:02, 11.43it/s]\n",
      "28it [00:02, 11.76it/s]\n",
      "28it [00:02, 11.79it/s]\n",
      "27it [00:02, 11.61it/s]\n",
      "26it [00:02, 11.63it/s]\n",
      "27it [00:02, 11.61it/s]\n",
      "30it [00:02, 11.98it/s]\n",
      "28it [00:02, 11.98it/s]\n",
      "29it [00:02, 12.38it/s]\n",
      "29it [00:02, 12.25it/s]\n",
      "27it [00:02,  9.20it/s]\n",
      "28it [00:02,  9.71it/s]\n",
      "26it [00:02,  9.46it/s]\n",
      "28it [00:02,  9.64it/s]\n",
      "28it [00:02,  9.51it/s]\n",
      "27it [00:02,  9.63it/s]\n",
      "26it [00:02,  9.38it/s]\n",
      "27it [00:02,  9.81it/s]\n",
      "29it [00:02, 12.24it/s]\n",
      "30it [00:02, 10.62it/s]\n",
      "32it [00:03,  9.96it/s]\n",
      "28it [00:02, 10.11it/s]\n",
      "28it [00:02, 10.81it/s]\n",
      "15it [00:01, 10.00it/s]\n",
      "28it [00:02, 10.80it/s]\n",
      "26it [00:02, 10.54it/s]\n",
      "28it [00:02, 10.87it/s]\n",
      "26it [00:02, 10.77it/s]\n",
      "27it [00:02, 10.42it/s]\n",
      "36it [00:03, 10.95it/s]\n",
      "28it [00:02, 10.71it/s]\n",
      "27it [00:02, 10.61it/s]\n",
      "28it [00:02, 10.64it/s]\n",
      "30it [00:02, 11.10it/s]\n",
      "27it [00:02, 10.71it/s]\n",
      "26it [00:02, 10.71it/s]\n",
      "29it [00:02, 10.96it/s]\n",
      "27it [00:02, 10.68it/s]\n",
      "27it [00:02, 10.46it/s]\n",
      "28it [00:02, 10.84it/s]\n",
      "26it [00:02, 10.77it/s]\n",
      "26it [00:02, 12.85it/s]\n",
      "29it [00:02, 12.06it/s]\n",
      "28it [00:02, 11.78it/s]\n",
      "27it [00:02, 11.50it/s]\n",
      "30it [00:02, 11.71it/s]\n",
      "27it [00:02, 11.64it/s]\n",
      "130it [00:09, 13.09it/s]\n"
     ]
    }
   ],
   "source": [
    "# read cbct and ct\n",
    "iid = 0\n",
    "for i in range(0, len(paths), 2):\n",
    "    scans = DicomDataset(cbct_path=paths[i+1], ct_path=paths[i], ditch=3, geometry_aug=aug.get_validation_augmentation(), intensity_aug=None, identity=False)\n",
    "    patient_id = scans.patientID()\n",
    "    testloader = torch.utils.data.DataLoader(scans, batch_size=1, shuffle=False, num_workers=4)\n",
    "    try:\n",
    "        os.mkdir(os.path.join(\"eval-gan\", run_name, \"L1_pelvic_cbct\", patient_id))\n",
    "    except FileExistsError:\n",
    "        pass\n",
    "    \n",
    "    test_epoch(iid, model, testloader, device, True, os.path.join(\"eval-gan\", run_name, \"L1_pelvic_cbct\", patient_id)) \n",
    "    iid += len(scans)"
   ]
  },
  {
   "cell_type": "code",
   "execution_count": 277,
   "metadata": {},
   "outputs": [
    {
     "name": "stderr",
     "output_type": "stream",
     "text": [
      "1457it [02:09, 11.24it/s]\n"
     ]
    },
    {
     "data": {
      "text/plain": [
       "(0.8227549552835662,\n",
       " 22.645881722213964,\n",
       " 13.444864084889158,\n",
       " 0.030345273135752814,\n",
       " 0.9944728291336963,\n",
       " 0.8523909236435506,\n",
       " 0.333342692654362,\n",
       " 0.49416609471516815,\n",
       " 0.4945092656142759)"
      ]
     },
     "execution_count": 277,
     "metadata": {},
     "output_type": "execute_result"
    }
   ],
   "source": [
    "testset = DicomsDataset(test_case_path, geometry_aug=aug.get_validation_augmentation(), intensity_aug=None, identity=False)\n",
    "testloader = torch.utils.data.DataLoader(testset, batch_size=1, shuffle=False, num_workers=4)\n",
    "# score_ssim_test, score_psnr_test, score_snr_test, score_mae_test, \\\n",
    "#             score_air_test, score_bone_test, score_cont_test, score_tf_acc_test, score_edge_acc_test\n",
    "eval_epoch(model, tf_discriminator, edge_discriminator, testloader, device)"
   ]
  },
  {
   "cell_type": "markdown",
   "metadata": {},
   "source": [
    "## Pelvic L1 CT"
   ]
  },
  {
   "cell_type": "code",
   "execution_count": 278,
   "metadata": {},
   "outputs": [],
   "source": [
    "test_case_path = 'L1_pelvic_processed/reg_pelvic_l1/*_*'\n",
    "paths = sorted(glob.glob(test_case_path))"
   ]
  },
  {
   "cell_type": "code",
   "execution_count": 279,
   "metadata": {},
   "outputs": [],
   "source": [
    "try:\n",
    "    os.mkdir(os.path.join(\"eval-gan\", run_name))\n",
    "except FileExistsError:\n",
    "    pass"
   ]
  },
  {
   "cell_type": "code",
   "execution_count": 280,
   "metadata": {},
   "outputs": [],
   "source": [
    "try:\n",
    "    os.mkdir(os.path.join(\"eval-gan\", run_name, \"L1_pelvic_ct\"))\n",
    "except FileExistsError:\n",
    "    pass"
   ]
  },
  {
   "cell_type": "code",
   "execution_count": 281,
   "metadata": {
    "scrolled": true
   },
   "outputs": [
    {
     "name": "stderr",
     "output_type": "stream",
     "text": [
      "29it [00:02, 10.77it/s]\n",
      "26it [00:02, 10.63it/s]\n",
      "28it [00:02, 11.08it/s]\n",
      "28it [00:02, 10.40it/s]\n",
      "27it [00:02, 10.96it/s]\n",
      "26it [00:02, 10.63it/s]\n",
      "27it [00:02, 10.95it/s]\n",
      "30it [00:02, 10.83it/s]\n",
      "28it [00:02, 10.93it/s]\n",
      "29it [00:02, 10.86it/s]\n",
      "29it [00:02, 10.88it/s]\n",
      "27it [00:02, 10.54it/s]\n",
      "28it [00:02, 10.77it/s]\n",
      "26it [00:02, 10.44it/s]\n",
      "28it [00:02, 10.63it/s]\n",
      "28it [00:02, 10.58it/s]\n",
      "27it [00:02, 10.64it/s]\n",
      "26it [00:02, 10.37it/s]\n",
      "27it [00:02, 10.73it/s]\n",
      "29it [00:02, 11.15it/s]\n",
      "30it [00:02, 10.99it/s]\n",
      "32it [00:03,  8.28it/s]\n",
      "28it [00:02, 11.77it/s]\n",
      "28it [00:02, 11.70it/s]\n",
      "15it [00:01, 10.96it/s]\n",
      "28it [00:02, 11.75it/s]\n",
      "26it [00:02, 11.26it/s]\n",
      "28it [00:02, 11.63it/s]\n",
      "26it [00:02, 11.41it/s]\n",
      "27it [00:02, 11.68it/s]\n",
      "36it [00:03, 11.84it/s]\n",
      "28it [00:02, 11.66it/s]\n",
      "27it [00:02, 11.38it/s]\n",
      "28it [00:02, 11.87it/s]\n",
      "30it [00:02, 12.35it/s]\n",
      "27it [00:02, 11.63it/s]\n",
      "26it [00:02, 12.03it/s]\n",
      "29it [00:02, 11.75it/s]\n",
      "27it [00:02, 11.60it/s]\n",
      "27it [00:02, 12.04it/s]\n",
      "28it [00:02, 11.66it/s]\n",
      "26it [00:02, 11.60it/s]\n",
      "26it [00:02, 11.67it/s]\n",
      "29it [00:02, 11.72it/s]\n",
      "28it [00:02, 12.07it/s]\n",
      "27it [00:02, 11.73it/s]\n",
      "30it [00:02, 12.14it/s]\n",
      "27it [00:02, 11.95it/s]\n",
      "130it [00:11, 11.25it/s]\n"
     ]
    }
   ],
   "source": [
    "# read cbct and ct\n",
    "iid = 0\n",
    "for i in range(0, len(paths), 2):\n",
    "    scans = DicomDataset(cbct_path=paths[i+1], ct_path=paths[i], ditch=3, geometry_aug=aug.get_validation_augmentation(), intensity_aug=None, identity=True)\n",
    "    patient_id = scans.patientID()\n",
    "    testloader = torch.utils.data.DataLoader(scans, batch_size=1, shuffle=False, num_workers=4)\n",
    "    try:\n",
    "        os.mkdir(os.path.join(\"eval-gan\", run_name, \"L1_pelvic_ct\", patient_id))\n",
    "    except FileExistsError:\n",
    "        pass\n",
    "    \n",
    "    test_epoch(iid, model, testloader, device, True, os.path.join(\"eval-gan\", run_name, \"L1_pelvic_ct\", patient_id)) \n",
    "    iid += len(scans)"
   ]
  },
  {
   "cell_type": "code",
   "execution_count": 282,
   "metadata": {},
   "outputs": [
    {
     "name": "stderr",
     "output_type": "stream",
     "text": [
      "1457it [02:16, 10.68it/s]\n"
     ]
    },
    {
     "data": {
      "text/plain": [
       "(0.895193641326488,\n",
       " 26.873125133894042,\n",
       " 17.672107415078187,\n",
       " 0.01889439349560682,\n",
       " 0.9955392174465888,\n",
       " 0.8453281586826055,\n",
       " 0.3429518373134657,\n",
       " 0.4890185312285518,\n",
       " 0.4903912148249828)"
      ]
     },
     "execution_count": 282,
     "metadata": {},
     "output_type": "execute_result"
    }
   ],
   "source": [
    "testset = DicomsDataset(test_case_path, geometry_aug=aug.get_validation_augmentation(), intensity_aug=None, identity=True)\n",
    "testloader = torch.utils.data.DataLoader(testset, batch_size=1, shuffle=False, num_workers=4)\n",
    "# score_ssim_test, score_psnr_test, score_snr_test, score_mae_test, \\\n",
    "#             score_air_test, score_bone_test, score_cont_test, score_tf_acc_test, score_edge_acc_test\n",
    "eval_epoch(model, tf_discriminator, edge_discriminator, testloader, device)"
   ]
  },
  {
   "cell_type": "markdown",
   "metadata": {},
   "source": [
    "## Pelvic L2 CBCT"
   ]
  },
  {
   "cell_type": "code",
   "execution_count": 283,
   "metadata": {},
   "outputs": [],
   "source": [
    "test_case_path = 'L2_pelvic_processed/reg_pelvic_l2/*_*'\n",
    "paths = sorted(glob.glob(test_case_path))"
   ]
  },
  {
   "cell_type": "code",
   "execution_count": 284,
   "metadata": {},
   "outputs": [],
   "source": [
    "try:\n",
    "    os.mkdir(os.path.join(\"eval-gan\", run_name))\n",
    "except FileExistsError:\n",
    "    pass"
   ]
  },
  {
   "cell_type": "code",
   "execution_count": 285,
   "metadata": {},
   "outputs": [],
   "source": [
    "try:\n",
    "    os.mkdir(os.path.join(\"eval-gan\", run_name, \"L2_pelvic_cbct\"))\n",
    "except FileExistsError:\n",
    "    pass"
   ]
  },
  {
   "cell_type": "code",
   "execution_count": 286,
   "metadata": {
    "scrolled": true
   },
   "outputs": [
    {
     "name": "stderr",
     "output_type": "stream",
     "text": [
      "26it [00:02, 11.50it/s]\n",
      "26it [00:02, 11.12it/s]\n",
      "26it [00:02, 11.52it/s]\n",
      "27it [00:02, 11.71it/s]\n",
      "31it [00:02, 11.65it/s]\n",
      "27it [00:02, 11.77it/s]\n",
      "27it [00:02, 11.49it/s]\n",
      "26it [00:02, 11.52it/s]\n",
      "28it [00:02, 11.71it/s]\n",
      "28it [00:02, 11.92it/s]\n",
      "27it [00:02, 11.57it/s]\n",
      "27it [00:02, 11.85it/s]\n",
      "26it [00:02, 11.50it/s]\n",
      "26it [00:02, 12.01it/s]\n",
      "26it [00:02, 12.22it/s]\n",
      "26it [00:02, 11.99it/s]\n",
      "26it [00:02, 11.27it/s]\n",
      "26it [00:02, 11.51it/s]\n",
      "27it [00:02, 11.67it/s]\n",
      "26it [00:02, 11.25it/s]\n",
      "26it [00:02, 11.48it/s]\n",
      "28it [00:02, 11.45it/s]\n",
      "28it [00:02, 11.80it/s]\n",
      "29it [00:02, 11.70it/s]\n",
      "28it [00:02, 11.77it/s]\n",
      "26it [00:02, 11.82it/s]\n",
      "27it [00:02, 12.67it/s]\n",
      "26it [00:03,  8.41it/s]\n",
      "28it [00:02,  9.52it/s]\n",
      "30it [00:03,  9.62it/s]\n",
      "27it [00:02,  9.61it/s]\n",
      "29it [00:02,  9.83it/s]\n",
      "27it [00:02,  9.74it/s]\n",
      "27it [00:02,  9.89it/s]\n",
      "26it [00:02,  9.51it/s]\n",
      "26it [00:02, 10.85it/s]\n",
      "26it [00:02,  9.80it/s]\n",
      "26it [00:02, 10.79it/s]\n",
      "27it [00:02, 10.55it/s]\n",
      "26it [00:02, 10.23it/s]\n",
      "26it [00:02, 10.64it/s]\n",
      "26it [00:02, 10.36it/s]\n",
      "27it [00:02, 10.88it/s]\n",
      "28it [00:02, 10.94it/s]\n",
      "27it [00:02, 10.60it/s]\n",
      "26it [00:02, 10.47it/s]\n",
      "29it [00:02, 10.57it/s]\n",
      "26it [00:02, 10.47it/s]\n",
      "27it [00:02, 10.63it/s]\n",
      "26it [00:02, 10.66it/s]\n",
      "26it [00:02, 10.22it/s]\n",
      "26it [00:02, 10.87it/s]\n",
      "27it [00:02, 10.62it/s]\n",
      "27it [00:02, 11.19it/s]\n",
      "26it [00:02, 10.31it/s]\n",
      "26it [00:02, 10.86it/s]\n",
      "26it [00:02, 10.87it/s]\n",
      "27it [00:02, 11.28it/s]\n",
      "24it [00:02, 10.96it/s]\n",
      "27it [00:02, 10.93it/s]\n",
      "30it [00:03,  8.44it/s]\n",
      "26it [00:02, 11.30it/s]\n",
      "27it [00:02, 11.63it/s]\n",
      "26it [00:02, 11.31it/s]\n",
      "29it [00:02, 11.49it/s]\n",
      "29it [00:02, 11.82it/s]\n",
      "27it [00:02, 11.75it/s]\n",
      "26it [00:02, 11.53it/s]\n",
      "26it [00:02, 11.53it/s]\n",
      "27it [00:02, 11.61it/s]\n",
      "26it [00:02, 11.35it/s]\n",
      "26it [00:02, 11.66it/s]\n",
      "26it [00:02, 11.78it/s]\n",
      "24it [00:02, 11.51it/s]\n",
      "26it [00:02, 11.55it/s]\n",
      "28it [00:02, 11.63it/s]\n",
      "26it [00:02, 11.72it/s]\n",
      "26it [00:02, 11.73it/s]\n",
      "26it [00:02, 11.43it/s]\n",
      "28it [00:02, 11.51it/s]\n",
      "27it [00:02, 11.79it/s]\n",
      "27it [00:02, 11.37it/s]\n",
      "28it [00:02, 11.53it/s]\n",
      "27it [00:02, 11.58it/s]\n",
      "27it [00:02, 11.84it/s]\n",
      "27it [00:02, 11.74it/s]\n",
      "28it [00:02, 11.80it/s]\n",
      "26it [00:02,  8.85it/s]\n",
      "28it [00:02,  9.59it/s]\n",
      "27it [00:02,  9.27it/s]\n",
      "26it [00:02,  8.90it/s]\n",
      "29it [00:03,  9.52it/s]\n",
      "26it [00:02,  9.62it/s]\n",
      "26it [00:02,  8.86it/s]\n",
      "27it [00:02,  9.78it/s]\n",
      "28it [00:02, 12.06it/s]\n",
      "27it [00:02,  9.98it/s]\n",
      "26it [00:02,  9.21it/s]\n",
      "29it [00:02, 10.56it/s]\n",
      "30it [00:02, 10.76it/s]\n",
      "27it [00:02, 10.50it/s]\n",
      "27it [00:02, 10.46it/s]\n",
      "26it [00:02, 10.35it/s]\n",
      "26it [00:02, 10.41it/s]\n",
      "26it [00:02, 11.04it/s]\n",
      "27it [00:02, 10.17it/s]\n",
      "27it [00:02, 10.86it/s]\n",
      "27it [00:02, 10.63it/s]\n",
      "26it [00:02, 10.12it/s]\n",
      "26it [00:02, 10.52it/s]\n",
      "26it [00:02, 10.77it/s]\n",
      "30it [00:02, 10.73it/s]\n",
      "27it [00:02, 10.67it/s]\n",
      "27it [00:02, 10.62it/s]\n"
     ]
    }
   ],
   "source": [
    "# read cbct and ct\n",
    "iid = 0\n",
    "for i in range(0, len(paths), 2):\n",
    "    scans = DicomDataset(cbct_path=paths[i+1], ct_path=paths[i], ditch=3, geometry_aug=aug.get_validation_augmentation(), intensity_aug=None, identity=False)\n",
    "    patient_id = scans.patientID()\n",
    "    testloader = torch.utils.data.DataLoader(scans, batch_size=1, shuffle=False, num_workers=4)\n",
    "    try:\n",
    "        os.mkdir(os.path.join(\"eval-gan\", run_name, \"L2_pelvic_cbct\", patient_id))\n",
    "    except FileExistsError:\n",
    "        pass\n",
    "    \n",
    "    test_epoch(iid, model, testloader, device, True, os.path.join(\"eval-gan\", run_name, \"L2_pelvic_cbct\", patient_id)) \n",
    "    iid += len(scans)"
   ]
  },
  {
   "cell_type": "code",
   "execution_count": 287,
   "metadata": {},
   "outputs": [
    {
     "name": "stderr",
     "output_type": "stream",
     "text": [
      "3064it [04:38, 11.01it/s]\n"
     ]
    },
    {
     "data": {
      "text/plain": [
       "(0.8108184544987218,\n",
       " 21.912223605512015,\n",
       " 12.327375488321712,\n",
       " 0.033068155136698606,\n",
       " 0.9950334742801574,\n",
       " 0.8078330161505192,\n",
       " 0.38628356036178124,\n",
       " 0.4934725848563969,\n",
       " 0.5029373368146214)"
      ]
     },
     "execution_count": 287,
     "metadata": {},
     "output_type": "execute_result"
    }
   ],
   "source": [
    "testset = DicomsDataset(test_case_path, geometry_aug=aug.get_validation_augmentation(), intensity_aug=None, identity=False)\n",
    "testloader = torch.utils.data.DataLoader(testset, batch_size=1, shuffle=False, num_workers=4)\n",
    "# score_ssim_test, score_psnr_test, score_snr_test, score_mae_test, \\\n",
    "#             score_air_test, score_bone_test, score_cont_test, score_tf_acc_test, score_edge_acc_test\n",
    "eval_epoch(model, tf_discriminator, edge_discriminator, testloader, device)"
   ]
  },
  {
   "cell_type": "markdown",
   "metadata": {},
   "source": [
    "## Pelvic L2 CT"
   ]
  },
  {
   "cell_type": "code",
   "execution_count": 288,
   "metadata": {},
   "outputs": [],
   "source": [
    "test_case_path = 'L2_pelvic_processed/reg_pelvic_l2/*_*'\n",
    "paths = sorted(glob.glob(test_case_path))"
   ]
  },
  {
   "cell_type": "code",
   "execution_count": 289,
   "metadata": {},
   "outputs": [],
   "source": [
    "try:\n",
    "    os.mkdir(os.path.join(\"eval-gan\", run_name))\n",
    "except FileExistsError:\n",
    "    pass"
   ]
  },
  {
   "cell_type": "code",
   "execution_count": 290,
   "metadata": {},
   "outputs": [],
   "source": [
    "try:\n",
    "    os.mkdir(os.path.join(\"eval-gan\", run_name, \"L2_pelvic_ct\"))\n",
    "except FileExistsError:\n",
    "    pass"
   ]
  },
  {
   "cell_type": "code",
   "execution_count": 291,
   "metadata": {
    "scrolled": true
   },
   "outputs": [
    {
     "name": "stderr",
     "output_type": "stream",
     "text": [
      "26it [00:02, 11.44it/s]\n",
      "26it [00:02, 10.77it/s]\n",
      "26it [00:02, 12.05it/s]\n",
      "27it [00:02, 11.84it/s]\n",
      "31it [00:02, 11.85it/s]\n",
      "27it [00:02, 11.44it/s]\n",
      "27it [00:02, 11.50it/s]\n",
      "26it [00:02, 11.60it/s]\n",
      "28it [00:02, 11.74it/s]\n",
      "28it [00:02, 12.24it/s]\n",
      "27it [00:02, 11.90it/s]\n",
      "27it [00:02, 11.70it/s]\n",
      "26it [00:02, 11.79it/s]\n",
      "26it [00:02, 11.66it/s]\n",
      "26it [00:02, 11.55it/s]\n",
      "26it [00:02, 12.15it/s]\n",
      "26it [00:02, 11.30it/s]\n",
      "26it [00:02, 11.35it/s]\n",
      "27it [00:02, 11.41it/s]\n",
      "26it [00:02, 11.22it/s]\n",
      "26it [00:02, 11.30it/s]\n",
      "28it [00:02, 12.09it/s]\n",
      "28it [00:02, 12.02it/s]\n",
      "29it [00:02, 11.36it/s]\n",
      "28it [00:03,  7.46it/s]\n",
      "26it [00:02,  9.95it/s]\n",
      "27it [00:02,  9.59it/s]\n",
      "26it [00:02,  9.47it/s]\n",
      "28it [00:03,  9.24it/s]\n",
      "30it [00:03,  9.15it/s]\n",
      "27it [00:02,  9.64it/s]\n",
      "29it [00:03,  9.47it/s]\n",
      "27it [00:02,  9.86it/s]\n",
      "27it [00:02, 11.23it/s]\n",
      "26it [00:02,  9.90it/s]\n",
      "26it [00:03,  6.84it/s]\n",
      "26it [00:02, 10.44it/s]\n",
      "26it [00:02, 10.14it/s]\n",
      "27it [00:02, 10.47it/s]\n",
      "26it [00:02, 10.60it/s]\n",
      "26it [00:02, 10.53it/s]\n",
      "26it [00:02, 10.74it/s]\n",
      "27it [00:02, 10.75it/s]\n",
      "28it [00:02, 10.72it/s]\n",
      "27it [00:02, 10.80it/s]\n",
      "26it [00:02, 10.57it/s]\n",
      "29it [00:02, 10.84it/s]\n",
      "26it [00:02, 10.71it/s]\n",
      "27it [00:02, 10.27it/s]\n",
      "26it [00:02, 10.60it/s]\n",
      "26it [00:02, 10.65it/s]\n",
      "26it [00:02, 10.54it/s]\n",
      "27it [00:02, 10.35it/s]\n",
      "27it [00:02, 10.64it/s]\n",
      "26it [00:02, 10.31it/s]\n",
      "26it [00:02, 10.43it/s]\n",
      "26it [00:02, 10.81it/s]\n",
      "27it [00:02, 10.79it/s]\n",
      "24it [00:02, 10.77it/s]\n",
      "27it [00:03,  8.71it/s]\n",
      "30it [00:02, 12.02it/s]\n",
      "26it [00:02, 11.62it/s]\n",
      "27it [00:02, 12.13it/s]\n",
      "26it [00:02, 11.63it/s]\n",
      "29it [00:02, 11.92it/s]\n",
      "29it [00:02, 11.97it/s]\n",
      "27it [00:02, 11.50it/s]\n",
      "26it [00:02, 11.44it/s]\n",
      "26it [00:02, 11.35it/s]\n",
      "27it [00:02, 11.82it/s]\n",
      "26it [00:02, 11.23it/s]\n",
      "26it [00:02, 11.46it/s]\n",
      "26it [00:02, 11.70it/s]\n",
      "24it [00:02, 10.98it/s]\n",
      "26it [00:02, 11.64it/s]\n",
      "28it [00:02, 11.30it/s]\n",
      "26it [00:02, 11.53it/s]\n",
      "26it [00:02, 11.75it/s]\n",
      "26it [00:02, 11.68it/s]\n",
      "28it [00:02, 11.36it/s]\n",
      "27it [00:02, 11.52it/s]\n",
      "27it [00:02, 11.41it/s]\n",
      "28it [00:02, 11.91it/s]\n",
      "27it [00:02, 11.41it/s]\n",
      "27it [00:02, 11.84it/s]\n",
      "27it [00:02, 11.90it/s]\n",
      "28it [00:02, 11.53it/s]\n",
      "26it [00:02, 12.25it/s]\n",
      "28it [00:02, 11.85it/s]\n",
      "27it [00:02,  9.76it/s]\n",
      "26it [00:02,  9.77it/s]\n",
      "29it [00:03,  9.61it/s]\n",
      "26it [00:02,  9.65it/s]\n",
      "26it [00:02,  9.33it/s]\n",
      "27it [00:02,  9.78it/s]\n",
      "28it [00:03,  9.24it/s]\n",
      "27it [00:02,  9.70it/s]\n",
      "26it [00:02, 10.30it/s]\n",
      "29it [00:03,  9.26it/s]\n",
      "30it [00:02, 12.81it/s]\n",
      "27it [00:02, 10.55it/s]\n",
      "27it [00:02, 10.40it/s]\n",
      "26it [00:02, 10.56it/s]\n",
      "26it [00:02, 10.68it/s]\n",
      "26it [00:02, 10.37it/s]\n",
      "27it [00:02, 10.57it/s]\n",
      "27it [00:02, 11.10it/s]\n",
      "27it [00:02, 10.75it/s]\n",
      "26it [00:02, 10.67it/s]\n",
      "26it [00:02, 11.32it/s]\n",
      "26it [00:02, 10.38it/s]\n",
      "30it [00:02, 10.84it/s]\n",
      "27it [00:02, 10.75it/s]\n",
      "27it [00:02, 10.62it/s]\n"
     ]
    }
   ],
   "source": [
    "# read cbct and ct\n",
    "iid = 0\n",
    "for i in range(0, len(paths), 2):\n",
    "    scans = DicomDataset(cbct_path=paths[i+1], ct_path=paths[i], ditch=3, geometry_aug=aug.get_validation_augmentation(), intensity_aug=None, identity=True)\n",
    "    patient_id = scans.patientID()\n",
    "    testloader = torch.utils.data.DataLoader(scans, batch_size=1, shuffle=False, num_workers=4)\n",
    "    try:\n",
    "        os.mkdir(os.path.join(\"eval-gan\", run_name, \"L2_pelvic_ct\", patient_id))\n",
    "    except FileExistsError:\n",
    "        pass\n",
    "    \n",
    "    test_epoch(iid, model, testloader, device, True, os.path.join(\"eval-gan\", run_name, \"L2_pelvic_ct\", patient_id)) \n",
    "    iid += len(scans)"
   ]
  },
  {
   "cell_type": "code",
   "execution_count": 292,
   "metadata": {},
   "outputs": [
    {
     "name": "stderr",
     "output_type": "stream",
     "text": [
      "3064it [04:34, 11.16it/s]\n"
     ]
    },
    {
     "data": {
      "text/plain": [
       "(0.9022611695543593,\n",
       " 27.25608750858755,\n",
       " 17.671239409372017,\n",
       " 0.017476455846195917,\n",
       " 0.9944122704223557,\n",
       " 0.8355838089111619,\n",
       " 0.33643011017471514,\n",
       " 0.49526762402088775,\n",
       " 0.49951044386422977)"
      ]
     },
     "execution_count": 292,
     "metadata": {},
     "output_type": "execute_result"
    }
   ],
   "source": [
    "testset = DicomsDataset(test_case_path, geometry_aug=aug.get_validation_augmentation(), intensity_aug=None, identity=True)\n",
    "testloader = torch.utils.data.DataLoader(testset, batch_size=1, shuffle=False, num_workers=4)\n",
    "# score_ssim_test, score_psnr_test, score_snr_test, score_mae_test, \\\n",
    "#             score_air_test, score_bone_test, score_cont_test, score_tf_acc_test, score_edge_acc_test\n",
    "eval_epoch(model, tf_discriminator, edge_discriminator, testloader, device)"
   ]
  },
  {
   "cell_type": "markdown",
   "metadata": {},
   "source": [
    "# Abdomen"
   ]
  },
  {
   "cell_type": "code",
   "execution_count": 293,
   "metadata": {},
   "outputs": [],
   "source": [
    "test_case_path = 'abdomen/test/*_*'\n",
    "paths = sorted(glob.glob(test_case_path))"
   ]
  },
  {
   "cell_type": "markdown",
   "metadata": {},
   "source": [
    "## Abdomen on CBCT"
   ]
  },
  {
   "cell_type": "code",
   "execution_count": 294,
   "metadata": {},
   "outputs": [],
   "source": [
    "try:\n",
    "    os.mkdir(os.path.join(\"eval-gan\", run_name))\n",
    "except FileExistsError:\n",
    "    pass"
   ]
  },
  {
   "cell_type": "code",
   "execution_count": 295,
   "metadata": {},
   "outputs": [],
   "source": [
    "try:\n",
    "    os.mkdir(os.path.join(\"eval-gan\", run_name, \"abdomen_test_cbct\"))\n",
    "except FileExistsError:\n",
    "    pass"
   ]
  },
  {
   "cell_type": "code",
   "execution_count": 296,
   "metadata": {},
   "outputs": [
    {
     "name": "stderr",
     "output_type": "stream",
     "text": [
      "28it [00:02, 10.54it/s]\n",
      "78it [00:07, 10.08it/s]\n",
      "50it [00:04, 12.44it/s]\n",
      "29it [00:02, 12.12it/s]\n",
      "50it [00:04, 11.50it/s]\n",
      "71it [00:05, 12.17it/s]\n",
      "39it [00:03, 11.76it/s]\n"
     ]
    }
   ],
   "source": [
    "# read cbct and ct\n",
    "iid = 0\n",
    "for i in range(0, len(paths), 2):\n",
    "    scans = DicomDataset(cbct_path=paths[i+1], ct_path=paths[i], ditch=3, geometry_aug=aug.get_validation_augmentation(), intensity_aug=None, identity=False)\n",
    "    patient_id = scans.patientID()\n",
    "    testloader = torch.utils.data.DataLoader(scans, batch_size=1, shuffle=False, num_workers=4)\n",
    "    try:\n",
    "        os.mkdir(os.path.join(\"eval-gan\", run_name, \"abdomen_test_cbct\", patient_id))\n",
    "    except FileExistsError:\n",
    "        pass\n",
    "    \n",
    "    test_epoch(iid, model, testloader, device, True, os.path.join(\"eval-gan\", run_name, \"abdomen_test_cbct\", patient_id)) \n",
    "    iid += len(scans)"
   ]
  },
  {
   "cell_type": "code",
   "execution_count": 297,
   "metadata": {},
   "outputs": [
    {
     "name": "stderr",
     "output_type": "stream",
     "text": [
      "345it [00:29, 11.77it/s]\n"
     ]
    },
    {
     "data": {
      "text/plain": [
       "(0.7416087665419647,\n",
       " 20.184850170301356,\n",
       " 10.715491148354351,\n",
       " 0.04471956982776738,\n",
       " 0.9884824026967474,\n",
       " 0.7033715738651499,\n",
       " 0.2814260524036228,\n",
       " 0.45072463768115945,\n",
       " 0.41739130434782606)"
      ]
     },
     "execution_count": 297,
     "metadata": {},
     "output_type": "execute_result"
    }
   ],
   "source": [
    "testset = DicomsDataset(test_case_path, geometry_aug=aug.get_validation_augmentation(), intensity_aug=None, identity=False)\n",
    "testloader = torch.utils.data.DataLoader(testset, batch_size=1, shuffle=False, num_workers=4)\n",
    "# score_ssim_test, score_psnr_test, score_snr_test, score_mae_test, \\\n",
    "#             score_air_test, score_bone_test, score_cont_test, score_tf_acc_test, score_edge_acc_test\n",
    "eval_epoch(model, tf_discriminator, edge_discriminator, testloader, device)"
   ]
  },
  {
   "cell_type": "markdown",
   "metadata": {},
   "source": [
    "## Abdomen on CT"
   ]
  },
  {
   "cell_type": "code",
   "execution_count": 298,
   "metadata": {
    "scrolled": true
   },
   "outputs": [],
   "source": [
    "try:\n",
    "    os.mkdir(os.path.join(\"eval-gan\", run_name))\n",
    "except FileExistsError:\n",
    "    pass"
   ]
  },
  {
   "cell_type": "code",
   "execution_count": 299,
   "metadata": {},
   "outputs": [],
   "source": [
    "try:\n",
    "    os.mkdir(os.path.join(\"eval-gan\", run_name, \"abdomen_test_ct\"))\n",
    "except FileExistsError:\n",
    "    pass"
   ]
  },
  {
   "cell_type": "code",
   "execution_count": 300,
   "metadata": {
    "scrolled": true
   },
   "outputs": [
    {
     "name": "stderr",
     "output_type": "stream",
     "text": [
      "28it [00:02, 11.43it/s]\n",
      "78it [00:06, 12.23it/s]\n",
      "50it [00:03, 12.52it/s]\n",
      "29it [00:02, 11.64it/s]\n",
      "50it [00:04, 12.16it/s]\n",
      "71it [00:05, 12.25it/s]\n",
      "39it [00:03, 12.14it/s]\n"
     ]
    }
   ],
   "source": [
    "# read cbct and ct\n",
    "iid = 0\n",
    "for i in range(0, len(paths), 2):\n",
    "    scans = DicomDataset(cbct_path=paths[i+1], ct_path=paths[i], ditch=3, geometry_aug=aug.get_validation_augmentation(), intensity_aug=None, identity=True)\n",
    "    patient_id = scans.patientID()\n",
    "    testloader = torch.utils.data.DataLoader(scans, batch_size=1, shuffle=False, num_workers=4)\n",
    "    try:\n",
    "        os.mkdir(os.path.join(\"eval-gan\", run_name, \"abdomen_test_ct\", patient_id))\n",
    "    except FileExistsError:\n",
    "        pass\n",
    "    \n",
    "    test_epoch(iid, model, testloader, device, True, os.path.join(\"eval-gan\", run_name, \"abdomen_test_ct\", patient_id)) \n",
    "    iid += len(scans)"
   ]
  },
  {
   "cell_type": "code",
   "execution_count": 301,
   "metadata": {},
   "outputs": [
    {
     "name": "stderr",
     "output_type": "stream",
     "text": [
      "345it [00:35,  9.60it/s]\n"
     ]
    },
    {
     "data": {
      "text/plain": [
       "(0.8653665867404662,\n",
       " 25.589749963732732,\n",
       " 16.120391044063844,\n",
       " 0.02300327518226012,\n",
       " 0.9886796932934608,\n",
       " 0.683834491970217,\n",
       " 0.31046304824775545,\n",
       " 0.41304347826086957,\n",
       " 0.3347826086956522)"
      ]
     },
     "execution_count": 301,
     "metadata": {},
     "output_type": "execute_result"
    }
   ],
   "source": [
    "testset = DicomsDataset(test_case_path, geometry_aug=aug.get_validation_augmentation(), intensity_aug=None, identity=True)\n",
    "testloader = torch.utils.data.DataLoader(testset, batch_size=1, shuffle=False, num_workers=4)\n",
    "# score_ssim_test, score_psnr_test, score_snr_test, score_mae_test, \\\n",
    "#             score_air_test, score_bone_test, score_cont_test, score_tf_acc_test, score_edge_acc_test\n",
    "eval_epoch(model, tf_discriminator, edge_discriminator, testloader, device)"
   ]
  },
  {
   "cell_type": "markdown",
   "metadata": {},
   "source": [
    "# Chest"
   ]
  },
  {
   "cell_type": "code",
   "execution_count": 302,
   "metadata": {},
   "outputs": [],
   "source": [
    "test_case_path = 'chest/test/*_*'\n",
    "paths = sorted(glob.glob(test_case_path))"
   ]
  },
  {
   "cell_type": "markdown",
   "metadata": {},
   "source": [
    "## Chest on CBCT"
   ]
  },
  {
   "cell_type": "code",
   "execution_count": 303,
   "metadata": {},
   "outputs": [],
   "source": [
    "try:\n",
    "    os.mkdir(os.path.join(\"eval-gan\", run_name))\n",
    "except FileExistsError:\n",
    "    pass"
   ]
  },
  {
   "cell_type": "code",
   "execution_count": 304,
   "metadata": {},
   "outputs": [],
   "source": [
    "try:\n",
    "    os.mkdir(os.path.join(\"eval-gan\", run_name, \"chest_test_cbct\"))\n",
    "except FileExistsError:\n",
    "    pass"
   ]
  },
  {
   "cell_type": "code",
   "execution_count": 305,
   "metadata": {},
   "outputs": [
    {
     "name": "stderr",
     "output_type": "stream",
     "text": [
      "49it [00:05,  9.75it/s]\n",
      "39it [00:03, 10.40it/s]\n",
      "40it [00:03, 10.17it/s]\n",
      "29it [00:04,  6.83it/s]\n",
      "35it [00:03, 10.17it/s]\n",
      "37it [00:03, 10.40it/s]\n",
      "34it [00:03, 10.59it/s]\n"
     ]
    }
   ],
   "source": [
    "# read cbct and ct\n",
    "iid = 0\n",
    "for i in range(0, len(paths), 2):\n",
    "    scans = DicomDataset(cbct_path=paths[i+1], ct_path=paths[i], ditch=3, geometry_aug=aug.get_validation_augmentation(), intensity_aug=None, identity=False)\n",
    "    patient_id = scans.patientID()\n",
    "    testloader = torch.utils.data.DataLoader(scans, batch_size=1, shuffle=False, num_workers=4)\n",
    "    try:\n",
    "        os.mkdir(os.path.join(\"eval-gan\", run_name, \"chest_test_cbct\", patient_id))\n",
    "    except FileExistsError:\n",
    "        pass\n",
    "    \n",
    "    test_epoch(iid, model, testloader, device, True, os.path.join(\"eval-gan\", run_name, \"chest_test_cbct\", patient_id)) \n",
    "    iid += len(scans)"
   ]
  },
  {
   "cell_type": "code",
   "execution_count": 306,
   "metadata": {},
   "outputs": [
    {
     "name": "stderr",
     "output_type": "stream",
     "text": [
      "263it [00:24, 10.53it/s]\n"
     ]
    },
    {
     "data": {
      "text/plain": [
       "(0.7688600144458815,\n",
       " 20.360618322974375,\n",
       " 9.912747665956447,\n",
       " 0.03916181907935967,\n",
       " 0.9687031218733829,\n",
       " 0.7824693996580093,\n",
       " 0.43349976123739103,\n",
       " 0.4543726235741445,\n",
       " 0.564638783269962)"
      ]
     },
     "execution_count": 306,
     "metadata": {},
     "output_type": "execute_result"
    }
   ],
   "source": [
    "testset = DicomsDataset(test_case_path, geometry_aug=aug.get_validation_augmentation(), intensity_aug=None, identity=False)\n",
    "testloader = torch.utils.data.DataLoader(testset, batch_size=1, shuffle=False, num_workers=4)\n",
    "# score_ssim_test, score_psnr_test, score_snr_test, score_mae_test, \\\n",
    "#             score_air_test, score_bone_test, score_cont_test, score_tf_acc_test, score_edge_acc_test\n",
    "eval_epoch(model, tf_discriminator, edge_discriminator, testloader, device)"
   ]
  },
  {
   "cell_type": "markdown",
   "metadata": {},
   "source": [
    "## Chest on CT"
   ]
  },
  {
   "cell_type": "code",
   "execution_count": 307,
   "metadata": {
    "scrolled": true
   },
   "outputs": [],
   "source": [
    "try:\n",
    "    os.mkdir(os.path.join(\"eval-gan\", run_name))\n",
    "except FileExistsError:\n",
    "    pass"
   ]
  },
  {
   "cell_type": "code",
   "execution_count": 308,
   "metadata": {},
   "outputs": [],
   "source": [
    "try:\n",
    "    os.mkdir(os.path.join(\"eval-gan\", run_name, \"chest_test_ct\"))\n",
    "except FileExistsError:\n",
    "    pass"
   ]
  },
  {
   "cell_type": "code",
   "execution_count": 309,
   "metadata": {
    "scrolled": true
   },
   "outputs": [
    {
     "name": "stderr",
     "output_type": "stream",
     "text": [
      "49it [00:04, 10.74it/s]\n",
      "39it [00:03, 10.72it/s]\n",
      "40it [00:03, 11.18it/s]\n",
      "29it [00:02, 10.19it/s]\n",
      "35it [00:03, 10.29it/s]\n",
      "37it [00:03, 10.35it/s]\n",
      "34it [00:03, 10.26it/s]\n"
     ]
    }
   ],
   "source": [
    "# read cbct and ct\n",
    "iid = 0\n",
    "for i in range(0, len(paths), 2):\n",
    "    scans = DicomDataset(cbct_path=paths[i+1], ct_path=paths[i], ditch=3, geometry_aug=aug.get_validation_augmentation(), intensity_aug=None, identity=True)\n",
    "    patient_id = scans.patientID()\n",
    "    testloader = torch.utils.data.DataLoader(scans, batch_size=1, shuffle=False, num_workers=4)\n",
    "    try:\n",
    "        os.mkdir(os.path.join(\"eval-gan\", run_name, \"chest_test_ct\", patient_id))\n",
    "    except FileExistsError:\n",
    "        pass\n",
    "    \n",
    "    test_epoch(iid, model, testloader, device, True, os.path.join(\"eval-gan\", run_name, \"chest_test_ct\", patient_id)) \n",
    "    iid += len(scans)"
   ]
  },
  {
   "cell_type": "code",
   "execution_count": 310,
   "metadata": {},
   "outputs": [
    {
     "name": "stderr",
     "output_type": "stream",
     "text": [
      "263it [00:24, 10.60it/s]\n"
     ]
    },
    {
     "data": {
      "text/plain": [
       "(0.8977332572973273,\n",
       " 26.793772012108633,\n",
       " 16.345901159279247,\n",
       " 0.01849283008152768,\n",
       " 0.9698331013190672,\n",
       " 0.729827626194,\n",
       " 0.40108214936328934,\n",
       " 0.3821292775665399,\n",
       " 0.45817490494296575)"
      ]
     },
     "execution_count": 310,
     "metadata": {},
     "output_type": "execute_result"
    }
   ],
   "source": [
    "testset = DicomsDataset(test_case_path, geometry_aug=aug.get_validation_augmentation(), intensity_aug=None, identity=True)\n",
    "testloader = torch.utils.data.DataLoader(testset, batch_size=1, shuffle=False, num_workers=4)\n",
    "# score_ssim_test, score_psnr_test, score_snr_test, score_mae_test, \\\n",
    "#             score_air_test, score_bone_test, score_cont_test, score_tf_acc_test, score_edge_acc_test\n",
    "eval_epoch(model, tf_discriminator, edge_discriminator, testloader, device)"
   ]
  },
  {
   "cell_type": "markdown",
   "metadata": {},
   "source": [
    "# Headneck"
   ]
  },
  {
   "cell_type": "code",
   "execution_count": 311,
   "metadata": {},
   "outputs": [],
   "source": [
    "test_case_path = 'headneck/test/*_*'\n",
    "paths = sorted(glob.glob(test_case_path))"
   ]
  },
  {
   "cell_type": "markdown",
   "metadata": {},
   "source": [
    "## Headneck on CBCT"
   ]
  },
  {
   "cell_type": "code",
   "execution_count": 312,
   "metadata": {},
   "outputs": [],
   "source": [
    "try:\n",
    "    os.mkdir(os.path.join(\"eval-gan\", run_name))\n",
    "except FileExistsError:\n",
    "    pass"
   ]
  },
  {
   "cell_type": "code",
   "execution_count": 313,
   "metadata": {},
   "outputs": [],
   "source": [
    "try:\n",
    "    os.mkdir(os.path.join(\"eval-gan\", run_name, \"hn_test_cbct\"))\n",
    "except FileExistsError:\n",
    "    pass"
   ]
  },
  {
   "cell_type": "code",
   "execution_count": 314,
   "metadata": {},
   "outputs": [
    {
     "name": "stderr",
     "output_type": "stream",
     "text": [
      "58it [00:04, 12.38it/s]\n",
      "55it [00:04, 12.48it/s]\n",
      "55it [00:04, 12.83it/s]\n",
      "56it [00:04, 12.51it/s]\n",
      "56it [00:04, 12.60it/s]\n",
      "55it [00:04, 12.44it/s]\n",
      "56it [00:04, 12.78it/s]\n"
     ]
    }
   ],
   "source": [
    "# read cbct and ct\n",
    "iid = 0\n",
    "for i in range(0, len(paths), 2):\n",
    "    scans = DicomDataset(cbct_path=paths[i+1], ct_path=paths[i], ditch=3, geometry_aug=aug.get_validation_augmentation(), intensity_aug=None, identity=False)\n",
    "    patient_id = scans.patientID()\n",
    "    testloader = torch.utils.data.DataLoader(scans, batch_size=1, shuffle=False, num_workers=4)\n",
    "    try:\n",
    "        os.mkdir(os.path.join(\"eval-gan\", run_name, \"hn_test_cbct\", patient_id))\n",
    "    except FileExistsError:\n",
    "        pass\n",
    "    \n",
    "    test_epoch(iid, model, testloader, device, True, os.path.join(\"eval-gan\", run_name, \"hn_test_cbct\", patient_id)) \n",
    "    iid += len(scans)"
   ]
  },
  {
   "cell_type": "code",
   "execution_count": 315,
   "metadata": {},
   "outputs": [
    {
     "name": "stderr",
     "output_type": "stream",
     "text": [
      "391it [00:32, 12.05it/s]\n"
     ]
    },
    {
     "data": {
      "text/plain": [
       "(0.8416025989958088,\n",
       " 20.93690724385059,\n",
       " 6.984354465294754,\n",
       " 0.031185353860792603,\n",
       " 0.4629127601940863,\n",
       " 0.8270005944479433,\n",
       " 0.10079422060899304,\n",
       " 0.5741687979539642,\n",
       " 0.4373401534526854)"
      ]
     },
     "execution_count": 315,
     "metadata": {},
     "output_type": "execute_result"
    }
   ],
   "source": [
    "testset = DicomsDataset(test_case_path, geometry_aug=aug.get_validation_augmentation(), intensity_aug=None, identity=False)\n",
    "testloader = torch.utils.data.DataLoader(testset, batch_size=1, shuffle=False, num_workers=4)\n",
    "# score_ssim_test, score_psnr_test, score_snr_test, score_mae_test, \\\n",
    "#             score_air_test, score_bone_test, score_cont_test, score_tf_acc_test, score_edge_acc_test\n",
    "eval_epoch(model, tf_discriminator, edge_discriminator, testloader, device)"
   ]
  },
  {
   "cell_type": "markdown",
   "metadata": {},
   "source": [
    "## Headneck on CT"
   ]
  },
  {
   "cell_type": "code",
   "execution_count": 316,
   "metadata": {
    "scrolled": true
   },
   "outputs": [],
   "source": [
    "try:\n",
    "    os.mkdir(os.path.join(\"eval-gan\", run_name))\n",
    "except FileExistsError:\n",
    "    pass"
   ]
  },
  {
   "cell_type": "code",
   "execution_count": 317,
   "metadata": {},
   "outputs": [],
   "source": [
    "try:\n",
    "    os.mkdir(os.path.join(\"eval-gan\", run_name, \"hn_test_ct\"))\n",
    "except FileExistsError:\n",
    "    pass"
   ]
  },
  {
   "cell_type": "code",
   "execution_count": 318,
   "metadata": {
    "scrolled": true
   },
   "outputs": [
    {
     "name": "stderr",
     "output_type": "stream",
     "text": [
      "58it [00:04, 12.78it/s]\n",
      "55it [00:04, 12.80it/s]\n",
      "55it [00:05, 10.04it/s]\n",
      "56it [00:05, 10.28it/s]\n",
      "56it [00:05, 10.28it/s]\n",
      "55it [00:05, 10.37it/s]\n",
      "56it [00:05, 10.58it/s]\n"
     ]
    }
   ],
   "source": [
    "# read cbct and ct\n",
    "iid = 0\n",
    "for i in range(0, len(paths), 2):\n",
    "    scans = DicomDataset(cbct_path=paths[i+1], ct_path=paths[i], ditch=3, geometry_aug=aug.get_validation_augmentation(), intensity_aug=None, identity=True)\n",
    "    patient_id = scans.patientID()\n",
    "    testloader = torch.utils.data.DataLoader(scans, batch_size=1, shuffle=False, num_workers=4)\n",
    "    try:\n",
    "        os.mkdir(os.path.join(\"eval-gan\", run_name, \"hn_test_ct\", patient_id))\n",
    "    except FileExistsError:\n",
    "        pass\n",
    "    \n",
    "    test_epoch(iid, model, testloader, device, True, os.path.join(\"eval-gan\", run_name, \"hn_test_ct\", patient_id)) \n",
    "    iid += len(scans)"
   ]
  },
  {
   "cell_type": "code",
   "execution_count": 319,
   "metadata": {},
   "outputs": [
    {
     "name": "stderr",
     "output_type": "stream",
     "text": [
      "391it [00:36, 10.70it/s]\n"
     ]
    },
    {
     "data": {
      "text/plain": [
       "(0.8736617077723183,\n",
       " 26.305360862361194,\n",
       " 12.352808127927657,\n",
       " 0.025984379015100735,\n",
       " 0.528891866221776,\n",
       " 0.8135020156113609,\n",
       " 0.1363047514654142,\n",
       " 0.5179028132992327,\n",
       " 0.48721227621483376)"
      ]
     },
     "execution_count": 319,
     "metadata": {},
     "output_type": "execute_result"
    }
   ],
   "source": [
    "testset = DicomsDataset(test_case_path, geometry_aug=aug.get_validation_augmentation(), intensity_aug=None, identity=True)\n",
    "testloader = torch.utils.data.DataLoader(testset, batch_size=1, shuffle=False, num_workers=4)\n",
    "# score_ssim_test, score_psnr_test, score_snr_test, score_mae_test, \\\n",
    "#             score_air_test, score_bone_test, score_cont_test, score_tf_acc_test, score_edge_acc_test\n",
    "eval_epoch(model, tf_discriminator, edge_discriminator, testloader, device)"
   ]
  },
  {
   "cell_type": "code",
   "execution_count": null,
   "metadata": {},
   "outputs": [],
   "source": []
  },
  {
   "cell_type": "code",
   "execution_count": null,
   "metadata": {},
   "outputs": [],
   "source": []
  },
  {
   "cell_type": "code",
   "execution_count": null,
   "metadata": {},
   "outputs": [],
   "source": []
  },
  {
   "cell_type": "code",
   "execution_count": null,
   "metadata": {},
   "outputs": [],
   "source": []
  }
 ],
 "metadata": {
  "kernelspec": {
   "display_name": "Python 3",
   "language": "python",
   "name": "python3"
  },
  "language_info": {
   "codemirror_mode": {
    "name": "ipython",
    "version": 3
   },
   "file_extension": ".py",
   "mimetype": "text/x-python",
   "name": "python",
   "nbconvert_exporter": "python",
   "pygments_lexer": "ipython3",
   "version": "3.8.5"
  }
 },
 "nbformat": 4,
 "nbformat_minor": 5
}
