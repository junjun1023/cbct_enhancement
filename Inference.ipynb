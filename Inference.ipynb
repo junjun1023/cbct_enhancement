{
 "cells": [
  {
   "cell_type": "code",
   "execution_count": 1,
   "metadata": {},
   "outputs": [],
   "source": [
    "import os\n",
    "\n",
    "import torch\n",
    "import torch.nn as nn\n",
    "import torch.nn.functional as F\n",
    "import torch.optim as optim\n",
    "from torch.utils.data import DataLoader, Subset, ConcatDataset\n",
    "\n",
    "import cv2\n",
    "import numpy as np\n",
    "import pandas as pd\n",
    "from tqdm import tqdm\n",
    "import random\n",
    "import json"
   ]
  },
  {
   "cell_type": "code",
   "execution_count": 2,
   "metadata": {},
   "outputs": [],
   "source": [
    "import segmentation_models_pytorch as smp\n",
    "from segmentation_models_pytorch.losses import DiceLoss\n",
    "from segmentation_models_pytorch.utils.metrics import IoU, Fscore, Accuracy"
   ]
  },
  {
   "cell_type": "code",
   "execution_count": 3,
   "metadata": {},
   "outputs": [],
   "source": [
    "import matplotlib.pyplot as plt\n",
    "\n",
    "# helper function for data visualization\n",
    "def visualize(**images):\n",
    "    \"\"\"PLot images in one row.\"\"\"\n",
    "    n = len(images)\n",
    "    plt.figure(figsize=(16, 5))\n",
    "    for i, (name, image) in enumerate(images.items()):\n",
    "        plt.subplot(1, n, i + 1)\n",
    "        plt.xticks([])\n",
    "        plt.yticks([])\n",
    "        plt.title(' '.join(name.split('_')).title())\n",
    "        plt.imshow(image, 'gray')\n",
    "    plt.show()"
   ]
  },
  {
   "cell_type": "code",
   "execution_count": 4,
   "metadata": {},
   "outputs": [
    {
     "name": "stdout",
     "output_type": "stream",
     "text": [
      "[0.5488135  0.71518937 0.60276338 0.54488318 0.4236548 ] tensor([ 1.5410, -0.2934, -2.1788,  0.5684, -1.0845])\n"
     ]
    }
   ],
   "source": [
    "import random\n",
    "\n",
    "SEED = 0\n",
    "random.seed(SEED)\n",
    "np.random.seed(SEED)\n",
    "torch.manual_seed(SEED)\n",
    "\n",
    "print(np.random.rand(5), torch.randn(5))"
   ]
  },
  {
   "cell_type": "markdown",
   "metadata": {},
   "source": [
    "# Settings"
   ]
  },
  {
   "cell_type": "code",
   "execution_count": 5,
   "metadata": {},
   "outputs": [],
   "source": [
    "root = os.getcwd()\n",
    "device = torch.device(\"cuda:0\" if torch.cuda.is_available() else \"cpu\")\n",
    "\n",
    "BATCH = 4\n",
    "\n",
    "GEN_IN_CHANNELS = 1\n",
    "GEN_N_CLASSES = 1\n",
    "\n",
    "DIS_IN_CHANNELS = 1\n",
    "DIS_N_CLASSES = 2\n",
    "\n",
    "E_IN_CHANNELS = 1\n",
    "E_N_CLASSES = 2\n",
    "\n",
    "EPOCH = 200"
   ]
  },
  {
   "cell_type": "markdown",
   "metadata": {},
   "source": [
    "### Model Settings"
   ]
  },
  {
   "cell_type": "markdown",
   "metadata": {},
   "source": [
    "#### encoder"
   ]
  },
  {
   "cell_type": "code",
   "execution_count": 6,
   "metadata": {},
   "outputs": [],
   "source": [
    "ENCODER = \"resnet152\"\n",
    "ENCODER_WEIGHT = None"
   ]
  },
  {
   "cell_type": "markdown",
   "metadata": {},
   "source": [
    "#### decoder"
   ]
  },
  {
   "cell_type": "code",
   "execution_count": 7,
   "metadata": {},
   "outputs": [],
   "source": [
    "DECODER_ATT = \"scse\""
   ]
  },
  {
   "cell_type": "markdown",
   "metadata": {},
   "source": [
    "#### head"
   ]
  },
  {
   "cell_type": "code",
   "execution_count": 8,
   "metadata": {},
   "outputs": [],
   "source": [
    "GEN_ACT = \"sigmoid\"\n",
    "DIS_ACT = \"softmax\"\n",
    "E_ACT = \"softmax\""
   ]
  },
  {
   "cell_type": "markdown",
   "metadata": {},
   "source": [
    "### Optimizer Settings"
   ]
  },
  {
   "cell_type": "code",
   "execution_count": 9,
   "metadata": {},
   "outputs": [],
   "source": [
    "GEN_OPTIM_NAME = \"adam\"\n",
    "GEN_init_lr = 1e-4\n",
    "GEN_momentum = 0.9"
   ]
  },
  {
   "cell_type": "code",
   "execution_count": 10,
   "metadata": {},
   "outputs": [],
   "source": [
    "DIS_OPTIM_NAME = \"adam\"\n",
    "DIS_init_lr = 1e-3\n",
    "DIS_momentum = 0.9\n",
    "DIS_scheduler = \"cosineAnnWarm\""
   ]
  },
  {
   "cell_type": "code",
   "execution_count": 11,
   "metadata": {},
   "outputs": [],
   "source": [
    "E_OPTIM_NAME = \"adam\"\n",
    "E_init_lr = 1e-3\n",
    "E_momentum = 0.9\n",
    "E_scheduler = \"cosineAnnWarm\""
   ]
  },
  {
   "cell_type": "markdown",
   "metadata": {},
   "source": [
    "# Epochs"
   ]
  },
  {
   "cell_type": "code",
   "execution_count": 12,
   "metadata": {},
   "outputs": [],
   "source": [
    "from codes.losses import SSIMLoss\n",
    "from codes.losses import MAELoss\n",
    "from pytorch_msssim import ssim\n",
    "from codes.metrics import PSNR, SNR, ContourEval\n",
    "from codes.activation import Activation\n",
    "from codes.utils import hu_clip_tensor\n",
    "from codes.losses import PerceptualLoss\n",
    "from kornia.filters.sobel import Sobel"
   ]
  },
  {
   "cell_type": "code",
   "execution_count": 13,
   "metadata": {},
   "outputs": [],
   "source": [
    "def set_requires_grad(nets, requires_grad=False):\n",
    "    \"\"\"Set requies_grad=Fasle for all the networks to avoid unnecessary computations\n",
    "    Parameters:\n",
    "    nets (network list)   -- a list of networks\n",
    "    requires_grad (bool)  -- whether the networks require gradients or not\n",
    "    \"\"\"\n",
    "    if not isinstance(nets, list):\n",
    "        nets = [nets]\n",
    "        for net in nets:\n",
    "            if net is not None:\n",
    "                for param in net.parameters():\n",
    "                    param.requires_grad = requires_grad"
   ]
  },
  {
   "cell_type": "code",
   "execution_count": 14,
   "metadata": {},
   "outputs": [],
   "source": [
    "def replace_relu_to_leakyReLU(model):\n",
    "    for child_name, child in model.named_children():\n",
    "        if isinstance(child, nn.ReLU):\n",
    "            setattr(model, child_name, nn.LeakyReLU())\n",
    "        else:\n",
    "            replace_relu_to_leakyReLU(child)"
   ]
  },
  {
   "cell_type": "code",
   "execution_count": 15,
   "metadata": {},
   "outputs": [],
   "source": [
    "def replace_bn_to_instanceNorm(model):\n",
    "    for child_name, child in model.named_children():\n",
    "        if isinstance(child, nn.BatchNorm2d):\n",
    "            bn = getattr(model, child_name)\n",
    "            setattr(model, child_name, nn.InstanceNorm2d(bn.num_features))\n",
    "        else:\n",
    "            replace_bn_to_instanceNorm(child)"
   ]
  },
  {
   "cell_type": "code",
   "execution_count": 16,
   "metadata": {},
   "outputs": [],
   "source": [
    "perceptual_ext = PerceptualLoss()"
   ]
  },
  {
   "cell_type": "code",
   "execution_count": 17,
   "metadata": {},
   "outputs": [],
   "source": [
    "sobel_filter = Sobel().to(device)"
   ]
  },
  {
   "cell_type": "code",
   "execution_count": 18,
   "metadata": {},
   "outputs": [],
   "source": [
    "@torch.no_grad()\n",
    "def eval_epoch(generator, tf_discriminator, edge_discriminator, dataloader, device):\n",
    "  \n",
    "    # change mode to train and move to current device\n",
    "    generator = generator.eval().to(device)\n",
    "    tf_discriminator = tf_discriminator.eval().to(device)\n",
    "    edge_discriminator = edge_discriminator.eval().to(device)\n",
    "    \n",
    "    ssim_ = []\n",
    "    psnr_ = []\n",
    "    mae_ = []\n",
    "    snr_ = []\n",
    "    \n",
    "    air_ = []\n",
    "    bone_ = []\n",
    "    cont_ = []\n",
    " \n",
    "    tf_acc = []\n",
    "    edge_acc = []\n",
    "    \n",
    "    for index, data in tqdm(enumerate(dataloader)):\n",
    "\n",
    "        x, y, air_x, bone_x, *_ = data\n",
    "\n",
    "        x = x.to(device)\n",
    "        y = y.to(device)\n",
    "        air_x = air_x.to(device)\n",
    "        bone_x = bone_x.to(device)\n",
    "\n",
    "        y_pr = generator(x)\n",
    "        y_pr = Activation(name=GEN_ACT)(y_pr) # zipped value to [0, 1]\n",
    "        \n",
    "        edge_x = sobel_filter(x)\n",
    "        edge_y_pr = sobel_filter(y_pr)\n",
    "        edge_y = sobel_filter(y)\n",
    "        \n",
    "        total = x.size()[0]\n",
    "       ############################\n",
    "        # (1) Eval True/Fake D network: maximize log(D(x)) + log(1 - D(G(z)))\n",
    "        ###########################        \n",
    "        y_cls = tf_discriminator(y)\n",
    "        for _y_cls in y_cls:\n",
    "            _y_cls = Activation(name=DIS_ACT)(_y_cls)\n",
    "            _, _y_cls = torch.max(_y_cls.data, 1)\n",
    "            correct = (_y_cls == torch.zeros(total, dtype=torch.long, device=device)).sum().item()\n",
    "            tf_acc += [correct / total]        \n",
    "        \n",
    "        y_pr_cls = tf_discriminator(y_pr)\n",
    "        for _y_pr_cls in y_pr_cls:\n",
    "            _y_pr_cls = Activation(name=DIS_ACT)(_y_pr_cls)\n",
    "            _, _y_pr_cls = torch.max(_y_pr_cls.data, 1)\n",
    "            correct = (_y_pr_cls == torch.ones(total, dtype=torch.long, device=device)).sum().item()\n",
    "            tf_acc += [correct / total]\n",
    "        \n",
    "       ############################\n",
    "        # (1.1) Eval Edge D network: maximize log(D(x)) + log(1 - D(G(z)))\n",
    "        ###########################  \n",
    "        edge_y_cls = edge_discriminator(edge_y)\n",
    "        for _edge_y_cls in edge_y_cls:\n",
    "            _edge_y_cls = Activation(name=DIS_ACT)(_edge_y_cls)\n",
    "            _, _edge_y_cls = torch.max(_edge_y_cls.data, 1)\n",
    "            correct = (_edge_y_cls == torch.zeros(total, dtype=torch.long, device=device)).sum().item()\n",
    "            edge_acc += [correct / total]          \n",
    "        \n",
    "        edge_pr_cls = edge_discriminator(edge_y_pr)\n",
    "        for _edge_pr_cls in edge_pr_cls:\n",
    "            _edge_pr_cls = Activation(name=DIS_ACT)(_edge_pr_cls)\n",
    "            _, _edge_pr_cls = torch.max(_edge_pr_cls.data, 1)\n",
    "            correct = (_edge_pr_cls == torch.ones(total, dtype=torch.long, device=device)).sum().item()\n",
    "            edge_acc += [correct / total]        \n",
    "        \n",
    "        ############################\n",
    "        # (2) Eval G network: maximize log(D(G(z)))\n",
    "        ###########################\n",
    "        \n",
    "        # main\n",
    "        _ssim = ssim(y, y_pr, data_range=1.0, size_average=True) # return (N,)\n",
    "        _psnr = PSNR()(y_pr, y, 1.0)\n",
    "        _snr = SNR()(y_pr, y)\n",
    "        _mae = MAELoss()(y_pr.float(), y.float())\n",
    "\n",
    "        ssim_ += [_ssim.item()]\n",
    "        psnr_ += [_psnr.item()]\n",
    "        mae_ += [_mae.item()]\n",
    "        snr_ += [_snr.item()]\n",
    "        \n",
    "        # auxilary\n",
    "        _min = -500\n",
    "        _max = 500\n",
    "        air_window = (-500, -499)\n",
    "        upper = ((air_window[1]) - (_min))/(_max-(_min))\n",
    "        lower = ((air_window[0]) - (_min))/(_max-(_min))\n",
    "        air_pr = hu_clip_tensor(y_pr.double(), (lower, upper), None, True)\n",
    "        dice = Fscore()(air_pr, air_x)\n",
    "        air_ += [dice.item()]\n",
    "        \n",
    "        bone_window = (255, 256)\n",
    "        upper = ((bone_window[1]) - (_min))/(_max-(_min))\n",
    "        lower = ((bone_window[0]) - (_min))/(_max-(_min))\n",
    "        bone_pr = hu_clip_tensor(y_pr.double(), (lower, upper), None, True)\n",
    "        dice = Fscore()(bone_pr, bone_x)\n",
    "        bone_ += [dice.item()]\n",
    "\n",
    "        for b in range(x.size()[0]):\n",
    "            cont = ContourEval()(y_pr[b, :, :, :], x[b, :, :, :])\n",
    "            cont_ += [cont.item()]\n",
    "\n",
    "    return  sum(ssim_)/len(ssim_), sum(psnr_)/len(psnr_), sum(snr_)/len(snr_), sum(mae_)/len(mae_), \\\n",
    "                    sum(air_)/len(air_), sum(bone_)/len(bone_), sum(cont_)/len(cont_), sum(tf_acc)/len(tf_acc), sum(edge_acc)/len(edge_acc)"
   ]
  },
  {
   "cell_type": "code",
   "execution_count": 19,
   "metadata": {},
   "outputs": [],
   "source": [
    "@torch.no_grad()\n",
    "def test_epoch(iid, model, dataloader, device, save=False, path=None):\n",
    "  \n",
    "    # change mode to train and move to current device\n",
    "    model = model.eval().to(device)\n",
    "    \n",
    "    for index, data in tqdm(enumerate(dataloader)):\n",
    "\n",
    "        x, y, air_x, bone_x, *_ = data\n",
    "\n",
    "        x = x.to(device)\n",
    "        y = y.to(device)\n",
    "        air_x = air_x.to(device)\n",
    "        bone_x = bone_x.to(device)\n",
    "\n",
    "        y_pr = model(x)\n",
    "        y_pr = Activation(name=GEN_ACT)(y_pr) # zipped value to [0, 1]\n",
    "        \n",
    "        edge_x = sobel_filter(x)\n",
    "        edge_y_pr = sobel_filter(y_pr)\n",
    "        edge_y = sobel_filter(y)\n",
    "        \n",
    "        _min = -500\n",
    "        _max = 500\n",
    "        air_window = (-500, -499)\n",
    "        upper = ((air_window[1]) - (_min))/(_max-(_min))\n",
    "        lower = ((air_window[0]) - (_min))/(_max-(_min))\n",
    "        air_pr = hu_clip_tensor(y_pr.double(), (lower, upper), None, True)\n",
    "        \n",
    "        bone_window = (255, 256)\n",
    "        upper = ((bone_window[1]) - (_min))/(_max-(_min))\n",
    "        lower = ((bone_window[0]) - (_min))/(_max-(_min))\n",
    "        bone_pr = hu_clip_tensor(y_pr.double(), (lower, upper), None, True)\n",
    "\n",
    "        for b in range(x.shape[0]):           \n",
    "            tmp_y = y[b, :, :, :].unsqueeze(0)\n",
    "            tmp_y_pr = y_pr[b, :, :, :].unsqueeze(0)\n",
    "            tmp_air = air_x[b, :, :, :].unsqueeze(0)\n",
    "            tmp_air_pr = air_pr[b, :, :, :].unsqueeze(0)\n",
    "            tmp_bone = bone_x[b, :, :, :].unsqueeze(0)\n",
    "            tmp_bone_pr = bone_pr[b, :, :, :].unsqueeze(0)\n",
    "            \n",
    "            _ssim = ssim(tmp_y, tmp_y_pr, data_range=1.0, size_average=True) # return (N,)\n",
    "            _psnr = PSNR()(tmp_y_pr, tmp_y, 1.0)\n",
    "            _snr = SNR()(tmp_y_pr, tmp_y)\n",
    "            _mae = MAELoss()(tmp_y_pr.float(), tmp_y.float())\n",
    "            _air = Fscore()(tmp_air_pr, tmp_air)\n",
    "            _bone = Fscore()(tmp_bone_pr, tmp_bone)\n",
    "            _cont = ContourEval()(tmp_y_pr, x[b, :, :, :])\n",
    "            \n",
    "            scores = {\n",
    "                \"ssim score\": _ssim.item(),\n",
    "                \"psnr score\": _psnr.item(),\n",
    "                \"snr score\": _snr.item(),\n",
    "                \"mae error\": _mae.item(),\n",
    "                \"air dice score\": _air.item(),\n",
    "                \"bone dice score\": _bone.item(),\n",
    "                \"contour dice score\": _cont.item()\n",
    "            }\n",
    "            \n",
    "            __cbct = (x.squeeze().cpu().numpy() * 255).astype(np.uint8)\n",
    "            __ct = (tmp_y.squeeze().cpu().numpy() * 255).astype(np.uint8)\n",
    "            __ct_pred = (tmp_y_pr.squeeze().cpu().numpy() * 255).astype(np.uint8)\n",
    "            __ct_masked = __ct_pred * tmp_air.squeeze().cpu().numpy()\n",
    "            __air = (tmp_air.squeeze().cpu().numpy() * 255).astype(np.uint8)\n",
    "            __air_pr = (tmp_air_pr.squeeze().cpu().numpy() * 255).astype(np.uint8)\n",
    "            __bone = (tmp_bone.squeeze().cpu().numpy() * 255).astype(np.uint8)\n",
    "            __bone_pr = (tmp_bone_pr.squeeze().cpu().numpy() * 255).astype(np.uint8)\n",
    "            __edge_pr = (edge_y_pr[b, :].squeeze().cpu().numpy() * 255).astype(np.uint8)\n",
    "            __edge_x = (edge_x.squeeze().cpu().numpy() * 255).astype(np.uint8)\n",
    "            __edge_y = (edge_y.squeeze().cpu().numpy() * 255).astype(np.uint8)\n",
    "            \n",
    "#             visualize(\n",
    "#                 cbct = __cbct,\n",
    "#                 ct_y = __ct,\n",
    "#                 ct_pred = __ct_pred,\n",
    "#                 edge_pred = __edge_pr,\n",
    "#                 edge_x = __edge_x,\n",
    "#                 edge_y = __edge_y,\n",
    "#                 air = __air,\n",
    "#                 air_pr = __air_pr,\n",
    "#                 bone = __bone,\n",
    "#                 bone_pr = __bone_pr\n",
    "#             )\n",
    "            \n",
    "            if save:\n",
    "                path_dir = os.path.join(path, \"file_{}\".format(iid))\n",
    "                try:\n",
    "                    os.mkdir(path_dir)\n",
    "                except FileExistsError:\n",
    "                    pass\n",
    "                \n",
    "                cv2.imwrite(os.path.join(path_dir, \"cbct.jpg\"), __cbct)\n",
    "                cv2.imwrite(os.path.join(path_dir, \"ct.jpg\"), __ct)\n",
    "                cv2.imwrite(os.path.join(path_dir, \"ct_pred.jpg\"), __ct_pred)\n",
    "                cv2.imwrite(os.path.join(path_dir, \"air.jpg\"), __air)\n",
    "                cv2.imwrite(os.path.join(path_dir, \"air_pred.jpg\"), __air_pr)\n",
    "                cv2.imwrite(os.path.join(path_dir, \"bone.jpg\"), __bone)\n",
    "                cv2.imwrite(os.path.join(path_dir, \"bone_pred.jpg\"), __bone_pr)\n",
    "                cv2.imwrite(os.path.join(path_dir, \"edge_pred.jpg\"), __edge_pr)\n",
    "                cv2.imwrite(os.path.join(path_dir, \"edge_cbct.jpg\"), __edge_x)\n",
    "                cv2.imwrite(os.path.join(path_dir, \"edge_ct.jpg\"), __edge_y)\n",
    "                with open(os.path.join(path_dir, \"scores.txt\"), \"w\") as file:\n",
    "                    file.write(json.dumps(scores))                \n",
    "            iid += 1"
   ]
  },
  {
   "cell_type": "markdown",
   "metadata": {},
   "source": [
    "# Discriminator"
   ]
  },
  {
   "cell_type": "code",
   "execution_count": 20,
   "metadata": {},
   "outputs": [],
   "source": [
    "from codes.activation import Activation\n",
    "import torchvision.models as models\n",
    "from codes.losses import MultiScaleHeads"
   ]
  },
  {
   "cell_type": "code",
   "execution_count": 21,
   "metadata": {},
   "outputs": [],
   "source": [
    "class Discriminator(nn.Module):\n",
    "    def __init__(self, in_channel=1, n_classes=2, activation=None):\n",
    "        \n",
    "        super(Discriminator, self).__init__()\n",
    "        \n",
    "        encoder = smp.Unet(encoder_name=\"resnet18\", in_channels=in_channel, classes=n_classes).encoder\n",
    "        self.encoder = encoder\n",
    "        self.fc = MultiScaleHeads(n_classes=n_classes, channels=(512, ), activation=None)\n",
    "        \n",
    "    def forward(self, x):\n",
    "        x = self.encoder(x)\n",
    "        x = self.fc([x[-1]])\n",
    "        return x"
   ]
  },
  {
   "cell_type": "markdown",
   "metadata": {},
   "source": [
    "# Generator"
   ]
  },
  {
   "cell_type": "code",
   "execution_count": 22,
   "metadata": {},
   "outputs": [],
   "source": [
    "import segmentation_models_pytorch as smp\n",
    "from codes.decoder import UnetDecoder\n",
    "from segmentation_models_pytorch.base.heads import SegmentationHead"
   ]
  },
  {
   "cell_type": "code",
   "execution_count": 23,
   "metadata": {},
   "outputs": [],
   "source": [
    "class Generator(nn.Module):\n",
    "    def __init__(self, encoder_name, encoder_weights, in_channels, classes, attention_type):\n",
    "        \n",
    "        super(Generator, self).__init__()\n",
    "        \n",
    "        self.encoder = smp.Unet(encoder_name=encoder_name, encoder_weights=encoder_weights, in_channels=in_channels, classes=classes).encoder\n",
    "        self.decoder = UnetDecoder(\n",
    "                            encoder_channels=[in_channels, 0, 0, 0, 0, 2048],\n",
    "                            decoder_channels=[512, 256, 128, 64, 16],\n",
    "                            n_blocks=5,\n",
    "                            use_batchnorm=True,\n",
    "                            attention_type=attention_type)\n",
    "        self.head =  SegmentationHead(\n",
    "                        in_channels=16,\n",
    "                        out_channels=classes,\n",
    "                        activation=None)\n",
    "        \n",
    "        \n",
    "    def forward(self, x):\n",
    "        x = self.encoder(x)[-1]\n",
    "        x = self.decoder(*(None, None, None, None, x))\n",
    "        x = self.head(x)\n",
    "        \n",
    "        return x"
   ]
  },
  {
   "cell_type": "markdown",
   "metadata": {},
   "source": [
    "# Read Data"
   ]
  },
  {
   "cell_type": "code",
   "execution_count": 24,
   "metadata": {},
   "outputs": [],
   "source": [
    "import glob\n",
    "from codes.dataset import Dataset, DicomDataset, DicomsDataset\n",
    "import codes.augmentation as aug"
   ]
  },
  {
   "cell_type": "code",
   "execution_count": 87,
   "metadata": {},
   "outputs": [],
   "source": [
    "# run_name = wandb.run.name\n",
    "run_name = \"restful-fire-234\"\n",
    "ELECTRON = False"
   ]
  },
  {
   "cell_type": "code",
   "execution_count": 88,
   "metadata": {},
   "outputs": [],
   "source": [
    "checkpoint = torch.load(os.path.join(\"weight-gan\", \"{}.pth\".format(run_name)))"
   ]
  },
  {
   "cell_type": "code",
   "execution_count": 89,
   "metadata": {},
   "outputs": [
    {
     "data": {
      "text/plain": [
       "<All keys matched successfully>"
      ]
     },
     "execution_count": 89,
     "metadata": {},
     "output_type": "execute_result"
    }
   ],
   "source": [
    "model = smp.Unet(encoder_name=ENCODER, \n",
    "                  encoder_weights=ENCODER_WEIGHT, \n",
    "                  in_channels=GEN_IN_CHANNELS, \n",
    "                  classes=GEN_N_CLASSES,\n",
    "                 decoder_attention_type=DECODER_ATT)\n",
    "replace_relu_to_leakyReLU(model)\n",
    "replace_bn_to_instanceNorm(model)\n",
    "model.load_state_dict(checkpoint[\"model\"])"
   ]
  },
  {
   "cell_type": "code",
   "execution_count": 90,
   "metadata": {},
   "outputs": [
    {
     "data": {
      "text/plain": [
       "<All keys matched successfully>"
      ]
     },
     "execution_count": 90,
     "metadata": {},
     "output_type": "execute_result"
    }
   ],
   "source": [
    "tf_discriminator = Discriminator(in_channel=DIS_IN_CHANNELS, n_classes=DIS_N_CLASSES, activation=DIS_ACT)\n",
    "replace_relu_to_leakyReLU(tf_discriminator)\n",
    "replace_bn_to_instanceNorm(tf_discriminator)\n",
    "tf_discriminator.load_state_dict(checkpoint[\"tf_discriminator\"])"
   ]
  },
  {
   "cell_type": "code",
   "execution_count": 91,
   "metadata": {},
   "outputs": [
    {
     "data": {
      "text/plain": [
       "<All keys matched successfully>"
      ]
     },
     "execution_count": 91,
     "metadata": {},
     "output_type": "execute_result"
    }
   ],
   "source": [
    "edge_discriminator = Discriminator(in_channel=E_IN_CHANNELS, n_classes=E_N_CLASSES, activation=E_ACT)\n",
    "replace_relu_to_leakyReLU(edge_discriminator)\n",
    "replace_bn_to_instanceNorm(edge_discriminator)\n",
    "edge_discriminator.load_state_dict(checkpoint[\"edge_discriminator\"])"
   ]
  },
  {
   "cell_type": "markdown",
   "metadata": {},
   "source": [
    "# Pelvic"
   ]
  },
  {
   "cell_type": "markdown",
   "metadata": {},
   "source": [
    "## Pelvic Test CBCT"
   ]
  },
  {
   "cell_type": "code",
   "execution_count": 92,
   "metadata": {},
   "outputs": [],
   "source": [
    "test_case_path = 'raw/test/*_*'\n",
    "paths = sorted(glob.glob(test_case_path))"
   ]
  },
  {
   "cell_type": "code",
   "execution_count": 93,
   "metadata": {},
   "outputs": [],
   "source": [
    "try:\n",
    "    os.mkdir(os.path.join(\"eval-gan\", run_name))\n",
    "except FileExistsError:\n",
    "    pass"
   ]
  },
  {
   "cell_type": "code",
   "execution_count": 94,
   "metadata": {},
   "outputs": [],
   "source": [
    "try:\n",
    "    os.mkdir(os.path.join(\"eval-gan\", run_name, \"test_pelvic_cbct\"))\n",
    "except FileExistsError:\n",
    "    pass"
   ]
  },
  {
   "cell_type": "code",
   "execution_count": 95,
   "metadata": {},
   "outputs": [
    {
     "name": "stderr",
     "output_type": "stream",
     "text": [
      "28it [00:02, 10.39it/s]\n",
      "27it [00:02, 10.20it/s]\n",
      "26it [00:02,  9.62it/s]\n",
      "28it [00:02, 10.03it/s]\n",
      "27it [00:02, 12.75it/s]\n",
      "28it [00:02, 10.16it/s]\n",
      "27it [00:02, 10.89it/s]\n"
     ]
    }
   ],
   "source": [
    "# read cbct and ct\n",
    "iid = 0\n",
    "for i in range(0, len(paths), 2):\n",
    "    scans = DicomDataset(cbct_path=paths[i+1], ct_path=paths[i],\n",
    "                         geometry_aug=aug.get_validation_augmentation(), intensity_aug=None, \n",
    "                         identity=False, electron=ELECTRON, position=\"pelvic\")\n",
    "    patient_id = scans.patientID()\n",
    "    testloader = torch.utils.data.DataLoader(scans, batch_size=1, shuffle=False, num_workers=4)\n",
    "    try:\n",
    "        os.mkdir(os.path.join(\"eval-gan\", run_name, \"test_pelvic_cbct\", patient_id))\n",
    "    except FileExistsError:\n",
    "        pass\n",
    "    \n",
    "    test_epoch(iid, model, testloader, device, True, os.path.join(\"eval-gan\", run_name, \"test_pelvic_cbct\", patient_id)) \n",
    "    iid += len(scans)"
   ]
  },
  {
   "cell_type": "code",
   "execution_count": 96,
   "metadata": {},
   "outputs": [
    {
     "name": "stderr",
     "output_type": "stream",
     "text": [
      "191it [00:17, 10.71it/s]\n"
     ]
    },
    {
     "data": {
      "text/plain": [
       "(0.838530972990066,\n",
       " 23.40380932273665,\n",
       " 14.40808125440987,\n",
       " 0.02639478464557238,\n",
       " 0.9956517987829866,\n",
       " 0.8665486527785901,\n",
       " 0.3129198113505129,\n",
       " 0.4895287958115183,\n",
       " 0.5026178010471204)"
      ]
     },
     "execution_count": 96,
     "metadata": {},
     "output_type": "execute_result"
    }
   ],
   "source": [
    "testset = DicomsDataset(test_case_path, geometry_aug=aug.get_validation_augmentation(), intensity_aug=None, \n",
    "                        identity=False, electron=ELECTRON, position=\"pelvic\")\n",
    "testloader = torch.utils.data.DataLoader(testset, batch_size=1, shuffle=False, num_workers=4)\n",
    "# score_ssim_test, score_psnr_test, score_snr_test, score_mae_test, \\\n",
    "#             score_air_test, score_bone_test, score_cont_test, score_tf_acc_test, score_edge_acc_test\n",
    "eval_epoch(model, tf_discriminator, edge_discriminator, testloader, device)"
   ]
  },
  {
   "cell_type": "markdown",
   "metadata": {},
   "source": [
    "## Pelvic Test CT"
   ]
  },
  {
   "cell_type": "code",
   "execution_count": 97,
   "metadata": {},
   "outputs": [],
   "source": [
    "test_case_path = 'raw/test/*_*'\n",
    "paths = sorted(glob.glob(test_case_path))"
   ]
  },
  {
   "cell_type": "code",
   "execution_count": 98,
   "metadata": {},
   "outputs": [],
   "source": [
    "try:\n",
    "    os.mkdir(os.path.join(\"eval-gan\", run_name))\n",
    "except FileExistsError:\n",
    "    pass"
   ]
  },
  {
   "cell_type": "code",
   "execution_count": 99,
   "metadata": {},
   "outputs": [],
   "source": [
    "try:\n",
    "    os.mkdir(os.path.join(\"eval-gan\", run_name, \"test_pelvic_ct\"))\n",
    "except FileExistsError:\n",
    "    pass"
   ]
  },
  {
   "cell_type": "code",
   "execution_count": 100,
   "metadata": {},
   "outputs": [
    {
     "name": "stderr",
     "output_type": "stream",
     "text": [
      "28it [00:02, 11.15it/s]\n",
      "27it [00:02, 11.03it/s]\n",
      "26it [00:02, 11.17it/s]\n",
      "28it [00:02, 11.17it/s]\n",
      "27it [00:02, 11.11it/s]\n",
      "28it [00:02, 11.07it/s]\n",
      "27it [00:02, 10.61it/s]\n"
     ]
    }
   ],
   "source": [
    "# read cbct and ct\n",
    "iid = 0\n",
    "for i in range(0, len(paths), 2):\n",
    "    scans = DicomDataset(cbct_path=paths[i+1], ct_path=paths[i], \n",
    "                         geometry_aug=aug.get_validation_augmentation(), intensity_aug=None, \n",
    "                         identity=True, electron=ELECTRON, position=\"pelvic\")\n",
    "    patient_id = scans.patientID()\n",
    "    testloader = torch.utils.data.DataLoader(scans, batch_size=1, shuffle=False, num_workers=4)\n",
    "    try:\n",
    "        os.mkdir(os.path.join(\"eval-gan\", run_name, \"test_pelvic_ct\", patient_id))\n",
    "    except FileExistsError:\n",
    "        pass\n",
    "    \n",
    "    test_epoch(iid, model, testloader, device, True, os.path.join(\"eval-gan\", run_name, \"test_pelvic_ct\", patient_id)) \n",
    "    iid += len(scans)"
   ]
  },
  {
   "cell_type": "code",
   "execution_count": 101,
   "metadata": {},
   "outputs": [
    {
     "name": "stderr",
     "output_type": "stream",
     "text": [
      "191it [00:16, 11.55it/s]\n"
     ]
    },
    {
     "data": {
      "text/plain": [
       "(0.9139204162577684,\n",
       " 27.740212195830818,\n",
       " 18.744484207392986,\n",
       " 0.01571296146188263,\n",
       " 0.9950108040498072,\n",
       " 0.8505771385751244,\n",
       " 0.2470284736671373,\n",
       " 0.4895287958115183,\n",
       " 0.5)"
      ]
     },
     "execution_count": 101,
     "metadata": {},
     "output_type": "execute_result"
    }
   ],
   "source": [
    "testset = DicomsDataset(test_case_path, geometry_aug=aug.get_validation_augmentation(), intensity_aug=None, \n",
    "                        identity=True, electron=ELECTRON, position=\"pelvic\")\n",
    "testloader = torch.utils.data.DataLoader(testset, batch_size=1, shuffle=False, num_workers=4)\n",
    "# score_ssim_test, score_psnr_test, score_snr_test, score_mae_test, \\\n",
    "#             score_air_test, score_bone_test, score_cont_test, score_tf_acc_test, score_edge_acc_test\n",
    "eval_epoch(model, tf_discriminator, edge_discriminator, testloader, device)"
   ]
  },
  {
   "cell_type": "markdown",
   "metadata": {},
   "source": [
    "## Pelvic L1 CBCT"
   ]
  },
  {
   "cell_type": "code",
   "execution_count": 102,
   "metadata": {},
   "outputs": [],
   "source": [
    "test_case_path = 'L1_pelvic_processed/reg_pelvic_l1/*_*'\n",
    "paths = sorted(glob.glob(test_case_path))"
   ]
  },
  {
   "cell_type": "code",
   "execution_count": 103,
   "metadata": {},
   "outputs": [],
   "source": [
    "try:\n",
    "    os.mkdir(os.path.join(\"eval-gan\", run_name))\n",
    "except FileExistsError:\n",
    "    pass"
   ]
  },
  {
   "cell_type": "code",
   "execution_count": 104,
   "metadata": {},
   "outputs": [],
   "source": [
    "try:\n",
    "    os.mkdir(os.path.join(\"eval-gan\", run_name, \"L1_pelvic_cbct\"))\n",
    "except FileExistsError:\n",
    "    pass"
   ]
  },
  {
   "cell_type": "code",
   "execution_count": 105,
   "metadata": {
    "scrolled": true
   },
   "outputs": [
    {
     "name": "stderr",
     "output_type": "stream",
     "text": [
      "29it [00:02, 11.48it/s]\n",
      "26it [00:02, 11.78it/s]\n",
      "28it [00:02, 11.85it/s]\n",
      "28it [00:02, 12.45it/s]\n",
      "27it [00:02, 12.03it/s]\n",
      "26it [00:02, 11.61it/s]\n",
      "27it [00:02, 11.52it/s]\n",
      "30it [00:02, 12.01it/s]\n",
      "28it [00:02, 11.48it/s]\n",
      "29it [00:02, 11.89it/s]\n",
      "29it [00:02, 12.30it/s]\n",
      "27it [00:02, 11.97it/s]\n",
      "28it [00:02, 11.99it/s]\n",
      "26it [00:02, 12.06it/s]\n",
      "28it [00:02, 11.86it/s]\n",
      "28it [00:02, 11.65it/s]\n",
      "27it [00:02, 11.29it/s]\n",
      "26it [00:02, 11.79it/s]\n",
      "27it [00:02, 12.01it/s]\n",
      "29it [00:02, 11.91it/s]\n",
      "30it [00:02, 11.83it/s]\n",
      "32it [00:02, 12.70it/s]\n",
      "28it [00:02, 11.60it/s]\n",
      "28it [00:02, 11.58it/s]\n",
      "15it [00:01, 10.69it/s]\n",
      "28it [00:02, 11.59it/s]\n",
      "26it [00:02, 11.79it/s]\n",
      "28it [00:02, 11.92it/s]\n",
      "26it [00:02, 11.51it/s]\n",
      "27it [00:02, 11.24it/s]\n",
      "36it [00:03, 11.95it/s]\n",
      "28it [00:02, 13.62it/s]\n",
      "27it [00:02,  9.33it/s]\n",
      "28it [00:02,  9.44it/s]\n",
      "30it [00:03,  9.57it/s]\n",
      "27it [00:03,  8.98it/s]\n",
      "26it [00:02,  9.15it/s]\n",
      "29it [00:03,  9.35it/s]\n",
      "27it [00:02,  9.09it/s]\n",
      "27it [00:02, 10.05it/s]\n",
      "28it [00:03,  9.05it/s]\n",
      "26it [00:01, 13.80it/s]\n",
      "26it [00:02, 10.54it/s]\n",
      "29it [00:02, 10.85it/s]\n",
      "28it [00:02, 10.64it/s]\n",
      "27it [00:02, 10.39it/s]\n",
      "30it [00:02, 10.32it/s]\n",
      "27it [00:02, 10.26it/s]\n",
      "130it [00:12, 10.17it/s]\n"
     ]
    }
   ],
   "source": [
    "# read cbct and ct\n",
    "iid = 0\n",
    "for i in range(0, len(paths), 2):\n",
    "    scans = DicomDataset(cbct_path=paths[i+1], ct_path=paths[i], \n",
    "                         geometry_aug=aug.get_validation_augmentation(), intensity_aug=None, \n",
    "                         identity=False, electron=ELECTRON, position=\"pelvic\")\n",
    "    patient_id = scans.patientID()\n",
    "    testloader = torch.utils.data.DataLoader(scans, batch_size=1, shuffle=False, num_workers=4)\n",
    "    try:\n",
    "        os.mkdir(os.path.join(\"eval-gan\", run_name, \"L1_pelvic_cbct\", patient_id))\n",
    "    except FileExistsError:\n",
    "        pass\n",
    "    \n",
    "    test_epoch(iid, model, testloader, device, True, os.path.join(\"eval-gan\", run_name, \"L1_pelvic_cbct\", patient_id)) \n",
    "    iid += len(scans)"
   ]
  },
  {
   "cell_type": "code",
   "execution_count": 106,
   "metadata": {},
   "outputs": [
    {
     "name": "stderr",
     "output_type": "stream",
     "text": [
      "1457it [03:19,  7.29it/s]\n"
     ]
    },
    {
     "data": {
      "text/plain": [
       "(0.8259709656197647,\n",
       " 22.74182938842145,\n",
       " 13.540811696155643,\n",
       " 0.029400221540035864,\n",
       " 0.9948409188812151,\n",
       " 0.8360460133427686,\n",
       " 0.3317457672245022,\n",
       " 0.4821551132463967,\n",
       " 0.4625943719972546)"
      ]
     },
     "execution_count": 106,
     "metadata": {},
     "output_type": "execute_result"
    }
   ],
   "source": [
    "testset = DicomsDataset(test_case_path, geometry_aug=aug.get_validation_augmentation(), intensity_aug=None, \n",
    "                        identity=False, electron=ELECTRON, position=\"pelvic\")\n",
    "testloader = torch.utils.data.DataLoader(testset, batch_size=1, shuffle=False, num_workers=4)\n",
    "# score_ssim_test, score_psnr_test, score_snr_test, score_mae_test, \\\n",
    "#             score_air_test, score_bone_test, score_cont_test, score_tf_acc_test, score_edge_acc_test\n",
    "eval_epoch(model, tf_discriminator, edge_discriminator, testloader, device)"
   ]
  },
  {
   "cell_type": "markdown",
   "metadata": {},
   "source": [
    "## Pelvic L1 CT"
   ]
  },
  {
   "cell_type": "code",
   "execution_count": 107,
   "metadata": {},
   "outputs": [],
   "source": [
    "test_case_path = 'L1_pelvic_processed/reg_pelvic_l1/*_*'\n",
    "paths = sorted(glob.glob(test_case_path))"
   ]
  },
  {
   "cell_type": "code",
   "execution_count": 108,
   "metadata": {},
   "outputs": [],
   "source": [
    "try:\n",
    "    os.mkdir(os.path.join(\"eval-gan\", run_name))\n",
    "except FileExistsError:\n",
    "    pass"
   ]
  },
  {
   "cell_type": "code",
   "execution_count": 109,
   "metadata": {},
   "outputs": [],
   "source": [
    "try:\n",
    "    os.mkdir(os.path.join(\"eval-gan\", run_name, \"L1_pelvic_ct\"))\n",
    "except FileExistsError:\n",
    "    pass"
   ]
  },
  {
   "cell_type": "code",
   "execution_count": 110,
   "metadata": {
    "scrolled": true
   },
   "outputs": [
    {
     "name": "stderr",
     "output_type": "stream",
     "text": [
      "29it [00:03,  7.25it/s]\n",
      "26it [00:03,  7.43it/s]\n",
      "28it [00:03,  7.49it/s]\n",
      "28it [00:03,  9.09it/s]\n",
      "27it [00:03,  7.14it/s]\n",
      "26it [00:03,  7.06it/s]\n",
      "27it [00:03,  7.27it/s]\n",
      "30it [00:04,  7.29it/s]\n",
      "28it [00:03,  7.21it/s]\n",
      "29it [00:04,  7.09it/s]\n",
      "29it [00:03,  7.29it/s]\n",
      "27it [00:03,  7.26it/s]\n",
      "28it [00:03,  7.07it/s]\n",
      "26it [00:03,  7.33it/s]\n",
      "28it [00:04,  6.92it/s]\n",
      "28it [00:03,  7.29it/s]\n",
      "27it [00:03,  7.53it/s]\n",
      "26it [00:03,  6.64it/s]\n",
      "27it [00:03,  7.20it/s]\n",
      "29it [00:04,  7.04it/s]\n",
      "30it [00:04,  7.19it/s]\n",
      "32it [00:04,  7.48it/s]\n",
      "28it [00:03,  7.40it/s]\n",
      "28it [00:03,  7.11it/s]\n",
      "15it [00:02,  6.99it/s]\n",
      "28it [00:03,  7.50it/s]\n",
      "26it [00:03,  7.17it/s]\n",
      "28it [00:03,  7.35it/s]\n",
      "26it [00:03,  7.21it/s]\n",
      "27it [00:03,  7.48it/s]\n",
      "36it [00:04,  7.51it/s]\n",
      "28it [00:03,  7.36it/s]\n",
      "27it [00:03,  7.45it/s]\n",
      "28it [00:03,  7.39it/s]\n",
      "30it [00:04,  7.50it/s]\n",
      "27it [00:03,  7.22it/s]\n",
      "26it [00:03,  7.11it/s]\n",
      "29it [00:03,  7.54it/s]\n",
      "27it [00:03,  7.62it/s]\n",
      "27it [00:02,  9.14it/s]\n",
      "28it [00:03,  9.04it/s]\n",
      "26it [00:03,  8.54it/s]\n",
      "26it [00:02,  8.95it/s]\n",
      "29it [00:03,  8.63it/s]\n",
      "28it [00:02,  9.50it/s]\n",
      "27it [00:03,  8.76it/s]\n",
      "30it [00:03,  8.90it/s]\n",
      "27it [00:02,  9.24it/s]\n",
      "130it [00:13,  9.52it/s]\n"
     ]
    }
   ],
   "source": [
    "# read cbct and ct\n",
    "iid = 0\n",
    "for i in range(0, len(paths), 2):\n",
    "    scans = DicomDataset(cbct_path=paths[i+1], ct_path=paths[i], \n",
    "                         geometry_aug=aug.get_validation_augmentation(), intensity_aug=None, \n",
    "                         identity=True, electron=ELECTRON, position=\"pelvic\")\n",
    "    patient_id = scans.patientID()\n",
    "    testloader = torch.utils.data.DataLoader(scans, batch_size=1, shuffle=False, num_workers=4)\n",
    "    try:\n",
    "        os.mkdir(os.path.join(\"eval-gan\", run_name, \"L1_pelvic_ct\", patient_id))\n",
    "    except FileExistsError:\n",
    "        pass\n",
    "    \n",
    "    test_epoch(iid, model, testloader, device, True, os.path.join(\"eval-gan\", run_name, \"L1_pelvic_ct\", patient_id)) \n",
    "    iid += len(scans)"
   ]
  },
  {
   "cell_type": "code",
   "execution_count": 111,
   "metadata": {},
   "outputs": [
    {
     "name": "stderr",
     "output_type": "stream",
     "text": [
      "1457it [02:45,  8.82it/s]\n"
     ]
    },
    {
     "data": {
      "text/plain": [
       "(0.9097965243096702,\n",
       " 27.573412785893364,\n",
       " 18.37239509718665,\n",
       " 0.016993413021559167,\n",
       " 0.9950904326203527,\n",
       " 0.8373062165386767,\n",
       " 0.28383697497140037,\n",
       " 0.4800960878517502,\n",
       " 0.45676046671242276)"
      ]
     },
     "execution_count": 111,
     "metadata": {},
     "output_type": "execute_result"
    }
   ],
   "source": [
    "testset = DicomsDataset(test_case_path, geometry_aug=aug.get_validation_augmentation(), intensity_aug=None, \n",
    "                        identity=True, electron=ELECTRON, position=\"pelvic\")\n",
    "testloader = torch.utils.data.DataLoader(testset, batch_size=1, shuffle=False, num_workers=4)\n",
    "# score_ssim_test, score_psnr_test, score_snr_test, score_mae_test, \\\n",
    "#             score_air_test, score_bone_test, score_cont_test, score_tf_acc_test, score_edge_acc_test\n",
    "eval_epoch(model, tf_discriminator, edge_discriminator, testloader, device)"
   ]
  },
  {
   "cell_type": "markdown",
   "metadata": {},
   "source": [
    "## Pelvic L2 CBCT"
   ]
  },
  {
   "cell_type": "code",
   "execution_count": 112,
   "metadata": {},
   "outputs": [],
   "source": [
    "test_case_path = 'L2_pelvic_processed/reg_pelvic_l2/*_*'\n",
    "paths = sorted(glob.glob(test_case_path))"
   ]
  },
  {
   "cell_type": "code",
   "execution_count": 113,
   "metadata": {},
   "outputs": [],
   "source": [
    "try:\n",
    "    os.mkdir(os.path.join(\"eval-gan\", run_name))\n",
    "except FileExistsError:\n",
    "    pass"
   ]
  },
  {
   "cell_type": "code",
   "execution_count": 114,
   "metadata": {},
   "outputs": [],
   "source": [
    "try:\n",
    "    os.mkdir(os.path.join(\"eval-gan\", run_name, \"L2_pelvic_cbct\"))\n",
    "except FileExistsError:\n",
    "    pass"
   ]
  },
  {
   "cell_type": "code",
   "execution_count": 115,
   "metadata": {
    "scrolled": true
   },
   "outputs": [
    {
     "name": "stderr",
     "output_type": "stream",
     "text": [
      "26it [00:03,  8.58it/s]\n",
      "26it [00:03,  8.21it/s]\n",
      "26it [00:02,  9.14it/s]\n",
      "27it [00:02,  9.21it/s]\n",
      "31it [00:04,  7.72it/s]\n",
      "27it [00:03,  6.80it/s]\n",
      "27it [00:04,  6.61it/s]\n",
      "26it [00:04,  6.48it/s]\n",
      "28it [00:04,  6.90it/s]\n",
      "28it [00:04,  6.96it/s]\n",
      "27it [00:03,  7.04it/s]\n",
      "27it [00:03,  7.57it/s]\n",
      "26it [00:03,  6.65it/s]\n",
      "26it [00:03,  6.95it/s]\n",
      "26it [00:03,  7.13it/s]\n",
      "26it [00:03,  6.86it/s]\n",
      "26it [00:04,  6.44it/s]\n",
      "26it [00:03,  7.43it/s]\n",
      "27it [00:03,  6.95it/s]\n",
      "26it [00:03,  6.78it/s]\n",
      "26it [00:03,  6.64it/s]\n",
      "28it [00:04,  6.72it/s]\n",
      "28it [00:04,  6.79it/s]\n",
      "29it [00:04,  6.80it/s]\n",
      "28it [00:04,  6.94it/s]\n",
      "26it [00:03,  6.62it/s]\n",
      "27it [00:03,  6.83it/s]\n",
      "26it [00:03,  6.74it/s]\n",
      "28it [00:03,  7.01it/s]\n",
      "30it [00:04,  6.70it/s]\n",
      "27it [00:04,  6.57it/s]\n",
      "29it [00:04,  6.67it/s]\n",
      "27it [00:03,  7.64it/s]\n",
      "27it [00:03,  6.91it/s]\n",
      "26it [00:03,  6.55it/s]\n",
      "26it [00:03,  7.13it/s]\n",
      "26it [00:03,  7.01it/s]\n",
      "26it [00:03,  7.11it/s]\n",
      "27it [00:03,  7.04it/s]\n",
      "26it [00:03,  7.27it/s]\n",
      "26it [00:03,  6.76it/s]\n",
      "26it [00:03,  7.28it/s]\n",
      "27it [00:03,  7.20it/s]\n",
      "28it [00:03,  7.20it/s]\n",
      "27it [00:03,  7.29it/s]\n",
      "26it [00:03,  7.14it/s]\n",
      "29it [00:04,  7.24it/s]\n",
      "26it [00:03,  7.34it/s]\n",
      "27it [00:03,  7.38it/s]\n",
      "26it [00:03,  7.52it/s]\n",
      "26it [00:03,  6.93it/s]\n",
      "26it [00:03,  7.19it/s]\n",
      "27it [00:03,  7.27it/s]\n",
      "27it [00:03,  7.31it/s]\n",
      "26it [00:03,  7.13it/s]\n",
      "26it [00:03,  7.11it/s]\n",
      "26it [00:03,  7.57it/s]\n",
      "27it [00:03,  7.57it/s]\n",
      "24it [00:03,  7.53it/s]\n",
      "27it [00:03,  7.22it/s]\n",
      "30it [00:03,  7.70it/s]\n",
      "26it [00:03,  7.16it/s]\n",
      "27it [00:03,  7.29it/s]\n",
      "26it [00:03,  7.25it/s]\n",
      "29it [00:03,  7.51it/s]\n",
      "29it [00:04,  7.23it/s]\n",
      "27it [00:03,  7.55it/s]\n",
      "26it [00:03,  7.23it/s]\n",
      "26it [00:03,  7.20it/s]\n",
      "27it [00:03,  7.22it/s]\n",
      "26it [00:03,  7.22it/s]\n",
      "26it [00:03,  7.64it/s]\n",
      "26it [00:04,  5.65it/s]\n",
      "24it [00:03,  6.75it/s]\n",
      "26it [00:03,  6.77it/s]\n",
      "28it [00:04,  6.73it/s]\n",
      "26it [00:03,  7.21it/s]\n",
      "26it [00:04,  6.21it/s]\n",
      "26it [00:03,  7.22it/s]\n",
      "28it [00:03,  7.28it/s]\n",
      "27it [00:03,  7.01it/s]\n",
      "27it [00:03,  7.09it/s]\n",
      "28it [00:04,  6.97it/s]\n",
      "27it [00:03,  7.16it/s]\n",
      "27it [00:03,  7.27it/s]\n",
      "27it [00:03,  8.33it/s]\n",
      "28it [00:03,  7.10it/s]\n",
      "26it [00:03,  7.45it/s]\n",
      "28it [00:03,  7.29it/s]\n",
      "27it [00:03,  7.41it/s]\n",
      "26it [00:03,  7.13it/s]\n",
      "29it [00:04,  7.19it/s]\n",
      "26it [00:03,  7.05it/s]\n",
      "26it [00:03,  7.21it/s]\n",
      "27it [00:03,  7.47it/s]\n",
      "28it [00:03,  7.85it/s]\n",
      "27it [00:03,  7.34it/s]\n",
      "26it [00:03,  7.64it/s]\n",
      "29it [00:04,  7.17it/s]\n",
      "30it [00:04,  7.38it/s]\n",
      "27it [00:03,  7.20it/s]\n",
      "27it [00:03,  7.34it/s]\n",
      "26it [00:03,  7.64it/s]\n",
      "26it [00:03,  7.30it/s]\n",
      "26it [00:03,  7.24it/s]\n",
      "27it [00:03,  8.24it/s]\n",
      "27it [00:03,  8.58it/s]\n",
      "27it [00:02,  9.30it/s]\n",
      "26it [00:02,  8.75it/s]\n",
      "26it [00:02,  8.72it/s]\n",
      "26it [00:03,  8.52it/s]\n",
      "30it [00:03,  9.80it/s]\n",
      "27it [00:03,  8.98it/s]\n",
      "27it [00:03,  8.77it/s]\n"
     ]
    }
   ],
   "source": [
    "# read cbct and ct\n",
    "iid = 0\n",
    "for i in range(0, len(paths), 2):\n",
    "    scans = DicomDataset(cbct_path=paths[i+1], ct_path=paths[i], \n",
    "                         geometry_aug=aug.get_validation_augmentation(), intensity_aug=None, \n",
    "                         identity=False, electron=ELECTRON, position=\"pelvic\")\n",
    "    patient_id = scans.patientID()\n",
    "    testloader = torch.utils.data.DataLoader(scans, batch_size=1, shuffle=False, num_workers=4)\n",
    "    try:\n",
    "        os.mkdir(os.path.join(\"eval-gan\", run_name, \"L2_pelvic_cbct\", patient_id))\n",
    "    except FileExistsError:\n",
    "        pass\n",
    "    \n",
    "    test_epoch(iid, model, testloader, device, True, os.path.join(\"eval-gan\", run_name, \"L2_pelvic_cbct\", patient_id)) \n",
    "    iid += len(scans)"
   ]
  },
  {
   "cell_type": "code",
   "execution_count": 116,
   "metadata": {},
   "outputs": [
    {
     "name": "stderr",
     "output_type": "stream",
     "text": [
      "3064it [06:38,  7.70it/s]\n"
     ]
    },
    {
     "data": {
      "text/plain": [
       "(0.812609559445406,\n",
       " 22.053447613516923,\n",
       " 12.46859948753377,\n",
       " 0.03165273987183556,\n",
       " 0.9952102631151106,\n",
       " 0.827665297315082,\n",
       " 0.41609574951216044,\n",
       " 0.4841710182767624,\n",
       " 0.5006527415143603)"
      ]
     },
     "execution_count": 116,
     "metadata": {},
     "output_type": "execute_result"
    }
   ],
   "source": [
    "testset = DicomsDataset(test_case_path, geometry_aug=aug.get_validation_augmentation(), intensity_aug=None, \n",
    "                        identity=False, electron=ELECTRON, position=\"pelvic\")\n",
    "testloader = torch.utils.data.DataLoader(testset, batch_size=1, shuffle=False, num_workers=4)\n",
    "# score_ssim_test, score_psnr_test, score_snr_test, score_mae_test, \\\n",
    "#             score_air_test, score_bone_test, score_cont_test, score_tf_acc_test, score_edge_acc_test\n",
    "eval_epoch(model, tf_discriminator, edge_discriminator, testloader, device)"
   ]
  },
  {
   "cell_type": "markdown",
   "metadata": {},
   "source": [
    "## Pelvic L2 CT"
   ]
  },
  {
   "cell_type": "code",
   "execution_count": 117,
   "metadata": {},
   "outputs": [],
   "source": [
    "test_case_path = 'L2_pelvic_processed/reg_pelvic_l2/*_*'\n",
    "paths = sorted(glob.glob(test_case_path))"
   ]
  },
  {
   "cell_type": "code",
   "execution_count": 118,
   "metadata": {},
   "outputs": [],
   "source": [
    "try:\n",
    "    os.mkdir(os.path.join(\"eval-gan\", run_name))\n",
    "except FileExistsError:\n",
    "    pass"
   ]
  },
  {
   "cell_type": "code",
   "execution_count": 119,
   "metadata": {},
   "outputs": [],
   "source": [
    "try:\n",
    "    os.mkdir(os.path.join(\"eval-gan\", run_name, \"L2_pelvic_ct\"))\n",
    "except FileExistsError:\n",
    "    pass"
   ]
  },
  {
   "cell_type": "code",
   "execution_count": 120,
   "metadata": {
    "scrolled": true
   },
   "outputs": [
    {
     "name": "stderr",
     "output_type": "stream",
     "text": [
      "26it [00:03,  7.31it/s]\n",
      "26it [00:03,  6.98it/s]\n",
      "26it [00:03,  7.29it/s]\n",
      "27it [00:03,  7.35it/s]\n",
      "31it [00:04,  7.39it/s]\n",
      "27it [00:03,  7.21it/s]\n",
      "27it [00:03,  7.85it/s]\n",
      "26it [00:04,  5.84it/s]\n",
      "28it [00:03,  7.26it/s]\n",
      "28it [00:03,  7.20it/s]\n",
      "27it [00:03,  7.29it/s]\n",
      "27it [00:03,  7.36it/s]\n",
      "26it [00:03,  7.12it/s]\n",
      "26it [00:03,  7.05it/s]\n",
      "26it [00:03,  7.18it/s]\n",
      "26it [00:03,  7.10it/s]\n",
      "26it [00:03,  7.19it/s]\n",
      "26it [00:03,  7.25it/s]\n",
      "27it [00:03,  7.29it/s]\n",
      "26it [00:03,  6.95it/s]\n",
      "26it [00:03,  7.03it/s]\n",
      "28it [00:03,  7.19it/s]\n",
      "28it [00:03,  7.30it/s]\n",
      "29it [00:04,  7.20it/s]\n",
      "28it [00:03,  7.41it/s]\n",
      "26it [00:03,  7.30it/s]\n",
      "27it [00:03,  7.31it/s]\n",
      "26it [00:03,  7.15it/s]\n",
      "28it [00:03,  7.51it/s]\n",
      "30it [00:04,  7.16it/s]\n",
      "27it [00:04,  6.59it/s]\n",
      "29it [00:04,  6.78it/s]\n",
      "27it [00:04,  6.66it/s]\n",
      "27it [00:04,  6.68it/s]\n",
      "26it [00:04,  6.49it/s]\n",
      "26it [00:03,  6.76it/s]\n",
      "26it [00:03,  6.86it/s]\n",
      "26it [00:03,  6.74it/s]\n",
      "27it [00:04,  6.66it/s]\n",
      "26it [00:03,  6.77it/s]\n",
      "26it [00:03,  6.68it/s]\n",
      "26it [00:03,  6.80it/s]\n",
      "27it [00:03,  6.77it/s]\n",
      "28it [00:04,  6.97it/s]\n",
      "27it [00:03,  6.83it/s]\n",
      "26it [00:03,  6.91it/s]\n",
      "29it [00:03,  8.15it/s]\n",
      "26it [00:03,  7.24it/s]\n",
      "27it [00:03,  7.58it/s]\n",
      "26it [00:03,  7.29it/s]\n",
      "26it [00:03,  7.35it/s]\n",
      "26it [00:03,  7.32it/s]\n",
      "27it [00:03,  7.33it/s]\n",
      "27it [00:03,  7.24it/s]\n",
      "26it [00:03,  7.23it/s]\n",
      "26it [00:03,  7.34it/s]\n",
      "26it [00:03,  7.04it/s]\n",
      "27it [00:03,  7.31it/s]\n",
      "24it [00:03,  7.40it/s]\n",
      "27it [00:03,  7.39it/s]\n",
      "30it [00:04,  7.35it/s]\n",
      "26it [00:03,  7.08it/s]\n",
      "27it [00:03,  7.42it/s]\n",
      "26it [00:03,  7.25it/s]\n",
      "29it [00:03,  7.38it/s]\n",
      "29it [00:03,  7.34it/s]\n",
      "27it [00:03,  7.15it/s]\n",
      "26it [00:03,  8.37it/s]\n",
      "26it [00:02,  8.75it/s]\n",
      "27it [00:03,  8.85it/s]\n",
      "26it [00:02,  8.79it/s]\n",
      "26it [00:02,  8.69it/s]\n",
      "26it [00:02,  8.68it/s]\n",
      "24it [00:02,  8.72it/s]\n",
      "26it [00:02,  9.07it/s]\n",
      "28it [00:03,  8.58it/s]\n",
      "26it [00:03,  8.59it/s]\n",
      "26it [00:03,  8.08it/s]\n",
      "26it [00:02,  8.68it/s]\n",
      "28it [00:03,  9.24it/s]\n",
      "27it [00:03,  8.84it/s]\n",
      "27it [00:03,  8.88it/s]\n",
      "28it [00:03,  8.84it/s]\n",
      "27it [00:02,  9.34it/s]\n",
      "27it [00:03,  8.75it/s]\n",
      "27it [00:03,  8.53it/s]\n",
      "28it [00:03,  8.73it/s]\n",
      "26it [00:02,  8.84it/s]\n",
      "28it [00:03,  9.26it/s]\n",
      "27it [00:03,  8.63it/s]\n",
      "26it [00:03,  8.46it/s]\n",
      "29it [00:03,  8.72it/s]\n",
      "26it [00:03,  8.42it/s]\n",
      "26it [00:03,  8.01it/s]\n",
      "27it [00:03,  8.89it/s]\n",
      "28it [00:03,  8.43it/s]\n",
      "27it [00:03,  8.98it/s]\n",
      "26it [00:03,  8.66it/s]\n",
      "29it [00:03,  9.30it/s]\n",
      "30it [00:03,  8.46it/s]\n",
      "27it [00:03,  8.36it/s]\n",
      "27it [00:03,  8.75it/s]\n",
      "26it [00:03,  8.16it/s]\n",
      "26it [00:03,  8.14it/s]\n",
      "26it [00:02,  8.74it/s]\n",
      "27it [00:03,  8.16it/s]\n",
      "27it [00:03,  8.92it/s]\n",
      "27it [00:02,  9.23it/s]\n",
      "26it [00:02,  8.78it/s]\n",
      "26it [00:02,  9.00it/s]\n",
      "26it [00:02,  8.67it/s]\n",
      "30it [00:03,  8.70it/s]\n",
      "27it [00:03,  8.93it/s]\n",
      "27it [00:02,  9.35it/s]\n"
     ]
    }
   ],
   "source": [
    "# read cbct and ct\n",
    "iid = 0\n",
    "for i in range(0, len(paths), 2):\n",
    "    scans = DicomDataset(cbct_path=paths[i+1], ct_path=paths[i],\n",
    "                         geometry_aug=aug.get_validation_augmentation(), intensity_aug=None, \n",
    "                         identity=True, electron=ELECTRON, position=\"pelvic\")\n",
    "    patient_id = scans.patientID()\n",
    "    testloader = torch.utils.data.DataLoader(scans, batch_size=1, shuffle=False, num_workers=4)\n",
    "    try:\n",
    "        os.mkdir(os.path.join(\"eval-gan\", run_name, \"L2_pelvic_ct\", patient_id))\n",
    "    except FileExistsError:\n",
    "        pass\n",
    "    \n",
    "    test_epoch(iid, model, testloader, device, True, os.path.join(\"eval-gan\", run_name, \"L2_pelvic_ct\", patient_id)) \n",
    "    iid += len(scans)"
   ]
  },
  {
   "cell_type": "code",
   "execution_count": 121,
   "metadata": {},
   "outputs": [
    {
     "name": "stderr",
     "output_type": "stream",
     "text": [
      "3064it [07:07,  7.16it/s]\n"
     ]
    },
    {
     "data": {
      "text/plain": [
       "(0.9139570136294353,\n",
       " 27.99756097357827,\n",
       " 18.412712814291215,\n",
       " 0.015409120416278434,\n",
       " 0.9941015589328134,\n",
       " 0.8500378674571971,\n",
       " 0.2654587024538938,\n",
       " 0.48204960835509136,\n",
       " 0.5001631853785901)"
      ]
     },
     "execution_count": 121,
     "metadata": {},
     "output_type": "execute_result"
    }
   ],
   "source": [
    "testset = DicomsDataset(test_case_path, geometry_aug=aug.get_validation_augmentation(), intensity_aug=None, \n",
    "                        identity=True, electron=ELECTRON, position=\"pelvic\")\n",
    "testloader = torch.utils.data.DataLoader(testset, batch_size=1, shuffle=False, num_workers=4)\n",
    "# score_ssim_test, score_psnr_test, score_snr_test, score_mae_test, \\\n",
    "#             score_air_test, score_bone_test, score_cont_test, score_tf_acc_test, score_edge_acc_test\n",
    "eval_epoch(model, tf_discriminator, edge_discriminator, testloader, device)"
   ]
  },
  {
   "cell_type": "markdown",
   "metadata": {},
   "source": [
    "# Abdomen"
   ]
  },
  {
   "cell_type": "code",
   "execution_count": 122,
   "metadata": {},
   "outputs": [],
   "source": [
    "test_case_path = 'abdomen/test/*_*'\n",
    "paths = sorted(glob.glob(test_case_path))"
   ]
  },
  {
   "cell_type": "markdown",
   "metadata": {},
   "source": [
    "## Abdomen on CBCT"
   ]
  },
  {
   "cell_type": "code",
   "execution_count": 123,
   "metadata": {},
   "outputs": [],
   "source": [
    "try:\n",
    "    os.mkdir(os.path.join(\"eval-gan\", run_name))\n",
    "except FileExistsError:\n",
    "    pass"
   ]
  },
  {
   "cell_type": "code",
   "execution_count": 124,
   "metadata": {},
   "outputs": [],
   "source": [
    "try:\n",
    "    os.mkdir(os.path.join(\"eval-gan\", run_name, \"abdomen_test_cbct\"))\n",
    "except FileExistsError:\n",
    "    pass"
   ]
  },
  {
   "cell_type": "code",
   "execution_count": 125,
   "metadata": {},
   "outputs": [
    {
     "name": "stderr",
     "output_type": "stream",
     "text": [
      "28it [00:04,  6.26it/s]\n",
      "78it [00:11,  7.03it/s]\n",
      "50it [00:07,  7.00it/s]\n",
      "29it [00:04,  6.88it/s]\n",
      "50it [00:07,  6.89it/s]\n",
      "71it [00:10,  7.02it/s]\n",
      "39it [00:05,  6.98it/s]\n"
     ]
    }
   ],
   "source": [
    "# read cbct and ct\n",
    "iid = 0\n",
    "for i in range(0, len(paths), 2):\n",
    "    scans = DicomDataset(cbct_path=paths[i+1], ct_path=paths[i], \n",
    "                         geometry_aug=aug.get_validation_augmentation(), intensity_aug=None, \n",
    "                         identity=False, electron=ELECTRON, position=\"abdomen\")\n",
    "    patient_id = scans.patientID()\n",
    "    testloader = torch.utils.data.DataLoader(scans, batch_size=1, shuffle=False, num_workers=4)\n",
    "    try:\n",
    "        os.mkdir(os.path.join(\"eval-gan\", run_name, \"abdomen_test_cbct\", patient_id))\n",
    "    except FileExistsError:\n",
    "        pass\n",
    "    \n",
    "    test_epoch(iid, model, testloader, device, True, os.path.join(\"eval-gan\", run_name, \"abdomen_test_cbct\", patient_id)) \n",
    "    iid += len(scans)"
   ]
  },
  {
   "cell_type": "code",
   "execution_count": 126,
   "metadata": {},
   "outputs": [
    {
     "name": "stderr",
     "output_type": "stream",
     "text": [
      "345it [00:39,  8.64it/s]\n"
     ]
    },
    {
     "data": {
      "text/plain": [
       "(0.7448951249537261,\n",
       " 20.37632471996805,\n",
       " 10.906965739485146,\n",
       " 0.04277120100847189,\n",
       " 0.9872282301587888,\n",
       " 0.7487015039885893,\n",
       " 0.23349115401506423,\n",
       " 0.37971014492753624,\n",
       " 0.5028985507246376)"
      ]
     },
     "execution_count": 126,
     "metadata": {},
     "output_type": "execute_result"
    }
   ],
   "source": [
    "testset = DicomsDataset(test_case_path, geometry_aug=aug.get_validation_augmentation(), intensity_aug=None, \n",
    "                        identity=False, electron=ELECTRON, position=\"abdomen\")\n",
    "testloader = torch.utils.data.DataLoader(testset, batch_size=1, shuffle=False, num_workers=4)\n",
    "# score_ssim_test, score_psnr_test, score_snr_test, score_mae_test, \\\n",
    "#             score_air_test, score_bone_test, score_cont_test, score_tf_acc_test, score_edge_acc_test\n",
    "eval_epoch(model, tf_discriminator, edge_discriminator, testloader, device)"
   ]
  },
  {
   "cell_type": "markdown",
   "metadata": {},
   "source": [
    "## Abdomen on CT"
   ]
  },
  {
   "cell_type": "code",
   "execution_count": 127,
   "metadata": {
    "scrolled": true
   },
   "outputs": [],
   "source": [
    "try:\n",
    "    os.mkdir(os.path.join(\"eval-gan\", run_name))\n",
    "except FileExistsError:\n",
    "    pass"
   ]
  },
  {
   "cell_type": "code",
   "execution_count": 128,
   "metadata": {},
   "outputs": [],
   "source": [
    "try:\n",
    "    os.mkdir(os.path.join(\"eval-gan\", run_name, \"abdomen_test_ct\"))\n",
    "except FileExistsError:\n",
    "    pass"
   ]
  },
  {
   "cell_type": "code",
   "execution_count": 129,
   "metadata": {
    "scrolled": true
   },
   "outputs": [
    {
     "name": "stderr",
     "output_type": "stream",
     "text": [
      "28it [00:02, 11.16it/s]\n",
      "78it [00:06, 12.11it/s]\n",
      "50it [00:03, 12.53it/s]\n",
      "29it [00:02, 11.79it/s]\n",
      "50it [00:04, 11.58it/s]\n",
      "71it [00:05, 12.10it/s]\n",
      "39it [00:03, 11.68it/s]\n"
     ]
    }
   ],
   "source": [
    "# read cbct and ct\n",
    "iid = 0\n",
    "for i in range(0, len(paths), 2):\n",
    "    scans = DicomDataset(cbct_path=paths[i+1], ct_path=paths[i], \n",
    "                         geometry_aug=aug.get_validation_augmentation(), intensity_aug=None, \n",
    "                         identity=True, electron=ELECTRON, position=\"abdomen\")\n",
    "    patient_id = scans.patientID()\n",
    "    testloader = torch.utils.data.DataLoader(scans, batch_size=1, shuffle=False, num_workers=4)\n",
    "    try:\n",
    "        os.mkdir(os.path.join(\"eval-gan\", run_name, \"abdomen_test_ct\", patient_id))\n",
    "    except FileExistsError:\n",
    "        pass\n",
    "    \n",
    "    test_epoch(iid, model, testloader, device, True, os.path.join(\"eval-gan\", run_name, \"abdomen_test_ct\", patient_id)) \n",
    "    iid += len(scans)"
   ]
  },
  {
   "cell_type": "code",
   "execution_count": 130,
   "metadata": {},
   "outputs": [
    {
     "name": "stderr",
     "output_type": "stream",
     "text": [
      "345it [00:34,  9.94it/s]\n"
     ]
    },
    {
     "data": {
      "text/plain": [
       "(0.8758821665376857,\n",
       " 26.14652408655139,\n",
       " 16.677165205582327,\n",
       " 0.020768466791596964,\n",
       " 0.9869484478903849,\n",
       " 0.7546802881773795,\n",
       " 0.2152111867469722,\n",
       " 0.3289855072463768,\n",
       " 0.39420289855072466)"
      ]
     },
     "execution_count": 130,
     "metadata": {},
     "output_type": "execute_result"
    }
   ],
   "source": [
    "testset = DicomsDataset(test_case_path, geometry_aug=aug.get_validation_augmentation(), intensity_aug=None, \n",
    "                        identity=True, electron=ELECTRON, position=\"abdomen\")\n",
    "testloader = torch.utils.data.DataLoader(testset, batch_size=1, shuffle=False, num_workers=4)\n",
    "# score_ssim_test, score_psnr_test, score_snr_test, score_mae_test, \\\n",
    "#             score_air_test, score_bone_test, score_cont_test, score_tf_acc_test, score_edge_acc_test\n",
    "eval_epoch(model, tf_discriminator, edge_discriminator, testloader, device)"
   ]
  },
  {
   "cell_type": "markdown",
   "metadata": {},
   "source": [
    "# Chest"
   ]
  },
  {
   "cell_type": "code",
   "execution_count": 131,
   "metadata": {},
   "outputs": [],
   "source": [
    "test_case_path = 'chest/test/*_*'\n",
    "paths = sorted(glob.glob(test_case_path))"
   ]
  },
  {
   "cell_type": "markdown",
   "metadata": {},
   "source": [
    "## Chest on CBCT"
   ]
  },
  {
   "cell_type": "code",
   "execution_count": 132,
   "metadata": {},
   "outputs": [],
   "source": [
    "try:\n",
    "    os.mkdir(os.path.join(\"eval-gan\", run_name))\n",
    "except FileExistsError:\n",
    "    pass"
   ]
  },
  {
   "cell_type": "code",
   "execution_count": 133,
   "metadata": {},
   "outputs": [],
   "source": [
    "try:\n",
    "    os.mkdir(os.path.join(\"eval-gan\", run_name, \"chest_test_cbct\"))\n",
    "except FileExistsError:\n",
    "    pass"
   ]
  },
  {
   "cell_type": "code",
   "execution_count": 134,
   "metadata": {},
   "outputs": [
    {
     "name": "stderr",
     "output_type": "stream",
     "text": [
      "49it [00:04, 12.19it/s]\n",
      "39it [00:03, 11.61it/s]\n",
      "40it [00:03, 12.18it/s]\n",
      "29it [00:02, 11.12it/s]\n",
      "35it [00:03, 10.98it/s]\n",
      "37it [00:03, 11.26it/s]\n",
      "34it [00:02, 11.57it/s]\n"
     ]
    }
   ],
   "source": [
    "# read cbct and ct\n",
    "iid = 0\n",
    "for i in range(0, len(paths), 2):\n",
    "    scans = DicomDataset(cbct_path=paths[i+1], ct_path=paths[i], \n",
    "                         geometry_aug=aug.get_validation_augmentation(), intensity_aug=None, \n",
    "                         identity=False, electron=ELECTRON, position=\"chest\")\n",
    "    patient_id = scans.patientID()\n",
    "    testloader = torch.utils.data.DataLoader(scans, batch_size=1, shuffle=False, num_workers=4)\n",
    "    try:\n",
    "        os.mkdir(os.path.join(\"eval-gan\", run_name, \"chest_test_cbct\", patient_id))\n",
    "    except FileExistsError:\n",
    "        pass\n",
    "    \n",
    "    test_epoch(iid, model, testloader, device, True, os.path.join(\"eval-gan\", run_name, \"chest_test_cbct\", patient_id)) \n",
    "    iid += len(scans)"
   ]
  },
  {
   "cell_type": "code",
   "execution_count": 135,
   "metadata": {},
   "outputs": [
    {
     "name": "stderr",
     "output_type": "stream",
     "text": [
      "263it [00:22, 11.55it/s]\n"
     ]
    },
    {
     "data": {
      "text/plain": [
       "(0.7701192237578417,\n",
       " 20.431840251153865,\n",
       " 9.983969461781896,\n",
       " 0.037773722995200085,\n",
       " 0.9684751720985973,\n",
       " 0.7893210333138396,\n",
       " 0.408789884853475,\n",
       " 0.4505703422053232,\n",
       " 0.39543726235741444)"
      ]
     },
     "execution_count": 135,
     "metadata": {},
     "output_type": "execute_result"
    }
   ],
   "source": [
    "testset = DicomsDataset(test_case_path, geometry_aug=aug.get_validation_augmentation(), intensity_aug=None, \n",
    "                        identity=False, electron=ELECTRON, position=\"chest\")\n",
    "testloader = torch.utils.data.DataLoader(testset, batch_size=1, shuffle=False, num_workers=4)\n",
    "# score_ssim_test, score_psnr_test, score_snr_test, score_mae_test, \\\n",
    "#             score_air_test, score_bone_test, score_cont_test, score_tf_acc_test, score_edge_acc_test\n",
    "eval_epoch(model, tf_discriminator, edge_discriminator, testloader, device)"
   ]
  },
  {
   "cell_type": "markdown",
   "metadata": {},
   "source": [
    "## Chest on CT"
   ]
  },
  {
   "cell_type": "code",
   "execution_count": 136,
   "metadata": {
    "scrolled": true
   },
   "outputs": [],
   "source": [
    "try:\n",
    "    os.mkdir(os.path.join(\"eval-gan\", run_name))\n",
    "except FileExistsError:\n",
    "    pass"
   ]
  },
  {
   "cell_type": "code",
   "execution_count": 137,
   "metadata": {},
   "outputs": [],
   "source": [
    "try:\n",
    "    os.mkdir(os.path.join(\"eval-gan\", run_name, \"chest_test_ct\"))\n",
    "except FileExistsError:\n",
    "    pass"
   ]
  },
  {
   "cell_type": "code",
   "execution_count": 138,
   "metadata": {
    "scrolled": true
   },
   "outputs": [
    {
     "name": "stderr",
     "output_type": "stream",
     "text": [
      "49it [00:03, 12.36it/s]\n",
      "39it [00:03, 11.83it/s]\n",
      "40it [00:03, 12.26it/s]\n",
      "29it [00:02, 10.87it/s]\n",
      "35it [00:03, 11.42it/s]\n",
      "37it [00:03, 11.82it/s]\n",
      "34it [00:03, 11.26it/s]\n"
     ]
    }
   ],
   "source": [
    "# read cbct and ct\n",
    "iid = 0\n",
    "for i in range(0, len(paths), 2):\n",
    "    scans = DicomDataset(cbct_path=paths[i+1], ct_path=paths[i], \n",
    "                         geometry_aug=aug.get_validation_augmentation(), intensity_aug=None, \n",
    "                         identity=True, electron=ELECTRON, position=\"chest\")\n",
    "    patient_id = scans.patientID()\n",
    "    testloader = torch.utils.data.DataLoader(scans, batch_size=1, shuffle=False, num_workers=4)\n",
    "    try:\n",
    "        os.mkdir(os.path.join(\"eval-gan\", run_name, \"chest_test_ct\", patient_id))\n",
    "    except FileExistsError:\n",
    "        pass\n",
    "    \n",
    "    test_epoch(iid, model, testloader, device, True, os.path.join(\"eval-gan\", run_name, \"chest_test_ct\", patient_id)) \n",
    "    iid += len(scans)"
   ]
  },
  {
   "cell_type": "code",
   "execution_count": 139,
   "metadata": {},
   "outputs": [
    {
     "name": "stderr",
     "output_type": "stream",
     "text": [
      "263it [00:22, 11.55it/s]\n"
     ]
    },
    {
     "data": {
      "text/plain": [
       "(0.8955099317510772,\n",
       " 26.784034185083193,\n",
       " 16.336163473673192,\n",
       " 0.017441704373509257,\n",
       " 0.9664086738916721,\n",
       " 0.7649581155429855,\n",
       " 0.3174560180833262,\n",
       " 0.3821292775665399,\n",
       " 0.3365019011406844)"
      ]
     },
     "execution_count": 139,
     "metadata": {},
     "output_type": "execute_result"
    }
   ],
   "source": [
    "testset = DicomsDataset(test_case_path, geometry_aug=aug.get_validation_augmentation(), intensity_aug=None, \n",
    "                        identity=True, electron=ELECTRON, position=\"chest\")\n",
    "testloader = torch.utils.data.DataLoader(testset, batch_size=1, shuffle=False, num_workers=4)\n",
    "# score_ssim_test, score_psnr_test, score_snr_test, score_mae_test, \\\n",
    "#             score_air_test, score_bone_test, score_cont_test, score_tf_acc_test, score_edge_acc_test\n",
    "eval_epoch(model, tf_discriminator, edge_discriminator, testloader, device)"
   ]
  },
  {
   "cell_type": "markdown",
   "metadata": {},
   "source": [
    "# Headneck"
   ]
  },
  {
   "cell_type": "code",
   "execution_count": 140,
   "metadata": {},
   "outputs": [],
   "source": [
    "test_case_path = 'headneck/test/*_*'\n",
    "paths = sorted(glob.glob(test_case_path))"
   ]
  },
  {
   "cell_type": "markdown",
   "metadata": {},
   "source": [
    "## Headneck on CBCT"
   ]
  },
  {
   "cell_type": "code",
   "execution_count": 141,
   "metadata": {},
   "outputs": [],
   "source": [
    "try:\n",
    "    os.mkdir(os.path.join(\"eval-gan\", run_name))\n",
    "except FileExistsError:\n",
    "    pass"
   ]
  },
  {
   "cell_type": "code",
   "execution_count": 142,
   "metadata": {},
   "outputs": [],
   "source": [
    "try:\n",
    "    os.mkdir(os.path.join(\"eval-gan\", run_name, \"hn_test_cbct\"))\n",
    "except FileExistsError:\n",
    "    pass"
   ]
  },
  {
   "cell_type": "code",
   "execution_count": 143,
   "metadata": {},
   "outputs": [
    {
     "name": "stderr",
     "output_type": "stream",
     "text": [
      "58it [00:04, 13.10it/s]\n",
      "55it [00:04, 12.63it/s]\n",
      "55it [00:04, 13.24it/s]\n",
      "56it [00:04, 12.82it/s]\n",
      "56it [00:04, 12.33it/s]\n",
      "55it [00:04, 12.50it/s]\n",
      "56it [00:04, 12.61it/s]\n"
     ]
    }
   ],
   "source": [
    "# read cbct and ct\n",
    "iid = 0\n",
    "for i in range(0, len(paths), 2):\n",
    "    scans = DicomDataset(cbct_path=paths[i+1], ct_path=paths[i], \n",
    "                         geometry_aug=aug.get_validation_augmentation(), intensity_aug=None, \n",
    "                         identity=False, electron=ELECTRON, position=\"headneck\")\n",
    "    patient_id = scans.patientID()\n",
    "    testloader = torch.utils.data.DataLoader(scans, batch_size=1, shuffle=False, num_workers=4)\n",
    "    try:\n",
    "        os.mkdir(os.path.join(\"eval-gan\", run_name, \"hn_test_cbct\", patient_id))\n",
    "    except FileExistsError:\n",
    "        pass\n",
    "    \n",
    "    test_epoch(iid, model, testloader, device, True, os.path.join(\"eval-gan\", run_name, \"hn_test_cbct\", patient_id)) \n",
    "    iid += len(scans)"
   ]
  },
  {
   "cell_type": "code",
   "execution_count": 144,
   "metadata": {},
   "outputs": [
    {
     "name": "stderr",
     "output_type": "stream",
     "text": [
      "391it [00:32, 11.86it/s]\n"
     ]
    },
    {
     "data": {
      "text/plain": [
       "(0.8065815496322749,\n",
       " 18.164135810969125,\n",
       " 4.2115831047977155,\n",
       " 0.050972690762918625,\n",
       " 0.6376510089915522,\n",
       " 0.7559252206939997,\n",
       " 0.027633691350760478,\n",
       " 0.6176470588235294,\n",
       " 0.5358056265984654)"
      ]
     },
     "execution_count": 144,
     "metadata": {},
     "output_type": "execute_result"
    }
   ],
   "source": [
    "testset = DicomsDataset(test_case_path, geometry_aug=aug.get_validation_augmentation(), intensity_aug=None, \n",
    "                        identity=False, electron=ELECTRON, position=\"headneck\")\n",
    "testloader = torch.utils.data.DataLoader(testset, batch_size=1, shuffle=False, num_workers=4)\n",
    "# score_ssim_test, score_psnr_test, score_snr_test, score_mae_test, \\\n",
    "#             score_air_test, score_bone_test, score_cont_test, score_tf_acc_test, score_edge_acc_test\n",
    "eval_epoch(model, tf_discriminator, edge_discriminator, testloader, device)"
   ]
  },
  {
   "cell_type": "markdown",
   "metadata": {},
   "source": [
    "## Headneck on CT"
   ]
  },
  {
   "cell_type": "code",
   "execution_count": 145,
   "metadata": {
    "scrolled": true
   },
   "outputs": [],
   "source": [
    "try:\n",
    "    os.mkdir(os.path.join(\"eval-gan\", run_name))\n",
    "except FileExistsError:\n",
    "    pass"
   ]
  },
  {
   "cell_type": "code",
   "execution_count": 146,
   "metadata": {},
   "outputs": [],
   "source": [
    "try:\n",
    "    os.mkdir(os.path.join(\"eval-gan\", run_name, \"hn_test_ct\"))\n",
    "except FileExistsError:\n",
    "    pass"
   ]
  },
  {
   "cell_type": "code",
   "execution_count": 147,
   "metadata": {
    "scrolled": true
   },
   "outputs": [
    {
     "name": "stderr",
     "output_type": "stream",
     "text": [
      "58it [00:04, 12.88it/s]\n",
      "55it [00:04, 12.72it/s]\n",
      "55it [00:05, 10.03it/s]\n",
      "56it [00:05, 10.17it/s]\n",
      "56it [00:05,  9.99it/s]\n",
      "55it [00:05,  9.57it/s]\n",
      "56it [00:05, 10.02it/s]\n"
     ]
    }
   ],
   "source": [
    "# read cbct and ct\n",
    "iid = 0\n",
    "for i in range(0, len(paths), 2):\n",
    "    scans = DicomDataset(cbct_path=paths[i+1], ct_path=paths[i], \n",
    "                         geometry_aug=aug.get_validation_augmentation(), intensity_aug=None, \n",
    "                         identity=True, electron=ELECTRON, position=\"headneck\")\n",
    "    patient_id = scans.patientID()\n",
    "    testloader = torch.utils.data.DataLoader(scans, batch_size=1, shuffle=False, num_workers=4)\n",
    "    try:\n",
    "        os.mkdir(os.path.join(\"eval-gan\", run_name, \"hn_test_ct\", patient_id))\n",
    "    except FileExistsError:\n",
    "        pass\n",
    "    \n",
    "    test_epoch(iid, model, testloader, device, True, os.path.join(\"eval-gan\", run_name, \"hn_test_ct\", patient_id)) \n",
    "    iid += len(scans)"
   ]
  },
  {
   "cell_type": "code",
   "execution_count": 148,
   "metadata": {},
   "outputs": [
    {
     "name": "stderr",
     "output_type": "stream",
     "text": [
      "391it [00:43,  8.99it/s]\n"
     ]
    },
    {
     "data": {
      "text/plain": [
       "(0.8593992032968175,\n",
       " 21.634681748002386,\n",
       " 7.682129077160793,\n",
       " 0.03815800849052951,\n",
       " 0.6594429788368896,\n",
       " 0.7674590632348707,\n",
       " 0.06527350884389353,\n",
       " 0.5856777493606138,\n",
       " 0.5498721227621484)"
      ]
     },
     "execution_count": 148,
     "metadata": {},
     "output_type": "execute_result"
    }
   ],
   "source": [
    "testset = DicomsDataset(test_case_path, geometry_aug=aug.get_validation_augmentation(), intensity_aug=None, \n",
    "                        identity=True, electron=ELECTRON, position=\"headneck\")\n",
    "testloader = torch.utils.data.DataLoader(testset, batch_size=1, shuffle=False, num_workers=4)\n",
    "# score_ssim_test, score_psnr_test, score_snr_test, score_mae_test, \\\n",
    "#             score_air_test, score_bone_test, score_cont_test, score_tf_acc_test, score_edge_acc_test\n",
    "eval_epoch(model, tf_discriminator, edge_discriminator, testloader, device)"
   ]
  },
  {
   "cell_type": "code",
   "execution_count": null,
   "metadata": {},
   "outputs": [],
   "source": []
  },
  {
   "cell_type": "code",
   "execution_count": null,
   "metadata": {},
   "outputs": [],
   "source": []
  },
  {
   "cell_type": "code",
   "execution_count": null,
   "metadata": {},
   "outputs": [],
   "source": []
  },
  {
   "cell_type": "code",
   "execution_count": null,
   "metadata": {},
   "outputs": [],
   "source": []
  }
 ],
 "metadata": {
  "kernelspec": {
   "display_name": "Python 3",
   "language": "python",
   "name": "python3"
  },
  "language_info": {
   "codemirror_mode": {
    "name": "ipython",
    "version": 3
   },
   "file_extension": ".py",
   "mimetype": "text/x-python",
   "name": "python",
   "nbconvert_exporter": "python",
   "pygments_lexer": "ipython3",
   "version": "3.8.5"
  }
 },
 "nbformat": 4,
 "nbformat_minor": 5
}
