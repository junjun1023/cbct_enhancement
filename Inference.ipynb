{
 "cells": [
  {
   "cell_type": "code",
   "execution_count": 1,
   "metadata": {},
   "outputs": [],
   "source": [
    "import os\n",
    "\n",
    "import torch\n",
    "import torch.nn as nn\n",
    "import torch.nn.functional as F\n",
    "import torch.optim as optim\n",
    "from torch.utils.data import DataLoader, Subset, ConcatDataset\n",
    "\n",
    "import cv2\n",
    "import numpy as np\n",
    "import pandas as pd\n",
    "from tqdm import tqdm\n",
    "import random\n",
    "import json"
   ]
  },
  {
   "cell_type": "code",
   "execution_count": 2,
   "metadata": {},
   "outputs": [],
   "source": [
    "import segmentation_models_pytorch as smp\n",
    "from segmentation_models_pytorch.losses import DiceLoss\n",
    "from segmentation_models_pytorch.utils.metrics import IoU, Fscore, Accuracy"
   ]
  },
  {
   "cell_type": "code",
   "execution_count": 3,
   "metadata": {},
   "outputs": [],
   "source": [
    "import matplotlib.pyplot as plt\n",
    "\n",
    "# helper function for data visualization\n",
    "def visualize(**images):\n",
    "    \"\"\"PLot images in one row.\"\"\"\n",
    "    n = len(images)\n",
    "    plt.figure(figsize=(16, 5))\n",
    "    for i, (name, image) in enumerate(images.items()):\n",
    "        plt.subplot(1, n, i + 1)\n",
    "        plt.xticks([])\n",
    "        plt.yticks([])\n",
    "        plt.title(' '.join(name.split('_')).title())\n",
    "        plt.imshow(image, 'gray')\n",
    "    plt.show()"
   ]
  },
  {
   "cell_type": "code",
   "execution_count": 4,
   "metadata": {},
   "outputs": [
    {
     "name": "stdout",
     "output_type": "stream",
     "text": [
      "[0.5488135  0.71518937 0.60276338 0.54488318 0.4236548 ] tensor([ 1.5410, -0.2934, -2.1788,  0.5684, -1.0845])\n"
     ]
    }
   ],
   "source": [
    "import random\n",
    "\n",
    "SEED = 0\n",
    "random.seed(SEED)\n",
    "np.random.seed(SEED)\n",
    "torch.manual_seed(SEED)\n",
    "\n",
    "print(np.random.rand(5), torch.randn(5))"
   ]
  },
  {
   "cell_type": "markdown",
   "metadata": {},
   "source": [
    "# Settings"
   ]
  },
  {
   "cell_type": "code",
   "execution_count": 5,
   "metadata": {},
   "outputs": [],
   "source": [
    "root = os.getcwd()\n",
    "device = torch.device(\"cuda:0\" if torch.cuda.is_available() else \"cpu\")\n",
    "\n",
    "BATCH = 4\n",
    "\n",
    "GEN_IN_CHANNELS = 2\n",
    "GEN_N_CLASSES = 1\n",
    "\n",
    "DIS_IN_CHANNELS = 1\n",
    "DIS_N_CLASSES = 2\n",
    "\n",
    "E_IN_CHANNELS = 1\n",
    "E_N_CLASSES = 2\n",
    "\n",
    "EPOCH = 200"
   ]
  },
  {
   "cell_type": "markdown",
   "metadata": {},
   "source": [
    "### Model Settings"
   ]
  },
  {
   "cell_type": "markdown",
   "metadata": {},
   "source": [
    "#### encoder"
   ]
  },
  {
   "cell_type": "code",
   "execution_count": 6,
   "metadata": {},
   "outputs": [],
   "source": [
    "ENCODER = \"resnet152\"\n",
    "ENCODER_WEIGHT = None"
   ]
  },
  {
   "cell_type": "markdown",
   "metadata": {},
   "source": [
    "#### decoder"
   ]
  },
  {
   "cell_type": "code",
   "execution_count": 7,
   "metadata": {},
   "outputs": [],
   "source": [
    "DECODER_ATT = \"scse\""
   ]
  },
  {
   "cell_type": "markdown",
   "metadata": {},
   "source": [
    "#### head"
   ]
  },
  {
   "cell_type": "code",
   "execution_count": 8,
   "metadata": {},
   "outputs": [],
   "source": [
    "GEN_ACT = \"sigmoid\"\n",
    "DIS_ACT = \"softmax\"\n",
    "E_ACT = \"softmax\""
   ]
  },
  {
   "cell_type": "markdown",
   "metadata": {},
   "source": [
    "# Epochs"
   ]
  },
  {
   "cell_type": "code",
   "execution_count": 9,
   "metadata": {},
   "outputs": [],
   "source": [
    "from codes.losses import SSIMLoss\n",
    "from codes.losses import MAELoss\n",
    "from pytorch_msssim import ssim\n",
    "from codes.metrics import PSNR, SNR, ContourEval\n",
    "from codes.activation import Activation\n",
    "from codes.utils import hu_clip_tensor\n",
    "from codes.losses import PerceptualLoss\n",
    "from kornia.filters.sobel import Sobel"
   ]
  },
  {
   "cell_type": "code",
   "execution_count": 10,
   "metadata": {},
   "outputs": [],
   "source": [
    "def set_requires_grad(nets, requires_grad=False):\n",
    "    \"\"\"Set requies_grad=Fasle for all the networks to avoid unnecessary computations\n",
    "    Parameters:\n",
    "    nets (network list)   -- a list of networks\n",
    "    requires_grad (bool)  -- whether the networks require gradients or not\n",
    "    \"\"\"\n",
    "    if not isinstance(nets, list):\n",
    "        nets = [nets]\n",
    "        for net in nets:\n",
    "            if net is not None:\n",
    "                for param in net.parameters():\n",
    "                    param.requires_grad = requires_grad"
   ]
  },
  {
   "cell_type": "code",
   "execution_count": 11,
   "metadata": {},
   "outputs": [],
   "source": [
    "def replace_relu_to_leakyReLU(model):\n",
    "    for child_name, child in model.named_children():\n",
    "        if isinstance(child, nn.ReLU):\n",
    "            setattr(model, child_name, nn.LeakyReLU())\n",
    "        else:\n",
    "            replace_relu_to_leakyReLU(child)"
   ]
  },
  {
   "cell_type": "code",
   "execution_count": 12,
   "metadata": {},
   "outputs": [],
   "source": [
    "def replace_bn_to_instanceNorm(model):\n",
    "    for child_name, child in model.named_children():\n",
    "        if isinstance(child, nn.BatchNorm2d):\n",
    "            bn = getattr(model, child_name)\n",
    "            setattr(model, child_name, nn.InstanceNorm2d(bn.num_features))\n",
    "        else:\n",
    "            replace_bn_to_instanceNorm(child)"
   ]
  },
  {
   "cell_type": "code",
   "execution_count": 13,
   "metadata": {},
   "outputs": [],
   "source": [
    "perceptual_ext = PerceptualLoss()"
   ]
  },
  {
   "cell_type": "code",
   "execution_count": 14,
   "metadata": {},
   "outputs": [],
   "source": [
    "sobel_filter = Sobel().to(device)"
   ]
  },
  {
   "cell_type": "code",
   "execution_count": 15,
   "metadata": {},
   "outputs": [],
   "source": [
    "@torch.no_grad()\n",
    "def eval_epoch(generator, tf_discriminator, edge_discriminator, dataloader, device):\n",
    "  \n",
    "    # change mode to train and move to current device\n",
    "    generator = generator.eval().to(device)\n",
    "    tf_discriminator = tf_discriminator.eval().to(device)\n",
    "    edge_discriminator = edge_discriminator.eval().to(device)\n",
    "    \n",
    "    ssim_ = []\n",
    "    psnr_ = []\n",
    "    mae_ = []\n",
    "    snr_ = []\n",
    "    \n",
    "    air_ = []\n",
    "    bone_ = []\n",
    "    cont_ = []\n",
    " \n",
    "    tf_acc = []\n",
    "    edge_acc = []\n",
    "    \n",
    "    for index, data in tqdm(enumerate(dataloader)):\n",
    "\n",
    "        x, y, air_x, bone_x, *_ = data\n",
    "        \n",
    "        B, T, C, H, W = x.size()\n",
    "        x = x.to(device).view(-1, C, H, W)\n",
    "        y = y.to(device).view(-1, 1, H, W)\n",
    "        air_x = air_x.to(device).view(-1, 1, H, W)\n",
    "        bone_x = bone_x.to(device).view(-1, 1, H, W)\n",
    "\n",
    "        y_pr = generator(x.float())\n",
    "        y_pr = Activation(name=GEN_ACT)(y_pr) # zipped value to [0, 1]\n",
    "    \n",
    "       ############################\n",
    "        # (1) Eval True/Fake D network: maximize log(D(x)) + log(1 - D(G(z)))\n",
    "        ###########################        \n",
    "        y_cls = tf_discriminator(y.float())\n",
    "        for _y_cls in y_cls:\n",
    "            _y_cls = _y_cls.view(B, T, 2)[:, 1, :]\n",
    "            _B, _C = _y_cls.size()\n",
    "            total = _B\n",
    "            _y_cls = Activation(name=DIS_ACT)(_y_cls)\n",
    "            _, _y_cls = torch.max(_y_cls.data, 1)\n",
    "            correct = (_y_cls == torch.zeros(_B, dtype=torch.long, device=device)).sum().item()\n",
    "            tf_acc += [correct / total]        \n",
    "        \n",
    "        y_pr_cls = tf_discriminator(y_pr)\n",
    "        for _y_pr_cls in y_pr_cls:\n",
    "            _y_pr_cls = _y_pr_cls.view(B, T, 2)[:, 1, :]\n",
    "            _B, _C = _y_pr_cls.size()\n",
    "            total = _B\n",
    "            _y_pr_cls = Activation(name=DIS_ACT)(_y_pr_cls)\n",
    "            _, _y_pr_cls = torch.max(_y_pr_cls.data, 1)\n",
    "            correct = (_y_pr_cls == torch.ones(_B, dtype=torch.long, device=device)).sum().item()\n",
    "            tf_acc += [correct / total]\n",
    "\n",
    " \n",
    "       ############################\n",
    "        # (1.1) Eval Edge D network: maximize log(D(x)) + log(1 - D(G(z)))\n",
    "        ###########################  \n",
    "\n",
    "        edge_y_pr = sobel_filter(y_pr)\n",
    "        edge_y = sobel_filter(y)\n",
    "        \n",
    "        edge_y_cls = edge_discriminator(edge_y.float())\n",
    "        for _edge_y_cls in edge_y_cls:\n",
    "            _edge_y_cls = _edge_y_cls.view(B, T, 2)[:, 1, :]\n",
    "            _B, _C = _edge_y_cls.size()\n",
    "            total = _B\n",
    "            _edge_y_cls = Activation(name=DIS_ACT)(_edge_y_cls)\n",
    "            _, _edge_y_cls = torch.max(_edge_y_cls.data, 1)\n",
    "            correct = (_edge_y_cls == torch.zeros((_B), dtype=torch.long, device=device)).sum().item()\n",
    "            edge_acc += [correct / total]          \n",
    "        \n",
    "        edge_pr_cls = edge_discriminator(edge_y_pr)\n",
    "        for _edge_pr_cls in edge_pr_cls:\n",
    "            _edge_pr_cls = _edge_pr_cls.view(B, T, 2)[:, 1, :]\n",
    "            _B, _C = _edge_pr_cls.size()\n",
    "            total = _B\n",
    "            _edge_pr_cls = Activation(name=DIS_ACT)(_edge_pr_cls)\n",
    "            _, _edge_pr_cls = torch.max(_edge_pr_cls.data, 1)\n",
    "            correct = (_edge_pr_cls == torch.ones((_B), dtype=torch.long, device=device)).sum().item()\n",
    "            edge_acc += [correct / total]        \n",
    "\n",
    "        ############################\n",
    "        # (2) Eval G network: maximize log(D(G(z)))\n",
    "        ###########################\n",
    "        x = x.view(B, T, C, H, W)[:, 1, 0].unsqueeze(1)\n",
    "        y = y.view(B, T, 1, H, W)[:, 1, :]\n",
    "        y_pr = y_pr.view(B, T, 1, H, W)[:, 1, :]\n",
    "        air_x = air_x.view(B, T, 1, H, W)[:, 1, :]\n",
    "        bone_x = bone_x.view(B, T, 1, H, W)[:, 1, :]\n",
    "        \n",
    "        # main\n",
    "        _ssim = ssim(y.float(), y_pr, data_range=1.0, size_average=True) # return (N,)\n",
    "        _psnr = PSNR()(y_pr, y.float(), 1.0)\n",
    "        _snr = SNR()(y_pr, y.float())\n",
    "        _mae = MAELoss()(y_pr.float(), y.float())\n",
    "\n",
    "        ssim_ += [_ssim.item()]\n",
    "        psnr_ += [_psnr.item()]\n",
    "        mae_ += [_mae.item()]\n",
    "        snr_ += [_snr.item()]\n",
    "        \n",
    "        # auxilary\n",
    "        _min = VIEW_BOUND[0]\n",
    "        _max = VIEW_BOUND[1]\n",
    "        air_window = AIR_BOUND\n",
    "        upper = ((air_window[1]) - (_min))/(_max-(_min))\n",
    "        lower = ((air_window[0]) - (_min))/(_max-(_min))\n",
    "        air_pr = hu_clip_tensor(y_pr.double(), (lower, upper), None, True)\n",
    "        dice = Fscore()(air_pr, air_x)\n",
    "        air_ += [dice.item()]\n",
    "        \n",
    "        bone_window = BONE_BOUND\n",
    "        upper = ((bone_window[1]) - (_min))/(_max-(_min))\n",
    "        lower = ((bone_window[0]) - (_min))/(_max-(_min))\n",
    "        bone_pr = hu_clip_tensor(y_pr.double(), (lower, upper), None, True)\n",
    "        dice = Fscore()(bone_pr, bone_x)\n",
    "        bone_ += [dice.item()]\n",
    "        \n",
    "        for b in range(x.size()[0]):\n",
    "            cont = ContourEval()(y_pr[b, :, :, :], x[b, :, :, :])\n",
    "            cont_ += [cont.item()]\n",
    "\n",
    "    return  sum(ssim_)/len(ssim_), sum(psnr_)/len(psnr_), sum(snr_)/len(snr_), sum(mae_)/len(mae_), \\\n",
    "                    sum(air_)/len(air_), sum(bone_)/len(bone_), sum(cont_)/len(cont_), sum(tf_acc)/len(tf_acc), sum(edge_acc)/len(edge_acc)"
   ]
  },
  {
   "cell_type": "code",
   "execution_count": 16,
   "metadata": {},
   "outputs": [],
   "source": [
    "@torch.no_grad()\n",
    "def test_epoch(iid, model, dataloader, device, save=False, path=None):\n",
    "  \n",
    "    # change mode to train and move to current device\n",
    "    model = model.eval().to(device)\n",
    "    \n",
    "    iid = iid\n",
    "    for index, data in tqdm(enumerate(dataloader)):\n",
    "\n",
    "        x, y, air_x, bone_x, *_ = data\n",
    "        \n",
    "        B, T, C, H, W = x.size()\n",
    "        x = x.to(device).view(-1, C, H, W)\n",
    "        y = y.to(device).view(-1, 1, H, W)\n",
    "        air_x = air_x.to(device).view(-1, 1, H, W)\n",
    "        bone_x = bone_x.to(device).view(-1, 1, H, W)\n",
    "\n",
    "        y_pr = model(x.float())\n",
    "        y_pr = Activation(name=GEN_ACT)(y_pr) # zipped value to [0, 1]\n",
    " \n",
    "        x = x.view(B, T, C, H, W)[:, 1, 0].unsqueeze(1)\n",
    "        y = y.view(B, T, 1, H, W)[:, 1, :]\n",
    "        air_x = air_x.view(B, T, 1, H, W)[:, 1, :]\n",
    "        bone_x = bone_x.view(B, T, 1, H, W)[:, 1, :]\n",
    "        y_pr = y_pr.view(B, T, 1, H, W)[:, 1, :]\n",
    "\n",
    "        edge_x = sobel_filter(x)\n",
    "        edge_y_pr = sobel_filter(y_pr)\n",
    "        edge_y = sobel_filter(y)\n",
    "\n",
    "        _min = VIEW_BOUND[0]\n",
    "        _max = VIEW_BOUND[1]\n",
    "        air_window = AIR_BOUND\n",
    "        upper = ((air_window[1]) - (_min))/(_max-(_min))\n",
    "        lower = ((air_window[0]) - (_min))/(_max-(_min))\n",
    "        air_pr = hu_clip_tensor(y_pr.double(), (lower, upper), None, True)\n",
    "        \n",
    "        bone_window = BONE_BOUND\n",
    "        upper = ((bone_window[1]) - (_min))/(_max-(_min))\n",
    "        lower = ((bone_window[0]) - (_min))/(_max-(_min))\n",
    "        bone_pr = hu_clip_tensor(y_pr.double(), (lower, upper), None, True)\n",
    "\n",
    "        for b in range(x.shape[0]):           \n",
    "            tmp_y = y[b, :, :, :].unsqueeze(0).float()\n",
    "            tmp_y_pr = y_pr[b, :, :, :].unsqueeze(0)\n",
    "            tmp_air = air_x[b, :, :, :].unsqueeze(0)\n",
    "            tmp_air_pr = air_pr[b, :, :, :].unsqueeze(0)\n",
    "            tmp_bone = bone_x[b, :, :, :].unsqueeze(0)\n",
    "            tmp_bone_pr = bone_pr[b, :, :, :].unsqueeze(0)\n",
    "            \n",
    "            _ssim = ssim(tmp_y, tmp_y_pr, data_range=1.0, size_average=True) # return (N,)\n",
    "            _psnr = PSNR()(tmp_y_pr, tmp_y, 1.0)\n",
    "            _snr = SNR()(tmp_y_pr, tmp_y)\n",
    "            _mae = MAELoss()(tmp_y_pr.float(), tmp_y.float())\n",
    "            _air = Fscore()(tmp_air_pr, tmp_air)\n",
    "            _bone = Fscore()(tmp_bone_pr, tmp_bone)\n",
    "            _cont = ContourEval()(tmp_y_pr, x[b, :, :, :])\n",
    "            \n",
    "            __cbct = (x.squeeze().cpu().numpy() * 255).astype(np.uint8)\n",
    "            __ct = (tmp_y.squeeze().cpu().numpy() * 255).astype(np.uint8)\n",
    "            __ct_pred = (tmp_y_pr.squeeze().cpu().numpy() * 255).astype(np.uint8)\n",
    "            __ct_masked = __ct_pred * tmp_air.squeeze().cpu().numpy()\n",
    "            __air = (tmp_air.squeeze().cpu().numpy() * 255).astype(np.uint8)\n",
    "            __air_pr = (tmp_air_pr.squeeze().cpu().numpy() * 255).astype(np.uint8)\n",
    "            __bone = (tmp_bone.squeeze().cpu().numpy() * 255).astype(np.uint8)\n",
    "            __bone_pr = (tmp_bone_pr.squeeze().cpu().numpy() * 255).astype(np.uint8)\n",
    "            __edge_pr = (edge_y_pr[b, :].squeeze().cpu().numpy() * 255).astype(np.uint8)\n",
    "            __edge_x = (edge_x.squeeze().cpu().numpy() * 255).astype(np.uint8)\n",
    "            __edge_y = (edge_y.squeeze().cpu().numpy() * 255).astype(np.uint8)\n",
    "\n",
    "            \n",
    "            if save:\n",
    "                path_dir = os.path.join(path, \"file_{}\".format(iid))\n",
    "                try:\n",
    "                    os.mkdir(path_dir)\n",
    "                except FileExistsError:\n",
    "                    pass\n",
    "                \n",
    "                cv2.imwrite(os.path.join(path_dir, \"cbct.jpg\"), __cbct)\n",
    "                cv2.imwrite(os.path.join(path_dir, \"ct.jpg\"), __ct)\n",
    "                cv2.imwrite(os.path.join(path_dir, \"ct_pred.jpg\"), __ct_pred)\n",
    "                cv2.imwrite(os.path.join(path_dir, \"air.jpg\"), __air)\n",
    "                cv2.imwrite(os.path.join(path_dir, \"air_pred.jpg\"), __air_pr)\n",
    "                cv2.imwrite(os.path.join(path_dir, \"bone.jpg\"), __bone)\n",
    "                cv2.imwrite(os.path.join(path_dir, \"bone_pred.jpg\"), __bone_pr)\n",
    "                cv2.imwrite(os.path.join(path_dir, \"edge_pred.jpg\"), __edge_pr)\n",
    "                cv2.imwrite(os.path.join(path_dir, \"edge_cbct.jpg\"), __edge_x)\n",
    "                cv2.imwrite(os.path.join(path_dir, \"edge_ct.jpg\"), __edge_y)\n",
    "                \n",
    "            iid += 1"
   ]
  },
  {
   "cell_type": "markdown",
   "metadata": {},
   "source": [
    "# Discriminator"
   ]
  },
  {
   "cell_type": "code",
   "execution_count": 17,
   "metadata": {},
   "outputs": [],
   "source": [
    "from codes.activation import Activation\n",
    "import torchvision.models as models\n",
    "from codes.losses import MultiScaleHeads"
   ]
  },
  {
   "cell_type": "code",
   "execution_count": 18,
   "metadata": {},
   "outputs": [],
   "source": [
    "class Discriminator(nn.Module):\n",
    "    def __init__(self, in_channel=1, n_classes=2, activation=None):\n",
    "        \n",
    "        super(Discriminator, self).__init__()\n",
    "        \n",
    "        encoder = smp.Unet(encoder_name=\"resnet18\", in_channels=in_channel, classes=n_classes).encoder\n",
    "        self.encoder = encoder\n",
    "        self.fc = MultiScaleHeads(n_classes=n_classes, channels=(512, ), activation=None)\n",
    "        \n",
    "    def forward(self, x):\n",
    "        x = self.encoder(x)\n",
    "        x = self.fc([x[-1]])\n",
    "        return x"
   ]
  },
  {
   "cell_type": "markdown",
   "metadata": {},
   "source": [
    "# Generator"
   ]
  },
  {
   "cell_type": "code",
   "execution_count": 19,
   "metadata": {},
   "outputs": [],
   "source": [
    "import segmentation_models_pytorch as smp\n",
    "from codes.decoder import UnetDecoder\n",
    "from segmentation_models_pytorch.base.heads import SegmentationHead"
   ]
  },
  {
   "cell_type": "code",
   "execution_count": 20,
   "metadata": {},
   "outputs": [],
   "source": [
    "class Generator(nn.Module):\n",
    "    def __init__(self, encoder_name, encoder_weights, in_channels, classes, attention_type):\n",
    "        \n",
    "        super(Generator, self).__init__()\n",
    "        \n",
    "        self.encoder = smp.Unet(encoder_name=encoder_name, encoder_weights=encoder_weights, in_channels=in_channels, classes=classes).encoder\n",
    "        self.decoder = UnetDecoder(\n",
    "                            encoder_channels=[in_channels, 0, 0, 0, 0, 2048],\n",
    "                            decoder_channels=[512, 256, 128, 64, 16],\n",
    "                            n_blocks=5,\n",
    "                            use_batchnorm=True,\n",
    "                            attention_type=attention_type)\n",
    "        self.head =  SegmentationHead(\n",
    "                        in_channels=16,\n",
    "                        out_channels=classes,\n",
    "                        activation=None)\n",
    "        \n",
    "        \n",
    "    def forward(self, x):\n",
    "        x = self.encoder(x)[-1]\n",
    "        x = self.decoder(*(None, None, None, None, x))\n",
    "        x = self.head(x)\n",
    "        \n",
    "        return x"
   ]
  },
  {
   "cell_type": "markdown",
   "metadata": {},
   "source": [
    "# Read Data"
   ]
  },
  {
   "cell_type": "code",
   "execution_count": 21,
   "metadata": {},
   "outputs": [],
   "source": [
    "import glob\n",
    "from codes.dataset import DicomSegmentDataset, DicomsSegmentDataset\n",
    "import codes.augmentation as aug\n",
    "from codes.temporal_shift import make_temporal_shift"
   ]
  },
  {
   "cell_type": "code",
   "execution_count": 22,
   "metadata": {},
   "outputs": [],
   "source": [
    "# run_name = wandb.run.name\n",
    "run_name = \"ancient-glitter-294\"\n",
    "ELECTRON = False\n",
    "G_COORD = True\n",
    "L_COORD= False\n",
    "\n",
    "N_SEGMENT = 3"
   ]
  },
  {
   "cell_type": "code",
   "execution_count": 23,
   "metadata": {},
   "outputs": [],
   "source": [
    "VIEW_BOUND = (-500, 500)\n",
    "AIR_BOUND = (-500, -499)\n",
    "BONE_BOUND = (255, 256)\n",
    "if ELECTRON:\n",
    "    VIEW_BOUND = (0.5, 1.5)\n",
    "    AIR_BOUND = (0.5, 0.5009)\n",
    "    BONE_BOUND = (1.2, 1.2009)  "
   ]
  },
  {
   "cell_type": "code",
   "execution_count": 24,
   "metadata": {},
   "outputs": [],
   "source": [
    "checkpoint = torch.load(os.path.join(\"weight-gan\", \"{}.pth\".format(run_name)))"
   ]
  },
  {
   "cell_type": "code",
   "execution_count": 25,
   "metadata": {
    "collapsed": true,
    "jupyter": {
     "outputs_hidden": true
    }
   },
   "outputs": [
    {
     "name": "stdout",
     "output_type": "stream",
     "text": [
      "=> n_segment per stage: [3, 3, 3, 3]\n",
      "=> Using n_round 2 to insert temporal shift\n",
      "=> Processing stage with 3 blocks residual\n",
      "=> Using fold div: 4\n",
      "=> Using fold div: 4\n",
      "=> Processing stage with 8 blocks residual\n",
      "=> Using fold div: 4\n",
      "=> Using fold div: 4\n",
      "=> Using fold div: 4\n",
      "=> Using fold div: 4\n",
      "=> Processing stage with 36 blocks residual\n",
      "=> Using fold div: 4\n",
      "=> Using fold div: 4\n",
      "=> Using fold div: 4\n",
      "=> Using fold div: 4\n",
      "=> Using fold div: 4\n",
      "=> Using fold div: 4\n",
      "=> Using fold div: 4\n",
      "=> Using fold div: 4\n",
      "=> Using fold div: 4\n",
      "=> Using fold div: 4\n",
      "=> Using fold div: 4\n",
      "=> Using fold div: 4\n",
      "=> Using fold div: 4\n",
      "=> Using fold div: 4\n",
      "=> Using fold div: 4\n",
      "=> Using fold div: 4\n",
      "=> Using fold div: 4\n",
      "=> Using fold div: 4\n",
      "=> Processing stage with 3 blocks residual\n",
      "=> Using fold div: 4\n",
      "=> Using fold div: 4\n"
     ]
    },
    {
     "data": {
      "text/plain": [
       "<All keys matched successfully>"
      ]
     },
     "execution_count": 25,
     "metadata": {},
     "output_type": "execute_result"
    }
   ],
   "source": [
    "model = smp.Unet(encoder_name=ENCODER, \n",
    "                  encoder_weights=ENCODER_WEIGHT, \n",
    "                  in_channels=GEN_IN_CHANNELS, \n",
    "                  classes=GEN_N_CLASSES,\n",
    "                 decoder_attention_type=DECODER_ATT)\n",
    "replace_relu_to_leakyReLU(model)\n",
    "replace_bn_to_instanceNorm(model)\n",
    "make_temporal_shift(model, N_SEGMENT, n_div=4, place=\"blockres\")\n",
    "\n",
    "model.load_state_dict(checkpoint[\"model\"])"
   ]
  },
  {
   "cell_type": "code",
   "execution_count": 26,
   "metadata": {},
   "outputs": [
    {
     "name": "stdout",
     "output_type": "stream",
     "text": [
      "=> n_segment per stage: [3, 3, 3, 3]\n",
      "=> Processing stage with 2 blocks residual\n",
      "=> Using fold div: 4\n",
      "=> Using fold div: 4\n",
      "=> Processing stage with 2 blocks residual\n",
      "=> Using fold div: 4\n",
      "=> Using fold div: 4\n",
      "=> Processing stage with 2 blocks residual\n",
      "=> Using fold div: 4\n",
      "=> Using fold div: 4\n",
      "=> Processing stage with 2 blocks residual\n",
      "=> Using fold div: 4\n",
      "=> Using fold div: 4\n"
     ]
    },
    {
     "data": {
      "text/plain": [
       "<All keys matched successfully>"
      ]
     },
     "execution_count": 26,
     "metadata": {},
     "output_type": "execute_result"
    }
   ],
   "source": [
    "tf_discriminator = Discriminator(in_channel=DIS_IN_CHANNELS, n_classes=DIS_N_CLASSES, activation=DIS_ACT)\n",
    "replace_relu_to_leakyReLU(tf_discriminator)\n",
    "replace_bn_to_instanceNorm(tf_discriminator)\n",
    "make_temporal_shift(tf_discriminator, N_SEGMENT, n_div=4, place=\"blockres\")\n",
    "\n",
    "tf_discriminator.load_state_dict(checkpoint[\"tf_discriminator\"])"
   ]
  },
  {
   "cell_type": "code",
   "execution_count": 27,
   "metadata": {
    "collapsed": true,
    "jupyter": {
     "outputs_hidden": true
    }
   },
   "outputs": [
    {
     "name": "stdout",
     "output_type": "stream",
     "text": [
      "=> n_segment per stage: [3, 3, 3, 3]\n",
      "=> Processing stage with 2 blocks residual\n",
      "=> Using fold div: 4\n",
      "=> Using fold div: 4\n",
      "=> Processing stage with 2 blocks residual\n",
      "=> Using fold div: 4\n",
      "=> Using fold div: 4\n",
      "=> Processing stage with 2 blocks residual\n",
      "=> Using fold div: 4\n",
      "=> Using fold div: 4\n",
      "=> Processing stage with 2 blocks residual\n",
      "=> Using fold div: 4\n",
      "=> Using fold div: 4\n"
     ]
    },
    {
     "data": {
      "text/plain": [
       "<All keys matched successfully>"
      ]
     },
     "execution_count": 27,
     "metadata": {},
     "output_type": "execute_result"
    }
   ],
   "source": [
    "edge_discriminator = Discriminator(in_channel=E_IN_CHANNELS, n_classes=E_N_CLASSES, activation=E_ACT)\n",
    "replace_relu_to_leakyReLU(edge_discriminator)\n",
    "replace_bn_to_instanceNorm(edge_discriminator)\n",
    "make_temporal_shift(edge_discriminator, N_SEGMENT, n_div=4, place=\"blockres\")\n",
    "\n",
    "edge_discriminator.load_state_dict(checkpoint[\"edge_discriminator\"])"
   ]
  },
  {
   "cell_type": "markdown",
   "metadata": {},
   "source": [
    "# Pelvic"
   ]
  },
  {
   "cell_type": "markdown",
   "metadata": {},
   "source": [
    "## Pelvic Test CBCT"
   ]
  },
  {
   "cell_type": "code",
   "execution_count": 28,
   "metadata": {},
   "outputs": [],
   "source": [
    "test_case_path = 'raw/test/*_*'\n",
    "paths = sorted(glob.glob(test_case_path))"
   ]
  },
  {
   "cell_type": "code",
   "execution_count": 29,
   "metadata": {},
   "outputs": [],
   "source": [
    "try:\n",
    "    os.mkdir(os.path.join(\"eval-gan\", run_name))\n",
    "except FileExistsError:\n",
    "    pass"
   ]
  },
  {
   "cell_type": "code",
   "execution_count": 30,
   "metadata": {},
   "outputs": [],
   "source": [
    "try:\n",
    "    os.mkdir(os.path.join(\"eval-gan\", run_name, \"test_pelvic_cbct\"))\n",
    "except FileExistsError:\n",
    "    pass"
   ]
  },
  {
   "cell_type": "code",
   "execution_count": 31,
   "metadata": {
    "scrolled": true
   },
   "outputs": [
    {
     "name": "stderr",
     "output_type": "stream",
     "text": [
      "28it [00:13,  2.05it/s]\n",
      "27it [00:11,  2.45it/s]\n",
      "26it [00:10,  2.43it/s]\n",
      "28it [00:11,  2.49it/s]\n",
      "27it [00:11,  2.39it/s]\n",
      "28it [00:11,  2.51it/s]\n",
      "27it [00:10,  2.47it/s]\n"
     ]
    }
   ],
   "source": [
    "# read cbct and ct\n",
    "iid = 0\n",
    "for i in range(0, len(paths), 2):\n",
    "    scans = DicomSegmentDataset(cbct_path=paths[i+1], ct_path=paths[i],\n",
    "                         geometry_aug=aug.get_validation_augmentation(), intensity_aug=None, \n",
    "                         identity=False, electron=ELECTRON, position=\"pelvic\", segment=N_SEGMENT, g_coord=G_COORD, l_coord=L_COORD)\n",
    "    patient_id = scans.patientID()\n",
    "    testloader = torch.utils.data.DataLoader(scans, batch_size=1, shuffle=False, num_workers=4)\n",
    "    try:\n",
    "        os.mkdir(os.path.join(\"eval-gan\", run_name, \"test_pelvic_cbct\", patient_id))\n",
    "    except FileExistsError:\n",
    "        pass\n",
    "    \n",
    "    test_epoch(iid, model, testloader, device, True, os.path.join(\"eval-gan\", run_name, \"test_pelvic_cbct\", patient_id)) \n",
    "    iid += len(scans)"
   ]
  },
  {
   "cell_type": "code",
   "execution_count": 32,
   "metadata": {},
   "outputs": [
    {
     "name": "stderr",
     "output_type": "stream",
     "text": [
      "191it [00:45,  4.20it/s]\n"
     ]
    },
    {
     "data": {
      "text/plain": [
       "(0.8309638993278223,\n",
       " 23.251653890959254,\n",
       " 14.255925842604713,\n",
       " 0.027967296092141984,\n",
       " 0.9964873279352924,\n",
       " 0.8959748074097442,\n",
       " 0.3639968740534408,\n",
       " 0.5052356020942408,\n",
       " 0.5026178010471204)"
      ]
     },
     "execution_count": 32,
     "metadata": {},
     "output_type": "execute_result"
    }
   ],
   "source": [
    "testset = DicomsSegmentDataset(test_case_path, geometry_aug=aug.get_validation_augmentation(), intensity_aug=None, \n",
    "                        identity=False, electron=ELECTRON, position=\"pelvic\", segment=N_SEGMENT, g_coord=G_COORD, l_coord=L_COORD)\n",
    "testloader = torch.utils.data.DataLoader(testset, batch_size=1, shuffle=False, num_workers=4)\n",
    "# score_ssim_test, score_psnr_test, score_snr_test, score_mae_test, \\\n",
    "#             score_air_test, score_bone_test, score_cont_test, score_tf_acc_test, score_edge_acc_test\n",
    "eval_epoch(model, tf_discriminator, edge_discriminator, testloader, device)"
   ]
  },
  {
   "cell_type": "markdown",
   "metadata": {},
   "source": [
    "## Pelvic Test CT"
   ]
  },
  {
   "cell_type": "code",
   "execution_count": 33,
   "metadata": {},
   "outputs": [],
   "source": [
    "test_case_path = 'raw/test/*_*'\n",
    "paths = sorted(glob.glob(test_case_path))"
   ]
  },
  {
   "cell_type": "code",
   "execution_count": 34,
   "metadata": {},
   "outputs": [],
   "source": [
    "try:\n",
    "    os.mkdir(os.path.join(\"eval-gan\", run_name))\n",
    "except FileExistsError:\n",
    "    pass"
   ]
  },
  {
   "cell_type": "code",
   "execution_count": 35,
   "metadata": {},
   "outputs": [],
   "source": [
    "try:\n",
    "    os.mkdir(os.path.join(\"eval-gan\", run_name, \"test_pelvic_ct\"))\n",
    "except FileExistsError:\n",
    "    pass"
   ]
  },
  {
   "cell_type": "code",
   "execution_count": 36,
   "metadata": {
    "scrolled": true
   },
   "outputs": [
    {
     "name": "stderr",
     "output_type": "stream",
     "text": [
      "28it [00:10,  2.71it/s]\n",
      "27it [00:10,  2.60it/s]\n",
      "26it [00:10,  2.57it/s]\n",
      "28it [00:11,  2.51it/s]\n",
      "27it [00:11,  2.32it/s]\n",
      "28it [00:11,  2.36it/s]\n",
      "27it [00:11,  2.34it/s]\n"
     ]
    }
   ],
   "source": [
    "# read cbct and ct\n",
    "iid = 0\n",
    "for i in range(0, len(paths), 2):\n",
    "    scans = DicomSegmentDataset(cbct_path=paths[i+1], ct_path=paths[i], \n",
    "                         geometry_aug=aug.get_validation_augmentation(), intensity_aug=None, \n",
    "                         identity=True, electron=ELECTRON, position=\"pelvic\", segment=N_SEGMENT, g_coord=G_COORD, l_coord=L_COORD)\n",
    "    patient_id = scans.patientID()\n",
    "    testloader = torch.utils.data.DataLoader(scans, batch_size=1, shuffle=False, num_workers=4)\n",
    "    try:\n",
    "        os.mkdir(os.path.join(\"eval-gan\", run_name, \"test_pelvic_ct\", patient_id))\n",
    "    except FileExistsError:\n",
    "        pass\n",
    "    \n",
    "    test_epoch(iid, model, testloader, device, True, os.path.join(\"eval-gan\", run_name, \"test_pelvic_ct\", patient_id)) \n",
    "    iid += len(scans)"
   ]
  },
  {
   "cell_type": "code",
   "execution_count": 37,
   "metadata": {},
   "outputs": [
    {
     "name": "stderr",
     "output_type": "stream",
     "text": [
      "191it [00:46,  4.11it/s]\n"
     ]
    },
    {
     "data": {
      "text/plain": [
       "(0.9221871801071766,\n",
       " 27.950586209122424,\n",
       " 18.954858220684592,\n",
       " 0.016201834998907844,\n",
       " 0.9965354822069851,\n",
       " 0.8860778349164444,\n",
       " 0.3771585191731678,\n",
       " 0.5,\n",
       " 0.5052356020942408)"
      ]
     },
     "execution_count": 37,
     "metadata": {},
     "output_type": "execute_result"
    }
   ],
   "source": [
    "testset = DicomsSegmentDataset(test_case_path, geometry_aug=aug.get_validation_augmentation(), intensity_aug=None, \n",
    "                        identity=True, electron=ELECTRON, position=\"pelvic\", segment=N_SEGMENT, g_coord=G_COORD, l_coord=L_COORD)\n",
    "testloader = torch.utils.data.DataLoader(testset, batch_size=1, shuffle=False, num_workers=4)\n",
    "# score_ssim_test, score_psnr_test, score_snr_test, score_mae_test, \\\n",
    "#             score_air_test, score_bone_test, score_cont_test, score_tf_acc_test, score_edge_acc_test\n",
    "eval_epoch(model, tf_discriminator, edge_discriminator, testloader, device)"
   ]
  },
  {
   "cell_type": "markdown",
   "metadata": {},
   "source": [
    "## Pelvic L1 CBCT"
   ]
  },
  {
   "cell_type": "code",
   "execution_count": 38,
   "metadata": {},
   "outputs": [],
   "source": [
    "test_case_path = 'L1_pelvic_processed/reg_pelvic_l1/*_*'\n",
    "paths = sorted(glob.glob(test_case_path))"
   ]
  },
  {
   "cell_type": "code",
   "execution_count": 39,
   "metadata": {},
   "outputs": [],
   "source": [
    "try:\n",
    "    os.mkdir(os.path.join(\"eval-gan\", run_name))\n",
    "except FileExistsError:\n",
    "    pass"
   ]
  },
  {
   "cell_type": "code",
   "execution_count": 40,
   "metadata": {},
   "outputs": [],
   "source": [
    "try:\n",
    "    os.mkdir(os.path.join(\"eval-gan\", run_name, \"L1_pelvic_cbct\"))\n",
    "except FileExistsError:\n",
    "    pass"
   ]
  },
  {
   "cell_type": "code",
   "execution_count": 41,
   "metadata": {
    "scrolled": true
   },
   "outputs": [
    {
     "name": "stderr",
     "output_type": "stream",
     "text": [
      "29it [00:12,  2.36it/s]\n",
      "26it [00:11,  2.34it/s]\n",
      "28it [00:12,  2.33it/s]\n",
      "28it [00:12,  2.27it/s]\n",
      "27it [00:11,  2.30it/s]\n",
      "26it [00:11,  2.27it/s]\n",
      "27it [00:11,  2.28it/s]\n",
      "30it [00:13,  2.29it/s]\n",
      "28it [00:12,  2.27it/s]\n",
      "29it [00:12,  2.35it/s]\n",
      "29it [00:12,  2.35it/s]\n",
      "27it [00:11,  2.30it/s]\n",
      "28it [00:12,  2.30it/s]\n",
      "26it [00:11,  2.29it/s]\n",
      "28it [00:12,  2.31it/s]\n",
      "28it [00:11,  2.33it/s]\n",
      "27it [00:11,  2.32it/s]\n",
      "26it [00:10,  2.38it/s]\n",
      "27it [00:11,  2.37it/s]\n",
      "29it [00:12,  2.34it/s]\n",
      "30it [00:12,  2.34it/s]\n",
      "32it [00:13,  2.38it/s]\n",
      "28it [00:11,  2.34it/s]\n",
      "28it [00:11,  2.35it/s]\n",
      "15it [00:06,  2.26it/s]\n",
      "28it [00:11,  2.36it/s]\n",
      "26it [00:11,  2.28it/s]\n",
      "28it [00:12,  2.31it/s]\n",
      "26it [00:11,  2.34it/s]\n",
      "27it [00:11,  2.33it/s]\n",
      "36it [00:15,  2.33it/s]\n",
      "28it [00:12,  2.32it/s]\n",
      "27it [00:11,  2.30it/s]\n",
      "28it [00:11,  2.37it/s]\n",
      "30it [00:12,  2.34it/s]\n",
      "27it [00:11,  2.43it/s]\n",
      "26it [00:11,  2.32it/s]\n",
      "29it [00:12,  2.38it/s]\n",
      "27it [00:10,  2.57it/s]\n",
      "27it [00:11,  2.30it/s]\n",
      "28it [00:12,  2.29it/s]\n",
      "26it [00:10,  2.58it/s]\n",
      "26it [00:11,  2.31it/s]\n",
      "29it [00:12,  2.33it/s]\n",
      "28it [00:11,  2.40it/s]\n",
      "27it [00:11,  2.30it/s]\n",
      "30it [00:12,  2.32it/s]\n",
      "27it [00:11,  2.29it/s]\n",
      "130it [00:53,  2.41it/s]\n"
     ]
    }
   ],
   "source": [
    "# read cbct and ct\n",
    "iid = 0\n",
    "for i in range(0, len(paths), 2):\n",
    "    scans = DicomSegmentDataset(cbct_path=paths[i+1], ct_path=paths[i], \n",
    "                         geometry_aug=aug.get_validation_augmentation(), intensity_aug=None, \n",
    "                         identity=False, electron=ELECTRON, position=\"pelvic\", segment=N_SEGMENT, g_coord=G_COORD, l_coord=L_COORD)\n",
    "    patient_id = scans.patientID()\n",
    "    testloader = torch.utils.data.DataLoader(scans, batch_size=1, shuffle=False, num_workers=4)\n",
    "    try:\n",
    "        os.mkdir(os.path.join(\"eval-gan\", run_name, \"L1_pelvic_cbct\", patient_id))\n",
    "    except FileExistsError:\n",
    "        pass\n",
    "    \n",
    "    test_epoch(iid, model, testloader, device, True, os.path.join(\"eval-gan\", run_name, \"L1_pelvic_cbct\", patient_id)) \n",
    "    iid += len(scans)"
   ]
  },
  {
   "cell_type": "code",
   "execution_count": 42,
   "metadata": {},
   "outputs": [
    {
     "name": "stderr",
     "output_type": "stream",
     "text": [
      "1457it [05:48,  4.19it/s]\n"
     ]
    },
    {
     "data": {
      "text/plain": [
       "(0.8165491476972052,\n",
       " 22.62021813690458,\n",
       " 13.419200422343279,\n",
       " 0.030679134395057893,\n",
       " 0.9960477455854673,\n",
       " 0.8631159825582547,\n",
       " 0.39131508309358326,\n",
       " 0.5048043925875085,\n",
       " 0.5054907343857241)"
      ]
     },
     "execution_count": 42,
     "metadata": {},
     "output_type": "execute_result"
    }
   ],
   "source": [
    "testset = DicomsSegmentDataset(test_case_path, geometry_aug=aug.get_validation_augmentation(), intensity_aug=None, \n",
    "                        identity=False, electron=ELECTRON, position=\"pelvic\", segment=N_SEGMENT, g_coord=G_COORD, l_coord=L_COORD)\n",
    "testloader = torch.utils.data.DataLoader(testset, batch_size=1, shuffle=False, num_workers=4)\n",
    "# score_ssim_test, score_psnr_test, score_snr_test, score_mae_test, \\\n",
    "#             score_air_test, score_bone_test, score_cont_test, score_tf_acc_test, score_edge_acc_test\n",
    "eval_epoch(model, tf_discriminator, edge_discriminator, testloader, device)"
   ]
  },
  {
   "cell_type": "markdown",
   "metadata": {},
   "source": [
    "## Pelvic L1 CT"
   ]
  },
  {
   "cell_type": "code",
   "execution_count": 43,
   "metadata": {},
   "outputs": [],
   "source": [
    "test_case_path = 'L1_pelvic_processed/reg_pelvic_l1/*_*'\n",
    "paths = sorted(glob.glob(test_case_path))"
   ]
  },
  {
   "cell_type": "code",
   "execution_count": 44,
   "metadata": {},
   "outputs": [],
   "source": [
    "try:\n",
    "    os.mkdir(os.path.join(\"eval-gan\", run_name))\n",
    "except FileExistsError:\n",
    "    pass"
   ]
  },
  {
   "cell_type": "code",
   "execution_count": 45,
   "metadata": {},
   "outputs": [],
   "source": [
    "try:\n",
    "    os.mkdir(os.path.join(\"eval-gan\", run_name, \"L1_pelvic_ct\"))\n",
    "except FileExistsError:\n",
    "    pass"
   ]
  },
  {
   "cell_type": "code",
   "execution_count": 46,
   "metadata": {
    "scrolled": true
   },
   "outputs": [
    {
     "name": "stderr",
     "output_type": "stream",
     "text": [
      "29it [00:11,  2.47it/s]\n",
      "26it [00:10,  2.37it/s]\n",
      "28it [00:11,  2.41it/s]\n",
      "28it [00:11,  2.44it/s]\n",
      "27it [00:12,  2.25it/s]\n",
      "26it [00:11,  2.23it/s]\n",
      "27it [00:12,  2.22it/s]\n",
      "30it [00:13,  2.24it/s]\n",
      "28it [00:12,  2.23it/s]\n",
      "29it [00:12,  2.23it/s]\n",
      "29it [00:11,  2.50it/s]\n",
      "27it [00:12,  2.22it/s]\n",
      "28it [00:12,  2.25it/s]\n",
      "26it [00:11,  2.25it/s]\n",
      "28it [00:12,  2.23it/s]\n",
      "28it [00:12,  2.29it/s]\n",
      "27it [00:12,  2.23it/s]\n",
      "26it [00:11,  2.21it/s]\n",
      "27it [00:12,  2.21it/s]\n",
      "29it [00:12,  2.26it/s]\n",
      "30it [00:13,  2.27it/s]\n",
      "32it [00:14,  2.24it/s]\n",
      "28it [00:12,  2.32it/s]\n",
      "28it [00:12,  2.32it/s]\n",
      "15it [00:06,  2.27it/s]\n",
      "28it [00:11,  2.34it/s]\n",
      "26it [00:11,  2.28it/s]\n",
      "28it [00:12,  2.32it/s]\n",
      "26it [00:11,  2.30it/s]\n",
      "27it [00:11,  2.30it/s]\n",
      "36it [00:15,  2.37it/s]\n",
      "28it [00:12,  2.30it/s]\n",
      "27it [00:11,  2.32it/s]\n",
      "28it [00:12,  2.33it/s]\n",
      "30it [00:12,  2.35it/s]\n",
      "27it [00:11,  2.31it/s]\n",
      "26it [00:11,  2.29it/s]\n",
      "29it [00:12,  2.36it/s]\n",
      "27it [00:11,  2.38it/s]\n",
      "27it [00:11,  2.35it/s]\n",
      "28it [00:11,  2.36it/s]\n",
      "26it [00:11,  2.34it/s]\n",
      "26it [00:11,  2.33it/s]\n",
      "29it [00:12,  2.34it/s]\n",
      "28it [00:12,  2.32it/s]\n",
      "27it [00:11,  2.31it/s]\n",
      "30it [00:12,  2.34it/s]\n",
      "27it [00:11,  2.34it/s]\n",
      "130it [00:54,  2.39it/s]\n"
     ]
    }
   ],
   "source": [
    "# read cbct and ct\n",
    "iid = 0\n",
    "for i in range(0, len(paths), 2):\n",
    "    scans = DicomSegmentDataset(cbct_path=paths[i+1], ct_path=paths[i], \n",
    "                         geometry_aug=aug.get_validation_augmentation(), intensity_aug=None, \n",
    "                         identity=True, electron=ELECTRON, position=\"pelvic\", segment=N_SEGMENT, g_coord=G_COORD, l_coord=L_COORD)\n",
    "    patient_id = scans.patientID()\n",
    "    testloader = torch.utils.data.DataLoader(scans, batch_size=1, shuffle=False, num_workers=4)\n",
    "    try:\n",
    "        os.mkdir(os.path.join(\"eval-gan\", run_name, \"L1_pelvic_ct\", patient_id))\n",
    "    except FileExistsError:\n",
    "        pass\n",
    "    \n",
    "    test_epoch(iid, model, testloader, device, True, os.path.join(\"eval-gan\", run_name, \"L1_pelvic_ct\", patient_id)) \n",
    "    iid += len(scans)"
   ]
  },
  {
   "cell_type": "code",
   "execution_count": 47,
   "metadata": {},
   "outputs": [
    {
     "name": "stderr",
     "output_type": "stream",
     "text": [
      "1457it [05:42,  4.26it/s]\n"
     ]
    },
    {
     "data": {
      "text/plain": [
       "(0.9221783503736628,\n",
       " 27.917769538758957,\n",
       " 18.716751873615923,\n",
       " 0.01699857852008135,\n",
       " 0.9964787485975161,\n",
       " 0.8676638664713234,\n",
       " 0.41221397391065967,\n",
       " 0.5,\n",
       " 0.5037748798901853)"
      ]
     },
     "execution_count": 47,
     "metadata": {},
     "output_type": "execute_result"
    }
   ],
   "source": [
    "testset = DicomsSegmentDataset(test_case_path, geometry_aug=aug.get_validation_augmentation(), intensity_aug=None, \n",
    "                        identity=True, electron=ELECTRON, position=\"pelvic\", segment=N_SEGMENT, g_coord=G_COORD, l_coord=L_COORD)\n",
    "testloader = torch.utils.data.DataLoader(testset, batch_size=1, shuffle=False, num_workers=4)\n",
    "# score_ssim_test, score_psnr_test, score_snr_test, score_mae_test, \\\n",
    "#             score_air_test, score_bone_test, score_cont_test, score_tf_acc_test, score_edge_acc_test\n",
    "eval_epoch(model, tf_discriminator, edge_discriminator, testloader, device)"
   ]
  },
  {
   "cell_type": "markdown",
   "metadata": {},
   "source": [
    "## Pelvic L2 CBCT"
   ]
  },
  {
   "cell_type": "code",
   "execution_count": 48,
   "metadata": {},
   "outputs": [],
   "source": [
    "test_case_path = 'L2_pelvic_processed/test/*_*'\n",
    "paths = sorted(glob.glob(test_case_path))"
   ]
  },
  {
   "cell_type": "code",
   "execution_count": 49,
   "metadata": {},
   "outputs": [],
   "source": [
    "try:\n",
    "    os.mkdir(os.path.join(\"eval-gan\", run_name))\n",
    "except FileExistsError:\n",
    "    pass"
   ]
  },
  {
   "cell_type": "code",
   "execution_count": 50,
   "metadata": {},
   "outputs": [],
   "source": [
    "try:\n",
    "    os.mkdir(os.path.join(\"eval-gan\", run_name, \"L2_pelvic_test\"))\n",
    "except FileExistsError:\n",
    "    pass"
   ]
  },
  {
   "cell_type": "code",
   "execution_count": 51,
   "metadata": {
    "scrolled": true
   },
   "outputs": [
    {
     "name": "stderr",
     "output_type": "stream",
     "text": [
      "31it [00:12,  2.40it/s]\n",
      "27it [00:11,  2.44it/s]\n",
      "28it [00:11,  2.42it/s]\n",
      "27it [00:11,  2.38it/s]\n",
      "27it [00:11,  2.39it/s]\n",
      "26it [00:10,  2.38it/s]\n",
      "30it [00:12,  2.39it/s]\n",
      "27it [00:11,  2.34it/s]\n",
      "29it [00:12,  2.39it/s]\n",
      "26it [00:11,  2.34it/s]\n",
      "26it [00:10,  2.58it/s]\n",
      "27it [00:10,  2.57it/s]\n",
      "26it [00:10,  2.47it/s]\n",
      "27it [00:10,  2.54it/s]\n",
      "26it [00:10,  2.45it/s]\n",
      "30it [00:12,  2.33it/s]\n",
      "26it [00:11,  2.29it/s]\n",
      "26it [00:11,  2.34it/s]\n",
      "26it [00:10,  2.43it/s]\n",
      "27it [00:11,  2.34it/s]\n",
      "27it [00:11,  2.34it/s]\n",
      "26it [00:11,  2.26it/s]\n",
      "29it [00:12,  2.35it/s]\n",
      "29it [00:12,  2.33it/s]\n"
     ]
    }
   ],
   "source": [
    "# read cbct and ct\n",
    "iid = 0\n",
    "for i in range(0, len(paths), 2):\n",
    "    scans = DicomSegmentDataset(cbct_path=paths[i+1], ct_path=paths[i], \n",
    "                         geometry_aug=aug.get_validation_augmentation(), intensity_aug=None, \n",
    "                         identity=False, electron=ELECTRON, position=\"pelvic\", segment=N_SEGMENT, g_coord=G_COORD, l_coord=L_COORD)\n",
    "    patient_id = scans.patientID()\n",
    "    testloader = torch.utils.data.DataLoader(scans, batch_size=1, shuffle=False, num_workers=4)\n",
    "    try:\n",
    "        os.mkdir(os.path.join(\"eval-gan\", run_name, \"L2_pelvic_test\", patient_id))\n",
    "    except FileExistsError:\n",
    "        pass\n",
    "    \n",
    "    test_epoch(iid, model, testloader, device, True, os.path.join(\"eval-gan\", run_name, \"L2_pelvic_test\", patient_id)) \n",
    "    iid += len(scans)"
   ]
  },
  {
   "cell_type": "code",
   "execution_count": 52,
   "metadata": {},
   "outputs": [
    {
     "name": "stderr",
     "output_type": "stream",
     "text": [
      "656it [02:39,  4.11it/s]\n"
     ]
    },
    {
     "data": {
      "text/plain": [
       "(0.798168907078301,\n",
       " 21.68183240367145,\n",
       " 12.136475219868306,\n",
       " 0.034471193904897605,\n",
       " 0.996084503722364,\n",
       " 0.8621848350311677,\n",
       " 0.43770451978893904,\n",
       " 0.5015243902439024,\n",
       " 0.510670731707317)"
      ]
     },
     "execution_count": 52,
     "metadata": {},
     "output_type": "execute_result"
    }
   ],
   "source": [
    "testset = DicomsSegmentDataset(test_case_path, geometry_aug=aug.get_validation_augmentation(), intensity_aug=None, \n",
    "                        identity=False, electron=ELECTRON, position=\"pelvic\", segment=N_SEGMENT, g_coord=G_COORD, l_coord=L_COORD)\n",
    "testloader = torch.utils.data.DataLoader(testset, batch_size=1, shuffle=False, num_workers=4)\n",
    "# score_ssim_test, score_psnr_test, score_snr_test, score_mae_test, \\\n",
    "#             score_air_test, score_bone_test, score_cont_test, score_tf_acc_test, score_edge_acc_test\n",
    "eval_epoch(model, tf_discriminator, edge_discriminator, testloader, device)"
   ]
  },
  {
   "cell_type": "markdown",
   "metadata": {},
   "source": [
    "## Pelvic L2 CT"
   ]
  },
  {
   "cell_type": "code",
   "execution_count": 53,
   "metadata": {},
   "outputs": [],
   "source": [
    "test_case_path = 'L2_pelvic_processed/test/*_*'\n",
    "paths = sorted(glob.glob(test_case_path))"
   ]
  },
  {
   "cell_type": "code",
   "execution_count": 54,
   "metadata": {},
   "outputs": [],
   "source": [
    "try:\n",
    "    os.mkdir(os.path.join(\"eval-gan\", run_name))\n",
    "except FileExistsError:\n",
    "    pass"
   ]
  },
  {
   "cell_type": "code",
   "execution_count": 55,
   "metadata": {},
   "outputs": [],
   "source": [
    "try:\n",
    "    os.mkdir(os.path.join(\"eval-gan\", run_name, \"L2_pelvic_ct\"))\n",
    "except FileExistsError:\n",
    "    pass"
   ]
  },
  {
   "cell_type": "code",
   "execution_count": 56,
   "metadata": {
    "scrolled": true
   },
   "outputs": [
    {
     "name": "stderr",
     "output_type": "stream",
     "text": [
      "31it [00:13,  2.31it/s]\n",
      "27it [00:11,  2.30it/s]\n",
      "28it [00:11,  2.37it/s]\n",
      "27it [00:11,  2.31it/s]\n",
      "27it [00:11,  2.33it/s]\n",
      "26it [00:11,  2.32it/s]\n",
      "30it [00:12,  2.31it/s]\n",
      "27it [00:11,  2.30it/s]\n",
      "29it [00:12,  2.30it/s]\n",
      "26it [00:11,  2.33it/s]\n",
      "26it [00:11,  2.33it/s]\n",
      "27it [00:11,  2.30it/s]\n",
      "26it [00:11,  2.32it/s]\n",
      "27it [00:11,  2.31it/s]\n",
      "26it [00:11,  2.32it/s]\n",
      "30it [00:12,  2.32it/s]\n",
      "26it [00:11,  2.32it/s]\n",
      "26it [00:11,  2.30it/s]\n",
      "26it [00:11,  2.30it/s]\n",
      "27it [00:11,  2.35it/s]\n",
      "27it [00:11,  2.35it/s]\n",
      "26it [00:11,  2.28it/s]\n",
      "29it [00:12,  2.32it/s]\n",
      "29it [00:12,  2.34it/s]\n"
     ]
    }
   ],
   "source": [
    "# read cbct and ct\n",
    "iid = 0\n",
    "for i in range(0, len(paths), 2):\n",
    "    scans = DicomSegmentDataset(cbct_path=paths[i+1], ct_path=paths[i],\n",
    "                         geometry_aug=aug.get_validation_augmentation(), intensity_aug=None, \n",
    "                         identity=True, electron=ELECTRON, position=\"pelvic\", segment=N_SEGMENT, g_coord=G_COORD, l_coord=L_COORD)\n",
    "    patient_id = scans.patientID()\n",
    "    testloader = torch.utils.data.DataLoader(scans, batch_size=1, shuffle=False, num_workers=4)\n",
    "    try:\n",
    "        os.mkdir(os.path.join(\"eval-gan\", run_name, \"L2_pelvic_ct\", patient_id))\n",
    "    except FileExistsError:\n",
    "        pass\n",
    "    \n",
    "    test_epoch(iid, model, testloader, device, True, os.path.join(\"eval-gan\", run_name, \"L2_pelvic_ct\", patient_id)) \n",
    "    iid += len(scans)"
   ]
  },
  {
   "cell_type": "code",
   "execution_count": 57,
   "metadata": {},
   "outputs": [
    {
     "name": "stderr",
     "output_type": "stream",
     "text": [
      "656it [02:35,  4.22it/s]\n"
     ]
    },
    {
     "data": {
      "text/plain": [
       "(0.9271652929303122,\n",
       " 28.75937658693732,\n",
       " 19.214019346527937,\n",
       " 0.014122129449189254,\n",
       " 0.995712746017202,\n",
       " 0.8881252846922221,\n",
       " 0.3895019536906081,\n",
       " 0.49771341463414637,\n",
       " 0.506859756097561)"
      ]
     },
     "execution_count": 57,
     "metadata": {},
     "output_type": "execute_result"
    }
   ],
   "source": [
    "testset = DicomsSegmentDataset(test_case_path, geometry_aug=aug.get_validation_augmentation(), intensity_aug=None, \n",
    "                        identity=True, electron=ELECTRON, position=\"pelvic\", segment=N_SEGMENT, g_coord=G_COORD, l_coord=L_COORD)\n",
    "testloader = torch.utils.data.DataLoader(testset, batch_size=1, shuffle=False, num_workers=4)\n",
    "# score_ssim_test, score_psnr_test, score_snr_test, score_mae_test, \\\n",
    "#             score_air_test, score_bone_test, score_cont_test, score_tf_acc_test, score_edge_acc_test\n",
    "eval_epoch(model, tf_discriminator, edge_discriminator, testloader, device)"
   ]
  },
  {
   "cell_type": "markdown",
   "metadata": {},
   "source": [
    "# Abdomen"
   ]
  },
  {
   "cell_type": "code",
   "execution_count": 58,
   "metadata": {},
   "outputs": [],
   "source": [
    "test_case_path = 'abdomen/test/*_*'\n",
    "paths = sorted(glob.glob(test_case_path))"
   ]
  },
  {
   "cell_type": "markdown",
   "metadata": {},
   "source": [
    "## Abdomen on CBCT"
   ]
  },
  {
   "cell_type": "code",
   "execution_count": 59,
   "metadata": {},
   "outputs": [],
   "source": [
    "try:\n",
    "    os.mkdir(os.path.join(\"eval-gan\", run_name))\n",
    "except FileExistsError:\n",
    "    pass"
   ]
  },
  {
   "cell_type": "code",
   "execution_count": 60,
   "metadata": {},
   "outputs": [],
   "source": [
    "try:\n",
    "    os.mkdir(os.path.join(\"eval-gan\", run_name, \"abdomen_test_cbct\"))\n",
    "except FileExistsError:\n",
    "    pass"
   ]
  },
  {
   "cell_type": "code",
   "execution_count": 61,
   "metadata": {
    "scrolled": true
   },
   "outputs": [
    {
     "name": "stderr",
     "output_type": "stream",
     "text": [
      "28it [00:12,  2.33it/s]\n",
      "78it [00:32,  2.38it/s]\n",
      "50it [00:21,  2.36it/s]\n",
      "29it [00:12,  2.33it/s]\n",
      "50it [00:21,  2.32it/s]\n",
      "72it [00:30,  2.37it/s]\n",
      "39it [00:16,  2.35it/s]\n"
     ]
    }
   ],
   "source": [
    "# read cbct and ct\n",
    "iid = 0\n",
    "for i in range(0, len(paths), 2):\n",
    "    scans = DicomSegmentDataset(cbct_path=paths[i+1], ct_path=paths[i], \n",
    "                         geometry_aug=aug.get_validation_augmentation(), intensity_aug=None, \n",
    "                         identity=False, electron=ELECTRON, position=\"abdomen\", segment=N_SEGMENT, g_coord=G_COORD, l_coord=L_COORD)\n",
    "    patient_id = scans.patientID()\n",
    "    testloader = torch.utils.data.DataLoader(scans, batch_size=1, shuffle=False, num_workers=4)\n",
    "    try:\n",
    "        os.mkdir(os.path.join(\"eval-gan\", run_name, \"abdomen_test_cbct\", patient_id))\n",
    "    except FileExistsError:\n",
    "        pass\n",
    "    \n",
    "    test_epoch(iid, model, testloader, device, True, os.path.join(\"eval-gan\", run_name, \"abdomen_test_cbct\", patient_id)) \n",
    "    iid += len(scans)"
   ]
  },
  {
   "cell_type": "code",
   "execution_count": 62,
   "metadata": {},
   "outputs": [
    {
     "name": "stderr",
     "output_type": "stream",
     "text": [
      "346it [01:23,  4.13it/s]\n"
     ]
    },
    {
     "data": {
      "text/plain": [
       "(0.7237869368467716,\n",
       " 20.16665609447942,\n",
       " 10.699903218732404,\n",
       " 0.04567684529273841,\n",
       " 0.9895321600815633,\n",
       " 0.7719602876959686,\n",
       " 0.3531258051429009,\n",
       " 0.43352601156069365,\n",
       " 0.5794797687861272)"
      ]
     },
     "execution_count": 62,
     "metadata": {},
     "output_type": "execute_result"
    }
   ],
   "source": [
    "testset = DicomsSegmentDataset(test_case_path, geometry_aug=aug.get_validation_augmentation(), intensity_aug=None, \n",
    "                        identity=False, electron=ELECTRON, position=\"abdomen\", segment=N_SEGMENT, g_coord=G_COORD, l_coord=L_COORD)\n",
    "testloader = torch.utils.data.DataLoader(testset, batch_size=1, shuffle=False, num_workers=4)\n",
    "# score_ssim_test, score_psnr_test, score_snr_test, score_mae_test, \\\n",
    "#             score_air_test, score_bone_test, score_cont_test, score_tf_acc_test, score_edge_acc_test\n",
    "eval_epoch(model, tf_discriminator, edge_discriminator, testloader, device)"
   ]
  },
  {
   "cell_type": "markdown",
   "metadata": {},
   "source": [
    "## Abdomen on CT"
   ]
  },
  {
   "cell_type": "code",
   "execution_count": 63,
   "metadata": {
    "scrolled": true
   },
   "outputs": [],
   "source": [
    "try:\n",
    "    os.mkdir(os.path.join(\"eval-gan\", run_name))\n",
    "except FileExistsError:\n",
    "    pass"
   ]
  },
  {
   "cell_type": "code",
   "execution_count": 64,
   "metadata": {},
   "outputs": [],
   "source": [
    "try:\n",
    "    os.mkdir(os.path.join(\"eval-gan\", run_name, \"abdomen_test_ct\"))\n",
    "except FileExistsError:\n",
    "    pass"
   ]
  },
  {
   "cell_type": "code",
   "execution_count": 65,
   "metadata": {
    "scrolled": true
   },
   "outputs": [
    {
     "name": "stderr",
     "output_type": "stream",
     "text": [
      "28it [00:11,  2.36it/s]\n",
      "78it [00:32,  2.38it/s]\n",
      "50it [00:21,  2.36it/s]\n",
      "29it [00:12,  2.36it/s]\n",
      "50it [00:21,  2.37it/s]\n",
      "72it [00:29,  2.44it/s]\n",
      "39it [00:16,  2.39it/s]\n"
     ]
    }
   ],
   "source": [
    "# read cbct and ct\n",
    "iid = 0\n",
    "for i in range(0, len(paths), 2):\n",
    "    scans = DicomSegmentDataset(cbct_path=paths[i+1], ct_path=paths[i], \n",
    "                         geometry_aug=aug.get_validation_augmentation(), intensity_aug=None, \n",
    "                         identity=True, electron=ELECTRON, position=\"abdomen\", segment=N_SEGMENT, g_coord=G_COORD, l_coord=L_COORD)\n",
    "    patient_id = scans.patientID()\n",
    "    testloader = torch.utils.data.DataLoader(scans, batch_size=1, shuffle=False, num_workers=4)\n",
    "    try:\n",
    "        os.mkdir(os.path.join(\"eval-gan\", run_name, \"abdomen_test_ct\", patient_id))\n",
    "    except FileExistsError:\n",
    "        pass\n",
    "    \n",
    "    test_epoch(iid, model, testloader, device, True, os.path.join(\"eval-gan\", run_name, \"abdomen_test_ct\", patient_id)) \n",
    "    iid += len(scans)"
   ]
  },
  {
   "cell_type": "code",
   "execution_count": 66,
   "metadata": {},
   "outputs": [
    {
     "name": "stderr",
     "output_type": "stream",
     "text": [
      "346it [01:27,  3.94it/s]\n"
     ]
    },
    {
     "data": {
      "text/plain": [
       "(0.8934159807731651,\n",
       " 26.694622872192735,\n",
       " 17.227870034344622,\n",
       " 0.020012063367259986,\n",
       " 0.9892666536279353,\n",
       " 0.7887182986607489,\n",
       " 0.34500219880716304,\n",
       " 0.3901734104046243,\n",
       " 0.5664739884393064)"
      ]
     },
     "execution_count": 66,
     "metadata": {},
     "output_type": "execute_result"
    }
   ],
   "source": [
    "testset = DicomsSegmentDataset(test_case_path, geometry_aug=aug.get_validation_augmentation(), intensity_aug=None, \n",
    "                        identity=True, electron=ELECTRON, position=\"abdomen\", segment=N_SEGMENT, g_coord=G_COORD, l_coord=L_COORD)\n",
    "testloader = torch.utils.data.DataLoader(testset, batch_size=1, shuffle=False, num_workers=4)\n",
    "# score_ssim_test, score_psnr_test, score_snr_test, score_mae_test, \\\n",
    "#             score_air_test, score_bone_test, score_cont_test, score_tf_acc_test, score_edge_acc_test\n",
    "eval_epoch(model, tf_discriminator, edge_discriminator, testloader, device)"
   ]
  },
  {
   "cell_type": "markdown",
   "metadata": {},
   "source": [
    "# Chest"
   ]
  },
  {
   "cell_type": "code",
   "execution_count": 67,
   "metadata": {},
   "outputs": [],
   "source": [
    "test_case_path = 'chest/test/*_*'\n",
    "paths = sorted(glob.glob(test_case_path))"
   ]
  },
  {
   "cell_type": "markdown",
   "metadata": {},
   "source": [
    "## Chest on CBCT"
   ]
  },
  {
   "cell_type": "code",
   "execution_count": 68,
   "metadata": {},
   "outputs": [],
   "source": [
    "try:\n",
    "    os.mkdir(os.path.join(\"eval-gan\", run_name))\n",
    "except FileExistsError:\n",
    "    pass"
   ]
  },
  {
   "cell_type": "code",
   "execution_count": 69,
   "metadata": {},
   "outputs": [],
   "source": [
    "try:\n",
    "    os.mkdir(os.path.join(\"eval-gan\", run_name, \"chest_test_cbct\"))\n",
    "except FileExistsError:\n",
    "    pass"
   ]
  },
  {
   "cell_type": "code",
   "execution_count": 70,
   "metadata": {
    "scrolled": true
   },
   "outputs": [
    {
     "name": "stderr",
     "output_type": "stream",
     "text": [
      "49it [00:21,  2.23it/s]\n",
      "39it [00:17,  2.22it/s]\n",
      "40it [00:17,  2.23it/s]\n",
      "29it [00:13,  2.14it/s]\n",
      "35it [00:16,  2.18it/s]\n",
      "37it [00:16,  2.23it/s]\n",
      "34it [00:15,  2.20it/s]\n"
     ]
    }
   ],
   "source": [
    "# read cbct and ct\n",
    "iid = 0\n",
    "for i in range(0, len(paths), 2):\n",
    "    scans = DicomSegmentDataset(cbct_path=paths[i+1], ct_path=paths[i], \n",
    "                         geometry_aug=aug.get_validation_augmentation(), intensity_aug=None, \n",
    "                         identity=False, electron=ELECTRON, position=\"chest\", segment=N_SEGMENT, g_coord=G_COORD, l_coord=L_COORD)\n",
    "    patient_id = scans.patientID()\n",
    "    testloader = torch.utils.data.DataLoader(scans, batch_size=1, shuffle=False, num_workers=4)\n",
    "    try:\n",
    "        os.mkdir(os.path.join(\"eval-gan\", run_name, \"chest_test_cbct\", patient_id))\n",
    "    except FileExistsError:\n",
    "        pass\n",
    "    \n",
    "    test_epoch(iid, model, testloader, device, True, os.path.join(\"eval-gan\", run_name, \"chest_test_cbct\", patient_id)) \n",
    "    iid += len(scans)"
   ]
  },
  {
   "cell_type": "code",
   "execution_count": 71,
   "metadata": {},
   "outputs": [
    {
     "name": "stderr",
     "output_type": "stream",
     "text": [
      "263it [01:03,  4.15it/s]\n"
     ]
    },
    {
     "data": {
      "text/plain": [
       "(0.7481916784786906,\n",
       " 20.29864187929567,\n",
       " 9.850771158820322,\n",
       " 0.03987785061191017,\n",
       " 0.9824015778274002,\n",
       " 0.8134177358500576,\n",
       " 0.472852885723114,\n",
       " 0.48859315589353614,\n",
       " 0.5057034220532319)"
      ]
     },
     "execution_count": 71,
     "metadata": {},
     "output_type": "execute_result"
    }
   ],
   "source": [
    "testset = DicomsSegmentDataset(test_case_path, geometry_aug=aug.get_validation_augmentation(), intensity_aug=None, \n",
    "                        identity=False, electron=ELECTRON, position=\"chest\", segment=N_SEGMENT, g_coord=G_COORD, l_coord=L_COORD)\n",
    "testloader = torch.utils.data.DataLoader(testset, batch_size=1, shuffle=False, num_workers=4)\n",
    "# score_ssim_test, score_psnr_test, score_snr_test, score_mae_test, \\\n",
    "#             score_air_test, score_bone_test, score_cont_test, score_tf_acc_test, score_edge_acc_test\n",
    "eval_epoch(model, tf_discriminator, edge_discriminator, testloader, device)"
   ]
  },
  {
   "cell_type": "markdown",
   "metadata": {},
   "source": [
    "## Chest on CT"
   ]
  },
  {
   "cell_type": "code",
   "execution_count": 72,
   "metadata": {
    "scrolled": true
   },
   "outputs": [],
   "source": [
    "try:\n",
    "    os.mkdir(os.path.join(\"eval-gan\", run_name))\n",
    "except FileExistsError:\n",
    "    pass"
   ]
  },
  {
   "cell_type": "code",
   "execution_count": 73,
   "metadata": {},
   "outputs": [],
   "source": [
    "try:\n",
    "    os.mkdir(os.path.join(\"eval-gan\", run_name, \"chest_test_ct\"))\n",
    "except FileExistsError:\n",
    "    pass"
   ]
  },
  {
   "cell_type": "code",
   "execution_count": 74,
   "metadata": {
    "scrolled": true
   },
   "outputs": [
    {
     "name": "stderr",
     "output_type": "stream",
     "text": [
      "49it [00:21,  2.32it/s]\n",
      "39it [00:16,  2.34it/s]\n",
      "40it [00:17,  2.34it/s]\n",
      "29it [00:12,  2.30it/s]\n",
      "35it [00:15,  2.27it/s]\n",
      "37it [00:15,  2.33it/s]\n",
      "34it [00:15,  2.26it/s]\n"
     ]
    }
   ],
   "source": [
    "# read cbct and ct\n",
    "iid = 0\n",
    "for i in range(0, len(paths), 2):\n",
    "    scans = DicomSegmentDataset(cbct_path=paths[i+1], ct_path=paths[i], \n",
    "                         geometry_aug=aug.get_validation_augmentation(), intensity_aug=None, \n",
    "                         identity=True, electron=ELECTRON, position=\"chest\",segment=N_SEGMENT, g_coord=G_COORD, l_coord=L_COORD)\n",
    "    patient_id = scans.patientID()\n",
    "    testloader = torch.utils.data.DataLoader(scans, batch_size=1, shuffle=False, num_workers=4)\n",
    "    try:\n",
    "        os.mkdir(os.path.join(\"eval-gan\", run_name, \"chest_test_ct\", patient_id))\n",
    "    except FileExistsError:\n",
    "        pass\n",
    "    \n",
    "    test_epoch(iid, model, testloader, device, True, os.path.join(\"eval-gan\", run_name, \"chest_test_ct\", patient_id)) \n",
    "    iid += len(scans)"
   ]
  },
  {
   "cell_type": "code",
   "execution_count": 75,
   "metadata": {},
   "outputs": [
    {
     "name": "stderr",
     "output_type": "stream",
     "text": [
      "263it [01:02,  4.18it/s]\n"
     ]
    },
    {
     "data": {
      "text/plain": [
       "(0.9193297175853424,\n",
       " 27.61429377653753,\n",
       " 17.166423112267324,\n",
       " 0.015510161060259143,\n",
       " 0.9808539239033841,\n",
       " 0.787555376193136,\n",
       " 0.4231113088051629,\n",
       " 0.36311787072243346,\n",
       " 0.5038022813688213)"
      ]
     },
     "execution_count": 75,
     "metadata": {},
     "output_type": "execute_result"
    }
   ],
   "source": [
    "testset = DicomsSegmentDataset(test_case_path, geometry_aug=aug.get_validation_augmentation(), intensity_aug=None, \n",
    "                        identity=True, electron=ELECTRON, position=\"chest\", segment=N_SEGMENT, g_coord=G_COORD, l_coord=L_COORD)\n",
    "testloader = torch.utils.data.DataLoader(testset, batch_size=1, shuffle=False, num_workers=4)\n",
    "# score_ssim_test, score_psnr_test, score_snr_test, score_mae_test, \\\n",
    "#             score_air_test, score_bone_test, score_cont_test, score_tf_acc_test, score_edge_acc_test\n",
    "eval_epoch(model, tf_discriminator, edge_discriminator, testloader, device)"
   ]
  },
  {
   "cell_type": "markdown",
   "metadata": {},
   "source": [
    "# Headneck"
   ]
  },
  {
   "cell_type": "code",
   "execution_count": 76,
   "metadata": {},
   "outputs": [],
   "source": [
    "test_case_path = 'headneck/test/*_*'\n",
    "paths = sorted(glob.glob(test_case_path))"
   ]
  },
  {
   "cell_type": "markdown",
   "metadata": {},
   "source": [
    "## Headneck on CBCT"
   ]
  },
  {
   "cell_type": "code",
   "execution_count": 77,
   "metadata": {},
   "outputs": [],
   "source": [
    "try:\n",
    "    os.mkdir(os.path.join(\"eval-gan\", run_name))\n",
    "except FileExistsError:\n",
    "    pass"
   ]
  },
  {
   "cell_type": "code",
   "execution_count": 78,
   "metadata": {},
   "outputs": [],
   "source": [
    "try:\n",
    "    os.mkdir(os.path.join(\"eval-gan\", run_name, \"hn_test_cbct\"))\n",
    "except FileExistsError:\n",
    "    pass"
   ]
  },
  {
   "cell_type": "code",
   "execution_count": 79,
   "metadata": {
    "scrolled": true
   },
   "outputs": [
    {
     "name": "stderr",
     "output_type": "stream",
     "text": [
      "58it [00:24,  2.37it/s]\n",
      "55it [00:23,  2.35it/s]\n",
      "55it [00:23,  2.36it/s]\n",
      "56it [00:22,  2.50it/s]\n",
      "56it [00:22,  2.50it/s]\n",
      "55it [00:23,  2.35it/s]\n",
      "56it [00:23,  2.38it/s]\n"
     ]
    }
   ],
   "source": [
    "# read cbct and ct\n",
    "iid = 0\n",
    "for i in range(0, len(paths), 2):\n",
    "    scans = DicomSegmentDataset(cbct_path=paths[i+1], ct_path=paths[i], \n",
    "                         geometry_aug=aug.get_validation_augmentation(), intensity_aug=None, \n",
    "                         identity=False, electron=ELECTRON, position=\"headneck\", segment=N_SEGMENT, g_coord=G_COORD, l_coord=L_COORD)\n",
    "    patient_id = scans.patientID()\n",
    "    testloader = torch.utils.data.DataLoader(scans, batch_size=1, shuffle=False, num_workers=4)\n",
    "    try:\n",
    "        os.mkdir(os.path.join(\"eval-gan\", run_name, \"hn_test_cbct\", patient_id))\n",
    "    except FileExistsError:\n",
    "        pass\n",
    "    \n",
    "    test_epoch(iid, model, testloader, device, True, os.path.join(\"eval-gan\", run_name, \"hn_test_cbct\", patient_id)) \n",
    "    iid += len(scans)"
   ]
  },
  {
   "cell_type": "code",
   "execution_count": 80,
   "metadata": {},
   "outputs": [
    {
     "name": "stderr",
     "output_type": "stream",
     "text": [
      "391it [01:32,  4.22it/s]\n"
     ]
    },
    {
     "data": {
      "text/plain": [
       "(0.8644961258944344,\n",
       " 21.170285120034766,\n",
       " 7.217732420967668,\n",
       " 0.027951280007619993,\n",
       " 0.8204033668837382,\n",
       " 0.8212641206078567,\n",
       " 0.2288322842887143,\n",
       " 0.5089514066496164,\n",
       " 0.6777493606138107)"
      ]
     },
     "execution_count": 80,
     "metadata": {},
     "output_type": "execute_result"
    }
   ],
   "source": [
    "testset = DicomsSegmentDataset(test_case_path, geometry_aug=aug.get_validation_augmentation(), intensity_aug=None, \n",
    "                        identity=False, electron=ELECTRON, position=\"headneck\", segment=N_SEGMENT, g_coord=G_COORD, l_coord=L_COORD)\n",
    "testloader = torch.utils.data.DataLoader(testset, batch_size=1, shuffle=False, num_workers=4)\n",
    "# score_ssim_test, score_psnr_test, score_snr_test, score_mae_test, \\\n",
    "#             score_air_test, score_bone_test, score_cont_test, score_tf_acc_test, score_edge_acc_test\n",
    "eval_epoch(model, tf_discriminator, edge_discriminator, testloader, device)"
   ]
  },
  {
   "cell_type": "markdown",
   "metadata": {},
   "source": [
    "## Headneck on CT"
   ]
  },
  {
   "cell_type": "code",
   "execution_count": 81,
   "metadata": {
    "scrolled": true
   },
   "outputs": [],
   "source": [
    "try:\n",
    "    os.mkdir(os.path.join(\"eval-gan\", run_name))\n",
    "except FileExistsError:\n",
    "    pass"
   ]
  },
  {
   "cell_type": "code",
   "execution_count": 82,
   "metadata": {},
   "outputs": [],
   "source": [
    "try:\n",
    "    os.mkdir(os.path.join(\"eval-gan\", run_name, \"hn_test_ct\"))\n",
    "except FileExistsError:\n",
    "    pass"
   ]
  },
  {
   "cell_type": "code",
   "execution_count": 83,
   "metadata": {
    "scrolled": true
   },
   "outputs": [
    {
     "name": "stderr",
     "output_type": "stream",
     "text": [
      "58it [00:24,  2.39it/s]\n",
      "55it [00:23,  2.35it/s]\n",
      "55it [00:23,  2.36it/s]\n",
      "56it [00:23,  2.34it/s]\n",
      "56it [00:23,  2.35it/s]\n",
      "55it [00:23,  2.37it/s]\n",
      "56it [00:23,  2.35it/s]\n"
     ]
    }
   ],
   "source": [
    "# read cbct and ct\n",
    "iid = 0\n",
    "for i in range(0, len(paths), 2):\n",
    "    scans = DicomSegmentDataset(cbct_path=paths[i+1], ct_path=paths[i], \n",
    "                         geometry_aug=aug.get_validation_augmentation(), intensity_aug=None, \n",
    "                         identity=True, electron=ELECTRON, position=\"headneck\", segment=N_SEGMENT, g_coord=G_COORD, l_coord=L_COORD)\n",
    "    patient_id = scans.patientID()\n",
    "    testloader = torch.utils.data.DataLoader(scans, batch_size=1, shuffle=False, num_workers=4)\n",
    "    try:\n",
    "        os.mkdir(os.path.join(\"eval-gan\", run_name, \"hn_test_ct\", patient_id))\n",
    "    except FileExistsError:\n",
    "        pass\n",
    "    \n",
    "    test_epoch(iid, model, testloader, device, True, os.path.join(\"eval-gan\", run_name, \"hn_test_ct\", patient_id)) \n",
    "    iid += len(scans)"
   ]
  },
  {
   "cell_type": "code",
   "execution_count": 84,
   "metadata": {},
   "outputs": [
    {
     "name": "stderr",
     "output_type": "stream",
     "text": [
      "391it [01:33,  4.17it/s]\n"
     ]
    },
    {
     "data": {
      "text/plain": [
       "(0.9143856779083877,\n",
       " 25.9915285500724,\n",
       " 12.038975719295804,\n",
       " 0.016055005940768266,\n",
       " 0.8000978753554535,\n",
       " 0.8077351491387996,\n",
       " 0.2334904273776228,\n",
       " 0.4820971867007673,\n",
       " 0.6112531969309463)"
      ]
     },
     "execution_count": 84,
     "metadata": {},
     "output_type": "execute_result"
    }
   ],
   "source": [
    "testset = DicomsSegmentDataset(test_case_path, geometry_aug=aug.get_validation_augmentation(), intensity_aug=None, \n",
    "                        identity=True, electron=ELECTRON, position=\"headneck\", segment=N_SEGMENT, g_coord=G_COORD, l_coord=L_COORD)\n",
    "testloader = torch.utils.data.DataLoader(testset, batch_size=1, shuffle=False, num_workers=4)\n",
    "# score_ssim_test, score_psnr_test, score_snr_test, score_mae_test, \\\n",
    "#             score_air_test, score_bone_test, score_cont_test, score_tf_acc_test, score_edge_acc_test\n",
    "eval_epoch(model, tf_discriminator, edge_discriminator, testloader, device)"
   ]
  },
  {
   "cell_type": "code",
   "execution_count": null,
   "metadata": {},
   "outputs": [],
   "source": []
  },
  {
   "cell_type": "code",
   "execution_count": null,
   "metadata": {},
   "outputs": [],
   "source": []
  },
  {
   "cell_type": "code",
   "execution_count": null,
   "metadata": {},
   "outputs": [],
   "source": []
  }
 ],
 "metadata": {
  "kernelspec": {
   "display_name": "Python 3",
   "language": "python",
   "name": "python3"
  },
  "language_info": {
   "codemirror_mode": {
    "name": "ipython",
    "version": 3
   },
   "file_extension": ".py",
   "mimetype": "text/x-python",
   "name": "python",
   "nbconvert_exporter": "python",
   "pygments_lexer": "ipython3",
   "version": "3.8.5"
  }
 },
 "nbformat": 4,
 "nbformat_minor": 5
}
