{
 "cells": [
  {
   "cell_type": "code",
   "execution_count": 1,
   "metadata": {},
   "outputs": [],
   "source": [
    "import os\n",
    "\n",
    "import torch\n",
    "import torch.nn as nn\n",
    "import torch.nn.functional as F\n",
    "import torch.optim as optim\n",
    "from torch.utils.data import DataLoader, Subset, ConcatDataset\n",
    "\n",
    "import cv2\n",
    "import numpy as np\n",
    "import pandas as pd\n",
    "from tqdm import tqdm\n",
    "import random\n",
    "import json"
   ]
  },
  {
   "cell_type": "code",
   "execution_count": 2,
   "metadata": {},
   "outputs": [],
   "source": [
    "import segmentation_models_pytorch as smp\n",
    "from segmentation_models_pytorch.losses import DiceLoss\n",
    "from segmentation_models_pytorch.utils.metrics import IoU, Fscore, Accuracy"
   ]
  },
  {
   "cell_type": "code",
   "execution_count": 3,
   "metadata": {},
   "outputs": [],
   "source": [
    "import matplotlib.pyplot as plt\n",
    "\n",
    "# helper function for data visualization\n",
    "def visualize(**images):\n",
    "    \"\"\"PLot images in one row.\"\"\"\n",
    "    n = len(images)\n",
    "    plt.figure(figsize=(16, 5))\n",
    "    for i, (name, image) in enumerate(images.items()):\n",
    "        plt.subplot(1, n, i + 1)\n",
    "        plt.xticks([])\n",
    "        plt.yticks([])\n",
    "        plt.title(' '.join(name.split('_')).title())\n",
    "        plt.imshow(image, 'gray')\n",
    "    plt.show()"
   ]
  },
  {
   "cell_type": "code",
   "execution_count": 4,
   "metadata": {},
   "outputs": [
    {
     "name": "stdout",
     "output_type": "stream",
     "text": [
      "[0.5488135  0.71518937 0.60276338 0.54488318 0.4236548 ] tensor([ 1.5410, -0.2934, -2.1788,  0.5684, -1.0845])\n"
     ]
    }
   ],
   "source": [
    "import random\n",
    "\n",
    "SEED = 0\n",
    "random.seed(SEED)\n",
    "np.random.seed(SEED)\n",
    "torch.manual_seed(SEED)\n",
    "\n",
    "print(np.random.rand(5), torch.randn(5))"
   ]
  },
  {
   "cell_type": "markdown",
   "metadata": {},
   "source": [
    "# Settings"
   ]
  },
  {
   "cell_type": "code",
   "execution_count": 5,
   "metadata": {},
   "outputs": [],
   "source": [
    "root = os.getcwd()\n",
    "device = torch.device(\"cuda:0\" if torch.cuda.is_available() else \"cpu\")\n",
    "\n",
    "BATCH = 4\n",
    "\n",
    "GEN_IN_CHANNELS = 1\n",
    "GEN_N_CLASSES = 1\n",
    "\n",
    "DIS_IN_CHANNELS = 1\n",
    "DIS_N_CLASSES = 2\n",
    "\n",
    "E_IN_CHANNELS = 1\n",
    "E_N_CLASSES = 2\n",
    "\n",
    "EPOCH = 200"
   ]
  },
  {
   "cell_type": "markdown",
   "metadata": {},
   "source": [
    "### Model Settings"
   ]
  },
  {
   "cell_type": "markdown",
   "metadata": {},
   "source": [
    "#### encoder"
   ]
  },
  {
   "cell_type": "code",
   "execution_count": 6,
   "metadata": {},
   "outputs": [],
   "source": [
    "ENCODER = \"resnet152\"\n",
    "ENCODER_WEIGHT = None"
   ]
  },
  {
   "cell_type": "markdown",
   "metadata": {},
   "source": [
    "#### decoder"
   ]
  },
  {
   "cell_type": "code",
   "execution_count": 7,
   "metadata": {},
   "outputs": [],
   "source": [
    "DECODER_ATT = \"scse\""
   ]
  },
  {
   "cell_type": "markdown",
   "metadata": {},
   "source": [
    "#### head"
   ]
  },
  {
   "cell_type": "code",
   "execution_count": 8,
   "metadata": {},
   "outputs": [],
   "source": [
    "GEN_ACT = \"sigmoid\"\n",
    "DIS_ACT = \"softmax\"\n",
    "E_ACT = \"softmax\""
   ]
  },
  {
   "cell_type": "markdown",
   "metadata": {},
   "source": [
    "### Optimizer Settings"
   ]
  },
  {
   "cell_type": "code",
   "execution_count": 9,
   "metadata": {},
   "outputs": [],
   "source": [
    "GEN_OPTIM_NAME = \"adam\"\n",
    "GEN_init_lr = 1e-4\n",
    "GEN_momentum = 0.9"
   ]
  },
  {
   "cell_type": "code",
   "execution_count": 10,
   "metadata": {},
   "outputs": [],
   "source": [
    "DIS_OPTIM_NAME = \"adam\"\n",
    "DIS_init_lr = 1e-3\n",
    "DIS_momentum = 0.9\n",
    "DIS_scheduler = \"cosineAnnWarm\""
   ]
  },
  {
   "cell_type": "code",
   "execution_count": 11,
   "metadata": {},
   "outputs": [],
   "source": [
    "E_OPTIM_NAME = \"adam\"\n",
    "E_init_lr = 1e-3\n",
    "E_momentum = 0.9\n",
    "E_scheduler = \"cosineAnnWarm\""
   ]
  },
  {
   "cell_type": "markdown",
   "metadata": {},
   "source": [
    "# Epochs"
   ]
  },
  {
   "cell_type": "code",
   "execution_count": 12,
   "metadata": {},
   "outputs": [],
   "source": [
    "from codes.losses import SSIMLoss\n",
    "from codes.losses import MAELoss\n",
    "from pytorch_msssim import ssim\n",
    "from codes.metrics import PSNR, SNR, ContourEval\n",
    "from codes.activation import Activation\n",
    "from codes.utils import hu_clip_tensor\n",
    "from codes.losses import PerceptualLoss\n",
    "from kornia.filters.sobel import Sobel"
   ]
  },
  {
   "cell_type": "code",
   "execution_count": 13,
   "metadata": {},
   "outputs": [],
   "source": [
    "def set_requires_grad(nets, requires_grad=False):\n",
    "    \"\"\"Set requies_grad=Fasle for all the networks to avoid unnecessary computations\n",
    "    Parameters:\n",
    "    nets (network list)   -- a list of networks\n",
    "    requires_grad (bool)  -- whether the networks require gradients or not\n",
    "    \"\"\"\n",
    "    if not isinstance(nets, list):\n",
    "        nets = [nets]\n",
    "        for net in nets:\n",
    "            if net is not None:\n",
    "                for param in net.parameters():\n",
    "                    param.requires_grad = requires_grad"
   ]
  },
  {
   "cell_type": "code",
   "execution_count": 14,
   "metadata": {},
   "outputs": [],
   "source": [
    "def replace_relu_to_leakyReLU(model):\n",
    "    for child_name, child in model.named_children():\n",
    "        if isinstance(child, nn.ReLU):\n",
    "            setattr(model, child_name, nn.LeakyReLU())\n",
    "        else:\n",
    "            replace_relu_to_leakyReLU(child)"
   ]
  },
  {
   "cell_type": "code",
   "execution_count": 15,
   "metadata": {},
   "outputs": [],
   "source": [
    "def replace_bn_to_instanceNorm(model):\n",
    "    for child_name, child in model.named_children():\n",
    "        if isinstance(child, nn.BatchNorm2d):\n",
    "            bn = getattr(model, child_name)\n",
    "            setattr(model, child_name, nn.InstanceNorm2d(bn.num_features))\n",
    "        else:\n",
    "            replace_bn_to_instanceNorm(child)"
   ]
  },
  {
   "cell_type": "code",
   "execution_count": 16,
   "metadata": {},
   "outputs": [],
   "source": [
    "perceptual_ext = PerceptualLoss()"
   ]
  },
  {
   "cell_type": "code",
   "execution_count": 17,
   "metadata": {},
   "outputs": [],
   "source": [
    "sobel_filter = Sobel().to(device)"
   ]
  },
  {
   "cell_type": "code",
   "execution_count": 18,
   "metadata": {},
   "outputs": [],
   "source": [
    "def train_a2b_epoch(epoch, generator, gen_optim, \n",
    "                    tf_discriminator, tf_d_optim, tf_scheduler, \n",
    "                    edge_discriminator, edge_d_optim, edge_scheduler, \n",
    "                    dataloader, device):\n",
    "\n",
    "    # change mode to train and move to current device\n",
    "    generator = generator.eval().to(device)\n",
    "    tf_discriminator = tf_discriminator.train().to(device)\n",
    "    edge_discriminator = edge_discriminator.train().to(device)\n",
    "    \n",
    "    tf_dis_l = 0\n",
    "    edge_dis_l = 0\n",
    "    tf_gen_l = 0\n",
    "    edge_gen_l = 0\n",
    "\n",
    "    set_requires_grad(tf_discriminator, True)\n",
    "    set_requires_grad(edge_discriminator, True)\n",
    "    set_requires_grad(generator, False)\n",
    "    \n",
    "    iteration = len(dataloader)\n",
    "    \n",
    "    for index, data in tqdm(enumerate(dataloader)):\n",
    "        torch.cuda.empty_cache()\n",
    "        \n",
    "        x, y, air_x, bone_x, *_ = data\n",
    "\n",
    "        x = x.to(device)\n",
    "        y = y.to(device)\n",
    "        air_x = air_x.to(device)\n",
    "        bone_x = bone_x.to(device)\n",
    "\n",
    "        y_pr = generator(x)\n",
    "        y_pr = Activation(name=GEN_ACT)(y_pr) # zipped value to [0, 1]\n",
    "        \n",
    "        edge_x = sobel_filter(x)\n",
    "        edge_y_pr = sobel_filter(y_pr)\n",
    "        edge_y = sobel_filter(y)\n",
    "        \n",
    "       ############################\n",
    "        # (1) Update True/Fake D network: maximize log(D(x)) + log(1 - D(G(z)))\n",
    "        ###########################\n",
    "        tf_d_optim.zero_grad()\n",
    "\n",
    "        y_cls = tf_discriminator(y)\n",
    "        y_pr_cls = tf_discriminator(y_pr.detach())\n",
    "        \n",
    "        tf_dis = 0\n",
    "        for _y_cls, _y_pr_cls in zip(y_cls, y_pr_cls):\n",
    "            B, C = _y_cls.size()\n",
    "            tf_dis = nn.CrossEntropyLoss()(_y_cls.float(), torch.zeros(B, dtype=torch.long, device=device)) + \\\n",
    "                            nn.CrossEntropyLoss()(_y_pr_cls.float(), torch.ones(B, dtype=torch.long, device=device)) + \\\n",
    "                            tf_dis\n",
    "\n",
    "        tf_dis = tf_dis / (len(y_cls))\n",
    "        tf_dis.backward()\n",
    "        tf_d_optim.step()\n",
    "        tf_scheduler.step(EPOCH + index / iteration)\n",
    "        \n",
    "        tf_dis_l += tf_dis.item()\n",
    "        \n",
    "       ############################\n",
    "        # (1.1) Update Edge D network: maximize log(D(x)) + log(1 - D(G(z)))\n",
    "        ###########################        \n",
    "        edge_d_optim.zero_grad()        \n",
    " \n",
    "        edge_y_cls = edge_discriminator(edge_y)\n",
    "        edge_pr_cls = edge_discriminator(edge_y_pr.detach())\n",
    "        \n",
    "        edge_dis = 0\n",
    "        for _edge_y_cls, _edge_pr_cls in zip(edge_y_cls, edge_pr_cls):\n",
    "            B, C = _edge_y_cls.size()\n",
    "            edge_dis = nn.CrossEntropyLoss()(_edge_y_cls.float(), torch.zeros(B, dtype=torch.long, device=device)) + \\\n",
    "                                    nn.CrossEntropyLoss()(_edge_pr_cls.float(), torch.ones(B, dtype=torch.long, device=device)) + \\\n",
    "                                    edge_dis\n",
    "\n",
    "        edge_dis = edge_dis / (len(edge_y_cls))\n",
    "        edge_dis.backward()\n",
    "        edge_d_optim.step()       \n",
    "        edge_scheduler.step(EPOCH + index / iteration)\n",
    "        \n",
    "        edge_dis_l += edge_dis.item()\n",
    "\n",
    "        \n",
    "    ############################\n",
    "    # (2) Update G network: maximize log(D(G(z)))\n",
    "    ###########################\n",
    "    \n",
    "    # change mode to train and move to current device\n",
    "    generator = generator.train().to(device)\n",
    "    tf_discriminator = tf_discriminator.eval().to(device)\n",
    "    edge_discriminator = edge_discriminator.eval().to(device)\n",
    "    \n",
    "    air_l = 0\n",
    "    bone_l = 0\n",
    "    mae_l = 0\n",
    "    \n",
    "    set_requires_grad(tf_discriminator, False)\n",
    "    set_requires_grad(edge_discriminator, False)\n",
    "    set_requires_grad(generator, True)\n",
    "        \n",
    "    for index, data in tqdm(enumerate(dataloader)):\n",
    "        torch.cuda.empty_cache()\n",
    "        \n",
    "        x, y, air_x, bone_x, *_ = data\n",
    "\n",
    "        x = x.to(device)\n",
    "        y = y.to(device)\n",
    "        air_x = air_x.to(device)\n",
    "        bone_x = bone_x.to(device)\n",
    "\n",
    "        y_pr = generator(x)\n",
    "        y_pr = Activation(name=GEN_ACT)(y_pr) # zipped value to [0, 1]\n",
    "        \n",
    "        edge_x = sobel_filter(x)\n",
    "        edge_y_pr = sobel_filter(y_pr)\n",
    "        edge_y = sobel_filter(y)\n",
    "\n",
    "        gen_optim.zero_grad()\n",
    "\n",
    "        # adversarial loss\n",
    "        assert y_pr.requires_grad, \"ct_pred without gradient\"\n",
    "        assert edge_y_pr.requires_grad, \"edge without gradient\"\n",
    "        \n",
    "        y_pr_cls = tf_discriminator(y_pr)\n",
    "        tf_gen = 0\n",
    "        for _y_pr_cls in y_pr_cls:\n",
    "            tf_gen = nn.CrossEntropyLoss()(_y_pr_cls.float(), torch.zeros(_y_pr_cls.size()[0], dtype=torch.long, device=device)) + tf_gen\n",
    "        tf_gen = tf_gen / (len(y_pr_cls))\n",
    "        \n",
    "        edge_pr_cls = edge_discriminator(edge_y_pr)  \n",
    "        edge_gen = 0\n",
    "        for _edge_pr_cls in edge_pr_cls:\n",
    "            edge_gen = nn.CrossEntropyLoss()(_edge_pr_cls.float(), torch.zeros(_edge_pr_cls.size()[0], dtype=torch.long, device=device)) + edge_gen\n",
    "        edge_gen = edge_gen / (len(edge_pr_cls))\n",
    "\n",
    "        \n",
    "        # auxilary loss\n",
    "        # https://discuss.pytorch.org/t/unclear-about-weighted-bce-loss/21486/2\n",
    "        _min = -500\n",
    "        _max = 500\n",
    "        air_window = (-500, -499)\n",
    "        upper = ((air_window[1]) - (_min))/(_max-(_min))\n",
    "        lower = ((air_window[0]) - (_min))/(_max-(_min))\n",
    "        air_pr = hu_clip_tensor(y_pr.double(), (lower, upper), None, True)\n",
    "        air_loss = nn.BCELoss()(air_pr.float(), air_x.float())\n",
    "        \n",
    "        bone_window = (255, 256)\n",
    "        upper = ((bone_window[1]) - (_min))/(_max-(_min))\n",
    "        lower = ((bone_window[0]) - (_min))/(_max-(_min))\n",
    "        bone_pr = hu_clip_tensor(y_pr.double(), (lower, upper), None, True)\n",
    "        bone_loss = nn.BCELoss()(bone_pr.float(), bone_x.float())\n",
    "\n",
    "        _loss = tf_gen + edge_gen + air_loss + bone_loss\n",
    "        _loss.backward()    \n",
    "        gen_optim.step()\n",
    "\n",
    "        edge_gen_l += edge_gen.item()\n",
    "        tf_gen_l += tf_gen.item()\n",
    "        air_l += air_loss.item()\n",
    "        bone_l += bone_loss.item()\n",
    "        \n",
    "    return  air_l/(index+1), bone_l/(index+1), \\\n",
    "                    edge_gen_l/(index+1), tf_gen_l/(index+1), \\\n",
    "                    edge_dis_l/(index+1), tf_dis_l/(index+1), \\\n",
    "                    tf_scheduler.get_last_lr()[0], edge_scheduler.get_last_lr()[0]"
   ]
  },
  {
   "cell_type": "code",
   "execution_count": 19,
   "metadata": {},
   "outputs": [],
   "source": [
    "@torch.no_grad()\n",
    "def eval_epoch(generator, tf_discriminator, edge_discriminator, dataloader, device):\n",
    "  \n",
    "    # change mode to train and move to current device\n",
    "    generator = generator.eval().to(device)\n",
    "    tf_discriminator = tf_discriminator.eval().to(device)\n",
    "    edge_discriminator = edge_discriminator.eval().to(device)\n",
    "    \n",
    "    ssim_ = []\n",
    "    psnr_ = []\n",
    "    mae_ = []\n",
    "    snr_ = []\n",
    "    \n",
    "    air_ = []\n",
    "    bone_ = []\n",
    "    cont_ = []\n",
    " \n",
    "    tf_acc = []\n",
    "    edge_acc = []\n",
    "    \n",
    "    for index, data in tqdm(enumerate(dataloader)):\n",
    "\n",
    "        x, y, air_x, bone_x, *_ = data\n",
    "\n",
    "        x = x.to(device)\n",
    "        y = y.to(device)\n",
    "        air_x = air_x.to(device)\n",
    "        bone_x = bone_x.to(device)\n",
    "\n",
    "        y_pr = generator(x)\n",
    "        y_pr = Activation(name=GEN_ACT)(y_pr) # zipped value to [0, 1]\n",
    "        \n",
    "        edge_x = sobel_filter(x)\n",
    "        edge_y_pr = sobel_filter(y_pr)\n",
    "        edge_y = sobel_filter(y)\n",
    "        \n",
    "        total = x.size()[0]\n",
    "       ############################\n",
    "        # (1) Eval True/Fake D network: maximize log(D(x)) + log(1 - D(G(z)))\n",
    "        ###########################        \n",
    "        y_cls = tf_discriminator(y)\n",
    "        for _y_cls in y_cls:\n",
    "            _y_cls = Activation(name=DIS_ACT)(_y_cls)\n",
    "            _, _y_cls = torch.max(_y_cls.data, 1)\n",
    "            correct = (_y_cls == torch.zeros(total, dtype=torch.long, device=device)).sum().item()\n",
    "            tf_acc += [correct / total]        \n",
    "        \n",
    "        y_pr_cls = tf_discriminator(y_pr)\n",
    "        for _y_pr_cls in y_pr_cls:\n",
    "            _y_pr_cls = Activation(name=DIS_ACT)(_y_pr_cls)\n",
    "            _, _y_pr_cls = torch.max(_y_pr_cls.data, 1)\n",
    "            correct = (_y_pr_cls == torch.ones(total, dtype=torch.long, device=device)).sum().item()\n",
    "            tf_acc += [correct / total]\n",
    "        \n",
    "       ############################\n",
    "        # (1.1) Eval Edge D network: maximize log(D(x)) + log(1 - D(G(z)))\n",
    "        ###########################  \n",
    "        edge_y_cls = edge_discriminator(edge_y)\n",
    "        for _edge_y_cls in edge_y_cls:\n",
    "            _edge_y_cls = Activation(name=DIS_ACT)(_edge_y_cls)\n",
    "            _, _edge_y_cls = torch.max(_edge_y_cls.data, 1)\n",
    "            correct = (_edge_y_cls == torch.zeros(total, dtype=torch.long, device=device)).sum().item()\n",
    "            edge_acc += [correct / total]          \n",
    "        \n",
    "        edge_pr_cls = edge_discriminator(edge_y_pr)\n",
    "        for _edge_pr_cls in edge_pr_cls:\n",
    "            _edge_pr_cls = Activation(name=DIS_ACT)(_edge_pr_cls)\n",
    "            _, _edge_pr_cls = torch.max(_edge_pr_cls.data, 1)\n",
    "            correct = (_edge_pr_cls == torch.ones(total, dtype=torch.long, device=device)).sum().item()\n",
    "            edge_acc += [correct / total]        \n",
    "        \n",
    "        ############################\n",
    "        # (2) Eval G network: maximize log(D(G(z)))\n",
    "        ###########################\n",
    "        \n",
    "        # main\n",
    "        _ssim = ssim(y, y_pr, data_range=1.0, size_average=True) # return (N,)\n",
    "        _psnr = PSNR()(y_pr, y, 1.0)\n",
    "        _snr = SNR()(y_pr, y)\n",
    "        _mae = MAELoss()(y_pr.float(), y.float())\n",
    "\n",
    "        ssim_ += [_ssim.item()]\n",
    "        psnr_ += [_psnr.item()]\n",
    "        mae_ += [_mae.item()]\n",
    "        snr_ += [_snr.item()]\n",
    "        \n",
    "        # auxilary\n",
    "        _min = -500\n",
    "        _max = 500\n",
    "        air_window = (-500, -499)\n",
    "        upper = ((air_window[1]) - (_min))/(_max-(_min))\n",
    "        lower = ((air_window[0]) - (_min))/(_max-(_min))\n",
    "        air_pr = hu_clip_tensor(y_pr.double(), (lower, upper), None, True)\n",
    "        dice = Fscore()(air_pr, air_x)\n",
    "        air_ += [dice.item()]\n",
    "        \n",
    "        bone_window = (255, 256)\n",
    "        upper = ((bone_window[1]) - (_min))/(_max-(_min))\n",
    "        lower = ((bone_window[0]) - (_min))/(_max-(_min))\n",
    "        bone_pr = hu_clip_tensor(y_pr.double(), (lower, upper), None, True)\n",
    "        dice = Fscore()(bone_pr, bone_x)\n",
    "        bone_ += [dice.item()]\n",
    "\n",
    "        for b in range(x.size()[0]):\n",
    "            cont = ContourEval()(y_pr[b, :, :, :], x[b, :, :, :])\n",
    "            cont_ += [cont.item()]\n",
    "\n",
    "    return  sum(ssim_)/len(ssim_), sum(psnr_)/len(psnr_), sum(snr_)/len(snr_), sum(mae_)/len(mae_), \\\n",
    "                    sum(air_)/len(air_), sum(bone_)/len(bone_), sum(cont_)/len(cont_), sum(tf_acc)/len(tf_acc), sum(edge_acc)/len(edge_acc)"
   ]
  },
  {
   "cell_type": "code",
   "execution_count": 20,
   "metadata": {},
   "outputs": [],
   "source": [
    "@torch.no_grad()\n",
    "def test_epoch(iid, model, dataloader, device, save=False, path=None):\n",
    "  \n",
    "    # change mode to train and move to current device\n",
    "    model = model.eval().to(device)\n",
    "    \n",
    "    for index, data in tqdm(enumerate(dataloader)):\n",
    "\n",
    "        x, y, air_x, bone_x, *_ = data\n",
    "\n",
    "        x = x.to(device)\n",
    "        y = y.to(device)\n",
    "        air_x = air_x.to(device)\n",
    "        bone_x = bone_x.to(device)\n",
    "\n",
    "        y_pr = model(x)\n",
    "        y_pr = Activation(name=GEN_ACT)(y_pr) # zipped value to [0, 1]\n",
    "        \n",
    "        edge_x = sobel_filter(x)\n",
    "        edge_y_pr = sobel_filter(y_pr)\n",
    "        edge_y = sobel_filter(y)\n",
    "        \n",
    "        _min = -500\n",
    "        _max = 500\n",
    "        air_window = (-500, -499)\n",
    "        upper = ((air_window[1]) - (_min))/(_max-(_min))\n",
    "        lower = ((air_window[0]) - (_min))/(_max-(_min))\n",
    "        air_pr = hu_clip_tensor(y_pr.double(), (lower, upper), None, True)\n",
    "        \n",
    "        bone_window = (255, 256)\n",
    "        upper = ((bone_window[1]) - (_min))/(_max-(_min))\n",
    "        lower = ((bone_window[0]) - (_min))/(_max-(_min))\n",
    "        bone_pr = hu_clip_tensor(y_pr.double(), (lower, upper), None, True)\n",
    "\n",
    "        for b in range(x.shape[0]):           \n",
    "            tmp_y = y[b, :, :, :].unsqueeze(0)\n",
    "            tmp_y_pr = y_pr[b, :, :, :].unsqueeze(0)\n",
    "            tmp_air = air_x[b, :, :, :].unsqueeze(0)\n",
    "            tmp_air_pr = air_pr[b, :, :, :].unsqueeze(0)\n",
    "            tmp_bone = bone_x[b, :, :, :].unsqueeze(0)\n",
    "            tmp_bone_pr = bone_pr[b, :, :, :].unsqueeze(0)\n",
    "            \n",
    "            _ssim = ssim(tmp_y, tmp_y_pr, data_range=1.0, size_average=True) # return (N,)\n",
    "            _psnr = PSNR()(tmp_y_pr, tmp_y, 1.0)\n",
    "            _snr = SNR()(tmp_y_pr, tmp_y)\n",
    "            _mae = MAELoss()(tmp_y_pr.float(), tmp_y.float())\n",
    "            _air = Fscore()(tmp_air_pr, tmp_air)\n",
    "            _bone = Fscore()(tmp_bone_pr, tmp_bone)\n",
    "            _cont = ContourEval()(tmp_y_pr, x[b, :, :, :])\n",
    "            \n",
    "            scores = {\n",
    "                \"ssim score\": _ssim.item(),\n",
    "                \"psnr score\": _psnr.item(),\n",
    "                \"snr score\": _snr.item(),\n",
    "                \"mae error\": _mae.item(),\n",
    "                \"air dice score\": _air.item(),\n",
    "                \"bone dice score\": _bone.item(),\n",
    "                \"contour dice score\": _cont.item()\n",
    "            }\n",
    "            \n",
    "            __cbct = (x.squeeze().cpu().numpy() * 255).astype(np.uint8)\n",
    "            __ct = (tmp_y.squeeze().cpu().numpy() * 255).astype(np.uint8)\n",
    "            __ct_pred = (tmp_y_pr.squeeze().cpu().numpy() * 255).astype(np.uint8)\n",
    "            __ct_masked = __ct_pred * tmp_air.squeeze().cpu().numpy()\n",
    "            __air = (tmp_air.squeeze().cpu().numpy() * 255).astype(np.uint8)\n",
    "            __air_pr = (tmp_air_pr.squeeze().cpu().numpy() * 255).astype(np.uint8)\n",
    "            __bone = (tmp_bone.squeeze().cpu().numpy() * 255).astype(np.uint8)\n",
    "            __bone_pr = (tmp_bone_pr.squeeze().cpu().numpy() * 255).astype(np.uint8)\n",
    "            __edge_pr = (edge_y_pr[b, :].squeeze().cpu().numpy() * 255).astype(np.uint8)\n",
    "            __edge_x = (edge_x.squeeze().cpu().numpy() * 255).astype(np.uint8)\n",
    "            __edge_y = (edge_y.squeeze().cpu().numpy() * 255).astype(np.uint8)\n",
    "            \n",
    "#             visualize(\n",
    "#                 cbct = __cbct,\n",
    "#                 ct_y = __ct,\n",
    "#                 ct_pred = __ct_pred,\n",
    "#                 edge_pred = __edge_pr,\n",
    "#                 edge_x = __edge_x,\n",
    "#                 edge_y = __edge_y,\n",
    "#                 air = __air,\n",
    "#                 air_pr = __air_pr,\n",
    "#                 bone = __bone,\n",
    "#                 bone_pr = __bone_pr\n",
    "#             )\n",
    "            \n",
    "            if save:\n",
    "                path_dir = os.path.join(path, \"file_{}\".format(iid))\n",
    "                try:\n",
    "                    os.mkdir(path_dir)\n",
    "                except FileExistsError:\n",
    "                    pass\n",
    "                \n",
    "                cv2.imwrite(os.path.join(path_dir, \"cbct.jpg\"), __cbct)\n",
    "                cv2.imwrite(os.path.join(path_dir, \"ct.jpg\"), __ct)\n",
    "                cv2.imwrite(os.path.join(path_dir, \"ct_pred.jpg\"), __ct_pred)\n",
    "                cv2.imwrite(os.path.join(path_dir, \"air.jpg\"), __air)\n",
    "                cv2.imwrite(os.path.join(path_dir, \"air_pred.jpg\"), __air_pr)\n",
    "                cv2.imwrite(os.path.join(path_dir, \"bone.jpg\"), __bone)\n",
    "                cv2.imwrite(os.path.join(path_dir, \"bone_pred.jpg\"), __bone_pr)\n",
    "                cv2.imwrite(os.path.join(path_dir, \"edge_pred.jpg\"), __edge_pr)\n",
    "                cv2.imwrite(os.path.join(path_dir, \"edge_cbct.jpg\"), __edge_x)\n",
    "                cv2.imwrite(os.path.join(path_dir, \"edge_ct.jpg\"), __edge_y)\n",
    "                with open(os.path.join(path_dir, \"scores.txt\"), \"w\") as file:\n",
    "                    file.write(json.dumps(scores))                \n",
    "            iid += 1"
   ]
  },
  {
   "cell_type": "markdown",
   "metadata": {},
   "source": [
    "# Discriminator"
   ]
  },
  {
   "cell_type": "code",
   "execution_count": 150,
   "metadata": {},
   "outputs": [],
   "source": [
    "from codes.activation import Activation\n",
    "import torchvision.models as models\n",
    "from codes.losses import MultiScaleHeads"
   ]
  },
  {
   "cell_type": "code",
   "execution_count": 151,
   "metadata": {},
   "outputs": [],
   "source": [
    "class Discriminator(nn.Module):\n",
    "    def __init__(self, in_channel=1, n_classes=2, activation=None):\n",
    "        \n",
    "        super(Discriminator, self).__init__()\n",
    "        \n",
    "        encoder = smp.Unet(encoder_name=\"resnet18\", in_channels=in_channel, classes=n_classes).encoder\n",
    "        self.encoder = encoder\n",
    "        self.fc = MultiScaleHeads(n_classes=n_classes, channels=(512, ), activation=None)\n",
    "        \n",
    "    def forward(self, x):\n",
    "        x = self.encoder(x)\n",
    "        x = self.fc([x[-1]])\n",
    "        return x"
   ]
  },
  {
   "cell_type": "markdown",
   "metadata": {},
   "source": [
    "# Generator"
   ]
  },
  {
   "cell_type": "code",
   "execution_count": 152,
   "metadata": {},
   "outputs": [],
   "source": [
    "import segmentation_models_pytorch as smp\n",
    "from codes.decoder import UnetDecoder\n",
    "from segmentation_models_pytorch.base.heads import SegmentationHead"
   ]
  },
  {
   "cell_type": "code",
   "execution_count": 153,
   "metadata": {},
   "outputs": [],
   "source": [
    "class Generator(nn.Module):\n",
    "    def __init__(self, encoder_name, encoder_weights, in_channels, classes, attention_type):\n",
    "        \n",
    "        super(Generator, self).__init__()\n",
    "        \n",
    "        self.encoder = smp.Unet(encoder_name=encoder_name, encoder_weights=encoder_weights, in_channels=in_channels, classes=classes).encoder\n",
    "        self.decoder = UnetDecoder(\n",
    "                            encoder_channels=[in_channels, 0, 0, 0, 0, 2048],\n",
    "                            decoder_channels=[512, 256, 128, 64, 16],\n",
    "                            n_blocks=5,\n",
    "                            use_batchnorm=True,\n",
    "                            attention_type=attention_type)\n",
    "        self.head =  SegmentationHead(\n",
    "                        in_channels=16,\n",
    "                        out_channels=classes,\n",
    "                        activation=None)\n",
    "        \n",
    "        \n",
    "    def forward(self, x):\n",
    "        x = self.encoder(x)[-1]\n",
    "        x = self.decoder(*(None, None, None, None, x))\n",
    "        x = self.head(x)\n",
    "        \n",
    "        return x"
   ]
  },
  {
   "cell_type": "markdown",
   "metadata": {},
   "source": [
    "# Read Data"
   ]
  },
  {
   "cell_type": "code",
   "execution_count": 154,
   "metadata": {},
   "outputs": [],
   "source": [
    "import glob\n",
    "from codes.dataset import Dataset, DicomDataset, DicomsDataset\n",
    "import codes.augmentation as aug"
   ]
  },
  {
   "cell_type": "code",
   "execution_count": 283,
   "metadata": {},
   "outputs": [],
   "source": [
    "# run_name = wandb.run.name\n",
    "run_name = \"blooming-forest-194\""
   ]
  },
  {
   "cell_type": "code",
   "execution_count": 284,
   "metadata": {},
   "outputs": [],
   "source": [
    "checkpoint = torch.load(os.path.join(\"weight-gan\", \"{}.pth\".format(run_name)))"
   ]
  },
  {
   "cell_type": "code",
   "execution_count": 285,
   "metadata": {},
   "outputs": [
    {
     "data": {
      "text/plain": [
       "<All keys matched successfully>"
      ]
     },
     "execution_count": 285,
     "metadata": {},
     "output_type": "execute_result"
    }
   ],
   "source": [
    "model = smp.Unet(encoder_name=ENCODER, \n",
    "                  encoder_weights=ENCODER_WEIGHT, \n",
    "                  in_channels=GEN_IN_CHANNELS, \n",
    "                  classes=GEN_N_CLASSES,\n",
    "                 decoder_attention_type=DECODER_ATT)\n",
    "replace_relu_to_leakyReLU(model)\n",
    "replace_bn_to_instanceNorm(model)\n",
    "model.load_state_dict(checkpoint[\"model\"])"
   ]
  },
  {
   "cell_type": "code",
   "execution_count": 286,
   "metadata": {},
   "outputs": [
    {
     "data": {
      "text/plain": [
       "<All keys matched successfully>"
      ]
     },
     "execution_count": 286,
     "metadata": {},
     "output_type": "execute_result"
    }
   ],
   "source": [
    "tf_discriminator = Discriminator(in_channel=DIS_IN_CHANNELS, n_classes=DIS_N_CLASSES, activation=DIS_ACT)\n",
    "replace_relu_to_leakyReLU(tf_discriminator)\n",
    "replace_bn_to_instanceNorm(tf_discriminator)\n",
    "tf_discriminator.load_state_dict(checkpoint[\"tf_discriminator\"])"
   ]
  },
  {
   "cell_type": "code",
   "execution_count": 287,
   "metadata": {},
   "outputs": [
    {
     "data": {
      "text/plain": [
       "<All keys matched successfully>"
      ]
     },
     "execution_count": 287,
     "metadata": {},
     "output_type": "execute_result"
    }
   ],
   "source": [
    "edge_discriminator = Discriminator(in_channel=E_IN_CHANNELS, n_classes=E_N_CLASSES, activation=E_ACT)\n",
    "replace_relu_to_leakyReLU(edge_discriminator)\n",
    "replace_bn_to_instanceNorm(edge_discriminator)\n",
    "edge_discriminator.load_state_dict(checkpoint[\"edge_discriminator\"])"
   ]
  },
  {
   "cell_type": "markdown",
   "metadata": {},
   "source": [
    "# Pelvic"
   ]
  },
  {
   "cell_type": "markdown",
   "metadata": {},
   "source": [
    "## Pelvic Test CBCT"
   ]
  },
  {
   "cell_type": "code",
   "execution_count": 288,
   "metadata": {},
   "outputs": [],
   "source": [
    "test_case_path = 'raw/test/*_*'\n",
    "paths = sorted(glob.glob(test_case_path))"
   ]
  },
  {
   "cell_type": "code",
   "execution_count": 289,
   "metadata": {},
   "outputs": [],
   "source": [
    "try:\n",
    "    os.mkdir(os.path.join(\"eval-gan\", run_name))\n",
    "except FileExistsError:\n",
    "    pass"
   ]
  },
  {
   "cell_type": "code",
   "execution_count": 290,
   "metadata": {},
   "outputs": [],
   "source": [
    "try:\n",
    "    os.mkdir(os.path.join(\"eval-gan\", run_name, \"test_pelvic_cbct\"))\n",
    "except FileExistsError:\n",
    "    pass"
   ]
  },
  {
   "cell_type": "code",
   "execution_count": 291,
   "metadata": {},
   "outputs": [
    {
     "name": "stderr",
     "output_type": "stream",
     "text": [
      "28it [00:03,  7.31it/s]\n",
      "27it [00:03,  7.40it/s]\n",
      "26it [00:03,  7.24it/s]\n",
      "28it [00:03,  7.79it/s]\n",
      "27it [00:03,  7.62it/s]\n",
      "28it [00:03,  7.74it/s]\n",
      "27it [00:03,  7.71it/s]\n"
     ]
    }
   ],
   "source": [
    "# read cbct and ct\n",
    "iid = 0\n",
    "for i in range(0, len(paths), 2):\n",
    "    scans = DicomDataset(cbct_path=paths[i+1], ct_path=paths[i], ditch=3, geometry_aug=aug.get_validation_augmentation(), intensity_aug=None, identity=False)\n",
    "    patient_id = scans.patientID()\n",
    "    testloader = torch.utils.data.DataLoader(scans, batch_size=1, shuffle=False, num_workers=4)\n",
    "    try:\n",
    "        os.mkdir(os.path.join(\"eval-gan\", run_name, \"test_pelvic_cbct\", patient_id))\n",
    "    except FileExistsError:\n",
    "        pass\n",
    "    \n",
    "    test_epoch(iid, model, testloader, device, True, os.path.join(\"eval-gan\", run_name, \"test_pelvic_cbct\", patient_id)) \n",
    "    iid += len(scans)"
   ]
  },
  {
   "cell_type": "code",
   "execution_count": 292,
   "metadata": {},
   "outputs": [
    {
     "name": "stderr",
     "output_type": "stream",
     "text": [
      "191it [00:26,  7.26it/s]\n"
     ]
    },
    {
     "data": {
      "text/plain": [
       "(0.816393548281405,\n",
       " 22.39385401141581,\n",
       " 13.39812601798492,\n",
       " 0.033408576593349115,\n",
       " 0.9970853662754303,\n",
       " 0.7770097746557998,\n",
       " 0.45508248830965053,\n",
       " 0.4109947643979058,\n",
       " 0.3507853403141361)"
      ]
     },
     "execution_count": 292,
     "metadata": {},
     "output_type": "execute_result"
    }
   ],
   "source": [
    "testset = DicomsDataset(test_case_path, geometry_aug=aug.get_validation_augmentation(), intensity_aug=None, identity=False)\n",
    "testloader = torch.utils.data.DataLoader(testset, batch_size=1, shuffle=False, num_workers=4)\n",
    "# score_ssim_test, score_psnr_test, score_snr_test, score_mae_test, \\\n",
    "#             score_air_test, score_bone_test, score_cont_test, score_tf_acc_test, score_edge_acc_test\n",
    "eval_epoch(model, tf_discriminator, edge_discriminator, testloader, device)"
   ]
  },
  {
   "cell_type": "markdown",
   "metadata": {},
   "source": [
    "## Pelvic Test CT"
   ]
  },
  {
   "cell_type": "code",
   "execution_count": 293,
   "metadata": {},
   "outputs": [],
   "source": [
    "test_case_path = 'raw/test/*_*'\n",
    "paths = sorted(glob.glob(test_case_path))"
   ]
  },
  {
   "cell_type": "code",
   "execution_count": 294,
   "metadata": {},
   "outputs": [],
   "source": [
    "try:\n",
    "    os.mkdir(os.path.join(\"eval-gan\", run_name))\n",
    "except FileExistsError:\n",
    "    pass"
   ]
  },
  {
   "cell_type": "code",
   "execution_count": 295,
   "metadata": {},
   "outputs": [],
   "source": [
    "try:\n",
    "    os.mkdir(os.path.join(\"eval-gan\", run_name, \"test_pelvic_ct\"))\n",
    "except FileExistsError:\n",
    "    pass"
   ]
  },
  {
   "cell_type": "code",
   "execution_count": 296,
   "metadata": {},
   "outputs": [
    {
     "name": "stderr",
     "output_type": "stream",
     "text": [
      "28it [00:03,  7.42it/s]\n",
      "27it [00:03,  7.60it/s]\n",
      "26it [00:03,  7.42it/s]\n",
      "28it [00:03,  7.17it/s]\n",
      "27it [00:03,  7.45it/s]\n",
      "28it [00:03,  7.16it/s]\n",
      "27it [00:03,  7.11it/s]\n"
     ]
    }
   ],
   "source": [
    "# read cbct and ct\n",
    "iid = 0\n",
    "for i in range(0, len(paths), 2):\n",
    "    scans = DicomDataset(cbct_path=paths[i+1], ct_path=paths[i], ditch=3, geometry_aug=aug.get_validation_augmentation(), intensity_aug=None, identity=True)\n",
    "    patient_id = scans.patientID()\n",
    "    testloader = torch.utils.data.DataLoader(scans, batch_size=1, shuffle=False, num_workers=4)\n",
    "    try:\n",
    "        os.mkdir(os.path.join(\"eval-gan\", run_name, \"test_pelvic_ct\", patient_id))\n",
    "    except FileExistsError:\n",
    "        pass\n",
    "    \n",
    "    test_epoch(iid, model, testloader, device, True, os.path.join(\"eval-gan\", run_name, \"test_pelvic_ct\", patient_id)) \n",
    "    iid += len(scans)"
   ]
  },
  {
   "cell_type": "code",
   "execution_count": 297,
   "metadata": {},
   "outputs": [
    {
     "name": "stderr",
     "output_type": "stream",
     "text": [
      "191it [00:25,  7.42it/s]\n"
     ]
    },
    {
     "data": {
      "text/plain": [
       "(0.8726846697442818,\n",
       " 25.19934069049296,\n",
       " 16.203612697062066,\n",
       " 0.025859500656967387,\n",
       " 0.9967835329489442,\n",
       " 0.7607820955088777,\n",
       " 0.4537374430301926,\n",
       " 0.41361256544502617,\n",
       " 0.39267015706806285)"
      ]
     },
     "execution_count": 297,
     "metadata": {},
     "output_type": "execute_result"
    }
   ],
   "source": [
    "testset = DicomsDataset(test_case_path, geometry_aug=aug.get_validation_augmentation(), intensity_aug=None, identity=True)\n",
    "testloader = torch.utils.data.DataLoader(testset, batch_size=1, shuffle=False, num_workers=4)\n",
    "# score_ssim_test, score_psnr_test, score_snr_test, score_mae_test, \\\n",
    "#             score_air_test, score_bone_test, score_cont_test, score_tf_acc_test, score_edge_acc_test\n",
    "eval_epoch(model, tf_discriminator, edge_discriminator, testloader, device)"
   ]
  },
  {
   "cell_type": "markdown",
   "metadata": {},
   "source": [
    "## Pelvic L1 CBCT"
   ]
  },
  {
   "cell_type": "code",
   "execution_count": 298,
   "metadata": {},
   "outputs": [],
   "source": [
    "test_case_path = 'L1_pelvic_processed/reg_pelvic_l1/*_*'\n",
    "paths = sorted(glob.glob(test_case_path))"
   ]
  },
  {
   "cell_type": "code",
   "execution_count": 299,
   "metadata": {},
   "outputs": [],
   "source": [
    "try:\n",
    "    os.mkdir(os.path.join(\"eval-gan\", run_name))\n",
    "except FileExistsError:\n",
    "    pass"
   ]
  },
  {
   "cell_type": "code",
   "execution_count": 300,
   "metadata": {},
   "outputs": [],
   "source": [
    "try:\n",
    "    os.mkdir(os.path.join(\"eval-gan\", run_name, \"L1_pelvic_cbct\"))\n",
    "except FileExistsError:\n",
    "    pass"
   ]
  },
  {
   "cell_type": "code",
   "execution_count": 301,
   "metadata": {
    "scrolled": true
   },
   "outputs": [
    {
     "name": "stderr",
     "output_type": "stream",
     "text": [
      "29it [00:03,  7.62it/s]\n",
      "26it [00:03,  7.44it/s]\n",
      "28it [00:03,  7.31it/s]\n",
      "28it [00:03,  7.21it/s]\n",
      "27it [00:03,  7.37it/s]\n",
      "26it [00:03,  7.24it/s]\n",
      "27it [00:03,  7.22it/s]\n",
      "30it [00:04,  7.31it/s]\n",
      "28it [00:03,  7.57it/s]\n",
      "29it [00:03,  7.31it/s]\n",
      "29it [00:03,  7.28it/s]\n",
      "27it [00:03,  7.23it/s]\n",
      "28it [00:03,  7.42it/s]\n",
      "26it [00:03,  7.08it/s]\n",
      "28it [00:03,  7.25it/s]\n",
      "28it [00:03,  7.43it/s]\n",
      "27it [00:04,  5.65it/s]\n",
      "26it [00:03,  7.32it/s]\n",
      "27it [00:03,  7.39it/s]\n",
      "29it [00:04,  7.16it/s]\n",
      "30it [00:04,  7.30it/s]\n",
      "32it [00:04,  7.31it/s]\n",
      "28it [00:03,  7.22it/s]\n",
      "28it [00:03,  7.24it/s]\n",
      "15it [00:02,  6.69it/s]\n",
      "28it [00:03,  7.84it/s]\n",
      "26it [00:03,  6.88it/s]\n",
      "28it [00:03,  7.15it/s]\n",
      "26it [00:03,  7.72it/s]\n",
      "27it [00:03,  7.53it/s]\n",
      "36it [00:04,  7.54it/s]\n",
      "28it [00:03,  7.36it/s]\n",
      "27it [00:03,  7.11it/s]\n",
      "28it [00:03,  7.71it/s]\n",
      "30it [00:03,  7.54it/s]\n",
      "27it [00:03,  7.49it/s]\n",
      "26it [00:03,  7.02it/s]\n",
      "29it [00:03,  7.33it/s]\n",
      "27it [00:03,  7.29it/s]\n",
      "27it [00:03,  7.25it/s]\n",
      "28it [00:03,  7.26it/s]\n",
      "26it [00:03,  7.30it/s]\n",
      "26it [00:03,  7.19it/s]\n",
      "29it [00:03,  7.47it/s]\n",
      "28it [00:03,  7.34it/s]\n",
      "27it [00:03,  7.19it/s]\n",
      "30it [00:04,  7.37it/s]\n",
      "27it [00:03,  7.48it/s]\n",
      "130it [00:14,  9.16it/s]\n"
     ]
    }
   ],
   "source": [
    "# read cbct and ct\n",
    "iid = 0\n",
    "for i in range(0, len(paths), 2):\n",
    "    scans = DicomDataset(cbct_path=paths[i+1], ct_path=paths[i], ditch=3, geometry_aug=aug.get_validation_augmentation(), intensity_aug=None, identity=False)\n",
    "    patient_id = scans.patientID()\n",
    "    testloader = torch.utils.data.DataLoader(scans, batch_size=1, shuffle=False, num_workers=4)\n",
    "    try:\n",
    "        os.mkdir(os.path.join(\"eval-gan\", run_name, \"L1_pelvic_cbct\", patient_id))\n",
    "    except FileExistsError:\n",
    "        pass\n",
    "    \n",
    "    test_epoch(iid, model, testloader, device, True, os.path.join(\"eval-gan\", run_name, \"L1_pelvic_cbct\", patient_id)) \n",
    "    iid += len(scans)"
   ]
  },
  {
   "cell_type": "code",
   "execution_count": 302,
   "metadata": {},
   "outputs": [
    {
     "name": "stderr",
     "output_type": "stream",
     "text": [
      "1457it [03:17,  7.36it/s]\n"
     ]
    },
    {
     "data": {
      "text/plain": [
       "(0.8082294673975314,\n",
       " 22.113653167928828,\n",
       " 12.91263544060387,\n",
       " 0.034371599608708836,\n",
       " 0.9964297319017524,\n",
       " 0.7752101646039276,\n",
       " 0.46422375087973367,\n",
       " 0.42587508579272476,\n",
       " 0.39052848318462596)"
      ]
     },
     "execution_count": 302,
     "metadata": {},
     "output_type": "execute_result"
    }
   ],
   "source": [
    "testset = DicomsDataset(test_case_path, geometry_aug=aug.get_validation_augmentation(), intensity_aug=None, identity=False)\n",
    "testloader = torch.utils.data.DataLoader(testset, batch_size=1, shuffle=False, num_workers=4)\n",
    "# score_ssim_test, score_psnr_test, score_snr_test, score_mae_test, \\\n",
    "#             score_air_test, score_bone_test, score_cont_test, score_tf_acc_test, score_edge_acc_test\n",
    "eval_epoch(model, tf_discriminator, edge_discriminator, testloader, device)"
   ]
  },
  {
   "cell_type": "markdown",
   "metadata": {},
   "source": [
    "## Pelvic L1 CT"
   ]
  },
  {
   "cell_type": "code",
   "execution_count": 303,
   "metadata": {},
   "outputs": [],
   "source": [
    "test_case_path = 'L1_pelvic_processed/reg_pelvic_l1/*_*'\n",
    "paths = sorted(glob.glob(test_case_path))"
   ]
  },
  {
   "cell_type": "code",
   "execution_count": 304,
   "metadata": {},
   "outputs": [],
   "source": [
    "try:\n",
    "    os.mkdir(os.path.join(\"eval-gan\", run_name))\n",
    "except FileExistsError:\n",
    "    pass"
   ]
  },
  {
   "cell_type": "code",
   "execution_count": 305,
   "metadata": {},
   "outputs": [],
   "source": [
    "try:\n",
    "    os.mkdir(os.path.join(\"eval-gan\", run_name, \"L1_pelvic_ct\"))\n",
    "except FileExistsError:\n",
    "    pass"
   ]
  },
  {
   "cell_type": "code",
   "execution_count": 306,
   "metadata": {
    "scrolled": true
   },
   "outputs": [
    {
     "name": "stderr",
     "output_type": "stream",
     "text": [
      "29it [00:03,  7.47it/s]\n",
      "26it [00:03,  7.36it/s]\n",
      "28it [00:04,  6.45it/s]\n",
      "28it [00:03,  7.61it/s]\n",
      "27it [00:03,  7.54it/s]\n",
      "26it [00:03,  7.34it/s]\n",
      "27it [00:03,  7.37it/s]\n",
      "30it [00:03,  7.59it/s]\n",
      "28it [00:03,  7.14it/s]\n",
      "29it [00:03,  7.56it/s]\n",
      "29it [00:03,  7.42it/s]\n",
      "27it [00:03,  7.57it/s]\n",
      "28it [00:03,  8.10it/s]\n",
      "26it [00:03,  7.02it/s]\n",
      "28it [00:03,  8.10it/s]\n",
      "28it [00:03,  7.14it/s]\n",
      "27it [00:03,  7.23it/s]\n",
      "26it [00:03,  7.25it/s]\n",
      "27it [00:03,  7.26it/s]\n",
      "29it [00:04,  7.15it/s]\n",
      "30it [00:03,  7.54it/s]\n",
      "32it [00:04,  7.66it/s]\n",
      "28it [00:03,  7.23it/s]\n",
      "28it [00:03,  7.38it/s]\n",
      "15it [00:02,  7.08it/s]\n",
      "28it [00:03,  7.25it/s]\n",
      "26it [00:03,  7.10it/s]\n",
      "28it [00:03,  7.32it/s]\n",
      "26it [00:03,  7.12it/s]\n",
      "27it [00:03,  7.21it/s]\n",
      "36it [00:04,  7.31it/s]\n",
      "28it [00:03,  7.30it/s]\n",
      "27it [00:03,  7.15it/s]\n",
      "28it [00:03,  8.20it/s]\n",
      "30it [00:03,  8.84it/s]\n",
      "27it [00:03,  8.47it/s]\n",
      "26it [00:03,  8.35it/s]\n",
      "29it [00:03,  9.08it/s]\n",
      "27it [00:02,  9.22it/s]\n",
      "27it [00:03,  8.94it/s]\n",
      "28it [00:03,  8.57it/s]\n",
      "26it [00:02,  8.91it/s]\n",
      "26it [00:03,  8.53it/s]\n",
      "29it [00:03,  9.06it/s]\n",
      "28it [00:03,  9.20it/s]\n",
      "27it [00:03,  8.81it/s]\n",
      "30it [00:04,  7.35it/s]\n",
      "27it [00:03,  7.34it/s]\n",
      "130it [00:15,  8.17it/s]\n"
     ]
    }
   ],
   "source": [
    "# read cbct and ct\n",
    "iid = 0\n",
    "for i in range(0, len(paths), 2):\n",
    "    scans = DicomDataset(cbct_path=paths[i+1], ct_path=paths[i], ditch=3, geometry_aug=aug.get_validation_augmentation(), intensity_aug=None, identity=True)\n",
    "    patient_id = scans.patientID()\n",
    "    testloader = torch.utils.data.DataLoader(scans, batch_size=1, shuffle=False, num_workers=4)\n",
    "    try:\n",
    "        os.mkdir(os.path.join(\"eval-gan\", run_name, \"L1_pelvic_ct\", patient_id))\n",
    "    except FileExistsError:\n",
    "        pass\n",
    "    \n",
    "    test_epoch(iid, model, testloader, device, True, os.path.join(\"eval-gan\", run_name, \"L1_pelvic_ct\", patient_id)) \n",
    "    iid += len(scans)"
   ]
  },
  {
   "cell_type": "code",
   "execution_count": 307,
   "metadata": {},
   "outputs": [
    {
     "name": "stderr",
     "output_type": "stream",
     "text": [
      "1457it [03:20,  7.26it/s]\n"
     ]
    },
    {
     "data": {
      "text/plain": [
       "(0.8709325780996167,\n",
       " 25.52381029829393,\n",
       " 16.32279266260549,\n",
       " 0.02508310821705083,\n",
       " 0.9969734139061494,\n",
       " 0.7785591655148265,\n",
       " 0.47032371133709083,\n",
       " 0.43308167467398767,\n",
       " 0.4118050789293068)"
      ]
     },
     "execution_count": 307,
     "metadata": {},
     "output_type": "execute_result"
    }
   ],
   "source": [
    "testset = DicomsDataset(test_case_path, geometry_aug=aug.get_validation_augmentation(), intensity_aug=None, identity=True)\n",
    "testloader = torch.utils.data.DataLoader(testset, batch_size=1, shuffle=False, num_workers=4)\n",
    "# score_ssim_test, score_psnr_test, score_snr_test, score_mae_test, \\\n",
    "#             score_air_test, score_bone_test, score_cont_test, score_tf_acc_test, score_edge_acc_test\n",
    "eval_epoch(model, tf_discriminator, edge_discriminator, testloader, device)"
   ]
  },
  {
   "cell_type": "markdown",
   "metadata": {},
   "source": [
    "## Pelvic L2 CBCT"
   ]
  },
  {
   "cell_type": "code",
   "execution_count": 308,
   "metadata": {},
   "outputs": [],
   "source": [
    "test_case_path = 'L2_pelvic_processed/reg_pelvic_l2/*_*'\n",
    "paths = sorted(glob.glob(test_case_path))"
   ]
  },
  {
   "cell_type": "code",
   "execution_count": 309,
   "metadata": {},
   "outputs": [],
   "source": [
    "try:\n",
    "    os.mkdir(os.path.join(\"eval-gan\", run_name))\n",
    "except FileExistsError:\n",
    "    pass"
   ]
  },
  {
   "cell_type": "code",
   "execution_count": 310,
   "metadata": {},
   "outputs": [],
   "source": [
    "try:\n",
    "    os.mkdir(os.path.join(\"eval-gan\", run_name, \"L2_pelvic_cbct\"))\n",
    "except FileExistsError:\n",
    "    pass"
   ]
  },
  {
   "cell_type": "code",
   "execution_count": 311,
   "metadata": {
    "scrolled": true
   },
   "outputs": [
    {
     "name": "stderr",
     "output_type": "stream",
     "text": [
      "26it [00:03,  7.20it/s]\n",
      "26it [00:03,  8.07it/s]\n",
      "26it [00:03,  7.73it/s]\n",
      "27it [00:03,  7.06it/s]\n",
      "31it [00:04,  7.07it/s]\n",
      "27it [00:03,  7.28it/s]\n",
      "27it [00:03,  7.05it/s]\n",
      "26it [00:03,  7.20it/s]\n",
      "28it [00:03,  7.23it/s]\n",
      "28it [00:03,  7.29it/s]\n",
      "27it [00:03,  7.37it/s]\n",
      "27it [00:03,  7.18it/s]\n",
      "26it [00:03,  7.30it/s]\n",
      "26it [00:03,  7.31it/s]\n",
      "26it [00:03,  7.28it/s]\n",
      "26it [00:03,  7.47it/s]\n",
      "26it [00:03,  7.36it/s]\n",
      "26it [00:03,  7.34it/s]\n",
      "27it [00:03,  7.23it/s]\n",
      "26it [00:03,  6.78it/s]\n",
      "26it [00:04,  6.47it/s]\n",
      "28it [00:03,  7.67it/s]\n",
      "28it [00:03,  7.81it/s]\n",
      "29it [00:03,  7.58it/s]\n",
      "28it [00:03,  7.67it/s]\n",
      "26it [00:03,  7.61it/s]\n",
      "27it [00:03,  7.68it/s]\n",
      "26it [00:03,  7.62it/s]\n",
      "28it [00:03,  8.76it/s]\n",
      "30it [00:03,  7.60it/s]\n",
      "27it [00:03,  7.28it/s]\n",
      "29it [00:03,  7.46it/s]\n",
      "27it [00:03,  7.64it/s]\n",
      "27it [00:03,  7.45it/s]\n",
      "26it [00:03,  7.12it/s]\n",
      "26it [00:03,  7.37it/s]\n",
      "26it [00:03,  7.54it/s]\n",
      "26it [00:03,  7.27it/s]\n",
      "27it [00:03,  7.56it/s]\n",
      "26it [00:03,  7.07it/s]\n",
      "26it [00:03,  7.34it/s]\n",
      "26it [00:03,  8.65it/s]\n",
      "27it [00:03,  7.70it/s]\n",
      "28it [00:03,  8.20it/s]\n",
      "27it [00:03,  7.31it/s]\n",
      "26it [00:03,  7.10it/s]\n",
      "29it [00:03,  7.34it/s]\n",
      "26it [00:03,  7.25it/s]\n",
      "27it [00:03,  7.33it/s]\n",
      "26it [00:03,  7.13it/s]\n",
      "26it [00:03,  7.28it/s]\n",
      "26it [00:03,  7.20it/s]\n",
      "27it [00:03,  7.17it/s]\n",
      "27it [00:03,  7.13it/s]\n",
      "26it [00:03,  7.00it/s]\n",
      "26it [00:03,  7.24it/s]\n",
      "26it [00:03,  7.01it/s]\n",
      "27it [00:03,  7.05it/s]\n",
      "24it [00:04,  5.51it/s]\n",
      "27it [00:03,  7.33it/s]\n",
      "30it [00:03,  7.63it/s]\n",
      "26it [00:04,  6.47it/s]\n",
      "27it [00:03,  7.24it/s]\n",
      "26it [00:03,  7.14it/s]\n",
      "29it [00:04,  7.17it/s]\n",
      "29it [00:03,  7.56it/s]\n",
      "27it [00:03,  7.24it/s]\n",
      "26it [00:03,  7.33it/s]\n",
      "26it [00:03,  7.16it/s]\n",
      "27it [00:03,  7.38it/s]\n",
      "26it [00:03,  7.24it/s]\n",
      "26it [00:03,  7.33it/s]\n",
      "26it [00:03,  7.39it/s]\n",
      "24it [00:04,  5.87it/s]\n",
      "26it [00:03,  7.10it/s]\n",
      "28it [00:03,  7.29it/s]\n",
      "26it [00:03,  7.36it/s]\n",
      "26it [00:03,  7.26it/s]\n",
      "26it [00:03,  7.22it/s]\n",
      "28it [00:03,  7.29it/s]\n",
      "27it [00:03,  7.14it/s]\n",
      "27it [00:03,  7.31it/s]\n",
      "28it [00:03,  7.41it/s]\n",
      "27it [00:03,  6.95it/s]\n",
      "27it [00:03,  7.06it/s]\n",
      "27it [00:03,  7.02it/s]\n",
      "28it [00:03,  7.39it/s]\n",
      "26it [00:03,  7.29it/s]\n",
      "28it [00:03,  7.34it/s]\n",
      "27it [00:03,  7.34it/s]\n",
      "26it [00:03,  7.01it/s]\n",
      "29it [00:04,  6.68it/s]\n",
      "26it [00:02,  9.02it/s]\n",
      "26it [00:02,  8.98it/s]\n",
      "27it [00:02,  9.16it/s]\n",
      "28it [00:02,  9.35it/s]\n",
      "27it [00:03,  8.69it/s]\n",
      "26it [00:02,  8.89it/s]\n",
      "29it [00:03,  9.10it/s]\n",
      "30it [00:03,  9.35it/s]\n",
      "27it [00:03,  8.67it/s]\n",
      "27it [00:03,  8.80it/s]\n",
      "26it [00:03,  6.60it/s]\n",
      "26it [00:03,  7.36it/s]\n",
      "26it [00:03,  7.69it/s]\n",
      "27it [00:03,  7.46it/s]\n",
      "27it [00:03,  7.33it/s]\n",
      "27it [00:03,  7.63it/s]\n",
      "26it [00:03,  7.07it/s]\n",
      "26it [00:03,  7.42it/s]\n",
      "26it [00:03,  7.29it/s]\n",
      "30it [00:04,  7.28it/s]\n",
      "27it [00:03,  7.48it/s]\n",
      "27it [00:03,  7.17it/s]\n"
     ]
    }
   ],
   "source": [
    "# read cbct and ct\n",
    "iid = 0\n",
    "for i in range(0, len(paths), 2):\n",
    "    scans = DicomDataset(cbct_path=paths[i+1], ct_path=paths[i], ditch=3, geometry_aug=aug.get_validation_augmentation(), intensity_aug=None, identity=False)\n",
    "    patient_id = scans.patientID()\n",
    "    testloader = torch.utils.data.DataLoader(scans, batch_size=1, shuffle=False, num_workers=4)\n",
    "    try:\n",
    "        os.mkdir(os.path.join(\"eval-gan\", run_name, \"L2_pelvic_cbct\", patient_id))\n",
    "    except FileExistsError:\n",
    "        pass\n",
    "    \n",
    "    test_epoch(iid, model, testloader, device, True, os.path.join(\"eval-gan\", run_name, \"L2_pelvic_cbct\", patient_id)) \n",
    "    iid += len(scans)"
   ]
  },
  {
   "cell_type": "code",
   "execution_count": 312,
   "metadata": {},
   "outputs": [
    {
     "name": "stderr",
     "output_type": "stream",
     "text": [
      "3064it [06:58,  7.32it/s]\n"
     ]
    },
    {
     "data": {
      "text/plain": [
       "(0.7981245584455233,\n",
       " 21.717186285995005,\n",
       " 12.132338190096243,\n",
       " 0.03443264510201694,\n",
       " 0.9965147775356727,\n",
       " 0.808673098552123,\n",
       " 0.5154227034307958,\n",
       " 0.4502284595300261,\n",
       " 0.3983355091383812)"
      ]
     },
     "execution_count": 312,
     "metadata": {},
     "output_type": "execute_result"
    }
   ],
   "source": [
    "testset = DicomsDataset(test_case_path, geometry_aug=aug.get_validation_augmentation(), intensity_aug=None, identity=False)\n",
    "testloader = torch.utils.data.DataLoader(testset, batch_size=1, shuffle=False, num_workers=4)\n",
    "# score_ssim_test, score_psnr_test, score_snr_test, score_mae_test, \\\n",
    "#             score_air_test, score_bone_test, score_cont_test, score_tf_acc_test, score_edge_acc_test\n",
    "eval_epoch(model, tf_discriminator, edge_discriminator, testloader, device)"
   ]
  },
  {
   "cell_type": "markdown",
   "metadata": {},
   "source": [
    "## Pelvic L2 CT"
   ]
  },
  {
   "cell_type": "code",
   "execution_count": 313,
   "metadata": {},
   "outputs": [],
   "source": [
    "test_case_path = 'L2_pelvic_processed/reg_pelvic_l2/*_*'\n",
    "paths = sorted(glob.glob(test_case_path))"
   ]
  },
  {
   "cell_type": "code",
   "execution_count": 314,
   "metadata": {},
   "outputs": [],
   "source": [
    "try:\n",
    "    os.mkdir(os.path.join(\"eval-gan\", run_name))\n",
    "except FileExistsError:\n",
    "    pass"
   ]
  },
  {
   "cell_type": "code",
   "execution_count": 315,
   "metadata": {},
   "outputs": [],
   "source": [
    "try:\n",
    "    os.mkdir(os.path.join(\"eval-gan\", run_name, \"L2_pelvic_ct\"))\n",
    "except FileExistsError:\n",
    "    pass"
   ]
  },
  {
   "cell_type": "code",
   "execution_count": 316,
   "metadata": {
    "scrolled": true
   },
   "outputs": [
    {
     "name": "stderr",
     "output_type": "stream",
     "text": [
      "26it [00:03,  7.18it/s]\n",
      "26it [00:03,  6.92it/s]\n",
      "26it [00:03,  7.39it/s]\n",
      "27it [00:03,  7.35it/s]\n",
      "31it [00:04,  7.66it/s]\n",
      "27it [00:03,  7.26it/s]\n",
      "27it [00:03,  7.96it/s]\n",
      "26it [00:03,  7.60it/s]\n",
      "28it [00:05,  5.38it/s]\n",
      "28it [00:03,  7.54it/s]\n",
      "27it [00:04,  6.74it/s]\n",
      "27it [00:03,  7.33it/s]\n",
      "26it [00:03,  7.30it/s]\n",
      "26it [00:03,  7.14it/s]\n",
      "26it [00:03,  7.24it/s]\n",
      "26it [00:03,  7.31it/s]\n",
      "26it [00:03,  7.11it/s]\n",
      "26it [00:03,  7.52it/s]\n",
      "27it [00:03,  7.10it/s]\n",
      "26it [00:03,  7.17it/s]\n",
      "26it [00:03,  7.40it/s]\n",
      "28it [00:03,  7.62it/s]\n",
      "28it [00:03,  8.27it/s]\n",
      "29it [00:03,  7.31it/s]\n",
      "28it [00:03,  7.81it/s]\n",
      "26it [00:03,  7.21it/s]\n",
      "27it [00:03,  7.09it/s]\n",
      "26it [00:03,  6.98it/s]\n",
      "28it [00:03,  7.25it/s]\n",
      "30it [00:04,  7.16it/s]\n",
      "27it [00:03,  7.10it/s]\n",
      "29it [00:04,  7.16it/s]\n",
      "27it [00:03,  7.37it/s]\n",
      "27it [00:03,  7.69it/s]\n",
      "26it [00:03,  7.13it/s]\n",
      "26it [00:03,  7.04it/s]\n",
      "26it [00:03,  7.33it/s]\n",
      "26it [00:03,  7.22it/s]\n",
      "27it [00:03,  7.05it/s]\n",
      "26it [00:03,  7.22it/s]\n",
      "26it [00:03,  7.16it/s]\n",
      "26it [00:03,  7.02it/s]\n",
      "27it [00:03,  7.25it/s]\n",
      "28it [00:03,  7.83it/s]\n",
      "27it [00:03,  7.46it/s]\n",
      "26it [00:03,  7.81it/s]\n",
      "29it [00:03,  7.73it/s]\n",
      "26it [00:03,  7.60it/s]\n",
      "27it [00:03,  7.11it/s]\n",
      "26it [00:03,  7.54it/s]\n",
      "26it [00:03,  7.97it/s]\n",
      "26it [00:03,  7.72it/s]\n",
      "27it [00:03,  7.85it/s]\n",
      "27it [00:03,  7.41it/s]\n",
      "26it [00:03,  7.34it/s]\n",
      "26it [00:03,  7.83it/s]\n",
      "26it [00:03,  7.26it/s]\n",
      "27it [00:03,  7.45it/s]\n",
      "24it [00:03,  7.56it/s]\n",
      "27it [00:03,  7.34it/s]\n",
      "30it [00:04,  7.35it/s]\n",
      "26it [00:03,  7.19it/s]\n",
      "27it [00:03,  7.50it/s]\n",
      "26it [00:03,  7.07it/s]\n",
      "29it [00:03,  7.77it/s]\n",
      "29it [00:03,  8.12it/s]\n",
      "27it [00:03,  7.40it/s]\n",
      "26it [00:03,  8.32it/s]\n",
      "26it [00:03,  7.12it/s]\n",
      "27it [00:03,  7.28it/s]\n",
      "26it [00:03,  7.12it/s]\n",
      "26it [00:03,  7.05it/s]\n",
      "26it [00:03,  7.19it/s]\n",
      "24it [00:03,  7.38it/s]\n",
      "26it [00:03,  7.27it/s]\n",
      "28it [00:03,  7.41it/s]\n",
      "26it [00:03,  7.47it/s]\n",
      "26it [00:03,  7.22it/s]\n",
      "26it [00:03,  7.20it/s]\n",
      "28it [00:03,  7.08it/s]\n",
      "27it [00:03,  7.23it/s]\n",
      "27it [00:03,  7.15it/s]\n",
      "28it [00:03,  7.31it/s]\n",
      "27it [00:03,  7.32it/s]\n",
      "27it [00:03,  7.52it/s]\n",
      "27it [00:03,  7.16it/s]\n",
      "28it [00:04,  6.44it/s]\n",
      "26it [00:03,  7.12it/s]\n",
      "28it [00:03,  7.29it/s]\n",
      "27it [00:03,  7.50it/s]\n",
      "26it [00:03,  6.94it/s]\n",
      "29it [00:03,  7.58it/s]\n",
      "26it [00:03,  7.13it/s]\n",
      "26it [00:03,  7.56it/s]\n",
      "27it [00:03,  7.25it/s]\n",
      "28it [00:03,  7.57it/s]\n",
      "27it [00:03,  7.26it/s]\n",
      "26it [00:03,  7.28it/s]\n",
      "29it [00:03,  8.08it/s]\n",
      "30it [00:04,  7.47it/s]\n",
      "27it [00:03,  6.93it/s]\n",
      "27it [00:03,  7.20it/s]\n",
      "26it [00:03,  7.07it/s]\n",
      "26it [00:03,  7.14it/s]\n",
      "26it [00:03,  7.47it/s]\n",
      "27it [00:03,  7.41it/s]\n",
      "27it [00:03,  7.37it/s]\n",
      "27it [00:03,  7.15it/s]\n",
      "26it [00:03,  7.10it/s]\n",
      "26it [00:03,  7.36it/s]\n",
      "26it [00:03,  7.20it/s]\n",
      "30it [00:04,  7.31it/s]\n",
      "27it [00:03,  7.10it/s]\n",
      "27it [00:03,  7.28it/s]\n"
     ]
    }
   ],
   "source": [
    "# read cbct and ct\n",
    "iid = 0\n",
    "for i in range(0, len(paths), 2):\n",
    "    scans = DicomDataset(cbct_path=paths[i+1], ct_path=paths[i], ditch=3, geometry_aug=aug.get_validation_augmentation(), intensity_aug=None, identity=True)\n",
    "    patient_id = scans.patientID()\n",
    "    testloader = torch.utils.data.DataLoader(scans, batch_size=1, shuffle=False, num_workers=4)\n",
    "    try:\n",
    "        os.mkdir(os.path.join(\"eval-gan\", run_name, \"L2_pelvic_ct\", patient_id))\n",
    "    except FileExistsError:\n",
    "        pass\n",
    "    \n",
    "    test_epoch(iid, model, testloader, device, True, os.path.join(\"eval-gan\", run_name, \"L2_pelvic_ct\", patient_id)) \n",
    "    iid += len(scans)"
   ]
  },
  {
   "cell_type": "code",
   "execution_count": 317,
   "metadata": {},
   "outputs": [
    {
     "name": "stderr",
     "output_type": "stream",
     "text": [
      "3064it [06:56,  7.35it/s]\n"
     ]
    },
    {
     "data": {
      "text/plain": [
       "(0.8786463448607579,\n",
       " 26.165106455900027,\n",
       " 16.580258314354303,\n",
       " 0.021903999881726487,\n",
       " 0.9961774200706016,\n",
       " 0.7997709542536234,\n",
       " 0.4511648326937119,\n",
       " 0.43423629242819844,\n",
       " 0.42150783289817234)"
      ]
     },
     "execution_count": 317,
     "metadata": {},
     "output_type": "execute_result"
    }
   ],
   "source": [
    "testset = DicomsDataset(test_case_path, geometry_aug=aug.get_validation_augmentation(), intensity_aug=None, identity=True)\n",
    "testloader = torch.utils.data.DataLoader(testset, batch_size=1, shuffle=False, num_workers=4)\n",
    "# score_ssim_test, score_psnr_test, score_snr_test, score_mae_test, \\\n",
    "#             score_air_test, score_bone_test, score_cont_test, score_tf_acc_test, score_edge_acc_test\n",
    "eval_epoch(model, tf_discriminator, edge_discriminator, testloader, device)"
   ]
  },
  {
   "cell_type": "markdown",
   "metadata": {},
   "source": [
    "# Abdomen"
   ]
  },
  {
   "cell_type": "code",
   "execution_count": 318,
   "metadata": {},
   "outputs": [],
   "source": [
    "test_case_path = 'abdomen/test/*_*'\n",
    "paths = sorted(glob.glob(test_case_path))"
   ]
  },
  {
   "cell_type": "markdown",
   "metadata": {},
   "source": [
    "## Abdomen on CBCT"
   ]
  },
  {
   "cell_type": "code",
   "execution_count": 319,
   "metadata": {},
   "outputs": [],
   "source": [
    "try:\n",
    "    os.mkdir(os.path.join(\"eval-gan\", run_name))\n",
    "except FileExistsError:\n",
    "    pass"
   ]
  },
  {
   "cell_type": "code",
   "execution_count": 320,
   "metadata": {},
   "outputs": [],
   "source": [
    "try:\n",
    "    os.mkdir(os.path.join(\"eval-gan\", run_name, \"abdomen_test_cbct\"))\n",
    "except FileExistsError:\n",
    "    pass"
   ]
  },
  {
   "cell_type": "code",
   "execution_count": 321,
   "metadata": {},
   "outputs": [
    {
     "name": "stderr",
     "output_type": "stream",
     "text": [
      "28it [00:03,  8.45it/s]\n",
      "78it [00:08,  9.25it/s]\n",
      "50it [00:05,  9.48it/s]\n",
      "29it [00:03,  8.73it/s]\n",
      "50it [00:05,  8.76it/s]\n",
      "71it [00:07,  9.40it/s]\n",
      "39it [00:05,  7.76it/s]\n"
     ]
    }
   ],
   "source": [
    "# read cbct and ct\n",
    "iid = 0\n",
    "for i in range(0, len(paths), 2):\n",
    "    scans = DicomDataset(cbct_path=paths[i+1], ct_path=paths[i], ditch=3, geometry_aug=aug.get_validation_augmentation(), intensity_aug=None, identity=False)\n",
    "    patient_id = scans.patientID()\n",
    "    testloader = torch.utils.data.DataLoader(scans, batch_size=1, shuffle=False, num_workers=4)\n",
    "    try:\n",
    "        os.mkdir(os.path.join(\"eval-gan\", run_name, \"abdomen_test_cbct\", patient_id))\n",
    "    except FileExistsError:\n",
    "        pass\n",
    "    \n",
    "    test_epoch(iid, model, testloader, device, True, os.path.join(\"eval-gan\", run_name, \"abdomen_test_cbct\", patient_id)) \n",
    "    iid += len(scans)"
   ]
  },
  {
   "cell_type": "code",
   "execution_count": 322,
   "metadata": {},
   "outputs": [
    {
     "name": "stderr",
     "output_type": "stream",
     "text": [
      "345it [00:47,  7.30it/s]\n"
     ]
    },
    {
     "data": {
      "text/plain": [
       "(0.7490701350612917,\n",
       " 20.731258472497913,\n",
       " 11.26189949616142,\n",
       " 0.04198251545861147,\n",
       " 0.9944006600028952,\n",
       " 0.7815537577434357,\n",
       " 0.4433958451385083,\n",
       " 0.4971014492753623,\n",
       " 0.4826086956521739)"
      ]
     },
     "execution_count": 322,
     "metadata": {},
     "output_type": "execute_result"
    }
   ],
   "source": [
    "testset = DicomsDataset(test_case_path, geometry_aug=aug.get_validation_augmentation(), intensity_aug=None, identity=False)\n",
    "testloader = torch.utils.data.DataLoader(testset, batch_size=1, shuffle=False, num_workers=4)\n",
    "# score_ssim_test, score_psnr_test, score_snr_test, score_mae_test, \\\n",
    "#             score_air_test, score_bone_test, score_cont_test, score_tf_acc_test, score_edge_acc_test\n",
    "eval_epoch(model, tf_discriminator, edge_discriminator, testloader, device)"
   ]
  },
  {
   "cell_type": "markdown",
   "metadata": {},
   "source": [
    "## Abdomen on CT"
   ]
  },
  {
   "cell_type": "code",
   "execution_count": 323,
   "metadata": {
    "scrolled": true
   },
   "outputs": [],
   "source": [
    "try:\n",
    "    os.mkdir(os.path.join(\"eval-gan\", run_name))\n",
    "except FileExistsError:\n",
    "    pass"
   ]
  },
  {
   "cell_type": "code",
   "execution_count": 324,
   "metadata": {},
   "outputs": [],
   "source": [
    "try:\n",
    "    os.mkdir(os.path.join(\"eval-gan\", run_name, \"abdomen_test_ct\"))\n",
    "except FileExistsError:\n",
    "    pass"
   ]
  },
  {
   "cell_type": "code",
   "execution_count": 325,
   "metadata": {
    "scrolled": true
   },
   "outputs": [
    {
     "name": "stderr",
     "output_type": "stream",
     "text": [
      "28it [00:03,  7.42it/s]\n",
      "78it [00:10,  7.64it/s]\n",
      "50it [00:06,  8.08it/s]\n",
      "29it [00:03,  7.35it/s]\n",
      "50it [00:07,  6.73it/s]\n",
      "71it [00:09,  7.47it/s]\n",
      "39it [00:05,  7.25it/s]\n"
     ]
    }
   ],
   "source": [
    "# read cbct and ct\n",
    "iid = 0\n",
    "for i in range(0, len(paths), 2):\n",
    "    scans = DicomDataset(cbct_path=paths[i+1], ct_path=paths[i], ditch=3, geometry_aug=aug.get_validation_augmentation(), intensity_aug=None, identity=True)\n",
    "    patient_id = scans.patientID()\n",
    "    testloader = torch.utils.data.DataLoader(scans, batch_size=1, shuffle=False, num_workers=4)\n",
    "    try:\n",
    "        os.mkdir(os.path.join(\"eval-gan\", run_name, \"abdomen_test_ct\", patient_id))\n",
    "    except FileExistsError:\n",
    "        pass\n",
    "    \n",
    "    test_epoch(iid, model, testloader, device, True, os.path.join(\"eval-gan\", run_name, \"abdomen_test_ct\", patient_id)) \n",
    "    iid += len(scans)"
   ]
  },
  {
   "cell_type": "code",
   "execution_count": 326,
   "metadata": {},
   "outputs": [
    {
     "name": "stderr",
     "output_type": "stream",
     "text": [
      "345it [00:48,  7.10it/s]\n"
     ]
    },
    {
     "data": {
      "text/plain": [
       "(0.8630031858665356,\n",
       " 26.114136057314667,\n",
       " 16.644777004960655,\n",
       " 0.022815249298793683,\n",
       " 0.9941091720897783,\n",
       " 0.8156939620447955,\n",
       " 0.485995224636534,\n",
       " 0.4971014492753623,\n",
       " 0.4811594202898551)"
      ]
     },
     "execution_count": 326,
     "metadata": {},
     "output_type": "execute_result"
    }
   ],
   "source": [
    "testset = DicomsDataset(test_case_path, geometry_aug=aug.get_validation_augmentation(), intensity_aug=None, identity=True)\n",
    "testloader = torch.utils.data.DataLoader(testset, batch_size=1, shuffle=False, num_workers=4)\n",
    "# score_ssim_test, score_psnr_test, score_snr_test, score_mae_test, \\\n",
    "#             score_air_test, score_bone_test, score_cont_test, score_tf_acc_test, score_edge_acc_test\n",
    "eval_epoch(model, tf_discriminator, edge_discriminator, testloader, device)"
   ]
  },
  {
   "cell_type": "markdown",
   "metadata": {},
   "source": [
    "# Chest"
   ]
  },
  {
   "cell_type": "code",
   "execution_count": 327,
   "metadata": {},
   "outputs": [],
   "source": [
    "test_case_path = 'chest/test/*_*'\n",
    "paths = sorted(glob.glob(test_case_path))"
   ]
  },
  {
   "cell_type": "markdown",
   "metadata": {},
   "source": [
    "## Chest on CBCT"
   ]
  },
  {
   "cell_type": "code",
   "execution_count": 328,
   "metadata": {},
   "outputs": [],
   "source": [
    "try:\n",
    "    os.mkdir(os.path.join(\"eval-gan\", run_name))\n",
    "except FileExistsError:\n",
    "    pass"
   ]
  },
  {
   "cell_type": "code",
   "execution_count": 329,
   "metadata": {},
   "outputs": [],
   "source": [
    "try:\n",
    "    os.mkdir(os.path.join(\"eval-gan\", run_name, \"chest_test_cbct\"))\n",
    "except FileExistsError:\n",
    "    pass"
   ]
  },
  {
   "cell_type": "code",
   "execution_count": 330,
   "metadata": {},
   "outputs": [
    {
     "name": "stderr",
     "output_type": "stream",
     "text": [
      "49it [00:06,  7.66it/s]\n",
      "39it [00:06,  6.09it/s]\n",
      "40it [00:05,  7.45it/s]\n",
      "29it [00:05,  5.59it/s]\n",
      "35it [00:04,  7.32it/s]\n",
      "37it [00:05,  7.28it/s]\n",
      "34it [00:04,  7.09it/s]\n"
     ]
    }
   ],
   "source": [
    "# read cbct and ct\n",
    "iid = 0\n",
    "for i in range(0, len(paths), 2):\n",
    "    scans = DicomDataset(cbct_path=paths[i+1], ct_path=paths[i], ditch=3, geometry_aug=aug.get_validation_augmentation(), intensity_aug=None, identity=False)\n",
    "    patient_id = scans.patientID()\n",
    "    testloader = torch.utils.data.DataLoader(scans, batch_size=1, shuffle=False, num_workers=4)\n",
    "    try:\n",
    "        os.mkdir(os.path.join(\"eval-gan\", run_name, \"chest_test_cbct\", patient_id))\n",
    "    except FileExistsError:\n",
    "        pass\n",
    "    \n",
    "    test_epoch(iid, model, testloader, device, True, os.path.join(\"eval-gan\", run_name, \"chest_test_cbct\", patient_id)) \n",
    "    iid += len(scans)"
   ]
  },
  {
   "cell_type": "code",
   "execution_count": 331,
   "metadata": {},
   "outputs": [
    {
     "name": "stderr",
     "output_type": "stream",
     "text": [
      "263it [00:35,  7.36it/s]\n"
     ]
    },
    {
     "data": {
      "text/plain": [
       "(0.7718564682133751,\n",
       " 20.62169802052893,\n",
       " 10.173827396146246,\n",
       " 0.037322292968404155,\n",
       " 0.9784366301518327,\n",
       " 0.7724590220400042,\n",
       " 0.547347975547776,\n",
       " 0.4505703422053232,\n",
       " 0.49809885931558934)"
      ]
     },
     "execution_count": 331,
     "metadata": {},
     "output_type": "execute_result"
    }
   ],
   "source": [
    "testset = DicomsDataset(test_case_path, geometry_aug=aug.get_validation_augmentation(), intensity_aug=None, identity=False)\n",
    "testloader = torch.utils.data.DataLoader(testset, batch_size=1, shuffle=False, num_workers=4)\n",
    "# score_ssim_test, score_psnr_test, score_snr_test, score_mae_test, \\\n",
    "#             score_air_test, score_bone_test, score_cont_test, score_tf_acc_test, score_edge_acc_test\n",
    "eval_epoch(model, tf_discriminator, edge_discriminator, testloader, device)"
   ]
  },
  {
   "cell_type": "markdown",
   "metadata": {},
   "source": [
    "## Chest on CT"
   ]
  },
  {
   "cell_type": "code",
   "execution_count": 332,
   "metadata": {
    "scrolled": true
   },
   "outputs": [],
   "source": [
    "try:\n",
    "    os.mkdir(os.path.join(\"eval-gan\", run_name))\n",
    "except FileExistsError:\n",
    "    pass"
   ]
  },
  {
   "cell_type": "code",
   "execution_count": 333,
   "metadata": {},
   "outputs": [],
   "source": [
    "try:\n",
    "    os.mkdir(os.path.join(\"eval-gan\", run_name, \"chest_test_ct\"))\n",
    "except FileExistsError:\n",
    "    pass"
   ]
  },
  {
   "cell_type": "code",
   "execution_count": 334,
   "metadata": {
    "scrolled": true
   },
   "outputs": [
    {
     "name": "stderr",
     "output_type": "stream",
     "text": [
      "49it [00:05,  8.50it/s]\n",
      "39it [00:05,  7.22it/s]\n",
      "40it [00:05,  7.45it/s]\n",
      "29it [00:04,  7.08it/s]\n",
      "35it [00:04,  7.04it/s]\n",
      "37it [00:05,  7.20it/s]\n",
      "34it [00:04,  6.91it/s]\n"
     ]
    }
   ],
   "source": [
    "# read cbct and ct\n",
    "iid = 0\n",
    "for i in range(0, len(paths), 2):\n",
    "    scans = DicomDataset(cbct_path=paths[i+1], ct_path=paths[i], ditch=3, geometry_aug=aug.get_validation_augmentation(), intensity_aug=None, identity=True)\n",
    "    patient_id = scans.patientID()\n",
    "    testloader = torch.utils.data.DataLoader(scans, batch_size=1, shuffle=False, num_workers=4)\n",
    "    try:\n",
    "        os.mkdir(os.path.join(\"eval-gan\", run_name, \"chest_test_ct\", patient_id))\n",
    "    except FileExistsError:\n",
    "        pass\n",
    "    \n",
    "    test_epoch(iid, model, testloader, device, True, os.path.join(\"eval-gan\", run_name, \"chest_test_ct\", patient_id)) \n",
    "    iid += len(scans)"
   ]
  },
  {
   "cell_type": "code",
   "execution_count": 335,
   "metadata": {},
   "outputs": [
    {
     "name": "stderr",
     "output_type": "stream",
     "text": [
      "263it [00:37,  7.09it/s]\n"
     ]
    },
    {
     "data": {
      "text/plain": [
       "(0.8866842248593899,\n",
       " 26.556048179307364,\n",
       " 16.108177489654192,\n",
       " 0.019298317020638587,\n",
       " 0.9775172666356118,\n",
       " 0.784507230824627,\n",
       " 0.5216624992881891,\n",
       " 0.4296577946768061,\n",
       " 0.48859315589353614)"
      ]
     },
     "execution_count": 335,
     "metadata": {},
     "output_type": "execute_result"
    }
   ],
   "source": [
    "testset = DicomsDataset(test_case_path, geometry_aug=aug.get_validation_augmentation(), intensity_aug=None, identity=True)\n",
    "testloader = torch.utils.data.DataLoader(testset, batch_size=1, shuffle=False, num_workers=4)\n",
    "# score_ssim_test, score_psnr_test, score_snr_test, score_mae_test, \\\n",
    "#             score_air_test, score_bone_test, score_cont_test, score_tf_acc_test, score_edge_acc_test\n",
    "eval_epoch(model, tf_discriminator, edge_discriminator, testloader, device)"
   ]
  },
  {
   "cell_type": "markdown",
   "metadata": {},
   "source": [
    "# Headneck"
   ]
  },
  {
   "cell_type": "code",
   "execution_count": 336,
   "metadata": {},
   "outputs": [],
   "source": [
    "test_case_path = 'headneck/test/*_*'\n",
    "paths = sorted(glob.glob(test_case_path))"
   ]
  },
  {
   "cell_type": "markdown",
   "metadata": {},
   "source": [
    "## Headneck on CBCT"
   ]
  },
  {
   "cell_type": "code",
   "execution_count": 337,
   "metadata": {},
   "outputs": [],
   "source": [
    "try:\n",
    "    os.mkdir(os.path.join(\"eval-gan\", run_name))\n",
    "except FileExistsError:\n",
    "    pass"
   ]
  },
  {
   "cell_type": "code",
   "execution_count": 338,
   "metadata": {},
   "outputs": [],
   "source": [
    "try:\n",
    "    os.mkdir(os.path.join(\"eval-gan\", run_name, \"hn_test_cbct\"))\n",
    "except FileExistsError:\n",
    "    pass"
   ]
  },
  {
   "cell_type": "code",
   "execution_count": 339,
   "metadata": {},
   "outputs": [
    {
     "name": "stderr",
     "output_type": "stream",
     "text": [
      "58it [00:07,  7.72it/s]\n",
      "55it [00:07,  7.60it/s]\n",
      "55it [00:06,  7.93it/s]\n",
      "56it [00:06,  8.98it/s]\n",
      "56it [00:06,  9.07it/s]\n",
      "55it [00:06,  8.97it/s]\n",
      "56it [00:06,  9.33it/s]\n"
     ]
    }
   ],
   "source": [
    "# read cbct and ct\n",
    "iid = 0\n",
    "for i in range(0, len(paths), 2):\n",
    "    scans = DicomDataset(cbct_path=paths[i+1], ct_path=paths[i], ditch=3, geometry_aug=aug.get_validation_augmentation(), intensity_aug=None, identity=False)\n",
    "    patient_id = scans.patientID()\n",
    "    testloader = torch.utils.data.DataLoader(scans, batch_size=1, shuffle=False, num_workers=4)\n",
    "    try:\n",
    "        os.mkdir(os.path.join(\"eval-gan\", run_name, \"hn_test_cbct\", patient_id))\n",
    "    except FileExistsError:\n",
    "        pass\n",
    "    \n",
    "    test_epoch(iid, model, testloader, device, True, os.path.join(\"eval-gan\", run_name, \"hn_test_cbct\", patient_id)) \n",
    "    iid += len(scans)"
   ]
  },
  {
   "cell_type": "code",
   "execution_count": 340,
   "metadata": {},
   "outputs": [
    {
     "name": "stderr",
     "output_type": "stream",
     "text": [
      "391it [00:54,  7.19it/s]\n"
     ]
    },
    {
     "data": {
      "text/plain": [
       "(0.8610833511328149,\n",
       " 21.105987061015174,\n",
       " 7.153434275971044,\n",
       " 0.027797574875280832,\n",
       " 0.671879996732119,\n",
       " 0.6554204236020867,\n",
       " 0.26753684883946766,\n",
       " 0.5089514066496164,\n",
       " 0.6150895140664961)"
      ]
     },
     "execution_count": 340,
     "metadata": {},
     "output_type": "execute_result"
    }
   ],
   "source": [
    "testset = DicomsDataset(test_case_path, geometry_aug=aug.get_validation_augmentation(), intensity_aug=None, identity=False)\n",
    "testloader = torch.utils.data.DataLoader(testset, batch_size=1, shuffle=False, num_workers=4)\n",
    "# score_ssim_test, score_psnr_test, score_snr_test, score_mae_test, \\\n",
    "#             score_air_test, score_bone_test, score_cont_test, score_tf_acc_test, score_edge_acc_test\n",
    "eval_epoch(model, tf_discriminator, edge_discriminator, testloader, device)"
   ]
  },
  {
   "cell_type": "markdown",
   "metadata": {},
   "source": [
    "## Headneck on CT"
   ]
  },
  {
   "cell_type": "code",
   "execution_count": 341,
   "metadata": {
    "scrolled": true
   },
   "outputs": [],
   "source": [
    "try:\n",
    "    os.mkdir(os.path.join(\"eval-gan\", run_name))\n",
    "except FileExistsError:\n",
    "    pass"
   ]
  },
  {
   "cell_type": "code",
   "execution_count": 342,
   "metadata": {},
   "outputs": [],
   "source": [
    "try:\n",
    "    os.mkdir(os.path.join(\"eval-gan\", run_name, \"hn_test_ct\"))\n",
    "except FileExistsError:\n",
    "    pass"
   ]
  },
  {
   "cell_type": "code",
   "execution_count": 343,
   "metadata": {
    "scrolled": true
   },
   "outputs": [
    {
     "name": "stderr",
     "output_type": "stream",
     "text": [
      "58it [00:07,  7.76it/s]\n",
      "55it [00:07,  7.66it/s]\n",
      "55it [00:06,  8.39it/s]\n",
      "56it [00:07,  7.82it/s]\n",
      "56it [00:07,  7.56it/s]\n",
      "55it [00:07,  7.41it/s]\n",
      "56it [00:07,  7.65it/s]\n"
     ]
    }
   ],
   "source": [
    "# read cbct and ct\n",
    "iid = 0\n",
    "for i in range(0, len(paths), 2):\n",
    "    scans = DicomDataset(cbct_path=paths[i+1], ct_path=paths[i], ditch=3, geometry_aug=aug.get_validation_augmentation(), intensity_aug=None, identity=True)\n",
    "    patient_id = scans.patientID()\n",
    "    testloader = torch.utils.data.DataLoader(scans, batch_size=1, shuffle=False, num_workers=4)\n",
    "    try:\n",
    "        os.mkdir(os.path.join(\"eval-gan\", run_name, \"hn_test_ct\", patient_id))\n",
    "    except FileExistsError:\n",
    "        pass\n",
    "    \n",
    "    test_epoch(iid, model, testloader, device, True, os.path.join(\"eval-gan\", run_name, \"hn_test_ct\", patient_id)) \n",
    "    iid += len(scans)"
   ]
  },
  {
   "cell_type": "code",
   "execution_count": 344,
   "metadata": {},
   "outputs": [
    {
     "name": "stderr",
     "output_type": "stream",
     "text": [
      "391it [00:56,  6.90it/s]\n"
     ]
    },
    {
     "data": {
      "text/plain": [
       "(0.8940314411202355,\n",
       " 24.88003854190602,\n",
       " 10.927485695275504,\n",
       " 0.023897461702718455,\n",
       " 0.66958712174867,\n",
       " 0.6979086038153364,\n",
       " 0.24286362509761075,\n",
       " 0.49744245524296676,\n",
       " 0.5601023017902813)"
      ]
     },
     "execution_count": 344,
     "metadata": {},
     "output_type": "execute_result"
    }
   ],
   "source": [
    "testset = DicomsDataset(test_case_path, geometry_aug=aug.get_validation_augmentation(), intensity_aug=None, identity=True)\n",
    "testloader = torch.utils.data.DataLoader(testset, batch_size=1, shuffle=False, num_workers=4)\n",
    "# score_ssim_test, score_psnr_test, score_snr_test, score_mae_test, \\\n",
    "#             score_air_test, score_bone_test, score_cont_test, score_tf_acc_test, score_edge_acc_test\n",
    "eval_epoch(model, tf_discriminator, edge_discriminator, testloader, device)"
   ]
  },
  {
   "cell_type": "code",
   "execution_count": null,
   "metadata": {},
   "outputs": [],
   "source": []
  },
  {
   "cell_type": "code",
   "execution_count": null,
   "metadata": {},
   "outputs": [],
   "source": []
  },
  {
   "cell_type": "code",
   "execution_count": null,
   "metadata": {},
   "outputs": [],
   "source": []
  },
  {
   "cell_type": "code",
   "execution_count": null,
   "metadata": {},
   "outputs": [],
   "source": []
  }
 ],
 "metadata": {
  "kernelspec": {
   "display_name": "Python 3",
   "language": "python",
   "name": "python3"
  },
  "language_info": {
   "codemirror_mode": {
    "name": "ipython",
    "version": 3
   },
   "file_extension": ".py",
   "mimetype": "text/x-python",
   "name": "python",
   "nbconvert_exporter": "python",
   "pygments_lexer": "ipython3",
   "version": "3.8.5"
  }
 },
 "nbformat": 4,
 "nbformat_minor": 5
}
