{
 "cells": [
  {
   "cell_type": "code",
   "execution_count": 1,
   "metadata": {},
   "outputs": [],
   "source": [
    "import os\n",
    "\n",
    "import torch\n",
    "import torch.nn as nn\n",
    "import torch.nn.functional as F\n",
    "import torch.optim as optim\n",
    "from torch.utils.data import DataLoader, Subset, ConcatDataset\n",
    "\n",
    "import cv2\n",
    "import numpy as np\n",
    "import pandas as pd\n",
    "from tqdm import tqdm\n",
    "import random\n",
    "import json"
   ]
  },
  {
   "cell_type": "code",
   "execution_count": 2,
   "metadata": {},
   "outputs": [],
   "source": [
    "import segmentation_models_pytorch as smp\n",
    "from segmentation_models_pytorch.losses import DiceLoss\n",
    "from segmentation_models_pytorch.utils.metrics import IoU, Fscore, Accuracy"
   ]
  },
  {
   "cell_type": "code",
   "execution_count": 3,
   "metadata": {},
   "outputs": [],
   "source": [
    "import matplotlib.pyplot as plt\n",
    "\n",
    "# helper function for data visualization\n",
    "def visualize(**images):\n",
    "    \"\"\"PLot images in one row.\"\"\"\n",
    "    n = len(images)\n",
    "    plt.figure(figsize=(16, 5))\n",
    "    for i, (name, image) in enumerate(images.items()):\n",
    "        plt.subplot(1, n, i + 1)\n",
    "        plt.xticks([])\n",
    "        plt.yticks([])\n",
    "        plt.title(' '.join(name.split('_')).title())\n",
    "        plt.imshow(image, 'gray')\n",
    "    plt.show()"
   ]
  },
  {
   "cell_type": "code",
   "execution_count": 4,
   "metadata": {},
   "outputs": [
    {
     "name": "stdout",
     "output_type": "stream",
     "text": [
      "[0.5488135  0.71518937 0.60276338 0.54488318 0.4236548 ] tensor([ 1.5410, -0.2934, -2.1788,  0.5684, -1.0845])\n"
     ]
    }
   ],
   "source": [
    "import random\n",
    "\n",
    "SEED = 0\n",
    "random.seed(SEED)\n",
    "np.random.seed(SEED)\n",
    "torch.manual_seed(SEED)\n",
    "\n",
    "print(np.random.rand(5), torch.randn(5))"
   ]
  },
  {
   "cell_type": "markdown",
   "metadata": {},
   "source": [
    "# Settings"
   ]
  },
  {
   "cell_type": "code",
   "execution_count": 5,
   "metadata": {},
   "outputs": [],
   "source": [
    "root = os.getcwd()\n",
    "device = torch.device(\"cuda:0\" if torch.cuda.is_available() else \"cpu\")\n",
    "\n",
    "BATCH = 4\n",
    "\n",
    "GEN_IN_CHANNELS = 1\n",
    "GEN_N_CLASSES = 1\n",
    "\n",
    "DIS_IN_CHANNELS = 1\n",
    "DIS_N_CLASSES = 2\n",
    "\n",
    "E_IN_CHANNELS = 1\n",
    "E_N_CLASSES = 2\n",
    "\n",
    "EPOCH = 200"
   ]
  },
  {
   "cell_type": "markdown",
   "metadata": {},
   "source": [
    "### Model Settings"
   ]
  },
  {
   "cell_type": "markdown",
   "metadata": {},
   "source": [
    "#### encoder"
   ]
  },
  {
   "cell_type": "code",
   "execution_count": 6,
   "metadata": {},
   "outputs": [],
   "source": [
    "ENCODER = \"resnet152\"\n",
    "ENCODER_WEIGHT = None"
   ]
  },
  {
   "cell_type": "markdown",
   "metadata": {},
   "source": [
    "#### decoder"
   ]
  },
  {
   "cell_type": "code",
   "execution_count": 7,
   "metadata": {},
   "outputs": [],
   "source": [
    "DECODER_ATT = \"scse\""
   ]
  },
  {
   "cell_type": "markdown",
   "metadata": {},
   "source": [
    "#### head"
   ]
  },
  {
   "cell_type": "code",
   "execution_count": 8,
   "metadata": {},
   "outputs": [],
   "source": [
    "GEN_ACT = \"sigmoid\"\n",
    "DIS_ACT = \"softmax\"\n",
    "E_ACT = \"softmax\""
   ]
  },
  {
   "cell_type": "markdown",
   "metadata": {},
   "source": [
    "# Epochs"
   ]
  },
  {
   "cell_type": "code",
   "execution_count": 9,
   "metadata": {},
   "outputs": [],
   "source": [
    "from codes.losses import SSIMLoss\n",
    "from codes.losses import MAELoss\n",
    "from pytorch_msssim import ssim\n",
    "from codes.metrics import PSNR, SNR, ContourEval\n",
    "from codes.activation import Activation\n",
    "from codes.utils import hu_clip_tensor\n",
    "from codes.losses import PerceptualLoss\n",
    "from kornia.filters.sobel import Sobel"
   ]
  },
  {
   "cell_type": "code",
   "execution_count": 10,
   "metadata": {},
   "outputs": [],
   "source": [
    "def set_requires_grad(nets, requires_grad=False):\n",
    "    \"\"\"Set requies_grad=Fasle for all the networks to avoid unnecessary computations\n",
    "    Parameters:\n",
    "    nets (network list)   -- a list of networks\n",
    "    requires_grad (bool)  -- whether the networks require gradients or not\n",
    "    \"\"\"\n",
    "    if not isinstance(nets, list):\n",
    "        nets = [nets]\n",
    "        for net in nets:\n",
    "            if net is not None:\n",
    "                for param in net.parameters():\n",
    "                    param.requires_grad = requires_grad"
   ]
  },
  {
   "cell_type": "code",
   "execution_count": 11,
   "metadata": {},
   "outputs": [],
   "source": [
    "def replace_relu_to_leakyReLU(model):\n",
    "    for child_name, child in model.named_children():\n",
    "        if isinstance(child, nn.ReLU):\n",
    "            setattr(model, child_name, nn.LeakyReLU())\n",
    "        else:\n",
    "            replace_relu_to_leakyReLU(child)"
   ]
  },
  {
   "cell_type": "code",
   "execution_count": 12,
   "metadata": {},
   "outputs": [],
   "source": [
    "def replace_bn_to_instanceNorm(model):\n",
    "    for child_name, child in model.named_children():\n",
    "        if isinstance(child, nn.BatchNorm2d):\n",
    "            bn = getattr(model, child_name)\n",
    "            setattr(model, child_name, nn.InstanceNorm2d(bn.num_features))\n",
    "        else:\n",
    "            replace_bn_to_instanceNorm(child)"
   ]
  },
  {
   "cell_type": "code",
   "execution_count": 13,
   "metadata": {},
   "outputs": [],
   "source": [
    "@torch.no_grad()\n",
    "def eval_epoch(netG_A2B, dataloader, device):\n",
    "  \n",
    "    # change mode to train and move to current device\n",
    "    netG_A2B = netG_A2B.eval().to(device)\n",
    "    \n",
    "    ssim_ = []\n",
    "    psnr_ = []\n",
    "    mae_ = []\n",
    "    snr_ = []\n",
    "    \n",
    "    air_ = []\n",
    "    bone_ = []\n",
    "    cont_ = []\n",
    "\n",
    "    for index, data in tqdm(enumerate(dataloader)):\n",
    "\n",
    "        x, y, air_x, bone_x, *_ = data\n",
    "        \n",
    "        B, C, H, W = x.size()\n",
    "        x = x.to(device)\n",
    "        y = y.to(device)\n",
    "        air_x = air_x.to(device)\n",
    "        bone_x = bone_x.to(device)\n",
    "\n",
    "        fake_B = netG_A2B(x.float()).float()\n",
    "    \n",
    "        ############################\n",
    "        # (2) Eval G network: maximize log(D(G(z)))\n",
    "        ###########################\n",
    "\n",
    "        # main\n",
    "        _ssim = ssim(y.float(), fake_B, data_range=1.0, size_average=True) # return (N,)\n",
    "        _psnr = PSNR()(fake_B, y.float(), 1.0)\n",
    "        _snr = SNR()(fake_B, y.float())\n",
    "        _mae = MAELoss()(fake_B.float(), y.float())\n",
    "\n",
    "        ssim_ += [_ssim.item()]\n",
    "        psnr_ += [_psnr.item()]\n",
    "        mae_ += [_mae.item()]\n",
    "        snr_ += [_snr.item()]\n",
    "        \n",
    "        # auxilary\n",
    "        _min = VIEW_BOUND[0]\n",
    "        _max = VIEW_BOUND[1]\n",
    "        air_window = AIR_BOUND\n",
    "        upper = ((air_window[1]) - (_min))/(_max-(_min))\n",
    "        lower = ((air_window[0]) - (_min))/(_max-(_min))\n",
    "        air_pr = hu_clip_tensor(fake_B.double(), (lower, upper), None, True)\n",
    "        dice = Fscore()(air_pr, air_x)\n",
    "        air_ += [dice.item()]\n",
    "        \n",
    "        bone_window = BONE_BOUND\n",
    "        upper = ((bone_window[1]) - (_min))/(_max-(_min))\n",
    "        lower = ((bone_window[0]) - (_min))/(_max-(_min))\n",
    "        bone_pr = hu_clip_tensor(fake_B.double(), (lower, upper), None, True)\n",
    "        dice = Fscore()(bone_pr, bone_x)\n",
    "        bone_ += [dice.item()]\n",
    "        \n",
    "        for b in range(x.size()[0]):\n",
    "            cont = ContourEval()(fake_B[b, :, :, :], x[b, :, :, :])\n",
    "            cont_ += [cont.item()]\n",
    "\n",
    "    return  sum(ssim_)/len(ssim_), sum(psnr_)/len(psnr_), sum(snr_)/len(snr_), sum(mae_)/len(mae_), \\\n",
    "                    sum(air_)/len(air_), sum(bone_)/len(bone_), sum(cont_)/len(cont_)"
   ]
  },
  {
   "cell_type": "code",
   "execution_count": 14,
   "metadata": {},
   "outputs": [],
   "source": [
    "@torch.no_grad()\n",
    "def test_epoch(netG_A2B, dataloader, device, save=False, path=None):\n",
    "  \n",
    "    # change mode to train and move to current device\n",
    "    netG_A2B = netG_A2B.eval().to(device)\n",
    "    \n",
    "    iid = 0\n",
    "    for index, data in tqdm(enumerate(dataloader)):\n",
    "\n",
    "        x, y, air_x, bone_x, *_ = data\n",
    "        \n",
    "        B, C, H, W = x.size()\n",
    "        x = x.to(device)\n",
    "        y = y.to(device)\n",
    "        air_x = air_x.to(device)\n",
    "        bone_x = bone_x.to(device)\n",
    "\n",
    "        y_pr = netG_A2B(x.float())\n",
    "\n",
    "        _min = VIEW_BOUND[0]\n",
    "        _max = VIEW_BOUND[1]\n",
    "        air_window = AIR_BOUND\n",
    "        upper = ((air_window[1]) - (_min))/(_max-(_min))\n",
    "        lower = ((air_window[0]) - (_min))/(_max-(_min))\n",
    "        air_pr = hu_clip_tensor(y_pr.double(), (lower, upper), None, True)\n",
    "        \n",
    "        bone_window = BONE_BOUND\n",
    "        upper = ((bone_window[1]) - (_min))/(_max-(_min))\n",
    "        lower = ((bone_window[0]) - (_min))/(_max-(_min))\n",
    "        bone_pr = hu_clip_tensor(y_pr.double(), (lower, upper), None, True)\n",
    "        \n",
    "        for b in range(x.shape[0]):           \n",
    "            tmp_y = y[b, :, :, :].unsqueeze(0).float()\n",
    "            tmp_y_pr = y_pr[b, :, :, :].unsqueeze(0)\n",
    "            tmp_air = air_x[b, :, :, :].unsqueeze(0)\n",
    "            tmp_air_pr = air_pr[b, :, :, :].unsqueeze(0)\n",
    "            tmp_bone = bone_x[b, :, :, :].unsqueeze(0)\n",
    "            tmp_bone_pr = bone_pr[b, :, :, :].unsqueeze(0)\n",
    "            \n",
    "            __cbct = (x.squeeze().cpu().numpy() * 255).astype(np.uint8)\n",
    "            __ct = (tmp_y.squeeze().cpu().numpy() * 255).astype(np.uint8)\n",
    "            __ct_pred = (tmp_y_pr.squeeze().cpu().numpy() * 255).astype(np.uint8)\n",
    "            __air = (tmp_air.squeeze().cpu().numpy() * 255).astype(np.uint8)\n",
    "            __air_pr = (tmp_air_pr.squeeze().cpu().numpy() * 255).astype(np.uint8)\n",
    "            __bone = (tmp_bone.squeeze().cpu().numpy() * 255).astype(np.uint8)\n",
    "            __bone_pr = (tmp_bone_pr.squeeze().cpu().numpy() * 255).astype(np.uint8)\n",
    " \n",
    "            if save:\n",
    "                path_dir = os.path.join(path, \"file_{}\".format(iid))\n",
    "                try:\n",
    "                    os.mkdir(path_dir)\n",
    "                except FileExistsError:\n",
    "                    pass\n",
    "                \n",
    "                cv2.imwrite(os.path.join(path_dir, \"cbct.jpg\"), __cbct)\n",
    "                cv2.imwrite(os.path.join(path_dir, \"ct.jpg\"), __ct)\n",
    "                cv2.imwrite(os.path.join(path_dir, \"ct_pred.jpg\"), __ct_pred)\n",
    "                cv2.imwrite(os.path.join(path_dir, \"air.jpg\"), __air)\n",
    "                cv2.imwrite(os.path.join(path_dir, \"air_pred.jpg\"), __air_pr)\n",
    "                cv2.imwrite(os.path.join(path_dir, \"bone.jpg\"), __bone)\n",
    "                cv2.imwrite(os.path.join(path_dir, \"bone_pred.jpg\"), __bone_pr)\n",
    "                \n",
    "                iid += 1"
   ]
  },
  {
   "cell_type": "markdown",
   "metadata": {},
   "source": [
    "# Read Data"
   ]
  },
  {
   "cell_type": "code",
   "execution_count": 15,
   "metadata": {},
   "outputs": [],
   "source": [
    "import glob\n",
    "from codes.dataset import DicomDataset, DicomsDataset\n",
    "import codes.augmentation as aug\n",
    "from codes.RegGAN.Cyclegan import *"
   ]
  },
  {
   "cell_type": "code",
   "execution_count": 16,
   "metadata": {},
   "outputs": [],
   "source": [
    "# run_name = wandb.run.name\n",
    "run_name = \"worthy-plasma-26\"\n",
    "ELECTRON = False\n",
    "G_COORD = False\n",
    "L_COORD= False"
   ]
  },
  {
   "cell_type": "code",
   "execution_count": 17,
   "metadata": {},
   "outputs": [],
   "source": [
    "VIEW_BOUND = (-500, 500)\n",
    "AIR_BOUND = (-500, -499)\n",
    "BONE_BOUND = (255, 256)\n",
    "if ELECTRON:\n",
    "    VIEW_BOUND = (0.5, 1.5)\n",
    "    AIR_BOUND = (0.5, 0.5009)\n",
    "    BONE_BOUND = (1.2, 1.2009)  "
   ]
  },
  {
   "cell_type": "code",
   "execution_count": 18,
   "metadata": {},
   "outputs": [],
   "source": [
    "config = {\n",
    "    # lamda weight\n",
    "    \"Adv_lamda\": 1,\n",
    "    \"Cyc_lamda\": 10,\n",
    "    \"Corr_lamda\": 20,\n",
    "    \"Smooth_lamda\": 10,\n",
    "\n",
    "    \"n_epoch\": 80,        # starting epoch\n",
    "    \"batchSize\": 4,               # size of the batches\n",
    "    \"lr\": 0.0001,                   # initial learning rate\n",
    "    \"decay_epoch\": 20,            # epoch to start linearly decaying the learning rate to 0\n",
    "    \"input_nc\": 1,         \n",
    "    \"output_nc\": 1,                         \n",
    "    \"n_cpu\": 1,\n",
    "    \"size\": 256,\n",
    "    \"cuda\": True,\n",
    "}"
   ]
  },
  {
   "cell_type": "code",
   "execution_count": 19,
   "metadata": {},
   "outputs": [],
   "source": [
    "checkpoint = torch.load(os.path.join(\"weight-gan\", \"{}.pth\".format(run_name)))"
   ]
  },
  {
   "cell_type": "code",
   "execution_count": 20,
   "metadata": {},
   "outputs": [
    {
     "data": {
      "text/plain": [
       "<All keys matched successfully>"
      ]
     },
     "execution_count": 20,
     "metadata": {},
     "output_type": "execute_result"
    }
   ],
   "source": [
    "netG_A2B = Generator(config['input_nc'], config['output_nc'])\n",
    "netG_A2B.load_state_dict(checkpoint[\"netG_A2B\"])"
   ]
  },
  {
   "cell_type": "markdown",
   "metadata": {},
   "source": [
    "# Pelvic"
   ]
  },
  {
   "cell_type": "markdown",
   "metadata": {},
   "source": [
    "## Pelvic test"
   ]
  },
  {
   "cell_type": "code",
   "execution_count": 21,
   "metadata": {},
   "outputs": [],
   "source": [
    "test_case_path = 'raw/test/*_*'\n",
    "paths = sorted(glob.glob(test_case_path))"
   ]
  },
  {
   "cell_type": "code",
   "execution_count": 22,
   "metadata": {},
   "outputs": [],
   "source": [
    "try:\n",
    "    os.mkdir(os.path.join(\"eval-gan\", run_name))\n",
    "except FileExistsError:\n",
    "    pass"
   ]
  },
  {
   "cell_type": "code",
   "execution_count": 23,
   "metadata": {},
   "outputs": [],
   "source": [
    "try:\n",
    "    os.mkdir(os.path.join(\"eval-gan\", run_name, \"c_test\"))\n",
    "except FileExistsError:\n",
    "    pass"
   ]
  },
  {
   "cell_type": "code",
   "execution_count": 24,
   "metadata": {
    "scrolled": true
   },
   "outputs": [
    {
     "name": "stderr",
     "output_type": "stream",
     "text": [
      "28it [00:03,  8.85it/s]\n",
      "27it [00:01, 17.89it/s]\n",
      "26it [00:01, 13.83it/s]\n",
      "28it [00:01, 14.30it/s]\n",
      "27it [00:01, 15.62it/s]\n",
      "28it [00:01, 16.32it/s]\n",
      "27it [00:01, 13.85it/s]\n"
     ]
    }
   ],
   "source": [
    "# read cbct and ct\n",
    "for i in range(0, len(paths), 2):\n",
    "    scans = DicomDataset(cbct_path=paths[i+1], ct_path=paths[i],\n",
    "                         geometry_aug=aug.get_validation_augmentation(), intensity_aug=None, \n",
    "                         identity=False, electron=ELECTRON, position=\"pelvic\", g_coord=G_COORD, l_coord=L_COORD)\n",
    "    patient_id = scans.patientID()\n",
    "    testloader = torch.utils.data.DataLoader(scans, batch_size=1, shuffle=False, num_workers=4)\n",
    "    try:\n",
    "        os.mkdir(os.path.join(\"eval-gan\", run_name, \"c_test\", patient_id))\n",
    "    except FileExistsError:\n",
    "        pass\n",
    "    test_epoch(netG_A2B, testloader, device, True, os.path.join(\"eval-gan\", run_name, \"c_test\", patient_id)) "
   ]
  },
  {
   "cell_type": "code",
   "execution_count": 25,
   "metadata": {},
   "outputs": [
    {
     "name": "stderr",
     "output_type": "stream",
     "text": [
      "191it [00:09, 19.78it/s]\n"
     ]
    },
    {
     "data": {
      "text/plain": [
       "(0.8445419478790922,\n",
       " 23.84990525370493,\n",
       " 14.854177325183809,\n",
       " 0.02544825421694998,\n",
       " 0.9928278022617545,\n",
       " 0.8639232315638943,\n",
       " 0.45717885232096567)"
      ]
     },
     "execution_count": 25,
     "metadata": {},
     "output_type": "execute_result"
    }
   ],
   "source": [
    "testset = DicomsDataset(test_case_path, geometry_aug=aug.get_validation_augmentation(), intensity_aug=None, \n",
    "                        identity=False, electron=ELECTRON, position=\"pelvic\", g_coord=G_COORD, l_coord=L_COORD)\n",
    "testloader = torch.utils.data.DataLoader(testset, batch_size=1, shuffle=False, num_workers=4)\n",
    "eval_epoch(netG_A2B, testloader, device)"
   ]
  },
  {
   "cell_type": "markdown",
   "metadata": {},
   "source": [
    "## Pelvic L1"
   ]
  },
  {
   "cell_type": "code",
   "execution_count": 26,
   "metadata": {},
   "outputs": [],
   "source": [
    "test_case_path = 'L1_pelvic_processed/reg_pelvic_l1/*_*'\n",
    "paths = sorted(glob.glob(test_case_path))"
   ]
  },
  {
   "cell_type": "code",
   "execution_count": 27,
   "metadata": {},
   "outputs": [],
   "source": [
    "try:\n",
    "    os.mkdir(os.path.join(\"eval-gan\", run_name))\n",
    "except FileExistsError:\n",
    "    pass"
   ]
  },
  {
   "cell_type": "code",
   "execution_count": 28,
   "metadata": {},
   "outputs": [],
   "source": [
    "try:\n",
    "    os.mkdir(os.path.join(\"eval-gan\", run_name, \"L1\"))\n",
    "except FileExistsError:\n",
    "    pass"
   ]
  },
  {
   "cell_type": "code",
   "execution_count": 29,
   "metadata": {
    "scrolled": true
   },
   "outputs": [
    {
     "name": "stderr",
     "output_type": "stream",
     "text": [
      "29it [00:01, 16.68it/s]\n",
      "26it [00:02, 11.13it/s]\n",
      "28it [00:02, 13.71it/s]\n",
      "28it [00:01, 14.98it/s]\n",
      "27it [00:02, 13.22it/s]\n",
      "26it [00:02, 12.20it/s]\n",
      "27it [00:01, 14.37it/s]\n",
      "30it [00:02, 14.35it/s]\n",
      "28it [00:02, 12.61it/s]\n",
      "29it [00:02, 12.39it/s]\n",
      "29it [00:02, 13.20it/s]\n",
      "27it [00:01, 14.37it/s]\n",
      "28it [00:02, 13.07it/s]\n",
      "26it [00:02, 11.91it/s]\n",
      "28it [00:02, 12.95it/s]\n",
      "28it [00:01, 14.01it/s]\n",
      "27it [00:02, 12.52it/s]\n",
      "26it [00:01, 16.56it/s]\n",
      "27it [00:01, 16.57it/s]\n",
      "29it [00:01, 16.59it/s]\n",
      "30it [00:01, 16.77it/s]\n",
      "32it [00:02, 14.53it/s]\n",
      "28it [00:01, 16.36it/s]\n",
      "28it [00:01, 16.13it/s]\n",
      "15it [00:01, 14.80it/s]\n",
      "28it [00:01, 16.57it/s]\n",
      "26it [00:01, 15.37it/s]\n",
      "28it [00:01, 16.46it/s]\n",
      "26it [00:01, 15.84it/s]\n",
      "27it [00:01, 16.00it/s]\n",
      "36it [00:02, 16.30it/s]\n",
      "28it [00:01, 16.15it/s]\n",
      "27it [00:01, 16.16it/s]\n",
      "28it [00:01, 16.28it/s]\n",
      "30it [00:01, 16.84it/s]\n",
      "27it [00:01, 15.98it/s]\n",
      "26it [00:01, 16.17it/s]\n",
      "29it [00:01, 16.63it/s]\n",
      "27it [00:01, 15.96it/s]\n",
      "27it [00:01, 16.18it/s]\n",
      "28it [00:01, 25.47it/s]\n",
      "26it [00:00, 26.70it/s]\n",
      "26it [00:00, 26.45it/s]\n",
      "29it [00:01, 27.16it/s]\n",
      "28it [00:01, 26.58it/s]\n",
      "27it [00:01, 26.69it/s]\n",
      "30it [00:01, 27.24it/s]\n",
      "27it [00:01, 26.78it/s]\n",
      "130it [00:04, 29.49it/s]\n"
     ]
    }
   ],
   "source": [
    "# read cbct and ct\n",
    "for i in range(0, len(paths), 2):\n",
    "    scans = DicomDataset(cbct_path=paths[i+1], ct_path=paths[i],\n",
    "                         geometry_aug=aug.get_validation_augmentation(), intensity_aug=None, \n",
    "                         identity=False, electron=ELECTRON, position=\"pelvic\", g_coord=G_COORD, l_coord=L_COORD)\n",
    "    patient_id = scans.patientID()\n",
    "    testloader = torch.utils.data.DataLoader(scans, batch_size=1, shuffle=False, num_workers=4)\n",
    "    try:\n",
    "        os.mkdir(os.path.join(\"eval-gan\", run_name, \"L1\", patient_id))\n",
    "    except FileExistsError:\n",
    "        pass\n",
    "    test_epoch(netG_A2B, testloader, device, True, os.path.join(\"eval-gan\", run_name, \"L1\", patient_id)) "
   ]
  },
  {
   "cell_type": "code",
   "execution_count": 30,
   "metadata": {},
   "outputs": [
    {
     "name": "stderr",
     "output_type": "stream",
     "text": [
      "1457it [00:45, 32.36it/s]\n"
     ]
    },
    {
     "data": {
      "text/plain": [
       "(0.8227302114605167,\n",
       " 22.682611588508852,\n",
       " 13.48159393727493,\n",
       " 0.0298776960162754,\n",
       " 0.9928000571032315,\n",
       " 0.8329117594522164,\n",
       " 0.47188986997921006)"
      ]
     },
     "execution_count": 30,
     "metadata": {},
     "output_type": "execute_result"
    }
   ],
   "source": [
    "testset = DicomsDataset(test_case_path, geometry_aug=aug.get_validation_augmentation(), intensity_aug=None, \n",
    "                        identity=False, electron=ELECTRON, position=\"pelvic\", g_coord=G_COORD, l_coord=L_COORD)\n",
    "testloader = torch.utils.data.DataLoader(testset, batch_size=1, shuffle=False, num_workers=4)\n",
    "eval_epoch(netG_A2B, testloader, device)"
   ]
  },
  {
   "cell_type": "markdown",
   "metadata": {},
   "source": [
    "## Pelvic L2"
   ]
  },
  {
   "cell_type": "code",
   "execution_count": 31,
   "metadata": {},
   "outputs": [],
   "source": [
    "test_case_path = 'L2_pelvic_processed/reg_pelvic_l2/*_*'\n",
    "paths = sorted(glob.glob(test_case_path))"
   ]
  },
  {
   "cell_type": "code",
   "execution_count": 32,
   "metadata": {},
   "outputs": [],
   "source": [
    "try:\n",
    "    os.mkdir(os.path.join(\"eval-gan\", run_name))\n",
    "except FileExistsError:\n",
    "    pass"
   ]
  },
  {
   "cell_type": "code",
   "execution_count": 33,
   "metadata": {},
   "outputs": [],
   "source": [
    "try:\n",
    "    os.mkdir(os.path.join(\"eval-gan\", run_name, \"L2\"))\n",
    "except FileExistsError:\n",
    "    pass"
   ]
  },
  {
   "cell_type": "code",
   "execution_count": 34,
   "metadata": {
    "scrolled": true
   },
   "outputs": [
    {
     "name": "stderr",
     "output_type": "stream",
     "text": [
      "26it [00:00, 26.52it/s]\n",
      "26it [00:01, 23.58it/s]\n",
      "26it [00:00, 26.63it/s]\n",
      "27it [00:01, 26.52it/s]\n",
      "31it [00:01, 26.61it/s]\n",
      "27it [00:01, 25.87it/s]\n",
      "27it [00:01, 26.31it/s]\n",
      "26it [00:00, 26.22it/s]\n",
      "28it [00:01, 26.35it/s]\n",
      "28it [00:01, 26.99it/s]\n",
      "27it [00:01, 26.42it/s]\n",
      "27it [00:01, 26.19it/s]\n",
      "26it [00:00, 26.12it/s]\n",
      "26it [00:00, 26.23it/s]\n",
      "26it [00:01, 21.95it/s]\n",
      "26it [00:00, 26.56it/s]\n",
      "26it [00:00, 26.70it/s]\n",
      "26it [00:00, 26.01it/s]\n",
      "27it [00:01, 26.02it/s]\n",
      "26it [00:01, 25.37it/s]\n",
      "26it [00:01, 25.97it/s]\n",
      "28it [00:01, 26.18it/s]\n",
      "28it [00:01, 27.04it/s]\n",
      "29it [00:01, 25.85it/s]\n",
      "28it [00:01, 26.66it/s]\n",
      "26it [00:00, 26.76it/s]\n",
      "27it [00:01, 26.21it/s]\n",
      "26it [00:00, 26.21it/s]\n",
      "28it [00:01, 26.42it/s]\n",
      "30it [00:01, 26.22it/s]\n",
      "27it [00:01, 26.25it/s]\n",
      "29it [00:01, 26.85it/s]\n",
      "27it [00:01, 26.81it/s]\n",
      "27it [00:01, 26.19it/s]\n",
      "26it [00:00, 26.44it/s]\n",
      "26it [00:00, 26.35it/s]\n",
      "26it [00:00, 26.92it/s]\n",
      "26it [00:00, 26.45it/s]\n",
      "27it [00:01, 26.31it/s]\n",
      "26it [00:01, 25.31it/s]\n",
      "26it [00:00, 26.10it/s]\n",
      "26it [00:00, 26.18it/s]\n",
      "27it [00:01, 26.04it/s]\n",
      "28it [00:01, 26.96it/s]\n",
      "27it [00:01, 26.43it/s]\n",
      "26it [00:01, 25.88it/s]\n",
      "29it [00:01, 26.39it/s]\n",
      "26it [00:01, 25.86it/s]\n",
      "27it [00:01, 26.02it/s]\n",
      "26it [00:00, 26.03it/s]\n",
      "26it [00:00, 26.07it/s]\n",
      "26it [00:00, 26.22it/s]\n",
      "27it [00:01, 26.06it/s]\n",
      "27it [00:01, 26.74it/s]\n",
      "26it [00:01, 25.62it/s]\n",
      "26it [00:00, 26.63it/s]\n",
      "26it [00:00, 26.63it/s]\n",
      "27it [00:01, 26.41it/s]\n",
      "24it [00:00, 26.04it/s]\n",
      "27it [00:01, 26.67it/s]\n",
      "30it [00:01, 26.86it/s]\n",
      "26it [00:00, 26.32it/s]\n",
      "27it [00:01, 26.82it/s]\n",
      "26it [00:00, 26.02it/s]\n",
      "29it [00:01, 26.04it/s]\n",
      "29it [00:01, 26.11it/s]\n",
      "27it [00:01, 26.46it/s]\n",
      "26it [00:00, 26.02it/s]\n",
      "26it [00:01, 26.00it/s]\n",
      "27it [00:01, 26.10it/s]\n",
      "26it [00:01, 25.20it/s]\n",
      "26it [00:00, 26.66it/s]\n",
      "26it [00:00, 26.21it/s]\n",
      "24it [00:00, 26.09it/s]\n",
      "26it [00:00, 26.23it/s]\n",
      "28it [00:01, 26.29it/s]\n",
      "26it [00:00, 26.28it/s]\n",
      "26it [00:00, 26.03it/s]\n",
      "26it [00:00, 26.15it/s]\n",
      "28it [00:01, 26.29it/s]\n",
      "27it [00:01, 26.32it/s]\n",
      "27it [00:01, 26.15it/s]\n",
      "28it [00:01, 26.20it/s]\n",
      "27it [00:01, 26.54it/s]\n",
      "27it [00:01, 26.34it/s]\n",
      "27it [00:01, 26.31it/s]\n",
      "28it [00:01, 26.05it/s]\n",
      "26it [00:01, 25.64it/s]\n",
      "28it [00:01, 26.84it/s]\n",
      "27it [00:01, 26.94it/s]\n",
      "26it [00:00, 26.03it/s]\n",
      "29it [00:01, 26.56it/s]\n",
      "26it [00:00, 26.47it/s]\n",
      "26it [00:01, 25.08it/s]\n",
      "27it [00:01, 26.21it/s]\n",
      "28it [00:01, 25.87it/s]\n",
      "27it [00:01, 26.67it/s]\n",
      "26it [00:00, 26.47it/s]\n",
      "29it [00:01, 26.43it/s]\n",
      "30it [00:01, 26.38it/s]\n",
      "27it [00:01, 25.61it/s]\n",
      "27it [00:01, 25.38it/s]\n",
      "26it [00:01, 25.99it/s]\n",
      "26it [00:00, 26.29it/s]\n",
      "26it [00:00, 26.55it/s]\n",
      "27it [00:01, 25.89it/s]\n",
      "27it [00:01, 26.41it/s]\n",
      "27it [00:01, 26.58it/s]\n",
      "26it [00:01, 25.40it/s]\n",
      "26it [00:00, 26.57it/s]\n",
      "26it [00:01, 25.92it/s]\n",
      "30it [00:01, 27.05it/s]\n",
      "27it [00:01, 26.20it/s]\n",
      "27it [00:01, 26.55it/s]\n"
     ]
    }
   ],
   "source": [
    "# read cbct and ct\n",
    "for i in range(0, len(paths), 2):\n",
    "    scans = DicomDataset(cbct_path=paths[i+1], ct_path=paths[i],\n",
    "                         geometry_aug=aug.get_validation_augmentation(), intensity_aug=None, \n",
    "                         identity=False, electron=ELECTRON, position=\"pelvic\", g_coord=G_COORD, l_coord=L_COORD)\n",
    "    patient_id = scans.patientID()\n",
    "    testloader = torch.utils.data.DataLoader(scans, batch_size=1, shuffle=False, num_workers=4)\n",
    "    try:\n",
    "        os.mkdir(os.path.join(\"eval-gan\", run_name, \"L2\", patient_id))\n",
    "    except FileExistsError:\n",
    "        pass\n",
    "    test_epoch(netG_A2B, testloader, device, True, os.path.join(\"eval-gan\", run_name, \"L2\", patient_id)) "
   ]
  },
  {
   "cell_type": "code",
   "execution_count": 35,
   "metadata": {},
   "outputs": [
    {
     "name": "stderr",
     "output_type": "stream",
     "text": [
      "3064it [01:34, 32.38it/s]\n"
     ]
    },
    {
     "data": {
      "text/plain": [
       "(0.808598566207033,\n",
       " 21.95601581749032,\n",
       " 12.371167712944606,\n",
       " 0.03439750903110961,\n",
       " 0.991266003619376,\n",
       " 0.8025477359196834,\n",
       " 0.4014435832877461)"
      ]
     },
     "execution_count": 35,
     "metadata": {},
     "output_type": "execute_result"
    }
   ],
   "source": [
    "testset = DicomsDataset(test_case_path, geometry_aug=aug.get_validation_augmentation(), intensity_aug=None, \n",
    "                        identity=False, electron=ELECTRON, position=\"pelvic\", g_coord=G_COORD, l_coord=L_COORD)\n",
    "testloader = torch.utils.data.DataLoader(testset, batch_size=1, shuffle=False, num_workers=4)\n",
    "eval_epoch(netG_A2B, testloader, device)"
   ]
  },
  {
   "cell_type": "code",
   "execution_count": null,
   "metadata": {},
   "outputs": [],
   "source": []
  },
  {
   "cell_type": "code",
   "execution_count": null,
   "metadata": {},
   "outputs": [],
   "source": []
  }
 ],
 "metadata": {
  "kernelspec": {
   "display_name": "Python 3",
   "language": "python",
   "name": "python3"
  },
  "language_info": {
   "codemirror_mode": {
    "name": "ipython",
    "version": 3
   },
   "file_extension": ".py",
   "mimetype": "text/x-python",
   "name": "python",
   "nbconvert_exporter": "python",
   "pygments_lexer": "ipython3",
   "version": "3.8.5"
  }
 },
 "nbformat": 4,
 "nbformat_minor": 5
}
