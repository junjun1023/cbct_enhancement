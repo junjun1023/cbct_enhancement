{
 "cells": [
  {
   "cell_type": "code",
   "execution_count": 1,
   "metadata": {},
   "outputs": [],
   "source": [
    "import os\n",
    "\n",
    "import torch\n",
    "import torch.nn as nn\n",
    "import torch.nn.functional as F\n",
    "import torch.optim as optim\n",
    "from torch.utils.data import DataLoader, Subset, ConcatDataset\n",
    "\n",
    "import cv2\n",
    "import numpy as np\n",
    "import pandas as pd\n",
    "from tqdm import tqdm\n",
    "import random"
   ]
  },
  {
   "cell_type": "code",
   "execution_count": 2,
   "metadata": {},
   "outputs": [],
   "source": [
    "import segmentation_models_pytorch as smp\n",
    "from segmentation_models_pytorch.losses import DiceLoss\n",
    "from segmentation_models_pytorch.utils.metrics import IoU, Fscore, Accuracy"
   ]
  },
  {
   "cell_type": "code",
   "execution_count": 3,
   "metadata": {},
   "outputs": [],
   "source": [
    "import matplotlib.pyplot as plt\n",
    "\n",
    "# helper function for data visualization\n",
    "def visualize(**images):\n",
    "    \"\"\"PLot images in one row.\"\"\"\n",
    "    n = len(images)\n",
    "    plt.figure(figsize=(16, 5))\n",
    "    for i, (name, image) in enumerate(images.items()):\n",
    "        plt.subplot(1, n, i + 1)\n",
    "        plt.xticks([])\n",
    "        plt.yticks([])\n",
    "        plt.title(' '.join(name.split('_')).title())\n",
    "        plt.imshow(image, 'gray')\n",
    "    plt.show()"
   ]
  },
  {
   "cell_type": "markdown",
   "metadata": {},
   "source": [
    "# Settings"
   ]
  },
  {
   "cell_type": "code",
   "execution_count": 4,
   "metadata": {},
   "outputs": [],
   "source": [
    "root = os.getcwd()\n",
    "device = torch.device(\"cuda:0\" if torch.cuda.is_available() else \"cpu\")\n",
    "\n",
    "BATCH = 4\n",
    "IN_CHANNELS = 1\n",
    "N_CLASSES = 2\n",
    "EPOCH =200"
   ]
  },
  {
   "cell_type": "markdown",
   "metadata": {},
   "source": [
    "### Model Settings"
   ]
  },
  {
   "cell_type": "markdown",
   "metadata": {},
   "source": [
    "#### encoder"
   ]
  },
  {
   "cell_type": "code",
   "execution_count": 5,
   "metadata": {},
   "outputs": [],
   "source": [
    "ENCODER = \"resnet152\"\n",
    "ENCODER_WEIGHT = None"
   ]
  },
  {
   "cell_type": "markdown",
   "metadata": {},
   "source": [
    "#### head"
   ]
  },
  {
   "cell_type": "code",
   "execution_count": 6,
   "metadata": {},
   "outputs": [],
   "source": [
    "ACT = \"softmax\"\n",
    "AUX_PARAM = None"
   ]
  },
  {
   "cell_type": "markdown",
   "metadata": {},
   "source": [
    "### Optimizer Settings"
   ]
  },
  {
   "cell_type": "code",
   "execution_count": 7,
   "metadata": {},
   "outputs": [],
   "source": [
    "OPTIM_NAME = \"sgd\"\n",
    "init_lr = 3e-4\n",
    "momentum = 0.9"
   ]
  },
  {
   "cell_type": "markdown",
   "metadata": {},
   "source": [
    "# Epochs"
   ]
  },
  {
   "cell_type": "code",
   "execution_count": 8,
   "metadata": {},
   "outputs": [],
   "source": [
    "from codes.losses import SSIMLoss\n",
    "from codes.losses import MAELoss\n",
    "from pytorch_msssim import ssim\n",
    "from codes.metrics import PSNR"
   ]
  },
  {
   "cell_type": "code",
   "execution_count": 9,
   "metadata": {},
   "outputs": [],
   "source": [
    "def train_epoch(model, optimizer, dataloader, device):\n",
    "  \n",
    "    # change mode to train and move to current device\n",
    "    model = model.train().to(device)\n",
    "\n",
    "    y_loss = 0\n",
    "    x_loss = 0\n",
    "    for index, data in tqdm(enumerate(dataloader)):\n",
    "\n",
    "        x, y, *_ = data\n",
    "\n",
    "        x = x.to(device)\n",
    "        y = y.to(device)\n",
    "\n",
    "        x_pr = model(x)\n",
    "        y_pr = model(y)\n",
    "        \n",
    "        shape = x.size()[0]\n",
    "        pr_one = torch.ones(shape, dtype=torch.long, device=device)\n",
    "        pr_zero = torch.zeros(shape, dtype=torch.long, device=device)\n",
    "\n",
    "        _x = nn.CrossEntropyLoss()(x_pr.float(), pr_zero)\n",
    "        _y = nn.CrossEntropyLoss()(y_pr.float(), pr_one)\n",
    "                          \n",
    "        _loss = _y + _x\n",
    "                        \n",
    "        optimizer.zero_grad()\n",
    "        _loss.backward()\n",
    "        optimizer.step()\n",
    "\n",
    "        y_loss += _y.item()\n",
    "        x_loss += _x.item()\n",
    "\n",
    "    return x_loss/(index+1), y_loss/(index+1) "
   ]
  },
  {
   "cell_type": "code",
   "execution_count": 10,
   "metadata": {},
   "outputs": [],
   "source": [
    "@torch.no_grad()\n",
    "def eval_epoch(model, dataloader, device):\n",
    "  \n",
    "    # change mode to train and move to current device\n",
    "    model = model.eval().to(device)\n",
    "\n",
    "    total = 0\n",
    "    cbct_hit = 0\n",
    "    ct_hit = 0\n",
    "    for index, data in tqdm(enumerate(dataloader)):\n",
    "\n",
    "        x, y, *_ = data\n",
    "        \n",
    "        x = x.to(device)\n",
    "        y = y.to(device)\n",
    "\n",
    "        x_pr = model(x)\n",
    "        y_pr = model(y)\n",
    "        \n",
    "        total += x.size()[0]\n",
    "        shape = x.size()[0]\n",
    "        pr_one = torch.ones(shape, dtype=torch.float, device=device)\n",
    "        pr_zero = torch.zeros(shape, dtype=torch.float, device=device)\n",
    "        \n",
    "        _, x_pr = torch.max(x_pr.data, 1)\n",
    "        cbct_hit += (x_pr == pr_zero).sum().item()\n",
    "        _, y_pr = torch.max(y_pr.data, 1)\n",
    "        ct_hit += (y_pr == pr_one).sum().item()\n",
    "        \n",
    "\n",
    "    return  cbct_hit/total, ct_hit/total"
   ]
  },
  {
   "cell_type": "code",
   "execution_count": 11,
   "metadata": {},
   "outputs": [],
   "source": [
    "@torch.no_grad()\n",
    "def test_epoch(model, dataloader, device):\n",
    "  \n",
    "    # change mode to train and move to current device\n",
    "    model = model.eval().to(device)\n",
    "\n",
    "    for index, data in tqdm(enumerate(dataloader)):\n",
    "\n",
    "        x, y, *_ = data\n",
    "\n",
    "        x = x.to(device)\n",
    "        y = y.to(device)\n",
    "\n",
    "        y_pr = model(x)\n",
    "\n",
    "        x = x.squeeze().cpu().numpy()\n",
    "        y = y.squeeze().cpu().numpy()\n",
    "        y_pr = y_pr.squeeze().cpu().numpy() * 255\n",
    "        y_pr = y_pr.astype(np.uint8)\n",
    "\n",
    "        visualize(\n",
    "            cbct = x,\n",
    "            ct_y = y,\n",
    "            ct_pred = y_pr,\n",
    "        )"
   ]
  },
  {
   "cell_type": "markdown",
   "metadata": {},
   "source": [
    "# Read Data"
   ]
  },
  {
   "cell_type": "code",
   "execution_count": 12,
   "metadata": {},
   "outputs": [],
   "source": [
    "from codes.dataset import Dataset\n",
    "import codes.augmentation as aug"
   ]
  },
  {
   "cell_type": "code",
   "execution_count": 13,
   "metadata": {},
   "outputs": [],
   "source": [
    "train_case_path = 'raw/train/*_*'\n",
    "test_case_path = 'raw/test/*_*'"
   ]
  },
  {
   "cell_type": "code",
   "execution_count": 14,
   "metadata": {},
   "outputs": [],
   "source": [
    "trainset = Dataset(path=train_case_path, intensity_aug=aug.training_intensity_augmentation(), geometry_aug=aug.get_training_augmentation())\n",
    "testset = Dataset(test_case_path, intensity_aug=aug.validation_intensity_augmentation(), geometry_aug=aug.get_validation_augmentation())"
   ]
  },
  {
   "cell_type": "code",
   "execution_count": 15,
   "metadata": {},
   "outputs": [
    {
     "data": {
      "text/plain": [
       "(1344, 191)"
      ]
     },
     "execution_count": 15,
     "metadata": {},
     "output_type": "execute_result"
    }
   ],
   "source": [
    "len(trainset), len(testset)"
   ]
  },
  {
   "cell_type": "code",
   "execution_count": 16,
   "metadata": {},
   "outputs": [],
   "source": [
    "x, y, *_ = trainset[20]"
   ]
  },
  {
   "cell_type": "code",
   "execution_count": 17,
   "metadata": {},
   "outputs": [
    {
     "data": {
      "text/plain": [
       "(<matplotlib.image.AxesImage at 0x7f79b2b80190>,)"
      ]
     },
     "execution_count": 17,
     "metadata": {},
     "output_type": "execute_result"
    },
    {
     "data": {
      "image/png": "[encoded data removed]",
      "text/plain": [
       "<Figure size 432x288 with 1 Axes>"
      ]
     },
     "metadata": {
      "needs_background": "light"
     },
     "output_type": "display_data"
    }
   ],
   "source": [
    "plt.imshow(x.squeeze(), 'gray'),"
   ]
  },
  {
   "cell_type": "code",
   "execution_count": 18,
   "metadata": {},
   "outputs": [
    {
     "data": {
      "text/plain": [
       "<matplotlib.image.AxesImage at 0x7f79b2286640>"
      ]
     },
     "execution_count": 18,
     "metadata": {},
     "output_type": "execute_result"
    },
    {
     "data": {
      "image/png": "[encoded data removed]",
      "text/plain": [
       "<Figure size 432x288 with 1 Axes>"
      ]
     },
     "metadata": {
      "needs_background": "light"
     },
     "output_type": "display_data"
    }
   ],
   "source": [
    "plt.imshow(y.squeeze(), 'gray')"
   ]
  },
  {
   "cell_type": "code",
   "execution_count": 19,
   "metadata": {},
   "outputs": [
    {
     "data": {
      "text/plain": [
       "((1, 384, 384), (1, 384, 384))"
      ]
     },
     "execution_count": 19,
     "metadata": {},
     "output_type": "execute_result"
    }
   ],
   "source": [
    "x.shape, y.shape"
   ]
  },
  {
   "cell_type": "markdown",
   "metadata": {},
   "source": [
    "# Model"
   ]
  },
  {
   "cell_type": "code",
   "execution_count": 20,
   "metadata": {},
   "outputs": [],
   "source": [
    "from codes.activation import Activation"
   ]
  },
  {
   "cell_type": "code",
   "execution_count": 21,
   "metadata": {},
   "outputs": [],
   "source": [
    "class Model(nn.Module):\n",
    "    def __init__(self, encoder, hidden_ch=2048, n_classes=2, activation=None):\n",
    "        \n",
    "        super(Model, self).__init__()\n",
    "        \n",
    "        self.encoder = encoder\n",
    "        self.classifier = nn.Linear(in_features=hidden_ch, out_features=n_classes)\n",
    "        self.pooling = nn.AdaptiveMaxPool2d(1)\n",
    "        self.activation = Activation(name=activation)\n",
    "        \n",
    "        \n",
    "    def forward(self, x):\n",
    "        \n",
    "        x = self.encoder(x)[-1]\n",
    "        x = self.pooling(x)\n",
    "        x = torch.flatten(x, start_dim=1)\n",
    "        x = self.classifier(x)\n",
    "        \n",
    "        return self.activation(x)"
   ]
  },
  {
   "cell_type": "markdown",
   "metadata": {},
   "source": [
    "# training"
   ]
  },
  {
   "cell_type": "code",
   "execution_count": 22,
   "metadata": {},
   "outputs": [
    {
     "name": "stderr",
     "output_type": "stream",
     "text": [
      "\u001b[34m\u001b[1mwandb\u001b[0m: Currently logged in as: \u001b[33mjunjun\u001b[0m (use `wandb login --relogin` to force relogin)\n",
      "\u001b[34m\u001b[1mwandb\u001b[0m: wandb version 0.12.9 is available!  To upgrade, please run:\n",
      "\u001b[34m\u001b[1mwandb\u001b[0m:  $ pip install wandb --upgrade\n"
     ]
    },
    {
     "data": {
      "text/html": [
       "\n",
       "                Tracking run with wandb version 0.12.2<br/>\n",
       "                Syncing run <strong style=\"color:#cdcd00\">lucky-plasma-32</strong> to <a href=\"https://wandb.ai\" target=\"_blank\">Weights & Biases</a> <a href=\"https://docs.wandb.com/integrations/jupyter.html\" target=\"_blank\">(Documentation)</a>.<br/>\n",
       "                Project page: <a href=\"https://wandb.ai/junjun/discriminator\" target=\"_blank\">https://wandb.ai/junjun/discriminator</a><br/>\n",
       "                Run page: <a href=\"https://wandb.ai/junjun/discriminator/runs/2csnw0mq\" target=\"_blank\">https://wandb.ai/junjun/discriminator/runs/2csnw0mq</a><br/>\n",
       "                Run data is saved locally in <code>/home/june/cbct_enhancement/wandb/run-20220123_184758-2csnw0mq</code><br/><br/>\n",
       "            "
      ],
      "text/plain": [
       "<IPython.core.display.HTML object>"
      ]
     },
     "metadata": {},
     "output_type": "display_data"
    },
    {
     "data": {
      "text/html": [
       "<h1>Run(2csnw0mq)</h1><iframe src=\"https://wandb.ai/junjun/discriminator/runs/2csnw0mq\" style=\"border:none;width:100%;height:400px\"></iframe>"
      ],
      "text/plain": [
       "<wandb.sdk.wandb_run.Run at 0x7f79b267fa60>"
      ]
     },
     "execution_count": 22,
     "metadata": {},
     "output_type": "execute_result"
    }
   ],
   "source": [
    "import wandb\n",
    "\n",
    "wandb.init(project=\"discriminator\", config={\n",
    "    \"data\": {\n",
    "        \"in_channels\": IN_CHANNELS,\n",
    "        \"out_channels\": N_CLASSES,\n",
    "        \"batchsize\": BATCH,\n",
    "    },\n",
    "    \"epochs\": EPOCH,\n",
    "    \"model\": {\n",
    "        \"optimizer\": OPTIM_NAME,\n",
    "        \"init_lr\": init_lr,\n",
    "        \"momentum\": momentum,\n",
    "        \"encoder\": ENCODER,\n",
    "        \"encoder_weight\": ENCODER_WEIGHT,\n",
    "        \"activation\": ACT,\n",
    "    }\n",
    "})"
   ]
  },
  {
   "cell_type": "code",
   "execution_count": 23,
   "metadata": {},
   "outputs": [],
   "source": [
    "trainloader = torch.utils.data.DataLoader(trainset, batch_size=BATCH, shuffle=True, num_workers=8)\n",
    "testloader = torch.utils.data.DataLoader(testset, batch_size=BATCH, shuffle=False, num_workers=4)"
   ]
  },
  {
   "cell_type": "code",
   "execution_count": 24,
   "metadata": {},
   "outputs": [],
   "source": [
    "import segmentation_models_pytorch as smp\n",
    "import torch\n",
    "\n",
    "model = smp.Unet(encoder_name=ENCODER, encoder_weights=ENCODER_WEIGHT, in_channels=IN_CHANNELS, classes=N_CLASSES)\n",
    "\n",
    "model = Model(encoder=model.encoder, hidden_ch=2048, n_classes=N_CLASSES, activation=ACT)"
   ]
  },
  {
   "cell_type": "code",
   "execution_count": 25,
   "metadata": {},
   "outputs": [],
   "source": [
    "from codes.optimizer import Optimizer\n",
    "# optimizer = optim.SGD(model.parameters(), lr=init_lr, momentum=momentum)\n",
    "optimizer = Optimizer(model.parameters(), name=OPTIM_NAME, lr=init_lr)"
   ]
  },
  {
   "cell_type": "code",
   "execution_count": 26,
   "metadata": {
    "scrolled": true
   },
   "outputs": [
    {
     "name": "stderr",
     "output_type": "stream",
     "text": [
      "336it [02:57,  1.89it/s]\n",
      "336it [00:47,  7.04it/s]\n",
      "48it [00:07,  6.15it/s]\n",
      "336it [02:59,  1.88it/s]\n",
      "336it [00:51,  6.48it/s]\n",
      "48it [00:07,  6.24it/s]\n",
      "336it [02:54,  1.92it/s]\n",
      "336it [00:49,  6.77it/s]\n",
      "48it [00:07,  6.15it/s]\n",
      "336it [02:54,  1.93it/s]\n",
      "336it [00:49,  6.82it/s]\n",
      "48it [00:07,  6.16it/s]\n",
      "336it [02:59,  1.88it/s]\n",
      "336it [00:51,  6.53it/s]\n",
      "48it [00:07,  6.27it/s]\n",
      "336it [02:58,  1.89it/s]\n",
      "336it [00:52,  6.35it/s]\n",
      "48it [00:07,  6.19it/s]\n",
      "336it [02:52,  1.95it/s]\n",
      "336it [00:53,  6.33it/s]\n",
      "48it [00:07,  6.12it/s]\n",
      "336it [02:57,  1.89it/s]\n",
      "336it [00:52,  6.46it/s]\n",
      "48it [00:07,  6.41it/s]\n",
      "336it [03:00,  1.86it/s]\n",
      "336it [00:53,  6.31it/s]\n",
      "48it [00:07,  6.19it/s]\n",
      "336it [02:52,  1.95it/s]\n",
      "336it [00:52,  6.34it/s]\n",
      "48it [00:07,  6.17it/s]\n",
      "336it [02:56,  1.91it/s]\n",
      "336it [00:50,  6.68it/s]\n",
      "48it [00:07,  6.17it/s]\n",
      "336it [02:55,  1.91it/s]\n",
      "336it [00:53,  6.30it/s]\n",
      "48it [00:06,  7.01it/s]\n",
      "336it [02:54,  1.93it/s]\n",
      "336it [00:53,  6.34it/s]\n",
      "48it [00:07,  6.17it/s]\n",
      "336it [02:55,  1.92it/s]\n",
      "336it [00:51,  6.46it/s]\n",
      "48it [00:07,  6.15it/s]\n",
      "336it [03:01,  1.85it/s]\n",
      "336it [00:51,  6.55it/s]\n",
      "48it [00:07,  6.28it/s]\n",
      "336it [02:55,  1.92it/s]\n",
      "336it [00:53,  6.32it/s]\n",
      "48it [00:07,  6.17it/s]\n",
      "336it [02:49,  1.98it/s]\n",
      "336it [00:53,  6.33it/s]\n",
      "48it [00:07,  6.15it/s]\n",
      "336it [02:59,  1.87it/s]\n",
      "336it [00:51,  6.48it/s]\n",
      "48it [00:07,  6.28it/s]\n",
      "336it [02:56,  1.91it/s]\n",
      "336it [00:52,  6.35it/s]\n",
      "48it [00:07,  6.15it/s]\n",
      "336it [02:52,  1.95it/s]\n",
      "336it [00:51,  6.55it/s]\n",
      "48it [00:07,  6.10it/s]\n",
      "336it [02:58,  1.88it/s]\n",
      "336it [00:50,  6.68it/s]\n",
      "48it [00:07,  6.19it/s]\n",
      "336it [02:59,  1.88it/s]\n",
      "336it [00:52,  6.35it/s]\n",
      "48it [00:06,  6.99it/s]\n",
      "336it [02:53,  1.93it/s]\n",
      "336it [00:53,  6.32it/s]\n",
      "48it [00:07,  6.19it/s]\n",
      "336it [02:56,  1.90it/s]\n",
      "336it [00:52,  6.44it/s]\n",
      "48it [00:07,  6.17it/s]\n",
      "336it [02:58,  1.88it/s]\n",
      "336it [00:51,  6.55it/s]\n",
      "48it [00:07,  6.28it/s]\n",
      "336it [02:55,  1.92it/s]\n",
      "336it [00:52,  6.35it/s]\n",
      "48it [00:07,  6.20it/s]\n",
      "336it [02:52,  1.95it/s]\n",
      "336it [00:53,  6.33it/s]\n",
      "48it [00:07,  6.17it/s]\n",
      "336it [02:57,  1.89it/s]\n",
      "336it [00:51,  6.46it/s]\n",
      "48it [00:07,  6.40it/s]\n",
      "336it [02:50,  1.97it/s]\n",
      "336it [00:53,  6.33it/s]\n",
      "48it [00:07,  6.17it/s]\n",
      "336it [02:54,  1.93it/s]\n",
      "336it [00:53,  6.34it/s]\n",
      "48it [00:07,  6.19it/s]\n",
      "336it [02:56,  1.90it/s]\n",
      "336it [00:49,  6.78it/s]\n",
      "48it [00:08,  5.94it/s]\n",
      "336it [02:58,  1.88it/s]\n",
      "336it [00:53,  6.33it/s]\n",
      "48it [00:06,  7.61it/s]\n",
      "336it [02:56,  1.90it/s]\n",
      "336it [00:52,  6.35it/s]\n",
      "48it [00:07,  6.12it/s]\n",
      "336it [02:54,  1.92it/s]\n",
      "336it [00:51,  6.52it/s]\n",
      "48it [00:07,  6.15it/s]\n",
      "336it [02:58,  1.88it/s]\n",
      "336it [00:51,  6.53it/s]\n",
      "48it [00:07,  6.26it/s]\n",
      "336it [02:57,  1.89it/s]\n",
      "336it [00:52,  6.35it/s]\n",
      "48it [00:07,  6.16it/s]\n",
      "336it [02:52,  1.95it/s]\n",
      "336it [00:52,  6.35it/s]\n",
      "48it [00:06,  7.15it/s]\n",
      "336it [02:57,  1.90it/s]\n",
      "336it [00:51,  6.49it/s]\n",
      "48it [00:07,  6.26it/s]\n",
      "336it [02:58,  1.88it/s]\n",
      "336it [00:53,  6.32it/s]\n",
      "48it [00:07,  6.17it/s]\n",
      "336it [02:52,  1.95it/s]\n",
      "336it [00:52,  6.35it/s]\n",
      "48it [00:07,  6.19it/s]\n",
      "336it [02:56,  1.91it/s]\n",
      "336it [00:50,  6.72it/s]\n",
      "48it [00:07,  6.14it/s]\n",
      "336it [03:01,  1.85it/s]\n",
      "336it [00:51,  6.49it/s]\n",
      "48it [00:07,  6.28it/s]\n",
      "336it [02:54,  1.93it/s]\n",
      "336it [00:53,  6.31it/s]\n",
      "48it [00:07,  6.15it/s]\n",
      "336it [02:54,  1.93it/s]\n",
      "336it [00:52,  6.45it/s]\n",
      "48it [00:07,  6.10it/s]\n",
      "336it [03:01,  1.85it/s]\n",
      "336it [00:50,  6.60it/s]\n",
      "48it [00:07,  6.28it/s]\n",
      "336it [02:49,  1.98it/s]\n",
      "336it [00:53,  6.31it/s]\n",
      "48it [00:07,  6.15it/s]\n",
      "336it [02:52,  1.95it/s]\n",
      "336it [00:53,  6.34it/s]\n",
      "48it [00:07,  6.14it/s]\n",
      "336it [03:00,  1.86it/s]\n",
      "336it [00:51,  6.48it/s]\n",
      "48it [00:07,  6.47it/s]\n",
      "336it [02:57,  1.89it/s]\n",
      "336it [00:52,  6.34it/s]\n",
      "48it [00:07,  6.15it/s]\n",
      "336it [02:51,  1.95it/s]\n",
      "336it [00:53,  6.33it/s]\n",
      "48it [00:07,  6.12it/s]\n",
      "336it [02:58,  1.88it/s]\n",
      "336it [00:50,  6.65it/s]\n",
      "48it [00:07,  6.16it/s]\n",
      "336it [02:58,  1.88it/s]\n",
      "336it [00:51,  6.48it/s]\n",
      "48it [00:07,  6.28it/s]\n",
      "336it [02:54,  1.93it/s]\n",
      "336it [00:53,  6.32it/s]\n",
      "48it [00:07,  6.14it/s]\n",
      "336it [02:55,  1.91it/s]\n",
      "336it [00:52,  6.40it/s]\n",
      "48it [00:07,  6.57it/s]\n",
      "336it [02:58,  1.88it/s]\n",
      "336it [00:50,  6.62it/s]\n",
      "48it [00:07,  6.29it/s]\n",
      "336it [02:55,  1.92it/s]\n",
      "336it [00:52,  6.34it/s]\n",
      "48it [00:07,  6.18it/s]\n",
      "336it [02:54,  1.93it/s]\n",
      "336it [00:53,  6.34it/s]\n",
      "48it [00:07,  6.19it/s]\n",
      "336it [02:56,  1.90it/s]\n",
      "336it [00:51,  6.48it/s]\n",
      "48it [00:06,  7.38it/s]\n",
      "336it [02:57,  1.89it/s]\n",
      "336it [00:53,  6.34it/s]\n",
      "48it [00:07,  6.17it/s]\n",
      "336it [02:54,  1.93it/s]\n",
      "336it [00:53,  6.31it/s]\n",
      "48it [00:07,  6.10it/s]\n",
      "336it [02:55,  1.92it/s]\n",
      "336it [00:50,  6.68it/s]\n",
      "48it [00:07,  6.17it/s]\n",
      "336it [02:58,  1.88it/s]\n",
      "336it [00:51,  6.49it/s]\n",
      "48it [00:07,  6.25it/s]\n",
      "336it [02:51,  1.96it/s]\n",
      "336it [00:53,  6.34it/s]\n",
      "48it [00:07,  6.16it/s]\n",
      "336it [02:53,  1.94it/s]\n",
      "336it [00:52,  6.44it/s]\n",
      "48it [00:07,  6.12it/s]\n",
      "336it [02:58,  1.88it/s]\n",
      "336it [00:51,  6.54it/s]\n",
      "48it [00:07,  6.24it/s]\n",
      "336it [02:57,  1.89it/s]\n",
      "336it [00:52,  6.35it/s]\n",
      "48it [00:07,  6.16it/s]\n",
      "336it [02:52,  1.95it/s]\n",
      "336it [00:52,  6.34it/s]\n",
      "48it [00:07,  6.21it/s]\n",
      "336it [02:56,  1.90it/s]\n",
      "336it [00:51,  6.49it/s]\n",
      "48it [00:06,  7.42it/s]\n",
      "336it [02:59,  1.87it/s]\n",
      "336it [00:53,  6.32it/s]\n",
      "48it [00:07,  6.20it/s]\n",
      "336it [02:51,  1.96it/s]\n",
      "336it [00:53,  6.32it/s]\n",
      "48it [00:07,  6.14it/s]\n",
      "336it [02:55,  1.91it/s]\n",
      "336it [00:50,  6.69it/s]\n",
      "48it [00:07,  6.14it/s]\n",
      "336it [02:55,  1.92it/s]\n",
      "336it [00:52,  6.44it/s]\n",
      "48it [00:08,  5.85it/s]\n",
      "336it [02:53,  1.93it/s]\n",
      "336it [00:53,  6.33it/s]\n",
      "48it [00:07,  6.18it/s]\n",
      "336it [02:53,  1.93it/s]\n",
      "336it [00:52,  6.44it/s]\n",
      "48it [00:07,  6.11it/s]\n",
      "336it [03:01,  1.85it/s]\n",
      "336it [00:51,  6.56it/s]\n",
      "48it [00:07,  6.27it/s]\n",
      "336it [02:55,  1.91it/s]\n",
      "336it [00:53,  6.32it/s]\n",
      "48it [00:07,  6.17it/s]\n",
      "336it [02:52,  1.95it/s]\n",
      "336it [00:53,  6.33it/s]\n",
      "48it [00:07,  6.18it/s]\n",
      "336it [02:59,  1.87it/s]\n",
      "336it [00:51,  6.51it/s]\n",
      "48it [00:07,  6.12it/s]\n",
      "336it [02:57,  1.89it/s]\n",
      "336it [00:53,  6.33it/s]\n",
      "48it [00:07,  6.18it/s]\n",
      "336it [02:45,  2.02it/s]\n",
      "336it [00:52,  6.34it/s]\n",
      "48it [00:07,  6.16it/s]\n",
      "336it [02:58,  1.88it/s]\n",
      "336it [00:50,  6.69it/s]\n",
      "48it [00:07,  6.19it/s]\n",
      "336it [02:58,  1.88it/s]\n",
      "336it [00:51,  6.47it/s]\n",
      "48it [00:08,  5.86it/s]\n",
      "336it [02:54,  1.93it/s]\n",
      "336it [00:53,  6.32it/s]\n",
      "48it [00:07,  6.16it/s]\n",
      "336it [02:56,  1.90it/s]\n",
      "336it [00:52,  6.44it/s]\n",
      "48it [00:07,  6.13it/s]\n",
      "336it [02:58,  1.88it/s]\n",
      "336it [00:50,  6.61it/s]\n",
      "48it [00:07,  6.30it/s]\n",
      "336it [02:54,  1.92it/s]\n",
      "336it [00:53,  6.34it/s]\n",
      "48it [00:07,  6.19it/s]\n",
      "336it [02:54,  1.92it/s]\n",
      "336it [00:53,  6.34it/s]\n",
      "48it [00:07,  6.14it/s]\n",
      "336it [02:56,  1.90it/s]\n",
      "336it [00:51,  6.53it/s]\n",
      "48it [00:07,  6.07it/s]\n",
      "336it [02:51,  1.96it/s]\n",
      "336it [00:53,  6.32it/s]\n",
      "48it [00:07,  6.17it/s]\n",
      "336it [02:54,  1.92it/s]\n",
      "336it [00:52,  6.35it/s]\n",
      "48it [00:07,  6.16it/s]\n",
      "336it [02:55,  1.91it/s]\n",
      "336it [00:50,  6.70it/s]\n",
      "48it [00:07,  6.21it/s]\n",
      "336it [02:58,  1.88it/s]\n",
      "336it [00:51,  6.52it/s]\n",
      "48it [00:07,  6.19it/s]\n",
      "336it [01:58,  2.83it/s]\n",
      "336it [00:30, 10.87it/s]\n",
      "48it [00:04, 11.89it/s]\n",
      "336it [01:28,  3.80it/s]\n",
      "336it [00:26, 12.53it/s]\n",
      "48it [00:04, 11.87it/s]\n",
      "336it [01:28,  3.80it/s]\n",
      "336it [00:26, 12.50it/s]\n",
      "48it [00:04, 11.87it/s]\n",
      "336it [01:28,  3.80it/s]\n",
      "336it [00:26, 12.51it/s]\n",
      "48it [00:04, 11.90it/s]\n",
      "336it [01:28,  3.80it/s]\n",
      "336it [00:26, 12.52it/s]\n",
      "48it [00:04, 11.88it/s]\n",
      "336it [01:28,  3.80it/s]\n",
      "336it [00:26, 12.51it/s]\n",
      "48it [00:04, 11.90it/s]\n",
      "336it [01:28,  3.78it/s]\n",
      "336it [00:26, 12.51it/s]\n",
      "48it [00:04, 11.90it/s]\n",
      "336it [01:28,  3.79it/s]\n",
      "336it [00:26, 12.50it/s]\n",
      "48it [00:04, 11.83it/s]\n",
      "336it [01:28,  3.81it/s]\n",
      "336it [00:26, 12.52it/s]\n",
      "48it [00:04, 11.92it/s]\n",
      "336it [01:28,  3.78it/s]\n",
      "336it [00:26, 12.54it/s]\n",
      "48it [00:04, 11.91it/s]\n",
      "336it [01:28,  3.78it/s]\n",
      "336it [00:26, 12.54it/s]\n",
      "48it [00:04, 11.90it/s]\n",
      "336it [01:28,  3.80it/s]\n",
      "336it [00:26, 12.50it/s]\n",
      "48it [00:04, 11.88it/s]\n",
      "336it [01:28,  3.79it/s]\n",
      "336it [00:27, 12.43it/s]\n",
      "48it [00:04, 11.76it/s]\n",
      "336it [01:28,  3.81it/s]\n",
      "336it [00:26, 12.55it/s]\n",
      "48it [00:04, 11.92it/s]\n",
      "336it [01:29,  3.77it/s]\n",
      "325it [00:26, 12.48it/s]\n"
     ]
    },
    {
     "ename": "KeyboardInterrupt",
     "evalue": "",
     "output_type": "error",
     "traceback": [
      "\u001b[0;31m---------------------------------------------------------------------------\u001b[0m",
      "\u001b[0;31mKeyboardInterrupt\u001b[0m                         Traceback (most recent call last)",
      "\u001b[0;32m<ipython-input-26-b5955f75a09e>\u001b[0m in \u001b[0;36m<module>\u001b[0;34m\u001b[0m\n\u001b[1;32m      6\u001b[0m \u001b[0;34m\u001b[0m\u001b[0m\n\u001b[1;32m      7\u001b[0m         \u001b[0mloss_cbct\u001b[0m\u001b[0;34m,\u001b[0m \u001b[0mloss_ct\u001b[0m \u001b[0;34m=\u001b[0m \u001b[0mtrain_epoch\u001b[0m\u001b[0;34m(\u001b[0m\u001b[0mmodel\u001b[0m\u001b[0;34m,\u001b[0m \u001b[0moptimizer\u001b[0m\u001b[0;34m,\u001b[0m \u001b[0mtrainloader\u001b[0m\u001b[0;34m,\u001b[0m \u001b[0mdevice\u001b[0m\u001b[0;34m)\u001b[0m\u001b[0;34m\u001b[0m\u001b[0;34m\u001b[0m\u001b[0m\n\u001b[0;32m----> 8\u001b[0;31m         \u001b[0mcbct_acc_train\u001b[0m\u001b[0;34m,\u001b[0m \u001b[0mct_acc_train\u001b[0m \u001b[0;34m=\u001b[0m \u001b[0meval_epoch\u001b[0m\u001b[0;34m(\u001b[0m\u001b[0mmodel\u001b[0m\u001b[0;34m,\u001b[0m \u001b[0mtrainloader\u001b[0m\u001b[0;34m,\u001b[0m \u001b[0mdevice\u001b[0m\u001b[0;34m)\u001b[0m\u001b[0;34m\u001b[0m\u001b[0;34m\u001b[0m\u001b[0m\n\u001b[0m\u001b[1;32m      9\u001b[0m         \u001b[0mcbct_acc_test\u001b[0m\u001b[0;34m,\u001b[0m \u001b[0mct_acc_test\u001b[0m \u001b[0;34m=\u001b[0m \u001b[0meval_epoch\u001b[0m\u001b[0;34m(\u001b[0m\u001b[0mmodel\u001b[0m\u001b[0;34m,\u001b[0m \u001b[0mtestloader\u001b[0m\u001b[0;34m,\u001b[0m \u001b[0mdevice\u001b[0m\u001b[0;34m)\u001b[0m\u001b[0;34m\u001b[0m\u001b[0;34m\u001b[0m\u001b[0m\n\u001b[1;32m     10\u001b[0m \u001b[0;34m\u001b[0m\u001b[0m\n",
      "\u001b[0;32m/opt/conda/lib/python3.8/site-packages/torch/autograd/grad_mode.py\u001b[0m in \u001b[0;36mdecorate_context\u001b[0;34m(*args, **kwargs)\u001b[0m\n\u001b[1;32m     24\u001b[0m         \u001b[0;32mdef\u001b[0m \u001b[0mdecorate_context\u001b[0m\u001b[0;34m(\u001b[0m\u001b[0;34m*\u001b[0m\u001b[0margs\u001b[0m\u001b[0;34m,\u001b[0m \u001b[0;34m**\u001b[0m\u001b[0mkwargs\u001b[0m\u001b[0;34m)\u001b[0m\u001b[0;34m:\u001b[0m\u001b[0;34m\u001b[0m\u001b[0;34m\u001b[0m\u001b[0m\n\u001b[1;32m     25\u001b[0m             \u001b[0;32mwith\u001b[0m \u001b[0mself\u001b[0m\u001b[0;34m.\u001b[0m\u001b[0m__class__\u001b[0m\u001b[0;34m(\u001b[0m\u001b[0;34m)\u001b[0m\u001b[0;34m:\u001b[0m\u001b[0;34m\u001b[0m\u001b[0;34m\u001b[0m\u001b[0m\n\u001b[0;32m---> 26\u001b[0;31m                 \u001b[0;32mreturn\u001b[0m \u001b[0mfunc\u001b[0m\u001b[0;34m(\u001b[0m\u001b[0;34m*\u001b[0m\u001b[0margs\u001b[0m\u001b[0;34m,\u001b[0m \u001b[0;34m**\u001b[0m\u001b[0mkwargs\u001b[0m\u001b[0;34m)\u001b[0m\u001b[0;34m\u001b[0m\u001b[0;34m\u001b[0m\u001b[0m\n\u001b[0m\u001b[1;32m     27\u001b[0m         \u001b[0;32mreturn\u001b[0m \u001b[0mcast\u001b[0m\u001b[0;34m(\u001b[0m\u001b[0mF\u001b[0m\u001b[0;34m,\u001b[0m \u001b[0mdecorate_context\u001b[0m\u001b[0;34m)\u001b[0m\u001b[0;34m\u001b[0m\u001b[0;34m\u001b[0m\u001b[0m\n\u001b[1;32m     28\u001b[0m \u001b[0;34m\u001b[0m\u001b[0m\n",
      "\u001b[0;32m<ipython-input-10-c2849a3da48a>\u001b[0m in \u001b[0;36meval_epoch\u001b[0;34m(model, dataloader, device)\u001b[0m\n\u001b[1;32m     16\u001b[0m \u001b[0;34m\u001b[0m\u001b[0m\n\u001b[1;32m     17\u001b[0m         \u001b[0mx_pr\u001b[0m \u001b[0;34m=\u001b[0m \u001b[0mmodel\u001b[0m\u001b[0;34m(\u001b[0m\u001b[0mx\u001b[0m\u001b[0;34m)\u001b[0m\u001b[0;34m\u001b[0m\u001b[0;34m\u001b[0m\u001b[0m\n\u001b[0;32m---> 18\u001b[0;31m         \u001b[0my_pr\u001b[0m \u001b[0;34m=\u001b[0m \u001b[0mmodel\u001b[0m\u001b[0;34m(\u001b[0m\u001b[0my\u001b[0m\u001b[0;34m)\u001b[0m\u001b[0;34m\u001b[0m\u001b[0;34m\u001b[0m\u001b[0m\n\u001b[0m\u001b[1;32m     19\u001b[0m \u001b[0;34m\u001b[0m\u001b[0m\n\u001b[1;32m     20\u001b[0m         \u001b[0mtotal\u001b[0m \u001b[0;34m+=\u001b[0m \u001b[0mx\u001b[0m\u001b[0;34m.\u001b[0m\u001b[0msize\u001b[0m\u001b[0;34m(\u001b[0m\u001b[0;34m)\u001b[0m\u001b[0;34m[\u001b[0m\u001b[0;36m0\u001b[0m\u001b[0;34m]\u001b[0m\u001b[0;34m\u001b[0m\u001b[0;34m\u001b[0m\u001b[0m\n",
      "\u001b[0;32m/opt/conda/lib/python3.8/site-packages/torch/nn/modules/module.py\u001b[0m in \u001b[0;36m_call_impl\u001b[0;34m(self, *input, **kwargs)\u001b[0m\n\u001b[1;32m    742\u001b[0m             \u001b[0mresult\u001b[0m \u001b[0;34m=\u001b[0m \u001b[0mself\u001b[0m\u001b[0;34m.\u001b[0m\u001b[0m_slow_forward\u001b[0m\u001b[0;34m(\u001b[0m\u001b[0;34m*\u001b[0m\u001b[0minput\u001b[0m\u001b[0;34m,\u001b[0m \u001b[0;34m**\u001b[0m\u001b[0mkwargs\u001b[0m\u001b[0;34m)\u001b[0m\u001b[0;34m\u001b[0m\u001b[0;34m\u001b[0m\u001b[0m\n\u001b[1;32m    743\u001b[0m         \u001b[0;32melse\u001b[0m\u001b[0;34m:\u001b[0m\u001b[0;34m\u001b[0m\u001b[0;34m\u001b[0m\u001b[0m\n\u001b[0;32m--> 744\u001b[0;31m             \u001b[0mresult\u001b[0m \u001b[0;34m=\u001b[0m \u001b[0mself\u001b[0m\u001b[0;34m.\u001b[0m\u001b[0mforward\u001b[0m\u001b[0;34m(\u001b[0m\u001b[0;34m*\u001b[0m\u001b[0minput\u001b[0m\u001b[0;34m,\u001b[0m \u001b[0;34m**\u001b[0m\u001b[0mkwargs\u001b[0m\u001b[0;34m)\u001b[0m\u001b[0;34m\u001b[0m\u001b[0;34m\u001b[0m\u001b[0m\n\u001b[0m\u001b[1;32m    745\u001b[0m         for hook in itertools.chain(\n\u001b[1;32m    746\u001b[0m                 \u001b[0m_global_forward_hooks\u001b[0m\u001b[0;34m.\u001b[0m\u001b[0mvalues\u001b[0m\u001b[0;34m(\u001b[0m\u001b[0;34m)\u001b[0m\u001b[0;34m,\u001b[0m\u001b[0;34m\u001b[0m\u001b[0;34m\u001b[0m\u001b[0m\n",
      "\u001b[0;32m<ipython-input-21-578b9f56cca1>\u001b[0m in \u001b[0;36mforward\u001b[0;34m(self, x)\u001b[0m\n\u001b[1;32m     12\u001b[0m     \u001b[0;32mdef\u001b[0m \u001b[0mforward\u001b[0m\u001b[0;34m(\u001b[0m\u001b[0mself\u001b[0m\u001b[0;34m,\u001b[0m \u001b[0mx\u001b[0m\u001b[0;34m)\u001b[0m\u001b[0;34m:\u001b[0m\u001b[0;34m\u001b[0m\u001b[0;34m\u001b[0m\u001b[0m\n\u001b[1;32m     13\u001b[0m \u001b[0;34m\u001b[0m\u001b[0m\n\u001b[0;32m---> 14\u001b[0;31m         \u001b[0mx\u001b[0m \u001b[0;34m=\u001b[0m \u001b[0mself\u001b[0m\u001b[0;34m.\u001b[0m\u001b[0mencoder\u001b[0m\u001b[0;34m(\u001b[0m\u001b[0mx\u001b[0m\u001b[0;34m)\u001b[0m\u001b[0;34m[\u001b[0m\u001b[0;34m-\u001b[0m\u001b[0;36m1\u001b[0m\u001b[0;34m]\u001b[0m\u001b[0;34m\u001b[0m\u001b[0;34m\u001b[0m\u001b[0m\n\u001b[0m\u001b[1;32m     15\u001b[0m         \u001b[0mx\u001b[0m \u001b[0;34m=\u001b[0m \u001b[0mself\u001b[0m\u001b[0;34m.\u001b[0m\u001b[0mpooling\u001b[0m\u001b[0;34m(\u001b[0m\u001b[0mx\u001b[0m\u001b[0;34m)\u001b[0m\u001b[0;34m\u001b[0m\u001b[0;34m\u001b[0m\u001b[0m\n\u001b[1;32m     16\u001b[0m         \u001b[0mx\u001b[0m \u001b[0;34m=\u001b[0m \u001b[0mtorch\u001b[0m\u001b[0;34m.\u001b[0m\u001b[0mflatten\u001b[0m\u001b[0;34m(\u001b[0m\u001b[0mx\u001b[0m\u001b[0;34m,\u001b[0m \u001b[0mstart_dim\u001b[0m\u001b[0;34m=\u001b[0m\u001b[0;36m1\u001b[0m\u001b[0;34m)\u001b[0m\u001b[0;34m\u001b[0m\u001b[0;34m\u001b[0m\u001b[0m\n",
      "\u001b[0;32m/opt/conda/lib/python3.8/site-packages/torch/nn/modules/module.py\u001b[0m in \u001b[0;36m_call_impl\u001b[0;34m(self, *input, **kwargs)\u001b[0m\n\u001b[1;32m    742\u001b[0m             \u001b[0mresult\u001b[0m \u001b[0;34m=\u001b[0m \u001b[0mself\u001b[0m\u001b[0;34m.\u001b[0m\u001b[0m_slow_forward\u001b[0m\u001b[0;34m(\u001b[0m\u001b[0;34m*\u001b[0m\u001b[0minput\u001b[0m\u001b[0;34m,\u001b[0m \u001b[0;34m**\u001b[0m\u001b[0mkwargs\u001b[0m\u001b[0;34m)\u001b[0m\u001b[0;34m\u001b[0m\u001b[0;34m\u001b[0m\u001b[0m\n\u001b[1;32m    743\u001b[0m         \u001b[0;32melse\u001b[0m\u001b[0;34m:\u001b[0m\u001b[0;34m\u001b[0m\u001b[0;34m\u001b[0m\u001b[0m\n\u001b[0;32m--> 744\u001b[0;31m             \u001b[0mresult\u001b[0m \u001b[0;34m=\u001b[0m \u001b[0mself\u001b[0m\u001b[0;34m.\u001b[0m\u001b[0mforward\u001b[0m\u001b[0;34m(\u001b[0m\u001b[0;34m*\u001b[0m\u001b[0minput\u001b[0m\u001b[0;34m,\u001b[0m \u001b[0;34m**\u001b[0m\u001b[0mkwargs\u001b[0m\u001b[0;34m)\u001b[0m\u001b[0;34m\u001b[0m\u001b[0;34m\u001b[0m\u001b[0m\n\u001b[0m\u001b[1;32m    745\u001b[0m         for hook in itertools.chain(\n\u001b[1;32m    746\u001b[0m                 \u001b[0m_global_forward_hooks\u001b[0m\u001b[0;34m.\u001b[0m\u001b[0mvalues\u001b[0m\u001b[0;34m(\u001b[0m\u001b[0;34m)\u001b[0m\u001b[0;34m,\u001b[0m\u001b[0;34m\u001b[0m\u001b[0;34m\u001b[0m\u001b[0m\n",
      "\u001b[0;32m/opt/conda/lib/python3.8/site-packages/segmentation_models_pytorch/encoders/resnet.py\u001b[0m in \u001b[0;36mforward\u001b[0;34m(self, x)\u001b[0m\n\u001b[1;32m     60\u001b[0m         \u001b[0mfeatures\u001b[0m \u001b[0;34m=\u001b[0m \u001b[0;34m[\u001b[0m\u001b[0;34m]\u001b[0m\u001b[0;34m\u001b[0m\u001b[0;34m\u001b[0m\u001b[0m\n\u001b[1;32m     61\u001b[0m         \u001b[0;32mfor\u001b[0m \u001b[0mi\u001b[0m \u001b[0;32min\u001b[0m \u001b[0mrange\u001b[0m\u001b[0;34m(\u001b[0m\u001b[0mself\u001b[0m\u001b[0;34m.\u001b[0m\u001b[0m_depth\u001b[0m \u001b[0;34m+\u001b[0m \u001b[0;36m1\u001b[0m\u001b[0;34m)\u001b[0m\u001b[0;34m:\u001b[0m\u001b[0;34m\u001b[0m\u001b[0;34m\u001b[0m\u001b[0m\n\u001b[0;32m---> 62\u001b[0;31m             \u001b[0mx\u001b[0m \u001b[0;34m=\u001b[0m \u001b[0mstages\u001b[0m\u001b[0;34m[\u001b[0m\u001b[0mi\u001b[0m\u001b[0;34m]\u001b[0m\u001b[0;34m(\u001b[0m\u001b[0mx\u001b[0m\u001b[0;34m)\u001b[0m\u001b[0;34m\u001b[0m\u001b[0;34m\u001b[0m\u001b[0m\n\u001b[0m\u001b[1;32m     63\u001b[0m             \u001b[0mfeatures\u001b[0m\u001b[0;34m.\u001b[0m\u001b[0mappend\u001b[0m\u001b[0;34m(\u001b[0m\u001b[0mx\u001b[0m\u001b[0;34m)\u001b[0m\u001b[0;34m\u001b[0m\u001b[0;34m\u001b[0m\u001b[0m\n\u001b[1;32m     64\u001b[0m \u001b[0;34m\u001b[0m\u001b[0m\n",
      "\u001b[0;32m/opt/conda/lib/python3.8/site-packages/torch/nn/modules/module.py\u001b[0m in \u001b[0;36m_call_impl\u001b[0;34m(self, *input, **kwargs)\u001b[0m\n\u001b[1;32m    742\u001b[0m             \u001b[0mresult\u001b[0m \u001b[0;34m=\u001b[0m \u001b[0mself\u001b[0m\u001b[0;34m.\u001b[0m\u001b[0m_slow_forward\u001b[0m\u001b[0;34m(\u001b[0m\u001b[0;34m*\u001b[0m\u001b[0minput\u001b[0m\u001b[0;34m,\u001b[0m \u001b[0;34m**\u001b[0m\u001b[0mkwargs\u001b[0m\u001b[0;34m)\u001b[0m\u001b[0;34m\u001b[0m\u001b[0;34m\u001b[0m\u001b[0m\n\u001b[1;32m    743\u001b[0m         \u001b[0;32melse\u001b[0m\u001b[0;34m:\u001b[0m\u001b[0;34m\u001b[0m\u001b[0;34m\u001b[0m\u001b[0m\n\u001b[0;32m--> 744\u001b[0;31m             \u001b[0mresult\u001b[0m \u001b[0;34m=\u001b[0m \u001b[0mself\u001b[0m\u001b[0;34m.\u001b[0m\u001b[0mforward\u001b[0m\u001b[0;34m(\u001b[0m\u001b[0;34m*\u001b[0m\u001b[0minput\u001b[0m\u001b[0;34m,\u001b[0m \u001b[0;34m**\u001b[0m\u001b[0mkwargs\u001b[0m\u001b[0;34m)\u001b[0m\u001b[0;34m\u001b[0m\u001b[0;34m\u001b[0m\u001b[0m\n\u001b[0m\u001b[1;32m    745\u001b[0m         for hook in itertools.chain(\n\u001b[1;32m    746\u001b[0m                 \u001b[0m_global_forward_hooks\u001b[0m\u001b[0;34m.\u001b[0m\u001b[0mvalues\u001b[0m\u001b[0;34m(\u001b[0m\u001b[0;34m)\u001b[0m\u001b[0;34m,\u001b[0m\u001b[0;34m\u001b[0m\u001b[0;34m\u001b[0m\u001b[0m\n",
      "\u001b[0;32m/opt/conda/lib/python3.8/site-packages/torch/nn/modules/container.py\u001b[0m in \u001b[0;36mforward\u001b[0;34m(self, input)\u001b[0m\n\u001b[1;32m    115\u001b[0m     \u001b[0;32mdef\u001b[0m \u001b[0mforward\u001b[0m\u001b[0;34m(\u001b[0m\u001b[0mself\u001b[0m\u001b[0;34m,\u001b[0m \u001b[0minput\u001b[0m\u001b[0;34m)\u001b[0m\u001b[0;34m:\u001b[0m\u001b[0;34m\u001b[0m\u001b[0;34m\u001b[0m\u001b[0m\n\u001b[1;32m    116\u001b[0m         \u001b[0;32mfor\u001b[0m \u001b[0mmodule\u001b[0m \u001b[0;32min\u001b[0m \u001b[0mself\u001b[0m\u001b[0;34m:\u001b[0m\u001b[0;34m\u001b[0m\u001b[0;34m\u001b[0m\u001b[0m\n\u001b[0;32m--> 117\u001b[0;31m             \u001b[0minput\u001b[0m \u001b[0;34m=\u001b[0m \u001b[0mmodule\u001b[0m\u001b[0;34m(\u001b[0m\u001b[0minput\u001b[0m\u001b[0;34m)\u001b[0m\u001b[0;34m\u001b[0m\u001b[0;34m\u001b[0m\u001b[0m\n\u001b[0m\u001b[1;32m    118\u001b[0m         \u001b[0;32mreturn\u001b[0m \u001b[0minput\u001b[0m\u001b[0;34m\u001b[0m\u001b[0;34m\u001b[0m\u001b[0m\n\u001b[1;32m    119\u001b[0m \u001b[0;34m\u001b[0m\u001b[0m\n",
      "\u001b[0;32m/opt/conda/lib/python3.8/site-packages/torch/nn/modules/module.py\u001b[0m in \u001b[0;36m_call_impl\u001b[0;34m(self, *input, **kwargs)\u001b[0m\n\u001b[1;32m    742\u001b[0m             \u001b[0mresult\u001b[0m \u001b[0;34m=\u001b[0m \u001b[0mself\u001b[0m\u001b[0;34m.\u001b[0m\u001b[0m_slow_forward\u001b[0m\u001b[0;34m(\u001b[0m\u001b[0;34m*\u001b[0m\u001b[0minput\u001b[0m\u001b[0;34m,\u001b[0m \u001b[0;34m**\u001b[0m\u001b[0mkwargs\u001b[0m\u001b[0;34m)\u001b[0m\u001b[0;34m\u001b[0m\u001b[0;34m\u001b[0m\u001b[0m\n\u001b[1;32m    743\u001b[0m         \u001b[0;32melse\u001b[0m\u001b[0;34m:\u001b[0m\u001b[0;34m\u001b[0m\u001b[0;34m\u001b[0m\u001b[0m\n\u001b[0;32m--> 744\u001b[0;31m             \u001b[0mresult\u001b[0m \u001b[0;34m=\u001b[0m \u001b[0mself\u001b[0m\u001b[0;34m.\u001b[0m\u001b[0mforward\u001b[0m\u001b[0;34m(\u001b[0m\u001b[0;34m*\u001b[0m\u001b[0minput\u001b[0m\u001b[0;34m,\u001b[0m \u001b[0;34m**\u001b[0m\u001b[0mkwargs\u001b[0m\u001b[0;34m)\u001b[0m\u001b[0;34m\u001b[0m\u001b[0;34m\u001b[0m\u001b[0m\n\u001b[0m\u001b[1;32m    745\u001b[0m         for hook in itertools.chain(\n\u001b[1;32m    746\u001b[0m                 \u001b[0m_global_forward_hooks\u001b[0m\u001b[0;34m.\u001b[0m\u001b[0mvalues\u001b[0m\u001b[0;34m(\u001b[0m\u001b[0;34m)\u001b[0m\u001b[0;34m,\u001b[0m\u001b[0;34m\u001b[0m\u001b[0;34m\u001b[0m\u001b[0m\n",
      "\u001b[0;32m/opt/conda/lib/python3.8/site-packages/torchvision/models/resnet.py\u001b[0m in \u001b[0;36mforward\u001b[0;34m(self, x)\u001b[0m\n\u001b[1;32m    130\u001b[0m         \u001b[0mout\u001b[0m \u001b[0;34m=\u001b[0m \u001b[0mself\u001b[0m\u001b[0;34m.\u001b[0m\u001b[0mrelu\u001b[0m\u001b[0;34m(\u001b[0m\u001b[0mout\u001b[0m\u001b[0;34m)\u001b[0m\u001b[0;34m\u001b[0m\u001b[0;34m\u001b[0m\u001b[0m\n\u001b[1;32m    131\u001b[0m \u001b[0;34m\u001b[0m\u001b[0m\n\u001b[0;32m--> 132\u001b[0;31m         \u001b[0mout\u001b[0m \u001b[0;34m=\u001b[0m \u001b[0mself\u001b[0m\u001b[0;34m.\u001b[0m\u001b[0mconv3\u001b[0m\u001b[0;34m(\u001b[0m\u001b[0mout\u001b[0m\u001b[0;34m)\u001b[0m\u001b[0;34m\u001b[0m\u001b[0;34m\u001b[0m\u001b[0m\n\u001b[0m\u001b[1;32m    133\u001b[0m         \u001b[0mout\u001b[0m \u001b[0;34m=\u001b[0m \u001b[0mself\u001b[0m\u001b[0;34m.\u001b[0m\u001b[0mbn3\u001b[0m\u001b[0;34m(\u001b[0m\u001b[0mout\u001b[0m\u001b[0;34m)\u001b[0m\u001b[0;34m\u001b[0m\u001b[0;34m\u001b[0m\u001b[0m\n\u001b[1;32m    134\u001b[0m \u001b[0;34m\u001b[0m\u001b[0m\n",
      "\u001b[0;32m/opt/conda/lib/python3.8/site-packages/torch/nn/modules/module.py\u001b[0m in \u001b[0;36m_call_impl\u001b[0;34m(self, *input, **kwargs)\u001b[0m\n\u001b[1;32m    742\u001b[0m             \u001b[0mresult\u001b[0m \u001b[0;34m=\u001b[0m \u001b[0mself\u001b[0m\u001b[0;34m.\u001b[0m\u001b[0m_slow_forward\u001b[0m\u001b[0;34m(\u001b[0m\u001b[0;34m*\u001b[0m\u001b[0minput\u001b[0m\u001b[0;34m,\u001b[0m \u001b[0;34m**\u001b[0m\u001b[0mkwargs\u001b[0m\u001b[0;34m)\u001b[0m\u001b[0;34m\u001b[0m\u001b[0;34m\u001b[0m\u001b[0m\n\u001b[1;32m    743\u001b[0m         \u001b[0;32melse\u001b[0m\u001b[0;34m:\u001b[0m\u001b[0;34m\u001b[0m\u001b[0;34m\u001b[0m\u001b[0m\n\u001b[0;32m--> 744\u001b[0;31m             \u001b[0mresult\u001b[0m \u001b[0;34m=\u001b[0m \u001b[0mself\u001b[0m\u001b[0;34m.\u001b[0m\u001b[0mforward\u001b[0m\u001b[0;34m(\u001b[0m\u001b[0;34m*\u001b[0m\u001b[0minput\u001b[0m\u001b[0;34m,\u001b[0m \u001b[0;34m**\u001b[0m\u001b[0mkwargs\u001b[0m\u001b[0;34m)\u001b[0m\u001b[0;34m\u001b[0m\u001b[0;34m\u001b[0m\u001b[0m\n\u001b[0m\u001b[1;32m    745\u001b[0m         for hook in itertools.chain(\n\u001b[1;32m    746\u001b[0m                 \u001b[0m_global_forward_hooks\u001b[0m\u001b[0;34m.\u001b[0m\u001b[0mvalues\u001b[0m\u001b[0;34m(\u001b[0m\u001b[0;34m)\u001b[0m\u001b[0;34m,\u001b[0m\u001b[0;34m\u001b[0m\u001b[0;34m\u001b[0m\u001b[0m\n",
      "\u001b[0;32m/opt/conda/lib/python3.8/site-packages/torch/nn/modules/conv.py\u001b[0m in \u001b[0;36mforward\u001b[0;34m(self, input)\u001b[0m\n\u001b[1;32m    391\u001b[0m \u001b[0;34m\u001b[0m\u001b[0m\n\u001b[1;32m    392\u001b[0m     \u001b[0;32mdef\u001b[0m \u001b[0mforward\u001b[0m\u001b[0;34m(\u001b[0m\u001b[0mself\u001b[0m\u001b[0;34m,\u001b[0m \u001b[0minput\u001b[0m\u001b[0;34m:\u001b[0m \u001b[0mTensor\u001b[0m\u001b[0;34m)\u001b[0m \u001b[0;34m->\u001b[0m \u001b[0mTensor\u001b[0m\u001b[0;34m:\u001b[0m\u001b[0;34m\u001b[0m\u001b[0;34m\u001b[0m\u001b[0m\n\u001b[0;32m--> 393\u001b[0;31m         \u001b[0;32mreturn\u001b[0m \u001b[0mself\u001b[0m\u001b[0;34m.\u001b[0m\u001b[0m_conv_forward\u001b[0m\u001b[0;34m(\u001b[0m\u001b[0minput\u001b[0m\u001b[0;34m,\u001b[0m \u001b[0mself\u001b[0m\u001b[0;34m.\u001b[0m\u001b[0mweight\u001b[0m\u001b[0;34m)\u001b[0m\u001b[0;34m\u001b[0m\u001b[0;34m\u001b[0m\u001b[0m\n\u001b[0m\u001b[1;32m    394\u001b[0m \u001b[0;34m\u001b[0m\u001b[0m\n\u001b[1;32m    395\u001b[0m \u001b[0;32mclass\u001b[0m \u001b[0mConv3d\u001b[0m\u001b[0;34m(\u001b[0m\u001b[0m_ConvNd\u001b[0m\u001b[0;34m)\u001b[0m\u001b[0;34m:\u001b[0m\u001b[0;34m\u001b[0m\u001b[0;34m\u001b[0m\u001b[0m\n",
      "\u001b[0;32m/opt/conda/lib/python3.8/site-packages/torch/nn/modules/conv.py\u001b[0m in \u001b[0;36m_conv_forward\u001b[0;34m(self, input, weight)\u001b[0m\n\u001b[1;32m    387\u001b[0m                             \u001b[0mweight\u001b[0m\u001b[0;34m,\u001b[0m \u001b[0mself\u001b[0m\u001b[0;34m.\u001b[0m\u001b[0mbias\u001b[0m\u001b[0;34m,\u001b[0m \u001b[0mself\u001b[0m\u001b[0;34m.\u001b[0m\u001b[0mstride\u001b[0m\u001b[0;34m,\u001b[0m\u001b[0;34m\u001b[0m\u001b[0;34m\u001b[0m\u001b[0m\n\u001b[1;32m    388\u001b[0m                             _pair(0), self.dilation, self.groups)\n\u001b[0;32m--> 389\u001b[0;31m         return F.conv2d(input, weight, self.bias, self.stride,\n\u001b[0m\u001b[1;32m    390\u001b[0m                         self.padding, self.dilation, self.groups)\n\u001b[1;32m    391\u001b[0m \u001b[0;34m\u001b[0m\u001b[0m\n",
      "\u001b[0;31mKeyboardInterrupt\u001b[0m: "
     ]
    }
   ],
   "source": [
    "wandb.watch(model)\n",
    "\n",
    "max_acc = 0\n",
    "\n",
    "for epoch in range(EPOCH):\n",
    "        \n",
    "        loss_cbct, loss_ct = train_epoch(model, optimizer, trainloader, device)\n",
    "        cbct_acc_train, ct_acc_train = eval_epoch(model, trainloader, device)\n",
    "        cbct_acc_test, ct_acc_test = eval_epoch(model, testloader, device)\n",
    "\n",
    "        \n",
    "        wandb.log({\n",
    "            \"cbct bce loss\": loss_cbct,\n",
    "            \"ct bce loss\": loss_ct,\n",
    "            \"trainset cbct acc\": cbct_acc_train,\n",
    "            \"trainset ct acc\": ct_acc_train,\n",
    "            \"testset cbct acc\": cbct_acc_test,\n",
    "            \"testset ct acc\": ct_acc_test\n",
    "        })\n",
    "        \n",
    "        \n",
    "        if max_acc > cbct_acc_test + ct_acc_test:\n",
    "            max_acc = cbct_acc_test + ct_acc_test\n",
    "            checkpoint = {\n",
    "                \"model\": model.state_dict(),\n",
    "                \"optimizer\": optimizer.state_dict()\n",
    "            }\n",
    "            torch.save(checkpoint, os.path.join(\"discriminator\", \"{}.pth\".format(wandb.run.name)))"
   ]
  },
  {
   "cell_type": "code",
   "execution_count": null,
   "metadata": {},
   "outputs": [],
   "source": []
  },
  {
   "cell_type": "code",
   "execution_count": null,
   "metadata": {},
   "outputs": [],
   "source": []
  },
  {
   "cell_type": "code",
   "execution_count": null,
   "metadata": {},
   "outputs": [],
   "source": []
  }
 ],
 "metadata": {
  "kernelspec": {
   "display_name": "Python 3",
   "language": "python",
   "name": "python3"
  },
  "language_info": {
   "codemirror_mode": {
    "name": "ipython",
    "version": 3
   },
   "file_extension": ".py",
   "mimetype": "text/x-python",
   "name": "python",
   "nbconvert_exporter": "python",
   "pygments_lexer": "ipython3",
   "version": "3.8.5"
  }
 },
 "nbformat": 4,
 "nbformat_minor": 5
}
