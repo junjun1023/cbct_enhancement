{
 "cells": [
  {
   "cell_type": "code",
   "execution_count": 1,
   "metadata": {},
   "outputs": [],
   "source": [
    "import os\n",
    "\n",
    "import torch\n",
    "import torch.nn as nn\n",
    "import torch.nn.functional as F\n",
    "import torch.optim as optim\n",
    "from torch.utils.data import DataLoader, Subset, ConcatDataset\n",
    "\n",
    "import cv2\n",
    "import numpy as np\n",
    "import pandas as pd\n",
    "from tqdm import tqdm\n",
    "import random"
   ]
  },
  {
   "cell_type": "code",
   "execution_count": 2,
   "metadata": {},
   "outputs": [],
   "source": [
    "import segmentation_models_pytorch as smp\n",
    "from segmentation_models_pytorch.losses import DiceLoss\n",
    "from segmentation_models_pytorch.utils.metrics import IoU, Fscore, Accuracy"
   ]
  },
  {
   "cell_type": "code",
   "execution_count": 3,
   "metadata": {},
   "outputs": [],
   "source": [
    "import matplotlib.pyplot as plt\n",
    "\n",
    "# helper function for data visualization\n",
    "def visualize(**images):\n",
    "    \"\"\"PLot images in one row.\"\"\"\n",
    "    n = len(images)\n",
    "    plt.figure(figsize=(16, 5))\n",
    "    for i, (name, image) in enumerate(images.items()):\n",
    "        plt.subplot(1, n, i + 1)\n",
    "        plt.xticks([])\n",
    "        plt.yticks([])\n",
    "        plt.title(' '.join(name.split('_')).title())\n",
    "        plt.imshow(image, 'gray')\n",
    "    plt.show()"
   ]
  },
  {
   "cell_type": "markdown",
   "metadata": {},
   "source": [
    "# Settings"
   ]
  },
  {
   "cell_type": "code",
   "execution_count": 4,
   "metadata": {},
   "outputs": [],
   "source": [
    "root = os.getcwd()\n",
    "device = torch.device(\"cuda:0\" if torch.cuda.is_available() else \"cpu\")\n",
    "\n",
    "BATCH = 8\n",
    "IN_CHANNELS = 1\n",
    "N_CLASSES = 2\n",
    "EPOCH =200"
   ]
  },
  {
   "cell_type": "markdown",
   "metadata": {},
   "source": [
    "### Model Settings"
   ]
  },
  {
   "cell_type": "markdown",
   "metadata": {},
   "source": [
    "#### encoder"
   ]
  },
  {
   "cell_type": "code",
   "execution_count": 5,
   "metadata": {},
   "outputs": [],
   "source": [
    "ENCODER = \"resnet152\"\n",
    "ENCODER_WEIGHT = None"
   ]
  },
  {
   "cell_type": "markdown",
   "metadata": {},
   "source": [
    "#### head"
   ]
  },
  {
   "cell_type": "code",
   "execution_count": 6,
   "metadata": {},
   "outputs": [],
   "source": [
    "ACT = \"softmax\"\n",
    "AUX_PARAM = None"
   ]
  },
  {
   "cell_type": "markdown",
   "metadata": {},
   "source": [
    "### Optimizer Settings"
   ]
  },
  {
   "cell_type": "code",
   "execution_count": 7,
   "metadata": {},
   "outputs": [],
   "source": [
    "OPTIM_NAME = \"sgd\"\n",
    "init_lr = 3e-4\n",
    "momentum = 0.9"
   ]
  },
  {
   "cell_type": "markdown",
   "metadata": {},
   "source": [
    "# Epochs"
   ]
  },
  {
   "cell_type": "code",
   "execution_count": 8,
   "metadata": {},
   "outputs": [],
   "source": [
    "from codes.losses import SSIMLoss\n",
    "from codes.losses import MAELoss\n",
    "from pytorch_msssim import ssim\n",
    "from codes.metrics import PSNR"
   ]
  },
  {
   "cell_type": "code",
   "execution_count": 9,
   "metadata": {},
   "outputs": [],
   "source": [
    "def train_epoch(model, optimizer, dataloader, device):\n",
    "  \n",
    "    # change mode to train and move to current device\n",
    "    model = model.train().to(device)\n",
    "\n",
    "    y_loss = 0\n",
    "    x_loss = 0\n",
    "    for index, data in tqdm(enumerate(dataloader)):\n",
    "\n",
    "        x, y = data\n",
    "\n",
    "        x = x.to(device)\n",
    "        y = y.to(device)\n",
    "\n",
    "        x_pr = model(x)\n",
    "        y_pr = model(y)\n",
    "        \n",
    "        shape = x.size()[0]\n",
    "        pr_one = torch.ones(shape, dtype=torch.long, device=device)\n",
    "        pr_zero = torch.zeros(shape, dtype=torch.long, device=device)\n",
    "\n",
    "        _x = nn.CrossEntropyLoss()(x_pr.float(), pr_zero)\n",
    "        _y = nn.CrossEntropyLoss()(y_pr.float(), pr_one)\n",
    "                          \n",
    "        _loss = _y + _x\n",
    "                        \n",
    "        optimizer.zero_grad()\n",
    "        _loss.backward()\n",
    "        optimizer.step()\n",
    "\n",
    "        y_loss += _y.item()\n",
    "        x_loss += _x.item()\n",
    "\n",
    "    return x_loss/(index+1), y_loss/(index+1) "
   ]
  },
  {
   "cell_type": "code",
   "execution_count": 10,
   "metadata": {},
   "outputs": [],
   "source": [
    "@torch.no_grad()\n",
    "def eval_epoch(model, dataloader, device):\n",
    "  \n",
    "    # change mode to train and move to current device\n",
    "    model = model.eval().to(device)\n",
    "\n",
    "    total = 0\n",
    "    cbct_hit = 0\n",
    "    ct_hit = 0\n",
    "    for index, data in tqdm(enumerate(dataloader)):\n",
    "\n",
    "        x, y = data\n",
    "        \n",
    "        x = x.to(device)\n",
    "        y = y.to(device)\n",
    "\n",
    "        x_pr = model(x)\n",
    "        y_pr = model(y)\n",
    "        \n",
    "        total += x.size()[0]\n",
    "        shape = x.size()[0]\n",
    "        pr_one = torch.ones(shape, dtype=torch.float, device=device)\n",
    "        pr_zero = torch.zeros(shape, dtype=torch.float, device=device)\n",
    "        \n",
    "        _, x_pr = torch.max(x_pr.data, 1)\n",
    "        cbct_hit += (x_pr == pr_zero).sum().item()\n",
    "        _, y_pr = torch.max(y_pr.data, 1)\n",
    "        ct_hit += (y_pr == pr_one).sum().item()\n",
    "        \n",
    "\n",
    "    return  cbct_hit/total, ct_hit/total"
   ]
  },
  {
   "cell_type": "code",
   "execution_count": 11,
   "metadata": {},
   "outputs": [],
   "source": [
    "@torch.no_grad()\n",
    "def test_epoch(model, dataloader, device):\n",
    "  \n",
    "    # change mode to train and move to current device\n",
    "    model = model.eval().to(device)\n",
    "\n",
    "    ssim = 0\n",
    "    psnr = 0\n",
    "    for index, data in tqdm(enumerate(dataloader)):\n",
    "\n",
    "        x, y = data\n",
    "\n",
    "        x = x.to(device)\n",
    "        y = y.to(device)\n",
    "\n",
    "        y_pr = model(x)\n",
    "\n",
    "        x = x.squeeze().cpu().numpy()\n",
    "        y = y.squeeze().cpu().numpy()\n",
    "        y_pr = y_pr.squeeze().cpu().numpy() * 255\n",
    "        y_pr = y_pr.astype(np.uint8)\n",
    "\n",
    "        visualize(\n",
    "            cbct = x,\n",
    "            ct_y = y,\n",
    "            ct_pred = y_pr,\n",
    "        )"
   ]
  },
  {
   "cell_type": "markdown",
   "metadata": {},
   "source": [
    "# Read Data"
   ]
  },
  {
   "cell_type": "code",
   "execution_count": 12,
   "metadata": {},
   "outputs": [],
   "source": [
    "from codes.dataset import Dataset\n",
    "import codes.augmentation as aug"
   ]
  },
  {
   "cell_type": "code",
   "execution_count": 13,
   "metadata": {},
   "outputs": [],
   "source": [
    "train_case_path = 'data/train/*_*'\n",
    "test_case_path = 'data/test/*_*'"
   ]
  },
  {
   "cell_type": "code",
   "execution_count": 14,
   "metadata": {},
   "outputs": [],
   "source": [
    "trainset = Dataset(path=train_case_path, intensity_aug=aug.training_intensity_augmentation(), geometry_aug=aug.get_training_augmentation())\n",
    "testset = Dataset(test_case_path, intensity_aug=aug.validation_intensity_augmentation(), geometry_aug=aug.get_validation_augmentation())"
   ]
  },
  {
   "cell_type": "code",
   "execution_count": 15,
   "metadata": {},
   "outputs": [
    {
     "data": {
      "text/plain": [
       "(1344, 191)"
      ]
     },
     "execution_count": 15,
     "metadata": {},
     "output_type": "execute_result"
    }
   ],
   "source": [
    "len(trainset), len(testset)"
   ]
  },
  {
   "cell_type": "code",
   "execution_count": 16,
   "metadata": {},
   "outputs": [],
   "source": [
    "x, y = trainset[20]"
   ]
  },
  {
   "cell_type": "code",
   "execution_count": 17,
   "metadata": {},
   "outputs": [
    {
     "data": {
      "text/plain": [
       "(<matplotlib.image.AxesImage at 0x7f636ec38f40>,)"
      ]
     },
     "execution_count": 17,
     "metadata": {},
     "output_type": "execute_result"
    },
    {
     "data": {
      "image/png": "[encoded data removed]",
      "text/plain": [
       "<Figure size 432x288 with 1 Axes>"
      ]
     },
     "metadata": {
      "needs_background": "light"
     },
     "output_type": "display_data"
    }
   ],
   "source": [
    "plt.imshow(x.squeeze(), 'gray'),"
   ]
  },
  {
   "cell_type": "code",
   "execution_count": 18,
   "metadata": {},
   "outputs": [
    {
     "data": {
      "text/plain": [
       "<matplotlib.image.AxesImage at 0x7f636f47fdf0>"
      ]
     },
     "execution_count": 18,
     "metadata": {},
     "output_type": "execute_result"
    },
    {
     "data": {
      "image/png": "[encoded data removed]",
      "text/plain": [
       "<Figure size 432x288 with 1 Axes>"
      ]
     },
     "metadata": {
      "needs_background": "light"
     },
     "output_type": "display_data"
    }
   ],
   "source": [
    "plt.imshow(y.squeeze(), 'gray')"
   ]
  },
  {
   "cell_type": "code",
   "execution_count": 19,
   "metadata": {},
   "outputs": [
    {
     "data": {
      "text/plain": [
       "((1, 384, 384), (1, 384, 384))"
      ]
     },
     "execution_count": 19,
     "metadata": {},
     "output_type": "execute_result"
    }
   ],
   "source": [
    "x.shape, y.shape"
   ]
  },
  {
   "cell_type": "markdown",
   "metadata": {},
   "source": [
    "# Model"
   ]
  },
  {
   "cell_type": "code",
   "execution_count": 20,
   "metadata": {},
   "outputs": [],
   "source": [
    "from codes.activation import Activation"
   ]
  },
  {
   "cell_type": "code",
   "execution_count": 21,
   "metadata": {},
   "outputs": [],
   "source": [
    "class Model(nn.Module):\n",
    "    def __init__(self, encoder, hidden_ch=2048, n_classes=2, activation=None):\n",
    "        \n",
    "        super(Model, self).__init__()\n",
    "        \n",
    "        self.encoder = encoder\n",
    "        self.classifier = nn.Linear(in_features=hidden_ch, out_features=n_classes)\n",
    "        self.pooling = nn.AdaptiveMaxPool2d(1)\n",
    "        self.activation = Activation(name=activation)\n",
    "        \n",
    "        \n",
    "    def forward(self, x):\n",
    "        \n",
    "        x = self.encoder(x)[-1]\n",
    "        x = self.pooling(x)\n",
    "        x = torch.flatten(x, start_dim=1)\n",
    "        x = self.classifier(x)\n",
    "        \n",
    "        return self.activation(x)"
   ]
  },
  {
   "cell_type": "markdown",
   "metadata": {},
   "source": [
    "# training"
   ]
  },
  {
   "cell_type": "code",
   "execution_count": 22,
   "metadata": {},
   "outputs": [
    {
     "name": "stderr",
     "output_type": "stream",
     "text": [
      "\u001b[34m\u001b[1mwandb\u001b[0m: Currently logged in as: \u001b[33mjunjun\u001b[0m (use `wandb login --relogin` to force relogin)\n",
      "\u001b[34m\u001b[1mwandb\u001b[0m: wandb version 0.12.9 is available!  To upgrade, please run:\n",
      "\u001b[34m\u001b[1mwandb\u001b[0m:  $ pip install wandb --upgrade\n"
     ]
    },
    {
     "data": {
      "text/html": [
       "\n",
       "                Tracking run with wandb version 0.12.2<br/>\n",
       "                Syncing run <strong style=\"color:#cdcd00\">leafy-sun-15</strong> to <a href=\"https://wandb.ai\" target=\"_blank\">Weights & Biases</a> <a href=\"https://docs.wandb.com/integrations/jupyter.html\" target=\"_blank\">(Documentation)</a>.<br/>\n",
       "                Project page: <a href=\"https://wandb.ai/junjun/discriminator\" target=\"_blank\">https://wandb.ai/junjun/discriminator</a><br/>\n",
       "                Run page: <a href=\"https://wandb.ai/junjun/discriminator/runs/2c7r9e2t\" target=\"_blank\">https://wandb.ai/junjun/discriminator/runs/2c7r9e2t</a><br/>\n",
       "                Run data is saved locally in <code>/home/june/cbct_enhancement/wandb/run-20220106_035614-2c7r9e2t</code><br/><br/>\n",
       "            "
      ],
      "text/plain": [
       "<IPython.core.display.HTML object>"
      ]
     },
     "metadata": {},
     "output_type": "display_data"
    },
    {
     "data": {
      "text/html": [
       "<h1>Run(2c7r9e2t)</h1><iframe src=\"https://wandb.ai/junjun/discriminator/runs/2c7r9e2t\" style=\"border:none;width:100%;height:400px\"></iframe>"
      ],
      "text/plain": [
       "<wandb.sdk.wandb_run.Run at 0x7f636f0761f0>"
      ]
     },
     "execution_count": 22,
     "metadata": {},
     "output_type": "execute_result"
    }
   ],
   "source": [
    "import wandb\n",
    "\n",
    "wandb.init(project=\"discriminator\", config={\n",
    "    \"data\": {\n",
    "        \"in_channels\": IN_CHANNELS,\n",
    "        \"out_channels\": N_CLASSES,\n",
    "        \"batchsize\": BATCH,\n",
    "    },\n",
    "    \"epochs\": EPOCH,\n",
    "    \"model\": {\n",
    "        \"optimizer\": OPTIM_NAME,\n",
    "        \"init_lr\": init_lr,\n",
    "        \"momentum\": momentum,\n",
    "        \"encoder\": ENCODER,\n",
    "        \"encoder_weight\": ENCODER_WEIGHT,\n",
    "        \"activation\": ACT,\n",
    "    }\n",
    "})"
   ]
  },
  {
   "cell_type": "code",
   "execution_count": 23,
   "metadata": {},
   "outputs": [],
   "source": [
    "trainloader = torch.utils.data.DataLoader(trainset, batch_size=BATCH, shuffle=True, num_workers=8)\n",
    "testloader = torch.utils.data.DataLoader(testset, batch_size=BATCH, shuffle=False, num_workers=4)"
   ]
  },
  {
   "cell_type": "code",
   "execution_count": 24,
   "metadata": {},
   "outputs": [],
   "source": [
    "import segmentation_models_pytorch as smp\n",
    "import torch\n",
    "\n",
    "model = smp.Unet(encoder_name=ENCODER, encoder_weights=ENCODER_WEIGHT, in_channels=IN_CHANNELS, classes=N_CLASSES)\n",
    "\n",
    "model = Model(encoder=model.encoder, hidden_ch=2048, n_classes=N_CLASSES, activation=ACT)"
   ]
  },
  {
   "cell_type": "code",
   "execution_count": 25,
   "metadata": {},
   "outputs": [],
   "source": [
    "from codes.optimizer import Optimizer\n",
    "# optimizer = optim.SGD(model.parameters(), lr=init_lr, momentum=momentum)\n",
    "optimizer = Optimizer(model.parameters(), name=OPTIM_NAME, lr=init_lr)"
   ]
  },
  {
   "cell_type": "code",
   "execution_count": null,
   "metadata": {
    "scrolled": true
   },
   "outputs": [
    {
     "name": "stderr",
     "output_type": "stream",
     "text": [
      "168it [02:20,  1.19it/s]\n",
      "168it [00:41,  4.04it/s]\n",
      "24it [00:06,  3.66it/s]\n",
      "168it [02:19,  1.21it/s]\n",
      "168it [00:45,  3.68it/s]\n",
      "24it [00:06,  3.64it/s]\n",
      "168it [02:20,  1.19it/s]\n",
      "168it [00:41,  4.09it/s]\n",
      "24it [00:06,  3.75it/s]\n",
      "168it [02:20,  1.20it/s]\n",
      "168it [00:41,  4.02it/s]\n",
      "24it [00:06,  3.63it/s]\n",
      "168it [02:21,  1.19it/s]\n",
      "168it [00:45,  3.67it/s]\n",
      "24it [00:06,  3.63it/s]\n",
      "168it [02:23,  1.17it/s]\n",
      "168it [00:44,  3.79it/s]\n",
      "24it [00:06,  3.73it/s]\n",
      "168it [03:14,  1.16s/it]\n",
      "168it [01:03,  2.64it/s]\n",
      "24it [00:09,  2.59it/s]\n",
      "168it [03:24,  1.22s/it]\n",
      "168it [01:01,  2.74it/s]\n",
      "24it [00:09,  2.46it/s]\n",
      "168it [03:25,  1.23s/it]\n",
      "168it [01:06,  2.54it/s]\n",
      "24it [00:09,  2.50it/s]\n",
      "168it [03:30,  1.25s/it]\n",
      "168it [01:06,  2.54it/s]\n",
      "24it [00:09,  2.45it/s]\n",
      "168it [03:29,  1.25s/it]\n",
      "168it [01:07,  2.49it/s]\n",
      "24it [00:06,  3.54it/s]\n",
      "168it [03:34,  1.28s/it]\n",
      "168it [01:04,  2.61it/s]\n",
      "24it [00:08,  2.89it/s]\n",
      "168it [03:31,  1.26s/it]\n",
      "168it [01:06,  2.54it/s]\n",
      "24it [00:09,  2.45it/s]\n",
      "168it [03:24,  1.22s/it]\n",
      "168it [01:08,  2.47it/s]\n",
      "24it [00:09,  2.61it/s]\n",
      "168it [03:30,  1.25s/it]\n",
      "168it [01:06,  2.53it/s]\n",
      "24it [00:09,  2.45it/s]\n",
      "168it [03:30,  1.25s/it]\n",
      "168it [01:03,  2.65it/s]\n",
      "24it [00:09,  2.59it/s]\n",
      "168it [03:25,  1.22s/it]\n",
      "168it [01:05,  2.57it/s]\n",
      "24it [00:08,  2.70it/s]\n",
      "168it [03:39,  1.31s/it]\n",
      "168it [01:05,  2.55it/s]\n",
      "24it [00:09,  2.45it/s]\n",
      "168it [03:25,  1.22s/it]\n",
      "168it [01:08,  2.47it/s]\n",
      "24it [00:09,  2.45it/s]\n",
      "168it [03:30,  1.26s/it]\n",
      "168it [01:06,  2.52it/s]\n",
      "24it [00:08,  2.77it/s]\n",
      "168it [03:26,  1.23s/it]\n",
      "168it [01:00,  2.77it/s]\n",
      "24it [00:09,  2.53it/s]\n",
      "168it [03:31,  1.26s/it]\n",
      "168it [01:04,  2.59it/s]\n",
      "24it [00:09,  2.46it/s]\n",
      "168it [03:31,  1.26s/it]\n",
      "168it [01:05,  2.57it/s]\n",
      "24it [00:09,  2.45it/s]\n",
      "168it [03:31,  1.26s/it]\n",
      "168it [01:08,  2.47it/s]\n",
      "24it [00:09,  2.45it/s]\n",
      "168it [03:29,  1.25s/it]\n",
      "168it [01:02,  2.68it/s]\n",
      "24it [00:09,  2.49it/s]\n",
      "168it [03:28,  1.24s/it]\n",
      "168it [01:02,  2.71it/s]\n",
      "24it [00:09,  2.54it/s]\n",
      "168it [03:31,  1.26s/it]\n",
      "168it [01:05,  2.55it/s]\n",
      "24it [00:09,  2.45it/s]\n",
      "168it [03:30,  1.26s/it]\n",
      "168it [01:06,  2.51it/s]\n",
      "24it [00:09,  2.49it/s]\n",
      "168it [03:25,  1.23s/it]\n",
      "168it [01:06,  2.51it/s]\n",
      "24it [00:09,  2.45it/s]\n",
      "168it [03:33,  1.27s/it]\n",
      "168it [01:07,  2.49it/s]\n",
      "24it [00:09,  2.54it/s]\n",
      "168it [03:26,  1.23s/it]\n",
      "168it [01:04,  2.62it/s]\n",
      "24it [00:08,  2.69it/s]\n",
      "168it [03:31,  1.26s/it]\n",
      "168it [00:59,  2.84it/s]\n",
      "24it [00:09,  2.45it/s]\n",
      "168it [03:29,  1.25s/it]\n",
      "168it [01:07,  2.48it/s]\n",
      "24it [00:09,  2.50it/s]\n",
      "168it [03:20,  1.19s/it]\n",
      "168it [01:05,  2.56it/s]\n",
      "24it [00:09,  2.45it/s]\n",
      "168it [03:30,  1.25s/it]\n",
      "168it [01:08,  2.47it/s]\n",
      "24it [00:09,  2.49it/s]\n",
      "168it [03:35,  1.28s/it]\n",
      "168it [01:05,  2.58it/s]\n",
      "24it [00:09,  2.64it/s]\n",
      "168it [03:31,  1.26s/it]\n",
      "168it [01:04,  2.59it/s]\n",
      "24it [00:09,  2.45it/s]\n",
      "168it [03:29,  1.25s/it]\n",
      "168it [01:03,  2.66it/s]\n",
      "24it [00:09,  2.46it/s]\n",
      "168it [03:25,  1.22s/it]\n",
      "168it [01:06,  2.51it/s]\n",
      "24it [00:09,  2.57it/s]\n",
      "168it [03:30,  1.25s/it]\n",
      "168it [01:06,  2.51it/s]\n",
      "24it [00:09,  2.53it/s]\n",
      "168it [03:26,  1.23s/it]\n",
      "168it [01:05,  2.55it/s]\n",
      "24it [00:09,  2.59it/s]\n",
      "168it [03:40,  1.31s/it]\n",
      "168it [01:05,  2.56it/s]\n",
      "24it [00:09,  2.45it/s]\n",
      "168it [03:25,  1.22s/it]\n",
      "168it [01:08,  2.47it/s]\n",
      "24it [00:07,  3.40it/s]\n",
      "168it [03:29,  1.25s/it]\n",
      "168it [01:07,  2.50it/s]\n",
      "24it [00:09,  2.50it/s]\n",
      "168it [03:30,  1.25s/it]\n",
      "168it [01:05,  2.57it/s]\n",
      "24it [00:09,  2.54it/s]\n",
      "168it [03:27,  1.23s/it]\n",
      "168it [01:05,  2.58it/s]\n",
      "24it [00:09,  2.45it/s]\n",
      "168it [03:26,  1.23s/it]\n",
      "168it [01:05,  2.55it/s]\n",
      "24it [00:09,  2.50it/s]\n",
      "168it [03:39,  1.31s/it]\n",
      "168it [01:03,  2.65it/s]\n",
      "24it [00:09,  2.45it/s]\n",
      "168it [03:30,  1.26s/it]\n",
      "168it [01:07,  2.47it/s]\n",
      "24it [00:08,  2.86it/s]\n",
      "168it [03:30,  1.25s/it]\n",
      "168it [01:04,  2.62it/s]\n",
      "24it [00:09,  2.60it/s]\n",
      "168it [03:27,  1.24s/it]\n",
      "168it [01:01,  2.74it/s]\n",
      "24it [00:09,  2.45it/s]\n",
      "168it [03:30,  1.25s/it]\n",
      "168it [01:07,  2.50it/s]\n",
      "24it [00:09,  2.50it/s]\n",
      "168it [03:30,  1.25s/it]\n",
      "168it [01:02,  2.71it/s]\n",
      "24it [00:09,  2.46it/s]\n",
      "168it [03:40,  1.31s/it]\n",
      "168it [01:07,  2.51it/s]\n",
      "24it [00:09,  2.54it/s]\n",
      "168it [03:31,  1.26s/it]\n",
      "168it [01:03,  2.64it/s]\n",
      "24it [00:09,  2.62it/s]\n",
      "168it [03:22,  1.21s/it]\n",
      "168it [01:06,  2.53it/s]\n",
      "24it [00:09,  2.45it/s]\n",
      "168it [03:30,  1.25s/it]\n",
      "168it [01:08,  2.47it/s]\n",
      "24it [00:09,  2.45it/s]\n",
      "168it [03:27,  1.24s/it]\n",
      "168it [01:05,  2.56it/s]\n",
      "24it [00:09,  2.45it/s]\n",
      "168it [03:30,  1.25s/it]\n",
      "168it [01:06,  2.52it/s]\n",
      "24it [00:09,  2.54it/s]\n",
      "168it [03:35,  1.28s/it]\n",
      "168it [01:05,  2.58it/s]\n",
      "24it [00:09,  2.49it/s]\n",
      "168it [03:25,  1.22s/it]\n",
      "168it [01:06,  2.52it/s]\n",
      "24it [00:09,  2.46it/s]\n",
      "168it [03:30,  1.25s/it]\n",
      "168it [01:07,  2.47it/s]\n",
      "24it [00:09,  2.46it/s]\n",
      "168it [03:25,  1.22s/it]\n",
      "168it [01:06,  2.52it/s]\n",
      "24it [00:08,  2.72it/s]\n",
      "168it [03:30,  1.25s/it]\n",
      "168it [01:01,  2.74it/s]\n",
      "24it [00:09,  2.59it/s]\n",
      "168it [03:31,  1.26s/it]\n",
      "168it [01:06,  2.52it/s]\n",
      "24it [00:09,  2.46it/s]\n",
      "168it [03:35,  1.28s/it]\n",
      "168it [01:06,  2.53it/s]\n",
      "24it [00:09,  2.46it/s]\n",
      "168it [03:30,  1.25s/it]\n",
      "168it [01:07,  2.47it/s]\n",
      "24it [00:09,  2.46it/s]\n",
      "168it [03:25,  1.23s/it]\n",
      "168it [01:06,  2.54it/s]\n",
      "24it [00:09,  2.61it/s]\n",
      "168it [03:26,  1.23s/it]\n",
      "168it [01:04,  2.62it/s]\n",
      "24it [00:09,  2.45it/s]\n",
      "168it [03:31,  1.26s/it]\n",
      "168it [01:07,  2.48it/s]\n",
      "24it [00:06,  3.52it/s]\n",
      "168it [03:29,  1.25s/it]\n",
      "168it [01:06,  2.52it/s]\n",
      "24it [00:09,  2.58it/s]\n",
      "168it [03:39,  1.31s/it]\n",
      "168it [01:07,  2.48it/s]\n",
      "24it [00:09,  2.54it/s]\n",
      "168it [03:21,  1.20s/it]\n",
      "168it [01:06,  2.54it/s]\n",
      "24it [00:09,  2.59it/s]\n",
      "168it [03:31,  1.26s/it]\n",
      "168it [01:03,  2.63it/s]\n",
      "24it [00:09,  2.46it/s]\n",
      "168it [03:29,  1.24s/it]\n",
      "26it [00:10,  2.47it/s]"
     ]
    }
   ],
   "source": [
    "wandb.watch(model)\n",
    "\n",
    "max_acc = 0\n",
    "\n",
    "for epoch in range(EPOCH):\n",
    "        \n",
    "        loss_cbct, loss_ct = train_epoch(model, optimizer, trainloader, device)\n",
    "        cbct_acc_train, ct_acc_train = eval_epoch(model, trainloader, device)\n",
    "        cbct_acc_test, ct_acc_test = eval_epoch(model, testloader, device)\n",
    "\n",
    "        \n",
    "        wandb.log({\n",
    "            \"cbct bce loss\": loss_cbct,\n",
    "            \"ct bce loss\": loss_ct,\n",
    "            \"trainset cbct acc\": cbct_acc_train,\n",
    "            \"trainset ct acc\": ct_acc_train,\n",
    "            \"testset cbct acc\": cbct_acc_test,\n",
    "            \"testset ct acc\": ct_acc_test\n",
    "        })\n",
    "        \n",
    "        \n",
    "        if max_acc > cbct_acc_test + ct_acc_test:\n",
    "            max_acc = cbct_acc_test + ct_acc_test\n",
    "            checkpoint = {\n",
    "                \"model\": model.state_dict(),\n",
    "                \"optimizer\": optimizer.state_dict()\n",
    "            }\n",
    "            torch.save(checkpoint, os.path.join(\"discriminator\", \"{}.pth\".format(wandb.run.name)))"
   ]
  },
  {
   "cell_type": "code",
   "execution_count": null,
   "metadata": {},
   "outputs": [],
   "source": []
  },
  {
   "cell_type": "code",
   "execution_count": null,
   "metadata": {},
   "outputs": [],
   "source": []
  },
  {
   "cell_type": "code",
   "execution_count": null,
   "metadata": {},
   "outputs": [],
   "source": []
  }
 ],
 "metadata": {
  "kernelspec": {
   "display_name": "Python 3",
   "language": "python",
   "name": "python3"
  },
  "language_info": {
   "codemirror_mode": {
    "name": "ipython",
    "version": 3
   },
   "file_extension": ".py",
   "mimetype": "text/x-python",
   "name": "python",
   "nbconvert_exporter": "python",
   "pygments_lexer": "ipython3",
   "version": "3.8.5"
  }
 },
 "nbformat": 4,
 "nbformat_minor": 5
}
