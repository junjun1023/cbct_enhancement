{
 "cells": [
  {
   "cell_type": "code",
   "execution_count": 61,
   "metadata": {},
   "outputs": [],
   "source": [
    "import os\n",
    "import glob\n",
    "import torch\n",
    "import torch.nn as nn\n",
    "import torch.nn.functional as F\n",
    "import torch.optim as optim\n",
    "from torch.utils.data import DataLoader, Subset, ConcatDataset\n",
    "\n",
    "import cv2\n",
    "import numpy as np\n",
    "import pandas as pd\n",
    "from tqdm import tqdm\n",
    "import random"
   ]
  },
  {
   "cell_type": "code",
   "execution_count": 62,
   "metadata": {},
   "outputs": [],
   "source": [
    "import segmentation_models_pytorch as smp\n",
    "from segmentation_models_pytorch.losses import DiceLoss\n",
    "from segmentation_models_pytorch.utils.metrics import IoU, Fscore, Accuracy"
   ]
  },
  {
   "cell_type": "code",
   "execution_count": 63,
   "metadata": {},
   "outputs": [],
   "source": [
    "import matplotlib.pyplot as plt\n",
    "\n",
    "# helper function for data visualization\n",
    "def visualize(**images):\n",
    "    \"\"\"PLot images in one row.\"\"\"\n",
    "    n = len(images)\n",
    "    plt.figure(figsize=(16, 5))\n",
    "    for i, (name, image) in enumerate(images.items()):\n",
    "        plt.subplot(1, n, i + 1)\n",
    "        plt.xticks([])\n",
    "        plt.yticks([])\n",
    "        plt.title(' '.join(name.split('_')).title())\n",
    "        plt.imshow(image, 'gray')\n",
    "    plt.show()"
   ]
  },
  {
   "cell_type": "code",
   "execution_count": 64,
   "metadata": {},
   "outputs": [
    {
     "name": "stdout",
     "output_type": "stream",
     "text": [
      "[0.5488135  0.71518937 0.60276338 0.54488318 0.4236548 ] tensor([ 1.5410, -0.2934, -2.1788,  0.5684, -1.0845])\n"
     ]
    }
   ],
   "source": [
    "import random\n",
    "\n",
    "SEED = 0\n",
    "random.seed(SEED)\n",
    "np.random.seed(SEED)\n",
    "torch.manual_seed(SEED)\n",
    "\n",
    "print(np.random.rand(5), torch.randn(5))"
   ]
  },
  {
   "cell_type": "markdown",
   "metadata": {},
   "source": [
    "# Settings"
   ]
  },
  {
   "cell_type": "code",
   "execution_count": 65,
   "metadata": {},
   "outputs": [],
   "source": [
    "root = os.getcwd()\n",
    "device = torch.device(\"cuda:0\" if torch.cuda.is_available() else \"cpu\")"
   ]
  },
  {
   "cell_type": "markdown",
   "metadata": {},
   "source": [
    "# Read Data"
   ]
  },
  {
   "cell_type": "code",
   "execution_count": 83,
   "metadata": {},
   "outputs": [],
   "source": [
    "from codes.dataset import DicomDataset, DicomsDataset, TmpsDataset\n",
    "import codes.augmentation as aug"
   ]
  },
  {
   "cell_type": "code",
   "execution_count": 84,
   "metadata": {},
   "outputs": [],
   "source": [
    "geometry_aug = aug.get_validation_augmentation()\n",
    "\n",
    "BATCH = 1\n",
    "WINDOW = True"
   ]
  },
  {
   "cell_type": "code",
   "execution_count": 85,
   "metadata": {},
   "outputs": [],
   "source": [
    "from codes.losses import SSIMLoss\n",
    "from codes.losses import MAELoss\n",
    "from pytorch_msssim import ssim\n",
    "from codes.metrics import PSNR, SNR, ContourEval\n",
    "\n",
    "def statistics(dataloader):\n",
    "    \n",
    "    ssim_ = []\n",
    "    psnr_ = []\n",
    "    snr_ = []\n",
    "    mae_ = []\n",
    "    \n",
    "    window = 1000 if WINDOW else 4095\n",
    "    shift = 500 if WINDOW else 1024\n",
    "    \n",
    "    xs = np.zeros(window)\n",
    "    ys = np.zeros(window)\n",
    "    \n",
    "    for index, data in tqdm(enumerate(dataloader)):\n",
    "        x, y = data\n",
    "\n",
    "        _ssim = ssim(x, y, data_range=1.0, size_average=True) # return (N,)\n",
    "        _psnr = PSNR()(x, y, 1.0)\n",
    "        _snr = SNR()(x, y)\n",
    "        _mae = MAELoss()(x, y)\n",
    "\n",
    "        ssim_ += [_ssim.item()]\n",
    "        psnr_ += [_psnr.item()]\n",
    "        mae_ += [_mae.item()]\n",
    "        snr_ += [_snr.item()]\n",
    "        \n",
    "        x = x.squeeze().numpy() * window - shift\n",
    "        y = y.squeeze().numpy() * window - shift\n",
    "\n",
    "        x_hist = np.histogram(x, bins=window)[0]\n",
    "        y_hist = np.histogram(y, bins=window)[0]\n",
    "        xs = np.add(x_hist, xs)\n",
    "        ys = np.add(y_hist, ys)\n",
    "        \n",
    "    xs = xs/len(xs)\n",
    "    ys = ys/len(ys)\n",
    "    \n",
    "    bins = np.arange(len(xs)) - shift\n",
    "    \n",
    "    plt.style.use(\"ggplot\")\n",
    "    fig = plt.figure() \n",
    "    ax = plt.subplot(111)\n",
    "\n",
    "    ax.plot(bins, xs, label=\"CBCT\", alpha=0.5)\n",
    "    ax.plot(bins, ys, label=\"CT\", alpha=0.5)\n",
    "    ax.set_yscale(\"log\")\n",
    "   \n",
    "    ax.legend(loc=\"upper center\")\n",
    "    ax.fill_between(bins, 0, xs, alpha=0.3)\n",
    "    ax.fill_between(bins, 0, ys, alpha=0.3)\n",
    "    ax.set_xlabel(\"HU (CT number)\")\n",
    "    ax.set_ylabel(\"Intensity\")\n",
    "    \n",
    "    plt.savefig(\"L1 hu histogram-windowing-cropping.png\")\n",
    "    \n",
    "    mmae = (sum(mae_)/len(mae_)) * window\n",
    "    \n",
    "    print(\"ssim: {}, \\npsnr: {}, \\nsnr: {}, \\nmae: {}\".format(sum(ssim_)/len(ssim_), sum(psnr_)/len(psnr_), sum(snr_)/len(snr_), mmae))"
   ]
  },
  {
   "cell_type": "code",
   "execution_count": null,
   "metadata": {},
   "outputs": [],
   "source": []
  },
  {
   "cell_type": "code",
   "execution_count": 86,
   "metadata": {},
   "outputs": [],
   "source": [
    "pelvic_train_case_path = 'L1_pelvic_processed/train/*_*'\n",
    "pelvic_train_id_case_path = 'L1_pelvic_processed/train_id/*_*'\n",
    "pelvic_test_case_path = 'L1_pelvic_processed/test/*_*'"
   ]
  },
  {
   "cell_type": "code",
   "execution_count": 87,
   "metadata": {},
   "outputs": [],
   "source": [
    "trainset_pelvic = TmpsDataset(pelvic_train_case_path, window=WINDOW, geometry_aug=geometry_aug)\n",
    "trainset_id_pelvic = TmpsDataset(pelvic_train_id_case_path, window=WINDOW, geometry_aug=geometry_aug)\n",
    "testset = TmpsDataset(pelvic_test_case_path, window=WINDOW, geometry_aug=geometry_aug)"
   ]
  },
  {
   "cell_type": "code",
   "execution_count": 88,
   "metadata": {},
   "outputs": [
    {
     "data": {
      "text/plain": [
       "(527, 616, 314)"
      ]
     },
     "execution_count": 88,
     "metadata": {},
     "output_type": "execute_result"
    }
   ],
   "source": [
    "len(trainset_pelvic), len(trainset_id_pelvic), len(testset)"
   ]
  },
  {
   "cell_type": "code",
   "execution_count": 89,
   "metadata": {},
   "outputs": [],
   "source": [
    "dataset = ConcatDataset([trainset_pelvic, trainset_id_pelvic, testset])"
   ]
  },
  {
   "cell_type": "code",
   "execution_count": 90,
   "metadata": {},
   "outputs": [],
   "source": [
    "dataloader = torch.utils.data.DataLoader(dataset, batch_size=BATCH, shuffle=False, num_workers=8)"
   ]
  },
  {
   "cell_type": "code",
   "execution_count": 91,
   "metadata": {},
   "outputs": [
    {
     "name": "stderr",
     "output_type": "stream",
     "text": [
      "1457it [00:36, 39.43it/s]\n"
     ]
    },
    {
     "name": "stdout",
     "output_type": "stream",
     "text": [
      "ssim: 0.7817623186036056, \n",
      "psnr: 22.251365409779112, \n",
      "snr: 13.077489063811937, \n",
      "mae: 31.744514832459902\n"
     ]
    },
    {
     "data": {
      "image/png": "[encoded data removed]",
      "text/plain": [
       "<Figure size 432x288 with 1 Axes>"
      ]
     },
     "metadata": {},
     "output_type": "display_data"
    }
   ],
   "source": [
    "statistics(dataloader)"
   ]
  },
  {
   "cell_type": "code",
   "execution_count": null,
   "metadata": {},
   "outputs": [],
   "source": []
  },
  {
   "cell_type": "code",
   "execution_count": null,
   "metadata": {},
   "outputs": [],
   "source": []
  },
  {
   "cell_type": "code",
   "execution_count": 13,
   "metadata": {},
   "outputs": [
    {
     "name": "stdout",
     "output_type": "stream",
     "text": [
      "E101006583 29\n",
      "F222836422 26\n",
      "M100137352 28\n",
      "M100972600 27\n",
      "P100328793 29\n",
      "P100597458 28\n",
      "P101069293 28\n",
      "P102318099 27\n",
      "P120021311 26\n",
      "P120486429 29\n",
      "P1222520471 28\n",
      "P122803142 28\n",
      "P200944502 28\n",
      "Q100431090 28\n",
      "Q101058433 30\n",
      "Q101171806 27\n",
      "Q101313162 27\n",
      "Q1029263962 28\n",
      "Q102965115 26\n"
     ]
    }
   ],
   "source": [
    "paths = sorted(glob.glob(pelvic_train_case_path))\n",
    "for i in range(0, len(paths), 2):\n",
    "    scans = DicomSegmentDataset(cbct_path=paths[i+1], ct_path=paths[i],\n",
    "                         geometry_aug=None, intensity_aug=None, \n",
    "                         identity=False, electron=ELECTRON, position=\"pelvic\", segment=SEGMENT, g_coord=G_COORD, l_coord=L_COORD)\n",
    "    patient_id = scans.patientID()\n",
    "    print(patient_id, len(scans))"
   ]
  },
  {
   "cell_type": "code",
   "execution_count": 14,
   "metadata": {},
   "outputs": [
    {
     "name": "stdout",
     "output_type": "stream",
     "text": [
      "L101278922 28\n",
      "N101086364 27\n",
      "N120943884 28\n",
      "P100181905 29\n",
      "P100369203 27\n",
      "P101661797 28\n",
      "P120283553 27\n",
      "P120900184 30\n",
      "P121236094 28\n",
      "P1222520472 15\n",
      "P200366339 26\n",
      "P201191667 26\n",
      "P201773436 27\n",
      "Q101184116 26\n",
      "Q1029263961 27\n",
      "Q120541551 29\n",
      "Q120864308 28\n",
      "R220907285 30\n",
      "S102202099 130\n"
     ]
    }
   ],
   "source": [
    "paths = sorted(glob.glob(pelvic_train_id_case_path))\n",
    "for i in range(0, len(paths), 2):\n",
    "    scans = DicomSegmentDataset(cbct_path=paths[i+1], ct_path=paths[i],\n",
    "                         geometry_aug=None, intensity_aug=None, \n",
    "                         identity=False, electron=ELECTRON, position=\"pelvic\", segment=SEGMENT, g_coord=G_COORD, l_coord=L_COORD)\n",
    "    patient_id = scans.patientID()\n",
    "    print(patient_id, len(scans))"
   ]
  },
  {
   "cell_type": "code",
   "execution_count": 15,
   "metadata": {},
   "outputs": [
    {
     "name": "stdout",
     "output_type": "stream",
     "text": [
      "N100899554 26\n",
      "N102600215 30\n",
      "P100897195 26\n",
      "P121128524 32\n",
      "P220683493 36\n",
      "P221051048 28\n",
      "P221436710 27\n",
      "Q101306078 29\n",
      "Q103249763 26\n",
      "Q201180718 27\n",
      "R221140186 27\n"
     ]
    }
   ],
   "source": [
    "paths = sorted(glob.glob(pelvic_test_case_path))\n",
    "for i in range(0, len(paths), 2):\n",
    "    scans = DicomSegmentDataset(cbct_path=paths[i+1], ct_path=paths[i],\n",
    "                         geometry_aug=None, intensity_aug=None, \n",
    "                         identity=False, electron=ELECTRON, position=\"pelvic\", segment=SEGMENT, g_coord=G_COORD, l_coord=L_COORD)\n",
    "    patient_id = scans.patientID()\n",
    "    print(patient_id, len(scans))"
   ]
  },
  {
   "cell_type": "code",
   "execution_count": null,
   "metadata": {},
   "outputs": [],
   "source": []
  },
  {
   "cell_type": "code",
   "execution_count": null,
   "metadata": {},
   "outputs": [],
   "source": []
  },
  {
   "cell_type": "code",
   "execution_count": null,
   "metadata": {},
   "outputs": [],
   "source": [
    "from codes.losses import SSIMLoss\n",
    "from codes.losses import MAELoss\n",
    "from pytorch_msssim import ssim\n",
    "from codes.metrics import PSNR, SNR"
   ]
  },
  {
   "cell_type": "code",
   "execution_count": 15,
   "metadata": {},
   "outputs": [],
   "source": [
    "def hu_histogram(dataloader, ys, xs):\n",
    "    \n",
    "    ssim = []\n",
    "    psnr = []\n",
    "    snr = []\n",
    "    mae = []\n",
    "    \n",
    "    for index, data in tqdm(enumerate(dataloader)):\n",
    "        x, y, *_ = data\n",
    "\n",
    "        _ssim = ssim(x, y.float(), data_range=1.0, size_average=True) # return (N,)\n",
    "        _psnr = PSNR()(x, y.float(), 1.0)\n",
    "        _snr = SNR()(x, y.float())\n",
    "        _mae = MAELoss()(x.float(), y.float())\n",
    "\n",
    "        ssim_ += [_ssim.item()]\n",
    "        psnr_ += [_psnr.item()]\n",
    "        mae_ += [_mae.item()]\n",
    "        snr_ += [_snr.item()]\n",
    "        \n",
    "        x = x.squeeze() * 1000 - 500\n",
    "        y = y.squeeze() * 1000 - 500\n",
    "        mae += [mean_absolute_error(y, x)]\n",
    "        x_hist = np.histogram(x, bins=1000)[0]\n",
    "        y_hist = np.histogram(y, bins=1000)[0]\n",
    "        xs = np.add(x_hist, xs)\n",
    "        ys = np.add(y_hist, ys)\n",
    "        \n",
    "    xs = xs/len(xs)\n",
    "    ys = ys/len(ys)\n",
    "    \n",
    "    bins = np.arange(len(xs)) - 500\n",
    "    \n",
    "    plt.style.use(\"ggplot\")\n",
    "    fig = plt.figure() \n",
    "    ax = plt.subplot(111)\n",
    "\n",
    "    ax.plot(bins, xs, label=\"CBCT\", alpha=0.7)\n",
    "    ax.plot(bins, ys, label=\"CT\", alpha=0.7)\n",
    "    ax.set_yscale(\"log\")\n",
    "   \n",
    "    ax.legend(loc=\"upper center\")\n",
    "    ax.fill_between(bins, 0, xs, alpha=0.5)\n",
    "    ax.fill_between(bins, 0, ys, alpha=0.5)\n",
    "    ax.set_xlabel(\"HU (CT number)\")\n",
    "    ax.set_ylabel(\"Intensity\")\n",
    "    fig.suptitle(\"HU histogram of  C_dataset\")\n",
    "    \n",
    "    plt.savefig(\"C hu histogram.png\")\n",
    "    print(\"ssim: {}, \\npsnr: {}, \\nsnr: {}, \\nmae: {}\".format(sum(ssim_)/len(ssim_), sum(psnr_)/len(psnr_), sum(snr_)/len(snr_), sum(mae_)/len(mae_)))"
   ]
  },
  {
   "cell_type": "code",
   "execution_count": 16,
   "metadata": {},
   "outputs": [
    {
     "name": "stderr",
     "output_type": "stream",
     "text": [
      "1535it [00:21, 72.20it/s]\n"
     ]
    },
    {
     "data": {
      "image/png": "[encoded data removed]",
      "text/plain": [
       "<Figure size 432x288 with 1 Axes>"
      ]
     },
     "metadata": {},
     "output_type": "display_data"
    }
   ],
   "source": [
    "hu_histogram(dataset, np.zeros(1000), np.zeros(1000))"
   ]
  },
  {
   "cell_type": "code",
   "execution_count": null,
   "metadata": {},
   "outputs": [],
   "source": []
  },
  {
   "cell_type": "code",
   "execution_count": null,
   "metadata": {},
   "outputs": [],
   "source": []
  },
  {
   "cell_type": "code",
   "execution_count": null,
   "metadata": {},
   "outputs": [],
   "source": []
  },
  {
   "cell_type": "code",
   "execution_count": null,
   "metadata": {},
   "outputs": [],
   "source": []
  },
  {
   "cell_type": "code",
   "execution_count": null,
   "metadata": {},
   "outputs": [],
   "source": []
  }
 ],
 "metadata": {
  "kernelspec": {
   "display_name": "Python 3",
   "language": "python",
   "name": "python3"
  },
  "language_info": {
   "codemirror_mode": {
    "name": "ipython",
    "version": 3
   },
   "file_extension": ".py",
   "mimetype": "text/x-python",
   "name": "python",
   "nbconvert_exporter": "python",
   "pygments_lexer": "ipython3",
   "version": "3.8.5"
  }
 },
 "nbformat": 4,
 "nbformat_minor": 5
}
