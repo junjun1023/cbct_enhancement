{
 "cells": [
  {
   "cell_type": "code",
   "execution_count": 1,
   "metadata": {},
   "outputs": [],
   "source": [
    "import os\n",
    "import glob\n",
    "import torch\n",
    "import torch.nn as nn\n",
    "import torch.nn.functional as F\n",
    "import torch.optim as optim\n",
    "from torch.utils.data import DataLoader, Subset, ConcatDataset\n",
    "\n",
    "import cv2\n",
    "import numpy as np\n",
    "import pandas as pd\n",
    "from tqdm import tqdm\n",
    "import random"
   ]
  },
  {
   "cell_type": "code",
   "execution_count": 2,
   "metadata": {},
   "outputs": [],
   "source": [
    "import segmentation_models_pytorch as smp\n",
    "from segmentation_models_pytorch.losses import DiceLoss\n",
    "from segmentation_models_pytorch.utils.metrics import IoU, Fscore, Accuracy"
   ]
  },
  {
   "cell_type": "code",
   "execution_count": 3,
   "metadata": {},
   "outputs": [],
   "source": [
    "import matplotlib.pyplot as plt\n",
    "\n",
    "# helper function for data visualization\n",
    "def visualize(**images):\n",
    "    \"\"\"PLot images in one row.\"\"\"\n",
    "    n = len(images)\n",
    "    plt.figure(figsize=(16, 5))\n",
    "    for i, (name, image) in enumerate(images.items()):\n",
    "        plt.subplot(1, n, i + 1)\n",
    "        plt.xticks([])\n",
    "        plt.yticks([])\n",
    "        plt.title(' '.join(name.split('_')).title())\n",
    "        plt.imshow(image, 'gray')\n",
    "    plt.show()"
   ]
  },
  {
   "cell_type": "code",
   "execution_count": 4,
   "metadata": {},
   "outputs": [
    {
     "name": "stdout",
     "output_type": "stream",
     "text": [
      "[0.5488135  0.71518937 0.60276338 0.54488318 0.4236548 ] tensor([ 1.5410, -0.2934, -2.1788,  0.5684, -1.0845])\n"
     ]
    }
   ],
   "source": [
    "import random\n",
    "\n",
    "SEED = 0\n",
    "random.seed(SEED)\n",
    "np.random.seed(SEED)\n",
    "torch.manual_seed(SEED)\n",
    "\n",
    "print(np.random.rand(5), torch.randn(5))"
   ]
  },
  {
   "cell_type": "markdown",
   "metadata": {},
   "source": [
    "# Settings"
   ]
  },
  {
   "cell_type": "code",
   "execution_count": 5,
   "metadata": {},
   "outputs": [],
   "source": [
    "root = os.getcwd()\n",
    "device = torch.device(\"cuda:0\" if torch.cuda.is_available() else \"cpu\")\n",
    "\n",
    "BATCH = 1\n",
    "SEGMENT = 1\n",
    "\n",
    "ELECTRON = False\n",
    "G_COORD = False\n",
    "L_COORD = False\n",
    "\n",
    "EPOCH = 200"
   ]
  },
  {
   "cell_type": "code",
   "execution_count": 6,
   "metadata": {},
   "outputs": [],
   "source": [
    "VIEW_BOUND = (-500, 500)\n",
    "AIR_BOUND = (-500, -426)\n",
    "BONE_BOUND = (400, 500)\n",
    "if ELECTRON:\n",
    "    VIEW_BOUND = (0.5, 1.5)\n",
    "    AIR_BOUND = (0.5, 0.5009)\n",
    "    BONE_BOUND = (1.2, 1.2009)    "
   ]
  },
  {
   "cell_type": "markdown",
   "metadata": {},
   "source": [
    "# Read Data"
   ]
  },
  {
   "cell_type": "code",
   "execution_count": 7,
   "metadata": {},
   "outputs": [],
   "source": [
    "from codes.dataset import DicomsSegmentDataset, DicomSegmentDataset\n",
    "import codes.augmentation as aug"
   ]
  },
  {
   "cell_type": "code",
   "execution_count": 8,
   "metadata": {},
   "outputs": [],
   "source": [
    "pelvic_train_case_path = 'raw/train/*_*'\n",
    "pelvic_train_id_case_path = 'raw/train_id/*_*'\n",
    "pelvic_test_case_path = 'raw/test/*_*'"
   ]
  },
  {
   "cell_type": "code",
   "execution_count": 9,
   "metadata": {},
   "outputs": [],
   "source": [
    "trainset_pelvic = DicomsSegmentDataset(pelvic_train_case_path, \n",
    "                   intensity_aug=None, geometry_aug=aug.get_validation_augmentation(),\n",
    "                  identity=False, electron=ELECTRON, position=\"pelvic\", segment=SEGMENT, g_coord=G_COORD, l_coord=L_COORD)\n",
    "trainset_id_pelvic = DicomsSegmentDataset(pelvic_train_id_case_path, \n",
    "                   intensity_aug=None, geometry_aug=aug.get_validation_augmentation(),\n",
    "                  identity=False, electron=ELECTRON, position=\"pelvic\", segment=SEGMENT, g_coord=G_COORD, l_coord=L_COORD)"
   ]
  },
  {
   "cell_type": "code",
   "execution_count": 10,
   "metadata": {},
   "outputs": [],
   "source": [
    "testset = DicomsSegmentDataset(pelvic_test_case_path, geometry_aug=aug.get_validation_augmentation(), \n",
    "                 identity=False, electron=ELECTRON, position=\"pelvic\", segment=SEGMENT, g_coord=G_COORD, l_coord=L_COORD)"
   ]
  },
  {
   "cell_type": "code",
   "execution_count": 11,
   "metadata": {},
   "outputs": [
    {
     "data": {
      "text/plain": [
       "(784, 560, 191)"
      ]
     },
     "execution_count": 11,
     "metadata": {},
     "output_type": "execute_result"
    }
   ],
   "source": [
    "len(trainset_pelvic), len(trainset_id_pelvic), len(testset)"
   ]
  },
  {
   "cell_type": "code",
   "execution_count": 12,
   "metadata": {},
   "outputs": [],
   "source": [
    "dataset = ConcatDataset([trainset_pelvic, trainset_id_pelvic, testset])"
   ]
  },
  {
   "cell_type": "code",
   "execution_count": 13,
   "metadata": {},
   "outputs": [
    {
     "name": "stdout",
     "output_type": "stream",
     "text": [
      "046 27\n",
      "047 28\n",
      "050 27\n",
      "051 27\n",
      "052 31\n",
      "053 26\n",
      "054 28\n",
      "055 29\n",
      "057 29\n",
      "058 29\n",
      "059 30\n",
      "060 29\n",
      "061 27\n",
      "062 29\n",
      "064 28\n",
      "065 26\n",
      "066 27\n",
      "067 26\n",
      "078 30\n",
      "080 26\n",
      "083 29\n",
      "084 30\n",
      "089 27\n",
      "094 29\n",
      "096 27\n",
      "099 27\n",
      "100 29\n",
      "101 27\n"
     ]
    }
   ],
   "source": [
    "paths = sorted(glob.glob(pelvic_train_case_path))\n",
    "for i in range(0, len(paths), 2):\n",
    "    scans = DicomSegmentDataset(cbct_path=paths[i+1], ct_path=paths[i],\n",
    "                         geometry_aug=None, intensity_aug=None, \n",
    "                         identity=False, electron=ELECTRON, position=\"pelvic\", segment=SEGMENT, g_coord=G_COORD, l_coord=L_COORD)\n",
    "    patient_id = scans.patientID()\n",
    "    print(patient_id, len(scans))"
   ]
  },
  {
   "cell_type": "code",
   "execution_count": 14,
   "metadata": {},
   "outputs": [
    {
     "name": "stdout",
     "output_type": "stream",
     "text": [
      "004 27\n",
      "006 28\n",
      "007 28\n",
      "012 27\n",
      "014 28\n",
      "017 28\n",
      "018 28\n",
      "019 32\n",
      "021 28\n",
      "025 28\n",
      "027 26\n",
      "028 28\n",
      "029 27\n",
      "030 28\n",
      "033 26\n",
      "039 28\n",
      "040 32\n",
      "042 27\n",
      "044 27\n",
      "045 29\n"
     ]
    }
   ],
   "source": [
    "paths = sorted(glob.glob(pelvic_train_id_case_path))\n",
    "for i in range(0, len(paths), 2):\n",
    "    scans = DicomSegmentDataset(cbct_path=paths[i+1], ct_path=paths[i],\n",
    "                         geometry_aug=None, intensity_aug=None, \n",
    "                         identity=False, electron=ELECTRON, position=\"pelvic\", segment=SEGMENT, g_coord=G_COORD, l_coord=L_COORD)\n",
    "    patient_id = scans.patientID()\n",
    "    print(patient_id, len(scans))"
   ]
  },
  {
   "cell_type": "code",
   "execution_count": 15,
   "metadata": {},
   "outputs": [
    {
     "name": "stdout",
     "output_type": "stream",
     "text": [
      "068 28\n",
      "069 27\n",
      "070 26\n",
      "071 28\n",
      "073 27\n",
      "074 28\n",
      "076 27\n"
     ]
    }
   ],
   "source": [
    "paths = sorted(glob.glob(pelvic_test_case_path))\n",
    "for i in range(0, len(paths), 2):\n",
    "    scans = DicomSegmentDataset(cbct_path=paths[i+1], ct_path=paths[i],\n",
    "                         geometry_aug=None, intensity_aug=None, \n",
    "                         identity=False, electron=ELECTRON, position=\"pelvic\", segment=SEGMENT, g_coord=G_COORD, l_coord=L_COORD)\n",
    "    patient_id = scans.patientID()\n",
    "    print(patient_id, len(scans))"
   ]
  },
  {
   "cell_type": "code",
   "execution_count": null,
   "metadata": {},
   "outputs": [],
   "source": []
  },
  {
   "cell_type": "code",
   "execution_count": 22,
   "metadata": {},
   "outputs": [],
   "source": [
    "def hu_histogram(dataset, ys, xs):\n",
    "    for index, data in tqdm(enumerate(dataset)):\n",
    "        x, y, *_ = data\n",
    "        x = x.squeeze() * 1000 - 500\n",
    "        y = y.squeeze() * 1000 - 500\n",
    "        x_hist = np.histogram(x, bins=1000)[0]\n",
    "        y_hist = np.histogram(y, bins=1000)[0]\n",
    "        xs = np.add(x_hist, xs)\n",
    "        ys = np.add(y_hist, ys)\n",
    "        \n",
    "    xs = xs/len(xs)\n",
    "    ys = ys/len(ys)\n",
    "    \n",
    "    bins = np.arange(len(xs)) - 500\n",
    "    \n",
    "    plt.style.use(\"ggplot\")\n",
    "    fig = plt.figure() \n",
    "    ax = plt.subplot(111)\n",
    "#     ax.set_position([0.1,0.1,0.8,0.8])\n",
    "\n",
    "    ax.plot(bins, xs, label=\"CBCT\", alpha=0.7)\n",
    "    ax.plot(bins, ys, label=\"CT\", alpha=0.7)\n",
    "    ax.set_yscale(\"log\")\n",
    "   \n",
    "    ax.legend(loc=\"upper center\")\n",
    "    ax.fill_between(bins, 0, xs, alpha=0.5)\n",
    "    ax.fill_between(bins, 0, ys, alpha=0.5)\n",
    "    ax.set_xlabel(\"HU (CT number)\")\n",
    "    ax.set_ylabel(\"Intensity\")\n",
    "    fig.suptitle(\"HU histogram of combined dataset\")\n",
    "#     plt.show()\n",
    "    \n",
    "    plt.savefig(\"Combined hu histogram.png\")"
   ]
  },
  {
   "cell_type": "code",
   "execution_count": null,
   "metadata": {},
   "outputs": [
    {
     "name": "stderr",
     "output_type": "stream",
     "text": [
      "396it [00:14, 25.43it/s]"
     ]
    }
   ],
   "source": [
    "hu_histogram(dataset, np.zeros(1000), np.zeros(1000))"
   ]
  },
  {
   "cell_type": "code",
   "execution_count": null,
   "metadata": {},
   "outputs": [],
   "source": []
  },
  {
   "cell_type": "code",
   "execution_count": null,
   "metadata": {},
   "outputs": [],
   "source": []
  },
  {
   "cell_type": "code",
   "execution_count": null,
   "metadata": {},
   "outputs": [],
   "source": []
  },
  {
   "cell_type": "code",
   "execution_count": null,
   "metadata": {},
   "outputs": [],
   "source": []
  },
  {
   "cell_type": "code",
   "execution_count": null,
   "metadata": {},
   "outputs": [],
   "source": []
  }
 ],
 "metadata": {
  "kernelspec": {
   "display_name": "Python 3",
   "language": "python",
   "name": "python3"
  },
  "language_info": {
   "codemirror_mode": {
    "name": "ipython",
    "version": 3
   },
   "file_extension": ".py",
   "mimetype": "text/x-python",
   "name": "python",
   "nbconvert_exporter": "python",
   "pygments_lexer": "ipython3",
   "version": "3.8.5"
  }
 },
 "nbformat": 4,
 "nbformat_minor": 5
}
