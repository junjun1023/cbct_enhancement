{
 "cells": [
  {
   "cell_type": "code",
   "execution_count": 1,
   "metadata": {},
   "outputs": [],
   "source": [
    "import os\n",
    "\n",
    "import torch\n",
    "import torch.nn as nn\n",
    "import torch.nn.functional as F\n",
    "import torch.optim as optim\n",
    "from torch.utils.data import DataLoader, Subset, ConcatDataset\n",
    "\n",
    "import cv2\n",
    "import numpy as np\n",
    "import pandas as pd\n",
    "from tqdm import tqdm\n",
    "import random"
   ]
  },
  {
   "cell_type": "code",
   "execution_count": 2,
   "metadata": {},
   "outputs": [],
   "source": [
    "import segmentation_models_pytorch as smp\n",
    "from segmentation_models_pytorch.losses import DiceLoss\n",
    "from segmentation_models_pytorch.utils.metrics import IoU, Fscore, Accuracy"
   ]
  },
  {
   "cell_type": "code",
   "execution_count": 3,
   "metadata": {},
   "outputs": [],
   "source": [
    "import matplotlib.pyplot as plt\n",
    "\n",
    "# helper function for data visualization\n",
    "def visualize(**images):\n",
    "    \"\"\"PLot images in one row.\"\"\"\n",
    "    n = len(images)\n",
    "    plt.figure(figsize=(16, 5))\n",
    "    for i, (name, image) in enumerate(images.items()):\n",
    "        plt.subplot(1, n, i + 1)\n",
    "        plt.xticks([])\n",
    "        plt.yticks([])\n",
    "        plt.title(' '.join(name.split('_')).title())\n",
    "        plt.imshow(image, 'gray')\n",
    "    plt.show()"
   ]
  },
  {
   "cell_type": "code",
   "execution_count": 4,
   "metadata": {},
   "outputs": [
    {
     "name": "stdout",
     "output_type": "stream",
     "text": [
      "[0.5488135  0.71518937 0.60276338 0.54488318 0.4236548 ] tensor([ 1.5410, -0.2934, -2.1788,  0.5684, -1.0845])\n"
     ]
    }
   ],
   "source": [
    "import random\n",
    "\n",
    "SEED = 0\n",
    "random.seed(SEED)\n",
    "np.random.seed(SEED)\n",
    "torch.manual_seed(SEED)\n",
    "\n",
    "print(np.random.rand(5), torch.randn(5))"
   ]
  },
  {
   "cell_type": "markdown",
   "metadata": {},
   "source": [
    "# Settings"
   ]
  },
  {
   "cell_type": "code",
   "execution_count": 5,
   "metadata": {},
   "outputs": [],
   "source": [
    "root = os.getcwd()\n",
    "device = torch.device(\"cuda:0\" if torch.cuda.is_available() else \"cpu\")\n",
    "\n",
    "BATCH = 8\n",
    "\n",
    "ELECTRON = True\n",
    "G_COORD = True\n",
    "L_COORD= True\n",
    "\n",
    "EPOCH = 200"
   ]
  },
  {
   "cell_type": "code",
   "execution_count": 6,
   "metadata": {},
   "outputs": [],
   "source": [
    "VIEW_BOUND = (-500, 500)\n",
    "AIR_BOUND = (-500, -499)\n",
    "BONE_BOUND = (255, 256)\n",
    "if ELECTRON:\n",
    "    VIEW_BOUND = (0.5, 1.5)\n",
    "    AIR_BOUND = (0.5, 0.5009)\n",
    "    BONE_BOUND = (1.2, 1.2009)    "
   ]
  },
  {
   "cell_type": "markdown",
   "metadata": {},
   "source": [
    "### Model Settings"
   ]
  },
  {
   "cell_type": "markdown",
   "metadata": {},
   "source": [
    "#### encoder"
   ]
  },
  {
   "cell_type": "code",
   "execution_count": 7,
   "metadata": {},
   "outputs": [],
   "source": [
    "GEN_IN_CHANNELS = 5\n",
    "GEN_N_CLASSES = 1"
   ]
  },
  {
   "cell_type": "code",
   "execution_count": 8,
   "metadata": {},
   "outputs": [],
   "source": [
    "ENCODER = \"resnet152\"\n",
    "ENCODER_WEIGHT = None"
   ]
  },
  {
   "cell_type": "markdown",
   "metadata": {},
   "source": [
    "#### decoder"
   ]
  },
  {
   "cell_type": "code",
   "execution_count": 9,
   "metadata": {},
   "outputs": [],
   "source": [
    "DECODER_ATT = \"scse\""
   ]
  },
  {
   "cell_type": "markdown",
   "metadata": {},
   "source": [
    "#### head"
   ]
  },
  {
   "cell_type": "code",
   "execution_count": 10,
   "metadata": {},
   "outputs": [],
   "source": [
    "GEN_ACT = \"sigmoid\"\n",
    "DIS_ACT = \"softmax\"\n",
    "E_ACT = \"softmax\""
   ]
  },
  {
   "cell_type": "markdown",
   "metadata": {},
   "source": [
    "### Optimizer Settings"
   ]
  },
  {
   "cell_type": "code",
   "execution_count": 11,
   "metadata": {},
   "outputs": [],
   "source": [
    "GEN_OPTIM_NAME = \"adam\"\n",
    "GEN_init_lr = 3e-4\n",
    "GEN_momentum = 0.9"
   ]
  },
  {
   "cell_type": "code",
   "execution_count": 12,
   "metadata": {},
   "outputs": [],
   "source": [
    "DIS_OPTIM_NAME = \"adam\"\n",
    "DIS_init_lr = 1e-3\n",
    "DIS_momentum = 0.9\n",
    "DIS_scheduler = \"cosineAnnWarm\"\n",
    "\n",
    "DIS_IN_CHANNELS = 1\n",
    "DIS_N_CLASSES = 2"
   ]
  },
  {
   "cell_type": "code",
   "execution_count": 13,
   "metadata": {},
   "outputs": [],
   "source": [
    "E_OPTIM_NAME = \"adam\"\n",
    "E_init_lr = 1e-3\n",
    "E_momentum = 0.9\n",
    "E_scheduler = \"cosineAnnWarm\"\n",
    "\n",
    "E_IN_CHANNELS = 1\n",
    "E_N_CLASSES = 2"
   ]
  },
  {
   "cell_type": "markdown",
   "metadata": {},
   "source": [
    "# Epochs"
   ]
  },
  {
   "cell_type": "code",
   "execution_count": 14,
   "metadata": {},
   "outputs": [],
   "source": [
    "from codes.losses import SSIMLoss\n",
    "from codes.losses import MAELoss\n",
    "from pytorch_msssim import ssim\n",
    "from codes.metrics import PSNR, SNR, ContourEval\n",
    "from codes.activation import Activation\n",
    "from codes.utils import hu_clip_tensor\n",
    "from codes.losses import PerceptualLoss\n",
    "from kornia.filters.sobel import Sobel"
   ]
  },
  {
   "cell_type": "code",
   "execution_count": 15,
   "metadata": {},
   "outputs": [],
   "source": [
    "def set_requires_grad(nets, requires_grad=False):\n",
    "    \"\"\"Set requies_grad=Fasle for all the networks to avoid unnecessary computations\n",
    "    Parameters:\n",
    "    nets (network list)   -- a list of networks\n",
    "    requires_grad (bool)  -- whether the networks require gradients or not\n",
    "    \"\"\"\n",
    "    if not isinstance(nets, list):\n",
    "        nets = [nets]\n",
    "        for net in nets:\n",
    "            if net is not None:\n",
    "                for param in net.parameters():\n",
    "                    param.requires_grad = requires_grad"
   ]
  },
  {
   "cell_type": "code",
   "execution_count": 16,
   "metadata": {},
   "outputs": [],
   "source": [
    "def replace_relu_to_leakyReLU(model):\n",
    "    for child_name, child in model.named_children():\n",
    "        if isinstance(child, nn.ReLU):\n",
    "            setattr(model, child_name, nn.LeakyReLU())\n",
    "        else:\n",
    "            replace_relu_to_leakyReLU(child)"
   ]
  },
  {
   "cell_type": "code",
   "execution_count": 17,
   "metadata": {},
   "outputs": [],
   "source": [
    "def replace_bn_to_instanceNorm(model):\n",
    "    for child_name, child in model.named_children():\n",
    "        if isinstance(child, nn.BatchNorm2d):\n",
    "            bn = getattr(model, child_name)\n",
    "            setattr(model, child_name, nn.InstanceNorm2d(bn.num_features))\n",
    "        else:\n",
    "            replace_bn_to_instanceNorm(child)"
   ]
  },
  {
   "cell_type": "code",
   "execution_count": 18,
   "metadata": {},
   "outputs": [],
   "source": [
    "perceptual_ext = PerceptualLoss()"
   ]
  },
  {
   "cell_type": "code",
   "execution_count": 19,
   "metadata": {},
   "outputs": [],
   "source": [
    "sobel_filter = Sobel().to(device)"
   ]
  },
  {
   "cell_type": "code",
   "execution_count": 20,
   "metadata": {},
   "outputs": [],
   "source": [
    "def train_d_epoch(epoch, generator, \n",
    "                    tf_discriminator, tf_d_optim, tf_scheduler, \n",
    "                    edge_discriminator, edge_d_optim, edge_scheduler, \n",
    "                    dataloader, device):\n",
    "\n",
    "    # change mode to train and move to current device\n",
    "    generator = generator.eval().to(device)\n",
    "    tf_discriminator = tf_discriminator.train().to(device)\n",
    "    edge_discriminator = edge_discriminator.train().to(device)\n",
    "    \n",
    "    tf_dis_l = 0\n",
    "    edge_dis_l = 0\n",
    "\n",
    "    set_requires_grad(tf_discriminator, True)\n",
    "    set_requires_grad(edge_discriminator, True)\n",
    "    set_requires_grad(generator, False)\n",
    "    \n",
    "    iteration = len(dataloader)\n",
    "    \n",
    "    for index, data in tqdm(enumerate(dataloader)):\n",
    "        torch.cuda.empty_cache()\n",
    "        \n",
    "        x, y, air_x, bone_x, *_ = data\n",
    "\n",
    "        x = x.to(device)\n",
    "        y = y.to(device)\n",
    "        air_x = air_x.to(device)\n",
    "        bone_x = bone_x.to(device)\n",
    "\n",
    "        y_pr = generator(x.float())\n",
    "        y_pr = Activation(name=GEN_ACT)(y_pr) # zipped value to [0, 1]\n",
    "\n",
    "       ############################\n",
    "        # (1) Update True/Fake D network\n",
    "        ###########################\n",
    "        tf_d_optim.zero_grad()\n",
    "\n",
    "        y_cls = tf_discriminator(y)\n",
    "        y_pr_cls = tf_discriminator(y_pr.detach())\n",
    "\n",
    "        tf_dis = 0\n",
    "        for _y_cls, _y_pr_cls in \\\n",
    "            zip(y_cls, y_pr_cls):\n",
    "            B, C = _y_cls.size()\n",
    "            tf_dis = nn.CrossEntropyLoss()(_y_cls.float(), torch.zeros(B, dtype=torch.long, device=device)) + \\\n",
    "                            nn.CrossEntropyLoss()(_y_pr_cls.float(), torch.ones(B, dtype=torch.long, device=device)) + \\\n",
    "                            tf_dis\n",
    "\n",
    "        tf_dis = tf_dis / (len(y_cls))\n",
    "        tf_dis.backward()\n",
    "        tf_d_optim.step()\n",
    "        tf_scheduler.step(epoch + index / iteration)\n",
    "        \n",
    "        tf_dis_l += tf_dis.item()\n",
    "        \n",
    "       ############################\n",
    "        # (2) Update Edge D network\n",
    "        ###########################        \n",
    "        edge_d_optim.zero_grad()        \n",
    "        \n",
    "        edge_x = sobel_filter(x)\n",
    "        edge_y_pr = sobel_filter(y_pr)\n",
    "        edge_y = sobel_filter(y)\n",
    " \n",
    "        edge_y_cls = edge_discriminator(edge_y)\n",
    "        edge_pr_cls = edge_discriminator(edge_y_pr.detach())\n",
    "        \n",
    "        edge_dis = 0\n",
    "        for _edge_y_cls, _edge_pr_cls in \\\n",
    "            zip(edge_y_cls, edge_pr_cls):\n",
    "            B, C = _edge_y_cls.size()\n",
    "            edge_dis = nn.CrossEntropyLoss()(_edge_y_cls.float(), torch.zeros(B, dtype=torch.long, device=device)) + \\\n",
    "                                    nn.CrossEntropyLoss()(_edge_pr_cls.float(), torch.ones(B, dtype=torch.long, device=device)) + \\\n",
    "                                    edge_dis\n",
    "\n",
    "        edge_dis = edge_dis / (len(edge_y_cls))\n",
    "        edge_dis.backward()\n",
    "        edge_d_optim.step()       \n",
    "        edge_scheduler.step(epoch + index / iteration)\n",
    "\n",
    "        edge_dis_l += edge_dis.item()\n",
    "\n",
    "\n",
    "    return  edge_dis_l/(index+1), tf_dis_l/(index+1), \\\n",
    "                    tf_scheduler.get_last_lr()[0], edge_scheduler.get_last_lr()[0]"
   ]
  },
  {
   "cell_type": "code",
   "execution_count": 21,
   "metadata": {},
   "outputs": [],
   "source": [
    "def train_g_epoch(epoch, generator, gen_optim, \n",
    "                    tf_discriminator, edge_discriminator, \n",
    "                    dataloader, device):\n",
    "    \n",
    "    # change mode to train and move to current device\n",
    "    generator = generator.train().to(device)\n",
    "    tf_discriminator = tf_discriminator.eval().to(device)\n",
    "    edge_discriminator = edge_discriminator.eval().to(device)\n",
    "    \n",
    "    air_l = 0\n",
    "    bone_l = 0\n",
    "    mae_l = 0\n",
    "    tf_gen_l = 0\n",
    "    edge_gen_l = 0\n",
    "    \n",
    "    set_requires_grad(tf_discriminator, False)\n",
    "    set_requires_grad(edge_discriminator, False)\n",
    "    set_requires_grad(generator, True)\n",
    "        \n",
    "    for index, data in tqdm(enumerate(dataloader)):\n",
    "        torch.cuda.empty_cache()\n",
    "        \n",
    "        x, y, air_x, bone_x, *_ = data\n",
    "\n",
    "        x = x.to(device)\n",
    "        y = y.to(device)\n",
    "        air_x = air_x.to(device)\n",
    "        bone_x = bone_x.to(device)\n",
    "\n",
    "        ############################\n",
    "        # (1) Update G network: maximize log(D(G(z)))\n",
    "        ###########################\n",
    "        y_pr = generator(x.float())\n",
    "        y_pr = Activation(name=GEN_ACT)(y_pr) # zipped value to [0, 1]\n",
    "        assert y_pr.requires_grad, \"ct_pred without gradient\"\n",
    "        x = x[:, 0, :, :].unsqueeze(1)\n",
    "        \n",
    "        gen_optim.zero_grad()\n",
    "\n",
    "        # adversarial loss\n",
    "        y_pr_cls = tf_discriminator(y_pr)\n",
    "        \n",
    "        tf_gen = 0\n",
    "        for _y_pr_cls in y_pr_cls:\n",
    "            B, C = _y_pr_cls.size()\n",
    "            tf_gen = nn.CrossEntropyLoss()(_y_pr_cls.float(), torch.zeros(B, dtype=torch.long, device=device)) + \\\n",
    "                            tf_gen\n",
    "        tf_gen = tf_gen / (len(y_pr_cls))\n",
    "        \n",
    "\n",
    "        edge_y_pr = sobel_filter(y_pr)\n",
    "        edge_pr_cls = edge_discriminator(edge_y_pr)  \n",
    "        \n",
    "        edge_gen = 0\n",
    "        for _edge_pr_cls in edge_pr_cls:\n",
    "            B, C = _edge_pr_cls.size()\n",
    "            edge_gen = nn.CrossEntropyLoss()(_edge_pr_cls.float(), torch.zeros(B, dtype=torch.long, device=device)) +\\\n",
    "                                    edge_gen\n",
    "        edge_gen = edge_gen / (len(edge_pr_cls))\n",
    "        \n",
    "        # auxilary loss\n",
    "        # https://discuss.pytorch.org/t/unclear-about-weighted-bce-loss/21486/2\n",
    "        _min = VIEW_BOUND[0]\n",
    "        _max = VIEW_BOUND[1]\n",
    "        air_window = AIR_BOUND\n",
    "        upper = ((air_window[1]) - (_min))/(_max-(_min))\n",
    "        lower = ((air_window[0]) - (_min))/(_max-(_min))\n",
    "        air_pr = hu_clip_tensor(y_pr.double(), (lower, upper), None, True)\n",
    "        air_loss = nn.BCELoss()(air_pr.float(), air_x.float())\n",
    "        \n",
    "        bone_window = BONE_BOUND\n",
    "        upper = ((bone_window[1]) - (_min))/(_max-(_min))\n",
    "        lower = ((bone_window[0]) - (_min))/(_max-(_min))\n",
    "        bone_pr = hu_clip_tensor(y_pr.double(), (lower, upper), None, True)\n",
    "        bone_loss = nn.BCELoss()(bone_pr.float(), bone_x.float())\n",
    "\n",
    "        _loss = tf_gen + edge_gen + air_loss + bone_loss\n",
    "        _loss.backward()    \n",
    "        gen_optim.step()\n",
    "\n",
    "        \n",
    "        edge_gen_l += edge_gen.item()\n",
    "        tf_gen_l += tf_gen.item()\n",
    "        air_l += air_loss.item()\n",
    "        bone_l += bone_loss.item()\n",
    "        \n",
    "    return  air_l/(index+1), bone_l/(index+1), \\\n",
    "                    edge_gen_l/(index+1), tf_gen_l/(index+1)"
   ]
  },
  {
   "cell_type": "code",
   "execution_count": 22,
   "metadata": {},
   "outputs": [],
   "source": [
    "@torch.no_grad()\n",
    "def eval_epoch(generator, tf_discriminator, edge_discriminator, dataloader, device):\n",
    "  \n",
    "    # change mode to train and move to current device\n",
    "    generator = generator.eval().to(device)\n",
    "    tf_discriminator = tf_discriminator.eval().to(device)\n",
    "    edge_discriminator = edge_discriminator.eval().to(device)\n",
    "    \n",
    "    ssim_ = []\n",
    "    psnr_ = []\n",
    "    mae_ = []\n",
    "    snr_ = []\n",
    "    \n",
    "    air_ = []\n",
    "    bone_ = []\n",
    "    cont_ = []\n",
    " \n",
    "    tf_acc = []\n",
    "    edge_acc = []\n",
    "    \n",
    "    for index, data in tqdm(enumerate(dataloader)):\n",
    "\n",
    "        x, y, air_x, bone_x, *_ = data\n",
    "\n",
    "        x = x.to(device)\n",
    "        y = y.to(device)\n",
    "        air_x = air_x.to(device)\n",
    "        bone_x = bone_x.to(device)\n",
    "\n",
    "        y_pr = generator(x.float())\n",
    "        y_pr = Activation(name=GEN_ACT)(y_pr) # zipped value to [0, 1]\n",
    "        x = x[:, 0, :, :].unsqueeze(1)\n",
    "        \n",
    "       ############################\n",
    "        # (1) Eval True/Fake D network: maximize log(D(x)) + log(1 - D(G(z)))\n",
    "        ###########################        \n",
    "        y_cls = tf_discriminator(y)\n",
    "        for _y_cls in y_cls:\n",
    "            B, C = _y_cls.size()\n",
    "            total = B\n",
    "            _y_cls = Activation(name=DIS_ACT)(_y_cls)\n",
    "            _, _y_cls = torch.max(_y_cls.data, 1)\n",
    "            correct = (_y_cls == torch.zeros(B, dtype=torch.long, device=device)).sum().item()\n",
    "            tf_acc += [correct / total]        \n",
    "        \n",
    "        y_pr_cls = tf_discriminator(y_pr)\n",
    "        for _y_pr_cls in y_pr_cls:\n",
    "            B, C = _y_pr_cls.size()\n",
    "            total = B\n",
    "            _y_pr_cls = Activation(name=DIS_ACT)(_y_pr_cls)\n",
    "            _, _y_pr_cls = torch.max(_y_pr_cls.data, 1)\n",
    "            correct = (_y_pr_cls == torch.ones(B, dtype=torch.long, device=device)).sum().item()\n",
    "            tf_acc += [correct / total]\n",
    "\n",
    " \n",
    "       ############################\n",
    "        # (1.1) Eval Edge D network: maximize log(D(x)) + log(1 - D(G(z)))\n",
    "        ###########################  \n",
    "\n",
    "        edge_x = sobel_filter(x)\n",
    "        edge_y_pr = sobel_filter(y_pr)\n",
    "        edge_y = sobel_filter(y)\n",
    "        \n",
    "        edge_y_cls = edge_discriminator(edge_y)\n",
    "        for _edge_y_cls in edge_y_cls:\n",
    "            B, C = _edge_y_cls.size()\n",
    "            total = B\n",
    "            _edge_y_cls = Activation(name=DIS_ACT)(_edge_y_cls)\n",
    "            _, _edge_y_cls = torch.max(_edge_y_cls.data, 1)\n",
    "            correct = (_edge_y_cls == torch.zeros((B), dtype=torch.long, device=device)).sum().item()\n",
    "            edge_acc += [correct / total]          \n",
    "        \n",
    "        edge_pr_cls = edge_discriminator(edge_y_pr)\n",
    "        for _edge_pr_cls in edge_pr_cls:\n",
    "            B, C = _edge_pr_cls.size()\n",
    "            total = B\n",
    "            _edge_pr_cls = Activation(name=DIS_ACT)(_edge_pr_cls)\n",
    "            _, _edge_pr_cls = torch.max(_edge_pr_cls.data, 1)\n",
    "            correct = (_edge_pr_cls == torch.ones((B), dtype=torch.long, device=device)).sum().item()\n",
    "            edge_acc += [correct / total]        \n",
    "\n",
    "        ############################\n",
    "        # (2) Eval G network: maximize log(D(G(z)))\n",
    "        ###########################\n",
    "        \n",
    "        # main\n",
    "        _ssim = ssim(y, y_pr, data_range=1.0, size_average=True) # return (N,)\n",
    "        _psnr = PSNR()(y_pr, y, 1.0)\n",
    "        _snr = SNR()(y_pr, y)\n",
    "        _mae = MAELoss()(y_pr.float(), y.float())\n",
    "\n",
    "        ssim_ += [_ssim.item()]\n",
    "        psnr_ += [_psnr.item()]\n",
    "        mae_ += [_mae.item()]\n",
    "        snr_ += [_snr.item()]\n",
    "        \n",
    "        # auxilary\n",
    "        _min = VIEW_BOUND[0]\n",
    "        _max = VIEW_BOUND[1]\n",
    "        air_window =AIR_BOUND\n",
    "        upper = ((air_window[1]) - (_min))/(_max-(_min))\n",
    "        lower = ((air_window[0]) - (_min))/(_max-(_min))\n",
    "        air_pr = hu_clip_tensor(y_pr.double(), (lower, upper), None, True)\n",
    "        dice = Fscore()(air_pr, air_x)\n",
    "        air_ += [dice.item()]\n",
    "        \n",
    "        bone_window = BONE_BOUND\n",
    "        upper = ((bone_window[1]) - (_min))/(_max-(_min))\n",
    "        lower = ((bone_window[0]) - (_min))/(_max-(_min))\n",
    "        bone_pr = hu_clip_tensor(y_pr.double(), (lower, upper), None, True)\n",
    "        dice = Fscore()(bone_pr, bone_x)\n",
    "        bone_ += [dice.item()]\n",
    "\n",
    "        for b in range(x.size()[0]):\n",
    "            cont = ContourEval()(y_pr[b, :, :, :], x[b, :, :, :])\n",
    "            cont_ += [cont.item()]\n",
    "\n",
    "    return  sum(ssim_)/len(ssim_), sum(psnr_)/len(psnr_), sum(snr_)/len(snr_), sum(mae_)/len(mae_), \\\n",
    "                    sum(air_)/len(air_), sum(bone_)/len(bone_), sum(cont_)/len(cont_), sum(tf_acc)/len(tf_acc), sum(edge_acc)/len(edge_acc)"
   ]
  },
  {
   "cell_type": "code",
   "execution_count": 23,
   "metadata": {},
   "outputs": [],
   "source": [
    "@torch.no_grad()\n",
    "def test_epoch(model, dataloader, device, save=False, path=None):\n",
    "  \n",
    "    # change mode to train and move to current device\n",
    "    model = model.eval().to(device)\n",
    "    \n",
    "    iid = 0\n",
    "    for index, data in tqdm(enumerate(dataloader)):\n",
    "\n",
    "        x, y, air_x, bone_x, *_ = data\n",
    "        \n",
    "        x = x.to(device)\n",
    "        y = y.to(device)\n",
    "        air_x = air_x.to(device)\n",
    "        bone_x = bone_x.to(device)\n",
    "\n",
    "        y_pr = model(x.float())\n",
    "        y_pr = Activation(name=GEN_ACT)(y_pr) # zipped value to [0, 1]\n",
    "        x = x[:, 0, :, :].unsqueeze(1)\n",
    "        \n",
    "        edge_x = sobel_filter(x)\n",
    "        edge_y_pr = sobel_filter(y_pr)\n",
    "        edge_y = sobel_filter(y)\n",
    "        \n",
    "        _min = VIEW_BOUND[0]\n",
    "        _max = VIEW_BOUND[1]\n",
    "        air_window = AIR_BOUND\n",
    "        upper = ((air_window[1]) - (_min))/(_max-(_min))\n",
    "        lower = ((air_window[0]) - (_min))/(_max-(_min))\n",
    "        air_pr = hu_clip_tensor(y_pr.double(), (lower, upper), None, True)\n",
    "        \n",
    "        bone_window = BONE_BOUND\n",
    "        upper = ((bone_window[1]) - (_min))/(_max-(_min))\n",
    "        lower = ((bone_window[0]) - (_min))/(_max-(_min))\n",
    "        bone_pr = hu_clip_tensor(y_pr.double(), (lower, upper), None, True)\n",
    "\n",
    "        for b in range(x.shape[0]):           \n",
    "            tmp_y = y[b, :, :, :].unsqueeze(0)\n",
    "            tmp_y_pr = y_pr[b, :, :, :].unsqueeze(0)\n",
    "            tmp_air = air_x[b, :, :, :].unsqueeze(0)\n",
    "            tmp_air_pr = air_pr[b, :, :, :].unsqueeze(0)\n",
    "            tmp_bone = bone_x[b, :, :, :].unsqueeze(0)\n",
    "            tmp_bone_pr = bone_pr[b, :, :, :].unsqueeze(0)\n",
    "            \n",
    "            _ssim = ssim(tmp_y, tmp_y_pr, data_range=1.0, size_average=True) # return (N,)\n",
    "            _psnr = PSNR()(tmp_y_pr, tmp_y, 1.0)\n",
    "            _snr = SNR()(tmp_y_pr, tmp_y)\n",
    "            _mae = MAELoss()(tmp_y_pr.float(), tmp_y.float())\n",
    "            _air = Fscore()(tmp_air_pr, tmp_air)\n",
    "            _bone = Fscore()(tmp_bone_pr, tmp_bone)\n",
    "            _cont = ContourEval()(tmp_y_pr, x[b, :, :, :])\n",
    "            \n",
    "            print(\"ssim score = {}\".format(_ssim.item()))\n",
    "            print(\"psnr score = {}\".format(_psnr.item()))\n",
    "            print(\"snr score = {}\".format(_snr.item()))\n",
    "            print(\"mae error = {}\".format(_mae.item()))\n",
    "            print(\"air dice score = {}\".format(_air.item()))\n",
    "            print(\"bone dice score = {}\".format(_bone.item()))\n",
    "            print(\"contour dice score = {}\".format(_cont.item()))\n",
    "            \n",
    "            __cbct = (x.squeeze().cpu().numpy() * 255).astype(np.uint8)\n",
    "            __ct = (tmp_y.squeeze().cpu().numpy() * 255).astype(np.uint8)\n",
    "            __ct_pred = (tmp_y_pr.squeeze().cpu().numpy() * 255).astype(np.uint8)\n",
    "            __ct_masked = __ct_pred * tmp_air.squeeze().cpu().numpy()\n",
    "            __air = (tmp_air.squeeze().cpu().numpy() * 255).astype(np.uint8)\n",
    "            __air_pr = (tmp_air_pr.squeeze().cpu().numpy() * 255).astype(np.uint8)\n",
    "            __bone = (tmp_bone.squeeze().cpu().numpy() * 255).astype(np.uint8)\n",
    "            __bone_pr = (tmp_bone_pr.squeeze().cpu().numpy() * 255).astype(np.uint8)\n",
    "            __edge_pr = (edge_y_pr[b, :].squeeze().cpu().numpy() * 255).astype(np.uint8)\n",
    "            __edge_x = (edge_x.squeeze().cpu().numpy() * 255).astype(np.uint8)\n",
    "            __edge_y = (edge_y.squeeze().cpu().numpy() * 255).astype(np.uint8)\n",
    "            \n",
    "            visualize(\n",
    "                cbct = __cbct,\n",
    "                ct_y = __ct,\n",
    "                ct_pred = __ct_pred,\n",
    "                edge_pred = __edge_pr,\n",
    "                edge_x = __edge_x,\n",
    "                edge_y = __edge_y,\n",
    "                air = __air,\n",
    "                air_pr = __air_pr,\n",
    "                bone = __bone,\n",
    "                bone_pr = __bone_pr\n",
    "            )\n",
    "            \n",
    "            if save:\n",
    "                path_dir = os.path.join(path, \"file_{}\".format(iid))\n",
    "                try:\n",
    "                    os.mkdir(path_dir)\n",
    "                except FileExistsError:\n",
    "                    pass\n",
    "                \n",
    "                cv2.imwrite(os.path.join(path_dir, \"cbct.jpg\"), __cbct)\n",
    "                cv2.imwrite(os.path.join(path_dir, \"ct.jpg\"), __ct)\n",
    "                cv2.imwrite(os.path.join(path_dir, \"ct_pred.jpg\"), __ct_pred)\n",
    "                cv2.imwrite(os.path.join(path_dir, \"air.jpg\"), __air)\n",
    "                cv2.imwrite(os.path.join(path_dir, \"air_pred.jpg\"), __air_pr)\n",
    "                cv2.imwrite(os.path.join(path_dir, \"bone.jpg\"), __bone)\n",
    "                cv2.imwrite(os.path.join(path_dir, \"bone_pred.jpg\"), __bone_pr)\n",
    "                cv2.imwrite(os.path.join(path_dir, \"edge_pred.jpg\"), __edge_pr)\n",
    "                cv2.imwrite(os.path.join(path_dir, \"edge_cbct.jpg\"), __edge_x)\n",
    "                cv2.imwrite(os.path.join(path_dir, \"edge_ct.jpg\"), __edge_y)\n",
    "                \n",
    "            iid += 1"
   ]
  },
  {
   "cell_type": "markdown",
   "metadata": {},
   "source": [
    "# Discriminator"
   ]
  },
  {
   "cell_type": "code",
   "execution_count": 24,
   "metadata": {},
   "outputs": [],
   "source": [
    "from codes.activation import Activation\n",
    "import torchvision.models as models\n",
    "from codes.losses import MultiScaleHeads"
   ]
  },
  {
   "cell_type": "code",
   "execution_count": 25,
   "metadata": {},
   "outputs": [],
   "source": [
    "class Discriminator(nn.Module):\n",
    "    def __init__(self, in_channel=1, n_classes=2, activation=None):\n",
    "        \n",
    "        super(Discriminator, self).__init__()\n",
    "        \n",
    "        encoder = smp.Unet(encoder_name=\"resnet18\", in_channels=in_channel, classes=n_classes).encoder\n",
    "        self.encoder = encoder\n",
    "        self.fc = MultiScaleHeads(n_classes=n_classes, channels=(512, ), activation=None)\n",
    "        \n",
    "    def forward(self, x):\n",
    "        x = self.encoder(x)\n",
    "        x = self.fc([x[-1]])\n",
    "        return x"
   ]
  },
  {
   "cell_type": "markdown",
   "metadata": {},
   "source": [
    "# Generator"
   ]
  },
  {
   "cell_type": "code",
   "execution_count": 26,
   "metadata": {},
   "outputs": [],
   "source": [
    "import segmentation_models_pytorch as smp\n",
    "from codes.decoder import UnetDecoder\n",
    "from segmentation_models_pytorch.base.heads import SegmentationHead"
   ]
  },
  {
   "cell_type": "code",
   "execution_count": 27,
   "metadata": {},
   "outputs": [],
   "source": [
    "class Generator(nn.Module):\n",
    "    def __init__(self, encoder_name, encoder_weights, in_channels, classes, attention_type):\n",
    "        \n",
    "        super(Generator, self).__init__()\n",
    "        \n",
    "        self.encoder = smp.Unet(encoder_name=encoder_name, encoder_weights=encoder_weights, in_channels=in_channels, classes=classes).encoder\n",
    "        self.decoder = UnetDecoder(\n",
    "                            encoder_channels=[in_channels, 0, 0, 0, 0, 2048],\n",
    "                            decoder_channels=[512, 256, 128, 64, 16],\n",
    "                            n_blocks=5,\n",
    "                            use_batchnorm=True,\n",
    "                            attention_type=attention_type)\n",
    "        self.head =  SegmentationHead(\n",
    "                        in_channels=16,\n",
    "                        out_channels=classes,\n",
    "                        activation=None)\n",
    "        \n",
    "        \n",
    "    def forward(self, x):\n",
    "        x = self.encoder(x)[-1]\n",
    "        x = self.decoder(*(None, None, None, None, x))\n",
    "        x = self.head(x)\n",
    "        \n",
    "        return x"
   ]
  },
  {
   "cell_type": "markdown",
   "metadata": {},
   "source": [
    "# Read Data"
   ]
  },
  {
   "cell_type": "code",
   "execution_count": 28,
   "metadata": {},
   "outputs": [],
   "source": [
    "from codes.dataset import Dataset, DicomsDataset\n",
    "import codes.augmentation as aug"
   ]
  },
  {
   "cell_type": "code",
   "execution_count": 29,
   "metadata": {},
   "outputs": [],
   "source": [
    "pelvic_train_case_path = 'raw/train/*_*'\n",
    "pelvic_test_case_path = 'raw/test/*_*'\n",
    "\n",
    "abdomen_train_case_path = \"abdomen/train/*_*\"\n",
    "abdomen_test_case_path = 'abdomen/test/*_*'\n",
    "\n",
    "chest_train_case_path = \"chest/train/*_*\"\n",
    "chest_test_case_path = 'chest/test/*_*'\n",
    "\n",
    "hn_train_case_path = \"headneck/train/*_*\"\n",
    "hn_test_case_path = 'headneck/test/*_*'"
   ]
  },
  {
   "cell_type": "code",
   "execution_count": 30,
   "metadata": {},
   "outputs": [],
   "source": [
    "trainset_pelvic = DicomsDataset(pelvic_train_case_path, \n",
    "                   intensity_aug=aug.training_intensity_augmentation(), geometry_aug=aug.get_training_augmentation(),\n",
    "                  identity=False, electron=ELECTRON, position=\"pelvic\", g_coord=G_COORD, l_coord=L_COORD)\n",
    "trainset_abdomen = DicomsDataset(abdomen_train_case_path, \n",
    "                      intensity_aug=aug.training_intensity_augmentation(), geometry_aug=aug.get_training_augmentation(),\n",
    "                  identity=False, electron=ELECTRON, position=\"abdomen\", g_coord=G_COORD, l_coord=L_COORD)\n",
    "trainset_chest = DicomsDataset(chest_train_case_path, \n",
    "                   intensity_aug=aug.training_intensity_augmentation(), geometry_aug=aug.get_training_augmentation(),\n",
    "                  identity=False, electron=ELECTRON, position=\"chest\", g_coord=G_COORD, l_coord=L_COORD)\n",
    "trainset_hn = DicomsDataset(hn_train_case_path, \n",
    "                      intensity_aug=aug.training_intensity_augmentation(), geometry_aug=aug.get_training_augmentation(),\n",
    "                  identity=False, electron=ELECTRON, position=\"headneck\", g_coord=G_COORD, l_coord=L_COORD)\n",
    "\n",
    "trainset = ConcatDataset([trainset_pelvic, trainset_abdomen, trainset_chest, trainset_hn])"
   ]
  },
  {
   "cell_type": "code",
   "execution_count": 31,
   "metadata": {},
   "outputs": [],
   "source": [
    "testset_pelvic = DicomsDataset(pelvic_test_case_path, geometry_aug=aug.get_validation_augmentation(), \n",
    "                 identity=False, electron=ELECTRON, position=\"pelvic\", g_coord=G_COORD, l_coord=L_COORD)\n",
    "testset_abdomen = DicomsDataset(pelvic_test_case_path, geometry_aug=aug.get_validation_augmentation(), \n",
    "                 identity=False, electron=ELECTRON, position=\"abdomen\", g_coord=G_COORD, l_coord=L_COORD)\n",
    "testset_chest = DicomsDataset(pelvic_test_case_path, geometry_aug=aug.get_validation_augmentation(), \n",
    "                 identity=False, electron=ELECTRON, position=\"chest\", g_coord=G_COORD, l_coord=L_COORD)\n",
    "testset_hn = DicomsDataset(pelvic_test_case_path, geometry_aug=aug.get_validation_augmentation(), \n",
    "                 identity=False, electron=ELECTRON, position=\"headneck\", g_coord=G_COORD, l_coord=L_COORD)\n",
    "\n",
    "testset = ConcatDataset([testset_pelvic, testset_abdomen, testset_chest, testset_hn])"
   ]
  },
  {
   "cell_type": "code",
   "execution_count": 32,
   "metadata": {},
   "outputs": [
    {
     "data": {
      "text/plain": [
       "(2790, 764)"
      ]
     },
     "execution_count": 32,
     "metadata": {},
     "output_type": "execute_result"
    }
   ],
   "source": [
    "len(trainset), len(testset)"
   ]
  },
  {
   "cell_type": "code",
   "execution_count": 33,
   "metadata": {},
   "outputs": [],
   "source": [
    "x, y, *_ = trainset[20]"
   ]
  },
  {
   "cell_type": "code",
   "execution_count": 34,
   "metadata": {},
   "outputs": [
    {
     "data": {
      "text/plain": [
       "(<matplotlib.image.AxesImage at 0x7f65f1738f70>,)"
      ]
     },
     "execution_count": 34,
     "metadata": {},
     "output_type": "execute_result"
    },
    {
     "data": {
      "image/png": "[encoded data removed]",
      "text/plain": [
       "<Figure size 432x288 with 1 Axes>"
      ]
     },
     "metadata": {
      "needs_background": "light"
     },
     "output_type": "display_data"
    }
   ],
   "source": [
    "plt.imshow(x[0].squeeze(), 'gray'),"
   ]
  },
  {
   "cell_type": "code",
   "execution_count": 35,
   "metadata": {},
   "outputs": [
    {
     "data": {
      "text/plain": [
       "<matplotlib.image.AxesImage at 0x7f65f1a964f0>"
      ]
     },
     "execution_count": 35,
     "metadata": {},
     "output_type": "execute_result"
    },
    {
     "data": {
      "image/png": "[encoded data removed]",
      "text/plain": [
       "<Figure size 432x288 with 1 Axes>"
      ]
     },
     "metadata": {
      "needs_background": "light"
     },
     "output_type": "display_data"
    }
   ],
   "source": [
    "plt.imshow(y[0].squeeze(), 'gray')"
   ]
  },
  {
   "cell_type": "code",
   "execution_count": 36,
   "metadata": {},
   "outputs": [
    {
     "data": {
      "text/plain": [
       "((5, 384, 384), (1, 384, 384))"
      ]
     },
     "execution_count": 36,
     "metadata": {},
     "output_type": "execute_result"
    }
   ],
   "source": [
    "x.shape, y.shape"
   ]
  },
  {
   "cell_type": "markdown",
   "metadata": {},
   "source": [
    "# training"
   ]
  },
  {
   "cell_type": "code",
   "execution_count": 37,
   "metadata": {},
   "outputs": [],
   "source": [
    "trainloader = torch.utils.data.DataLoader(trainset, batch_size=BATCH, shuffle=True, num_workers=8)\n",
    "testloader = torch.utils.data.DataLoader(testset, batch_size=BATCH, shuffle=False, num_workers=4)"
   ]
  },
  {
   "cell_type": "code",
   "execution_count": 38,
   "metadata": {},
   "outputs": [],
   "source": [
    "import segmentation_models_pytorch as smp\n",
    "import torchvision.models as models\n",
    "\n",
    "model = smp.Unet(encoder_name=ENCODER, \n",
    "                  encoder_weights=ENCODER_WEIGHT, \n",
    "                  in_channels=GEN_IN_CHANNELS, \n",
    "                  classes=GEN_N_CLASSES,\n",
    "                 decoder_attention_type=DECODER_ATT)\n",
    "\n",
    "replace_relu_to_leakyReLU(model)\n",
    "replace_bn_to_instanceNorm(model)"
   ]
  },
  {
   "cell_type": "code",
   "execution_count": 39,
   "metadata": {},
   "outputs": [],
   "source": [
    "tf_discriminator = Discriminator(in_channel=DIS_IN_CHANNELS, n_classes=DIS_N_CLASSES, activation=DIS_ACT)\n",
    "replace_relu_to_leakyReLU(tf_discriminator)\n",
    "replace_bn_to_instanceNorm(tf_discriminator)"
   ]
  },
  {
   "cell_type": "code",
   "execution_count": 40,
   "metadata": {},
   "outputs": [],
   "source": [
    "edge_discriminator = Discriminator(in_channel=E_IN_CHANNELS, n_classes=E_N_CLASSES, activation=E_ACT)\n",
    "replace_relu_to_leakyReLU(edge_discriminator)\n",
    "replace_bn_to_instanceNorm(edge_discriminator)"
   ]
  },
  {
   "cell_type": "code",
   "execution_count": 41,
   "metadata": {},
   "outputs": [],
   "source": [
    "from codes.optimizer import Optimizer\n",
    "# optimizer = optim.SGD(model.parameters(), lr=init_lr, momentum=momentum)\n",
    "gen_optimizer = Optimizer(model.parameters(), name=GEN_OPTIM_NAME, lr=GEN_init_lr)\n",
    "tf_dis_optimizer = Optimizer(tf_discriminator.parameters(), name=DIS_OPTIM_NAME, lr=DIS_init_lr)\n",
    "edge_dis_optimizer = Optimizer(edge_discriminator.parameters(), name=E_OPTIM_NAME, lr=E_init_lr)"
   ]
  },
  {
   "cell_type": "code",
   "execution_count": 42,
   "metadata": {},
   "outputs": [],
   "source": [
    "from codes.scheduler import Scheduler\n",
    "tf_scheduler = Scheduler(tf_dis_optimizer, name=DIS_scheduler, T_0=10, T_mult=2, eta_min=5e-4)\n",
    "edge_scheduler = Scheduler(edge_dis_optimizer, name=E_scheduler, T_0=10, T_mult=2, eta_min=5e-4)"
   ]
  },
  {
   "cell_type": "code",
   "execution_count": 43,
   "metadata": {},
   "outputs": [
    {
     "name": "stderr",
     "output_type": "stream",
     "text": [
      "\u001b[34m\u001b[1mwandb\u001b[0m: Currently logged in as: \u001b[33mjunjun\u001b[0m (use `wandb login --relogin` to force relogin)\n",
      "\u001b[34m\u001b[1mwandb\u001b[0m: wandb version 0.12.11 is available!  To upgrade, please run:\n",
      "\u001b[34m\u001b[1mwandb\u001b[0m:  $ pip install wandb --upgrade\n"
     ]
    },
    {
     "data": {
      "text/html": [
       "\n",
       "                    Syncing run <strong><a href=\"https://wandb.ai/junjun/cbct_gan/runs/2e568wv6\" target=\"_blank\">valiant-moon-255</a></strong> to <a href=\"https://wandb.ai/junjun/cbct_gan\" target=\"_blank\">Weights & Biases</a> (<a href=\"https://docs.wandb.com/integrations/jupyter.html\" target=\"_blank\">docs</a>).<br/>\n",
       "\n",
       "                "
      ],
      "text/plain": [
       "<IPython.core.display.HTML object>"
      ]
     },
     "metadata": {},
     "output_type": "display_data"
    },
    {
     "data": {
      "text/html": [
       "<button onClick=\"this.nextSibling.style.display='block';this.style.display='none';\">Display W&B run</button><iframe src=\"https://wandb.ai/junjun/cbct_gan/runs/2e568wv6?jupyter=true\" style=\"border:none;width:100%;height:420px;display:none;\"></iframe>"
      ],
      "text/plain": [
       "<wandb.sdk.wandb_run.Run at 0x7f65d921b130>"
      ]
     },
     "execution_count": 43,
     "metadata": {},
     "output_type": "execute_result"
    }
   ],
   "source": [
    "import wandb\n",
    "\n",
    "wandb.init(project=\"cbct_gan\", config={\n",
    "    \"data\": {\n",
    "        \"batchsize\": BATCH,\n",
    "        \"electron\": ELECTRON,\n",
    "        \"coord\": COORD,\n",
    "        \"viewbound\": VIEW_BOUND,\n",
    "        \"air_bound\": AIR_BOUND,\n",
    "        \"bone_bound\": BONE_BOUND,\n",
    "    },\n",
    "    \"epochs\": EPOCH,\n",
    "    \"model\": {\n",
    "        \"in_channels\": GEN_IN_CHANNELS,\n",
    "        \"out_channels\": GEN_N_CLASSES,\n",
    "        \"optimizer\": GEN_OPTIM_NAME,\n",
    "        \"init_lr\": GEN_init_lr,\n",
    "        \"momentum\": GEN_momentum,\n",
    "        \"encoder\": ENCODER,\n",
    "        \"encoder_weight\": ENCODER_WEIGHT,\n",
    "        \"activation\": GEN_ACT,\n",
    "        \"decoder_attention_type\": DECODER_ATT\n",
    "    },\n",
    "    \"discriminator\": {\n",
    "        \"in_channels\": DIS_IN_CHANNELS,\n",
    "        \"out_channels\": DIS_N_CLASSES,\n",
    "        \"optimizer\": DIS_OPTIM_NAME,\n",
    "        \"init_lr\": DIS_init_lr,\n",
    "        \"momentum\": DIS_momentum,\n",
    "        \"encoder\": \"resnet18\"\n",
    "    }\n",
    "})"
   ]
  },
  {
   "cell_type": "code",
   "execution_count": 44,
   "metadata": {
    "scrolled": true
   },
   "outputs": [
    {
     "name": "stderr",
     "output_type": "stream",
     "text": [
      "349it [04:07,  1.41it/s]\n",
      "349it [05:32,  1.05it/s]\n",
      "349it [02:22,  2.46it/s]\n",
      "96it [00:39,  2.40it/s]\n"
     ]
    },
    {
     "name": "stdout",
     "output_type": "stream",
     "text": [
      "Epoch=0\n"
     ]
    },
    {
     "name": "stderr",
     "output_type": "stream",
     "text": [
      "349it [03:55,  1.48it/s]\n",
      "349it [05:32,  1.05it/s]\n",
      "349it [02:24,  2.42it/s]\n",
      "96it [00:40,  2.39it/s]\n"
     ]
    },
    {
     "name": "stdout",
     "output_type": "stream",
     "text": [
      "Epoch=1\n"
     ]
    },
    {
     "name": "stderr",
     "output_type": "stream",
     "text": [
      "349it [03:54,  1.49it/s]\n",
      "349it [05:33,  1.05it/s]\n",
      "349it [02:27,  2.37it/s]\n",
      "96it [00:40,  2.40it/s]\n",
      "349it [03:52,  1.50it/s]\n",
      "349it [05:32,  1.05it/s]\n",
      "349it [02:27,  2.37it/s]\n",
      "96it [00:39,  2.41it/s]\n",
      "349it [03:51,  1.51it/s]\n",
      "349it [05:31,  1.05it/s]\n",
      "349it [02:26,  2.38it/s]\n",
      "96it [00:40,  2.39it/s]\n",
      "349it [03:51,  1.51it/s]\n",
      "349it [05:31,  1.05it/s]\n",
      "349it [02:26,  2.38it/s]\n",
      "96it [00:38,  2.52it/s]\n",
      "349it [03:57,  1.47it/s]\n",
      "349it [05:31,  1.05it/s]\n",
      "349it [02:24,  2.41it/s]\n",
      "96it [00:36,  2.60it/s]\n",
      "349it [04:03,  1.43it/s]\n",
      "349it [05:31,  1.05it/s]\n",
      "349it [02:22,  2.44it/s]\n",
      "96it [00:39,  2.42it/s]\n",
      "349it [04:07,  1.41it/s]\n",
      "349it [05:30,  1.05it/s]\n",
      "349it [02:21,  2.47it/s]\n",
      "96it [00:39,  2.41it/s]\n",
      "349it [04:05,  1.42it/s]\n",
      "349it [05:33,  1.05it/s]\n",
      "349it [02:21,  2.46it/s]\n",
      "96it [00:40,  2.39it/s]\n",
      "349it [03:59,  1.46it/s]\n",
      "349it [05:32,  1.05it/s]\n",
      "349it [02:23,  2.43it/s]\n",
      "96it [00:40,  2.40it/s]\n",
      "349it [03:53,  1.50it/s]\n",
      "349it [05:32,  1.05it/s]\n",
      "349it [02:26,  2.38it/s]\n",
      "96it [00:40,  2.39it/s]\n"
     ]
    },
    {
     "name": "stdout",
     "output_type": "stream",
     "text": [
      "Epoch=11\n"
     ]
    },
    {
     "name": "stderr",
     "output_type": "stream",
     "text": [
      "349it [03:52,  1.50it/s]\n",
      "349it [05:30,  1.06it/s]\n",
      "349it [02:27,  2.37it/s]\n",
      "96it [00:39,  2.41it/s]\n",
      "349it [03:51,  1.51it/s]\n",
      "349it [05:31,  1.05it/s]\n",
      "349it [02:26,  2.39it/s]\n",
      "96it [00:40,  2.40it/s]\n",
      "349it [03:51,  1.51it/s]\n",
      "349it [05:31,  1.05it/s]\n",
      "349it [02:26,  2.39it/s]\n",
      "96it [00:39,  2.45it/s]\n",
      "349it [03:55,  1.48it/s]\n",
      "349it [05:31,  1.05it/s]\n",
      "349it [02:25,  2.40it/s]\n",
      "96it [00:37,  2.56it/s]\n",
      "349it [04:01,  1.45it/s]\n",
      "349it [05:31,  1.05it/s]\n",
      "349it [02:23,  2.43it/s]\n",
      "96it [00:38,  2.52it/s]\n",
      "349it [04:07,  1.41it/s]\n",
      "349it [05:31,  1.05it/s]\n",
      "349it [02:21,  2.46it/s]\n",
      "96it [00:39,  2.44it/s]\n",
      "349it [04:06,  1.41it/s]\n",
      "349it [03:54,  1.49it/s]\n",
      "349it [01:26,  4.03it/s]\n",
      "96it [00:23,  4.11it/s]\n",
      "349it [02:20,  2.49it/s]\n",
      "349it [03:35,  1.62it/s]\n",
      "349it [01:26,  4.03it/s]\n",
      "96it [00:23,  4.11it/s]\n",
      "349it [02:20,  2.49it/s]\n",
      "349it [03:35,  1.62it/s]\n",
      "349it [01:26,  4.03it/s]\n",
      "96it [00:23,  4.11it/s]\n",
      "349it [02:20,  2.49it/s]\n",
      "349it [03:35,  1.62it/s]\n",
      "349it [01:26,  4.04it/s]\n",
      "96it [00:23,  4.13it/s]\n"
     ]
    },
    {
     "name": "stdout",
     "output_type": "stream",
     "text": [
      "Epoch=21\n"
     ]
    },
    {
     "name": "stderr",
     "output_type": "stream",
     "text": [
      "349it [02:20,  2.49it/s]\n",
      "349it [03:35,  1.62it/s]\n",
      "349it [01:26,  4.04it/s]\n",
      "96it [00:23,  4.12it/s]\n",
      "349it [02:20,  2.49it/s]\n",
      "349it [03:35,  1.62it/s]\n",
      "349it [01:26,  4.04it/s]\n",
      "96it [00:23,  4.12it/s]\n",
      "349it [02:20,  2.49it/s]\n",
      "349it [03:35,  1.62it/s]\n",
      "349it [01:26,  4.05it/s]\n",
      "96it [00:23,  4.11it/s]\n",
      "349it [02:20,  2.49it/s]\n",
      "349it [03:36,  1.61it/s]\n",
      "349it [01:27,  4.01it/s]\n",
      "96it [00:23,  4.10it/s]\n",
      "349it [02:48,  2.07it/s]\n",
      "349it [04:21,  1.34it/s]\n",
      "349it [01:52,  3.11it/s]\n",
      "96it [00:29,  3.29it/s]\n",
      "349it [03:02,  1.91it/s]\n",
      "349it [04:12,  1.38it/s]\n",
      "349it [01:47,  3.26it/s]\n",
      "96it [00:29,  3.28it/s]\n",
      "349it [04:13,  1.38it/s]\n",
      "349it [06:31,  1.12s/it]\n",
      "349it [02:52,  2.02it/s]\n",
      "96it [00:44,  2.16it/s]\n",
      "349it [04:33,  1.28it/s]\n",
      "349it [06:16,  1.08s/it]\n",
      "349it [03:04,  1.90it/s]\n",
      "96it [00:49,  1.95it/s]\n"
     ]
    },
    {
     "name": "stdout",
     "output_type": "stream",
     "text": [
      "Epoch=29\n"
     ]
    },
    {
     "name": "stderr",
     "output_type": "stream",
     "text": [
      "349it [04:44,  1.23it/s]\n",
      "349it [06:06,  1.05s/it]\n",
      "349it [02:22,  2.46it/s]\n",
      "96it [00:40,  2.39it/s]\n",
      "349it [04:04,  1.43it/s]\n",
      "349it [05:33,  1.05it/s]\n",
      "349it [02:23,  2.44it/s]\n",
      "96it [00:40,  2.38it/s]\n",
      "349it [03:55,  1.48it/s]\n",
      "349it [05:34,  1.04it/s]\n",
      "349it [02:25,  2.40it/s]\n",
      "96it [00:39,  2.42it/s]\n",
      "349it [03:54,  1.49it/s]\n",
      "349it [05:31,  1.05it/s]\n",
      "349it [02:27,  2.37it/s]\n",
      "96it [00:39,  2.41it/s]\n",
      "349it [03:53,  1.50it/s]\n",
      "349it [05:33,  1.05it/s]\n",
      "349it [02:26,  2.37it/s]\n",
      "96it [00:40,  2.39it/s]\n",
      "349it [03:51,  1.51it/s]\n",
      "349it [05:31,  1.05it/s]\n",
      "349it [02:26,  2.39it/s]\n",
      "96it [00:40,  2.40it/s]\n"
     ]
    },
    {
     "name": "stdout",
     "output_type": "stream",
     "text": [
      "Epoch=35\n"
     ]
    },
    {
     "name": "stderr",
     "output_type": "stream",
     "text": [
      "349it [03:55,  1.48it/s]\n",
      "349it [05:30,  1.06it/s]\n",
      "349it [02:26,  2.39it/s]\n",
      "96it [00:37,  2.55it/s]\n",
      "349it [04:00,  1.45it/s]\n",
      "349it [05:31,  1.05it/s]\n",
      "349it [02:23,  2.43it/s]\n",
      "96it [00:38,  2.51it/s]\n"
     ]
    },
    {
     "name": "stdout",
     "output_type": "stream",
     "text": [
      "Epoch=37\n"
     ]
    },
    {
     "name": "stderr",
     "output_type": "stream",
     "text": [
      "349it [04:08,  1.41it/s]\n",
      "349it [05:32,  1.05it/s]\n",
      "349it [02:23,  2.44it/s]\n",
      "96it [00:39,  2.43it/s]\n",
      "349it [04:06,  1.42it/s]\n",
      "349it [05:32,  1.05it/s]\n",
      "349it [02:20,  2.49it/s]\n",
      "96it [00:40,  2.39it/s]\n",
      "349it [04:00,  1.45it/s]\n",
      "349it [05:34,  1.04it/s]\n",
      "349it [02:24,  2.42it/s]\n",
      "96it [00:40,  2.40it/s]\n",
      "349it [03:54,  1.49it/s]\n",
      "349it [05:32,  1.05it/s]\n",
      "349it [02:27,  2.37it/s]\n",
      "96it [00:40,  2.38it/s]\n",
      "349it [03:51,  1.51it/s]\n",
      "349it [05:33,  1.05it/s]\n",
      "349it [02:27,  2.36it/s]\n",
      "96it [00:39,  2.43it/s]\n",
      "349it [03:52,  1.50it/s]\n",
      "349it [05:31,  1.05it/s]\n",
      "349it [02:27,  2.37it/s]\n",
      "96it [00:40,  2.39it/s]\n",
      "349it [03:52,  1.50it/s]\n",
      "349it [05:31,  1.05it/s]\n",
      "349it [02:26,  2.39it/s]\n",
      "96it [00:38,  2.52it/s]\n",
      "349it [03:57,  1.47it/s]\n",
      "349it [05:31,  1.05it/s]\n",
      "349it [02:25,  2.40it/s]\n",
      "96it [00:37,  2.58it/s]\n",
      "349it [04:05,  1.42it/s]\n",
      "349it [05:32,  1.05it/s]\n",
      "349it [02:22,  2.45it/s]\n",
      "96it [00:40,  2.40it/s]\n",
      "349it [04:07,  1.41it/s]\n",
      "349it [05:31,  1.05it/s]\n",
      "349it [02:22,  2.45it/s]\n",
      "96it [00:39,  2.41it/s]\n",
      "349it [04:03,  1.43it/s]\n",
      "349it [05:33,  1.05it/s]\n",
      "349it [02:23,  2.43it/s]\n",
      "96it [00:40,  2.39it/s]\n"
     ]
    },
    {
     "name": "stdout",
     "output_type": "stream",
     "text": [
      "Epoch=48\n"
     ]
    },
    {
     "name": "stderr",
     "output_type": "stream",
     "text": [
      "349it [03:55,  1.48it/s]\n",
      "349it [05:34,  1.04it/s]\n",
      "349it [02:24,  2.42it/s]\n",
      "96it [00:40,  2.39it/s]\n",
      "349it [03:53,  1.49it/s]\n",
      "349it [05:33,  1.05it/s]\n",
      "349it [02:27,  2.37it/s]\n",
      "96it [00:39,  2.43it/s]\n",
      "349it [03:52,  1.50it/s]\n",
      "349it [05:32,  1.05it/s]\n",
      "349it [02:26,  2.38it/s]\n",
      "96it [00:40,  2.39it/s]\n",
      "349it [03:52,  1.50it/s]\n",
      "349it [05:31,  1.05it/s]\n",
      "349it [02:27,  2.37it/s]\n",
      "96it [00:39,  2.42it/s]\n",
      "349it [03:55,  1.48it/s]\n",
      "349it [05:32,  1.05it/s]\n",
      "349it [02:25,  2.39it/s]\n",
      "96it [00:37,  2.55it/s]\n",
      "349it [04:00,  1.45it/s]\n",
      "349it [05:32,  1.05it/s]\n",
      "349it [02:24,  2.41it/s]\n",
      "96it [00:37,  2.58it/s]\n",
      "349it [04:06,  1.41it/s]\n",
      "349it [05:31,  1.05it/s]\n",
      "349it [02:23,  2.44it/s]\n",
      "96it [00:39,  2.40it/s]\n",
      "349it [04:06,  1.41it/s]\n",
      "349it [05:33,  1.05it/s]\n",
      "349it [02:22,  2.45it/s]\n",
      "96it [00:40,  2.38it/s]\n"
     ]
    },
    {
     "name": "stdout",
     "output_type": "stream",
     "text": [
      "Epoch=56\n"
     ]
    },
    {
     "name": "stderr",
     "output_type": "stream",
     "text": [
      "349it [04:01,  1.45it/s]\n",
      "349it [05:33,  1.05it/s]\n",
      "349it [02:24,  2.42it/s]\n",
      "96it [00:40,  2.39it/s]\n",
      "349it [03:53,  1.49it/s]\n",
      "349it [05:33,  1.05it/s]\n",
      "349it [02:27,  2.37it/s]\n",
      "96it [00:39,  2.43it/s]\n",
      "349it [03:52,  1.50it/s]\n",
      "349it [05:32,  1.05it/s]\n",
      "349it [02:27,  2.36it/s]\n",
      "96it [00:40,  2.39it/s]\n",
      "349it [03:51,  1.51it/s]\n",
      "349it [05:32,  1.05it/s]\n",
      "349it [02:26,  2.38it/s]\n",
      "96it [00:40,  2.40it/s]\n",
      "349it [03:52,  1.50it/s]\n",
      "349it [05:31,  1.05it/s]\n",
      "349it [02:26,  2.38it/s]\n",
      "96it [00:38,  2.50it/s]\n",
      "349it [03:57,  1.47it/s]\n",
      "349it [05:31,  1.05it/s]\n",
      "349it [02:25,  2.40it/s]\n",
      "96it [00:37,  2.58it/s]\n"
     ]
    },
    {
     "name": "stdout",
     "output_type": "stream",
     "text": [
      "Epoch=62\n"
     ]
    },
    {
     "name": "stderr",
     "output_type": "stream",
     "text": [
      "349it [04:06,  1.41it/s]\n",
      "349it [05:32,  1.05it/s]\n",
      "349it [02:22,  2.46it/s]\n",
      "96it [00:39,  2.41it/s]\n",
      "349it [04:08,  1.41it/s]\n",
      "349it [05:31,  1.05it/s]\n",
      "349it [02:22,  2.46it/s]\n",
      "96it [00:40,  2.39it/s]\n",
      "349it [04:03,  1.43it/s]\n",
      "349it [05:33,  1.05it/s]\n",
      "349it [02:24,  2.42it/s]\n",
      "96it [00:40,  2.39it/s]\n",
      "349it [03:55,  1.48it/s]\n",
      "349it [05:33,  1.04it/s]\n",
      "349it [02:26,  2.38it/s]\n",
      "96it [00:40,  2.39it/s]\n",
      "349it [03:53,  1.49it/s]\n",
      "349it [05:32,  1.05it/s]\n",
      "349it [02:28,  2.36it/s]\n",
      "96it [00:39,  2.41it/s]\n",
      "349it [03:51,  1.51it/s]\n",
      "349it [05:32,  1.05it/s]\n",
      "349it [02:26,  2.38it/s]\n",
      "96it [00:40,  2.39it/s]\n",
      "349it [03:51,  1.51it/s]\n",
      "349it [05:31,  1.05it/s]\n",
      "349it [02:26,  2.38it/s]\n",
      "96it [00:39,  2.43it/s]\n",
      "349it [03:55,  1.48it/s]\n",
      "349it [05:31,  1.05it/s]\n",
      "349it [02:26,  2.38it/s]\n",
      "96it [00:37,  2.54it/s]\n",
      "349it [03:59,  1.45it/s]\n",
      "349it [05:32,  1.05it/s]\n",
      "349it [02:24,  2.42it/s]\n",
      "96it [00:37,  2.56it/s]\n"
     ]
    },
    {
     "name": "stdout",
     "output_type": "stream",
     "text": [
      "Epoch=71\n"
     ]
    },
    {
     "name": "stderr",
     "output_type": "stream",
     "text": [
      "349it [04:07,  1.41it/s]\n",
      "349it [05:32,  1.05it/s]\n",
      "349it [02:21,  2.46it/s]\n",
      "96it [00:39,  2.43it/s]\n",
      "349it [04:06,  1.41it/s]\n",
      "349it [05:33,  1.05it/s]\n",
      "349it [02:21,  2.46it/s]\n",
      "96it [00:40,  2.39it/s]\n"
     ]
    },
    {
     "name": "stdout",
     "output_type": "stream",
     "text": [
      "Epoch=73\n"
     ]
    },
    {
     "name": "stderr",
     "output_type": "stream",
     "text": [
      "349it [04:00,  1.45it/s]\n",
      "349it [05:33,  1.05it/s]\n",
      "349it [02:24,  2.41it/s]\n",
      "96it [00:40,  2.39it/s]\n",
      "349it [03:55,  1.48it/s]\n",
      "349it [05:32,  1.05it/s]\n",
      "349it [02:27,  2.37it/s]\n",
      "96it [00:39,  2.43it/s]\n",
      "349it [03:53,  1.50it/s]\n",
      "349it [05:32,  1.05it/s]\n",
      "349it [02:27,  2.37it/s]\n",
      "96it [00:40,  2.39it/s]\n",
      "349it [03:52,  1.50it/s]\n",
      "349it [05:31,  1.05it/s]\n",
      "349it [02:26,  2.38it/s]\n",
      "96it [00:40,  2.39it/s]\n",
      "349it [03:52,  1.50it/s]\n",
      "349it [05:29,  1.06it/s]\n",
      "349it [02:26,  2.38it/s]\n",
      "96it [00:37,  2.55it/s]\n",
      "349it [03:59,  1.46it/s]\n",
      "349it [05:31,  1.05it/s]\n",
      "349it [02:24,  2.41it/s]\n",
      "96it [00:37,  2.57it/s]\n",
      "349it [04:06,  1.42it/s]\n",
      "349it [05:32,  1.05it/s]\n",
      "349it [02:23,  2.43it/s]\n",
      "96it [00:40,  2.38it/s]\n",
      "349it [04:08,  1.40it/s]\n",
      "349it [05:31,  1.05it/s]\n",
      "349it [02:23,  2.43it/s]\n",
      "96it [00:40,  2.37it/s]\n",
      "349it [04:00,  1.45it/s]\n",
      "349it [05:33,  1.05it/s]\n",
      "349it [02:24,  2.42it/s]\n",
      "96it [00:40,  2.39it/s]\n",
      "349it [03:54,  1.49it/s]\n",
      "349it [05:33,  1.05it/s]\n",
      "349it [02:27,  2.37it/s]\n",
      "96it [00:40,  2.39it/s]\n"
     ]
    },
    {
     "name": "stdout",
     "output_type": "stream",
     "text": [
      "Epoch=83\n"
     ]
    },
    {
     "name": "stderr",
     "output_type": "stream",
     "text": [
      "349it [03:53,  1.50it/s]\n",
      "349it [05:32,  1.05it/s]\n",
      "349it [02:26,  2.37it/s]\n",
      "96it [00:40,  2.40it/s]\n",
      "349it [03:52,  1.50it/s]\n",
      "349it [05:31,  1.05it/s]\n",
      "349it [02:26,  2.38it/s]\n",
      "96it [00:40,  2.39it/s]\n",
      "349it [03:52,  1.50it/s]\n",
      "349it [05:30,  1.06it/s]\n",
      "349it [02:26,  2.37it/s]\n",
      "96it [00:38,  2.50it/s]\n",
      "349it [03:57,  1.47it/s]\n",
      "349it [05:32,  1.05it/s]\n",
      "349it [02:25,  2.40it/s]\n",
      "96it [00:37,  2.57it/s]\n",
      "349it [04:01,  1.44it/s]\n",
      "349it [05:32,  1.05it/s]\n",
      "349it [02:23,  2.44it/s]\n",
      "96it [00:39,  2.40it/s]\n",
      "349it [04:08,  1.41it/s]\n",
      "349it [05:31,  1.05it/s]\n",
      "349it [02:22,  2.44it/s]\n",
      "96it [00:40,  2.39it/s]\n",
      "349it [04:05,  1.42it/s]\n",
      "349it [05:33,  1.05it/s]\n",
      "349it [02:22,  2.45it/s]\n",
      "96it [00:40,  2.39it/s]\n",
      "349it [03:58,  1.47it/s]\n",
      "349it [05:33,  1.05it/s]\n",
      "349it [02:25,  2.40it/s]\n",
      "96it [00:39,  2.40it/s]\n",
      "349it [03:54,  1.49it/s]\n",
      "349it [05:33,  1.05it/s]\n",
      "349it [02:27,  2.37it/s]\n",
      "96it [00:39,  2.40it/s]\n",
      "349it [03:52,  1.50it/s]\n",
      "349it [05:32,  1.05it/s]\n",
      "349it [02:27,  2.37it/s]\n",
      "96it [00:40,  2.39it/s]\n",
      "349it [03:51,  1.51it/s]\n",
      "349it [05:33,  1.05it/s]\n",
      "349it [02:26,  2.39it/s]\n",
      "96it [00:39,  2.42it/s]\n",
      "349it [03:55,  1.48it/s]\n",
      "349it [05:31,  1.05it/s]\n",
      "349it [02:26,  2.38it/s]\n",
      "96it [00:37,  2.54it/s]\n",
      "349it [04:00,  1.45it/s]\n",
      "349it [05:32,  1.05it/s]\n",
      "349it [02:23,  2.42it/s]\n",
      "96it [00:38,  2.52it/s]\n",
      "349it [04:07,  1.41it/s]\n",
      "349it [05:32,  1.05it/s]\n",
      "349it [02:22,  2.45it/s]\n",
      "96it [00:40,  2.38it/s]\n",
      "349it [04:07,  1.41it/s]\n",
      "349it [05:33,  1.05it/s]\n",
      "349it [02:21,  2.47it/s]\n",
      "96it [00:40,  2.40it/s]\n",
      "349it [04:01,  1.45it/s]\n",
      "349it [05:34,  1.04it/s]\n",
      "349it [02:24,  2.41it/s]\n",
      "96it [00:40,  2.40it/s]\n",
      "349it [03:53,  1.49it/s]\n",
      "349it [05:32,  1.05it/s]\n",
      "349it [02:27,  2.36it/s]\n",
      "96it [00:40,  2.40it/s]\n",
      "349it [03:52,  1.50it/s]\n",
      "349it [05:33,  1.05it/s]\n",
      "349it [02:27,  2.37it/s]\n",
      "96it [00:39,  2.43it/s]\n",
      "349it [03:52,  1.50it/s]\n",
      "349it [05:31,  1.05it/s]\n",
      "349it [02:26,  2.38it/s]\n",
      "96it [00:40,  2.39it/s]\n",
      "349it [03:52,  1.50it/s]\n",
      "349it [05:31,  1.05it/s]\n",
      "349it [02:26,  2.38it/s]\n",
      "96it [00:38,  2.52it/s]\n",
      "349it [03:58,  1.47it/s]\n",
      "349it [05:30,  1.05it/s]\n",
      "349it [02:25,  2.41it/s]\n",
      "96it [00:37,  2.58it/s]\n",
      "349it [04:05,  1.42it/s]\n",
      "349it [05:31,  1.05it/s]\n",
      "349it [02:22,  2.46it/s]\n",
      "96it [00:40,  2.38it/s]\n",
      "349it [04:08,  1.40it/s]\n",
      "349it [05:31,  1.05it/s]\n",
      "349it [02:22,  2.44it/s]\n",
      "96it [00:40,  2.39it/s]\n",
      "349it [04:02,  1.44it/s]\n",
      "349it [05:32,  1.05it/s]\n",
      "349it [02:23,  2.43it/s]\n",
      "96it [00:40,  2.39it/s]\n",
      "349it [03:54,  1.49it/s]\n",
      "349it [05:34,  1.04it/s]\n",
      "349it [02:26,  2.39it/s]\n",
      "96it [00:40,  2.40it/s]\n",
      "349it [03:53,  1.49it/s]\n",
      "349it [05:32,  1.05it/s]\n",
      "349it [02:27,  2.37it/s]\n",
      "96it [00:40,  2.38it/s]\n",
      "349it [03:53,  1.50it/s]\n",
      "349it [05:31,  1.05it/s]\n",
      "349it [02:26,  2.38it/s]\n",
      "96it [00:40,  2.40it/s]\n",
      "349it [03:52,  1.50it/s]\n",
      "349it [05:32,  1.05it/s]\n",
      "349it [02:27,  2.37it/s]\n",
      "96it [00:38,  2.50it/s]\n",
      "349it [03:56,  1.48it/s]\n",
      "349it [05:32,  1.05it/s]\n",
      "349it [02:25,  2.40it/s]\n",
      "96it [00:37,  2.57it/s]\n",
      "349it [04:03,  1.43it/s]\n",
      "349it [05:31,  1.05it/s]\n",
      "349it [02:23,  2.44it/s]\n",
      "96it [00:39,  2.43it/s]\n",
      "349it [04:08,  1.40it/s]\n",
      "349it [05:31,  1.05it/s]\n",
      "349it [02:22,  2.45it/s]\n",
      "96it [00:39,  2.40it/s]\n",
      "349it [04:03,  1.43it/s]\n",
      "349it [05:33,  1.05it/s]\n",
      "349it [02:22,  2.44it/s]\n",
      "96it [00:40,  2.39it/s]\n",
      "349it [03:59,  1.46it/s]\n",
      "349it [05:33,  1.05it/s]\n",
      "349it [02:24,  2.41it/s]\n",
      "96it [00:40,  2.39it/s]\n",
      "349it [03:54,  1.49it/s]\n",
      "349it [05:33,  1.05it/s]\n",
      "349it [02:27,  2.36it/s]\n",
      "96it [00:39,  2.43it/s]\n",
      "349it [03:52,  1.50it/s]\n",
      "349it [05:32,  1.05it/s]\n",
      "349it [02:27,  2.37it/s]\n",
      "96it [00:40,  2.39it/s]\n",
      "349it [03:52,  1.50it/s]\n",
      "349it [05:31,  1.05it/s]\n",
      "349it [02:26,  2.39it/s]\n",
      "96it [00:39,  2.41it/s]\n",
      "349it [03:52,  1.50it/s]\n",
      "349it [05:32,  1.05it/s]\n",
      "349it [02:26,  2.39it/s]\n",
      "96it [00:37,  2.57it/s]\n"
     ]
    },
    {
     "name": "stdout",
     "output_type": "stream",
     "text": [
      "Epoch=120\n"
     ]
    },
    {
     "name": "stderr",
     "output_type": "stream",
     "text": [
      "349it [04:01,  1.45it/s]\n",
      "349it [05:31,  1.05it/s]\n",
      "349it [02:24,  2.41it/s]\n",
      "96it [00:38,  2.50it/s]\n",
      "349it [04:07,  1.41it/s]\n",
      "349it [04:11,  1.39it/s]\n",
      "349it [01:27,  4.00it/s]\n",
      "96it [00:23,  4.08it/s]\n",
      "349it [02:20,  2.48it/s]\n",
      "349it [03:35,  1.62it/s]\n",
      "349it [01:26,  4.02it/s]\n",
      "96it [00:23,  4.10it/s]\n",
      "349it [02:20,  2.48it/s]\n",
      "349it [03:35,  1.62it/s]\n",
      "349it [01:26,  4.01it/s]\n",
      "96it [00:23,  4.08it/s]\n",
      "349it [02:20,  2.48it/s]\n",
      "349it [03:36,  1.61it/s]\n",
      "349it [01:27,  4.01it/s]\n",
      "96it [00:23,  4.09it/s]\n",
      "349it [02:20,  2.48it/s]\n",
      "349it [03:36,  1.61it/s]\n",
      "349it [01:27,  4.01it/s]\n",
      "96it [00:23,  4.09it/s]\n",
      "349it [02:20,  2.48it/s]\n",
      "349it [03:36,  1.61it/s]\n",
      "349it [01:30,  3.88it/s]\n",
      "96it [00:30,  3.15it/s]\n",
      "349it [02:52,  2.02it/s]\n",
      "349it [04:23,  1.32it/s]\n",
      "349it [01:48,  3.21it/s]\n",
      "96it [00:28,  3.41it/s]\n",
      "349it [03:10,  1.83it/s]\n",
      "349it [04:09,  1.40it/s]\n",
      "349it [01:48,  3.21it/s]\n",
      "96it [00:23,  4.00it/s]\n",
      "349it [03:13,  1.80it/s]\n",
      "349it [04:24,  1.32it/s]\n",
      "349it [01:47,  3.24it/s]\n",
      "96it [00:28,  3.34it/s]\n",
      "349it [02:44,  2.12it/s]\n",
      "349it [04:42,  1.23it/s]\n",
      "349it [01:57,  2.97it/s]\n",
      "96it [00:31,  3.06it/s]\n",
      "349it [02:59,  1.94it/s]\n",
      "349it [04:02,  1.44it/s]\n",
      "349it [01:26,  4.03it/s]\n",
      "96it [00:23,  4.10it/s]\n",
      "349it [02:20,  2.48it/s]\n",
      "349it [03:36,  1.61it/s]\n",
      "349it [01:26,  4.03it/s]\n",
      "96it [00:23,  4.10it/s]\n",
      "349it [02:20,  2.48it/s]\n",
      "349it [03:36,  1.62it/s]\n",
      "349it [01:26,  4.02it/s]\n",
      "96it [00:23,  4.09it/s]\n"
     ]
    },
    {
     "name": "stdout",
     "output_type": "stream",
     "text": [
      "Epoch=134\n"
     ]
    },
    {
     "name": "stderr",
     "output_type": "stream",
     "text": [
      "349it [02:20,  2.49it/s]\n",
      "349it [03:35,  1.62it/s]\n",
      "349it [01:26,  4.03it/s]\n",
      "96it [00:23,  4.10it/s]\n",
      "349it [02:20,  2.48it/s]\n",
      "349it [03:36,  1.61it/s]\n",
      "349it [01:26,  4.03it/s]\n",
      "96it [00:23,  4.09it/s]\n",
      "349it [02:20,  2.48it/s]\n",
      "349it [03:36,  1.61it/s]\n",
      "349it [01:27,  4.01it/s]\n",
      "96it [00:23,  4.10it/s]\n",
      "349it [02:20,  2.48it/s]\n",
      "349it [03:36,  1.61it/s]\n",
      "349it [01:26,  4.02it/s]\n",
      "96it [00:23,  4.10it/s]\n",
      "349it [02:21,  2.47it/s]\n",
      "349it [03:36,  1.61it/s]\n",
      "349it [01:26,  4.03it/s]\n",
      "96it [00:23,  4.10it/s]\n",
      "349it [02:21,  2.47it/s]\n",
      "349it [03:36,  1.61it/s]\n",
      "349it [01:26,  4.02it/s]\n",
      "96it [00:23,  4.09it/s]\n",
      "349it [02:20,  2.48it/s]\n",
      "349it [03:36,  1.61it/s]\n",
      "349it [01:26,  4.03it/s]\n",
      "96it [00:23,  4.10it/s]\n",
      "349it [02:20,  2.49it/s]\n",
      "349it [03:36,  1.62it/s]\n",
      "349it [01:26,  4.04it/s]\n",
      "96it [00:23,  4.11it/s]\n",
      "349it [02:21,  2.47it/s]\n",
      "349it [03:36,  1.61it/s]\n",
      "349it [01:26,  4.04it/s]\n",
      "96it [00:23,  4.10it/s]\n",
      "349it [02:21,  2.47it/s]\n",
      "349it [03:36,  1.61it/s]\n",
      "349it [01:26,  4.02it/s]\n",
      "96it [00:23,  4.10it/s]\n"
     ]
    },
    {
     "name": "stdout",
     "output_type": "stream",
     "text": [
      "Epoch=144\n"
     ]
    },
    {
     "name": "stderr",
     "output_type": "stream",
     "text": [
      "349it [02:20,  2.48it/s]\n",
      "349it [03:36,  1.61it/s]\n",
      "349it [01:26,  4.02it/s]\n",
      "96it [00:23,  4.11it/s]\n",
      "349it [02:20,  2.48it/s]\n",
      "349it [03:36,  1.61it/s]\n",
      "349it [01:26,  4.02it/s]\n",
      "96it [00:23,  4.10it/s]\n",
      "349it [02:20,  2.48it/s]\n",
      "349it [03:36,  1.61it/s]\n",
      "349it [01:26,  4.04it/s]\n",
      "96it [00:23,  4.11it/s]\n",
      "349it [02:20,  2.48it/s]\n",
      "349it [03:36,  1.61it/s]\n",
      "349it [01:26,  4.03it/s]\n",
      "96it [00:23,  4.11it/s]\n",
      "349it [02:20,  2.48it/s]\n",
      "349it [03:35,  1.62it/s]\n",
      "349it [01:26,  4.03it/s]\n",
      "96it [00:23,  4.10it/s]\n",
      "349it [02:20,  2.48it/s]\n",
      "349it [03:36,  1.62it/s]\n",
      "349it [01:26,  4.02it/s]\n",
      "96it [00:23,  4.10it/s]\n",
      "349it [02:20,  2.48it/s]\n",
      "349it [03:36,  1.61it/s]\n",
      "349it [01:26,  4.02it/s]\n",
      "96it [00:23,  4.11it/s]\n",
      "349it [02:20,  2.48it/s]\n",
      "349it [03:36,  1.61it/s]\n",
      "349it [01:26,  4.03it/s]\n",
      "96it [00:23,  4.10it/s]\n",
      "349it [02:20,  2.48it/s]\n",
      "349it [03:36,  1.61it/s]\n",
      "349it [01:26,  4.03it/s]\n",
      "96it [00:23,  4.12it/s]\n",
      "349it [02:20,  2.48it/s]\n",
      "349it [03:36,  1.61it/s]\n",
      "349it [01:26,  4.03it/s]\n",
      "96it [00:23,  4.10it/s]\n",
      "349it [02:21,  2.47it/s]\n",
      "349it [03:36,  1.61it/s]\n",
      "349it [01:26,  4.02it/s]\n",
      "96it [00:23,  4.08it/s]\n",
      "349it [02:21,  2.47it/s]\n",
      "349it [03:36,  1.61it/s]\n",
      "349it [01:26,  4.02it/s]\n",
      "96it [00:23,  4.10it/s]\n",
      "349it [02:21,  2.47it/s]\n",
      "349it [03:36,  1.61it/s]\n",
      "349it [01:26,  4.02it/s]\n",
      "96it [00:23,  4.10it/s]\n",
      "349it [02:20,  2.48it/s]\n",
      "349it [03:36,  1.61it/s]\n",
      "349it [01:26,  4.03it/s]\n",
      "96it [00:23,  4.10it/s]\n",
      "349it [02:20,  2.48it/s]\n",
      "349it [03:36,  1.61it/s]\n",
      "349it [01:26,  4.02it/s]\n",
      "96it [00:23,  4.09it/s]\n",
      "349it [02:21,  2.48it/s]\n",
      "349it [03:36,  1.61it/s]\n",
      "349it [01:26,  4.02it/s]\n",
      "96it [00:23,  4.08it/s]\n",
      "349it [02:20,  2.48it/s]\n",
      "349it [03:36,  1.61it/s]\n",
      "349it [01:26,  4.02it/s]\n",
      "96it [00:23,  4.10it/s]\n",
      "349it [02:20,  2.48it/s]\n",
      "349it [03:35,  1.62it/s]\n",
      "349it [01:26,  4.03it/s]\n",
      "96it [00:23,  4.10it/s]\n",
      "349it [02:21,  2.47it/s]\n",
      "349it [03:36,  1.61it/s]\n",
      "349it [01:26,  4.02it/s]\n",
      "96it [00:23,  4.09it/s]\n",
      "349it [02:20,  2.48it/s]\n",
      "349it [03:36,  1.61it/s]\n",
      "349it [01:26,  4.02it/s]\n",
      "96it [00:23,  4.09it/s]\n",
      "349it [02:20,  2.48it/s]\n",
      "349it [03:36,  1.61it/s]\n",
      "349it [01:26,  4.02it/s]\n",
      "96it [00:23,  4.09it/s]\n",
      "349it [02:20,  2.48it/s]\n",
      "349it [03:36,  1.61it/s]\n",
      "349it [01:27,  4.01it/s]\n",
      "96it [00:23,  4.09it/s]\n",
      "349it [02:21,  2.47it/s]\n",
      "349it [03:36,  1.61it/s]\n",
      "349it [01:26,  4.02it/s]\n",
      "96it [00:23,  4.09it/s]\n",
      "349it [02:20,  2.48it/s]\n",
      "349it [03:36,  1.61it/s]\n",
      "349it [01:26,  4.02it/s]\n",
      "96it [00:23,  4.09it/s]\n",
      "349it [02:20,  2.48it/s]\n",
      "349it [03:36,  1.61it/s]\n",
      "349it [01:27,  4.01it/s]\n",
      "96it [00:23,  4.08it/s]\n",
      "349it [02:21,  2.47it/s]\n",
      "349it [03:36,  1.61it/s]\n",
      "349it [01:27,  4.00it/s]\n",
      "96it [00:23,  4.09it/s]\n",
      "349it [02:20,  2.48it/s]\n",
      "349it [03:36,  1.61it/s]\n",
      "349it [01:27,  4.00it/s]\n",
      "96it [00:23,  4.11it/s]\n",
      "349it [02:20,  2.48it/s]\n",
      "349it [03:36,  1.61it/s]\n",
      "349it [01:26,  4.02it/s]\n",
      "96it [00:23,  4.10it/s]\n",
      "349it [02:20,  2.48it/s]\n",
      "349it [03:36,  1.61it/s]\n",
      "349it [01:26,  4.02it/s]\n",
      "96it [00:23,  4.09it/s]\n",
      "349it [02:20,  2.48it/s]\n",
      "349it [03:36,  1.61it/s]\n",
      "349it [01:27,  4.00it/s]\n",
      "96it [00:23,  4.09it/s]\n",
      "349it [02:20,  2.48it/s]\n",
      "349it [03:36,  1.61it/s]\n",
      "349it [01:27,  4.01it/s]\n",
      "96it [00:23,  4.09it/s]\n",
      "349it [02:20,  2.48it/s]\n",
      "349it [03:36,  1.61it/s]\n",
      "349it [01:26,  4.03it/s]\n",
      "96it [00:23,  4.08it/s]\n",
      "349it [02:20,  2.48it/s]\n",
      "349it [03:36,  1.61it/s]\n",
      "349it [01:26,  4.01it/s]\n",
      "96it [00:23,  4.09it/s]\n",
      "349it [02:20,  2.48it/s]\n",
      "349it [03:36,  1.61it/s]\n",
      "349it [01:26,  4.02it/s]\n",
      "96it [00:23,  4.08it/s]\n",
      "349it [02:20,  2.48it/s]\n",
      "349it [03:36,  1.61it/s]\n",
      "349it [01:27,  4.01it/s]\n",
      "96it [00:23,  4.09it/s]\n",
      "349it [02:20,  2.48it/s]\n",
      "349it [03:36,  1.61it/s]\n",
      "349it [01:26,  4.02it/s]\n",
      "96it [00:23,  4.09it/s]\n",
      "349it [02:21,  2.47it/s]\n",
      "349it [03:36,  1.61it/s]\n",
      "349it [01:26,  4.01it/s]\n",
      "96it [00:23,  4.09it/s]\n",
      "349it [02:20,  2.48it/s]\n",
      "349it [03:35,  1.62it/s]\n",
      "349it [01:26,  4.04it/s]\n",
      "96it [00:23,  4.10it/s]\n",
      "349it [02:20,  2.48it/s]\n",
      "349it [03:36,  1.61it/s]\n",
      "349it [01:26,  4.03it/s]\n",
      "96it [00:23,  4.09it/s]\n",
      "349it [02:20,  2.48it/s]\n",
      "349it [03:36,  1.61it/s]\n",
      "349it [01:26,  4.02it/s]\n",
      "96it [00:23,  4.08it/s]\n",
      "349it [02:20,  2.48it/s]\n",
      "349it [03:36,  1.61it/s]\n",
      "349it [01:26,  4.02it/s]\n",
      "96it [00:23,  4.09it/s]\n",
      "349it [02:21,  2.47it/s]\n",
      "349it [03:36,  1.61it/s]\n",
      "349it [01:27,  4.00it/s]\n",
      "96it [00:23,  4.09it/s]\n",
      "349it [02:20,  2.48it/s]\n",
      "349it [03:36,  1.61it/s]\n",
      "349it [01:26,  4.01it/s]\n",
      "96it [00:23,  4.09it/s]\n",
      "349it [02:20,  2.48it/s]\n",
      "349it [03:36,  1.61it/s]\n",
      "349it [01:27,  4.01it/s]\n",
      "96it [00:23,  4.09it/s]\n",
      "349it [02:21,  2.47it/s]\n",
      "349it [03:36,  1.61it/s]\n",
      "349it [01:27,  4.00it/s]\n",
      "96it [00:23,  4.10it/s]\n",
      "349it [02:20,  2.48it/s]\n",
      "349it [03:36,  1.61it/s]\n",
      "349it [01:27,  4.01it/s]\n",
      "96it [00:23,  4.08it/s]\n",
      "349it [02:21,  2.47it/s]\n",
      "349it [03:36,  1.61it/s]\n",
      "349it [01:26,  4.02it/s]\n",
      "96it [00:23,  4.10it/s]\n",
      "349it [02:20,  2.48it/s]\n",
      "349it [03:36,  1.61it/s]\n",
      "349it [01:26,  4.02it/s]\n",
      "96it [00:23,  4.10it/s]\n",
      "349it [02:20,  2.48it/s]\n",
      "349it [03:36,  1.61it/s]\n",
      "349it [01:26,  4.01it/s]\n",
      "96it [00:23,  4.09it/s]\n",
      "349it [02:21,  2.47it/s]\n",
      "349it [03:36,  1.61it/s]\n",
      "349it [01:26,  4.01it/s]\n",
      "96it [00:23,  4.08it/s]\n",
      "349it [02:21,  2.47it/s]\n",
      "349it [03:36,  1.61it/s]\n",
      "349it [01:27,  4.01it/s]\n",
      "96it [00:23,  4.08it/s]\n",
      "349it [02:20,  2.48it/s]\n",
      "349it [03:36,  1.61it/s]\n",
      "349it [01:26,  4.03it/s]\n",
      "96it [00:23,  4.10it/s]\n",
      "349it [02:20,  2.48it/s]\n",
      "349it [03:36,  1.61it/s]\n",
      "349it [01:26,  4.03it/s]\n",
      "96it [00:23,  4.09it/s]\n",
      "349it [02:20,  2.49it/s]\n",
      "349it [03:36,  1.61it/s]\n",
      "349it [01:26,  4.02it/s]\n",
      "96it [00:23,  4.10it/s]\n"
     ]
    },
    {
     "name": "stdout",
     "output_type": "stream",
     "text": [
      "Epoch=198\n"
     ]
    },
    {
     "name": "stderr",
     "output_type": "stream",
     "text": [
      "349it [02:20,  2.48it/s]\n",
      "349it [03:36,  1.61it/s]\n",
      "349it [01:26,  4.01it/s]\n",
      "96it [00:23,  4.08it/s]\n"
     ]
    }
   ],
   "source": [
    "wandb.watch(model)\n",
    "wandb.watch(tf_discriminator)\n",
    "wandb.watch(edge_discriminator)\n",
    "\n",
    "max_score = 0\n",
    "\n",
    "for epoch in range(EPOCH):\n",
    "        \n",
    "        loss_edge_dis, loss_tf_dis, tf_lr, edge_lr = train_d_epoch(epoch, model,                                                                                              \n",
    "                                                                                                                       tf_discriminator, tf_dis_optimizer, tf_scheduler, \n",
    "                                                                                                                        edge_discriminator, edge_dis_optimizer, edge_scheduler,\n",
    "                                                                                                                        trainloader, device)\n",
    "        loss_air, loss_bone, loss_edge_gen, loss_tf_gen = train_g_epoch(epoch, model, gen_optimizer, \n",
    "                                                                                                                                             tf_discriminator, edge_discriminator,\n",
    "                                                                                                                                             trainloader, device)\n",
    "        \n",
    "        score_ssim_train, score_psnr_train, score_snr_train, score_mae_train, \\\n",
    "            score_air_train, score_bone_train, score_cont_train, score_tf_acc_train, score_edge_acc_train = eval_epoch(model, tf_discriminator, edge_discriminator, trainloader, device)\n",
    "        \n",
    "        score_ssim_test, score_psnr_test, score_snr_test, score_mae_test, \\\n",
    "            score_air_test, score_bone_test, score_cont_test, score_tf_acc_test, score_edge_acc_test = eval_epoch(model, tf_discriminator, edge_discriminator, testloader, device)\n",
    "\n",
    "        wandb.log({\n",
    "            \"lr scheduler tf\": tf_lr,\n",
    "            \"lr scheduler edge\": edge_lr,\n",
    "\n",
    "            \"loss mask\": loss_air,\n",
    "            \"loss bone\": loss_bone,\n",
    "            \"loss gen\": loss_tf_gen,\n",
    "            \"loss dis\": loss_tf_dis,\n",
    "            \"loss edge gen\": loss_edge_gen,\n",
    "            \"loss edge dis\": loss_edge_dis,\n",
    "            \n",
    "            \"trainset cont score\": score_cont_train,\n",
    "            \"trainset ssim score\": score_ssim_train,\n",
    "            \"trainset psnr score\": score_psnr_train,\n",
    "            \"trainset mae error\": score_mae_train,\n",
    "            \"trainset snr score\": score_snr_train,\n",
    "            \"trainset mask score\": score_air_train,\n",
    "            \"trainset bone score\": score_bone_train,\n",
    "            \"trainset acc score\": score_tf_acc_train,\n",
    "            \"trainset edge acc score\": score_edge_acc_train,\n",
    "            \n",
    "            \"testset cont score\": score_cont_test,\n",
    "            \"testset mae error\": score_mae_test,\n",
    "            \"testset ssim score\": score_ssim_test,\n",
    "            \"testset psnr score\": score_psnr_test,\n",
    "            \"testset snr score\": score_snr_test,\n",
    "            \"testset mask score\": score_air_test,\n",
    "            \"testset bone score\": score_bone_test,\n",
    "            \"testset acc score\": score_tf_acc_test,\n",
    "            \"testset edge acc score\": score_edge_acc_test\n",
    "        })\n",
    "        \n",
    "        \n",
    "        if score_air_test +  score_bone_test + score_snr_test >= max_score:\n",
    "            max_score = score_air_test +  score_bone_test + score_snr_test\n",
    "            checkpoint = {\n",
    "                \"model\": model.state_dict(),\n",
    "                \"optimizer\": gen_optimizer.state_dict(),\n",
    "                \"tf_discriminator\": tf_discriminator.state_dict(),\n",
    "                \"tf_dis_optimizer\": tf_dis_optimizer.state_dict(),\n",
    "                \"tf_scheduler\": tf_scheduler.state_dict(),\n",
    "                \"edge_discriminator\": edge_discriminator.state_dict(),\n",
    "                \"edge_dis_optimizer\": edge_dis_optimizer.state_dict(),\n",
    "                \"edge_scheduler\": edge_scheduler.state_dict()\n",
    "            }\n",
    "            torch.save(checkpoint, os.path.join(\"weight-gan\", \"{}.pth\".format(wandb.run.name)))\n",
    "            print(\"Epoch={}\".format(epoch))"
   ]
  },
  {
   "cell_type": "code",
   "execution_count": 45,
   "metadata": {},
   "outputs": [],
   "source": [
    "checkpoint = torch.load(os.path.join(\"weight-gan\", \"{}.pth\".format(wandb.run.name)))"
   ]
  },
  {
   "cell_type": "code",
   "execution_count": 46,
   "metadata": {},
   "outputs": [
    {
     "data": {
      "text/plain": [
       "<All keys matched successfully>"
      ]
     },
     "execution_count": 46,
     "metadata": {},
     "output_type": "execute_result"
    }
   ],
   "source": [
    "model = smp.Unet(encoder_name=ENCODER, \n",
    "                  encoder_weights=ENCODER_WEIGHT, \n",
    "                  in_channels=GEN_IN_CHANNELS, \n",
    "                  classes=GEN_N_CLASSES,\n",
    "                 decoder_attention_type=DECODER_ATT)\n",
    "replace_relu_to_leakyReLU(model)\n",
    "replace_bn_to_instanceNorm(model)\n",
    "model.load_state_dict(checkpoint[\"model\"])"
   ]
  },
  {
   "cell_type": "code",
   "execution_count": 47,
   "metadata": {},
   "outputs": [
    {
     "data": {
      "text/plain": [
       "<All keys matched successfully>"
      ]
     },
     "execution_count": 47,
     "metadata": {},
     "output_type": "execute_result"
    }
   ],
   "source": [
    "tf_discriminator = Discriminator(in_channel=DIS_IN_CHANNELS, n_classes=DIS_N_CLASSES, activation=DIS_ACT)\n",
    "replace_relu_to_leakyReLU(tf_discriminator)\n",
    "replace_bn_to_instanceNorm(tf_discriminator)\n",
    "tf_discriminator.load_state_dict(checkpoint[\"tf_discriminator\"])"
   ]
  },
  {
   "cell_type": "code",
   "execution_count": 48,
   "metadata": {},
   "outputs": [
    {
     "data": {
      "text/plain": [
       "<All keys matched successfully>"
      ]
     },
     "execution_count": 48,
     "metadata": {},
     "output_type": "execute_result"
    }
   ],
   "source": [
    "edge_discriminator = Discriminator(in_channel=E_IN_CHANNELS, n_classes=E_N_CLASSES, activation=E_ACT)\n",
    "replace_relu_to_leakyReLU(edge_discriminator)\n",
    "replace_bn_to_instanceNorm(edge_discriminator)\n",
    "edge_discriminator.load_state_dict(checkpoint[\"edge_discriminator\"])"
   ]
  },
  {
   "cell_type": "code",
   "execution_count": 49,
   "metadata": {},
   "outputs": [
    {
     "name": "stderr",
     "output_type": "stream",
     "text": [
      "96it [00:23,  4.08it/s]\n"
     ]
    },
    {
     "data": {
      "text/plain": [
       "(0.8249777089804411,\n",
       " 23.054229021072388,\n",
       " 14.208383828401566,\n",
       " 0.028760635701473802,\n",
       " 0.9965506949394706,\n",
       " 0.890333163602456,\n",
       " 0.5276449409298872,\n",
       " 0.5,\n",
       " 0.5)"
      ]
     },
     "execution_count": 49,
     "metadata": {},
     "output_type": "execute_result"
    }
   ],
   "source": [
    "# score_ssim_test, score_psnr_test, score_snr_test, score_mae_test, \\\n",
    "#             score_air_test, score_bone_test, score_cont_test, score_tf_acc_test, score_edge_acc_test\n",
    "eval_epoch(model, tf_discriminator, edge_discriminator, testloader, device)"
   ]
  },
  {
   "cell_type": "code",
   "execution_count": null,
   "metadata": {},
   "outputs": [],
   "source": []
  },
  {
   "cell_type": "code",
   "execution_count": 50,
   "metadata": {
    "scrolled": true
   },
   "outputs": [],
   "source": [
    "# import torchvision.models as models\n",
    "# models.vgg16(pretrained=True)"
   ]
  },
  {
   "cell_type": "code",
   "execution_count": null,
   "metadata": {},
   "outputs": [],
   "source": []
  },
  {
   "cell_type": "code",
   "execution_count": null,
   "metadata": {},
   "outputs": [],
   "source": []
  },
  {
   "cell_type": "code",
   "execution_count": null,
   "metadata": {},
   "outputs": [],
   "source": []
  },
  {
   "cell_type": "code",
   "execution_count": null,
   "metadata": {},
   "outputs": [],
   "source": []
  }
 ],
 "metadata": {
  "kernelspec": {
   "display_name": "Python 3",
   "language": "python",
   "name": "python3"
  },
  "language_info": {
   "codemirror_mode": {
    "name": "ipython",
    "version": 3
   },
   "file_extension": ".py",
   "mimetype": "text/x-python",
   "name": "python",
   "nbconvert_exporter": "python",
   "pygments_lexer": "ipython3",
   "version": "3.8.5"
  }
 },
 "nbformat": 4,
 "nbformat_minor": 5
}
