{
 "cells": [
  {
   "cell_type": "code",
   "execution_count": 1,
   "metadata": {},
   "outputs": [],
   "source": [
    "import os\n",
    "\n",
    "import torch\n",
    "import torch.nn as nn\n",
    "import torch.nn.functional as F\n",
    "import torch.optim as optim\n",
    "from torch.utils.data import DataLoader, Subset, ConcatDataset\n",
    "\n",
    "import cv2\n",
    "import numpy as np\n",
    "import pandas as pd\n",
    "from tqdm import tqdm\n",
    "import random"
   ]
  },
  {
   "cell_type": "code",
   "execution_count": 2,
   "metadata": {},
   "outputs": [],
   "source": [
    "import segmentation_models_pytorch as smp\n",
    "from segmentation_models_pytorch.losses import DiceLoss\n",
    "from segmentation_models_pytorch.utils.metrics import IoU, Fscore, Accuracy"
   ]
  },
  {
   "cell_type": "code",
   "execution_count": 3,
   "metadata": {},
   "outputs": [],
   "source": [
    "import matplotlib.pyplot as plt\n",
    "\n",
    "# helper function for data visualization\n",
    "def visualize(**images):\n",
    "    \"\"\"PLot images in one row.\"\"\"\n",
    "    n = len(images)\n",
    "    plt.figure(figsize=(16, 5))\n",
    "    for i, (name, image) in enumerate(images.items()):\n",
    "        plt.subplot(1, n, i + 1)\n",
    "        plt.xticks([])\n",
    "        plt.yticks([])\n",
    "        plt.title(' '.join(name.split('_')).title())\n",
    "        plt.imshow(image, 'gray')\n",
    "    plt.show()"
   ]
  },
  {
   "cell_type": "code",
   "execution_count": 4,
   "metadata": {},
   "outputs": [
    {
     "name": "stdout",
     "output_type": "stream",
     "text": [
      "[0.5488135  0.71518937 0.60276338 0.54488318 0.4236548 ] tensor([ 1.5410, -0.2934, -2.1788,  0.5684, -1.0845])\n"
     ]
    }
   ],
   "source": [
    "import random\n",
    "\n",
    "SEED = 0\n",
    "random.seed(SEED)\n",
    "np.random.seed(SEED)\n",
    "torch.manual_seed(SEED)\n",
    "\n",
    "print(np.random.rand(5), torch.randn(5))"
   ]
  },
  {
   "cell_type": "code",
   "execution_count": 5,
   "metadata": {},
   "outputs": [],
   "source": [
    "root = os.getcwd()\n",
    "device = torch.device(\"cuda:0\" if torch.cuda.is_available() else \"cpu\")\n",
    "\n",
    "ELECTRON = False\n",
    "G_COORD = False\n",
    "L_COORD = False"
   ]
  },
  {
   "cell_type": "code",
   "execution_count": 6,
   "metadata": {},
   "outputs": [],
   "source": [
    "VIEW_BOUND = (-500, 500)\n",
    "AIR_BOUND = (-500, -499)\n",
    "BONE_BOUND = (255, 256)\n",
    "if ELECTRON:\n",
    "    VIEW_BOUND = (0.5, 1.5)\n",
    "    AIR_BOUND = (0.5, 0.5009)\n",
    "    BONE_BOUND = (1.2, 1.2009)    "
   ]
  },
  {
   "cell_type": "code",
   "execution_count": 7,
   "metadata": {},
   "outputs": [],
   "source": [
    "config = {\n",
    "    # lamda weight\n",
    "    \"Adv_lamda\": 1,\n",
    "    \"Cyc_lamda\": 10,\n",
    "    \"Corr_lamda\": 20,\n",
    "    \"Smooth_lamda\": 10,\n",
    "    \"Recon_kl_lamda\": 0.01,\n",
    "\n",
    "    \"n_epoch\": 80,        # starting epoch\n",
    "    \"batchSize\": 1,               # size of the batches\n",
    "    \"lr\": 0.0001,                   # initial learning rate\n",
    "    \"decay_epoch\": 20,            # epoch to start linearly decaying the learning rate to 0\n",
    "    \"input_nc\": 1,         \n",
    "    \"output_nc\": 1,                         \n",
    "    \"n_cpu\": 1,\n",
    "    \"size\": 256,\n",
    "    \"cuda\": True,\n",
    "    \n",
    "    ### Unit\n",
    "    \"gen\": {\n",
    "      \"dim\": 64,                     # number of filters in the bottommost layer\n",
    "      \"activ\": \"relu\",                 # activation function [relu/lrelu/prelu/selu/tanh]\n",
    "      \"n_downsample\": 2,             # number of downsampling layers in content encoder\n",
    "      \"n_res\": 4,                    # number of residual blocks in content encoder/decoder\n",
    "      \"pad_type\": \"reflect\",           # padding type [zero/reflect]\n",
    "    },\n",
    "    \"dis\": {\n",
    "      \"dim\": 64,                     # number of filters in the bottommost layer\n",
    "      \"norm\": \"none\",                   # normalization layer [none/bn/in/ln]\n",
    "      \"activ\": \"lrelu\",                # activation function [relu/lrelu/prelu/selu/tanh]\n",
    "      \"n_layer\": 4,                  # number of layers in D\n",
    "      \"gan_type\": \"lsgan\",             # GAN loss [lsgan/nsgan]\n",
    "      \"num_scales\": 3,               # number of scales\n",
    "      \"pad_type\": \"reflect\",           # padding type [zero/reflect]\n",
    "    },\n",
    "    \n",
    "    \"input_dim_a\": 1,                              # number of image channels [1/3]\n",
    "    \"input_dim_b\": 1,                              # number of image channels [1/3]\n",
    "}"
   ]
  },
  {
   "cell_type": "markdown",
   "metadata": {},
   "source": [
    "# Epochs"
   ]
  },
  {
   "cell_type": "code",
   "execution_count": 8,
   "metadata": {},
   "outputs": [],
   "source": [
    "from codes.losses import SSIMLoss, MAELoss, KLDivergence\n",
    "from pytorch_msssim import ssim\n",
    "from codes.metrics import PSNR, SNR, ContourEval\n",
    "from codes.activation import Activation\n",
    "from codes.utils import hu_clip_tensor\n",
    "from torch.autograd import Variable"
   ]
  },
  {
   "cell_type": "code",
   "execution_count": 9,
   "metadata": {},
   "outputs": [],
   "source": [
    "def set_requires_grad(nets, requires_grad=False):\n",
    "    \"\"\"Set requies_grad=Fasle for all the networks to avoid unnecessary computations\n",
    "    Parameters:\n",
    "    nets (network list)   -- a list of networks\n",
    "    requires_grad (bool)  -- whether the networks require gradients or not\n",
    "    \"\"\"\n",
    "    if not isinstance(nets, list):\n",
    "        nets = [nets]\n",
    "        for net in nets:\n",
    "            if net is not None:\n",
    "                for param in net.parameters():\n",
    "                    param.requires_grad = requires_grad"
   ]
  },
  {
   "cell_type": "code",
   "execution_count": 10,
   "metadata": {},
   "outputs": [],
   "source": [
    "def replace_relu_to_leakyReLU(model):\n",
    "    for child_name, child in model.named_children():\n",
    "        if isinstance(child, nn.ReLU):\n",
    "            setattr(model, child_name, nn.LeakyReLU())\n",
    "        else:\n",
    "            replace_relu_to_leakyReLU(child)"
   ]
  },
  {
   "cell_type": "code",
   "execution_count": 11,
   "metadata": {},
   "outputs": [],
   "source": [
    "def replace_bn_to_instanceNorm(model):\n",
    "    for child_name, child in model.named_children():\n",
    "        if isinstance(child, nn.BatchNorm2d):\n",
    "            bn = getattr(model, child_name)\n",
    "            setattr(model, child_name, nn.InstanceNorm2d(bn.num_features))\n",
    "        else:\n",
    "            replace_bn_to_instanceNorm(child)"
   ]
  },
  {
   "cell_type": "code",
   "execution_count": 12,
   "metadata": {},
   "outputs": [],
   "source": [
    "def smooothing_loss(y_pred):\n",
    "    dy = torch.abs(y_pred[:, :, 1:, :] - y_pred[:, :, :-1, :])\n",
    "    dx = torch.abs(y_pred[:, :, :, 1:] - y_pred[:, :, :, :-1])\n",
    "\n",
    "    dx = dx*dx\n",
    "    dy = dy*dy\n",
    "    d = torch.mean(dx) + torch.mean(dy)\n",
    "    grad = d \n",
    "    return d"
   ]
  },
  {
   "cell_type": "code",
   "execution_count": 13,
   "metadata": {},
   "outputs": [],
   "source": [
    "def train_d_epoch(netG_A2B, netG_B2A,\n",
    "                    netD_B, optimizer_D_B,\n",
    "                    dataloader, device):\n",
    "\n",
    "    # change mode to train and move to current device\n",
    "    netG_A2B = netG_A2B.eval().to(device)\n",
    "    netG_B2A = netG_B2A.eval().to(device)\n",
    "    netD_B = netD_B.train().to(device)\n",
    "    \n",
    "    total_lossD = 0\n",
    "\n",
    "    set_requires_grad(netD_B, True)\n",
    "    set_requires_grad(netG_A2B, False)\n",
    "    set_requires_grad(netG_B2A, False)\n",
    "    \n",
    "    for index, data in tqdm(enumerate(dataloader)):\n",
    "        \n",
    "        x, y, *_ = data\n",
    " \n",
    "        B, C, H, W = x.size()\n",
    "        x = x.to(device)\n",
    "        y = y.to(device)\n",
    "        \n",
    "        ###### Discriminator ######\n",
    "        optimizer_D.zero_grad()\n",
    "        h_a, n_a = netG_A2B.encode(x.float())\n",
    "        h_b, n_b = netG_B2A.encode(y.float())\n",
    "        \n",
    "        # decode (cross domain)\n",
    "        x_ab = netG_B2A.decode(h_a + n_a)\n",
    "        # D loss\n",
    "        loss_D_B = netD_B.calc_dis_loss(x_ab.detach(), y.float())\n",
    "        \n",
    "        loss_dis_total = config['Adv_lamda'] * loss_D_B\n",
    "        loss_dis_total.backward()\n",
    "        optimizer_D.step()\n",
    "\n",
    "        total_lossD += loss_dis_total.item()\n",
    "        \n",
    "    return  total_lossD/(index+1)"
   ]
  },
  {
   "cell_type": "code",
   "execution_count": 14,
   "metadata": {},
   "outputs": [],
   "source": [
    "def train_g_epoch(netG_A2B, netG_B2A, optimizer_G,\n",
    "                    netD_B, dataloader, device):\n",
    "\n",
    "    # change mode to train and move to current device\n",
    "    netG_A2B = netG_A2B.train().to(device)\n",
    "    netG_B2A = netG_B2A.train().to(device)\n",
    "    netD_B = netD_B.eval().to(device)\n",
    "    \n",
    "    total_lossG = 0\n",
    "\n",
    "    set_requires_grad(netG_A2B, True)\n",
    "    set_requires_grad(netG_B2A, True)\n",
    "    set_requires_grad(netD_B, False)\n",
    "    \n",
    "    for index, data in tqdm(enumerate(dataloader)):\n",
    "        \n",
    "        x, y, *_ = data\n",
    " \n",
    "        B, C, H, W = x.size()\n",
    "        x = x.to(device)\n",
    "        y = y.to(device)\n",
    "\n",
    "        optimizer_G.zero_grad()\n",
    "        \n",
    "        # GAN loss # encode\n",
    "        h_a, n_a = netG_A2B.encode(x.float())\n",
    "        h_b, n_b = netG_B2A.encode(y.float())\n",
    "        # decode (within domain)\n",
    "        x_a_recon = netG_A2B.decode(h_a + n_a)\n",
    "        x_b_recon = netG_B2A.decode(h_b + n_b)\n",
    "        # decode (cross domain)\n",
    "        x_ba = netG_A2B.decode(h_b + n_b)\n",
    "        x_ab = netG_B2A.decode(h_a + n_a)\n",
    "        # encode again\n",
    "        h_b_recon, n_b_recon = netG_A2B.encode(x_ba)\n",
    "        h_a_recon, n_a_recon = netG_B2A.encode(x_ab)\n",
    "        # decode again (if needed)\n",
    "        x_aba = netG_A2B.decode(h_a_recon + n_a_recon)\n",
    "        x_bab = netG_B2A.decode(h_b_recon + n_b_recon)\n",
    "\n",
    "        # reconstruction loss\n",
    "        loss_gen_recon_x_a = nn.L1Loss()(x_a_recon, x.float())\n",
    "        loss_gen_recon_x_b = nn.L1Loss()(x_b_recon, y.float())\n",
    "        loss_gen_recon_kl_a = KLDivergence()(h_a)\n",
    "        loss_gen_recon_kl_b = KLDivergence()(h_b)\n",
    "        loss_gen_cyc_x_a = nn.L1Loss()(x_aba, x.float())\n",
    "        loss_gen_recon_kl_cyc_aba = KLDivergence()(h_a_recon)\n",
    "\n",
    "        # GAN loss\n",
    "        loss_gen_adv_b = netD_B.calc_gen_loss(x_ab)\n",
    "        \n",
    "        # Total loss\n",
    "        loss_G = (\n",
    "            loss_gen_adv_b * config['Adv_lamda']\n",
    "            + loss_gen_recon_x_a * config['Cyc_lamda']\n",
    "            + loss_gen_recon_x_b * config['Cyc_lamda']\n",
    "            + loss_gen_recon_kl_a * config['Recon_kl_lamda']\n",
    "            + loss_gen_recon_kl_b * config['Recon_kl_lamda']\n",
    "            + loss_gen_cyc_x_a * config['Cyc_lamda']\n",
    "            + loss_gen_recon_kl_cyc_aba * config['Recon_kl_lamda']\n",
    "        )\n",
    "        \n",
    "        loss_G.backward()\n",
    "        optimizer_G.step()\n",
    "                        \n",
    "        total_lossG += loss_G.item()\n",
    "        \n",
    "    return  total_lossG/(index+1)"
   ]
  },
  {
   "cell_type": "code",
   "execution_count": 15,
   "metadata": {},
   "outputs": [],
   "source": [
    "@torch.no_grad()\n",
    "def eval_epoch(netG_A2B, netG_B2A, netD_B, dataloader, device):\n",
    "  \n",
    "    # change mode to train and move to current device\n",
    "    netG_A2B = netG_A2B.eval().to(device)\n",
    "    netG_B2A = netG_B2A.eval().to(device)\n",
    "    netD_B = netD_B.eval().to(device)\n",
    "    \n",
    "    ssim_ = []\n",
    "    psnr_ = []\n",
    "    mae_ = []\n",
    "    snr_ = []\n",
    "    \n",
    "    air_ = []\n",
    "    bone_ = []\n",
    "    cont_ = []\n",
    "\n",
    "    for index, data in tqdm(enumerate(dataloader)):\n",
    "\n",
    "        x, y, air_x, bone_x, *_ = data\n",
    "        \n",
    "        B, C, H, W = x.size()\n",
    "        x = x.to(device)\n",
    "        y = y.to(device)\n",
    "        air_x = air_x.to(device)\n",
    "        bone_x = bone_x.to(device)\n",
    "\n",
    "        h_A, _ = netG_A2B.encode(x.float())\n",
    "        fake_B = netG_B2A.decode(h_A)\n",
    "    \n",
    "        ############################\n",
    "        # (2) Eval G network: maximize log(D(G(z)))\n",
    "        ###########################\n",
    "\n",
    "        # main\n",
    "        _ssim = ssim(y.float(), fake_B, data_range=1.0, size_average=True) # return (N,)\n",
    "        _psnr = PSNR()(fake_B, y.float(), 1.0)\n",
    "        _snr = SNR()(fake_B, y.float())\n",
    "        _mae = MAELoss()(fake_B.float(), y.float())\n",
    "\n",
    "        ssim_ += [_ssim.item()]\n",
    "        psnr_ += [_psnr.item()]\n",
    "        mae_ += [_mae.item()]\n",
    "        snr_ += [_snr.item()]\n",
    "        \n",
    "        # auxilary\n",
    "        _min = VIEW_BOUND[0]\n",
    "        _max = VIEW_BOUND[1]\n",
    "        air_window = AIR_BOUND\n",
    "        upper = ((air_window[1]) - (_min))/(_max-(_min))\n",
    "        lower = ((air_window[0]) - (_min))/(_max-(_min))\n",
    "        air_pr = hu_clip_tensor(fake_B.double(), (lower, upper), None, True)\n",
    "        dice = Fscore()(air_pr, air_x)\n",
    "        air_ += [dice.item()]\n",
    "        \n",
    "        bone_window = BONE_BOUND\n",
    "        upper = ((bone_window[1]) - (_min))/(_max-(_min))\n",
    "        lower = ((bone_window[0]) - (_min))/(_max-(_min))\n",
    "        bone_pr = hu_clip_tensor(fake_B.double(), (lower, upper), None, True)\n",
    "        dice = Fscore()(bone_pr, bone_x)\n",
    "        bone_ += [dice.item()]\n",
    "        \n",
    "        for b in range(x.size()[0]):\n",
    "            cont = ContourEval()(fake_B[b, :, :, :], x[b, :, :, :])\n",
    "            cont_ += [cont.item()]\n",
    "\n",
    "    return  sum(ssim_)/len(ssim_), sum(psnr_)/len(psnr_), sum(snr_)/len(snr_), sum(mae_)/len(mae_), \\\n",
    "                    sum(air_)/len(air_), sum(bone_)/len(bone_), sum(cont_)/len(cont_)"
   ]
  },
  {
   "cell_type": "markdown",
   "metadata": {},
   "source": [
    "# Data"
   ]
  },
  {
   "cell_type": "code",
   "execution_count": 16,
   "metadata": {},
   "outputs": [],
   "source": [
    "from codes.dataset import DicomsDataset\n",
    "import codes.augmentation as aug"
   ]
  },
  {
   "cell_type": "code",
   "execution_count": 17,
   "metadata": {},
   "outputs": [],
   "source": [
    "pelvic_train_case_path = 'raw/train/*_*'\n",
    "pelvic_train_id_path = 'raw/train_id/*_*'\n",
    "pelvic_test_case_path = 'raw/test/*_*'"
   ]
  },
  {
   "cell_type": "code",
   "execution_count": 18,
   "metadata": {},
   "outputs": [],
   "source": [
    "trainset = DicomsDataset(pelvic_train_case_path, \n",
    "                   intensity_aug=aug.training_intensity_augmentation(), geometry_aug=aug.get_training_augmentation(),\n",
    "                  identity=False, electron=ELECTRON, position=\"pelvic\", g_coord=G_COORD, l_coord=L_COORD)"
   ]
  },
  {
   "cell_type": "code",
   "execution_count": 19,
   "metadata": {},
   "outputs": [],
   "source": [
    "trainset_id = DicomsDataset(pelvic_train_id_path, \n",
    "                   intensity_aug=aug.training_intensity_augmentation(), geometry_aug=aug.get_training_augmentation(),\n",
    "                  identity=False, electron=ELECTRON, position=\"pelvic\", g_coord=G_COORD, l_coord=L_COORD)"
   ]
  },
  {
   "cell_type": "code",
   "execution_count": 20,
   "metadata": {},
   "outputs": [],
   "source": [
    "testset = DicomsDataset(pelvic_test_case_path, geometry_aug=aug.get_validation_augmentation(), \n",
    "                 identity=False, electron=ELECTRON, position=\"pelvic\", g_coord=G_COORD, l_coord=L_COORD)"
   ]
  },
  {
   "cell_type": "code",
   "execution_count": 21,
   "metadata": {},
   "outputs": [],
   "source": [
    "trainset = ConcatDataset([trainset, trainset_id])"
   ]
  },
  {
   "cell_type": "code",
   "execution_count": 22,
   "metadata": {},
   "outputs": [
    {
     "data": {
      "text/plain": [
       "(1344, 191)"
      ]
     },
     "execution_count": 22,
     "metadata": {},
     "output_type": "execute_result"
    }
   ],
   "source": [
    "len(trainset), len(testset)"
   ]
  },
  {
   "cell_type": "code",
   "execution_count": 23,
   "metadata": {},
   "outputs": [],
   "source": [
    "x, y, *_ = trainset[20]"
   ]
  },
  {
   "cell_type": "code",
   "execution_count": 24,
   "metadata": {},
   "outputs": [
    {
     "data": {
      "text/plain": [
       "((1, 384, 384), (1, 384, 384))"
      ]
     },
     "execution_count": 24,
     "metadata": {},
     "output_type": "execute_result"
    }
   ],
   "source": [
    "x.shape, y.shape"
   ]
  },
  {
   "cell_type": "code",
   "execution_count": 25,
   "metadata": {},
   "outputs": [
    {
     "data": {
      "image/png": "[encoded data removed]",
      "text/plain": [
       "<Figure size 1152x360 with 2 Axes>"
      ]
     },
     "metadata": {},
     "output_type": "display_data"
    }
   ],
   "source": [
    "visualize(\n",
    "    x0 = x[0].squeeze(),\n",
    "    y0 = y[0].squeeze())"
   ]
  },
  {
   "cell_type": "code",
   "execution_count": 26,
   "metadata": {},
   "outputs": [],
   "source": [
    "trainloader = torch.utils.data.DataLoader(trainset, batch_size=config[\"batchSize\"], shuffle=True, num_workers=8)\n",
    "testloader = torch.utils.data.DataLoader(testset, batch_size=1, shuffle=False, num_workers=4)"
   ]
  },
  {
   "cell_type": "markdown",
   "metadata": {},
   "source": [
    "# Model Define"
   ]
  },
  {
   "cell_type": "code",
   "execution_count": 27,
   "metadata": {},
   "outputs": [],
   "source": [
    "from codes.RegGAN.Unit import *"
   ]
  },
  {
   "cell_type": "code",
   "execution_count": 28,
   "metadata": {},
   "outputs": [],
   "source": [
    "netG_A2B = VAEGen(config[\"input_nc\"], config[\"gen\"]) # auto-encoder for domain a\n",
    "netG_B2A = VAEGen(config[\"input_dim_b\"], config[\"gen\"])  # auto-encoder for domain b\n",
    "netD_B = MsImageDis(config[\"input_dim_b\"], config[\"dis\"])  # discriminator for domain b\n",
    "optimizer_G = torch.optim.Adam(list(netG_A2B.parameters())+list(netG_B2A.parameters()), lr=config[\"lr\"], betas=(0.5, 0.999))\n",
    "optimizer_D = torch.optim.Adam(netD_B.parameters(), lr=config[\"lr\"], betas=(0.5, 0.999))"
   ]
  },
  {
   "cell_type": "markdown",
   "metadata": {},
   "source": [
    "# Training"
   ]
  },
  {
   "cell_type": "code",
   "execution_count": 29,
   "metadata": {},
   "outputs": [
    {
     "name": "stderr",
     "output_type": "stream",
     "text": [
      "\u001b[34m\u001b[1mwandb\u001b[0m: Currently logged in as: \u001b[33mjunjun\u001b[0m (use `wandb login --relogin` to force relogin)\n",
      "\u001b[34m\u001b[1mwandb\u001b[0m: wandb version 0.12.21 is available!  To upgrade, please run:\n",
      "\u001b[34m\u001b[1mwandb\u001b[0m:  $ pip install wandb --upgrade\n"
     ]
    },
    {
     "data": {
      "text/html": [
       "\n",
       "                    Syncing run <strong><a href=\"https://wandb.ai/junjun/cbct_unit/runs/1xmhwan8\" target=\"_blank\">hopeful-paper-6</a></strong> to <a href=\"https://wandb.ai/junjun/cbct_unit\" target=\"_blank\">Weights & Biases</a> (<a href=\"https://docs.wandb.com/integrations/jupyter.html\" target=\"_blank\">docs</a>).<br/>\n",
       "\n",
       "                "
      ],
      "text/plain": [
       "<IPython.core.display.HTML object>"
      ]
     },
     "metadata": {},
     "output_type": "display_data"
    },
    {
     "data": {
      "text/html": [
       "<button onClick=\"this.nextSibling.style.display='block';this.style.display='none';\">Display W&B run</button><iframe src=\"https://wandb.ai/junjun/cbct_unit/runs/1xmhwan8?jupyter=true\" style=\"border:none;width:100%;height:420px;display:none;\"></iframe>"
      ],
      "text/plain": [
       "<wandb.sdk.wandb_run.Run at 0x7f9f586fd700>"
      ]
     },
     "execution_count": 29,
     "metadata": {},
     "output_type": "execute_result"
    }
   ],
   "source": [
    "import wandb\n",
    "\n",
    "wandb.init(project=\"cbct_unit\", config=config)"
   ]
  },
  {
   "cell_type": "code",
   "execution_count": 30,
   "metadata": {
    "scrolled": true
   },
   "outputs": [
    {
     "name": "stderr",
     "output_type": "stream",
     "text": [
      "1344it [03:12,  6.98it/s]\n",
      "1344it [22:54,  1.02s/it]\n",
      "1344it [01:56, 11.58it/s]\n",
      "191it [00:16, 11.30it/s]\n"
     ]
    },
    {
     "name": "stdout",
     "output_type": "stream",
     "text": [
      "Epoch=0\n"
     ]
    },
    {
     "name": "stderr",
     "output_type": "stream",
     "text": [
      "1344it [03:11,  7.01it/s]\n",
      "1344it [23:25,  1.05s/it]\n",
      "1344it [01:58, 11.36it/s]\n",
      "191it [00:16, 11.28it/s]\n",
      "1344it [03:05,  7.23it/s]\n",
      "1344it [22:59,  1.03s/it]\n",
      "1344it [01:58, 11.35it/s]\n",
      "191it [00:16, 11.26it/s]\n",
      "1344it [03:11,  7.01it/s]\n",
      "1344it [22:51,  1.02s/it]\n",
      "1344it [01:58, 11.38it/s]\n",
      "191it [00:16, 11.26it/s]\n"
     ]
    },
    {
     "name": "stdout",
     "output_type": "stream",
     "text": [
      "Epoch=3\n"
     ]
    },
    {
     "name": "stderr",
     "output_type": "stream",
     "text": [
      "1344it [03:11,  7.03it/s]\n",
      "1344it [23:12,  1.04s/it]\n",
      "1344it [01:52, 11.91it/s]\n",
      "191it [00:16, 11.42it/s]\n",
      "1344it [03:07,  7.18it/s]\n",
      "1344it [23:26,  1.05s/it]\n",
      "1344it [01:57, 11.45it/s]\n",
      "191it [00:16, 11.29it/s]\n",
      "1344it [03:11,  7.01it/s]\n",
      "1344it [22:52,  1.02s/it]\n",
      "1344it [01:58, 11.36it/s]\n",
      "191it [00:16, 11.42it/s]\n",
      "1344it [03:11,  7.01it/s]\n",
      "1344it [22:52,  1.02s/it]\n",
      "1344it [01:58, 11.35it/s]\n",
      "191it [00:17, 11.22it/s]\n",
      "1344it [03:11,  7.02it/s]\n",
      "1344it [23:30,  1.05s/it]\n",
      "1344it [01:58, 11.37it/s]\n",
      "191it [00:16, 11.29it/s]\n",
      "1344it [02:52,  7.79it/s]\n",
      "1344it [23:18,  1.04s/it]\n",
      "1344it [01:58, 11.36it/s]\n",
      "191it [00:17, 11.22it/s]\n",
      "1344it [03:11,  7.03it/s]\n",
      "1344it [22:51,  1.02s/it]\n",
      "1344it [01:58, 11.35it/s]\n",
      "191it [00:16, 11.28it/s]\n",
      "1344it [03:11,  7.01it/s]\n",
      "1344it [23:01,  1.03s/it]\n",
      "1344it [01:55, 11.60it/s]\n",
      "191it [00:16, 11.43it/s]\n",
      "1344it [03:09,  7.08it/s]\n",
      "1344it [23:26,  1.05s/it]\n",
      "1344it [01:58, 11.36it/s]\n",
      "191it [00:16, 11.28it/s]\n",
      "1344it [03:11,  7.03it/s]\n",
      "1344it [22:50,  1.02s/it]\n",
      "1344it [01:58, 11.36it/s]\n",
      "191it [00:17, 11.23it/s]\n",
      "1344it [03:11,  7.01it/s]\n",
      "1344it [22:51,  1.02s/it]\n",
      "1344it [01:58, 11.34it/s]\n",
      "191it [00:17, 11.22it/s]\n",
      "1344it [03:12,  7.00it/s]\n",
      "1344it [23:25,  1.05s/it]\n",
      "1344it [01:52, 12.00it/s]\n",
      "191it [00:15, 12.06it/s]\n",
      "1344it [03:03,  7.34it/s]\n",
      "1344it [23:20,  1.04s/it]\n",
      "1344it [01:58, 11.37it/s]\n",
      "191it [00:16, 11.24it/s]\n",
      "1344it [03:11,  7.00it/s]\n",
      "1344it [22:51,  1.02s/it]\n",
      "1344it [01:57, 11.45it/s]\n",
      "191it [00:16, 11.26it/s]\n",
      "1344it [03:11,  7.03it/s]\n",
      "1344it [22:54,  1.02s/it]\n",
      "1344it [01:56, 11.54it/s]\n",
      "191it [00:17, 11.19it/s]\n",
      "1344it [03:12,  6.98it/s]\n",
      "1344it [23:27,  1.05s/it]\n",
      "1344it [01:57, 11.45it/s]\n",
      "191it [00:16, 11.29it/s]\n",
      "1344it [03:06,  7.22it/s]\n",
      "1344it [23:02,  1.03s/it]\n",
      "1344it [01:59, 11.29it/s]\n",
      "191it [00:17, 11.20it/s]\n",
      "1344it [03:12,  6.98it/s]\n",
      "1344it [22:52,  1.02s/it]\n",
      "1344it [01:58, 11.38it/s]\n",
      "191it [00:17, 11.23it/s]\n",
      "1344it [03:12,  6.98it/s]\n",
      "1344it [23:17,  1.04s/it]\n",
      "1344it [01:53, 11.87it/s]\n",
      "191it [00:16, 11.50it/s]\n",
      "1344it [03:06,  7.20it/s]\n",
      "1344it [23:28,  1.05s/it]\n",
      "1344it [01:58, 11.36it/s]\n",
      "191it [00:17, 11.23it/s]\n",
      "1344it [03:12,  6.98it/s]\n",
      "1344it [22:50,  1.02s/it]\n",
      "1344it [01:58, 11.35it/s]\n",
      "191it [00:16, 11.28it/s]\n",
      "1344it [03:11,  7.00it/s]\n",
      "1344it [22:50,  1.02s/it]\n",
      "1344it [01:58, 11.35it/s]\n",
      "191it [00:16, 11.30it/s]\n",
      "1344it [03:11,  7.01it/s]\n",
      "1344it [23:26,  1.05s/it]\n",
      "1344it [01:57, 11.44it/s]\n",
      "191it [00:16, 11.31it/s]\n",
      "1344it [02:52,  7.79it/s]\n",
      "1344it [23:13,  1.04s/it]\n",
      "1344it [01:58, 11.39it/s]\n",
      "191it [00:16, 11.34it/s]\n",
      "1344it [03:10,  7.06it/s]\n",
      "1344it [22:46,  1.02s/it]\n",
      "1344it [01:57, 11.41it/s]\n",
      "191it [00:16, 11.29it/s]\n",
      "1344it [03:10,  7.04it/s]\n",
      "1344it [22:53,  1.02s/it]\n",
      "1344it [01:55, 11.60it/s]\n",
      "191it [00:16, 11.55it/s]\n",
      "1344it [03:08,  7.12it/s]\n",
      "1344it [23:18,  1.04s/it]\n",
      "1344it [01:57, 11.42it/s]\n",
      "191it [00:16, 11.35it/s]\n",
      "1344it [03:10,  7.05it/s]\n",
      "1344it [22:45,  1.02s/it]\n",
      "1344it [01:57, 11.48it/s]\n",
      "191it [00:16, 11.36it/s]\n",
      "1344it [03:10,  7.06it/s]\n",
      "1344it [22:43,  1.01s/it]\n",
      "1344it [01:57, 11.44it/s]\n",
      "191it [00:16, 11.33it/s]\n",
      "1344it [03:10,  7.06it/s]\n",
      "1344it [23:19,  1.04s/it]\n",
      "1344it [01:53, 11.84it/s]\n",
      "191it [00:15, 12.09it/s]\n",
      "1344it [03:00,  7.43it/s]\n",
      "1344it [23:15,  1.04s/it]\n",
      "1344it [01:56, 11.50it/s]\n",
      "191it [00:16, 11.36it/s]\n",
      "1344it [03:10,  7.06it/s]\n",
      "1344it [22:45,  1.02s/it]\n",
      "1344it [01:56, 11.50it/s]\n",
      "191it [00:16, 11.36it/s]\n",
      "1344it [03:10,  7.07it/s]\n",
      "1344it [22:49,  1.02s/it]\n",
      "1344it [01:54, 11.70it/s]\n",
      "191it [00:16, 11.36it/s]\n",
      "1344it [03:10,  7.07it/s]\n",
      "1344it [23:20,  1.04s/it]\n",
      "1344it [01:57, 11.42it/s]\n",
      "191it [00:16, 11.34it/s]\n",
      "1344it [03:07,  7.17it/s]\n",
      "1344it [22:50,  1.02s/it]\n",
      "1344it [01:57, 11.44it/s]\n",
      "191it [00:16, 11.32it/s]\n",
      "1344it [03:10,  7.05it/s]\n",
      "1344it [22:46,  1.02s/it]\n",
      "1344it [01:57, 11.44it/s]\n",
      "191it [00:16, 11.33it/s]\n",
      "1344it [03:10,  7.07it/s]\n",
      "1344it [23:09,  1.03s/it]\n",
      "1344it [01:50, 12.11it/s]\n",
      "191it [00:16, 11.60it/s]\n",
      "1344it [03:05,  7.25it/s]\n",
      "1344it [23:15,  1.04s/it]\n",
      "1344it [01:56, 11.50it/s]\n",
      "191it [00:16, 11.35it/s]\n",
      "1344it [03:10,  7.07it/s]\n",
      "1344it [22:46,  1.02s/it]\n",
      "1344it [01:57, 11.41it/s]\n",
      "191it [00:16, 11.35it/s]\n",
      "1344it [03:10,  7.07it/s]\n",
      "1344it [22:46,  1.02s/it]\n",
      "1344it [01:55, 11.59it/s]\n",
      "191it [00:16, 11.37it/s]\n",
      "1344it [03:10,  7.07it/s]\n",
      "1344it [23:16,  1.04s/it]\n",
      "1344it [01:57, 11.42it/s]\n",
      "191it [00:16, 11.33it/s]\n",
      "1344it [02:55,  7.64it/s]\n",
      "1344it [23:02,  1.03s/it]\n",
      "1344it [01:57, 11.43it/s]\n",
      "191it [00:16, 11.38it/s]\n",
      "1344it [03:09,  7.09it/s]\n",
      "1344it [22:44,  1.02s/it]\n",
      "1344it [01:57, 11.42it/s]\n",
      "191it [00:16, 11.38it/s]\n",
      "1344it [03:09,  7.08it/s]\n",
      "1344it [22:54,  1.02s/it]\n",
      "1344it [01:54, 11.74it/s]\n",
      "191it [00:16, 11.53it/s]\n",
      "1344it [03:06,  7.20it/s]\n",
      "1344it [23:15,  1.04s/it]\n",
      "1344it [01:56, 11.53it/s]\n",
      "191it [00:16, 11.40it/s]\n",
      "1344it [03:10,  7.06it/s]\n",
      "1344it [22:42,  1.01s/it]\n",
      "1344it [01:57, 11.45it/s]\n",
      "191it [00:16, 11.35it/s]\n",
      "1344it [03:09,  7.08it/s]\n",
      "1344it [22:40,  1.01s/it]\n",
      "1344it [01:56, 11.53it/s]\n",
      "191it [00:16, 11.32it/s]\n",
      "1344it [03:09,  7.08it/s]\n",
      "1344it [23:15,  1.04s/it]\n",
      "1344it [01:56, 11.50it/s]\n",
      "191it [00:15, 11.96it/s]\n",
      "1344it [02:53,  7.74it/s]\n",
      "1344it [23:09,  1.03s/it]\n",
      "1344it [01:57, 11.45it/s]\n",
      "191it [00:16, 11.37it/s]\n",
      "1344it [03:09,  7.08it/s]\n",
      "1344it [22:41,  1.01s/it]\n",
      "1344it [01:57, 11.44it/s]\n",
      "191it [00:16, 11.37it/s]\n",
      "1344it [03:09,  7.08it/s]\n",
      "1344it [22:47,  1.02s/it]\n",
      "1344it [01:54, 11.78it/s]\n",
      "191it [00:16, 11.55it/s]\n",
      "1344it [03:08,  7.14it/s]\n",
      "1344it [23:16,  1.04s/it]\n",
      "1344it [01:57, 11.43it/s]\n",
      "191it [00:16, 11.35it/s]\n",
      "1344it [03:10,  7.07it/s]\n",
      "1344it [22:43,  1.01s/it]\n",
      "1344it [01:56, 11.53it/s]\n",
      "191it [00:16, 11.28it/s]\n",
      "1344it [03:10,  7.05it/s]\n",
      "1344it [22:44,  1.02s/it]\n",
      "1344it [01:57, 11.41it/s]\n",
      "191it [00:16, 11.34it/s]\n",
      "1344it [03:10,  7.05it/s]\n",
      "1344it [23:20,  1.04s/it]\n",
      "1344it [01:51, 12.07it/s]\n",
      "191it [00:15, 11.98it/s]\n",
      "1344it [03:02,  7.37it/s]\n",
      "1344it [23:15,  1.04s/it]\n",
      "1344it [01:57, 11.41it/s]\n",
      "191it [00:16, 11.35it/s]\n",
      "1344it [03:10,  7.06it/s]\n",
      "1344it [22:45,  1.02s/it]\n",
      "1344it [01:56, 11.50it/s]\n",
      "191it [00:16, 11.34it/s]\n",
      "1344it [03:10,  7.04it/s]\n",
      "1344it [22:50,  1.02s/it]\n",
      "1344it [01:55, 11.65it/s]\n",
      "191it [00:16, 11.39it/s]\n",
      "1344it [03:10,  7.06it/s]\n",
      "1344it [23:20,  1.04s/it]\n",
      "1344it [01:57, 11.40it/s]\n",
      "191it [00:16, 11.34it/s]\n",
      "1344it [03:05,  7.25it/s]\n",
      "1344it [22:54,  1.02s/it]\n",
      "1344it [01:57, 11.41it/s]\n",
      "191it [00:16, 11.31it/s]\n",
      "1344it [03:10,  7.05it/s]\n",
      "1344it [22:45,  1.02s/it]\n",
      "1344it [01:58, 11.38it/s]\n",
      "191it [00:16, 11.31it/s]\n",
      "1344it [03:10,  7.05it/s]\n",
      "1344it [23:10,  1.03s/it]\n",
      "1344it [01:51, 12.00it/s]\n",
      "191it [00:16, 11.52it/s]\n",
      "1344it [03:06,  7.21it/s]\n",
      "1344it [23:21,  1.04s/it]\n",
      "1344it [01:58, 11.39it/s]\n",
      "191it [00:16, 11.33it/s]\n",
      "1344it [03:10,  7.05it/s]\n",
      "1344it [22:46,  1.02s/it]\n",
      "1344it [01:57, 11.40it/s]\n",
      "191it [00:16, 11.28it/s]\n",
      "1344it [03:10,  7.05it/s]\n",
      "1344it [22:49,  1.02s/it]\n",
      "1344it [01:57, 11.39it/s]\n",
      "191it [00:16, 11.63it/s]\n",
      "1344it [03:11,  7.03it/s]\n",
      "1344it [23:23,  1.04s/it]\n",
      "1344it [01:58, 11.38it/s]\n",
      "191it [00:16, 11.33it/s]\n",
      "1344it [02:53,  7.75it/s]\n",
      "1344it [23:12,  1.04s/it]\n",
      "1344it [01:57, 11.45it/s]\n",
      "191it [00:16, 11.36it/s]\n",
      "1344it [03:10,  7.06it/s]\n",
      "1344it [22:44,  1.02s/it]\n",
      "1344it [01:56, 11.52it/s]\n",
      "191it [00:16, 11.29it/s]\n",
      "1344it [03:09,  7.08it/s]\n",
      "1344it [22:55,  1.02s/it]\n",
      "1344it [01:55, 11.62it/s]\n",
      "191it [00:16, 11.46it/s]\n",
      "1344it [03:07,  7.17it/s]\n",
      "1344it [23:18,  1.04s/it]\n",
      "1344it [01:57, 11.46it/s]\n",
      "191it [00:16, 11.29it/s]\n",
      "1344it [03:10,  7.07it/s]\n",
      "1344it [22:48,  1.02s/it]\n",
      "1344it [01:57, 11.40it/s]\n",
      "191it [00:16, 11.36it/s]\n",
      "1344it [03:09,  7.07it/s]\n",
      "1344it [22:46,  1.02s/it]\n",
      "1344it [01:57, 11.42it/s]\n",
      "191it [00:16, 11.33it/s]\n",
      "1344it [03:10,  7.07it/s]\n",
      "1344it [23:17,  1.04s/it]\n",
      "1344it [01:54, 11.77it/s]\n",
      "191it [00:15, 11.98it/s]\n",
      "1344it [02:57,  7.56it/s]\n",
      "1344it [23:10,  1.03s/it]\n",
      "1344it [01:57, 11.43it/s]\n",
      "191it [00:16, 11.36it/s]\n",
      "1344it [03:09,  7.08it/s]\n",
      "1344it [22:46,  1.02s/it]\n",
      "1344it [01:56, 11.52it/s]\n",
      "191it [00:16, 11.41it/s]\n",
      "1344it [03:09,  7.07it/s]\n",
      "1344it [22:47,  1.02s/it]\n",
      "1344it [01:55, 11.62it/s]\n",
      "191it [00:15, 11.95it/s]\n"
     ]
    }
   ],
   "source": [
    "wandb.watch(netG_A2B)\n",
    "wandb.watch(netG_B2A)\n",
    "wandb.watch(netD_B)\n",
    "\n",
    "max_score = 0\n",
    "\n",
    "for epoch in range(config[\"n_epoch\"]):\n",
    "        \n",
    "        loss_D = train_d_epoch(netG_A2B, netG_B2A,\n",
    "                                                            netD_B, optimizer_D,\n",
    "                                                            trainloader, device)\n",
    "        loss_G = train_g_epoch(netG_A2B, netG_B2A, optimizer_G,\n",
    "                                                                        netD_B, trainloader, device)\n",
    "        \n",
    "        score_ssim_train, score_psnr_train, score_snr_train, score_mae_train, \\\n",
    "            score_air_train, score_bone_train, score_cont_train = eval_epoch(netG_A2B, netG_B2A, netD_B, trainloader, device)\n",
    "        \n",
    "        score_ssim_test, score_psnr_test, score_snr_test, score_mae_test, \\\n",
    "            score_air_test, score_bone_test, score_cont_test = eval_epoch(netG_A2B, netG_B2A, netD_B, testloader, device)\n",
    "\n",
    "        wandb.log({\n",
    "            \"loss D\": loss_D,\n",
    "            \"loss G\": loss_G,\n",
    "            \n",
    "            \"trainset cont score\": score_cont_train,\n",
    "            \"trainset ssim score\": score_ssim_train,\n",
    "            \"trainset psnr score\": score_psnr_train,\n",
    "            \"trainset mae error\": score_mae_train,\n",
    "            \"trainset snr score\": score_snr_train,\n",
    "            \"trainset mask score\": score_air_train,\n",
    "            \"trainset bone score\": score_bone_train,\n",
    "            \n",
    "            \"testset cont score\": score_cont_test,\n",
    "            \"testset mae error\": score_mae_test,\n",
    "            \"testset ssim score\": score_ssim_test,\n",
    "            \"testset psnr score\": score_psnr_test,\n",
    "            \"testset snr score\": score_snr_test,\n",
    "            \"testset mask score\": score_air_test,\n",
    "            \"testset bone score\": score_bone_test,\n",
    "        })\n",
    "        \n",
    "        \n",
    "        if score_air_test +  score_bone_test + score_psnr_test >= max_score:\n",
    "            max_score = score_air_test +  score_bone_test + score_psnr_test\n",
    "            checkpoint = {\n",
    "                \"netG_A2B\": netG_A2B.state_dict(),\n",
    "                \"netG_B2A\": netG_B2A.state_dict(),\n",
    "                \"optimizer_G\": optimizer_G.state_dict(),\n",
    "                \"netD_B\": netD_B.state_dict(),\n",
    "                \"optimizer_D\": optimizer_D.state_dict()\n",
    "            }\n",
    "            torch.save(checkpoint, os.path.join(\"weight-gan\", \"{}.pth\".format(wandb.run.name)))\n",
    "            print(\"Epoch={}\".format(epoch))"
   ]
  },
  {
   "cell_type": "code",
   "execution_count": null,
   "metadata": {},
   "outputs": [],
   "source": []
  }
 ],
 "metadata": {
  "kernelspec": {
   "display_name": "Python 3",
   "language": "python",
   "name": "python3"
  },
  "language_info": {
   "codemirror_mode": {
    "name": "ipython",
    "version": 3
   },
   "file_extension": ".py",
   "mimetype": "text/x-python",
   "name": "python",
   "nbconvert_exporter": "python",
   "pygments_lexer": "ipython3",
   "version": "3.8.5"
  }
 },
 "nbformat": 4,
 "nbformat_minor": 4
}
