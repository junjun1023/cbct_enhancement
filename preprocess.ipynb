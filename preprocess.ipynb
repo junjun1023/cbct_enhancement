{
 "cells": [
  {
   "cell_type": "code",
   "execution_count": 55,
   "metadata": {},
   "outputs": [],
   "source": [
    "import os\n",
    "import glob\n",
    "import cv2\n",
    "import numpy as np\n",
    "import pandas as pd\n",
    "from tqdm import tqdm\n",
    "import random\n",
    "import pydicom\n",
    "\n",
    "from sklearn.model_selection import train_test_split"
   ]
  },
  {
   "cell_type": "code",
   "execution_count": 56,
   "metadata": {},
   "outputs": [],
   "source": [
    "from codes.utils import get_mask, bounded, min_max_normalize, hu_clip"
   ]
  },
  {
   "cell_type": "code",
   "execution_count": 57,
   "metadata": {},
   "outputs": [],
   "source": [
    "import matplotlib.pyplot as plt\n",
    "\n",
    "# helper function for data visualization\n",
    "def visualize(**images):\n",
    "    \"\"\"PLot images in one row.\"\"\"\n",
    "    n = len(images)\n",
    "    plt.figure(figsize=(16, 5))\n",
    "    for i, (name, image) in enumerate(images.items()):\n",
    "        plt.subplot(1, n, i + 1)\n",
    "        plt.xticks([])\n",
    "        plt.yticks([])\n",
    "        plt.title(' '.join(name.split('_')).title())\n",
    "        plt.imshow(image, 'gray')\n",
    "    plt.show()"
   ]
  },
  {
   "cell_type": "code",
   "execution_count": 58,
   "metadata": {},
   "outputs": [],
   "source": [
    "root = os.path.join(\".\", \"L1_pelvic_processed\", \"reg_pelvic_l1\")\n",
    "\n",
    "exps = [\"F222836422\", \"P200366339\", \"P221436710\"]"
   ]
  },
  {
   "cell_type": "code",
   "execution_count": 59,
   "metadata": {},
   "outputs": [],
   "source": [
    "cases = os.listdir(root)\n",
    "cases.sort()\n",
    "cases = [x.split(\"_\")[0] for x in cases]"
   ]
  },
  {
   "cell_type": "code",
   "execution_count": 60,
   "metadata": {},
   "outputs": [
    {
     "data": {
      "text/plain": [
       "46"
      ]
     },
     "execution_count": 60,
     "metadata": {},
     "output_type": "execute_result"
    }
   ],
   "source": [
    "cases = [x for x in cases if x not in exps]\n",
    "cases = list(set(cases))\n",
    "len(cases)"
   ]
  },
  {
   "cell_type": "code",
   "execution_count": 61,
   "metadata": {},
   "outputs": [],
   "source": [
    "train, test = train_test_split(cases, test_size=0.2)"
   ]
  },
  {
   "cell_type": "code",
   "execution_count": 62,
   "metadata": {},
   "outputs": [],
   "source": [
    "train, train_id = train_test_split(train, test_size=0.5)"
   ]
  },
  {
   "cell_type": "code",
   "execution_count": 63,
   "metadata": {},
   "outputs": [
    {
     "data": {
      "text/plain": [
       "(18, 18, 10)"
      ]
     },
     "execution_count": 63,
     "metadata": {},
     "output_type": "execute_result"
    }
   ],
   "source": [
    "len(train), len(train_id), len(test)"
   ]
  },
  {
   "cell_type": "code",
   "execution_count": 66,
   "metadata": {},
   "outputs": [],
   "source": [
    "import shutil\n",
    "for file in train_id:\n",
    "      \n",
    "    ct = os.path.join(root, \"{}_ct\".format(file))\n",
    "    dst = os.path.join(\".\", \"L1_pelvic_processed\", \"train_id\", \"{}_ct\".format(file))  \n",
    "    shutil.copytree(ct, dst)\n",
    "    \n",
    "    reg = os.path.join(root, \"{}_reg\".format(file))\n",
    "    dst = os.path.join(\".\", \"L1_pelvic_processed\", \"train_id\", \"{}_reg\".format(file)) \n",
    "    shutil.copytree(reg, dst)"
   ]
  },
  {
   "cell_type": "code",
   "execution_count": 53,
   "metadata": {},
   "outputs": [
    {
     "data": {
      "text/plain": [
       "90"
      ]
     },
     "execution_count": 53,
     "metadata": {},
     "output_type": "execute_result"
    }
   ],
   "source": [
    "tmp = os.listdir(os.path.join(\".\", \"L2_pelvic_processed\", \"train\"))\n",
    "len(tmp)\n",
    "# for temp in tmp:\n",
    "#     base = temp.split(\"_\")[0]\n",
    "#     if base in exps:\n",
    "#         continue\n",
    "#     else:\n",
    "#         shutil.rmtree(os.path.join(\".\", \"L2_pelvic_processed\", \"train\", temp))"
   ]
  },
  {
   "cell_type": "code",
   "execution_count": null,
   "metadata": {},
   "outputs": [],
   "source": []
  },
  {
   "cell_type": "code",
   "execution_count": null,
   "metadata": {},
   "outputs": [],
   "source": []
  },
  {
   "cell_type": "code",
   "execution_count": null,
   "metadata": {},
   "outputs": [],
   "source": []
  },
  {
   "cell_type": "code",
   "execution_count": null,
   "metadata": {},
   "outputs": [],
   "source": [
    "index = 21\n",
    "hu_range = (-512, -257)"
   ]
  },
  {
   "cell_type": "code",
   "execution_count": null,
   "metadata": {
    "scrolled": true
   },
   "outputs": [],
   "source": [
    "cbct_slices = read_dicom(train_cbct_path[index])\n",
    "ct_slices = read_dicom(train_ct_path[index])\n",
    "region = valid_slices(cbct_slices, ct_slices)\n",
    "\n",
    "# ditch first and last 3\n",
    "cbcts = cbct_slices[region[0] + 3: region[1] - 3]\n",
    "cts = ct_slices[region[0] + 3: region[1] - 3]\n",
    "\n",
    "img = cbcts[0].pixel_array.copy()\n",
    "img = hu_clip(img, -256, -257, True)\n",
    "img = (img * 255).astype(np.uint8)"
   ]
  },
  {
   "cell_type": "code",
   "execution_count": null,
   "metadata": {},
   "outputs": [],
   "source": [
    "np.unique(img)"
   ]
  },
  {
   "cell_type": "code",
   "execution_count": null,
   "metadata": {},
   "outputs": [],
   "source": [
    "plt.hist(img.flatten(), color='c')"
   ]
  },
  {
   "cell_type": "code",
   "execution_count": null,
   "metadata": {},
   "outputs": [],
   "source": [
    "cnts, hier = cv2.findContours(img.copy(), cv2.RETR_EXTERNAL, cv2.CHAIN_APPROX_SIMPLE)\n",
    "c = max(cnts, key = cv2.contourArea)"
   ]
  },
  {
   "cell_type": "code",
   "execution_count": null,
   "metadata": {},
   "outputs": [],
   "source": [
    "tmp = np.stack((img, img, img), axis=-1)\n",
    "cv2.drawContours(tmp, [c], 0, (0, 255, 0), 3)\n",
    "plt.figure(0, figsize=(6,6))\n",
    "plt.imshow(tmp)"
   ]
  },
  {
   "cell_type": "code",
   "execution_count": null,
   "metadata": {},
   "outputs": [],
   "source": [
    "mask = np.zeros((img.shape[0], img.shape[1], 3))\n",
    "cv2.drawContours(mask, [c], 0, (255, 255, 255), -1)\n",
    "plt.figure(0, figsize=(6,6))\n",
    "plt.imshow(mask)"
   ]
  },
  {
   "cell_type": "code",
   "execution_count": null,
   "metadata": {},
   "outputs": [],
   "source": []
  }
 ],
 "metadata": {
  "kernelspec": {
   "display_name": "Python 3",
   "language": "python",
   "name": "python3"
  },
  "language_info": {
   "codemirror_mode": {
    "name": "ipython",
    "version": 3
   },
   "file_extension": ".py",
   "mimetype": "text/x-python",
   "name": "python",
   "nbconvert_exporter": "python",
   "pygments_lexer": "ipython3",
   "version": "3.8.5"
  }
 },
 "nbformat": 4,
 "nbformat_minor": 5
}
