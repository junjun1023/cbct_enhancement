{
 "cells": [
  {
   "cell_type": "code",
   "execution_count": 1,
   "metadata": {},
   "outputs": [],
   "source": [
    "import os\n",
    "\n",
    "import torch\n",
    "import torch.nn as nn\n",
    "import torch.nn.functional as F\n",
    "import torch.optim as optim\n",
    "from torch.utils.data import DataLoader, Subset, ConcatDataset\n",
    "\n",
    "import cv2\n",
    "import numpy as np\n",
    "import pandas as pd\n",
    "from tqdm import tqdm\n",
    "import random"
   ]
  },
  {
   "cell_type": "code",
   "execution_count": 2,
   "metadata": {},
   "outputs": [],
   "source": [
    "import segmentation_models_pytorch as smp\n",
    "from segmentation_models_pytorch.losses import DiceLoss\n",
    "from segmentation_models_pytorch.utils.metrics import IoU, Fscore, Accuracy"
   ]
  },
  {
   "cell_type": "code",
   "execution_count": 3,
   "metadata": {},
   "outputs": [],
   "source": [
    "import matplotlib.pyplot as plt\n",
    "\n",
    "# helper function for data visualization\n",
    "def visualize(**images):\n",
    "    \"\"\"PLot images in one row.\"\"\"\n",
    "    n = len(images)\n",
    "    plt.figure(figsize=(16, 5))\n",
    "    for i, (name, image) in enumerate(images.items()):\n",
    "        plt.subplot(1, n, i + 1)\n",
    "        plt.xticks([])\n",
    "        plt.yticks([])\n",
    "        plt.title(' '.join(name.split('_')).title())\n",
    "        plt.imshow(image, 'gray')\n",
    "    plt.show()"
   ]
  },
  {
   "cell_type": "code",
   "execution_count": 4,
   "metadata": {},
   "outputs": [
    {
     "name": "stdout",
     "output_type": "stream",
     "text": [
      "[0.5488135  0.71518937 0.60276338 0.54488318 0.4236548 ] tensor([ 1.5410, -0.2934, -2.1788,  0.5684, -1.0845])\n"
     ]
    }
   ],
   "source": [
    "import random\n",
    "\n",
    "SEED = 0\n",
    "random.seed(SEED)\n",
    "np.random.seed(SEED)\n",
    "torch.manual_seed(SEED)\n",
    "\n",
    "print(np.random.rand(5), torch.randn(5))"
   ]
  },
  {
   "cell_type": "markdown",
   "metadata": {},
   "source": [
    "# Settings"
   ]
  },
  {
   "cell_type": "code",
   "execution_count": 5,
   "metadata": {},
   "outputs": [],
   "source": [
    "root = os.getcwd()\n",
    "device = torch.device(\"cuda:0\" if torch.cuda.is_available() else \"cpu\")\n",
    "\n",
    "BATCH = 1\n",
    "SEGMENT = 3\n",
    "\n",
    "ELECTRON = False\n",
    "G_COORD = False\n",
    "L_COORD = False\n",
    "\n",
    "EPOCH = 40"
   ]
  },
  {
   "cell_type": "code",
   "execution_count": 6,
   "metadata": {},
   "outputs": [],
   "source": [
    "VIEW_BOUND = (-500, 500)\n",
    "AIR_BOUND = (-500, -499)\n",
    "BONE_BOUND = (255, 256)\n",
    "if ELECTRON:\n",
    "    VIEW_BOUND = (0.5, 1.5)\n",
    "    AIR_BOUND = (0.5, 0.5009)\n",
    "    BONE_BOUND = (1.2, 1.2009)    "
   ]
  },
  {
   "cell_type": "markdown",
   "metadata": {},
   "source": [
    "### Model Settings"
   ]
  },
  {
   "cell_type": "markdown",
   "metadata": {},
   "source": [
    "#### encoder"
   ]
  },
  {
   "cell_type": "code",
   "execution_count": 7,
   "metadata": {},
   "outputs": [],
   "source": [
    "GEN_IN_CHANNELS = 1\n",
    "GEN_N_CLASSES = 1"
   ]
  },
  {
   "cell_type": "code",
   "execution_count": 8,
   "metadata": {},
   "outputs": [],
   "source": [
    "ENCODER = \"resnet152\"\n",
    "ENCODER_WEIGHT = None"
   ]
  },
  {
   "cell_type": "markdown",
   "metadata": {},
   "source": [
    "#### decoder"
   ]
  },
  {
   "cell_type": "code",
   "execution_count": 9,
   "metadata": {},
   "outputs": [],
   "source": [
    "DECODER_ATT = \"scse\""
   ]
  },
  {
   "cell_type": "markdown",
   "metadata": {},
   "source": [
    "#### head"
   ]
  },
  {
   "cell_type": "code",
   "execution_count": 10,
   "metadata": {},
   "outputs": [],
   "source": [
    "GEN_ACT = \"sigmoid\"\n",
    "DIS_ACT = \"softmax\"\n",
    "E_ACT = \"softmax\""
   ]
  },
  {
   "cell_type": "markdown",
   "metadata": {},
   "source": [
    "### Optimizer Settings"
   ]
  },
  {
   "cell_type": "code",
   "execution_count": 11,
   "metadata": {},
   "outputs": [],
   "source": [
    "GEN_OPTIM_NAME = \"adam\"\n",
    "GEN_init_lr = 3e-4\n",
    "GEN_momentum = 0.9"
   ]
  },
  {
   "cell_type": "code",
   "execution_count": 12,
   "metadata": {},
   "outputs": [],
   "source": [
    "DIS_OPTIM_NAME = \"adam\"\n",
    "DIS_init_lr = 1e-3\n",
    "DIS_momentum = 0.9\n",
    "DIS_scheduler = \"cosineAnnWarm\"\n",
    "\n",
    "DIS_IN_CHANNELS = 1\n",
    "DIS_N_CLASSES = 2"
   ]
  },
  {
   "cell_type": "code",
   "execution_count": 13,
   "metadata": {},
   "outputs": [],
   "source": [
    "E_OPTIM_NAME = \"adam\"\n",
    "E_init_lr = 1e-3\n",
    "E_momentum = 0.9\n",
    "E_scheduler = \"cosineAnnWarm\"\n",
    "\n",
    "E_IN_CHANNELS = 1\n",
    "E_N_CLASSES = 2"
   ]
  },
  {
   "cell_type": "markdown",
   "metadata": {},
   "source": [
    "# Epochs"
   ]
  },
  {
   "cell_type": "code",
   "execution_count": 14,
   "metadata": {},
   "outputs": [],
   "source": [
    "from codes.losses import SSIMLoss\n",
    "from codes.losses import MAELoss\n",
    "from pytorch_msssim import ssim\n",
    "from codes.metrics import PSNR, SNR, ContourEval\n",
    "from codes.activation import Activation\n",
    "from codes.utils import hu_clip_tensor\n",
    "from codes.losses import PerceptualLoss\n",
    "from kornia.filters.sobel import Sobel"
   ]
  },
  {
   "cell_type": "code",
   "execution_count": 15,
   "metadata": {},
   "outputs": [],
   "source": [
    "def set_requires_grad(nets, requires_grad=False):\n",
    "    \"\"\"Set requies_grad=Fasle for all the networks to avoid unnecessary computations\n",
    "    Parameters:\n",
    "    nets (network list)   -- a list of networks\n",
    "    requires_grad (bool)  -- whether the networks require gradients or not\n",
    "    \"\"\"\n",
    "    if not isinstance(nets, list):\n",
    "        nets = [nets]\n",
    "        for net in nets:\n",
    "            if net is not None:\n",
    "                for param in net.parameters():\n",
    "                    param.requires_grad = requires_grad"
   ]
  },
  {
   "cell_type": "code",
   "execution_count": 16,
   "metadata": {},
   "outputs": [],
   "source": [
    "def replace_relu_to_leakyReLU(model):\n",
    "    for child_name, child in model.named_children():\n",
    "        if isinstance(child, nn.ReLU):\n",
    "            setattr(model, child_name, nn.LeakyReLU())\n",
    "        else:\n",
    "            replace_relu_to_leakyReLU(child)"
   ]
  },
  {
   "cell_type": "code",
   "execution_count": 17,
   "metadata": {},
   "outputs": [],
   "source": [
    "def replace_bn_to_instanceNorm(model):\n",
    "    for child_name, child in model.named_children():\n",
    "        if isinstance(child, nn.BatchNorm2d):\n",
    "            bn = getattr(model, child_name)\n",
    "            setattr(model, child_name, nn.InstanceNorm2d(bn.num_features))\n",
    "        else:\n",
    "            replace_bn_to_instanceNorm(child)"
   ]
  },
  {
   "cell_type": "code",
   "execution_count": 18,
   "metadata": {},
   "outputs": [],
   "source": [
    "perceptual_ext = PerceptualLoss()"
   ]
  },
  {
   "cell_type": "code",
   "execution_count": 19,
   "metadata": {},
   "outputs": [],
   "source": [
    "sobel_filter = Sobel().to(device)"
   ]
  },
  {
   "cell_type": "code",
   "execution_count": 20,
   "metadata": {},
   "outputs": [],
   "source": [
    "def train_d_epoch(epoch, generator_ab, \n",
    "                  discriminator_a, discriminator_b, d_optim,\n",
    "                    dataloader, device):\n",
    "\n",
    "    # change mode to train and move to current device\n",
    "    generator_ab = generator_ab.eval().to(device)\n",
    "    discriminator_a = discriminator_a.train().to(device)\n",
    "    discriminator_b = discriminator_b.train().to(device)\n",
    "    \n",
    "    a_dis_l = 0\n",
    "    b_dis_l = 0\n",
    "\n",
    "    set_requires_grad(discriminator_a, True)\n",
    "    set_requires_grad(discriminator_b, True)\n",
    "    set_requires_grad(generator_ab, False)\n",
    "    \n",
    "    iteration = len(dataloader)\n",
    "    \n",
    "    for index, data in tqdm(enumerate(dataloader)):\n",
    "        torch.cuda.empty_cache()\n",
    "        \n",
    "        x, y, *_ = data\n",
    " \n",
    "        B, C, H, W = x.size()\n",
    "        x = x.to(device)\n",
    "        y = y.to(device)\n",
    "\n",
    "        y_pr = generator_ab(x.float())\n",
    "        y_pr = Activation(name=GEN_ACT)(y_pr) # zipped value to [0, 1]\n",
    "\n",
    "        x_pr = generator_ab(y.float())\n",
    "        x_pr = Activation(name=GEN_ACT)(x_pr)\n",
    "        \n",
    "        d_optim.zero_grad()\n",
    "       ############################\n",
    "        # (1) Update A-to-B D network\n",
    "        ###########################\n",
    "\n",
    "        x_cls = discriminator_a(x.float())\n",
    "        x_pr_cls = discriminator_a(x_pr.detach())\n",
    "\n",
    "        a_dis = 0\n",
    "        for _x_cls, _x_pr_cls in \\\n",
    "            zip(x_cls, x_pr_cls):\n",
    "            _B, _C = _x_cls.size()\n",
    "            a_dis = nn.CrossEntropyLoss()(_x_cls.float(), torch.zeros(_B, dtype=torch.long, device=device)) + \\\n",
    "                            nn.CrossEntropyLoss()(_x_pr_cls.float(), torch.ones(_B, dtype=torch.long, device=device)) + \\\n",
    "                            a_dis\n",
    "        a_dis = a_dis / (len(x_cls))\n",
    "        \n",
    "        y_cls = discriminator_b(y.float())\n",
    "        y_pr_cls = discriminator_b(y_pr.detach())\n",
    "\n",
    "        b_dis = 0\n",
    "        for _y_cls, _y_pr_cls in \\\n",
    "            zip(y_cls, y_pr_cls):\n",
    "            _B, _C = _y_cls.size()\n",
    "            b_dis = nn.CrossEntropyLoss()(_y_cls.float(), torch.zeros(_B, dtype=torch.long, device=device)) + \\\n",
    "                            nn.CrossEntropyLoss()(_y_pr_cls.float(), torch.ones(_B, dtype=torch.long, device=device)) + \\\n",
    "                            b_dis\n",
    "        b_dis = b_dis / (len(y_cls))\n",
    "        \n",
    "        _loss = a_dis + b_dis\n",
    "        _loss.backward()\n",
    "        d_optim.step()\n",
    "\n",
    "        a_dis_l += a_dis.item()\n",
    "        b_dis_l += b_dis.item()\n",
    "        \n",
    "    return  a_dis_l/(index+1), b_dis_l/(index+1)"
   ]
  },
  {
   "cell_type": "code",
   "execution_count": 21,
   "metadata": {},
   "outputs": [],
   "source": [
    "def train_g_epoch(epoch, \n",
    "                  generator_ab, gen_optim, \n",
    "                    discriminator_a, discriminator_b, \n",
    "                    dataloader, device):\n",
    "    \n",
    "    # change mode to train and move to current device\n",
    "    generator_ab = generator_ab.train().to(device)\n",
    "    discriminator_a = discriminator_a.eval().to(device)\n",
    "    discriminator_b = discriminator_b.eval().to(device)\n",
    "    \n",
    "    gen_a_l = 0\n",
    "    gen_b_l = 0\n",
    "    idt_a_l = 0\n",
    "    idt_b_l = 0\n",
    "    air_x_l = 0\n",
    "    air_y_l = 0\n",
    "    bone_x_l = 0\n",
    "    bone_y_l = 0\n",
    "    \n",
    "    set_requires_grad(discriminator_a, False)\n",
    "    set_requires_grad(discriminator_b, False)\n",
    "    set_requires_grad(generator_ab, True)\n",
    "        \n",
    "    for index, data in tqdm(enumerate(dataloader)):\n",
    "        torch.cuda.empty_cache()\n",
    "        \n",
    "        x, y, air_x, bone_x, air_y, bone_y = data\n",
    "\n",
    "        B, C, H, W = x.size()\n",
    "        x = x.to(device)\n",
    "        y = y.to(device)\n",
    "        air_x = air_x.to(device)\n",
    "        air_y = air_y.to(device)\n",
    "        bone_x = bone_x.to(device)\n",
    "        bone_y = bone_y.to(device)\n",
    "\n",
    "        ############################\n",
    "        # (1) Update G network: maximize log(D(G(z)))\n",
    "        ###########################\n",
    "        \n",
    "        y_pr = generator_ab(x.float())\n",
    "        y_pr = Activation(name=GEN_ACT)(y_pr) # zipped value to [0, 1]\n",
    "        \n",
    "        x_pr = generator_ab(y.float())\n",
    "        x_pr = Activation(name=GEN_ACT)(x_pr)\n",
    "        \n",
    "        gen_optim.zero_grad()\n",
    "\n",
    "        # adversarial loss\n",
    "        y_pr_cls = discriminator_b(y_pr)\n",
    "        x_pr_cls = discriminator_a(x_pr)\n",
    "        \n",
    "        gen_b = 0\n",
    "        for _y_pr_cls in y_pr_cls:\n",
    "            _B, _C = _y_pr_cls.size()\n",
    "            gen_b = nn.CrossEntropyLoss()(_y_pr_cls.float(), torch.zeros(_B, dtype=torch.long, device=device)) + \\\n",
    "                            gen_b\n",
    "        gen_b = gen_b / (len(y_pr_cls))\n",
    "        \n",
    "        gen_a = 0\n",
    "        for _x_pr_cls in x_pr_cls:\n",
    "            _B, _C = _x_pr_cls.size()\n",
    "            gen_a = nn.CrossEntropyLoss()(_x_pr_cls.float(), torch.zeros(_B, dtype=torch.long, device=device)) + \\\n",
    "                            gen_a\n",
    "        gen_a = gen_a / (len(x_pr_cls))\n",
    " \n",
    "        # auxilary loss\n",
    "        # https://discuss.pytorch.org/t/unclear-about-weighted-bce-loss/21486/2\n",
    "        _min = VIEW_BOUND[0]\n",
    "        _max = VIEW_BOUND[1]\n",
    "        air_window = AIR_BOUND\n",
    "        upper = ((air_window[1]) - (_min))/(_max-(_min))\n",
    "        lower = ((air_window[0]) - (_min))/(_max-(_min))\n",
    "        air_x_pr = hu_clip_tensor(y_pr.double(), (lower, upper), None, True)\n",
    "        air_x_loss = nn.BCELoss()(air_x_pr.float(), air_x.float())\n",
    "        \n",
    "        bone_window = BONE_BOUND\n",
    "        upper = ((bone_window[1]) - (_min))/(_max-(_min))\n",
    "        lower = ((bone_window[0]) - (_min))/(_max-(_min))\n",
    "        bone_x_pr = hu_clip_tensor(y_pr.double(), (lower, upper), None, True)\n",
    "        bone_x_loss = nn.BCELoss()(bone_x_pr.float(), bone_x.float())\n",
    "        \n",
    " \n",
    "        _min = VIEW_BOUND[0]\n",
    "        _max = VIEW_BOUND[1]\n",
    "        air_window = AIR_BOUND\n",
    "        upper = ((air_window[1]) - (_min))/(_max-(_min))\n",
    "        lower = ((air_window[0]) - (_min))/(_max-(_min))\n",
    "        air_y_pr = hu_clip_tensor(x_pr.double(), (lower, upper), None, True)\n",
    "        air_y_loss = nn.BCELoss()(air_y_pr.float(), air_y.float())\n",
    "        \n",
    "        bone_window = BONE_BOUND\n",
    "        upper = ((bone_window[1]) - (_min))/(_max-(_min))\n",
    "        lower = ((bone_window[0]) - (_min))/(_max-(_min))\n",
    "        bone_y_pr = hu_clip_tensor(x_pr.double(), (lower, upper), None, True)\n",
    "        bone_y_loss = nn.BCELoss()(bone_y_pr.float(), bone_y.float())\n",
    "\n",
    "        x_recon = generator_ab(y_pr)\n",
    "        y_recon = generator_ab(x_pr)\n",
    "        \n",
    "        idt_a = nn.L1Loss()(x_recon, x)\n",
    "        idt_b = nn.L1Loss()(y_recon, y)\n",
    "        \n",
    "        _loss = gen_a + gen_b + idt_a + idt_b + air_x_loss + bone_x_loss + air_y_loss + bone_y_loss\n",
    "        _loss.backward()    \n",
    "        gen_optim.step()\n",
    "\n",
    "        \n",
    "        gen_a_l += gen_a.item()\n",
    "        gen_b_l += gen_b.item()\n",
    "        idt_a_l += idt_a.item()\n",
    "        idt_b_l += idt_b.item()\n",
    "        air_x_l += air_x_loss.item()\n",
    "        air_y_l += air_y_loss.item()\n",
    "        bone_x_l += bone_x_loss.item()\n",
    "        bone_y_l += bone_y_loss.item()\n",
    "        \n",
    "    return  air_x_l/(index+1), air_y_l/(index+1), bone_x_l/(index+1), bone_y_l/(index+1), \\\n",
    "                    gen_a_l/(index+1), gen_b_l/(index+1), idt_a_l/(index+1), idt_b_l/(index+1)"
   ]
  },
  {
   "cell_type": "code",
   "execution_count": 22,
   "metadata": {},
   "outputs": [],
   "source": [
    "@torch.no_grad()\n",
    "def eval_epoch(generator_ab, discriminator_b, dataloader, device):\n",
    "    \n",
    "    # change mode to train and move to current device\n",
    "    generator_ab = generator_ab.eval().to(device)\n",
    "    discriminator_b = discriminator_b.eval().to(device)\n",
    "\n",
    "    ssim_ = []\n",
    "    psnr_ = []\n",
    "    mae_ = []\n",
    "    snr_ = []\n",
    "\n",
    "    air_ = []\n",
    "    bone_ = []\n",
    "    cont_ = []\n",
    "\n",
    "    tf_acc = []\n",
    "    \n",
    "    for index, data in tqdm(enumerate(dataloader)):\n",
    "\n",
    "        x, y, air_x, bone_x, *_ = data\n",
    "\n",
    "        B, C, H, W = x.size()\n",
    "        x = x.to(device)\n",
    "        y = y.to(device)\n",
    "        air_x = air_x.to(device)\n",
    "        bone_x = bone_x.to(device)\n",
    "\n",
    "        y_pr = generator_ab(x.float())\n",
    "        y_pr = Activation(name=GEN_ACT)(y_pr) # zipped value to [0, 1]\n",
    "\n",
    "       ############################\n",
    "        # (1) Eval True/Fake D network: maximize log(D(x)) + log(1 - D(G(z)))\n",
    "        ###########################        \n",
    "        y_cls = discriminator_b(y.float())\n",
    "        for _y_cls in y_cls:\n",
    "            _B, _C = _y_cls.size()\n",
    "            total = _B\n",
    "            _y_cls = Activation(name=DIS_ACT)(_y_cls)\n",
    "            _, _y_cls = torch.max(_y_cls.data, 1)\n",
    "            correct = (_y_cls == torch.zeros(_B, dtype=torch.long, device=device)).sum().item()\n",
    "            tf_acc += [correct / total]        \n",
    "\n",
    "\n",
    "        ############################\n",
    "        # (2) Eval G network: maximize log(D(G(z)))\n",
    "        ###########################\n",
    "\n",
    "        # main\n",
    "        _ssim = ssim(y.float(), y_pr, data_range=1.0, size_average=True) # return (N,)\n",
    "        _psnr = PSNR()(y_pr, y.float(), 1.0)\n",
    "        _snr = SNR()(y_pr, y.float())\n",
    "        _mae = MAELoss()(y_pr.float(), y.float())\n",
    "\n",
    "        ssim_ += [_ssim.item()]\n",
    "        psnr_ += [_psnr.item()]\n",
    "        mae_ += [_mae.item()]\n",
    "        snr_ += [_snr.item()]\n",
    "\n",
    "        # auxilary\n",
    "        _min = VIEW_BOUND[0]\n",
    "        _max = VIEW_BOUND[1]\n",
    "        air_window = AIR_BOUND\n",
    "        upper = ((air_window[1]) - (_min))/(_max-(_min))\n",
    "        lower = ((air_window[0]) - (_min))/(_max-(_min))\n",
    "        air_pr = hu_clip_tensor(y_pr.double(), (lower, upper), None, True)\n",
    "        dice = Fscore()(air_pr, air_x)\n",
    "        air_ += [dice.item()]\n",
    "\n",
    "        bone_window = BONE_BOUND\n",
    "        upper = ((bone_window[1]) - (_min))/(_max-(_min))\n",
    "        lower = ((bone_window[0]) - (_min))/(_max-(_min))\n",
    "        bone_pr = hu_clip_tensor(y_pr.double(), (lower, upper), None, True)\n",
    "        dice = Fscore()(bone_pr, bone_x)\n",
    "        bone_ += [dice.item()]\n",
    "\n",
    "        for b in range(x.size()[0]):\n",
    "            cont = ContourEval()(y_pr[b, :, :, :], x[b, :, :, :])\n",
    "            cont_ += [cont.item()]\n",
    "\n",
    "    return  sum(ssim_)/len(ssim_), sum(psnr_)/len(psnr_), sum(snr_)/len(snr_), sum(mae_)/len(mae_), \\\n",
    "                    sum(air_)/len(air_), sum(bone_)/len(bone_), sum(cont_)/len(cont_), sum(tf_acc)/len(tf_acc)"
   ]
  },
  {
   "cell_type": "code",
   "execution_count": 23,
   "metadata": {},
   "outputs": [],
   "source": [
    "@torch.no_grad()\n",
    "def test_epoch(iid, model, dataloader, device, save=False, path=None):\n",
    "  \n",
    "    # change mode to train and move to current device\n",
    "    model = model.eval().to(device)\n",
    "    \n",
    "    iid = iid\n",
    "    for index, data in tqdm(enumerate(dataloader)):\n",
    "\n",
    "        x, y, air_x, bone_x, *_ = data\n",
    "        \n",
    "        B, C, H, W = x.size()\n",
    "        x = x.to(device)\n",
    "        y = y.to(device)\n",
    "        air_x = air_x.to(device)\n",
    "        bone_x = bone_x.to(device)\n",
    "\n",
    "        y_pr = model(x.float())\n",
    "        y_pr = Activation(name=GEN_ACT)(y_pr) # zipped value to [0, 1]\n",
    "\n",
    "        edge_x = sobel_filter(x)\n",
    "        edge_y_pr = sobel_filter(y_pr)\n",
    "        edge_y = sobel_filter(y)\n",
    "\n",
    "        _min = VIEW_BOUND[0]\n",
    "        _max = VIEW_BOUND[1]\n",
    "        air_window = AIR_BOUND\n",
    "        upper = ((air_window[1]) - (_min))/(_max-(_min))\n",
    "        lower = ((air_window[0]) - (_min))/(_max-(_min))\n",
    "        air_pr = hu_clip_tensor(y_pr.double(), (lower, upper), None, True)\n",
    "        \n",
    "        bone_window = BONE_BOUND\n",
    "        upper = ((bone_window[1]) - (_min))/(_max-(_min))\n",
    "        lower = ((bone_window[0]) - (_min))/(_max-(_min))\n",
    "        bone_pr = hu_clip_tensor(y_pr.double(), (lower, upper), None, True)\n",
    "\n",
    "        for b in range(x.shape[0]):           \n",
    "            tmp_y = y[b, :, :, :].unsqueeze(0).float()\n",
    "            tmp_y_pr = y_pr[b, :, :, :].unsqueeze(0)\n",
    "            tmp_air = air_x[b, :, :, :].unsqueeze(0)\n",
    "            tmp_air_pr = air_pr[b, :, :, :].unsqueeze(0)\n",
    "            tmp_bone = bone_x[b, :, :, :].unsqueeze(0)\n",
    "            tmp_bone_pr = bone_pr[b, :, :, :].unsqueeze(0)\n",
    "            \n",
    "            _ssim = ssim(tmp_y, tmp_y_pr, data_range=1.0, size_average=True) # return (N,)\n",
    "            _psnr = PSNR()(tmp_y_pr, tmp_y, 1.0)\n",
    "            _snr = SNR()(tmp_y_pr, tmp_y)\n",
    "            _mae = MAELoss()(tmp_y_pr.float(), tmp_y.float())\n",
    "            _air = Fscore()(tmp_air_pr, tmp_air)\n",
    "            _bone = Fscore()(tmp_bone_pr, tmp_bone)\n",
    "            _cont = ContourEval()(tmp_y_pr, x[b, :, :, :])\n",
    "            \n",
    "            print(\"ssim score = {}\".format(_ssim.item()))\n",
    "            print(\"psnr score = {}\".format(_psnr.item()))\n",
    "            print(\"snr score = {}\".format(_snr.item()))\n",
    "            print(\"mae error = {}\".format(_mae.item()))\n",
    "            print(\"air dice score = {}\".format(_air.item()))\n",
    "            print(\"bone dice score = {}\".format(_bone.item()))\n",
    "            print(\"contour dice score = {}\".format(_cont.item()))\n",
    "            \n",
    "            __cbct = (x.squeeze().cpu().numpy() * 255).astype(np.uint8)\n",
    "            __ct = (tmp_y.squeeze().cpu().numpy() * 255).astype(np.uint8)\n",
    "            __ct_pred = (tmp_y_pr.squeeze().cpu().numpy() * 255).astype(np.uint8)\n",
    "            __ct_masked = __ct_pred * tmp_air.squeeze().cpu().numpy()\n",
    "            __air = (tmp_air.squeeze().cpu().numpy() * 255).astype(np.uint8)\n",
    "            __air_pr = (tmp_air_pr.squeeze().cpu().numpy() * 255).astype(np.uint8)\n",
    "            __bone = (tmp_bone.squeeze().cpu().numpy() * 255).astype(np.uint8)\n",
    "            __bone_pr = (tmp_bone_pr.squeeze().cpu().numpy() * 255).astype(np.uint8)\n",
    "            __edge_pr = (edge_y_pr[b, :].squeeze().cpu().numpy() * 255).astype(np.uint8)\n",
    "            __edge_x = (edge_x.squeeze().cpu().numpy() * 255).astype(np.uint8)\n",
    "            __edge_y = (edge_y.squeeze().cpu().numpy() * 255).astype(np.uint8)\n",
    "            \n",
    "            visualize(\n",
    "                cbct = __cbct,\n",
    "                ct_y = __ct,\n",
    "                ct_pred = __ct_pred,\n",
    "                edge_pred = __edge_pr,\n",
    "                edge_x = __edge_x,\n",
    "                edge_y = __edge_y,\n",
    "                air = __air,\n",
    "                air_pr = __air_pr,\n",
    "                bone = __bone,\n",
    "                bone_pr = __bone_pr\n",
    "            )\n",
    "            \n",
    "            if save:\n",
    "                path_dir = os.path.join(path, \"file_{}\".format(iid))\n",
    "                try:\n",
    "                    os.mkdir(path_dir)\n",
    "                except FileExistsError:\n",
    "                    pass\n",
    "                \n",
    "                cv2.imwrite(os.path.join(path_dir, \"cbct.jpg\"), __cbct)\n",
    "                cv2.imwrite(os.path.join(path_dir, \"ct.jpg\"), __ct)\n",
    "                cv2.imwrite(os.path.join(path_dir, \"ct_pred.jpg\"), __ct_pred)\n",
    "                cv2.imwrite(os.path.join(path_dir, \"air.jpg\"), __air)\n",
    "                cv2.imwrite(os.path.join(path_dir, \"air_pred.jpg\"), __air_pr)\n",
    "                cv2.imwrite(os.path.join(path_dir, \"bone.jpg\"), __bone)\n",
    "                cv2.imwrite(os.path.join(path_dir, \"bone_pred.jpg\"), __bone_pr)\n",
    "                cv2.imwrite(os.path.join(path_dir, \"edge_pred.jpg\"), __edge_pr)\n",
    "                cv2.imwrite(os.path.join(path_dir, \"edge_cbct.jpg\"), __edge_x)\n",
    "                cv2.imwrite(os.path.join(path_dir, \"edge_ct.jpg\"), __edge_y)\n",
    "                \n",
    "            iid += 1"
   ]
  },
  {
   "cell_type": "markdown",
   "metadata": {},
   "source": [
    "# Discriminator"
   ]
  },
  {
   "cell_type": "code",
   "execution_count": 24,
   "metadata": {},
   "outputs": [],
   "source": [
    "from codes.activation import Activation\n",
    "import torchvision.models as models\n",
    "from codes.losses import MultiScaleHeads"
   ]
  },
  {
   "cell_type": "code",
   "execution_count": 25,
   "metadata": {},
   "outputs": [],
   "source": [
    "class Discriminator(nn.Module):\n",
    "    def __init__(self, in_channel=1, n_classes=2, activation=None):\n",
    "        \n",
    "        super(Discriminator, self).__init__()\n",
    "        \n",
    "        encoder = smp.Unet(encoder_name=\"resnet18\", in_channels=in_channel, classes=n_classes).encoder\n",
    "        self.encoder = encoder\n",
    "        self.fc = MultiScaleHeads(n_classes=n_classes, channels=(512, ), activation=None)\n",
    "        \n",
    "    def forward(self, x):\n",
    "        x = self.encoder(x)\n",
    "        x = self.fc([x[-1]])\n",
    "        return x"
   ]
  },
  {
   "cell_type": "markdown",
   "metadata": {},
   "source": [
    "# Read Data"
   ]
  },
  {
   "cell_type": "code",
   "execution_count": 26,
   "metadata": {},
   "outputs": [],
   "source": [
    "from codes.dataset import DicomsSegmentDataset, DicomsDataset\n",
    "import codes.augmentation as aug"
   ]
  },
  {
   "cell_type": "code",
   "execution_count": 27,
   "metadata": {},
   "outputs": [],
   "source": [
    "pelvic_train_case_path = 'raw/train/*_*'\n",
    "pelvic_train_id_case_path = 'raw/train_id/*_*'\n",
    "pelvic_test_case_path = 'raw/test/*_*'"
   ]
  },
  {
   "cell_type": "code",
   "execution_count": 28,
   "metadata": {},
   "outputs": [],
   "source": [
    "trainset_pelvic = DicomsDataset(pelvic_train_case_path, \n",
    "                   intensity_aug=aug.training_intensity_augmentation(), geometry_aug=aug.get_training_augmentation(),\n",
    "                  identity=False, electron=ELECTRON, position=\"pelvic\", g_coord=G_COORD, l_coord=L_COORD)\n",
    "trainset_id_pelvic = DicomsDataset(pelvic_train_id_case_path, \n",
    "                   intensity_aug=aug.training_intensity_augmentation(), geometry_aug=aug.get_training_augmentation(),\n",
    "                  identity=False, electron=ELECTRON, position=\"pelvic\", g_coord=G_COORD, l_coord=L_COORD)"
   ]
  },
  {
   "cell_type": "code",
   "execution_count": 29,
   "metadata": {},
   "outputs": [],
   "source": [
    "trainset_pelvic = ConcatDataset([trainset_pelvic, trainset_id_pelvic])"
   ]
  },
  {
   "cell_type": "code",
   "execution_count": 30,
   "metadata": {},
   "outputs": [],
   "source": [
    "testset = DicomsDataset(pelvic_test_case_path, geometry_aug=aug.get_validation_augmentation(), \n",
    "                 identity=False, electron=ELECTRON, position=\"pelvic\", g_coord=G_COORD, l_coord=L_COORD)"
   ]
  },
  {
   "cell_type": "code",
   "execution_count": 31,
   "metadata": {},
   "outputs": [
    {
     "data": {
      "text/plain": [
       "(1344, 191)"
      ]
     },
     "execution_count": 31,
     "metadata": {},
     "output_type": "execute_result"
    }
   ],
   "source": [
    "len(trainset_pelvic), len(testset)"
   ]
  },
  {
   "cell_type": "code",
   "execution_count": 32,
   "metadata": {},
   "outputs": [],
   "source": [
    "x, y, *_ = trainset_pelvic[20]"
   ]
  },
  {
   "cell_type": "code",
   "execution_count": 33,
   "metadata": {},
   "outputs": [
    {
     "data": {
      "text/plain": [
       "((1, 384, 384), (1, 384, 384))"
      ]
     },
     "execution_count": 33,
     "metadata": {},
     "output_type": "execute_result"
    }
   ],
   "source": [
    "x.shape, y.shape"
   ]
  },
  {
   "cell_type": "code",
   "execution_count": 34,
   "metadata": {},
   "outputs": [
    {
     "data": {
      "image/png": "[encoded data removed]",
      "text/plain": [
       "<Figure size 1152x360 with 2 Axes>"
      ]
     },
     "metadata": {},
     "output_type": "display_data"
    }
   ],
   "source": [
    "visualize(\n",
    "    x = x.squeeze(),\n",
    "    y = y.squeeze())"
   ]
  },
  {
   "cell_type": "markdown",
   "metadata": {},
   "source": [
    "# training"
   ]
  },
  {
   "cell_type": "code",
   "execution_count": 35,
   "metadata": {},
   "outputs": [],
   "source": [
    "trainloader = torch.utils.data.DataLoader(trainset_pelvic, batch_size=BATCH, shuffle=True, num_workers=8)\n",
    "testloader = torch.utils.data.DataLoader(testset, batch_size=1, shuffle=False, num_workers=4)"
   ]
  },
  {
   "cell_type": "code",
   "execution_count": 36,
   "metadata": {},
   "outputs": [],
   "source": [
    "import segmentation_models_pytorch as smp\n",
    "import torchvision.models as models\n",
    "\n",
    "generator_a2b = smp.Unet(encoder_name=ENCODER, \n",
    "                  encoder_weights=ENCODER_WEIGHT, \n",
    "                  in_channels=GEN_IN_CHANNELS, \n",
    "                  classes=GEN_N_CLASSES,\n",
    "                 decoder_attention_type=DECODER_ATT)\n",
    "replace_relu_to_leakyReLU(generator_a2b)\n",
    "replace_bn_to_instanceNorm(generator_a2b)"
   ]
  },
  {
   "cell_type": "code",
   "execution_count": 37,
   "metadata": {},
   "outputs": [],
   "source": [
    "discriminator_a = Discriminator(in_channel=DIS_IN_CHANNELS, n_classes=DIS_N_CLASSES, activation=DIS_ACT)\n",
    "replace_relu_to_leakyReLU(discriminator_a)\n",
    "replace_bn_to_instanceNorm(discriminator_a)\n",
    "\n",
    "discriminator_b = Discriminator(in_channel=DIS_IN_CHANNELS, n_classes=DIS_N_CLASSES, activation=DIS_ACT)\n",
    "replace_relu_to_leakyReLU(discriminator_b)\n",
    "replace_bn_to_instanceNorm(discriminator_b)"
   ]
  },
  {
   "cell_type": "code",
   "execution_count": 38,
   "metadata": {},
   "outputs": [],
   "source": [
    "from codes.optimizer import Optimizer\n",
    "# optimizer = optim.SGD(model.parameters(), lr=init_lr, momentum=momentum)\n",
    "gen_optimizer = Optimizer(generator_a2b.parameters(), name=GEN_OPTIM_NAME, lr=GEN_init_lr)\n",
    "dis_optimizer = Optimizer(list(discriminator_a.parameters())+list(discriminator_b.parameters()), name=DIS_OPTIM_NAME, lr=DIS_init_lr)"
   ]
  },
  {
   "cell_type": "code",
   "execution_count": 39,
   "metadata": {},
   "outputs": [
    {
     "name": "stderr",
     "output_type": "stream",
     "text": [
      "\u001b[34m\u001b[1mwandb\u001b[0m: Currently logged in as: \u001b[33mjunjun\u001b[0m (use `wandb login --relogin` to force relogin)\n",
      "\u001b[34m\u001b[1mwandb\u001b[0m: wandb version 0.12.16 is available!  To upgrade, please run:\n",
      "\u001b[34m\u001b[1mwandb\u001b[0m:  $ pip install wandb --upgrade\n"
     ]
    },
    {
     "data": {
      "text/html": [
       "\n",
       "                    Syncing run <strong><a href=\"https://wandb.ai/junjun/cbct_gan/runs/1umgpzef\" target=\"_blank\">worthy-lake-452</a></strong> to <a href=\"https://wandb.ai/junjun/cbct_gan\" target=\"_blank\">Weights & Biases</a> (<a href=\"https://docs.wandb.com/integrations/jupyter.html\" target=\"_blank\">docs</a>).<br/>\n",
       "\n",
       "                "
      ],
      "text/plain": [
       "<IPython.core.display.HTML object>"
      ]
     },
     "metadata": {},
     "output_type": "display_data"
    },
    {
     "data": {
      "text/html": [
       "<button onClick=\"this.nextSibling.style.display='block';this.style.display='none';\">Display W&B run</button><iframe src=\"https://wandb.ai/junjun/cbct_gan/runs/1umgpzef?jupyter=true\" style=\"border:none;width:100%;height:420px;display:none;\"></iframe>"
      ],
      "text/plain": [
       "<wandb.sdk.wandb_run.Run at 0x7f27702ed460>"
      ]
     },
     "execution_count": 39,
     "metadata": {},
     "output_type": "execute_result"
    }
   ],
   "source": [
    "import wandb\n",
    "\n",
    "wandb.init(project=\"cbct_gan\", config={\n",
    "    \"data\": {\n",
    "        \"batchsize\": BATCH,\n",
    "        \"electron\": ELECTRON,\n",
    "        \"g_coord\": G_COORD,\n",
    "        \"l_coord\": L_COORD,\n",
    "    },\n",
    "    \"epochs\": EPOCH,\n",
    "    \"model\": {\n",
    "        \"in_channels\": GEN_IN_CHANNELS,\n",
    "        \"out_channels\": GEN_N_CLASSES,\n",
    "        \"optimizer\": GEN_OPTIM_NAME,\n",
    "        \"init_lr\": GEN_init_lr,\n",
    "        \"momentum\": GEN_momentum,\n",
    "        \"encoder\": ENCODER,\n",
    "        \"encoder_weight\": ENCODER_WEIGHT,\n",
    "        \"activation\": GEN_ACT,\n",
    "        \"decoder_attention_type\": DECODER_ATT\n",
    "    },\n",
    "    \"discriminator\": {\n",
    "        \"in_channels\": DIS_IN_CHANNELS,\n",
    "        \"out_channels\": DIS_N_CLASSES,\n",
    "        \"optimizer\": DIS_OPTIM_NAME,\n",
    "        \"init_lr\": DIS_init_lr,\n",
    "        \"momentum\": DIS_momentum,\n",
    "        \"encoder\": \"resnet34\"\n",
    "    }\n",
    "})"
   ]
  },
  {
   "cell_type": "code",
   "execution_count": 40,
   "metadata": {
    "scrolled": true
   },
   "outputs": [
    {
     "name": "stderr",
     "output_type": "stream",
     "text": [
      "1344it [03:26,  6.52it/s]\n",
      "1344it [16:50,  1.33it/s]\n",
      "1344it [01:18, 17.20it/s]\n",
      "191it [00:11, 17.18it/s]\n"
     ]
    },
    {
     "name": "stdout",
     "output_type": "stream",
     "text": [
      "Epoch=0\n"
     ]
    },
    {
     "name": "stderr",
     "output_type": "stream",
     "text": [
      "1344it [03:21,  6.67it/s]\n",
      "1344it [13:32,  1.65it/s]\n",
      "1344it [00:53, 25.08it/s]\n",
      "191it [00:07, 25.14it/s]\n"
     ]
    },
    {
     "name": "stdout",
     "output_type": "stream",
     "text": [
      "Epoch=1\n"
     ]
    },
    {
     "name": "stderr",
     "output_type": "stream",
     "text": [
      "1344it [02:24,  9.32it/s]\n",
      "1344it [12:02,  1.86it/s]\n",
      "1344it [00:53, 24.98it/s]\n",
      "191it [00:07, 25.40it/s]\n"
     ]
    },
    {
     "name": "stdout",
     "output_type": "stream",
     "text": [
      "Epoch=2\n"
     ]
    },
    {
     "name": "stderr",
     "output_type": "stream",
     "text": [
      "1344it [02:24,  9.29it/s]\n",
      "1344it [12:14,  1.83it/s]\n",
      "1344it [01:18, 17.02it/s]\n",
      "191it [00:10, 18.37it/s]\n"
     ]
    },
    {
     "name": "stdout",
     "output_type": "stream",
     "text": [
      "Epoch=3\n"
     ]
    },
    {
     "name": "stderr",
     "output_type": "stream",
     "text": [
      "1344it [03:31,  6.37it/s]\n",
      "1344it [21:27,  1.04it/s]\n",
      "1344it [01:52, 11.99it/s]\n",
      "191it [00:16, 11.79it/s]\n",
      "1344it [03:29,  6.41it/s]\n",
      "1344it [17:00,  1.32it/s]\n",
      "1344it [01:18, 17.13it/s]\n",
      "191it [00:11, 16.67it/s]\n",
      "1344it [03:20,  6.71it/s]\n",
      "1344it [16:58,  1.32it/s]\n",
      "1344it [01:18, 17.21it/s]\n",
      "191it [00:11, 16.60it/s]\n",
      "1344it [03:20,  6.71it/s]\n",
      "1344it [16:59,  1.32it/s]\n",
      "1344it [01:24, 15.95it/s]\n",
      "191it [00:11, 16.86it/s]\n"
     ]
    },
    {
     "name": "stdout",
     "output_type": "stream",
     "text": [
      "Epoch=7\n"
     ]
    },
    {
     "name": "stderr",
     "output_type": "stream",
     "text": [
      "1344it [03:21,  6.66it/s]\n",
      "1344it [17:00,  1.32it/s]\n",
      "1344it [01:18, 17.04it/s]\n",
      "191it [00:11, 16.93it/s]\n",
      "1344it [03:19,  6.73it/s]\n",
      "1344it [16:58,  1.32it/s]\n",
      "1344it [01:25, 15.71it/s]\n",
      "191it [00:12, 15.64it/s]\n",
      "1344it [03:12,  6.97it/s]\n",
      "1344it [16:59,  1.32it/s]\n",
      "1344it [01:18, 17.04it/s]\n",
      "191it [00:11, 17.09it/s]\n",
      "1344it [03:22,  6.63it/s]\n",
      "1344it [16:59,  1.32it/s]\n",
      "1344it [01:18, 17.12it/s]\n",
      "191it [00:11, 16.97it/s]\n"
     ]
    },
    {
     "name": "stdout",
     "output_type": "stream",
     "text": [
      "Epoch=11\n"
     ]
    },
    {
     "name": "stderr",
     "output_type": "stream",
     "text": [
      "1344it [03:20,  6.69it/s]\n",
      "1344it [16:59,  1.32it/s]\n",
      "1344it [01:24, 15.83it/s]\n",
      "191it [00:12, 15.47it/s]\n",
      "1344it [03:17,  6.82it/s]\n",
      "1344it [16:59,  1.32it/s]\n",
      "1344it [01:18, 17.16it/s]\n",
      "191it [00:11, 16.83it/s]\n",
      "1344it [03:21,  6.67it/s]\n",
      "1344it [17:01,  1.32it/s]\n",
      "1344it [01:18, 17.19it/s]\n",
      "191it [00:11, 17.17it/s]\n",
      "1344it [03:21,  6.68it/s]\n",
      "1344it [17:01,  1.32it/s]\n",
      "1344it [01:25, 15.69it/s]\n",
      "191it [00:11, 16.41it/s]\n",
      "1344it [03:22,  6.65it/s]\n",
      "1344it [16:57,  1.32it/s]\n",
      "1344it [01:18, 17.15it/s]\n",
      "191it [00:11, 16.88it/s]\n",
      "1344it [03:20,  6.71it/s]\n",
      "1344it [17:01,  1.32it/s]\n",
      "1344it [01:24, 15.91it/s]\n",
      "191it [00:12, 15.55it/s]\n",
      "1344it [03:16,  6.83it/s]\n",
      "1344it [17:01,  1.32it/s]\n",
      "1344it [01:18, 17.03it/s]\n",
      "191it [00:11, 16.89it/s]\n",
      "1344it [03:22,  6.64it/s]\n",
      "1344it [17:03,  1.31it/s]\n",
      "1344it [01:18, 17.17it/s]\n",
      "191it [00:11, 16.97it/s]\n",
      "1344it [03:20,  6.69it/s]\n",
      "1344it [17:01,  1.32it/s]\n",
      "1344it [01:25, 15.68it/s]\n",
      "191it [00:12, 15.58it/s]\n",
      "1344it [03:16,  6.84it/s]\n",
      "1344it [17:01,  1.32it/s]\n",
      "1344it [01:18, 17.08it/s]\n",
      "191it [00:11, 17.13it/s]\n",
      "1344it [03:21,  6.67it/s]\n",
      "1344it [16:55,  1.32it/s]\n",
      "1344it [01:17, 17.34it/s]\n",
      "191it [00:11, 17.25it/s]\n",
      "1344it [03:20,  6.70it/s]\n",
      "1344it [16:59,  1.32it/s]\n",
      "1344it [01:25, 15.63it/s]\n",
      "191it [00:12, 15.68it/s]\n",
      "1344it [03:21,  6.67it/s]\n",
      "1344it [16:59,  1.32it/s]\n",
      "1344it [01:18, 17.18it/s]\n",
      "191it [00:11, 17.06it/s]\n",
      "1344it [03:19,  6.72it/s]\n",
      "1344it [16:57,  1.32it/s]\n",
      "1344it [01:22, 16.37it/s]\n",
      "191it [00:12, 15.75it/s]\n",
      "1344it [03:14,  6.90it/s]\n",
      "1344it [16:59,  1.32it/s]\n",
      "1344it [01:18, 17.12it/s]\n",
      "191it [00:11, 17.10it/s]\n",
      "1344it [03:21,  6.66it/s]\n",
      "1344it [16:59,  1.32it/s]\n",
      "1344it [01:18, 17.17it/s]\n",
      "191it [00:11, 17.01it/s]\n",
      "1344it [03:19,  6.75it/s]\n",
      "1344it [16:57,  1.32it/s]\n",
      "1344it [01:24, 15.98it/s]\n",
      "191it [00:12, 15.53it/s]\n",
      "1344it [03:13,  6.95it/s]\n",
      "1344it [16:56,  1.32it/s]\n",
      "1344it [01:18, 17.18it/s]\n",
      "191it [00:11, 17.19it/s]\n",
      "1344it [03:21,  6.69it/s]\n",
      "1344it [16:56,  1.32it/s]\n",
      "1344it [01:17, 17.42it/s]\n",
      "191it [00:11, 17.29it/s]\n",
      "1344it [03:20,  6.71it/s]\n",
      "1344it [17:37,  1.27it/s]\n",
      "1344it [01:53, 11.85it/s]\n",
      "191it [00:16, 11.72it/s]\n",
      "1344it [04:16,  5.23it/s]\n",
      "1344it [17:57,  1.25it/s]\n",
      "1344it [01:17, 17.34it/s]\n",
      "191it [00:11, 17.02it/s]\n",
      "1344it [03:20,  6.70it/s]\n",
      "1344it [13:43,  1.63it/s]\n",
      "1344it [00:53, 25.28it/s]\n",
      "191it [00:07, 25.12it/s]\n",
      "1344it [02:25,  9.25it/s]\n",
      "1344it [14:14,  1.57it/s]\n",
      "1344it [01:18, 17.22it/s]\n",
      "191it [00:11, 17.30it/s]\n",
      "1344it [03:19,  6.75it/s]\n",
      "1344it [16:40,  1.34it/s]\n",
      "1344it [01:23, 16.02it/s]\n",
      "191it [00:12, 15.73it/s]\n"
     ]
    },
    {
     "name": "stdout",
     "output_type": "stream",
     "text": [
      "Epoch=35\n"
     ]
    },
    {
     "name": "stderr",
     "output_type": "stream",
     "text": [
      "1344it [03:12,  6.99it/s]\n",
      "1344it [16:41,  1.34it/s]\n",
      "1344it [01:18, 17.19it/s]\n",
      "191it [00:11, 16.93it/s]\n",
      "1344it [03:21,  6.68it/s]\n",
      "1344it [16:41,  1.34it/s]\n",
      "1344it [01:17, 17.30it/s]\n",
      "191it [00:11, 17.12it/s]\n"
     ]
    },
    {
     "name": "stdout",
     "output_type": "stream",
     "text": [
      "Epoch=37\n"
     ]
    },
    {
     "name": "stderr",
     "output_type": "stream",
     "text": [
      "1344it [03:20,  6.71it/s]\n",
      "1344it [16:37,  1.35it/s]\n",
      "1344it [01:24, 15.93it/s]\n",
      "191it [00:12, 15.89it/s]\n",
      "1344it [03:13,  6.96it/s]\n",
      "1344it [16:42,  1.34it/s]\n",
      "1344it [01:18, 17.22it/s]\n",
      "191it [00:11, 17.07it/s]\n"
     ]
    }
   ],
   "source": [
    "wandb.watch(generator_a2b)\n",
    "wandb.watch(discriminator_b)\n",
    "wandb.watch(discriminator_a)\n",
    "\n",
    "max_score = 0\n",
    "\n",
    "for epoch in range(EPOCH):\n",
    "        \n",
    "        loss_a_dis, loss_b_dis = train_d_epoch(epoch, generator_a2b,                                                                                     \n",
    "                                                                                                                       discriminator_a, discriminator_b, dis_optimizer,\n",
    "                                                                                                                        trainloader, device)\n",
    "        loss_x_air, loss_y_air, loss_x_bone, loss_y_bone, \\\n",
    "            loss_a_gen, loss_b_gen, loss_a_idt, loss_b_idt = train_g_epoch(epoch, generator_a2b, gen_optimizer, \n",
    "                                                                                                                                             discriminator_a, discriminator_b,\n",
    "                                                                                                                                             trainloader, device)\n",
    "        \n",
    "        score_ssim_train, score_psnr_train, score_snr_train, score_mae_train, \\\n",
    "            score_air_train, score_bone_train, score_cont_train, \\\n",
    "        score_tf_acc_train = eval_epoch(generator_a2b, discriminator_b, trainloader, device)\n",
    "        \n",
    "        score_ssim_test, score_psnr_test, score_snr_test, score_mae_test, \\\n",
    "            score_air_test, score_bone_test, score_cont_test, \\\n",
    "        score_tf_acc_test = eval_epoch(generator_a2b, discriminator_b, testloader, device)\n",
    "\n",
    "        wandb.log({\n",
    "            \"loss idt a\": loss_a_idt,\n",
    "            \"loss idt b\": loss_b_idt,\n",
    "            \"loss gen a\": loss_a_gen,\n",
    "            \"loss gen b\": loss_b_gen,\n",
    "            \"loss dis a\": loss_a_dis,\n",
    "            \"loss dis b\": loss_b_dis,\n",
    "            \"loss x air\": loss_x_air,\n",
    "            \"loss y air\": loss_y_air,\n",
    "            \"loss x bone\": loss_x_bone,\n",
    "            \"loss y bone\": loss_y_bone,\n",
    "            \n",
    "            \"trainset cont score\": score_cont_train,\n",
    "            \"trainset ssim score\": score_ssim_train,\n",
    "            \"trainset psnr score\": score_psnr_train,\n",
    "            \"trainset mae error\": score_mae_train,\n",
    "            \"trainset snr score\": score_snr_train,\n",
    "            \"trainset mask score\": score_air_train,\n",
    "            \"trainset bone score\": score_bone_train,\n",
    "            \"trainset acc score\": score_tf_acc_train,\n",
    "            \n",
    "            \"testset cont score\": score_cont_test,\n",
    "            \"testset mae error\": score_mae_test,\n",
    "            \"testset ssim score\": score_ssim_test,\n",
    "            \"testset psnr score\": score_psnr_test,\n",
    "            \"testset snr score\": score_snr_test,\n",
    "            \"testset mask score\": score_air_test,\n",
    "            \"testset bone score\": score_bone_test,\n",
    "            \"testset acc score\": score_tf_acc_test,\n",
    "        })\n",
    "        \n",
    "        \n",
    "        if score_air_test +  score_bone_test + score_psnr_test >= max_score:\n",
    "            max_score = score_air_test +  score_bone_test + score_psnr_test\n",
    "            checkpoint = {\n",
    "                \"gen_ab\": generator_a2b.state_dict(),\n",
    "                \"dis_a\": discriminator_a.state_dict(),\n",
    "                \"dis_b\": discriminator_b.state_dict(),\n",
    "                \"gen_optim\": gen_optimizer.state_dict(),\n",
    "                \"dis_optim\": dis_optimizer.state_dict(),\n",
    "            }\n",
    "            torch.save(checkpoint, os.path.join(\"weight-gan\", \"{}.pth\".format(wandb.run.name)))\n",
    "            print(\"Epoch={}\".format(epoch))"
   ]
  },
  {
   "cell_type": "code",
   "execution_count": null,
   "metadata": {},
   "outputs": [],
   "source": []
  },
  {
   "cell_type": "code",
   "execution_count": 41,
   "metadata": {},
   "outputs": [],
   "source": [
    "checkpoint = torch.load(os.path.join(\"weight-gan\", \"{}.pth\".format(wandb.run.name)))"
   ]
  },
  {
   "cell_type": "code",
   "execution_count": 42,
   "metadata": {},
   "outputs": [
    {
     "data": {
      "text/plain": [
       "<All keys matched successfully>"
      ]
     },
     "execution_count": 42,
     "metadata": {},
     "output_type": "execute_result"
    }
   ],
   "source": [
    "generator_a2b = smp.Unet(encoder_name=ENCODER, \n",
    "                  encoder_weights=ENCODER_WEIGHT, \n",
    "                  in_channels=GEN_IN_CHANNELS, \n",
    "                  classes=GEN_N_CLASSES,\n",
    "                 decoder_attention_type=DECODER_ATT)\n",
    "replace_relu_to_leakyReLU(generator_a2b)\n",
    "replace_bn_to_instanceNorm(generator_a2b)\n",
    "\n",
    "generator_a2b.load_state_dict(checkpoint[\"gen_ab\"])"
   ]
  },
  {
   "cell_type": "code",
   "execution_count": 43,
   "metadata": {},
   "outputs": [
    {
     "data": {
      "text/plain": [
       "<All keys matched successfully>"
      ]
     },
     "execution_count": 43,
     "metadata": {},
     "output_type": "execute_result"
    }
   ],
   "source": [
    "discriminator_b = Discriminator(in_channel=DIS_IN_CHANNELS, n_classes=DIS_N_CLASSES, activation=DIS_ACT)\n",
    "replace_relu_to_leakyReLU(discriminator_b)\n",
    "replace_bn_to_instanceNorm(discriminator_b)\n",
    "\n",
    "discriminator_b.load_state_dict(checkpoint[\"dis_b\"])"
   ]
  },
  {
   "cell_type": "code",
   "execution_count": 44,
   "metadata": {},
   "outputs": [
    {
     "name": "stderr",
     "output_type": "stream",
     "text": [
      "1344it [01:18, 17.06it/s]\n"
     ]
    },
    {
     "data": {
      "text/plain": [
       "(0.785265305988668,\n",
       " 20.447751478779885,\n",
       " 11.044394969496699,\n",
       " 0.04468920047345039,\n",
       " 0.9895797516652264,\n",
       " 0.7764726931657074,\n",
       " 0.27411430766942774,\n",
       " 1.0)"
      ]
     },
     "execution_count": 44,
     "metadata": {},
     "output_type": "execute_result"
    }
   ],
   "source": [
    "# score_ssim_test, score_psnr_test, score_snr_test, score_mae_test, \\\n",
    "#             score_air_test, score_bone_test, score_cont_test, score_tf_acc_test, score_edge_acc_test\n",
    "eval_epoch(generator_a2b, discriminator_b, trainloader, device)"
   ]
  },
  {
   "cell_type": "code",
   "execution_count": null,
   "metadata": {},
   "outputs": [],
   "source": []
  },
  {
   "cell_type": "code",
   "execution_count": 45,
   "metadata": {
    "scrolled": true
   },
   "outputs": [],
   "source": [
    "# import torchvision.models as models\n",
    "# models.vgg16(pretrained=True)"
   ]
  },
  {
   "cell_type": "code",
   "execution_count": null,
   "metadata": {},
   "outputs": [],
   "source": []
  },
  {
   "cell_type": "code",
   "execution_count": null,
   "metadata": {},
   "outputs": [],
   "source": []
  },
  {
   "cell_type": "code",
   "execution_count": null,
   "metadata": {},
   "outputs": [],
   "source": []
  },
  {
   "cell_type": "code",
   "execution_count": null,
   "metadata": {},
   "outputs": [],
   "source": []
  },
  {
   "cell_type": "code",
   "execution_count": null,
   "metadata": {},
   "outputs": [],
   "source": []
  },
  {
   "cell_type": "code",
   "execution_count": null,
   "metadata": {},
   "outputs": [],
   "source": []
  },
  {
   "cell_type": "code",
   "execution_count": null,
   "metadata": {},
   "outputs": [],
   "source": []
  },
  {
   "cell_type": "code",
   "execution_count": null,
   "metadata": {},
   "outputs": [],
   "source": []
  },
  {
   "cell_type": "code",
   "execution_count": null,
   "metadata": {},
   "outputs": [],
   "source": []
  },
  {
   "cell_type": "code",
   "execution_count": null,
   "metadata": {},
   "outputs": [],
   "source": []
  },
  {
   "cell_type": "code",
   "execution_count": null,
   "metadata": {},
   "outputs": [],
   "source": []
  }
 ],
 "metadata": {
  "kernelspec": {
   "display_name": "Python 3",
   "language": "python",
   "name": "python3"
  },
  "language_info": {
   "codemirror_mode": {
    "name": "ipython",
    "version": 3
   },
   "file_extension": ".py",
   "mimetype": "text/x-python",
   "name": "python",
   "nbconvert_exporter": "python",
   "pygments_lexer": "ipython3",
   "version": "3.8.5"
  }
 },
 "nbformat": 4,
 "nbformat_minor": 5
}
