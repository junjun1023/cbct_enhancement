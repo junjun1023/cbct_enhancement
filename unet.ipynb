{
 "cells": [
  {
   "cell_type": "code",
   "execution_count": 1,
   "metadata": {},
   "outputs": [],
   "source": [
    "import os\n",
    "\n",
    "import torch\n",
    "import torch.nn as nn\n",
    "import torch.nn.functional as F\n",
    "import torch.optim as optim\n",
    "from torch.utils.data import DataLoader, Subset, ConcatDataset\n",
    "\n",
    "import cv2\n",
    "import numpy as np\n",
    "import pandas as pd\n",
    "from tqdm import tqdm\n",
    "import random"
   ]
  },
  {
   "cell_type": "code",
   "execution_count": 2,
   "metadata": {},
   "outputs": [],
   "source": [
    "import segmentation_models_pytorch as smp\n",
    "from segmentation_models_pytorch.losses import DiceLoss\n",
    "from segmentation_models_pytorch.utils.metrics import IoU, Fscore"
   ]
  },
  {
   "cell_type": "code",
   "execution_count": 3,
   "metadata": {},
   "outputs": [],
   "source": [
    "import matplotlib.pyplot as plt\n",
    "\n",
    "# helper function for data visualization\n",
    "def visualize(**images):\n",
    "    \"\"\"PLot images in one row.\"\"\"\n",
    "    n = len(images)\n",
    "    plt.figure(figsize=(16, 5))\n",
    "    for i, (name, image) in enumerate(images.items()):\n",
    "        plt.subplot(1, n, i + 1)\n",
    "        plt.xticks([])\n",
    "        plt.yticks([])\n",
    "        plt.title(' '.join(name.split('_')).title())\n",
    "        plt.imshow(image, 'gray')\n",
    "    plt.show()"
   ]
  },
  {
   "cell_type": "markdown",
   "metadata": {},
   "source": [
    "# Settings"
   ]
  },
  {
   "cell_type": "code",
   "execution_count": 4,
   "metadata": {},
   "outputs": [],
   "source": [
    "root = os.getcwd()\n",
    "device = torch.device(\"cuda:0\" if torch.cuda.is_available() else \"cpu\")\n",
    "\n",
    "BATCH = 24\n",
    "IN_CHANNELS = 1\n",
    "N_CLASSES = 1\n",
    "EPOCH =200\n",
    "\n",
    "WL=0\n",
    "WW=1000"
   ]
  },
  {
   "cell_type": "markdown",
   "metadata": {},
   "source": [
    "### Model Settings"
   ]
  },
  {
   "cell_type": "markdown",
   "metadata": {},
   "source": [
    "#### encoder"
   ]
  },
  {
   "cell_type": "code",
   "execution_count": 5,
   "metadata": {},
   "outputs": [],
   "source": [
    "ENCODER = \"resnet152\"\n",
    "ENCODER_WEIGHT = None"
   ]
  },
  {
   "cell_type": "markdown",
   "metadata": {},
   "source": [
    "#### decoder"
   ]
  },
  {
   "cell_type": "code",
   "execution_count": 6,
   "metadata": {},
   "outputs": [],
   "source": [
    "DECODER_ATT = \"scse\""
   ]
  },
  {
   "cell_type": "markdown",
   "metadata": {},
   "source": [
    "#### head"
   ]
  },
  {
   "cell_type": "code",
   "execution_count": 7,
   "metadata": {},
   "outputs": [],
   "source": [
    "ACT = None\n",
    "AUX_PARAM = None"
   ]
  },
  {
   "cell_type": "markdown",
   "metadata": {},
   "source": [
    "### Optimizer Settings"
   ]
  },
  {
   "cell_type": "code",
   "execution_count": 8,
   "metadata": {},
   "outputs": [],
   "source": [
    "OPTIM_NAME = \"sgd\"\n",
    "init_lr = 3e-4\n",
    "momentum = 0.9"
   ]
  },
  {
   "cell_type": "markdown",
   "metadata": {},
   "source": [
    "# Epochs"
   ]
  },
  {
   "cell_type": "code",
   "execution_count": 9,
   "metadata": {},
   "outputs": [],
   "source": [
    "from codes.losses import SSIMLoss\n",
    "from codes.losses import MAELoss\n",
    "from pytorch_msssim import ssim\n",
    "from codes.metrics import PSNR\n",
    "from codes.utils import hu_window"
   ]
  },
  {
   "cell_type": "code",
   "execution_count": 10,
   "metadata": {},
   "outputs": [],
   "source": [
    "def train_epoch(model, optimizer, dataloader, device):\n",
    "  \n",
    "    # change mode to train and move to current device\n",
    "    model = model.train().to(device)\n",
    "\n",
    "    mse_l = 0\n",
    "    ssim_l = 0\n",
    "    mae_l = 0\n",
    "    for index, data in tqdm(enumerate(dataloader)):\n",
    "\n",
    "        x, y = data\n",
    "\n",
    "        x = x.to(device)\n",
    "        y = y.to(device)\n",
    "\n",
    "        y_pr = model(x)\n",
    "        \n",
    "        _mse = nn.MSELoss()(y_pr.float(), y.float())\n",
    "        _mae = MAELoss()(y_pr.float(), y.float())\n",
    "        _ssim =SSIMLoss()(y_pr, y, data_range=1.0, size_average=True) # return (N,)\n",
    "\n",
    "        _loss = _mse + _ssim + _mae\n",
    "                        \n",
    "        \n",
    "        optimizer.zero_grad()\n",
    "        _loss.backward()\n",
    "        optimizer.step()\n",
    "\n",
    "        mse_l += _mse.item()\n",
    "        ssim_l += _ssim.item()\n",
    "        mae_l += _mae.item()\n",
    "\n",
    "    return  mse_l/(index+1), mae_l/(index+1), ssim_l/(index+1)"
   ]
  },
  {
   "cell_type": "code",
   "execution_count": 11,
   "metadata": {},
   "outputs": [],
   "source": [
    "@torch.no_grad()\n",
    "def eval_epoch(model, dataloader, device):\n",
    "    \n",
    "    hu_value = [-512, -255, 0, 255, 511]\n",
    "  \n",
    "    # change mode to train and move to current device\n",
    "    model = model.eval().to(device)\n",
    "\n",
    "    ssim_ = 0\n",
    "    psnr_ = 0\n",
    "    for index, data in tqdm(enumerate(dataloader)):\n",
    "\n",
    "        x, y = data\n",
    "\n",
    "        x = x.to(device)\n",
    "        y = y.to(device)\n",
    "\n",
    "        y_pr = model(x)\n",
    "        \n",
    "        _ssim = ssim(y, y_pr, data_range=1.0, size_average=True) # return (N,)\n",
    "        _psnr = PSNR()(y_pr, y, 1.0)\n",
    "\n",
    "        ssim_ += _ssim.item()\n",
    "        psnr_ += _psnr.item()\n",
    "\n",
    "    return  ssim_/(index+1), psnr_/(index+1)"
   ]
  },
  {
   "cell_type": "code",
   "execution_count": 12,
   "metadata": {},
   "outputs": [],
   "source": [
    "@torch.no_grad()\n",
    "def test_epoch(model, dataloader, device):\n",
    "  \n",
    "    # change mode to train and move to current device\n",
    "    model = model.eval().to(device)\n",
    "\n",
    "    ssim = 0\n",
    "    psnr = 0\n",
    "    for index, data in tqdm(enumerate(dataloader)):\n",
    "\n",
    "        x, y = data\n",
    "\n",
    "        x = x.to(device)\n",
    "        y = y.to(device)\n",
    "\n",
    "        y_pr = model(x)\n",
    "\n",
    "        x = x.squeeze().cpu().numpy()\n",
    "        y = y.squeeze().cpu().numpy()\n",
    "        y_pr = y_pr.squeeze().cpu().numpy() * 255\n",
    "        y_pr = y_pr.astype(np.uint8)\n",
    "\n",
    "        visualize(\n",
    "            cbct = x,\n",
    "            ct_y = y,\n",
    "            ct_pred = y_pr,\n",
    "        )"
   ]
  },
  {
   "cell_type": "markdown",
   "metadata": {},
   "source": [
    "# Read Data"
   ]
  },
  {
   "cell_type": "code",
   "execution_count": 13,
   "metadata": {},
   "outputs": [],
   "source": [
    "from codes.dataset import Dataset\n",
    "import codes.augmentation as aug"
   ]
  },
  {
   "cell_type": "code",
   "execution_count": 14,
   "metadata": {},
   "outputs": [],
   "source": [
    "train_case_path = 'data/train/*_*'\n",
    "test_case_path = 'data/test/*_*'"
   ]
  },
  {
   "cell_type": "code",
   "execution_count": 15,
   "metadata": {},
   "outputs": [],
   "source": [
    "trainset = Dataset(path=train_case_path, intensity_aug=aug.training_intensity_augmentation(), geometry_aug=aug.get_training_augmentation())\n",
    "testset = Dataset(test_case_path, intensity_aug=None, geometry_aug=aug.get_validation_augmentation())"
   ]
  },
  {
   "cell_type": "code",
   "execution_count": 16,
   "metadata": {},
   "outputs": [
    {
     "data": {
      "text/plain": [
       "(1344, 191)"
      ]
     },
     "execution_count": 16,
     "metadata": {},
     "output_type": "execute_result"
    }
   ],
   "source": [
    "len(trainset), len(testset)"
   ]
  },
  {
   "cell_type": "code",
   "execution_count": 17,
   "metadata": {},
   "outputs": [],
   "source": [
    "x, y = trainset[20]"
   ]
  },
  {
   "cell_type": "code",
   "execution_count": 18,
   "metadata": {},
   "outputs": [
    {
     "data": {
      "text/plain": [
       "(<matplotlib.image.AxesImage at 0x7f2f552e8730>,)"
      ]
     },
     "execution_count": 18,
     "metadata": {},
     "output_type": "execute_result"
    },
    {
     "data": {
      "image/png": "[encoded data removed]",
      "text/plain": [
       "<Figure size 432x288 with 1 Axes>"
      ]
     },
     "metadata": {
      "needs_background": "light"
     },
     "output_type": "display_data"
    }
   ],
   "source": [
    "plt.imshow(x.squeeze(), 'gray'),"
   ]
  },
  {
   "cell_type": "code",
   "execution_count": 19,
   "metadata": {},
   "outputs": [
    {
     "data": {
      "text/plain": [
       "<matplotlib.image.AxesImage at 0x7f2f558ec580>"
      ]
     },
     "execution_count": 19,
     "metadata": {},
     "output_type": "execute_result"
    },
    {
     "data": {
      "image/png": "[encoded data removed]",
      "text/plain": [
       "<Figure size 432x288 with 1 Axes>"
      ]
     },
     "metadata": {
      "needs_background": "light"
     },
     "output_type": "display_data"
    }
   ],
   "source": [
    "plt.imshow(y.squeeze(), 'gray')"
   ]
  },
  {
   "cell_type": "code",
   "execution_count": 20,
   "metadata": {},
   "outputs": [
    {
     "data": {
      "text/plain": [
       "((1, 384, 384), (1, 384, 384))"
      ]
     },
     "execution_count": 20,
     "metadata": {},
     "output_type": "execute_result"
    }
   ],
   "source": [
    "x.shape, y.shape"
   ]
  },
  {
   "cell_type": "markdown",
   "metadata": {},
   "source": [
    "# training"
   ]
  },
  {
   "cell_type": "code",
   "execution_count": 21,
   "metadata": {},
   "outputs": [
    {
     "name": "stderr",
     "output_type": "stream",
     "text": [
      "\u001b[34m\u001b[1mwandb\u001b[0m: Currently logged in as: \u001b[33mjunjun\u001b[0m (use `wandb login --relogin` to force relogin)\n"
     ]
    },
    {
     "data": {
      "text/html": [
       "\n",
       "                Tracking run with wandb version 0.12.2<br/>\n",
       "                Syncing run <strong style=\"color:#cdcd00\">hardy-sun-24</strong> to <a href=\"https://wandb.ai\" target=\"_blank\">Weights & Biases</a> <a href=\"https://docs.wandb.com/integrations/jupyter.html\" target=\"_blank\">(Documentation)</a>.<br/>\n",
       "                Project page: <a href=\"https://wandb.ai/junjun/cbct\" target=\"_blank\">https://wandb.ai/junjun/cbct</a><br/>\n",
       "                Run page: <a href=\"https://wandb.ai/junjun/cbct/runs/3og22ku2\" target=\"_blank\">https://wandb.ai/junjun/cbct/runs/3og22ku2</a><br/>\n",
       "                Run data is saved locally in <code>/home/june/cbct_enhancement/wandb/run-20220106_035405-3og22ku2</code><br/><br/>\n",
       "            "
      ],
      "text/plain": [
       "<IPython.core.display.HTML object>"
      ]
     },
     "metadata": {},
     "output_type": "display_data"
    },
    {
     "data": {
      "text/html": [
       "<h1>Run(3og22ku2)</h1><iframe src=\"https://wandb.ai/junjun/cbct/runs/3og22ku2\" style=\"border:none;width:100%;height:400px\"></iframe>"
      ],
      "text/plain": [
       "<wandb.sdk.wandb_run.Run at 0x7f2f548f8df0>"
      ]
     },
     "execution_count": 21,
     "metadata": {},
     "output_type": "execute_result"
    }
   ],
   "source": [
    "import wandb\n",
    "\n",
    "wandb.init(project=\"cbct\", config={\n",
    "    \"data\": {\n",
    "        \"in_channels\": IN_CHANNELS,\n",
    "        \"out_channels\": N_CLASSES,\n",
    "        \"batchsize\": BATCH,\n",
    "    },\n",
    "    \"epochs\": EPOCH,\n",
    "    \"model\": {\n",
    "        \"optimizer\": OPTIM_NAME,\n",
    "        \"init_lr\": init_lr,\n",
    "        \"momentum\": momentum,\n",
    "        \"encoder\": ENCODER,\n",
    "        \"encoder_weight\": ENCODER_WEIGHT,\n",
    "        \"activation\": ACT,\n",
    "        \"decoder_attention_type\": DECODER_ATT\n",
    "    }\n",
    "})"
   ]
  },
  {
   "cell_type": "code",
   "execution_count": 22,
   "metadata": {},
   "outputs": [],
   "source": [
    "trainloader = torch.utils.data.DataLoader(trainset, batch_size=BATCH, shuffle=True, num_workers=8)\n",
    "testloader = torch.utils.data.DataLoader(testset, batch_size=BATCH, shuffle=False, num_workers=4)"
   ]
  },
  {
   "cell_type": "code",
   "execution_count": 23,
   "metadata": {},
   "outputs": [],
   "source": [
    "import segmentation_models_pytorch as smp\n",
    "import torch\n",
    "\n",
    "model = smp.Unet(encoder_name=ENCODER, encoder_weights=ENCODER_WEIGHT, in_channels=IN_CHANNELS, classes=N_CLASSES)"
   ]
  },
  {
   "cell_type": "code",
   "execution_count": 24,
   "metadata": {},
   "outputs": [],
   "source": [
    "from codes.optimizer import Optimizer\n",
    "# optimizer = optim.SGD(model.parameters(), lr=init_lr, momentum=momentum)\n",
    "optimizer = Optimizer(model.parameters(), name=OPTIM_NAME, lr=init_lr, momentum=momentum)"
   ]
  },
  {
   "cell_type": "code",
   "execution_count": null,
   "metadata": {
    "scrolled": true
   },
   "outputs": [
    {
     "name": "stderr",
     "output_type": "stream",
     "text": [
      "168it [00:51,  3.26it/s]\n",
      "168it [00:14, 11.58it/s]\n",
      "24it [00:02, 11.00it/s]\n",
      "168it [00:51,  3.25it/s]\n",
      "168it [00:24,  6.95it/s]\n",
      "24it [00:04,  5.23it/s]\n",
      "168it [01:45,  1.59it/s]\n",
      "168it [00:30,  5.56it/s]\n",
      "24it [00:04,  5.33it/s]\n",
      "168it [01:44,  1.60it/s]\n",
      "168it [00:31,  5.33it/s]\n",
      "24it [00:04,  5.22it/s]\n",
      "168it [01:43,  1.63it/s]\n",
      "168it [00:31,  5.32it/s]\n",
      "24it [00:04,  5.22it/s]\n",
      "168it [01:48,  1.54it/s]\n",
      "168it [00:29,  5.63it/s]\n",
      "24it [00:04,  5.21it/s]\n",
      "168it [01:46,  1.57it/s]\n",
      "168it [00:30,  5.55it/s]\n",
      "24it [00:04,  5.29it/s]\n",
      "168it [01:45,  1.60it/s]\n",
      "168it [00:31,  5.31it/s]\n",
      "24it [00:04,  5.22it/s]\n",
      "168it [01:43,  1.62it/s]\n",
      "168it [00:31,  5.31it/s]\n",
      "24it [00:04,  5.20it/s]\n",
      "168it [01:42,  1.64it/s]\n",
      "168it [00:29,  5.61it/s]\n",
      "24it [00:04,  5.19it/s]\n",
      "168it [02:28,  1.13it/s]\n",
      "168it [00:46,  3.63it/s]\n",
      "24it [00:06,  3.79it/s]\n",
      "168it [02:44,  1.02it/s]\n",
      "168it [00:46,  3.58it/s]\n",
      "24it [00:06,  3.54it/s]\n",
      "168it [02:27,  1.14it/s]\n",
      "168it [00:47,  3.57it/s]\n",
      "24it [00:06,  3.54it/s]\n",
      "168it [02:28,  1.13it/s]\n",
      "168it [00:45,  3.65it/s]\n",
      "24it [00:06,  3.53it/s]\n",
      "168it [02:33,  1.09it/s]\n",
      "168it [00:46,  3.62it/s]\n",
      "24it [00:06,  3.57it/s]\n",
      "168it [02:34,  1.09it/s]\n",
      "168it [00:45,  3.69it/s]\n",
      "24it [00:06,  3.54it/s]\n",
      "168it [02:30,  1.12it/s]\n",
      "168it [00:44,  3.73it/s]\n",
      "24it [00:06,  3.58it/s]\n",
      "168it [02:41,  1.04it/s]\n",
      "168it [00:44,  3.76it/s]\n",
      "24it [00:06,  3.81it/s]\n",
      "168it [02:35,  1.08it/s]\n",
      "168it [00:45,  3.67it/s]\n",
      "24it [00:06,  3.67it/s]\n",
      "168it [02:33,  1.09it/s]\n",
      "168it [00:43,  3.89it/s]\n",
      "24it [00:06,  3.84it/s]\n",
      "168it [02:32,  1.10it/s]\n",
      "168it [00:46,  3.61it/s]\n",
      "24it [00:06,  3.54it/s]\n",
      "168it [02:33,  1.09it/s]\n",
      "168it [00:46,  3.64it/s]\n",
      "24it [00:06,  3.57it/s]\n",
      "168it [02:32,  1.10it/s]\n",
      "168it [00:46,  3.58it/s]\n",
      "24it [00:06,  3.53it/s]\n",
      "168it [02:37,  1.06it/s]\n",
      "168it [00:47,  3.57it/s]\n",
      "24it [00:06,  3.52it/s]\n",
      "168it [02:34,  1.09it/s]\n",
      "168it [00:43,  3.87it/s]\n",
      "24it [00:06,  3.53it/s]\n",
      "168it [02:32,  1.10it/s]\n",
      "168it [00:44,  3.79it/s]\n",
      "24it [00:06,  3.57it/s]\n",
      "168it [02:32,  1.11it/s]\n",
      "168it [00:45,  3.67it/s]\n",
      "24it [00:06,  3.68it/s]\n",
      "168it [02:33,  1.09it/s]\n",
      "168it [00:46,  3.57it/s]\n",
      "24it [00:06,  3.82it/s]\n",
      "168it [02:34,  1.09it/s]\n",
      "168it [00:46,  3.61it/s]\n",
      "24it [00:06,  3.56it/s]\n",
      "168it [02:44,  1.02it/s]\n",
      "168it [00:46,  3.61it/s]\n",
      "24it [00:06,  3.57it/s]\n",
      "168it [02:29,  1.12it/s]\n",
      "168it [00:46,  3.58it/s]\n",
      "24it [00:06,  3.54it/s]\n",
      "168it [02:31,  1.11it/s]\n",
      "168it [00:47,  3.57it/s]\n",
      "24it [00:06,  3.53it/s]\n",
      "168it [02:33,  1.09it/s]\n",
      "168it [00:46,  3.61it/s]\n",
      "24it [00:06,  3.57it/s]\n",
      "168it [02:30,  1.12it/s]\n",
      "168it [00:40,  4.16it/s]\n",
      "24it [00:06,  3.53it/s]\n",
      "168it [02:35,  1.08it/s]\n",
      "168it [00:45,  3.73it/s]\n",
      "24it [00:06,  3.67it/s]\n",
      "168it [02:45,  1.02it/s]\n",
      "168it [00:44,  3.76it/s]\n",
      "24it [00:06,  3.67it/s]\n",
      "168it [02:35,  1.08it/s]\n",
      "168it [00:41,  4.03it/s]\n",
      "24it [00:06,  3.55it/s]\n",
      "168it [02:33,  1.09it/s]\n",
      "168it [00:47,  3.57it/s]\n",
      "24it [00:06,  3.53it/s]\n",
      "168it [02:32,  1.10it/s]\n",
      "168it [00:47,  3.57it/s]\n",
      "24it [00:06,  3.53it/s]\n",
      "168it [02:33,  1.09it/s]\n",
      "168it [00:45,  3.66it/s]\n",
      "24it [00:06,  3.54it/s]\n",
      "168it [02:29,  1.12it/s]\n",
      "168it [00:46,  3.61it/s]\n",
      "24it [00:06,  3.57it/s]\n",
      "168it [02:43,  1.03it/s]\n",
      "168it [00:46,  3.60it/s]\n",
      "24it [00:06,  3.53it/s]\n",
      "168it [02:30,  1.12it/s]\n",
      "168it [00:44,  3.74it/s]\n",
      "24it [00:06,  3.53it/s]\n",
      "168it [02:31,  1.11it/s]\n",
      "168it [00:44,  3.75it/s]\n",
      "24it [00:06,  3.77it/s]\n",
      "168it [02:35,  1.08it/s]\n",
      "168it [00:46,  3.64it/s]\n",
      "24it [00:06,  3.67it/s]\n",
      "168it [02:26,  1.15it/s]\n",
      "168it [00:47,  3.57it/s]\n",
      "24it [00:06,  3.50it/s]\n",
      "168it [02:33,  1.09it/s]\n",
      "168it [00:46,  3.63it/s]\n",
      "24it [00:06,  3.52it/s]\n",
      "168it [02:40,  1.05it/s]\n",
      "168it [00:46,  3.61it/s]\n",
      "24it [00:06,  3.56it/s]\n",
      "168it [02:33,  1.10it/s]\n",
      "168it [00:47,  3.57it/s]\n",
      "24it [00:06,  3.54it/s]\n",
      "168it [02:32,  1.10it/s]\n",
      "168it [00:46,  3.65it/s]\n",
      "24it [00:06,  3.53it/s]\n",
      "168it [02:25,  1.15it/s]\n",
      "168it [00:43,  3.84it/s]\n",
      "24it [00:06,  3.52it/s]\n",
      "168it [02:37,  1.07it/s]\n",
      "168it [00:44,  3.76it/s]\n",
      "24it [00:06,  3.71it/s]\n",
      "168it [02:34,  1.09it/s]\n",
      "168it [00:46,  3.63it/s]\n",
      "24it [00:06,  3.67it/s]\n",
      "168it [02:40,  1.04it/s]\n",
      "168it [00:46,  3.65it/s]\n",
      "24it [00:06,  3.53it/s]\n",
      "168it [02:33,  1.09it/s]\n",
      "168it [00:46,  3.63it/s]\n",
      "24it [00:06,  3.82it/s]\n",
      "168it [02:33,  1.09it/s]\n",
      "168it [00:46,  3.57it/s]\n",
      "24it [00:06,  3.81it/s]\n",
      "168it [02:33,  1.10it/s]\n",
      "168it [00:46,  3.58it/s]\n",
      "24it [00:06,  3.53it/s]\n",
      "168it [02:26,  1.14it/s]\n",
      "168it [00:46,  3.58it/s]\n",
      "24it [00:06,  3.53it/s]\n",
      "168it [02:30,  1.11it/s]\n",
      "168it [00:44,  3.74it/s]\n",
      "24it [00:06,  3.57it/s]\n",
      "168it [02:45,  1.01it/s]\n",
      "168it [00:44,  3.76it/s]\n",
      "24it [00:06,  3.53it/s]\n",
      "168it [02:30,  1.11it/s]\n",
      "168it [00:45,  3.70it/s]\n",
      "24it [00:06,  3.67it/s]\n",
      "168it [02:35,  1.08it/s]\n",
      "168it [00:45,  3.70it/s]\n",
      "24it [00:06,  3.66it/s]\n",
      "168it [02:34,  1.09it/s]\n",
      "168it [00:46,  3.62it/s]\n",
      "24it [00:06,  3.57it/s]\n",
      "168it [02:33,  1.10it/s]\n",
      "168it [00:42,  3.99it/s]\n",
      "24it [00:06,  3.53it/s]\n",
      "168it [02:31,  1.11it/s]\n",
      "168it [00:47,  3.57it/s]\n",
      "24it [00:06,  3.53it/s]\n",
      "168it [02:43,  1.03it/s]\n",
      "168it [00:45,  3.66it/s]\n",
      "24it [00:06,  3.53it/s]\n",
      "168it [02:29,  1.12it/s]\n",
      "168it [00:47,  3.57it/s]\n",
      "24it [00:06,  3.54it/s]\n",
      "168it [02:29,  1.12it/s]\n",
      "168it [00:45,  3.71it/s]\n",
      "24it [00:06,  3.54it/s]\n",
      "168it [02:35,  1.08it/s]\n",
      "168it [00:44,  3.76it/s]\n",
      "24it [00:06,  3.77it/s]\n",
      "168it [02:36,  1.08it/s]\n",
      "168it [00:45,  3.73it/s]\n",
      "24it [00:06,  3.70it/s]\n",
      "168it [02:29,  1.13it/s]\n",
      "168it [00:46,  3.58it/s]\n",
      "24it [00:06,  3.53it/s]\n",
      "168it [02:41,  1.04it/s]\n",
      "168it [00:46,  3.58it/s]\n",
      "24it [00:06,  3.53it/s]\n",
      "168it [02:33,  1.10it/s]\n",
      "168it [00:46,  3.64it/s]\n",
      "24it [00:06,  3.53it/s]\n",
      "168it [02:34,  1.09it/s]\n",
      "168it [00:45,  3.66it/s]\n",
      "24it [00:04,  5.14it/s]\n",
      "168it [02:33,  1.10it/s]\n",
      "168it [00:42,  3.96it/s]\n",
      "24it [00:06,  3.54it/s]\n",
      "168it [02:33,  1.10it/s]\n",
      "168it [00:45,  3.68it/s]\n",
      "24it [00:06,  3.54it/s]\n",
      "168it [02:35,  1.08it/s]\n",
      "168it [00:44,  3.76it/s]\n",
      "24it [00:06,  3.70it/s]\n",
      "168it [02:42,  1.04it/s]\n",
      "168it [00:44,  3.74it/s]\n",
      "24it [00:05,  4.02it/s]\n",
      "168it [02:35,  1.08it/s]\n",
      "168it [00:45,  3.66it/s]\n",
      "24it [00:06,  3.67it/s]\n",
      "168it [02:33,  1.09it/s]\n",
      "168it [00:47,  3.57it/s]\n",
      "24it [00:06,  3.75it/s]\n",
      "168it [02:31,  1.11it/s]\n",
      "168it [00:46,  3.61it/s]\n",
      "24it [00:06,  3.56it/s]\n",
      "168it [02:32,  1.10it/s]\n",
      "168it [00:46,  3.58it/s]\n",
      "24it [00:06,  3.52it/s]\n",
      "168it [02:31,  1.11it/s]\n",
      "168it [00:47,  3.57it/s]\n",
      "24it [00:06,  3.53it/s]\n",
      "168it [02:38,  1.06it/s]\n",
      "168it [00:46,  3.65it/s]\n",
      "24it [00:06,  3.52it/s]\n",
      "168it [02:30,  1.11it/s]\n",
      "168it [00:44,  3.76it/s]\n",
      "24it [00:06,  3.56it/s]\n",
      "168it [02:35,  1.08it/s]\n",
      "168it [00:44,  3.80it/s]\n",
      "24it [00:06,  3.53it/s]\n",
      "168it [02:35,  1.08it/s]\n",
      "168it [00:45,  3.71it/s]\n",
      "24it [00:06,  3.68it/s]\n",
      "168it [02:30,  1.12it/s]\n",
      "168it [00:46,  3.63it/s]\n",
      "24it [00:06,  3.76it/s]\n",
      "168it [02:34,  1.09it/s]\n",
      "168it [00:47,  3.57it/s]\n",
      "24it [00:06,  3.54it/s]\n",
      "168it [02:42,  1.03it/s]\n",
      "168it [00:47,  3.57it/s]\n",
      "24it [00:06,  3.53it/s]\n",
      "168it [02:32,  1.10it/s]\n",
      "168it [00:42,  3.97it/s]\n",
      "24it [00:06,  3.53it/s]\n",
      "168it [02:29,  1.12it/s]\n",
      "168it [00:46,  3.64it/s]\n",
      "24it [00:06,  3.57it/s]\n",
      "168it [02:33,  1.09it/s]\n",
      "168it [00:46,  3.60it/s]\n",
      "24it [00:06,  3.54it/s]\n",
      "168it [02:33,  1.09it/s]\n",
      "168it [00:45,  3.69it/s]\n",
      "24it [00:06,  3.53it/s]\n",
      "168it [02:31,  1.11it/s]\n",
      "168it [00:44,  3.81it/s]\n",
      "24it [00:06,  3.66it/s]\n",
      "168it [02:46,  1.01it/s]\n",
      "168it [00:44,  3.75it/s]\n",
      "24it [00:06,  3.71it/s]\n",
      "168it [02:34,  1.08it/s]\n",
      "168it [00:46,  3.61it/s]\n",
      "24it [00:06,  3.65it/s]\n",
      "168it [02:28,  1.13it/s]\n",
      "168it [00:46,  3.58it/s]\n",
      "24it [00:06,  3.53it/s]\n",
      "168it [02:33,  1.10it/s]\n",
      "168it [00:46,  3.63it/s]\n",
      "24it [00:06,  3.80it/s]\n",
      "168it [02:29,  1.12it/s]\n",
      "168it [00:46,  3.58it/s]\n",
      "24it [00:06,  3.52it/s]\n",
      "168it [02:32,  1.10it/s]\n",
      "168it [00:45,  3.66it/s]\n",
      "24it [00:04,  5.07it/s]\n",
      "168it [02:43,  1.03it/s]\n",
      "168it [00:46,  3.65it/s]\n",
      "24it [00:06,  3.54it/s]\n",
      "168it [02:35,  1.08it/s]\n",
      "168it [00:45,  3.73it/s]\n",
      "24it [00:06,  3.56it/s]\n",
      "168it [02:35,  1.08it/s]\n",
      "168it [00:44,  3.73it/s]\n",
      "24it [00:06,  3.71it/s]\n",
      "19it [00:17,  1.07it/s]"
     ]
    }
   ],
   "source": [
    "wandb.watch(model)\n",
    "\n",
    "max_ssim = 0\n",
    "\n",
    "for epoch in range(EPOCH):\n",
    "        \n",
    "        loss_mse, loss_mae, loss_ssim = train_epoch(model, optimizer, trainloader, device)\n",
    "        score_ssim_train, score_psnr_train = eval_epoch(model, trainloader, device)\n",
    "        score_ssim_test, score_psnr_test = eval_epoch(model, testloader, device)\n",
    "\n",
    "        \n",
    "        wandb.log({\n",
    "            \"mse loss\": loss_mse,\n",
    "            \"ssim loss\": loss_ssim,\n",
    "            \"mae loss\": loss_mae,\n",
    "            \"trainset ssim score\": score_ssim_train,\n",
    "            \"trainset psnr score\": score_psnr_train,\n",
    "            \"testset ssim score\": score_ssim_test,\n",
    "            \"testset psnr score\": score_psnr_test\n",
    "        })\n",
    "        \n",
    "        \n",
    "        if score_ssim_test > max_ssim:\n",
    "            max_ssim = score_ssim_test\n",
    "            checkpoint = {\n",
    "                \"model\": model.state_dict(),\n",
    "                \"optimizer\": optimizer.state_dict()\n",
    "            }\n",
    "            torch.save(checkpoint, os.path.join(\"{}.pth\".format(wandb.run.name)))"
   ]
  },
  {
   "cell_type": "code",
   "execution_count": null,
   "metadata": {},
   "outputs": [],
   "source": []
  }
 ],
 "metadata": {
  "kernelspec": {
   "display_name": "Python 3",
   "language": "python",
   "name": "python3"
  },
  "language_info": {
   "codemirror_mode": {
    "name": "ipython",
    "version": 3
   },
   "file_extension": ".py",
   "mimetype": "text/x-python",
   "name": "python",
   "nbconvert_exporter": "python",
   "pygments_lexer": "ipython3",
   "version": "3.8.5"
  }
 },
 "nbformat": 4,
 "nbformat_minor": 5
}
