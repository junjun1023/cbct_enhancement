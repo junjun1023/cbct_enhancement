{
 "cells": [
  {
   "cell_type": "code",
   "execution_count": 1,
   "metadata": {},
   "outputs": [],
   "source": [
    "import os\n",
    "\n",
    "import torch\n",
    "import torch.nn as nn\n",
    "import torch.nn.functional as F\n",
    "import torch.optim as optim\n",
    "from torch.utils.data import DataLoader, Subset, ConcatDataset\n",
    "\n",
    "import cv2\n",
    "import numpy as np\n",
    "import pandas as pd\n",
    "from tqdm import tqdm\n",
    "import random"
   ]
  },
  {
   "cell_type": "code",
   "execution_count": 2,
   "metadata": {},
   "outputs": [],
   "source": [
    "import segmentation_models_pytorch as smp\n",
    "from segmentation_models_pytorch.losses import DiceLoss\n",
    "from segmentation_models_pytorch.utils.metrics import IoU, Fscore"
   ]
  },
  {
   "cell_type": "code",
   "execution_count": 3,
   "metadata": {},
   "outputs": [],
   "source": [
    "import matplotlib.pyplot as plt\n",
    "\n",
    "# helper function for data visualization\n",
    "def visualize(**images):\n",
    "    \"\"\"PLot images in one row.\"\"\"\n",
    "    n = len(images)\n",
    "    plt.figure(figsize=(16, 5))\n",
    "    for i, (name, image) in enumerate(images.items()):\n",
    "        plt.subplot(1, n, i + 1)\n",
    "        plt.xticks([])\n",
    "        plt.yticks([])\n",
    "        plt.title(' '.join(name.split('_')).title())\n",
    "        plt.imshow(image, 'gray')\n",
    "    plt.show()"
   ]
  },
  {
   "cell_type": "markdown",
   "metadata": {},
   "source": [
    "# Settings"
   ]
  },
  {
   "cell_type": "code",
   "execution_count": 4,
   "metadata": {},
   "outputs": [],
   "source": [
    "root = os.getcwd()\n",
    "device = torch.device(\"cuda:0\" if torch.cuda.is_available() else \"cpu\")\n",
    "\n",
    "BATCH = 24\n",
    "IN_CHANNELS = 1\n",
    "N_CLASSES = 1\n",
    "EPOCH =200\n",
    "\n",
    "WL=0\n",
    "WW=1000"
   ]
  },
  {
   "cell_type": "markdown",
   "metadata": {},
   "source": [
    "### Model Settings"
   ]
  },
  {
   "cell_type": "markdown",
   "metadata": {},
   "source": [
    "#### encoder"
   ]
  },
  {
   "cell_type": "code",
   "execution_count": 5,
   "metadata": {},
   "outputs": [],
   "source": [
    "ENCODER = \"resnet152\"\n",
    "ENCODER_WEIGHT = None"
   ]
  },
  {
   "cell_type": "markdown",
   "metadata": {},
   "source": [
    "#### decoder"
   ]
  },
  {
   "cell_type": "code",
   "execution_count": 6,
   "metadata": {},
   "outputs": [],
   "source": [
    "DECODER_ATT = \"scse\""
   ]
  },
  {
   "cell_type": "markdown",
   "metadata": {},
   "source": [
    "#### head"
   ]
  },
  {
   "cell_type": "code",
   "execution_count": 7,
   "metadata": {},
   "outputs": [],
   "source": [
    "ACT = \"hardtanh\"\n",
    "AUX_PARAM = None"
   ]
  },
  {
   "cell_type": "markdown",
   "metadata": {},
   "source": [
    "### Optimizer Settings"
   ]
  },
  {
   "cell_type": "code",
   "execution_count": 8,
   "metadata": {},
   "outputs": [],
   "source": [
    "OPTIM_NAME = \"adam\"\n",
    "init_lr = 3e-4\n",
    "momentum = 0.9"
   ]
  },
  {
   "cell_type": "markdown",
   "metadata": {},
   "source": [
    "# Epochs"
   ]
  },
  {
   "cell_type": "code",
   "execution_count": 9,
   "metadata": {},
   "outputs": [],
   "source": [
    "from codes.losses import SSIMLoss\n",
    "from codes.losses import MAELoss\n",
    "from pytorch_msssim import ssim\n",
    "from codes.metrics import PSNR, SNR\n",
    "from codes.activation import Activation"
   ]
  },
  {
   "cell_type": "code",
   "execution_count": 10,
   "metadata": {},
   "outputs": [],
   "source": [
    "def train_epoch(model, optimizer, dataloader, device):\n",
    "  \n",
    "    # change mode to train and move to current device\n",
    "    model = model.train().to(device)\n",
    "\n",
    "    mse_l = 0\n",
    "    ssim_l = 0\n",
    "    mae_l = 0\n",
    "    for index, data in tqdm(enumerate(dataloader)):\n",
    "\n",
    "        x, y, *_ = data\n",
    "\n",
    "        x = x.to(device)\n",
    "        y = y.to(device)\n",
    "\n",
    "        y_pr = model(x)\n",
    "        y_pr = Activation(name=\"hardtanh\")(y_pr) # zipped value to [0, 1]\n",
    "        \n",
    "        _mse = nn.MSELoss()(y_pr.float(), y.float())\n",
    "        _mae = MAELoss()(y_pr.float(), y.float())\n",
    "        _ssim =SSIMLoss()(y_pr, y, data_range=1.0, size_average=True) # return (N,)\n",
    "\n",
    "        _loss = _mse + _ssim + _mae\n",
    "                        \n",
    "        \n",
    "        optimizer.zero_grad()\n",
    "        _loss.backward()\n",
    "        optimizer.step()\n",
    "\n",
    "        mse_l += _mse.item()\n",
    "        ssim_l += _ssim.item()\n",
    "        mae_l += _mae.item()\n",
    "\n",
    "    return  mse_l/(index+1), mae_l/(index+1), ssim_l/(index+1)"
   ]
  },
  {
   "cell_type": "code",
   "execution_count": 11,
   "metadata": {},
   "outputs": [],
   "source": [
    "@torch.no_grad()\n",
    "def eval_epoch(model, dataloader, device):\n",
    "  \n",
    "    # change mode to train and move to current device\n",
    "    model = model.eval().to(device)\n",
    "\n",
    "    ssim_ = []\n",
    "    psnr_ = []\n",
    "    mae_ = []\n",
    "    snr_ = []\n",
    "    for index, data in tqdm(enumerate(dataloader)):\n",
    "\n",
    "        x, y, *_ = data\n",
    "\n",
    "        x = x.to(device)\n",
    "        y = y.to(device)\n",
    "\n",
    "        y_pr = model(x)\n",
    "        y_pr = Activation(name=\"hardtanh\")(y_pr) # zipped value to [0, 1]\n",
    "        \n",
    "        _ssim = ssim(y, y_pr, data_range=1.0, size_average=True) # return (N,)\n",
    "        _psnr = PSNR()(y_pr, y, 1.0)\n",
    "        _snr = SNR()(y_pr, y)\n",
    "        _mae = MAELoss()(y_pr.float(), y.float())\n",
    "\n",
    "        ssim_ += [_ssim.item()]\n",
    "        psnr_ += [_psnr.item()]\n",
    "        mae_ += [_mae.item()]\n",
    "        snr_ += [_snr.item()]\n",
    "\n",
    "    return  sum(ssim_)/len(ssim_), sum(psnr_)/len(psnr_), sum(snr_)/len(snr_), sum(mae_)/len(mae_)"
   ]
  },
  {
   "cell_type": "code",
   "execution_count": 12,
   "metadata": {},
   "outputs": [],
   "source": [
    "@torch.no_grad()\n",
    "def test_epoch(model, dataloader, device):\n",
    "  \n",
    "    # change mode to train and move to current device\n",
    "    model = model.eval().to(device)\n",
    "\n",
    "    ssim = 0\n",
    "    psnr = 0\n",
    "    for index, data in tqdm(enumerate(dataloader)):\n",
    "\n",
    "        _, _, *hu_bins = data\n",
    "\n",
    "        \n",
    "        for i in range(0, len(hu_bins), 2):\n",
    "            x = hu_bins[i]\n",
    "            y = hu_bins[i+1]\n",
    "        \n",
    "            x = x.to(device)\n",
    "            y = y.to(device)\n",
    "\n",
    "            y_pr = model(x)\n",
    "            y_pr = Activation(name=\"hardtanh\")(y_pr) # zipped value to [0, 1]\n",
    "            \n",
    "            x = (x.squeeze().cpu().numpy() * 255).astype(np.uint8)\n",
    "            y = (y.squeeze().cpu().numpy() * 255).astype(np.uint8)\n",
    "            \n",
    "            print(torch.max(y_pr), torch.min(y_pr))\n",
    "            \n",
    "            y_pr = (y_pr.squeeze().cpu().numpy() * 255).astype(np.uint8)\n",
    "\n",
    "            for b in range(x.shape[0]):\n",
    "                visualize(\n",
    "                    cbct = x[b, :, :],\n",
    "                    ct_y = y[b, :, :],\n",
    "                    ct_pred = y_pr[b, :, :],\n",
    "                )\n"
   ]
  },
  {
   "cell_type": "markdown",
   "metadata": {},
   "source": [
    "# Read Data"
   ]
  },
  {
   "cell_type": "code",
   "execution_count": 13,
   "metadata": {},
   "outputs": [],
   "source": [
    "from codes.dataset import Dataset\n",
    "import codes.augmentation as aug"
   ]
  },
  {
   "cell_type": "code",
   "execution_count": 14,
   "metadata": {},
   "outputs": [],
   "source": [
    "train_case_path = 'data/train/*_*'\n",
    "test_case_path = 'data/test/*_*'"
   ]
  },
  {
   "cell_type": "code",
   "execution_count": 15,
   "metadata": {},
   "outputs": [],
   "source": [
    "trainset = Dataset(path=train_case_path, intensity_aug=aug.training_intensity_augmentation(), geometry_aug=aug.get_training_augmentation())\n",
    "testset = Dataset(test_case_path, intensity_aug=aug.validation_intensity_augmentation(), geometry_aug=aug.get_validation_augmentation())"
   ]
  },
  {
   "cell_type": "code",
   "execution_count": 16,
   "metadata": {},
   "outputs": [
    {
     "data": {
      "text/plain": [
       "(1344, 191)"
      ]
     },
     "execution_count": 16,
     "metadata": {},
     "output_type": "execute_result"
    }
   ],
   "source": [
    "len(trainset), len(testset)"
   ]
  },
  {
   "cell_type": "code",
   "execution_count": 17,
   "metadata": {},
   "outputs": [],
   "source": [
    "x, y, *_ = trainset[20]"
   ]
  },
  {
   "cell_type": "code",
   "execution_count": 18,
   "metadata": {},
   "outputs": [
    {
     "data": {
      "text/plain": [
       "(<matplotlib.image.AxesImage at 0x7ff922e596a0>,)"
      ]
     },
     "execution_count": 18,
     "metadata": {},
     "output_type": "execute_result"
    },
    {
     "data": {
      "image/png": "[encoded data removed]",
      "text/plain": [
       "<Figure size 432x288 with 1 Axes>"
      ]
     },
     "metadata": {
      "needs_background": "light"
     },
     "output_type": "display_data"
    }
   ],
   "source": [
    "plt.imshow(x.squeeze(), 'gray'),"
   ]
  },
  {
   "cell_type": "code",
   "execution_count": 19,
   "metadata": {},
   "outputs": [
    {
     "data": {
      "text/plain": [
       "<matplotlib.image.AxesImage at 0x7ff9228a1be0>"
      ]
     },
     "execution_count": 19,
     "metadata": {},
     "output_type": "execute_result"
    },
    {
     "data": {
      "image/png": "[encoded data removed]",
      "text/plain": [
       "<Figure size 432x288 with 1 Axes>"
      ]
     },
     "metadata": {
      "needs_background": "light"
     },
     "output_type": "display_data"
    }
   ],
   "source": [
    "plt.imshow(y.squeeze(), 'gray')"
   ]
  },
  {
   "cell_type": "code",
   "execution_count": 20,
   "metadata": {},
   "outputs": [
    {
     "data": {
      "text/plain": [
       "((1, 384, 384), (1, 384, 384))"
      ]
     },
     "execution_count": 20,
     "metadata": {},
     "output_type": "execute_result"
    }
   ],
   "source": [
    "x.shape, y.shape"
   ]
  },
  {
   "cell_type": "markdown",
   "metadata": {},
   "source": [
    "# training"
   ]
  },
  {
   "cell_type": "code",
   "execution_count": 21,
   "metadata": {},
   "outputs": [
    {
     "name": "stderr",
     "output_type": "stream",
     "text": [
      "\u001b[34m\u001b[1mwandb\u001b[0m: Currently logged in as: \u001b[33mjunjun\u001b[0m (use `wandb login --relogin` to force relogin)\n",
      "\u001b[34m\u001b[1mwandb\u001b[0m: wandb version 0.12.9 is available!  To upgrade, please run:\n",
      "\u001b[34m\u001b[1mwandb\u001b[0m:  $ pip install wandb --upgrade\n"
     ]
    },
    {
     "data": {
      "text/html": [
       "\n",
       "                Tracking run with wandb version 0.12.2<br/>\n",
       "                Syncing run <strong style=\"color:#cdcd00\">stellar-tree-31</strong> to <a href=\"https://wandb.ai\" target=\"_blank\">Weights & Biases</a> <a href=\"https://docs.wandb.com/integrations/jupyter.html\" target=\"_blank\">(Documentation)</a>.<br/>\n",
       "                Project page: <a href=\"https://wandb.ai/junjun/cbct\" target=\"_blank\">https://wandb.ai/junjun/cbct</a><br/>\n",
       "                Run page: <a href=\"https://wandb.ai/junjun/cbct/runs/3onyk27s\" target=\"_blank\">https://wandb.ai/junjun/cbct/runs/3onyk27s</a><br/>\n",
       "                Run data is saved locally in <code>/home/june/cbct_enhancement/wandb/run-20220110_033037-3onyk27s</code><br/><br/>\n",
       "            "
      ],
      "text/plain": [
       "<IPython.core.display.HTML object>"
      ]
     },
     "metadata": {},
     "output_type": "display_data"
    },
    {
     "data": {
      "text/html": [
       "<h1>Run(3onyk27s)</h1><iframe src=\"https://wandb.ai/junjun/cbct/runs/3onyk27s\" style=\"border:none;width:100%;height:400px\"></iframe>"
      ],
      "text/plain": [
       "<wandb.sdk.wandb_run.Run at 0x7ff922a0a670>"
      ]
     },
     "execution_count": 21,
     "metadata": {},
     "output_type": "execute_result"
    }
   ],
   "source": [
    "import wandb\n",
    "\n",
    "wandb.init(project=\"cbct\", config={\n",
    "    \"data\": {\n",
    "        \"in_channels\": IN_CHANNELS,\n",
    "        \"out_channels\": N_CLASSES,\n",
    "        \"batchsize\": BATCH,\n",
    "    },\n",
    "    \"epochs\": EPOCH,\n",
    "    \"model\": {\n",
    "        \"optimizer\": OPTIM_NAME,\n",
    "        \"init_lr\": init_lr,\n",
    "        \"momentum\": momentum,\n",
    "        \"encoder\": ENCODER,\n",
    "        \"encoder_weight\": ENCODER_WEIGHT,\n",
    "        \"activation\": ACT,\n",
    "        \"decoder_attention_type\": DECODER_ATT\n",
    "    }\n",
    "})"
   ]
  },
  {
   "cell_type": "code",
   "execution_count": 22,
   "metadata": {},
   "outputs": [],
   "source": [
    "trainloader = torch.utils.data.DataLoader(trainset, batch_size=BATCH, shuffle=True, num_workers=8)\n",
    "testloader = torch.utils.data.DataLoader(testset, batch_size=BATCH, shuffle=False, num_workers=4)"
   ]
  },
  {
   "cell_type": "code",
   "execution_count": 23,
   "metadata": {},
   "outputs": [],
   "source": [
    "import segmentation_models_pytorch as smp\n",
    "import torch\n",
    "\n",
    "model = smp.Unet(encoder_name=ENCODER, encoder_weights=ENCODER_WEIGHT, in_channels=IN_CHANNELS, classes=N_CLASSES)"
   ]
  },
  {
   "cell_type": "code",
   "execution_count": 24,
   "metadata": {},
   "outputs": [],
   "source": [
    "from codes.optimizer import Optimizer\n",
    "# optimizer = optim.SGD(model.parameters(), lr=init_lr, momentum=momentum)\n",
    "optimizer = Optimizer(model.parameters(), name=OPTIM_NAME, lr=init_lr)"
   ]
  },
  {
   "cell_type": "code",
   "execution_count": 25,
   "metadata": {
    "scrolled": true
   },
   "outputs": [
    {
     "name": "stderr",
     "output_type": "stream",
     "text": [
      "56it [00:52,  1.06it/s]\n",
      "56it [00:15,  3.62it/s]\n",
      "8it [00:02,  3.02it/s]\n",
      "56it [00:52,  1.07it/s]\n",
      "56it [00:15,  3.60it/s]\n",
      "8it [00:02,  3.01it/s]\n",
      "56it [00:52,  1.07it/s]\n",
      "56it [00:15,  3.59it/s]\n",
      "8it [00:02,  2.98it/s]\n",
      "56it [00:52,  1.07it/s]\n",
      "56it [00:15,  3.60it/s]\n",
      "8it [00:02,  3.00it/s]\n",
      "56it [00:52,  1.07it/s]\n",
      "56it [00:15,  3.59it/s]\n",
      "8it [00:02,  2.99it/s]\n",
      "56it [00:52,  1.06it/s]\n",
      "56it [00:15,  3.56it/s]\n",
      "8it [00:02,  2.99it/s]\n",
      "56it [00:52,  1.06it/s]\n",
      "56it [00:15,  3.57it/s]\n",
      "8it [00:02,  2.98it/s]\n",
      "56it [00:52,  1.06it/s]\n",
      "56it [00:15,  3.58it/s]\n",
      "8it [00:02,  2.98it/s]\n",
      "56it [00:52,  1.06it/s]\n",
      "56it [00:15,  3.59it/s]\n",
      "8it [00:02,  2.98it/s]\n",
      "56it [00:52,  1.06it/s]\n",
      "56it [00:15,  3.60it/s]\n",
      "8it [00:02,  2.97it/s]\n",
      "56it [00:52,  1.06it/s]\n",
      "56it [00:15,  3.57it/s]\n",
      "8it [00:02,  2.98it/s]\n",
      "56it [00:52,  1.06it/s]\n",
      "56it [00:15,  3.57it/s]\n",
      "8it [00:02,  2.98it/s]\n",
      "56it [00:52,  1.06it/s]\n",
      "56it [00:15,  3.58it/s]\n",
      "8it [00:02,  2.98it/s]\n",
      "56it [00:52,  1.06it/s]\n",
      "56it [00:15,  3.58it/s]\n",
      "8it [00:02,  2.97it/s]\n",
      "56it [00:52,  1.06it/s]\n",
      "56it [00:15,  3.57it/s]\n",
      "8it [00:02,  2.98it/s]\n",
      "56it [00:52,  1.06it/s]\n",
      "56it [00:15,  3.59it/s]\n",
      "8it [00:02,  2.97it/s]\n",
      "56it [00:52,  1.06it/s]\n",
      "56it [00:15,  3.59it/s]\n",
      "8it [00:02,  2.97it/s]\n",
      "56it [00:53,  1.05it/s]\n",
      "56it [00:15,  3.56it/s]\n",
      "8it [00:02,  2.98it/s]\n",
      "56it [00:52,  1.06it/s]\n",
      "56it [00:15,  3.57it/s]\n",
      "8it [00:02,  2.98it/s]\n",
      "56it [00:52,  1.06it/s]\n",
      "56it [00:15,  3.57it/s]\n",
      "8it [00:02,  2.96it/s]\n",
      "56it [00:52,  1.06it/s]\n",
      "56it [00:15,  3.54it/s]\n",
      "8it [00:02,  2.98it/s]\n",
      "56it [00:52,  1.06it/s]\n",
      "56it [00:15,  3.58it/s]\n",
      "8it [00:02,  2.97it/s]\n",
      "56it [00:52,  1.06it/s]\n",
      "56it [00:15,  3.57it/s]\n",
      "8it [00:02,  2.98it/s]\n",
      "56it [00:52,  1.06it/s]\n",
      "56it [00:15,  3.57it/s]\n",
      "8it [00:02,  2.95it/s]\n",
      "56it [00:52,  1.06it/s]\n",
      "56it [00:15,  3.56it/s]\n",
      "8it [00:02,  2.97it/s]\n",
      "56it [00:52,  1.06it/s]\n",
      "56it [00:15,  3.57it/s]\n",
      "8it [00:02,  2.97it/s]\n",
      "56it [00:52,  1.06it/s]\n",
      "56it [00:15,  3.57it/s]\n",
      "8it [00:02,  2.98it/s]\n",
      "56it [00:52,  1.06it/s]\n",
      "56it [00:15,  3.56it/s]\n",
      "8it [00:02,  2.98it/s]\n",
      "56it [00:52,  1.06it/s]\n",
      "56it [00:15,  3.58it/s]\n",
      "8it [00:02,  2.97it/s]\n",
      "56it [00:52,  1.06it/s]\n",
      "56it [00:15,  3.57it/s]\n",
      "8it [00:02,  2.98it/s]\n",
      "56it [00:52,  1.06it/s]\n",
      "56it [00:15,  3.58it/s]\n",
      "8it [00:02,  2.96it/s]\n",
      "56it [00:53,  1.05it/s]\n",
      "56it [00:15,  3.57it/s]\n",
      "8it [00:02,  2.97it/s]\n",
      "56it [00:52,  1.06it/s]\n",
      "56it [00:15,  3.57it/s]\n",
      "8it [00:02,  2.97it/s]\n",
      "56it [00:52,  1.06it/s]\n",
      "56it [00:15,  3.58it/s]\n",
      "8it [00:02,  2.97it/s]\n",
      "56it [00:52,  1.06it/s]\n",
      "56it [00:16,  3.50it/s]\n",
      "8it [00:02,  2.98it/s]\n",
      "56it [00:52,  1.06it/s]\n",
      "56it [00:15,  3.56it/s]\n",
      "8it [00:02,  2.95it/s]\n",
      "56it [00:52,  1.06it/s]\n",
      "56it [00:15,  3.57it/s]\n",
      "8it [00:02,  2.97it/s]\n",
      "56it [00:52,  1.06it/s]\n",
      "56it [00:15,  3.57it/s]\n",
      "8it [00:02,  2.97it/s]\n",
      "56it [00:52,  1.06it/s]\n",
      "56it [00:15,  3.56it/s]\n",
      "8it [00:02,  2.97it/s]\n",
      "56it [00:52,  1.06it/s]\n",
      "56it [00:15,  3.57it/s]\n",
      "8it [00:02,  2.96it/s]\n",
      "56it [00:52,  1.06it/s]\n",
      "56it [00:15,  3.58it/s]\n",
      "8it [00:02,  2.97it/s]\n",
      "56it [00:52,  1.06it/s]\n",
      "56it [00:15,  3.58it/s]\n",
      "8it [00:02,  2.97it/s]\n",
      "56it [00:52,  1.06it/s]\n",
      "56it [00:15,  3.57it/s]\n",
      "8it [00:02,  2.96it/s]\n",
      "56it [00:52,  1.06it/s]\n",
      "56it [00:15,  3.56it/s]\n",
      "8it [00:02,  2.96it/s]\n",
      "56it [00:52,  1.06it/s]\n",
      "56it [00:15,  3.52it/s]\n",
      "8it [00:02,  2.95it/s]\n",
      "56it [00:52,  1.06it/s]\n",
      "56it [00:15,  3.57it/s]\n",
      "8it [00:02,  2.95it/s]\n",
      "56it [00:52,  1.06it/s]\n",
      "56it [00:15,  3.57it/s]\n",
      "8it [00:02,  2.96it/s]\n",
      "56it [00:52,  1.06it/s]\n",
      "56it [00:15,  3.57it/s]\n",
      "8it [00:02,  2.94it/s]\n",
      "56it [00:52,  1.06it/s]\n",
      "56it [00:15,  3.58it/s]\n",
      "8it [00:02,  2.94it/s]\n",
      "56it [00:52,  1.06it/s]\n",
      "56it [00:15,  3.58it/s]\n",
      "8it [00:02,  2.95it/s]\n",
      "56it [00:52,  1.06it/s]\n",
      "56it [00:15,  3.57it/s]\n",
      "8it [00:02,  2.95it/s]\n",
      "56it [00:52,  1.06it/s]\n",
      "56it [00:15,  3.58it/s]\n",
      "8it [00:02,  2.96it/s]\n",
      "56it [00:52,  1.06it/s]\n",
      "56it [00:15,  3.57it/s]\n",
      "8it [00:02,  2.96it/s]\n",
      "56it [00:52,  1.06it/s]\n",
      "56it [00:15,  3.57it/s]\n",
      "8it [00:02,  2.95it/s]\n",
      "56it [00:52,  1.06it/s]\n",
      "56it [00:15,  3.56it/s]\n",
      "8it [00:02,  2.96it/s]\n",
      "56it [00:52,  1.06it/s]\n",
      "56it [00:15,  3.57it/s]\n",
      "8it [00:02,  2.96it/s]\n",
      "56it [00:52,  1.06it/s]\n",
      "56it [00:15,  3.56it/s]\n",
      "8it [00:02,  2.95it/s]\n",
      "56it [00:52,  1.06it/s]\n",
      "56it [00:15,  3.57it/s]\n",
      "8it [00:02,  2.95it/s]\n",
      "56it [00:52,  1.06it/s]\n",
      "56it [00:15,  3.56it/s]\n",
      "8it [00:02,  2.96it/s]\n",
      "56it [00:52,  1.06it/s]\n",
      "56it [00:15,  3.58it/s]\n",
      "8it [00:02,  2.97it/s]\n",
      "56it [00:52,  1.06it/s]\n",
      "56it [00:15,  3.58it/s]\n",
      "8it [00:02,  2.96it/s]\n",
      "56it [00:52,  1.06it/s]\n",
      "56it [00:15,  3.56it/s]\n",
      "8it [00:02,  2.94it/s]\n",
      "56it [00:52,  1.06it/s]\n",
      "56it [00:15,  3.56it/s]\n",
      "8it [00:02,  2.95it/s]\n",
      "56it [00:52,  1.06it/s]\n",
      "56it [00:15,  3.57it/s]\n",
      "8it [00:02,  2.95it/s]\n",
      "56it [00:52,  1.06it/s]\n",
      "56it [00:15,  3.57it/s]\n",
      "8it [00:02,  2.96it/s]\n",
      "56it [00:52,  1.06it/s]\n",
      "56it [00:15,  3.57it/s]\n",
      "8it [00:02,  2.96it/s]\n",
      "56it [00:52,  1.06it/s]\n",
      "56it [00:15,  3.58it/s]\n",
      "8it [00:02,  2.95it/s]\n",
      "56it [00:52,  1.06it/s]\n",
      "56it [00:15,  3.57it/s]\n",
      "8it [00:02,  2.96it/s]\n",
      "56it [00:52,  1.06it/s]\n",
      "56it [00:15,  3.57it/s]\n",
      "8it [00:02,  2.96it/s]\n",
      "56it [00:52,  1.06it/s]\n",
      "56it [00:15,  3.56it/s]\n",
      "8it [00:02,  2.95it/s]\n",
      "56it [00:52,  1.06it/s]\n",
      "56it [00:15,  3.56it/s]\n",
      "8it [00:02,  2.93it/s]\n",
      "56it [00:53,  1.05it/s]\n",
      "56it [00:15,  3.56it/s]\n",
      "8it [00:02,  2.95it/s]\n",
      "56it [00:52,  1.06it/s]\n",
      "56it [00:15,  3.56it/s]\n",
      "8it [00:02,  2.96it/s]\n",
      "56it [00:52,  1.06it/s]\n",
      "56it [00:15,  3.51it/s]\n",
      "8it [00:02,  2.71it/s]\n",
      "56it [00:53,  1.05it/s]\n",
      "56it [00:15,  3.57it/s]\n",
      "8it [00:02,  2.96it/s]\n",
      "56it [00:52,  1.06it/s]\n",
      "56it [00:15,  3.55it/s]\n",
      "8it [00:02,  2.95it/s]\n",
      "56it [00:52,  1.06it/s]\n",
      "56it [00:15,  3.56it/s]\n",
      "8it [00:02,  2.96it/s]\n",
      "56it [00:53,  1.05it/s]\n",
      "56it [00:15,  3.55it/s]\n",
      "8it [00:02,  2.95it/s]\n",
      "56it [00:53,  1.06it/s]\n",
      "56it [00:15,  3.56it/s]\n",
      "8it [00:02,  2.95it/s]\n",
      "56it [00:52,  1.06it/s]\n",
      "56it [00:15,  3.56it/s]\n",
      "8it [00:02,  2.96it/s]\n",
      "56it [00:52,  1.06it/s]\n",
      "56it [00:15,  3.56it/s]\n",
      "8it [00:02,  2.95it/s]\n",
      "56it [00:52,  1.06it/s]\n",
      "56it [00:15,  3.56it/s]\n",
      "8it [00:02,  2.94it/s]\n",
      "56it [00:52,  1.06it/s]\n",
      "56it [00:15,  3.57it/s]\n",
      "8it [00:02,  2.94it/s]\n",
      "56it [00:52,  1.06it/s]\n",
      "56it [00:15,  3.55it/s]\n",
      "8it [00:02,  2.95it/s]\n",
      "56it [00:52,  1.06it/s]\n",
      "56it [00:15,  3.55it/s]\n",
      "8it [00:02,  2.96it/s]\n",
      "56it [00:52,  1.06it/s]\n",
      "56it [00:15,  3.51it/s]\n",
      "8it [00:02,  2.95it/s]\n",
      "56it [00:52,  1.06it/s]\n",
      "56it [00:15,  3.54it/s]\n",
      "8it [00:02,  2.95it/s]\n",
      "56it [00:52,  1.06it/s]\n",
      "56it [00:15,  3.56it/s]\n",
      "8it [00:02,  2.96it/s]\n",
      "56it [00:52,  1.06it/s]\n",
      "56it [00:15,  3.56it/s]\n",
      "8it [00:02,  2.94it/s]\n",
      "56it [00:53,  1.05it/s]\n",
      "56it [00:15,  3.55it/s]\n",
      "8it [00:02,  2.94it/s]\n",
      "56it [00:52,  1.06it/s]\n",
      "56it [00:15,  3.55it/s]\n",
      "8it [00:02,  2.95it/s]\n",
      "56it [00:52,  1.06it/s]\n",
      "56it [00:15,  3.54it/s]\n",
      "8it [00:02,  2.96it/s]\n",
      "56it [00:52,  1.06it/s]\n",
      "56it [00:15,  3.55it/s]\n",
      "8it [00:02,  2.95it/s]\n",
      "56it [00:53,  1.06it/s]\n",
      "56it [00:15,  3.55it/s]\n",
      "8it [00:02,  2.96it/s]\n",
      "56it [00:52,  1.06it/s]\n",
      "56it [00:15,  3.55it/s]\n",
      "8it [00:02,  2.96it/s]\n",
      "56it [00:52,  1.06it/s]\n",
      "56it [00:15,  3.56it/s]\n",
      "8it [00:02,  2.95it/s]\n",
      "56it [00:52,  1.06it/s]\n",
      "56it [00:15,  3.55it/s]\n",
      "8it [00:02,  2.96it/s]\n",
      "56it [00:52,  1.06it/s]\n",
      "56it [00:15,  3.56it/s]\n",
      "8it [00:02,  2.95it/s]\n",
      "56it [00:52,  1.06it/s]\n",
      "56it [00:15,  3.56it/s]\n",
      "8it [00:02,  2.95it/s]\n",
      "56it [00:52,  1.06it/s]\n",
      "56it [00:15,  3.58it/s]\n",
      "8it [00:02,  2.96it/s]\n",
      "56it [00:52,  1.06it/s]\n",
      "56it [00:15,  3.56it/s]\n",
      "8it [00:02,  2.95it/s]\n",
      "56it [00:52,  1.06it/s]\n",
      "56it [00:15,  3.56it/s]\n",
      "8it [00:02,  2.95it/s]\n",
      "56it [00:52,  1.06it/s]\n",
      "56it [00:15,  3.56it/s]\n",
      "8it [00:02,  2.96it/s]\n",
      "56it [00:52,  1.06it/s]\n",
      "56it [00:15,  3.54it/s]\n",
      "8it [00:02,  2.95it/s]\n",
      "56it [00:52,  1.06it/s]\n",
      "56it [00:15,  3.55it/s]\n",
      "8it [00:02,  2.95it/s]\n",
      "56it [00:52,  1.06it/s]\n",
      "56it [00:15,  3.57it/s]\n",
      "8it [00:02,  2.96it/s]\n",
      "56it [00:52,  1.06it/s]\n",
      "56it [00:15,  3.57it/s]\n",
      "8it [00:02,  2.95it/s]\n",
      "56it [00:53,  1.05it/s]\n",
      "56it [00:15,  3.56it/s]\n",
      "8it [00:02,  2.95it/s]\n",
      "56it [00:52,  1.06it/s]\n",
      "56it [00:15,  3.58it/s]\n",
      "8it [00:02,  2.93it/s]\n",
      "56it [00:52,  1.06it/s]\n",
      "56it [00:15,  3.55it/s]\n",
      "8it [00:02,  2.95it/s]\n",
      "56it [00:53,  1.06it/s]\n",
      "56it [00:15,  3.57it/s]\n",
      "8it [00:02,  2.96it/s]\n",
      "56it [00:52,  1.06it/s]\n",
      "56it [00:15,  3.58it/s]\n",
      "8it [00:02,  2.95it/s]\n",
      "56it [00:52,  1.06it/s]\n",
      "56it [00:15,  3.57it/s]\n",
      "8it [00:02,  2.96it/s]\n",
      "56it [00:52,  1.06it/s]\n",
      "56it [00:15,  3.56it/s]\n",
      "8it [00:02,  2.96it/s]\n",
      "56it [00:52,  1.06it/s]\n",
      "56it [00:15,  3.58it/s]\n",
      "8it [00:02,  2.94it/s]\n",
      "56it [00:52,  1.06it/s]\n",
      "56it [00:15,  3.56it/s]\n",
      "8it [00:02,  2.96it/s]\n",
      "56it [00:52,  1.06it/s]\n",
      "56it [00:16,  3.50it/s]\n",
      "8it [00:02,  2.96it/s]\n",
      "56it [00:52,  1.06it/s]\n",
      "56it [00:15,  3.57it/s]\n",
      "8it [00:02,  2.95it/s]\n",
      "56it [00:52,  1.06it/s]\n",
      "56it [00:15,  3.57it/s]\n",
      "8it [00:02,  2.95it/s]\n",
      "56it [00:52,  1.06it/s]\n",
      "56it [00:15,  3.57it/s]\n",
      "8it [00:02,  2.95it/s]\n",
      "56it [00:52,  1.06it/s]\n",
      "56it [00:15,  3.54it/s]\n",
      "8it [00:02,  2.95it/s]\n",
      "56it [00:52,  1.06it/s]\n",
      "56it [00:15,  3.57it/s]\n",
      "8it [00:02,  2.95it/s]\n",
      "56it [00:52,  1.06it/s]\n",
      "56it [00:15,  3.58it/s]\n",
      "8it [00:02,  2.95it/s]\n",
      "56it [00:52,  1.06it/s]\n",
      "56it [00:15,  3.56it/s]\n",
      "8it [00:02,  2.95it/s]\n",
      "56it [00:53,  1.06it/s]\n",
      "56it [00:15,  3.58it/s]\n",
      "8it [00:02,  2.95it/s]\n",
      "56it [00:52,  1.06it/s]\n",
      "56it [00:15,  3.52it/s]\n",
      "8it [00:02,  2.95it/s]\n",
      "56it [00:52,  1.06it/s]\n",
      "56it [00:15,  3.57it/s]\n",
      "8it [00:02,  2.92it/s]\n",
      "56it [00:52,  1.06it/s]\n",
      "56it [00:15,  3.56it/s]\n",
      "8it [00:02,  2.96it/s]\n",
      "56it [00:52,  1.06it/s]\n",
      "56it [00:15,  3.58it/s]\n",
      "8it [00:02,  2.96it/s]\n",
      "56it [00:52,  1.06it/s]\n",
      "56it [00:15,  3.52it/s]\n",
      "8it [00:02,  2.95it/s]\n",
      "56it [00:52,  1.06it/s]\n",
      "56it [00:15,  3.56it/s]\n",
      "8it [00:02,  2.95it/s]\n",
      "56it [00:53,  1.06it/s]\n",
      "56it [00:15,  3.55it/s]\n",
      "8it [00:02,  2.96it/s]\n",
      "56it [00:52,  1.06it/s]\n",
      "56it [00:15,  3.56it/s]\n",
      "8it [00:02,  2.95it/s]\n",
      "56it [00:52,  1.06it/s]\n",
      "56it [00:15,  3.56it/s]\n",
      "8it [00:02,  2.95it/s]\n",
      "56it [00:52,  1.06it/s]\n",
      "56it [00:15,  3.56it/s]\n",
      "8it [00:02,  2.96it/s]\n",
      "56it [00:52,  1.06it/s]\n",
      "56it [00:15,  3.57it/s]\n",
      "8it [00:02,  2.95it/s]\n",
      "56it [00:52,  1.06it/s]\n",
      "56it [00:15,  3.57it/s]\n",
      "8it [00:02,  2.96it/s]\n",
      "56it [00:52,  1.06it/s]\n",
      "56it [00:15,  3.58it/s]\n",
      "8it [00:02,  2.94it/s]\n",
      "56it [00:52,  1.06it/s]\n",
      "56it [00:15,  3.56it/s]\n",
      "8it [00:02,  2.96it/s]\n",
      "56it [00:52,  1.06it/s]\n",
      "56it [00:15,  3.57it/s]\n",
      "8it [00:02,  2.94it/s]\n",
      "56it [00:52,  1.06it/s]\n",
      "56it [00:15,  3.58it/s]\n",
      "8it [00:02,  2.95it/s]\n",
      "56it [00:52,  1.06it/s]\n",
      "56it [00:15,  3.57it/s]\n",
      "8it [00:02,  2.96it/s]\n",
      "56it [00:53,  1.05it/s]\n",
      "56it [00:15,  3.56it/s]\n",
      "8it [00:02,  2.95it/s]\n",
      "56it [00:52,  1.06it/s]\n",
      "56it [00:15,  3.57it/s]\n",
      "8it [00:02,  2.96it/s]\n",
      "56it [00:52,  1.06it/s]\n",
      "56it [00:15,  3.56it/s]\n",
      "8it [00:02,  2.94it/s]\n",
      "56it [00:52,  1.06it/s]\n",
      "56it [00:15,  3.57it/s]\n",
      "8it [00:02,  2.96it/s]\n",
      "56it [00:52,  1.06it/s]\n",
      "56it [00:15,  3.51it/s]\n",
      "8it [00:02,  2.94it/s]\n",
      "56it [00:52,  1.06it/s]\n",
      "56it [00:15,  3.56it/s]\n",
      "8it [00:02,  2.96it/s]\n",
      "56it [00:52,  1.06it/s]\n",
      "56it [00:15,  3.56it/s]\n",
      "8it [00:02,  2.95it/s]\n",
      "56it [00:53,  1.06it/s]\n",
      "56it [00:15,  3.52it/s]\n",
      "8it [00:02,  2.95it/s]\n",
      "56it [00:52,  1.06it/s]\n",
      "56it [00:15,  3.55it/s]\n",
      "8it [00:02,  2.95it/s]\n",
      "56it [00:52,  1.06it/s]\n",
      "56it [00:15,  3.54it/s]\n",
      "8it [00:02,  2.94it/s]\n",
      "56it [00:52,  1.06it/s]\n",
      "56it [00:15,  3.54it/s]\n",
      "8it [00:02,  2.94it/s]\n",
      "56it [00:52,  1.06it/s]\n",
      "56it [00:15,  3.56it/s]\n",
      "8it [00:02,  2.95it/s]\n",
      "56it [00:52,  1.06it/s]\n",
      "56it [00:15,  3.57it/s]\n",
      "8it [00:02,  2.95it/s]\n",
      "56it [00:52,  1.06it/s]\n",
      "56it [00:15,  3.56it/s]\n",
      "8it [00:02,  2.95it/s]\n",
      "56it [00:52,  1.06it/s]\n",
      "56it [00:15,  3.58it/s]\n",
      "8it [00:02,  2.95it/s]\n",
      "56it [00:52,  1.06it/s]\n",
      "56it [00:15,  3.50it/s]\n",
      "8it [00:02,  2.94it/s]\n",
      "56it [00:52,  1.06it/s]\n",
      "56it [00:15,  3.55it/s]\n",
      "8it [00:02,  2.95it/s]\n",
      "56it [00:52,  1.06it/s]\n",
      "56it [00:15,  3.56it/s]\n",
      "8it [00:02,  2.93it/s]\n",
      "56it [00:53,  1.05it/s]\n",
      "56it [00:15,  3.55it/s]\n",
      "8it [00:02,  2.96it/s]\n",
      "56it [00:52,  1.06it/s]\n",
      "56it [00:15,  3.57it/s]\n",
      "8it [00:02,  2.95it/s]\n",
      "56it [00:52,  1.06it/s]\n",
      "56it [00:15,  3.57it/s]\n",
      "8it [00:02,  2.95it/s]\n",
      "56it [00:52,  1.06it/s]\n",
      "56it [00:15,  3.56it/s]\n",
      "8it [00:02,  2.95it/s]\n",
      "56it [00:53,  1.06it/s]\n",
      "56it [00:15,  3.55it/s]\n",
      "8it [00:02,  2.95it/s]\n",
      "56it [00:52,  1.06it/s]\n",
      "56it [00:15,  3.56it/s]\n",
      "8it [00:02,  2.95it/s]\n",
      "56it [00:52,  1.06it/s]\n",
      "56it [00:15,  3.55it/s]\n",
      "8it [00:02,  2.95it/s]\n",
      "56it [00:52,  1.06it/s]\n",
      "56it [00:15,  3.56it/s]\n",
      "8it [00:02,  2.96it/s]\n",
      "56it [00:52,  1.06it/s]\n",
      "56it [00:15,  3.57it/s]\n",
      "8it [00:02,  2.95it/s]\n",
      "56it [00:52,  1.06it/s]\n",
      "56it [00:15,  3.55it/s]\n",
      "8it [00:02,  2.95it/s]\n",
      "56it [00:52,  1.06it/s]\n",
      "56it [00:15,  3.57it/s]\n",
      "8it [00:02,  2.94it/s]\n",
      "56it [00:52,  1.06it/s]\n",
      "56it [00:15,  3.57it/s]\n",
      "8it [00:02,  2.95it/s]\n",
      "56it [00:52,  1.06it/s]\n",
      "56it [00:15,  3.56it/s]\n",
      "8it [00:02,  2.95it/s]\n",
      "56it [00:52,  1.06it/s]\n",
      "56it [00:15,  3.56it/s]\n",
      "8it [00:02,  2.95it/s]\n",
      "56it [00:52,  1.06it/s]\n",
      "56it [00:15,  3.57it/s]\n",
      "8it [00:02,  2.94it/s]\n",
      "56it [00:52,  1.06it/s]\n",
      "56it [00:15,  3.56it/s]\n",
      "8it [00:02,  2.95it/s]\n",
      "56it [00:52,  1.06it/s]\n",
      "56it [00:15,  3.54it/s]\n",
      "8it [00:02,  2.95it/s]\n",
      "35it [00:34,  1.03it/s]\n"
     ]
    },
    {
     "ename": "KeyboardInterrupt",
     "evalue": "",
     "output_type": "error",
     "traceback": [
      "\u001b[0;31m---------------------------------------------------------------------------\u001b[0m",
      "\u001b[0;31mKeyboardInterrupt\u001b[0m                         Traceback (most recent call last)",
      "\u001b[0;32m<ipython-input-25-988590931fba>\u001b[0m in \u001b[0;36m<module>\u001b[0;34m\u001b[0m\n\u001b[1;32m      6\u001b[0m \u001b[0;32mfor\u001b[0m \u001b[0mepoch\u001b[0m \u001b[0;32min\u001b[0m \u001b[0mrange\u001b[0m\u001b[0;34m(\u001b[0m\u001b[0mEPOCH\u001b[0m\u001b[0;34m)\u001b[0m\u001b[0;34m:\u001b[0m\u001b[0;34m\u001b[0m\u001b[0;34m\u001b[0m\u001b[0m\n\u001b[1;32m      7\u001b[0m \u001b[0;34m\u001b[0m\u001b[0m\n\u001b[0;32m----> 8\u001b[0;31m         \u001b[0mloss_mse\u001b[0m\u001b[0;34m,\u001b[0m \u001b[0mloss_mae\u001b[0m\u001b[0;34m,\u001b[0m \u001b[0mloss_ssim\u001b[0m \u001b[0;34m=\u001b[0m \u001b[0mtrain_epoch\u001b[0m\u001b[0;34m(\u001b[0m\u001b[0mmodel\u001b[0m\u001b[0;34m,\u001b[0m \u001b[0moptimizer\u001b[0m\u001b[0;34m,\u001b[0m \u001b[0mtrainloader\u001b[0m\u001b[0;34m,\u001b[0m \u001b[0mdevice\u001b[0m\u001b[0;34m)\u001b[0m\u001b[0;34m\u001b[0m\u001b[0;34m\u001b[0m\u001b[0m\n\u001b[0m\u001b[1;32m      9\u001b[0m         \u001b[0mscore_ssim_train\u001b[0m\u001b[0;34m,\u001b[0m \u001b[0mscore_psnr_train\u001b[0m\u001b[0;34m,\u001b[0m \u001b[0mscore_snr_train\u001b[0m\u001b[0;34m,\u001b[0m \u001b[0mscore_mae_train\u001b[0m \u001b[0;34m=\u001b[0m \u001b[0meval_epoch\u001b[0m\u001b[0;34m(\u001b[0m\u001b[0mmodel\u001b[0m\u001b[0;34m,\u001b[0m \u001b[0mtrainloader\u001b[0m\u001b[0;34m,\u001b[0m \u001b[0mdevice\u001b[0m\u001b[0;34m)\u001b[0m\u001b[0;34m\u001b[0m\u001b[0;34m\u001b[0m\u001b[0m\n\u001b[1;32m     10\u001b[0m         \u001b[0mscore_ssim_test\u001b[0m\u001b[0;34m,\u001b[0m \u001b[0mscore_psnr_test\u001b[0m\u001b[0;34m,\u001b[0m \u001b[0mscore_snr_test\u001b[0m\u001b[0;34m,\u001b[0m \u001b[0mscore_mae_test\u001b[0m \u001b[0;34m=\u001b[0m \u001b[0meval_epoch\u001b[0m\u001b[0;34m(\u001b[0m\u001b[0mmodel\u001b[0m\u001b[0;34m,\u001b[0m \u001b[0mtestloader\u001b[0m\u001b[0;34m,\u001b[0m \u001b[0mdevice\u001b[0m\u001b[0;34m)\u001b[0m\u001b[0;34m\u001b[0m\u001b[0;34m\u001b[0m\u001b[0m\n",
      "\u001b[0;32m<ipython-input-10-485692c78f48>\u001b[0m in \u001b[0;36mtrain_epoch\u001b[0;34m(model, optimizer, dataloader, device)\u001b[0m\n\u001b[1;32m     25\u001b[0m \u001b[0;34m\u001b[0m\u001b[0m\n\u001b[1;32m     26\u001b[0m         \u001b[0moptimizer\u001b[0m\u001b[0;34m.\u001b[0m\u001b[0mzero_grad\u001b[0m\u001b[0;34m(\u001b[0m\u001b[0;34m)\u001b[0m\u001b[0;34m\u001b[0m\u001b[0;34m\u001b[0m\u001b[0m\n\u001b[0;32m---> 27\u001b[0;31m         \u001b[0m_loss\u001b[0m\u001b[0;34m.\u001b[0m\u001b[0mbackward\u001b[0m\u001b[0;34m(\u001b[0m\u001b[0;34m)\u001b[0m\u001b[0;34m\u001b[0m\u001b[0;34m\u001b[0m\u001b[0m\n\u001b[0m\u001b[1;32m     28\u001b[0m         \u001b[0moptimizer\u001b[0m\u001b[0;34m.\u001b[0m\u001b[0mstep\u001b[0m\u001b[0;34m(\u001b[0m\u001b[0;34m)\u001b[0m\u001b[0;34m\u001b[0m\u001b[0;34m\u001b[0m\u001b[0m\n\u001b[1;32m     29\u001b[0m \u001b[0;34m\u001b[0m\u001b[0m\n",
      "\u001b[0;32m/opt/conda/lib/python3.8/site-packages/torch/tensor.py\u001b[0m in \u001b[0;36mbackward\u001b[0;34m(self, gradient, retain_graph, create_graph, inputs)\u001b[0m\n\u001b[1;32m    231\u001b[0m                 \u001b[0mcreate_graph\u001b[0m\u001b[0;34m=\u001b[0m\u001b[0mcreate_graph\u001b[0m\u001b[0;34m,\u001b[0m\u001b[0;34m\u001b[0m\u001b[0;34m\u001b[0m\u001b[0m\n\u001b[1;32m    232\u001b[0m                 inputs=inputs)\n\u001b[0;32m--> 233\u001b[0;31m         \u001b[0mtorch\u001b[0m\u001b[0;34m.\u001b[0m\u001b[0mautograd\u001b[0m\u001b[0;34m.\u001b[0m\u001b[0mbackward\u001b[0m\u001b[0;34m(\u001b[0m\u001b[0mself\u001b[0m\u001b[0;34m,\u001b[0m \u001b[0mgradient\u001b[0m\u001b[0;34m,\u001b[0m \u001b[0mretain_graph\u001b[0m\u001b[0;34m,\u001b[0m \u001b[0mcreate_graph\u001b[0m\u001b[0;34m,\u001b[0m \u001b[0minputs\u001b[0m\u001b[0;34m=\u001b[0m\u001b[0minputs\u001b[0m\u001b[0;34m)\u001b[0m\u001b[0;34m\u001b[0m\u001b[0;34m\u001b[0m\u001b[0m\n\u001b[0m\u001b[1;32m    234\u001b[0m \u001b[0;34m\u001b[0m\u001b[0m\n\u001b[1;32m    235\u001b[0m     \u001b[0;32mdef\u001b[0m \u001b[0mregister_hook\u001b[0m\u001b[0;34m(\u001b[0m\u001b[0mself\u001b[0m\u001b[0;34m,\u001b[0m \u001b[0mhook\u001b[0m\u001b[0;34m)\u001b[0m\u001b[0;34m:\u001b[0m\u001b[0;34m\u001b[0m\u001b[0;34m\u001b[0m\u001b[0m\n",
      "\u001b[0;32m/opt/conda/lib/python3.8/site-packages/torch/autograd/__init__.py\u001b[0m in \u001b[0;36mbackward\u001b[0;34m(tensors, grad_tensors, retain_graph, create_graph, grad_variables, inputs)\u001b[0m\n\u001b[1;32m    143\u001b[0m         \u001b[0mretain_graph\u001b[0m \u001b[0;34m=\u001b[0m \u001b[0mcreate_graph\u001b[0m\u001b[0;34m\u001b[0m\u001b[0;34m\u001b[0m\u001b[0m\n\u001b[1;32m    144\u001b[0m \u001b[0;34m\u001b[0m\u001b[0m\n\u001b[0;32m--> 145\u001b[0;31m     Variable._execution_engine.run_backward(\n\u001b[0m\u001b[1;32m    146\u001b[0m         \u001b[0mtensors\u001b[0m\u001b[0;34m,\u001b[0m \u001b[0mgrad_tensors_\u001b[0m\u001b[0;34m,\u001b[0m \u001b[0mretain_graph\u001b[0m\u001b[0;34m,\u001b[0m \u001b[0mcreate_graph\u001b[0m\u001b[0;34m,\u001b[0m \u001b[0minputs\u001b[0m\u001b[0;34m,\u001b[0m\u001b[0;34m\u001b[0m\u001b[0;34m\u001b[0m\u001b[0m\n\u001b[1;32m    147\u001b[0m         allow_unreachable=True, accumulate_grad=True)  # allow_unreachable flag\n",
      "\u001b[0;31mKeyboardInterrupt\u001b[0m: "
     ]
    }
   ],
   "source": [
    "wandb.watch(model)\n",
    "\n",
    "max_ssim = 0\n",
    "min_mae = 99999\n",
    "\n",
    "for epoch in range(EPOCH):\n",
    "        \n",
    "        loss_mse, loss_mae, loss_ssim = train_epoch(model, optimizer, trainloader, device)\n",
    "        score_ssim_train, score_psnr_train, score_snr_train, score_mae_train = eval_epoch(model, trainloader, device)\n",
    "        score_ssim_test, score_psnr_test, score_snr_test, score_mae_test = eval_epoch(model, testloader, device)\n",
    "\n",
    "        \n",
    "        wandb.log({\n",
    "            \"mse loss\": loss_mse,\n",
    "            \"ssim loss\": loss_ssim,\n",
    "            \"mae loss\": loss_mae,\n",
    "            \"trainset ssim score\": score_ssim_train,\n",
    "            \"trainset psnr score\": score_psnr_train,\n",
    "            \"trainset mae error\": score_mae_train,\n",
    "            \"trainset snr score\": score_snr_train,\n",
    "            \"testset mae error\": score_mae_test,\n",
    "            \"testset ssim score\": score_ssim_test,\n",
    "            \"testset psnr score\": score_psnr_test,\n",
    "            \"testset snr score\": score_snr_test\n",
    "        })\n",
    "        \n",
    "        \n",
    "        if min_mae < score_mae_test:\n",
    "            min_mae = score_mae_test\n",
    "            checkpoint = {\n",
    "                \"model\": model.state_dict(),\n",
    "                \"optimizer\": optimizer.state_dict()\n",
    "            }\n",
    "            torch.save(checkpoint, os.path.join(\"{}.pth\".format(wandb.run.name)))"
   ]
  },
  {
   "cell_type": "code",
   "execution_count": null,
   "metadata": {},
   "outputs": [],
   "source": []
  },
  {
   "cell_type": "code",
   "execution_count": null,
   "metadata": {
    "scrolled": true
   },
   "outputs": [],
   "source": [
    "# test_epoch(model, testloader, device)"
   ]
  },
  {
   "cell_type": "code",
   "execution_count": null,
   "metadata": {
    "scrolled": true
   },
   "outputs": [],
   "source": [
    "# test_epoch(model, trainloader, device)"
   ]
  },
  {
   "cell_type": "code",
   "execution_count": null,
   "metadata": {},
   "outputs": [],
   "source": []
  }
 ],
 "metadata": {
  "kernelspec": {
   "display_name": "Python 3",
   "language": "python",
   "name": "python3"
  },
  "language_info": {
   "codemirror_mode": {
    "name": "ipython",
    "version": 3
   },
   "file_extension": ".py",
   "mimetype": "text/x-python",
   "name": "python",
   "nbconvert_exporter": "python",
   "pygments_lexer": "ipython3",
   "version": "3.8.5"
  }
 },
 "nbformat": 4,
 "nbformat_minor": 5
}
