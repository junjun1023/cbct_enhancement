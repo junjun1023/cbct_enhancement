{
 "cells": [
  {
   "cell_type": "code",
   "execution_count": 1,
   "metadata": {},
   "outputs": [],
   "source": [
    "import os\n",
    "\n",
    "import torch\n",
    "import torch.nn as nn\n",
    "import torch.nn.functional as F\n",
    "import torch.optim as optim\n",
    "from torch.utils.data import DataLoader, Subset, ConcatDataset\n",
    "\n",
    "import cv2\n",
    "import numpy as np\n",
    "import pandas as pd\n",
    "from tqdm import tqdm\n",
    "import random"
   ]
  },
  {
   "cell_type": "code",
   "execution_count": 2,
   "metadata": {},
   "outputs": [],
   "source": [
    "import segmentation_models_pytorch as smp\n",
    "from segmentation_models_pytorch.losses import DiceLoss\n",
    "from segmentation_models_pytorch.utils.metrics import IoU, Fscore"
   ]
  },
  {
   "cell_type": "code",
   "execution_count": 3,
   "metadata": {},
   "outputs": [],
   "source": [
    "import matplotlib.pyplot as plt\n",
    "\n",
    "# helper function for data visualization\n",
    "def visualize(**images):\n",
    "    \"\"\"PLot images in one row.\"\"\"\n",
    "    n = len(images)\n",
    "    plt.figure(figsize=(16, 5))\n",
    "    for i, (name, image) in enumerate(images.items()):\n",
    "        plt.subplot(1, n, i + 1)\n",
    "        plt.xticks([])\n",
    "        plt.yticks([])\n",
    "        plt.title(' '.join(name.split('_')).title())\n",
    "        plt.imshow(image, 'gray')\n",
    "    plt.show()"
   ]
  },
  {
   "cell_type": "markdown",
   "metadata": {},
   "source": [
    "# Settings"
   ]
  },
  {
   "cell_type": "code",
   "execution_count": 4,
   "metadata": {},
   "outputs": [],
   "source": [
    "root = os.getcwd()\n",
    "device = torch.device(\"cuda:0\" if torch.cuda.is_available() else \"cpu\")\n",
    "\n",
    "BATCH = 4\n",
    "IN_CHANNELS = 1\n",
    "N_CLASSES = 1\n",
    "EPOCH =200\n",
    "\n",
    "WL=0\n",
    "WW=1000"
   ]
  },
  {
   "cell_type": "markdown",
   "metadata": {},
   "source": [
    "### Model Settings"
   ]
  },
  {
   "cell_type": "markdown",
   "metadata": {},
   "source": [
    "#### encoder"
   ]
  },
  {
   "cell_type": "code",
   "execution_count": 5,
   "metadata": {},
   "outputs": [],
   "source": [
    "ENCODER = \"resnet152\"\n",
    "ENCODER_WEIGHT = None"
   ]
  },
  {
   "cell_type": "markdown",
   "metadata": {},
   "source": [
    "#### decoder"
   ]
  },
  {
   "cell_type": "code",
   "execution_count": 6,
   "metadata": {},
   "outputs": [],
   "source": [
    "DECODER_ATT = None"
   ]
  },
  {
   "cell_type": "markdown",
   "metadata": {},
   "source": [
    "#### head"
   ]
  },
  {
   "cell_type": "code",
   "execution_count": 7,
   "metadata": {},
   "outputs": [],
   "source": [
    "ACT = None\n",
    "AUX_PARAM = None"
   ]
  },
  {
   "cell_type": "markdown",
   "metadata": {},
   "source": [
    "### Optimizer Settings"
   ]
  },
  {
   "cell_type": "code",
   "execution_count": 8,
   "metadata": {},
   "outputs": [],
   "source": [
    "OPTIM_NAME = \"sgd\"\n",
    "init_lr = 3e-4\n",
    "momentum = 0.9"
   ]
  },
  {
   "cell_type": "markdown",
   "metadata": {},
   "source": [
    "# Epochs"
   ]
  },
  {
   "cell_type": "code",
   "execution_count": 9,
   "metadata": {},
   "outputs": [],
   "source": [
    "from codes.losses import SSIMLoss\n",
    "from codes.losses import MAELoss\n",
    "from pytorch_msssim import ssim\n",
    "from codes.metrics import PSNR"
   ]
  },
  {
   "cell_type": "code",
   "execution_count": 10,
   "metadata": {},
   "outputs": [],
   "source": [
    "def train_epoch(model, optimizer, dataloader, device):\n",
    "  \n",
    "    # change mode to train and move to current device\n",
    "    model = model.train().to(device)\n",
    "\n",
    "    mse_l = 0\n",
    "    ssim_l = 0\n",
    "    mae_l = 0\n",
    "    for index, data in tqdm(enumerate(dataloader)):\n",
    "\n",
    "        x, y = data\n",
    "\n",
    "        x = x.to(device)\n",
    "        y = y.to(device)\n",
    "\n",
    "        y_pr = model(y)\n",
    "        \n",
    "        _mse = nn.MSELoss()(y_pr.float(), y.float())\n",
    "        _mae = MAELoss()(y_pr.float(), y.float())\n",
    "        _ssim =SSIMLoss()(y_pr, y, data_range=1, size_average=True) # return (N,)\n",
    "\n",
    "        _loss = _mse + _ssim + _mae\n",
    "                        \n",
    "        \n",
    "        optimizer.zero_grad()\n",
    "        _loss.backward()\n",
    "        optimizer.step()\n",
    "\n",
    "        mse_l += _mse.item()\n",
    "        ssim_l += _ssim.item()\n",
    "        mae_l += _mae.item()\n",
    "\n",
    "    return  mse_l/(index+1), mae_l/(index+1), ssim_l/(index+1)"
   ]
  },
  {
   "cell_type": "code",
   "execution_count": 11,
   "metadata": {},
   "outputs": [],
   "source": [
    "@torch.no_grad()\n",
    "def eval_epoch(model, dataloader, device):\n",
    "  \n",
    "    # change mode to train and move to current device\n",
    "    model = model.eval().to(device)\n",
    "\n",
    "    ssim_ = 0\n",
    "    psnr_ = 0\n",
    "    for index, data in tqdm(enumerate(dataloader)):\n",
    "\n",
    "        x, y = data\n",
    "\n",
    "        x = x.to(device)\n",
    "        y = y.to(device)\n",
    "\n",
    "        y_pr = model(y)\n",
    "        \n",
    "        _ssim = ssim(y, y_pr, data_range=1.0, size_average=True) # return (N,)\n",
    "        _psnr = PSNR()(y_pr, y, 1.0)\n",
    "\n",
    "        ssim_ += _ssim.item()\n",
    "        psnr_ += _psnr.item()\n",
    "\n",
    "    return  ssim_/(index+1), psnr_/(index+1)"
   ]
  },
  {
   "cell_type": "code",
   "execution_count": 12,
   "metadata": {},
   "outputs": [],
   "source": [
    "@torch.no_grad()\n",
    "def test_epoch(model, dataloader, device):\n",
    "  \n",
    "    # change mode to train and move to current device\n",
    "    model = model.eval().to(device)\n",
    "\n",
    "    ssim = 0\n",
    "    psnr = 0\n",
    "    for index, data in tqdm(enumerate(dataloader)):\n",
    "\n",
    "        x, y = data\n",
    "\n",
    "        x = x.to(device)\n",
    "        y = y.to(device)\n",
    "\n",
    "        y_pr = model(y)\n",
    "\n",
    "        x = x.squeeze().cpu().numpy()\n",
    "        y = y.squeeze().cpu().numpy()\n",
    "        y_pr = y_pr.squeeze().cpu().numpy() * 255\n",
    "        y_pr = y_pr.astype(np.uint8)\n",
    "\n",
    "        visualize(\n",
    "            cbct = x,\n",
    "            ct_y = y,\n",
    "            ct_pred = y_pr,\n",
    "        )"
   ]
  },
  {
   "cell_type": "markdown",
   "metadata": {},
   "source": [
    "# Read Data"
   ]
  },
  {
   "cell_type": "code",
   "execution_count": 13,
   "metadata": {},
   "outputs": [],
   "source": [
    "from codes.dataset import Dataset\n",
    "import codes.augmentation as aug"
   ]
  },
  {
   "cell_type": "code",
   "execution_count": 14,
   "metadata": {},
   "outputs": [],
   "source": [
    "train_case_path = 'data/train/*_*'\n",
    "test_case_path = 'data/test/*_*'"
   ]
  },
  {
   "cell_type": "code",
   "execution_count": 15,
   "metadata": {},
   "outputs": [],
   "source": [
    "trainset = Dataset(path=train_case_path, intensity_aug=aug.training_intensity_augmentation(), geometry_aug=aug.get_training_augmentation())\n",
    "testset = Dataset(test_case_path, intensity_aug=aug.validation_intensity_augmentation(), geometry_aug=aug.get_validation_augmentation())"
   ]
  },
  {
   "cell_type": "code",
   "execution_count": 16,
   "metadata": {},
   "outputs": [
    {
     "data": {
      "text/plain": [
       "(1344, 191)"
      ]
     },
     "execution_count": 16,
     "metadata": {},
     "output_type": "execute_result"
    }
   ],
   "source": [
    "len(trainset), len(testset)"
   ]
  },
  {
   "cell_type": "code",
   "execution_count": 17,
   "metadata": {},
   "outputs": [],
   "source": [
    "x, y = trainset[20]"
   ]
  },
  {
   "cell_type": "code",
   "execution_count": 18,
   "metadata": {},
   "outputs": [
    {
     "data": {
      "text/plain": [
       "0.0"
      ]
     },
     "execution_count": 18,
     "metadata": {},
     "output_type": "execute_result"
    }
   ],
   "source": [
    "np.min(x)"
   ]
  },
  {
   "cell_type": "code",
   "execution_count": 19,
   "metadata": {},
   "outputs": [
    {
     "data": {
      "text/plain": [
       "1.0"
      ]
     },
     "execution_count": 19,
     "metadata": {},
     "output_type": "execute_result"
    }
   ],
   "source": [
    "np.max(x)"
   ]
  },
  {
   "cell_type": "code",
   "execution_count": 20,
   "metadata": {},
   "outputs": [
    {
     "data": {
      "text/plain": [
       "(<matplotlib.image.AxesImage at 0x7fe643a363d0>,)"
      ]
     },
     "execution_count": 20,
     "metadata": {},
     "output_type": "execute_result"
    },
    {
     "data": {
      "image/png": "[encoded data removed]",
      "text/plain": [
       "<Figure size 432x288 with 1 Axes>"
      ]
     },
     "metadata": {
      "needs_background": "light"
     },
     "output_type": "display_data"
    }
   ],
   "source": [
    "plt.imshow(x.squeeze(), 'gray'),"
   ]
  },
  {
   "cell_type": "code",
   "execution_count": 21,
   "metadata": {},
   "outputs": [
    {
     "data": {
      "text/plain": [
       "<matplotlib.image.AxesImage at 0x7fe642ee24c0>"
      ]
     },
     "execution_count": 21,
     "metadata": {},
     "output_type": "execute_result"
    },
    {
     "data": {
      "image/png": "[encoded data removed]",
      "text/plain": [
       "<Figure size 432x288 with 1 Axes>"
      ]
     },
     "metadata": {
      "needs_background": "light"
     },
     "output_type": "display_data"
    }
   ],
   "source": [
    "plt.imshow(y.squeeze(), 'gray')"
   ]
  },
  {
   "cell_type": "code",
   "execution_count": 22,
   "metadata": {},
   "outputs": [
    {
     "data": {
      "text/plain": [
       "((1, 384, 384), (1, 384, 384))"
      ]
     },
     "execution_count": 22,
     "metadata": {},
     "output_type": "execute_result"
    }
   ],
   "source": [
    "x.shape, y.shape"
   ]
  },
  {
   "cell_type": "markdown",
   "metadata": {},
   "source": [
    "## Model"
   ]
  },
  {
   "cell_type": "code",
   "execution_count": 23,
   "metadata": {},
   "outputs": [],
   "source": [
    "class Model(nn.Module):\n",
    "    def __init__(self, encoder, decoder, head):\n",
    "        \n",
    "        super(Model, self).__init__()\n",
    "        \n",
    "        self.encoder = encoder\n",
    "        self.decoder = decoder\n",
    "        self.head = head\n",
    "        \n",
    "        \n",
    "    def forward(self, x):\n",
    "        \n",
    "        x = self.encoder(x)[-1]\n",
    "        x = self.decoder(*(None, None, None, None, x))\n",
    "        x = self.head(x)\n",
    "        \n",
    "        return x"
   ]
  },
  {
   "cell_type": "markdown",
   "metadata": {},
   "source": [
    "# Running"
   ]
  },
  {
   "cell_type": "code",
   "execution_count": 24,
   "metadata": {},
   "outputs": [
    {
     "name": "stderr",
     "output_type": "stream",
     "text": [
      "\u001b[34m\u001b[1mwandb\u001b[0m: Currently logged in as: \u001b[33mjunjun\u001b[0m (use `wandb login --relogin` to force relogin)\n",
      "\u001b[34m\u001b[1mwandb\u001b[0m: wandb version 0.12.9 is available!  To upgrade, please run:\n",
      "\u001b[34m\u001b[1mwandb\u001b[0m:  $ pip install wandb --upgrade\n"
     ]
    },
    {
     "data": {
      "text/html": [
       "\n",
       "                Tracking run with wandb version 0.12.2<br/>\n",
       "                Syncing run <strong style=\"color:#cdcd00\">royal-sunset-21</strong> to <a href=\"https://wandb.ai\" target=\"_blank\">Weights & Biases</a> <a href=\"https://docs.wandb.com/integrations/jupyter.html\" target=\"_blank\">(Documentation)</a>.<br/>\n",
       "                Project page: <a href=\"https://wandb.ai/junjun/ct_rebuild\" target=\"_blank\">https://wandb.ai/junjun/ct_rebuild</a><br/>\n",
       "                Run page: <a href=\"https://wandb.ai/junjun/ct_rebuild/runs/3qr2iaq7\" target=\"_blank\">https://wandb.ai/junjun/ct_rebuild/runs/3qr2iaq7</a><br/>\n",
       "                Run data is saved locally in <code>/home/june/cbct_enhancement/wandb/run-20220105_163346-3qr2iaq7</code><br/><br/>\n",
       "            "
      ],
      "text/plain": [
       "<IPython.core.display.HTML object>"
      ]
     },
     "metadata": {},
     "output_type": "display_data"
    },
    {
     "data": {
      "text/html": [
       "<h1>Run(3qr2iaq7)</h1><iframe src=\"https://wandb.ai/junjun/ct_rebuild/runs/3qr2iaq7\" style=\"border:none;width:100%;height:400px\"></iframe>"
      ],
      "text/plain": [
       "<wandb.sdk.wandb_run.Run at 0x7fe643620490>"
      ]
     },
     "execution_count": 24,
     "metadata": {},
     "output_type": "execute_result"
    }
   ],
   "source": [
    "import wandb\n",
    "\n",
    "wandb.init(project=\"ct_rebuild\", config={\n",
    "    \"data\": {\n",
    "        \"in_channels\": IN_CHANNELS,\n",
    "        \"out_channels\": N_CLASSES,\n",
    "        \"batchsize\": BATCH,\n",
    "    },\n",
    "    \"epochs\": EPOCH,\n",
    "    \"model\": {\n",
    "        \"optimizer\": OPTIM_NAME,\n",
    "        \"init_lr\": init_lr,\n",
    "        \"momentum\": momentum,\n",
    "        \"encoder\": ENCODER,\n",
    "        \"encoder_weight\": ENCODER_WEIGHT,\n",
    "        \"activation\": ACT,\n",
    "        \"decoder_attention_type\": DECODER_ATT\n",
    "    }\n",
    "})"
   ]
  },
  {
   "cell_type": "code",
   "execution_count": null,
   "metadata": {},
   "outputs": [],
   "source": []
  },
  {
   "cell_type": "code",
   "execution_count": 25,
   "metadata": {},
   "outputs": [],
   "source": [
    "trainloader = torch.utils.data.DataLoader(trainset, batch_size=BATCH, shuffle=True, num_workers=8)\n",
    "testloader = torch.utils.data.DataLoader(testset, batch_size=BATCH, shuffle=False, num_workers=4)"
   ]
  },
  {
   "cell_type": "code",
   "execution_count": 26,
   "metadata": {},
   "outputs": [],
   "source": [
    "import segmentation_models_pytorch as smp\n",
    "from codes.decoder import UnetDecoder\n",
    "from segmentation_models_pytorch.base.heads import SegmentationHead\n",
    "\n",
    "encoder = smp.Unet(encoder_name=ENCODER, encoder_weights=ENCODER_WEIGHT, in_channels=IN_CHANNELS, classes=N_CLASSES)\n",
    "encoder = encoder.encoder\n",
    "\n",
    "decoder = UnetDecoder(\n",
    "                            encoder_channels=[IN_CHANNELS, 0, 0, 0, 0, 2048],\n",
    "                            decoder_channels=[256, 128, 64, 32, 16],\n",
    "                            n_blocks=5,\n",
    "                            use_batchnorm=True,\n",
    "                            attention_type=DECODER_ATT)\n",
    "\n",
    "head = SegmentationHead(\n",
    "                        in_channels=16,\n",
    "                        out_channels=1,\n",
    "                        activation=None)\n",
    "\n",
    "\n",
    "model = Model(encoder, decoder, head)\n",
    "\n",
    "del encoder, decoder, head"
   ]
  },
  {
   "cell_type": "code",
   "execution_count": 27,
   "metadata": {},
   "outputs": [],
   "source": [
    "from codes.optimizer import Optimizer\n",
    "# optimizer = optim.SGD(model.parameters(), lr=init_lr, momentum=momentum)\n",
    "optimizer = Optimizer(model.parameters(), name=OPTIM_NAME, lr=init_lr)"
   ]
  },
  {
   "cell_type": "code",
   "execution_count": 28,
   "metadata": {
    "scrolled": true
   },
   "outputs": [
    {
     "name": "stderr",
     "output_type": "stream",
     "text": [
      "336it [02:45,  2.02it/s]\n",
      "336it [00:49,  6.82it/s]\n",
      "48it [00:07,  6.75it/s]\n",
      "336it [02:44,  2.04it/s]\n",
      "336it [00:46,  7.25it/s]\n",
      "48it [00:05,  8.25it/s]\n",
      "336it [02:54,  1.92it/s]\n",
      "336it [00:48,  6.93it/s]\n",
      "48it [00:06,  6.87it/s]\n",
      "336it [02:44,  2.04it/s]\n",
      "336it [00:48,  6.97it/s]\n",
      "48it [00:06,  6.86it/s]\n",
      "336it [02:44,  2.04it/s]\n",
      "336it [00:47,  7.06it/s]\n",
      "48it [00:07,  6.74it/s]\n",
      "336it [02:55,  1.92it/s]\n",
      "336it [00:48,  6.95it/s]\n",
      "48it [00:07,  6.75it/s]\n",
      "336it [02:44,  2.04it/s]\n",
      "336it [00:43,  7.64it/s]\n",
      "48it [00:06,  7.05it/s]\n",
      "336it [02:15,  2.48it/s]\n",
      "336it [00:32, 10.22it/s]\n",
      "48it [00:04, 10.16it/s]\n",
      "336it [01:52,  2.98it/s]\n",
      "336it [00:45,  7.43it/s]\n",
      "48it [00:07,  6.85it/s]\n",
      "336it [02:05,  2.68it/s]\n",
      "336it [00:48,  6.89it/s]\n",
      "48it [00:07,  6.75it/s]\n",
      "336it [02:44,  2.05it/s]\n",
      "336it [00:50,  6.71it/s]\n",
      "48it [00:06,  6.91it/s]\n",
      "336it [02:55,  1.92it/s]\n",
      "336it [00:48,  6.92it/s]\n",
      "48it [00:07,  6.75it/s]\n",
      "336it [02:45,  2.04it/s]\n",
      "336it [00:43,  7.64it/s]\n",
      "48it [00:07,  6.83it/s]\n",
      "336it [02:44,  2.04it/s]\n",
      "336it [00:48,  6.93it/s]\n",
      "48it [00:06,  6.88it/s]\n",
      "336it [02:55,  1.92it/s]\n",
      "336it [00:47,  7.11it/s]\n",
      "48it [00:07,  6.75it/s]\n",
      "336it [02:45,  2.03it/s]\n",
      "336it [00:48,  6.92it/s]\n",
      "48it [00:07,  6.65it/s]\n",
      "336it [02:45,  2.04it/s]\n",
      "336it [00:48,  6.93it/s]\n",
      "48it [00:06,  7.77it/s]\n",
      "336it [02:49,  1.98it/s]\n",
      "336it [00:49,  6.79it/s]\n",
      "48it [00:07,  6.74it/s]\n",
      "336it [02:38,  2.11it/s]\n",
      "336it [00:49,  6.80it/s]\n",
      "48it [00:07,  6.74it/s]\n",
      "336it [02:44,  2.05it/s]\n",
      "336it [00:49,  6.75it/s]\n",
      "48it [00:06,  7.08it/s]\n",
      "336it [02:55,  1.92it/s]\n",
      "336it [00:49,  6.82it/s]\n",
      "48it [00:07,  6.66it/s]\n",
      "336it [02:44,  2.05it/s]\n",
      "336it [00:49,  6.79it/s]\n",
      "48it [00:06,  7.38it/s]\n",
      "336it [02:44,  2.05it/s]\n",
      "336it [00:48,  6.91it/s]\n",
      "48it [00:06,  6.88it/s]\n",
      "336it [02:50,  1.97it/s]\n",
      "336it [00:48,  6.95it/s]\n",
      "48it [00:06,  6.89it/s]\n",
      "336it [02:39,  2.11it/s]\n",
      "336it [00:48,  6.98it/s]\n",
      "48it [00:06,  7.26it/s]\n",
      "336it [02:45,  2.03it/s]\n",
      "336it [00:47,  7.01it/s]\n",
      "48it [00:07,  6.75it/s]\n",
      "336it [02:54,  1.93it/s]\n",
      "336it [00:48,  6.88it/s]\n",
      "48it [00:07,  6.74it/s]\n",
      "336it [02:43,  2.05it/s]\n",
      "336it [00:49,  6.80it/s]\n",
      "48it [00:07,  6.75it/s]\n",
      "336it [02:43,  2.05it/s]\n",
      "336it [00:49,  6.82it/s]\n",
      "48it [00:07,  6.76it/s]\n",
      "336it [02:49,  1.99it/s]\n",
      "336it [00:49,  6.80it/s]\n",
      "48it [00:07,  6.68it/s]\n",
      "336it [02:43,  2.05it/s]\n",
      "336it [00:49,  6.80it/s]\n",
      "48it [00:07,  6.73it/s]\n",
      "336it [02:43,  2.05it/s]\n",
      "336it [00:49,  6.80it/s]\n",
      "48it [00:07,  6.77it/s]\n",
      "336it [02:48,  1.99it/s]\n",
      "336it [00:48,  6.96it/s]\n",
      "48it [00:07,  6.86it/s]\n",
      "336it [02:44,  2.04it/s]\n",
      "336it [00:48,  6.86it/s]\n",
      "48it [00:07,  6.74it/s]\n",
      "336it [02:40,  2.09it/s]\n",
      "336it [00:48,  6.96it/s]\n",
      "48it [00:06,  7.23it/s]\n",
      "336it [02:55,  1.92it/s]\n",
      "336it [00:47,  7.01it/s]\n",
      "48it [00:07,  6.74it/s]\n",
      "336it [02:43,  2.05it/s]\n",
      "336it [00:48,  6.96it/s]\n",
      "48it [00:07,  6.74it/s]\n",
      "336it [02:44,  2.04it/s]\n",
      "336it [00:48,  6.92it/s]\n",
      "48it [00:07,  6.75it/s]\n",
      "336it [02:55,  1.92it/s]\n",
      "336it [00:49,  6.78it/s]\n",
      "48it [00:07,  6.64it/s]\n",
      "336it [02:43,  2.05it/s]\n",
      "336it [00:41,  8.10it/s]\n",
      "48it [00:05,  9.29it/s]\n",
      "336it [02:43,  2.05it/s]\n",
      "336it [00:49,  6.79it/s]\n",
      "48it [00:07,  6.75it/s]\n",
      "336it [02:53,  1.94it/s]\n",
      "336it [00:49,  6.79it/s]\n",
      "48it [00:07,  6.74it/s]\n",
      "336it [02:44,  2.05it/s]\n",
      "336it [00:49,  6.83it/s]\n",
      "48it [00:07,  6.74it/s]\n",
      "336it [02:44,  2.04it/s]\n",
      "336it [00:48,  6.99it/s]\n",
      "48it [00:07,  6.76it/s]\n",
      "336it [02:55,  1.92it/s]\n",
      "336it [00:47,  7.00it/s]\n",
      "48it [00:06,  6.88it/s]\n",
      "336it [02:40,  2.09it/s]\n",
      "336it [00:47,  7.04it/s]\n",
      "48it [00:07,  6.74it/s]\n",
      "336it [02:45,  2.03it/s]\n",
      "336it [00:47,  7.05it/s]\n",
      "48it [00:07,  6.73it/s]\n",
      "336it [02:49,  1.98it/s]\n",
      "336it [00:49,  6.80it/s]\n",
      "48it [00:07,  6.67it/s]\n",
      "336it [02:43,  2.05it/s]\n",
      "336it [00:49,  6.80it/s]\n",
      "48it [00:07,  6.73it/s]\n",
      "336it [02:43,  2.05it/s]\n",
      "336it [00:49,  6.80it/s]\n",
      "48it [00:07,  6.75it/s]\n",
      "336it [02:51,  1.96it/s]\n",
      "336it [00:44,  7.53it/s]\n",
      "48it [00:07,  6.73it/s]\n",
      "336it [02:44,  2.05it/s]\n",
      "336it [00:49,  6.82it/s]\n",
      "48it [00:07,  6.76it/s]\n",
      "336it [02:44,  2.04it/s]\n",
      "336it [00:49,  6.84it/s]\n",
      "48it [00:07,  6.68it/s]\n",
      "336it [02:54,  1.92it/s]\n",
      "336it [00:48,  6.93it/s]\n",
      "48it [00:07,  6.85it/s]\n",
      "336it [02:44,  2.04it/s]\n",
      "336it [00:48,  6.98it/s]\n",
      "48it [00:06,  7.14it/s]\n",
      "336it [02:38,  2.11it/s]\n",
      "336it [00:47,  7.06it/s]\n",
      "48it [00:07,  6.74it/s]\n",
      "336it [02:51,  1.96it/s]\n",
      "336it [00:48,  6.95it/s]\n",
      "48it [00:07,  6.68it/s]\n",
      "336it [02:44,  2.04it/s]\n",
      "336it [00:48,  6.94it/s]\n",
      "48it [00:07,  6.74it/s]\n",
      "336it [02:43,  2.05it/s]\n",
      "336it [00:49,  6.80it/s]\n",
      "48it [00:07,  6.75it/s]\n",
      "336it [02:53,  1.93it/s]\n",
      "336it [00:49,  6.80it/s]\n",
      "48it [00:07,  6.76it/s]\n",
      "336it [02:44,  2.05it/s]\n",
      "336it [00:49,  6.83it/s]\n",
      "48it [00:07,  6.74it/s]\n",
      "336it [02:40,  2.09it/s]\n",
      "336it [00:48,  6.90it/s]\n",
      "48it [00:07,  6.67it/s]\n",
      "336it [02:54,  1.93it/s]\n",
      "336it [00:43,  7.72it/s]\n",
      "48it [00:06,  7.36it/s]\n",
      "336it [02:44,  2.04it/s]\n",
      "336it [00:48,  6.90it/s]\n",
      "48it [00:06,  6.87it/s]\n",
      "336it [02:45,  2.03it/s]\n",
      "336it [00:47,  7.02it/s]\n",
      "48it [00:06,  6.87it/s]\n",
      "336it [02:55,  1.92it/s]\n",
      "336it [00:48,  6.91it/s]\n",
      "48it [00:06,  6.92it/s]\n",
      "336it [02:45,  2.03it/s]\n",
      "336it [00:48,  6.96it/s]\n",
      "48it [00:06,  7.13it/s]\n",
      "336it [02:40,  2.09it/s]\n",
      "336it [00:48,  6.96it/s]\n",
      "48it [00:07,  6.75it/s]\n",
      "336it [02:53,  1.93it/s]\n",
      "336it [00:49,  6.80it/s]\n",
      "48it [00:07,  6.73it/s]\n",
      "336it [02:44,  2.05it/s]\n",
      "336it [00:49,  6.85it/s]\n",
      "48it [00:07,  6.74it/s]\n",
      "336it [02:39,  2.11it/s]\n",
      "336it [00:49,  6.82it/s]\n",
      "48it [00:07,  6.67it/s]\n",
      "336it [02:54,  1.92it/s]\n",
      "336it [00:49,  6.80it/s]\n",
      "48it [00:07,  6.74it/s]\n",
      "336it [02:38,  2.12it/s]\n",
      "336it [00:49,  6.80it/s]\n",
      "48it [00:07,  6.76it/s]\n",
      "336it [02:43,  2.05it/s]\n",
      "336it [00:48,  6.94it/s]\n",
      "48it [00:07,  6.86it/s]\n",
      "336it [02:55,  1.91it/s]\n",
      "336it [00:48,  6.89it/s]\n",
      "48it [00:06,  7.28it/s]\n",
      "336it [02:45,  2.03it/s]\n",
      "336it [00:47,  7.02it/s]\n",
      "48it [00:06,  6.93it/s]\n",
      "336it [02:45,  2.03it/s]\n",
      "336it [00:48,  6.99it/s]\n",
      "48it [00:07,  6.76it/s]\n",
      "336it [02:54,  1.92it/s]\n",
      "336it [00:46,  7.17it/s]\n",
      "48it [00:04,  9.75it/s]\n",
      "336it [02:37,  2.13it/s]\n",
      "336it [00:49,  6.86it/s]\n",
      "48it [00:07,  6.75it/s]\n",
      "336it [02:44,  2.04it/s]\n",
      "336it [00:49,  6.81it/s]\n",
      "48it [00:07,  6.67it/s]\n",
      "336it [02:53,  1.93it/s]\n",
      "336it [00:49,  6.80it/s]\n",
      "48it [00:07,  6.77it/s]\n",
      "336it [02:43,  2.05it/s]\n",
      "336it [00:49,  6.79it/s]\n",
      "48it [00:07,  6.75it/s]\n",
      "336it [02:43,  2.05it/s]\n",
      "336it [00:49,  6.80it/s]\n",
      "48it [00:07,  6.77it/s]\n",
      "336it [02:48,  1.99it/s]\n",
      "336it [00:48,  6.91it/s]\n",
      "48it [00:06,  6.87it/s]\n",
      "336it [02:45,  2.03it/s]\n",
      "336it [00:48,  6.95it/s]\n",
      "48it [00:07,  6.77it/s]\n",
      "336it [02:44,  2.05it/s]\n",
      "336it [00:44,  7.59it/s]\n",
      "48it [00:06,  6.92it/s]\n",
      "336it [02:54,  1.93it/s]\n",
      "336it [00:47,  7.01it/s]\n",
      "48it [00:07,  6.74it/s]\n",
      "336it [02:45,  2.03it/s]\n",
      "336it [00:47,  7.10it/s]\n",
      "48it [00:07,  6.75it/s]\n",
      "336it [02:44,  2.04it/s]\n",
      "336it [00:44,  7.51it/s]\n",
      "48it [00:07,  6.66it/s]\n",
      "336it [02:54,  1.92it/s]\n",
      "336it [00:49,  6.80it/s]\n",
      "48it [00:06,  6.92it/s]\n",
      "336it [02:44,  2.05it/s]\n",
      "336it [00:49,  6.80it/s]\n",
      "48it [00:07,  6.75it/s]\n",
      "336it [02:43,  2.05it/s]\n",
      "336it [00:49,  6.80it/s]\n",
      "48it [00:07,  6.75it/s]\n",
      "336it [02:54,  1.92it/s]\n",
      "336it [00:49,  6.85it/s]\n",
      "48it [00:07,  6.73it/s]\n",
      "336it [02:38,  2.12it/s]\n",
      "336it [00:48,  6.93it/s]\n",
      "48it [00:07,  6.75it/s]\n",
      "336it [02:39,  2.10it/s]\n",
      "336it [00:48,  6.90it/s]\n",
      "48it [00:06,  6.88it/s]\n",
      "336it [02:53,  1.93it/s]\n",
      "336it [00:48,  6.99it/s]\n",
      "48it [00:06,  7.15it/s]\n",
      "336it [02:45,  2.03it/s]\n",
      "336it [00:47,  7.11it/s]\n",
      "48it [00:07,  6.73it/s]\n",
      "336it [02:45,  2.03it/s]\n",
      "336it [00:48,  6.87it/s]\n",
      "48it [00:07,  6.68it/s]\n",
      "336it [02:54,  1.92it/s]\n",
      "336it [00:49,  6.86it/s]\n",
      "48it [00:07,  6.69it/s]\n",
      "336it [02:40,  2.10it/s]\n",
      "336it [00:48,  6.87it/s]\n",
      "48it [00:07,  6.76it/s]\n",
      "336it [02:43,  2.06it/s]\n",
      "336it [00:49,  6.80it/s]\n",
      "48it [00:07,  6.74it/s]\n",
      "336it [02:48,  1.99it/s]\n",
      "336it [00:49,  6.83it/s]\n",
      "48it [00:07,  6.75it/s]\n",
      "336it [02:44,  2.04it/s]\n",
      "336it [00:49,  6.82it/s]\n",
      "48it [00:07,  6.69it/s]\n",
      "336it [02:44,  2.05it/s]\n",
      "336it [00:49,  6.85it/s]\n",
      "48it [00:06,  6.86it/s]\n",
      "336it [02:52,  1.95it/s]\n",
      "336it [00:48,  6.95it/s]\n",
      "48it [00:06,  6.87it/s]\n",
      "336it [02:40,  2.10it/s]\n",
      "336it [00:47,  7.01it/s]\n",
      "48it [00:07,  6.85it/s]\n",
      "336it [02:45,  2.03it/s]\n",
      "336it [00:48,  6.86it/s]\n",
      "48it [00:06,  7.45it/s]\n",
      "336it [02:55,  1.91it/s]\n",
      "336it [00:47,  7.02it/s]\n",
      "48it [00:07,  6.70it/s]\n",
      "336it [02:38,  2.12it/s]\n",
      "336it [00:48,  6.88it/s]\n",
      "48it [00:07,  6.77it/s]\n",
      "336it [02:43,  2.05it/s]\n",
      "336it [00:49,  6.79it/s]\n",
      "48it [00:07,  6.73it/s]\n",
      "336it [02:50,  1.97it/s]\n",
      "336it [00:49,  6.84it/s]\n",
      "48it [00:07,  6.74it/s]\n",
      "336it [02:44,  2.04it/s]\n",
      "336it [00:49,  6.81it/s]\n",
      "48it [00:07,  6.68it/s]\n",
      "336it [02:43,  2.06it/s]\n",
      "336it [00:49,  6.80it/s]\n",
      "48it [00:07,  6.73it/s]\n",
      "336it [02:51,  1.95it/s]\n",
      "336it [00:49,  6.81it/s]\n",
      "48it [00:06,  7.11it/s]\n",
      "336it [02:44,  2.05it/s]\n",
      "336it [00:48,  6.91it/s]\n",
      "48it [00:06,  6.88it/s]\n",
      "336it [02:45,  2.03it/s]\n",
      "336it [00:44,  7.58it/s]\n",
      "48it [00:07,  6.77it/s]\n",
      "336it [02:47,  2.00it/s]\n",
      "336it [00:48,  6.97it/s]\n",
      "48it [00:05,  9.44it/s]\n",
      "336it [02:45,  2.03it/s]\n",
      "336it [00:48,  6.99it/s]\n",
      "48it [00:07,  6.75it/s]\n",
      "336it [02:44,  2.04it/s]\n",
      "336it [00:48,  6.96it/s]\n",
      "48it [00:07,  6.77it/s]\n",
      "336it [02:55,  1.92it/s]\n",
      "336it [00:49,  6.85it/s]\n",
      "48it [00:07,  6.76it/s]\n",
      "336it [02:44,  2.04it/s]\n",
      "336it [00:49,  6.80it/s]\n",
      "48it [00:07,  6.68it/s]\n",
      "336it [02:38,  2.11it/s]\n",
      "336it [00:49,  6.80it/s]\n",
      "48it [00:07,  6.77it/s]\n",
      "336it [02:54,  1.92it/s]\n",
      "336it [00:49,  6.80it/s]\n",
      "48it [00:07,  6.74it/s]\n",
      "336it [02:43,  2.05it/s]\n",
      "336it [00:47,  7.00it/s]\n",
      "48it [00:04,  9.80it/s]\n",
      "336it [02:53,  1.94it/s]\n",
      "336it [00:48,  6.88it/s]\n",
      "48it [00:06,  7.29it/s]\n",
      "336it [02:45,  2.03it/s]\n",
      "336it [00:47,  7.02it/s]\n",
      "48it [00:06,  6.97it/s]\n",
      "336it [02:40,  2.09it/s]\n",
      "336it [00:48,  6.97it/s]\n",
      "48it [00:06,  7.17it/s]\n",
      "336it [02:54,  1.92it/s]\n",
      "336it [00:48,  6.99it/s]\n",
      "48it [00:07,  6.75it/s]\n",
      "336it [02:45,  2.03it/s]\n",
      "336it [00:46,  7.17it/s]\n",
      "48it [00:07,  6.76it/s]\n",
      "336it [02:44,  2.04it/s]\n",
      "336it [00:49,  6.78it/s]\n",
      "48it [00:07,  6.69it/s]\n",
      "336it [02:54,  1.92it/s]\n",
      "336it [00:49,  6.79it/s]\n",
      "48it [00:06,  7.04it/s]\n",
      "336it [02:37,  2.13it/s]\n",
      "336it [00:49,  6.79it/s]\n",
      "48it [00:07,  6.75it/s]\n",
      "336it [02:38,  2.12it/s]\n",
      "336it [00:49,  6.80it/s]\n",
      "48it [00:07,  6.74it/s]\n",
      "336it [02:54,  1.92it/s]\n",
      "336it [00:49,  6.82it/s]\n",
      "48it [00:06,  7.34it/s]\n",
      "336it [02:45,  2.04it/s]\n",
      "336it [00:48,  6.92it/s]\n",
      "48it [00:07,  6.76it/s]\n",
      "336it [02:44,  2.04it/s]\n",
      "336it [00:48,  6.94it/s]\n",
      "48it [00:06,  6.87it/s]\n",
      "336it [02:55,  1.92it/s]\n",
      "336it [00:47,  7.02it/s]\n",
      "48it [00:07,  6.74it/s]\n",
      "336it [02:40,  2.09it/s]\n",
      "336it [00:47,  7.08it/s]\n",
      "48it [00:07,  6.73it/s]\n",
      "336it [02:45,  2.03it/s]\n",
      "336it [00:48,  6.88it/s]\n",
      "48it [00:06,  6.90it/s]\n",
      "336it [02:48,  2.00it/s]\n",
      "336it [00:49,  6.79it/s]\n",
      "48it [00:07,  6.76it/s]\n",
      "336it [02:43,  2.06it/s]\n",
      "336it [00:49,  6.80it/s]\n",
      "48it [00:07,  6.74it/s]\n",
      "336it [02:43,  2.05it/s]\n",
      "336it [00:49,  6.79it/s]\n",
      "48it [00:07,  6.72it/s]\n",
      "336it [01:57,  2.85it/s]\n",
      "336it [00:29, 11.21it/s]\n",
      "48it [00:04, 10.14it/s]\n",
      "336it [01:48,  3.09it/s]\n",
      "336it [00:32, 10.32it/s]\n",
      "48it [00:04, 10.14it/s]\n",
      "336it [01:48,  3.09it/s]\n",
      "336it [00:31, 10.72it/s]\n",
      "48it [00:04, 10.37it/s]\n",
      "336it [01:53,  2.95it/s]\n",
      "336it [00:31, 10.77it/s]\n",
      "48it [00:04, 10.39it/s]\n",
      "336it [01:49,  3.06it/s]\n",
      "336it [00:31, 10.71it/s]\n",
      "48it [00:03, 13.99it/s]\n",
      "336it [01:51,  3.02it/s]\n",
      "336it [00:30, 11.04it/s]\n",
      "48it [00:04, 10.13it/s]\n",
      "336it [01:48,  3.10it/s]\n",
      "336it [00:30, 10.94it/s]\n",
      "48it [00:04, 10.08it/s]\n",
      "336it [01:50,  3.05it/s]\n",
      "336it [00:31, 10.64it/s]\n",
      "48it [00:04, 10.19it/s]\n",
      "336it [01:48,  3.08it/s]\n",
      "336it [00:32, 10.23it/s]\n",
      "48it [00:04, 10.10it/s]\n",
      "336it [01:49,  3.06it/s]\n",
      "336it [00:32, 10.31it/s]\n",
      "48it [00:04, 10.12it/s]\n",
      "336it [01:49,  3.08it/s]\n",
      "336it [00:32, 10.24it/s]\n",
      "48it [00:04, 10.19it/s]\n",
      "336it [01:48,  3.08it/s]\n",
      "336it [00:29, 11.25it/s]\n",
      "48it [00:04, 10.14it/s]\n",
      "336it [01:52,  2.98it/s]\n",
      "336it [00:32, 10.19it/s]\n",
      "48it [00:03, 13.73it/s]\n",
      "336it [01:50,  3.05it/s]\n",
      "336it [00:31, 10.68it/s]\n",
      "48it [00:04, 10.35it/s]\n",
      "336it [01:50,  3.04it/s]\n",
      "336it [00:30, 10.86it/s]\n",
      "48it [00:04, 10.40it/s]\n",
      "336it [01:53,  2.97it/s]\n",
      "336it [00:30, 11.08it/s]\n",
      "48it [00:04, 10.12it/s]\n",
      "336it [01:50,  3.03it/s]\n",
      "336it [00:30, 11.14it/s]\n",
      "48it [00:04, 10.10it/s]\n",
      "336it [01:47,  3.12it/s]\n",
      "336it [00:30, 10.93it/s]\n",
      "48it [00:04, 10.10it/s]\n",
      "336it [01:51,  3.01it/s]\n",
      "336it [00:32, 10.21it/s]\n",
      "48it [00:04, 10.16it/s]\n",
      "336it [01:48,  3.09it/s]\n",
      "336it [00:32, 10.20it/s]\n",
      "48it [00:04, 10.16it/s]\n",
      "336it [01:48,  3.09it/s]\n",
      "336it [00:32, 10.22it/s]\n",
      "48it [00:04, 10.17it/s]\n",
      "336it [01:52,  2.98it/s]\n",
      "336it [00:32, 10.21it/s]\n",
      "48it [00:04, 10.12it/s]\n",
      "336it [01:45,  3.17it/s]\n",
      "336it [00:32, 10.20it/s]\n",
      "48it [00:04, 11.89it/s]\n",
      "336it [01:50,  3.05it/s]\n",
      "336it [00:31, 10.64it/s]\n",
      "48it [00:04, 10.36it/s]\n",
      "336it [01:53,  2.95it/s]\n",
      "336it [00:30, 10.94it/s]\n",
      "48it [00:04, 11.75it/s]\n",
      "336it [01:50,  3.05it/s]\n",
      "336it [00:30, 11.12it/s]\n",
      "48it [00:04, 10.19it/s]\n",
      "336it [01:50,  3.03it/s]\n",
      "336it [00:30, 11.03it/s]\n",
      "48it [00:04, 10.18it/s]\n",
      "336it [01:53,  2.97it/s]\n",
      "336it [00:32, 10.31it/s]\n",
      "48it [00:04, 10.18it/s]\n",
      "336it [01:45,  3.17it/s]\n",
      "336it [00:32, 10.19it/s]\n",
      "48it [00:04, 10.11it/s]\n",
      "336it [01:48,  3.08it/s]\n",
      "336it [00:32, 10.30it/s]\n",
      "48it [00:04, 10.13it/s]\n",
      "336it [01:50,  3.03it/s]\n",
      "336it [00:32, 10.22it/s]\n",
      "48it [00:04, 10.19it/s]\n",
      "336it [01:48,  3.09it/s]\n",
      "336it [00:32, 10.19it/s]\n",
      "48it [00:04, 10.08it/s]\n",
      "336it [01:48,  3.09it/s]\n",
      "336it [00:32, 10.31it/s]\n",
      "48it [00:03, 13.15it/s]\n",
      "336it [01:50,  3.03it/s]\n",
      "336it [00:31, 10.66it/s]\n",
      "48it [00:04, 10.42it/s]\n",
      "336it [01:50,  3.04it/s]\n",
      "336it [00:30, 10.89it/s]\n",
      "48it [00:04, 10.35it/s]\n",
      "336it [01:49,  3.06it/s]\n",
      "336it [00:31, 10.77it/s]\n",
      "48it [00:03, 13.57it/s]\n",
      "336it [01:54,  2.92it/s]\n",
      "336it [00:22, 14.92it/s]\n",
      "48it [00:02, 21.65it/s]\n",
      "336it [00:54,  6.15it/s]\n",
      "336it [00:15, 22.13it/s]\n",
      "48it [00:02, 21.72it/s]\n",
      "336it [00:54,  6.13it/s]\n",
      "336it [00:15, 22.23it/s]\n",
      "48it [00:02, 21.68it/s]\n",
      "336it [00:54,  6.13it/s]\n",
      "336it [00:15, 22.14it/s]\n",
      "48it [00:02, 21.53it/s]\n",
      "336it [00:54,  6.16it/s]\n",
      "336it [00:15, 22.11it/s]\n",
      "48it [00:02, 21.70it/s]\n",
      "336it [00:54,  6.15it/s]\n",
      "336it [00:15, 22.21it/s]\n",
      "48it [00:02, 21.68it/s]\n",
      "336it [00:54,  6.12it/s]\n",
      "336it [00:15, 22.20it/s]\n",
      "48it [00:02, 21.62it/s]\n",
      "336it [00:54,  6.15it/s]\n",
      "336it [00:15, 22.19it/s]\n",
      "48it [00:02, 21.61it/s]\n",
      "336it [00:54,  6.14it/s]\n",
      "336it [00:15, 22.18it/s]\n",
      "48it [00:02, 21.69it/s]\n",
      "336it [00:54,  6.13it/s]\n",
      "336it [00:15, 22.07it/s]\n",
      "48it [00:02, 21.65it/s]\n",
      "336it [00:54,  6.14it/s]\n",
      "336it [00:15, 22.13it/s]\n",
      "48it [00:02, 21.62it/s]\n",
      "336it [00:54,  6.13it/s]\n",
      "336it [00:15, 22.18it/s]\n",
      "48it [00:02, 21.70it/s]\n",
      "336it [00:54,  6.15it/s]\n",
      "336it [00:15, 22.19it/s]\n",
      "48it [00:02, 21.61it/s]\n",
      "336it [00:54,  6.13it/s]\n",
      "336it [00:15, 22.24it/s]\n",
      "48it [00:02, 21.67it/s]\n",
      "336it [00:54,  6.16it/s]\n",
      "336it [00:15, 22.18it/s]\n",
      "48it [00:02, 21.68it/s]\n",
      "336it [00:54,  6.14it/s]\n",
      "336it [00:15, 22.15it/s]\n",
      "48it [00:02, 21.66it/s]\n",
      "336it [00:54,  6.14it/s]\n",
      "336it [00:15, 22.23it/s]\n",
      "48it [00:02, 21.69it/s]\n",
      "336it [00:54,  6.12it/s]\n",
      "336it [00:15, 22.26it/s]\n",
      "48it [00:02, 21.71it/s]\n",
      "336it [00:54,  6.14it/s]\n",
      "336it [00:15, 22.24it/s]\n",
      "48it [00:02, 21.69it/s]\n",
      "336it [00:54,  6.14it/s]\n",
      "336it [00:15, 22.00it/s]\n",
      "48it [00:02, 21.69it/s]\n",
      "336it [00:54,  6.15it/s]\n",
      "336it [00:15, 22.21it/s]\n",
      "48it [00:02, 21.67it/s]\n",
      "336it [00:54,  6.14it/s]\n",
      "336it [00:15, 22.19it/s]\n",
      "48it [00:02, 21.70it/s]\n"
     ]
    }
   ],
   "source": [
    "wandb.watch(model)\n",
    "\n",
    "max_ssim = 0\n",
    "\n",
    "for epoch in range(EPOCH):\n",
    "        \n",
    "        loss_mse, loss_mae, loss_ssim = train_epoch(model, optimizer, trainloader, device)\n",
    "        score_ssim_train, score_psnr_train = eval_epoch(model, trainloader, device)\n",
    "        score_ssim_test, score_psnr_test = eval_epoch(model, testloader, device)\n",
    "\n",
    "        \n",
    "        wandb.log({\n",
    "            \"mse loss\": loss_mse,\n",
    "            \"mae loss\": loss_mae,\n",
    "            \"ssim loss\": loss_ssim,\n",
    "            \"trainset ssim score\": score_ssim_train,\n",
    "            \"trainset psnr score\": score_psnr_train,\n",
    "            \"testset ssim score\": score_ssim_test,\n",
    "            \"testset psnr score\": score_psnr_test\n",
    "        })\n",
    "        \n",
    "        \n",
    "        if score_ssim_test > max_ssim:\n",
    "            max_ssim = score_ssim_test\n",
    "            checkpoint = {\n",
    "                \"model\": model.state_dict(),\n",
    "                \"optimizer\": optimizer.state_dict()\n",
    "            }\n",
    "            torch.save(checkpoint, os.path.join(\"{}.pth\".format(wandb.run.name)))"
   ]
  },
  {
   "cell_type": "code",
   "execution_count": null,
   "metadata": {},
   "outputs": [],
   "source": []
  },
  {
   "cell_type": "code",
   "execution_count": null,
   "metadata": {},
   "outputs": [],
   "source": []
  },
  {
   "cell_type": "code",
   "execution_count": null,
   "metadata": {},
   "outputs": [],
   "source": []
  },
  {
   "cell_type": "code",
   "execution_count": null,
   "metadata": {},
   "outputs": [],
   "source": []
  },
  {
   "cell_type": "code",
   "execution_count": null,
   "metadata": {},
   "outputs": [],
   "source": []
  },
  {
   "cell_type": "code",
   "execution_count": null,
   "metadata": {},
   "outputs": [],
   "source": []
  },
  {
   "cell_type": "code",
   "execution_count": null,
   "metadata": {},
   "outputs": [],
   "source": []
  },
  {
   "cell_type": "code",
   "execution_count": null,
   "metadata": {},
   "outputs": [],
   "source": []
  },
  {
   "cell_type": "code",
   "execution_count": null,
   "metadata": {},
   "outputs": [],
   "source": []
  },
  {
   "cell_type": "code",
   "execution_count": null,
   "metadata": {},
   "outputs": [],
   "source": []
  },
  {
   "cell_type": "code",
   "execution_count": null,
   "metadata": {},
   "outputs": [],
   "source": []
  }
 ],
 "metadata": {
  "kernelspec": {
   "display_name": "Python 3",
   "language": "python",
   "name": "python3"
  },
  "language_info": {
   "codemirror_mode": {
    "name": "ipython",
    "version": 3
   },
   "file_extension": ".py",
   "mimetype": "text/x-python",
   "name": "python",
   "nbconvert_exporter": "python",
   "pygments_lexer": "ipython3",
   "version": "3.8.5"
  }
 },
 "nbformat": 4,
 "nbformat_minor": 5
}
